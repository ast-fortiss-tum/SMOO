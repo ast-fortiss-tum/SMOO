{
 "cells": [
  {
   "metadata": {},
   "cell_type": "code",
   "outputs": [],
   "execution_count": null,
   "source": [
    "import pandas as pd\n",
    "\n",
    "from _analysis_functions import QuestionStats, extract_aggregates, format_responses\n",
    "from _mappings import *"
   ],
   "id": "5a23f75dc1131a41"
  },
  {
   "metadata": {},
   "cell_type": "code",
   "outputs": [],
   "execution_count": null,
   "source": [
    "sheet = \"survey.csv\"\n",
    "df = pd.read_csv(sheet)"
   ],
   "id": "6790521207a3e988"
  },
  {
   "metadata": {},
   "cell_type": "markdown",
   "source": "### MNIST Analysis",
   "id": "98adf570251abbcc"
  },
  {
   "metadata": {},
   "cell_type": "code",
   "outputs": [],
   "execution_count": null,
   "source": [
    "mnist_responses = df[df.iloc[:,0]==7].iloc[:,1:31]\n",
    "mnist_responses = format_responses(mnist_responses)\n",
    "mnist_stats = [QuestionStats(mnist_question_mapping.get(i), mnist_responses[i]) for i in range(len(mnist_responses))]"
   ],
   "id": "9101ed440b4a8527"
  },
  {
   "metadata": {},
   "cell_type": "code",
   "outputs": [],
   "execution_count": null,
   "source": [
    "dj, sinv, smoo = mnist_stats[:10], mnist_stats[10:20], mnist_stats[20:]\n",
    "print(f\"N_evals: {mnist_stats[0].n_answers}\")\n",
    "print(\"Method, LabelP, BoundaryP, Invalid, Valid\")\n",
    "print(\"DJ\", \", \".join(f\"{v:.4f}\" for v in extract_aggregates(dj)))\n",
    "print(\"Sinv\", \", \".join(f\"{v:.4f}\" for v in extract_aggregates(sinv)))\n",
    "print(\"Smoo\", \", \".join(f\"{v:.4f}\" for v in extract_aggregates(smoo)))"
   ],
   "id": "246af5040beadebe"
  },
  {
   "metadata": {},
   "cell_type": "markdown",
   "source": "### FashionMNSIT Analysis",
   "id": "6cf103be9fc6bd20"
  },
  {
   "metadata": {},
   "cell_type": "code",
   "outputs": [],
   "execution_count": null,
   "source": [
    "fmnist_responses = df[df.iloc[:,104]==\"Trouser\"].iloc[:,105:135]\n",
    "fmnist_responses = format_responses(fmnist_responses)\n",
    "fmnist_stats = [QuestionStats(fmnist_question_mapping.get(i), fmnist_responses[i], answer_key_mapping=fmnist_answer_key_mapping) for i in range(len(fmnist_responses))]"
   ],
   "id": "bbb90a494445e319"
  },
  {
   "metadata": {},
   "cell_type": "code",
   "outputs": [],
   "execution_count": null,
   "source": [
    "dj, sinv, smoo = fmnist_stats[:10], fmnist_stats[10:20], fmnist_stats[20:]\n",
    "print(f\"N_evals: {fmnist_stats[0].n_answers}\")\n",
    "print(\"Method, LabelP, BoundaryP, Invalid, Valid\")\n",
    "print(\"DJ\", \", \".join(f\"{v:.4f}\" for v in extract_aggregates(dj)))\n",
    "print(\"Sinv\", \", \".join(f\"{v:.4f}\" for v in extract_aggregates(sinv)))\n",
    "print(\"Smoo\", \", \".join(f\"{v:.4f}\" for v in extract_aggregates(smoo)))"
   ],
   "id": "52526cf8fe0929a8"
  },
  {
   "metadata": {},
   "cell_type": "markdown",
   "source": "### SVHN Analysis",
   "id": "51ccc3016a83cf81"
  },
  {
   "metadata": {},
   "cell_type": "code",
   "outputs": [],
   "execution_count": null,
   "source": [
    "svhn_responses = df[df.iloc[:,31]==7].iloc[:,32:62]\n",
    "svhn_responses = format_responses(svhn_responses)\n",
    "svhn_stats = [QuestionStats(svhn_question_mapping.get(i), svhn_responses[i]) for i in range(len(svhn_responses))]"
   ],
   "id": "ce642f95d937d642"
  },
  {
   "metadata": {},
   "cell_type": "code",
   "outputs": [],
   "execution_count": null,
   "source": [
    "dj, sinv, smoo = svhn_stats[:10], svhn_stats[10:20], svhn_stats[20:]\n",
    "print(f\"N_evals: {svhn_stats[0].n_answers}\")\n",
    "print(\"Method, LabelP, BoundaryP, Invalid, Valid\")\n",
    "print(\"DJ\", \", \".join(f\"{v:.4f}\" for v in extract_aggregates(dj)))\n",
    "print(\"Sinv\", \", \".join(f\"{v:.4f}\" for v in extract_aggregates(sinv)))\n",
    "print(\"Smoo\", \", \".join(f\"{v:.4f}\" for v in extract_aggregates(smoo)))"
   ],
   "id": "c2bb828f11612f99"
  },
  {
   "metadata": {},
   "cell_type": "markdown",
   "source": "### CIFAR10 Analysis",
   "id": "ecd6d77e949c6ebb"
  },
  {
   "metadata": {},
   "cell_type": "code",
   "outputs": [],
   "execution_count": null,
   "source": [
    "cifar10_responses = df[df.iloc[:,83]==\"ship\"].iloc[:,84:104]\n",
    "cifar10_responses = format_responses(cifar10_responses)\n",
    "cifar10_stats = [QuestionStats(cifar10_question_mapping.get(i), cifar10_responses[i], answer_key_mapping=cifar10_answer_key_mapping) for i in range(len(cifar10_responses))]"
   ],
   "id": "554313b20450e59d"
  },
  {
   "metadata": {},
   "cell_type": "code",
   "outputs": [],
   "execution_count": null,
   "source": [
    "sinv, smoo = cifar10_stats[:10], cifar10_stats[10:20]\n",
    "print(f\"N_evals: {cifar10_stats[0].n_answers}\")\n",
    "print(\"Method, LabelP, BoundaryP, Invalid, Valid\")\n",
    "print(\"Sinv\", \", \".join(f\"{v:.4f}\" for v in extract_aggregates(sinv)))\n",
    "print(\"Smoo\", \", \".join(f\"{v:.4f}\" for v in extract_aggregates(smoo)))"
   ],
   "id": "1406e2f8faca0cb3"
  },
  {
   "metadata": {},
   "cell_type": "markdown",
   "source": "### ImageNet Analysis",
   "id": "538c2adb2e3de367"
  },
  {
   "metadata": {},
   "cell_type": "code",
   "outputs": [],
   "execution_count": null,
   "source": [
    "imagenet_responses = df[df.iloc[:,62]==\"hammerhead shark\"].iloc[:,63:83]\n",
    "imagenet_responses = format_responses(imagenet_responses)\n",
    "imagenet_stats = [QuestionStats(imagenet_question_mapping.get(i), imagenet_responses[i], answer_key_mapping=imagenet_answer_key_mapping) for i in range(len(imagenet_responses))]"
   ],
   "id": "a4baca46d79205fc"
  },
  {
   "metadata": {},
   "cell_type": "code",
   "outputs": [],
   "execution_count": null,
   "source": [
    "sinv, smoo = imagenet_stats[:10], imagenet_stats[10:20]\n",
    "print(f\"N_evals: {imagenet_stats[0].n_answers}\")\n",
    "print(\"Method, LabelP, BoundaryP, Invalid, Valid\")\n",
    "print(\"Sinv\", \", \".join(f\"{v:.4f}\" for v in extract_aggregates(sinv)))\n",
    "print(\"Smoo\", \", \".join(f\"{v:.4f}\" for v in extract_aggregates(smoo)))"
   ],
   "id": "5b39cf1599c7017d"
  }
 ],
 "metadata": {
  "kernelspec": {
   "display_name": "Python 3",
   "language": "python",
   "name": "python3"
  },
  "language_info": {
   "codemirror_mode": {
    "name": "ipython",
    "version": 2
   },
   "file_extension": ".py",
   "mimetype": "text/x-python",
   "name": "python",
   "nbconvert_exporter": "python",
   "pygments_lexer": "ipython2",
   "version": "2.7.6"
  }
 },
 "nbformat": 4,
 "nbformat_minor": 5
}
