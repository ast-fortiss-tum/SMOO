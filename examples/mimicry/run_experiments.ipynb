{
 "cells": [
  {
   "cell_type": "code",
   "id": "initial_id",
   "metadata": {
    "collapsed": true
   },
   "source": [
    "from run_experiment import main as run_experiment\n",
    "import wandb\n",
    "\n",
    "wandb.login()  # This can be removed if wandb is not used for logging.\n",
    "# enable_logging()  # This allows for better logging in notebooks, but is very verbose."
   ],
   "outputs": [],
   "execution_count": null
  },
  {
   "metadata": {},
   "cell_type": "markdown",
   "source": "### Targeted Boundary Testing",
   "id": "879b1feae82d5c40"
  },
  {
   "metadata": {},
   "cell_type": "code",
   "source": "run_experiment(dataset=\"MNIST\", objective=\"ubt\", predictor=\"wrn\", generator=\"sg2\", mix_dims=(0,8))",
   "id": "46e5c61c505b7c0a",
   "outputs": [],
   "execution_count": null
  },
  {
   "metadata": {},
   "cell_type": "code",
   "source": "run_experiment(dataset=\"FashionMNIST\", objective=\"ubt\", predictor=\"wrn\", generator=\"sg2\", mix_dims=(0,8))",
   "id": "3a53abb9a0d977da",
   "outputs": [],
   "execution_count": null
  },
  {
   "metadata": {},
   "cell_type": "code",
   "source": "run_experiment(dataset=\"SVHN\", objective=\"ubt\", predictor=\"wrn\", generator=\"sg2\", mix_dims=(0,8))",
   "id": "5f512adb119ca2aa",
   "outputs": [],
   "execution_count": null
  },
  {
   "metadata": {},
   "cell_type": "code",
   "source": "run_experiment(dataset=\"CIFAR10\", objective=\"ubt\", predictor=\"wrn\", generator=\"sg2\", mix_dims=(0,8))",
   "id": "f9e208fdfe1f995d",
   "outputs": [],
   "execution_count": null
  },
  {
   "metadata": {},
   "cell_type": "code",
   "source": "run_experiment(dataset=\"Imagenet\", objective=\"ubt\", predictor=\"wrn\", generator=\"sgXL\", mix_dims=(1,15), run_experiments_separately=True)",
   "id": "163dd34d45cb6323",
   "outputs": [],
   "execution_count": null
  },
  {
   "metadata": {},
   "cell_type": "markdown",
   "source": "### Targeted Boundary Testing with Genome Diversity Constraint",
   "id": "f052725a5526cc6a"
  },
  {
   "metadata": {},
   "cell_type": "code",
   "source": "run_experiment(dataset=\"MNIST\", objective=\"ubtgn\", predictor=\"wrn\", generator=\"sg2\", mix_dims=(0, 8))",
   "id": "67e35ae7c9685d54",
   "outputs": [],
   "execution_count": null
  },
  {
   "metadata": {},
   "cell_type": "code",
   "source": "run_experiment(dataset=\"FashionMNIST\", objective=\"ubtgn\", predictor=\"wrn\", generator=\"sg2\", mix_dims=(0,8))",
   "id": "e2e8b19f5d7d96a5",
   "outputs": [],
   "execution_count": null
  },
  {
   "metadata": {},
   "cell_type": "code",
   "source": "run_experiment(dataset=\"SVHN\", objective=\"ubtgn\", predictor=\"wrn\", generator=\"sg2\", mix_dims=(0,8))",
   "id": "dff68ab61c890e85",
   "outputs": [],
   "execution_count": null
  },
  {
   "metadata": {},
   "cell_type": "code",
   "source": "run_experiment(dataset=\"CIFAR10\", objective=\"ubtgn\", predictor=\"wrn\", generator=\"sg2\", mix_dims=(0,8))",
   "id": "b9c324db1d55d19c",
   "outputs": [],
   "execution_count": null
  },
  {
   "metadata": {},
   "cell_type": "code",
   "source": "run_experiment(dataset=\"Imagenet\", objective=\"ubtgn\", predictor=\"wrn\", generator=\"sgXL\", mix_dims=(1,15), run_experiments_separately=True)",
   "id": "79cb5c0bf2d48498",
   "outputs": [],
   "execution_count": null
  }
 ],
 "metadata": {
  "kernelspec": {
   "display_name": "Python 3",
   "language": "python",
   "name": "python3"
  },
  "language_info": {
   "codemirror_mode": {
    "name": "ipython",
    "version": 2
   },
   "file_extension": ".py",
   "mimetype": "text/x-python",
   "name": "python",
   "nbconvert_exporter": "python",
   "pygments_lexer": "ipython2",
   "version": "2.7.6"
  }
 },
 "nbformat": 4,
 "nbformat_minor": 5
}
