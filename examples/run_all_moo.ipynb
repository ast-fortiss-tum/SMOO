{
 "cells": [
  {
   "cell_type": "code",
   "id": "initial_id",
   "metadata": {
    "collapsed": true,
    "ExecuteTime": {
     "end_time": "2025-01-14T07:45:27.059391Z",
     "start_time": "2025-01-14T07:45:25.107431Z"
    }
   },
   "source": [
    "from run_experiment import main as run_experiment\n",
    "import wandb\n",
    "wandb.login()"
   ],
   "outputs": [
    {
     "name": "stderr",
     "output_type": "stream",
     "text": [
      "\u001B[34m\u001B[1mwandb\u001B[0m: Currently logged in as: \u001B[33moliverweissl\u001B[0m. Use \u001B[1m`wandb login --relogin`\u001B[0m to force relogin\n"
     ]
    },
    {
     "data": {
      "text/plain": [
       "True"
      ]
     },
     "execution_count": 1,
     "metadata": {},
     "output_type": "execute_result"
    }
   ],
   "execution_count": 1
  },
  {
   "metadata": {},
   "cell_type": "markdown",
   "source": "### Targeted Boundary Testing",
   "id": "97c6c72962c78766"
  },
  {
   "metadata": {},
   "cell_type": "code",
   "source": "run_experiment(dataset=\"MNIST\", objective=\"tbt\", predictor=\"wrn\", generator=\"sg2\", mix_dims=(0,8))",
   "id": "33ab0d26506c0ef0",
   "outputs": [],
   "execution_count": null
  },
  {
   "metadata": {},
   "cell_type": "code",
   "source": "#run_experiment(dataset=\"MNIST\", objective=\"tbt\", predictor=\"wrn\", generator=\"sg3\", mix_dims=(1,15))",
   "id": "f3a461c065bbc28b",
   "outputs": [],
   "execution_count": null
  },
  {
   "metadata": {},
   "cell_type": "code",
   "source": "run_experiment(dataset=\"FashionMNIST\", objective=\"tbt\", predictor=\"wrn\", generator=\"sg2\", mix_dims=(0,8))",
   "id": "9b81b0707939ce9",
   "outputs": [],
   "execution_count": null
  },
  {
   "metadata": {},
   "cell_type": "code",
   "source": "run_experiment(dataset=\"SVHN\", objective=\"tbt\", predictor=\"wrn\", generator=\"sg2\", mix_dims=(0,8))",
   "id": "c42312d9991c08cf",
   "outputs": [],
   "execution_count": null
  },
  {
   "metadata": {},
   "cell_type": "code",
   "source": "run_experiment(dataset=\"CIFAR10\", objective=\"tbt\", predictor=\"wrn\", generator=\"sg2\", mix_dims=(0,8))",
   "id": "7bb6cf52b404ecbd",
   "outputs": [],
   "execution_count": null
  },
  {
   "metadata": {},
   "cell_type": "code",
   "source": "#run_experiment(dataset=\"CIFAR10\", objective=\"tbt\", predictor=\"wrn\", generator=\"sgXL\", mix_dims=(1,15))",
   "id": "3b0769a83282f08",
   "outputs": [],
   "execution_count": null
  },
  {
   "metadata": {},
   "cell_type": "code",
   "source": "#run_experiment(dataset=\"Imagenet\", objective=\"tbt\", predictor=\"wrn\", generator=\"sgXL\", mix_dims=(1,15))",
   "id": "768746a39a84e3d6",
   "outputs": [],
   "execution_count": null
  },
  {
   "metadata": {},
   "cell_type": "markdown",
   "source": "### Adversarial Boundary Testing",
   "id": "59bcb50cd7edbcce"
  },
  {
   "metadata": {},
   "cell_type": "code",
   "source": "run_experiment(dataset=\"MNIST\", objective=\"abt\", predictor=\"wrn\", generator=\"sg2\", mix_dims=(0,8))",
   "id": "c7044ce4e7b1f664",
   "outputs": [],
   "execution_count": null
  },
  {
   "metadata": {},
   "cell_type": "code",
   "source": "run_experiment(dataset=\"FashionMNIST\", objective=\"abt\", predictor=\"wrn\", generator=\"sg2\", mix_dims=(0,8))",
   "id": "1ec1f4681c3582be",
   "outputs": [],
   "execution_count": null
  },
  {
   "metadata": {},
   "cell_type": "code",
   "source": "run_experiment(dataset=\"SVHN\", objective=\"abt\", predictor=\"wrn\", generator=\"sg2\", mix_dims=(0,8))",
   "id": "e2472fcbbb12d0c1",
   "outputs": [],
   "execution_count": null
  },
  {
   "metadata": {},
   "cell_type": "code",
   "source": "run_experiment(dataset=\"CIFAR10\", objective=\"abt\", predictor=\"wrn\", generator=\"sg2\", mix_dims=(0,8))",
   "id": "76567031ee14abd7",
   "outputs": [],
   "execution_count": null
  },
  {
   "metadata": {},
   "cell_type": "markdown",
   "source": "### Advesarial Testing",
   "id": "65c15df47f555017"
  },
  {
   "metadata": {
    "jupyter": {
     "is_executing": true
    },
    "ExecuteTime": {
     "start_time": "2025-01-14T07:45:39.974483Z"
    }
   },
   "cell_type": "code",
   "source": "run_experiment(dataset=\"MNIST\", objective=\"uat\", predictor=\"wrn\", generator=\"sg2\", mix_dims=(0,8))",
   "id": "bc6bdc80060c85b7",
   "outputs": [
    {
     "name": "stdout",
     "output_type": "stream",
     "text": [
      "Setting up PyTorch plugin \"bias_act_plugin\"... Done.\n",
      "Setting up PyTorch plugin \"upfirdn2d_plugin\"... Done.\n"
     ]
    }
   ],
   "execution_count": null
  },
  {
   "metadata": {},
   "cell_type": "code",
   "source": "#run_experiment(dataset=\"MNIST\", objective=\"uat\", predictor=\"wrn\", generator=\"sg3\", mix_dims=(1,15))",
   "id": "bbb282661f1848d9",
   "outputs": [],
   "execution_count": null
  },
  {
   "metadata": {},
   "cell_type": "code",
   "source": "run_experiment(dataset=\"FashionMNIST\", objective=\"uat\", predictor=\"wrn\", generator=\"sg2\", mix_dims=(0,8))",
   "id": "d1280a8d923f39a",
   "outputs": [],
   "execution_count": null
  },
  {
   "metadata": {},
   "cell_type": "code",
   "source": "run_experiment(dataset=\"SVHN\", objective=\"uat\", predictor=\"wrn\", generator=\"sg2\", mix_dims=(0,8))",
   "id": "b8aba8560e1d3c70",
   "outputs": [],
   "execution_count": null
  },
  {
   "metadata": {},
   "cell_type": "code",
   "source": "run_experiment(dataset=\"CIFAR10\", objective=\"uat\", predictor=\"wrn\", generator=\"sg2\", mix_dims=(0,8))",
   "id": "536423362e4c1676",
   "outputs": [],
   "execution_count": null
  },
  {
   "metadata": {},
   "cell_type": "code",
   "source": "#run_experiment(dataset=\"CIFAR10\", objective=\"uat\", predictor=\"wrn\", generator=\"sgXL\", mix_dims=(1,15))",
   "id": "f629ca52ae023c4b",
   "outputs": [],
   "execution_count": null
  },
  {
   "metadata": {},
   "cell_type": "code",
   "source": "#run_experiment(dataset=\"Imagenet\", objective=\"uat\", predictor=\"wrn\", generator=\"sgXL\", mix_dims=(1,15))",
   "id": "bf7a7b489a897777",
   "outputs": [],
   "execution_count": null
  },
  {
   "metadata": {},
   "cell_type": "markdown",
   "source": "### Diversity Sampling",
   "id": "58544e95ae7b9eaf"
  },
  {
   "metadata": {},
   "cell_type": "code",
   "source": "run_experiment(dataset=\"MNIST\", objective=\"ds\", predictor=\"wrn\", generator=\"sg2\", mix_dims=(0,8))",
   "id": "660fc9fb34c9637c",
   "outputs": [],
   "execution_count": null
  },
  {
   "metadata": {},
   "cell_type": "code",
   "source": "#run_experiment(dataset=\"MNIST\", objective=\"ds\", predictor=\"wrn\", generator=\"sg3\", mix_dims=(1,15))",
   "id": "21266feb4b8bae5a",
   "outputs": [],
   "execution_count": null
  },
  {
   "metadata": {},
   "cell_type": "code",
   "source": "run_experiment(dataset=\"FashionMNIST\", objective=\"ds\", predictor=\"wrn\", generator=\"sg2\", mix_dims=(0,8))",
   "id": "550cb84fb149a967",
   "outputs": [],
   "execution_count": null
  },
  {
   "metadata": {},
   "cell_type": "code",
   "source": "run_experiment(dataset=\"SVHN\", objective=\"ds\", predictor=\"wrn\", generator=\"sg2\", mix_dims=(0,8))",
   "id": "dd4ae068ce8572a",
   "outputs": [],
   "execution_count": null
  },
  {
   "metadata": {},
   "cell_type": "code",
   "source": "run_experiment(dataset=\"CIFAR10\", objective=\"ds\", predictor=\"wrn\", generator=\"sg2\", mix_dims=(0,8))",
   "id": "6d4dfa4e5cd614b",
   "outputs": [],
   "execution_count": null
  },
  {
   "metadata": {},
   "cell_type": "code",
   "source": "#run_experiment(dataset=\"CIFAR10\", objective=\"ds\", predictor=\"wrn\", generator=\"sgXL\", mix_dims=(1,15))",
   "id": "634aa9927b201b5f",
   "outputs": [],
   "execution_count": null
  },
  {
   "metadata": {},
   "cell_type": "code",
   "source": "#run_experiment(dataset=\"Imagenet\", objective=\"ds\", predictor=\"wrn\", generator=\"sgXL\", mix_dims=(1,15))",
   "id": "3571011185f8b503",
   "outputs": [],
   "execution_count": null
  }
 ],
 "metadata": {
  "kernelspec": {
   "display_name": "Python 3",
   "language": "python",
   "name": "python3"
  },
  "language_info": {
   "codemirror_mode": {
    "name": "ipython",
    "version": 2
   },
   "file_extension": ".py",
   "mimetype": "text/x-python",
   "name": "python",
   "nbconvert_exporter": "python",
   "pygments_lexer": "ipython2",
   "version": "2.7.6"
  }
 },
 "nbformat": 4,
 "nbformat_minor": 5
}
