{
 "cells": [
  {
   "cell_type": "code",
   "id": "initial_id",
   "metadata": {
    "collapsed": true,
    "ExecuteTime": {
     "end_time": "2024-12-19T15:26:11.175268Z",
     "start_time": "2024-12-19T15:26:11.171949Z"
    }
   },
   "source": [
    "from run_experiment import main as run_experiment\n",
    "import wandb\n",
    "wandb.login()"
   ],
   "outputs": [
    {
     "data": {
      "text/plain": [
       "True"
      ]
     },
     "execution_count": 4,
     "metadata": {},
     "output_type": "execute_result"
    }
   ],
   "execution_count": 4
  },
  {
   "metadata": {
    "ExecuteTime": {
     "end_time": "2024-12-19T15:26:11.185605Z",
     "start_time": "2024-12-19T15:26:11.177175Z"
    }
   },
   "cell_type": "code",
   "source": [
    "from IPython.core.magic import register_cell_magic\n",
    "\n",
    "@register_cell_magic('handle')\n",
    "def handle(line, cell):\n",
    "    try:\n",
    "        exec(cell)\n",
    "    except Exception as e:\n",
    "       print(f\"Failed to execute cell: {e}\")"
   ],
   "id": "7781e5fb8fdc33ff",
   "outputs": [],
   "execution_count": 5
  },
  {
   "metadata": {},
   "cell_type": "markdown",
   "source": "### Targeted Boundary Testing",
   "id": "97c6c72962c78766"
  },
  {
   "metadata": {
    "jupyter": {
     "is_executing": true
    },
    "ExecuteTime": {
     "start_time": "2024-12-19T15:26:11.221180Z"
    }
   },
   "cell_type": "code",
   "source": [
    "%%handle\n",
    "run_experiment(dataset=\"MNIST\", objective=\"tbt\", predictor=\"wrn\", generator=\"sg2\", mix_dims=(0,8))"
   ],
   "id": "33ab0d26506c0ef0",
   "outputs": [
    {
     "name": "stdout",
     "output_type": "stream",
     "text": [
      "Setting up PyTorch plugin \"bias_act_plugin\"... Done.\n",
      "Setting up PyTorch plugin \"upfirdn2d_plugin\"... Done.\n"
     ]
    }
   ],
   "execution_count": null
  },
  {
   "metadata": {
    "ExecuteTime": {
     "end_time": "2024-12-19T15:26:05.923157Z",
     "start_time": "2024-12-19T15:26:05.921151Z"
    }
   },
   "cell_type": "code",
   "source": [
    "%%handle\n",
    "run_experiment(dataset=\"MNIST\", objective=\"tbt\", predictor=\"wrn\", generator=\"sg3\", mix_dims=(1,15))"
   ],
   "id": "f3a461c065bbc28b",
   "outputs": [
    {
     "name": "stderr",
     "output_type": "stream",
     "text": [
      "UsageError: Cell magic `%%handle` not found.\n"
     ]
    }
   ],
   "execution_count": 2
  },
  {
   "metadata": {},
   "cell_type": "code",
   "outputs": [],
   "execution_count": null,
   "source": [
    "%%handle\n",
    "run_experiment(dataset=\"FashionMNIST\", objective=\"tbt\", predictor=\"wrn\", generator=\"sg2\", mix_dims=(0,8))"
   ],
   "id": "9b81b0707939ce9"
  },
  {
   "metadata": {},
   "cell_type": "code",
   "outputs": [],
   "execution_count": null,
   "source": [
    "%%handle\n",
    "run_experiment(dataset=\"SVHN\", objective=\"tbt\", predictor=\"wrn\", generator=\"sg2\", mix_dims=(0,8))"
   ],
   "id": "c42312d9991c08cf"
  },
  {
   "metadata": {},
   "cell_type": "code",
   "outputs": [],
   "execution_count": null,
   "source": [
    "%%handle\n",
    "run_experiment(dataset=\"CIFAR10\", objective=\"tbt\", predictor=\"wrn\", generator=\"sg2\", mix_dims=(0,8))"
   ],
   "id": "7bb6cf52b404ecbd"
  },
  {
   "metadata": {},
   "cell_type": "code",
   "outputs": [],
   "execution_count": null,
   "source": [
    "%%handle\n",
    "run_experiment(dataset=\"CIFAR10\", objective=\"tbt\", predictor=\"wrn\", generator=\"sgXL\", mix_dims=(1,15))"
   ],
   "id": "3b0769a83282f08"
  },
  {
   "metadata": {},
   "cell_type": "markdown",
   "source": "### Advesarial Testing",
   "id": "65c15df47f555017"
  },
  {
   "metadata": {},
   "cell_type": "code",
   "source": [
    "%%handle\n",
    "run_experiment(dataset=\"MNIST\", objective=\"uat\", predictor=\"wrn\", generator=\"sg2\", mix_dims=(0,8))"
   ],
   "id": "bc6bdc80060c85b7",
   "outputs": [],
   "execution_count": null
  },
  {
   "metadata": {},
   "cell_type": "code",
   "outputs": [],
   "execution_count": null,
   "source": [
    "%%handle\n",
    "run_experiment(dataset=\"MNIST\", objective=\"uat\", predictor=\"wrn\", generator=\"sg3\", mix_dims=(1,15))"
   ],
   "id": "bbb282661f1848d9"
  },
  {
   "metadata": {},
   "cell_type": "code",
   "outputs": [],
   "execution_count": null,
   "source": [
    "%%handle\n",
    "run_experiment(dataset=\"FashionMNIST\", objective=\"uat\", predictor=\"wrn\", generator=\"sg2\", mix_dims=(0,8))"
   ],
   "id": "d1280a8d923f39a"
  },
  {
   "metadata": {},
   "cell_type": "code",
   "outputs": [],
   "execution_count": null,
   "source": [
    "%%handle\n",
    "run_experiment(dataset=\"SVHN\", objective=\"uat\", predictor=\"wrn\", generator=\"sg2\", mix_dims=(0,8))"
   ],
   "id": "b8aba8560e1d3c70"
  },
  {
   "metadata": {},
   "cell_type": "code",
   "outputs": [],
   "execution_count": null,
   "source": [
    "%%handle\n",
    "run_experiment(dataset=\"CIFAR10\", objective=\"uat\", predictor=\"wrn\", generator=\"sg2\", mix_dims=(0,8))"
   ],
   "id": "536423362e4c1676"
  },
  {
   "metadata": {},
   "cell_type": "code",
   "outputs": [],
   "execution_count": null,
   "source": [
    "%%handle\n",
    "run_experiment(dataset=\"CIFAR10\", objective=\"uat\", predictor=\"wrn\", generator=\"sgXL\", mix_dims=(1,15))"
   ],
   "id": "f629ca52ae023c4b"
  },
  {
   "metadata": {},
   "cell_type": "markdown",
   "source": "### Diversity Sampling",
   "id": "58544e95ae7b9eaf"
  },
  {
   "metadata": {},
   "cell_type": "code",
   "source": [
    "%%handle\n",
    "run_experiment(dataset=\"MNIST\", objective=\"ds\", predictor=\"wrn\", generator=\"sg2\", mix_dims=(0,8))"
   ],
   "id": "660fc9fb34c9637c",
   "outputs": [],
   "execution_count": null
  },
  {
   "metadata": {},
   "cell_type": "code",
   "source": [
    "%%handle\n",
    "run_experiment(dataset=\"MNIST\", objective=\"ds\", predictor=\"wrn\", generator=\"sg3\", mix_dims=(1,15))"
   ],
   "id": "21266feb4b8bae5a",
   "outputs": [],
   "execution_count": null
  },
  {
   "metadata": {},
   "cell_type": "code",
   "outputs": [],
   "execution_count": null,
   "source": [
    "%%handle\n",
    "run_experiment(dataset=\"FashionMNIST\", objective=\"ds\", predictor=\"wrn\", generator=\"sg2\", mix_dims=(0,8))"
   ],
   "id": "550cb84fb149a967"
  },
  {
   "metadata": {},
   "cell_type": "code",
   "outputs": [],
   "execution_count": null,
   "source": [
    "%%handle\n",
    "run_experiment(dataset=\"SVHN\", objective=\"ds\", predictor=\"wrn\", generator=\"sg2\", mix_dims=(0,8))"
   ],
   "id": "dd4ae068ce8572a"
  },
  {
   "metadata": {},
   "cell_type": "code",
   "outputs": [],
   "execution_count": null,
   "source": [
    "%%handle\n",
    "run_experiment(dataset=\"CIFAR10\", objective=\"ds\", predictor=\"wrn\", generator=\"sg2\", mix_dims=(0,8))"
   ],
   "id": "6d4dfa4e5cd614b"
  },
  {
   "metadata": {},
   "cell_type": "code",
   "outputs": [],
   "execution_count": null,
   "source": [
    "%%handle\n",
    "run_experiment(dataset=\"CIFAR10\", objective=\"ds\", predictor=\"wrn\", generator=\"sgXL\", mix_dims=(1,15))"
   ],
   "id": "634aa9927b201b5f"
  },
  {
   "metadata": {},
   "cell_type": "code",
   "outputs": [],
   "execution_count": null,
   "source": "",
   "id": "3571011185f8b503"
  }
 ],
 "metadata": {
  "kernelspec": {
   "display_name": "Python 3",
   "language": "python",
   "name": "python3"
  },
  "language_info": {
   "codemirror_mode": {
    "name": "ipython",
    "version": 2
   },
   "file_extension": ".py",
   "mimetype": "text/x-python",
   "name": "python",
   "nbconvert_exporter": "python",
   "pygments_lexer": "ipython2",
   "version": "2.7.6"
  }
 },
 "nbformat": 4,
 "nbformat_minor": 5
}
