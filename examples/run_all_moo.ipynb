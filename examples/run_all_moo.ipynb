{
 "cells": [
  {
   "cell_type": "code",
   "id": "initial_id",
   "metadata": {
    "collapsed": true,
    "ExecuteTime": {
     "end_time": "2024-12-19T14:52:30.316581Z",
     "start_time": "2024-12-19T14:52:28.304049Z"
    }
   },
   "source": [
    "from run_experiment import main as run_experiment\n",
    "import wandb\n",
    "import os\n",
    "wandb.login()"
   ],
   "outputs": [
    {
     "name": "stderr",
     "output_type": "stream",
     "text": [
      "\u001B[34m\u001B[1mwandb\u001B[0m: Currently logged in as: \u001B[33moliverweissl\u001B[0m. Use \u001B[1m`wandb login --relogin`\u001B[0m to force relogin\n"
     ]
    }
   ],
   "execution_count": 1
  },
  {
   "metadata": {},
   "cell_type": "markdown",
   "source": "### Targeted Boundary Testing",
   "id": "97c6c72962c78766"
  },
  {
   "metadata": {
    "ExecuteTime": {
     "end_time": "2024-12-19T14:56:21.908798Z",
     "start_time": "2024-12-19T14:52:32.812685Z"
    }
   },
   "cell_type": "code",
   "source": [
    "run_experiment(dataset=\"MNIST\", objective=\"tbt\", predictor=\"wrn\", generator=\"sg2\", mix_dims=(0,8))\n",
    "run_experiment(dataset=\"MNIST\", objective=\"tbt\", predictor=\"wrn\", generator=\"sg3\", mix_dims=(1,15))\n",
    "run_experiment(dataset=\"FashionMNIST\", objective=\"tbt\", predictor=\"wrn\", generator=\"sg2\", mix_dims=(0,8))\n",
    "run_experiment(dataset=\"SVHN\", objective=\"tbt\", predictor=\"wrn\", generator=\"sg2\", mix_dims=(0,8))\n",
    "run_experiment(dataset=\"CIFAR10\", objective=\"tbt\", predictor=\"wrn\", generator=\"sg2\", mix_dims=(0,8))\n",
    "run_experiment(dataset=\"CIFAR10\", objective=\"tbt\", predictor=\"wrn\", generator=\"sgXL\", mix_dims=(1,15))"
   ],
   "id": "33ab0d26506c0ef0",
   "outputs": [
    {
     "data": {
      "text/plain": [
       "<IPython.core.display.HTML object>"
      ],
      "text/html": [
       "Changes to your `wandb` environment variables will be ignored because your `wandb` session has already started. For more information on how to modify your settings with `wandb.init()` arguments, please refer to <a href=\"https://wandb.me/wandb-init\" target=\"_blank\">the W&B docs</a>."
      ]
     },
     "metadata": {},
     "output_type": "display_data"
    },
    {
     "data": {
      "text/plain": [
       "<IPython.core.display.HTML object>"
      ],
      "text/html": [
       "wandb version 0.19.1 is available!  To upgrade, please run:\n",
       " $ pip install wandb --upgrade"
      ]
     },
     "metadata": {},
     "output_type": "display_data"
    },
    {
     "data": {
      "text/plain": [
       "<IPython.core.display.HTML object>"
      ],
      "text/html": [
       "Tracking run with wandb version 0.13.5"
      ]
     },
     "metadata": {},
     "output_type": "display_data"
    },
    {
     "data": {
      "text/plain": [
       "<IPython.core.display.HTML object>"
      ],
      "text/html": [
       "Run data is saved locally in <code>/home/oliver/PycharmProjects/NeuralStyle/examples/wandb/run-20241219_155234-a01myzwy</code>"
      ]
     },
     "metadata": {},
     "output_type": "display_data"
    },
    {
     "data": {
      "text/plain": [
       "<IPython.core.display.HTML object>"
      ],
      "text/html": [
       "Syncing run <strong><a href=\"https://wandb.ai/oliverweissl/NeuralStyleSearch/runs/a01myzwy\" target=\"_blank\">hearty-dew-1430</a></strong> to <a href=\"https://wandb.ai/oliverweissl/NeuralStyleSearch\" target=\"_blank\">Weights & Biases</a> (<a href=\"https://wandb.me/run\" target=\"_blank\">docs</a>)<br/>"
      ]
     },
     "metadata": {},
     "output_type": "display_data"
    },
    {
     "name": "stdout",
     "output_type": "stream",
     "text": [
      "Setting up PyTorch plugin \"bias_act_plugin\"... Done.\n",
      "Setting up PyTorch plugin \"filtered_lrelu_plugin\"... Done.\n"
     ]
    },
    {
     "data": {
      "text/plain": [
       "<IPython.core.display.HTML object>"
      ],
      "text/html": [
       "Changes to your `wandb` environment variables will be ignored because your `wandb` session has already started. For more information on how to modify your settings with `wandb.init()` arguments, please refer to <a href=\"https://wandb.me/wandb-init\" target=\"_blank\">the W&B docs</a>."
      ]
     },
     "metadata": {},
     "output_type": "display_data"
    },
    {
     "data": {
      "text/plain": [
       "<IPython.core.display.HTML object>"
      ],
      "text/html": [
       "Finishing last run (ID:a01myzwy) before initializing another..."
      ]
     },
     "metadata": {},
     "output_type": "display_data"
    },
    {
     "data": {
      "text/plain": [
       "<IPython.core.display.HTML object>"
      ],
      "text/html": [
       "Waiting for W&B process to finish... <strong style=\"color:green\">(success).</strong>"
      ]
     },
     "metadata": {},
     "output_type": "display_data"
    },
    {
     "data": {
      "text/plain": [
       "<IPython.core.display.HTML object>"
      ],
      "text/html": [
       "<style>\n",
       "    table.wandb td:nth-child(1) { padding: 0 10px; text-align: left ; width: auto;} td:nth-child(2) {text-align: left ; width: 100%}\n",
       "    .wandb-row { display: flex; flex-direction: row; flex-wrap: wrap; justify-content: flex-start; width: 100% }\n",
       "    .wandb-col { display: flex; flex-direction: column; flex-basis: 100%; flex: 1; padding: 10px; }\n",
       "    </style>\n",
       "<div class=\"wandb-row\"><div class=\"wandb-col\"><h3>Run history:</h3><br/><table class=\"wandb\"><tr><td>max_NaiveCB</td><td>████████████▇██▇███▇▄█▇█▇█▁▆██▁▄█▇██▂█▅▁</td></tr><tr><td>mean_NaiveCB</td><td>█▆▆▅▄▄▃▂▂▂▂▁▁▁▁▁▁▁▁▁▁▂▁▁▁▁▁▁▁▁▁▁▂▁▂▁▁▁▁▁</td></tr><tr><td>min_NaiveCB</td><td>█▅▃▁▂▁▁▁▁▁▁▁▁▁▁▁▁▁▁▁▁▁▁▁▁▁▁▁▁▁▁▁▁▁▁▁▁▁▁▁</td></tr><tr><td>std_NaiveCB</td><td>▅▆▇█▇█▇▆▄▄▅▄▃▃▄▃▄▄▄▄▂▄▄▃▃▄▁▃▃▃▁▂▄▃▄▃▁▃▃▁</td></tr></table><br/></div><div class=\"wandb-col\"><h3>Run summary:</h3><br/><table class=\"wandb\"><tr><td>expected_boundary</td><td>9</td></tr><tr><td>max_NaiveCB</td><td>0.82258</td></tr><tr><td>mean_NaiveCB</td><td>0.03505</td></tr><tr><td>min_NaiveCB</td><td>6e-05</td></tr><tr><td>std_NaiveCB</td><td>0.09955</td></tr><tr><td>w0_trials</td><td>1</td></tr><tr><td>wn_trials</td><td>1</td></tr></table><br/></div></div>"
      ]
     },
     "metadata": {},
     "output_type": "display_data"
    },
    {
     "data": {
      "text/plain": [
       "<IPython.core.display.HTML object>"
      ],
      "text/html": [
       "Synced <strong style=\"color:#cdcd00\">hearty-dew-1430</strong>: <a href=\"https://wandb.ai/oliverweissl/NeuralStyleSearch/runs/a01myzwy\" target=\"_blank\">https://wandb.ai/oliverweissl/NeuralStyleSearch/runs/a01myzwy</a><br/>Synced 6 W&B file(s), 2 media file(s), 2 artifact file(s) and 0 other file(s)"
      ]
     },
     "metadata": {},
     "output_type": "display_data"
    },
    {
     "data": {
      "text/plain": [
       "<IPython.core.display.HTML object>"
      ],
      "text/html": [
       "Find logs at: <code>./wandb/run-20241219_155234-a01myzwy/logs</code>"
      ]
     },
     "metadata": {},
     "output_type": "display_data"
    },
    {
     "data": {
      "text/plain": [
       "<IPython.core.display.HTML object>"
      ],
      "text/html": [
       "Successfully finished last run (ID:a01myzwy). Initializing new run:<br/>"
      ]
     },
     "metadata": {},
     "output_type": "display_data"
    },
    {
     "data": {
      "text/plain": [
       "<IPython.core.display.HTML object>"
      ],
      "text/html": [
       "wandb version 0.19.1 is available!  To upgrade, please run:\n",
       " $ pip install wandb --upgrade"
      ]
     },
     "metadata": {},
     "output_type": "display_data"
    },
    {
     "data": {
      "text/plain": [
       "<IPython.core.display.HTML object>"
      ],
      "text/html": [
       "Tracking run with wandb version 0.13.5"
      ]
     },
     "metadata": {},
     "output_type": "display_data"
    },
    {
     "data": {
      "text/plain": [
       "<IPython.core.display.HTML object>"
      ],
      "text/html": [
       "Run data is saved locally in <code>/home/oliver/PycharmProjects/NeuralStyle/examples/wandb/run-20241219_155424-uw3d9twt</code>"
      ]
     },
     "metadata": {},
     "output_type": "display_data"
    },
    {
     "data": {
      "text/plain": [
       "<IPython.core.display.HTML object>"
      ],
      "text/html": [
       "Syncing run <strong><a href=\"https://wandb.ai/oliverweissl/NeuralStyleSearch/runs/uw3d9twt\" target=\"_blank\">major-tree-1431</a></strong> to <a href=\"https://wandb.ai/oliverweissl/NeuralStyleSearch\" target=\"_blank\">Weights & Biases</a> (<a href=\"https://wandb.me/run\" target=\"_blank\">docs</a>)<br/>"
      ]
     },
     "metadata": {},
     "output_type": "display_data"
    },
    {
     "data": {
      "text/plain": [
       "<IPython.core.display.HTML object>"
      ],
      "text/html": [
       "Changes to your `wandb` environment variables will be ignored because your `wandb` session has already started. For more information on how to modify your settings with `wandb.init()` arguments, please refer to <a href=\"https://wandb.me/wandb-init\" target=\"_blank\">the W&B docs</a>."
      ]
     },
     "metadata": {},
     "output_type": "display_data"
    },
    {
     "data": {
      "text/plain": [
       "<IPython.core.display.HTML object>"
      ],
      "text/html": [
       "Finishing last run (ID:uw3d9twt) before initializing another..."
      ]
     },
     "metadata": {},
     "output_type": "display_data"
    },
    {
     "data": {
      "text/plain": [
       "<IPython.core.display.HTML object>"
      ],
      "text/html": [
       "Waiting for W&B process to finish... <strong style=\"color:green\">(success).</strong>"
      ]
     },
     "metadata": {},
     "output_type": "display_data"
    },
    {
     "data": {
      "text/plain": [
       "<IPython.core.display.HTML object>"
      ],
      "text/html": [
       "<style>\n",
       "    table.wandb td:nth-child(1) { padding: 0 10px; text-align: left ; width: auto;} td:nth-child(2) {text-align: left ; width: 100%}\n",
       "    .wandb-row { display: flex; flex-direction: row; flex-wrap: wrap; justify-content: flex-start; width: 100% }\n",
       "    .wandb-col { display: flex; flex-direction: column; flex-basis: 100%; flex: 1; padding: 10px; }\n",
       "    </style>\n",
       "<div class=\"wandb-row\"><div class=\"wandb-col\"><h3>Run history:</h3><br/><table class=\"wandb\"><tr><td>max_NaiveCB</td><td>▇▅▅▆▇▆▇▇▇▇▇█▅▇▅▄▇▇▄▅█▆▅▁▇▇▄▆▃▆▇▅▄▇▅▇▇▅█▃</td></tr><tr><td>mean_NaiveCB</td><td>████▄█▅██████████████████████████▁█▇████</td></tr><tr><td>min_NaiveCB</td><td>████▄█▅██████████████████████████▁█▇████</td></tr><tr><td>std_NaiveCB</td><td>▁▁▁▁▅▁▄▁▁▁▁▁▁▁▁▁▁▁▁▁▁▁▁▁▁▁▁▁▁▁▁▁▁█▁▂▁▁▁▁</td></tr></table><br/></div><div class=\"wandb-col\"><h3>Run summary:</h3><br/><table class=\"wandb\"><tr><td>expected_boundary</td><td>6</td></tr><tr><td>max_NaiveCB</td><td>1.0</td></tr><tr><td>mean_NaiveCB</td><td>1.0</td></tr><tr><td>min_NaiveCB</td><td>0.99998</td></tr><tr><td>std_NaiveCB</td><td>0.0</td></tr><tr><td>w0_trials</td><td>1</td></tr><tr><td>wn_trials</td><td>1</td></tr></table><br/></div></div>"
      ]
     },
     "metadata": {},
     "output_type": "display_data"
    },
    {
     "data": {
      "text/plain": [
       "<IPython.core.display.HTML object>"
      ],
      "text/html": [
       "Synced <strong style=\"color:#cdcd00\">major-tree-1431</strong>: <a href=\"https://wandb.ai/oliverweissl/NeuralStyleSearch/runs/uw3d9twt\" target=\"_blank\">https://wandb.ai/oliverweissl/NeuralStyleSearch/runs/uw3d9twt</a><br/>Synced 5 W&B file(s), 2 media file(s), 2 artifact file(s) and 0 other file(s)"
      ]
     },
     "metadata": {},
     "output_type": "display_data"
    },
    {
     "data": {
      "text/plain": [
       "<IPython.core.display.HTML object>"
      ],
      "text/html": [
       "Find logs at: <code>./wandb/run-20241219_155424-uw3d9twt/logs</code>"
      ]
     },
     "metadata": {},
     "output_type": "display_data"
    },
    {
     "data": {
      "text/plain": [
       "<IPython.core.display.HTML object>"
      ],
      "text/html": [
       "Successfully finished last run (ID:uw3d9twt). Initializing new run:<br/>"
      ]
     },
     "metadata": {},
     "output_type": "display_data"
    },
    {
     "data": {
      "text/plain": [
       "<IPython.core.display.HTML object>"
      ],
      "text/html": [
       "wandb version 0.19.1 is available!  To upgrade, please run:\n",
       " $ pip install wandb --upgrade"
      ]
     },
     "metadata": {},
     "output_type": "display_data"
    },
    {
     "data": {
      "text/plain": [
       "<IPython.core.display.HTML object>"
      ],
      "text/html": [
       "Tracking run with wandb version 0.13.5"
      ]
     },
     "metadata": {},
     "output_type": "display_data"
    },
    {
     "data": {
      "text/plain": [
       "<IPython.core.display.HTML object>"
      ],
      "text/html": [
       "Run data is saved locally in <code>/home/oliver/PycharmProjects/NeuralStyle/examples/wandb/run-20241219_155606-kv6jzlf8</code>"
      ]
     },
     "metadata": {},
     "output_type": "display_data"
    },
    {
     "data": {
      "text/plain": [
       "<IPython.core.display.HTML object>"
      ],
      "text/html": [
       "Syncing run <strong><a href=\"https://wandb.ai/oliverweissl/NeuralStyleSearch/runs/kv6jzlf8\" target=\"_blank\">good-silence-1432</a></strong> to <a href=\"https://wandb.ai/oliverweissl/NeuralStyleSearch\" target=\"_blank\">Weights & Biases</a> (<a href=\"https://wandb.me/run\" target=\"_blank\">docs</a>)<br/>"
      ]
     },
     "metadata": {},
     "output_type": "display_data"
    },
    {
     "name": "stderr",
     "output_type": "stream",
     "text": [
      "Exception ignored in: <bound method IPythonKernel._clean_thread_parent_frames of <ipykernel.ipkernel.IPythonKernel object at 0x756e88dc2520>>\n",
      "Traceback (most recent call last):\n",
      "  File \"/home/oliver/miniconda3/envs/neuralstyle/lib/python3.9/site-packages/ipykernel/ipkernel.py\", line 775, in _clean_thread_parent_frames\n",
      "    def _clean_thread_parent_frames(\n",
      "KeyboardInterrupt: \n"
     ]
    },
    {
     "ename": "KeyboardInterrupt",
     "evalue": "",
     "output_type": "error",
     "traceback": [
      "\u001B[0;31m---------------------------------------------------------------------------\u001B[0m",
      "\u001B[0;31mKeyboardInterrupt\u001B[0m                         Traceback (most recent call last)",
      "Cell \u001B[0;32mIn[2], line 2\u001B[0m\n\u001B[1;32m      1\u001B[0m \u001B[38;5;66;03m#run_experiment(dataset=\"MNIST\", objective=\"tbt\", predictor=\"wrn\", generator=\"sg2\", mix_dims=(0,8))\u001B[39;00m\n\u001B[0;32m----> 2\u001B[0m \u001B[43mrun_experiment\u001B[49m\u001B[43m(\u001B[49m\u001B[43mdataset\u001B[49m\u001B[38;5;241;43m=\u001B[39;49m\u001B[38;5;124;43m\"\u001B[39;49m\u001B[38;5;124;43mMNIST\u001B[39;49m\u001B[38;5;124;43m\"\u001B[39;49m\u001B[43m,\u001B[49m\u001B[43m \u001B[49m\u001B[43mobjective\u001B[49m\u001B[38;5;241;43m=\u001B[39;49m\u001B[38;5;124;43m\"\u001B[39;49m\u001B[38;5;124;43mtbt\u001B[39;49m\u001B[38;5;124;43m\"\u001B[39;49m\u001B[43m,\u001B[49m\u001B[43m \u001B[49m\u001B[43mpredictor\u001B[49m\u001B[38;5;241;43m=\u001B[39;49m\u001B[38;5;124;43m\"\u001B[39;49m\u001B[38;5;124;43mwrn\u001B[39;49m\u001B[38;5;124;43m\"\u001B[39;49m\u001B[43m,\u001B[49m\u001B[43m \u001B[49m\u001B[43mgenerator\u001B[49m\u001B[38;5;241;43m=\u001B[39;49m\u001B[38;5;124;43m\"\u001B[39;49m\u001B[38;5;124;43msg3\u001B[39;49m\u001B[38;5;124;43m\"\u001B[39;49m\u001B[43m,\u001B[49m\u001B[43m \u001B[49m\u001B[43mmix_dims\u001B[49m\u001B[38;5;241;43m=\u001B[39;49m\u001B[43m(\u001B[49m\u001B[38;5;241;43m1\u001B[39;49m\u001B[43m,\u001B[49m\u001B[38;5;241;43m15\u001B[39;49m\u001B[43m)\u001B[49m\u001B[43m)\u001B[49m\n\u001B[1;32m      3\u001B[0m run_experiment(dataset\u001B[38;5;241m=\u001B[39m\u001B[38;5;124m\"\u001B[39m\u001B[38;5;124mFashionMNIST\u001B[39m\u001B[38;5;124m\"\u001B[39m, objective\u001B[38;5;241m=\u001B[39m\u001B[38;5;124m\"\u001B[39m\u001B[38;5;124mtbt\u001B[39m\u001B[38;5;124m\"\u001B[39m, predictor\u001B[38;5;241m=\u001B[39m\u001B[38;5;124m\"\u001B[39m\u001B[38;5;124mwrn\u001B[39m\u001B[38;5;124m\"\u001B[39m, generator\u001B[38;5;241m=\u001B[39m\u001B[38;5;124m\"\u001B[39m\u001B[38;5;124msg2\u001B[39m\u001B[38;5;124m\"\u001B[39m, mix_dims\u001B[38;5;241m=\u001B[39m(\u001B[38;5;241m0\u001B[39m,\u001B[38;5;241m8\u001B[39m))\n\u001B[1;32m      4\u001B[0m run_experiment(dataset\u001B[38;5;241m=\u001B[39m\u001B[38;5;124m\"\u001B[39m\u001B[38;5;124mSVHN\u001B[39m\u001B[38;5;124m\"\u001B[39m, objective\u001B[38;5;241m=\u001B[39m\u001B[38;5;124m\"\u001B[39m\u001B[38;5;124mtbt\u001B[39m\u001B[38;5;124m\"\u001B[39m, predictor\u001B[38;5;241m=\u001B[39m\u001B[38;5;124m\"\u001B[39m\u001B[38;5;124mwrn\u001B[39m\u001B[38;5;124m\"\u001B[39m, generator\u001B[38;5;241m=\u001B[39m\u001B[38;5;124m\"\u001B[39m\u001B[38;5;124msg2\u001B[39m\u001B[38;5;124m\"\u001B[39m, mix_dims\u001B[38;5;241m=\u001B[39m(\u001B[38;5;241m0\u001B[39m,\u001B[38;5;241m8\u001B[39m))\n",
      "File \u001B[0;32m~/PycharmProjects/NeuralStyle/examples/run_experiment.py:120\u001B[0m, in \u001B[0;36mmain\u001B[0;34m(objective, dataset, predictor, generator, mix_dims, generations)\u001B[0m\n\u001B[1;32m    113\u001B[0m tester \u001B[38;5;241m=\u001B[39m NeuralTester(\n\u001B[1;32m    114\u001B[0m     config\u001B[38;5;241m=\u001B[39mconf,\n\u001B[1;32m    115\u001B[0m     learner\u001B[38;5;241m=\u001B[39mlearner,\n\u001B[1;32m    116\u001B[0m     device\u001B[38;5;241m=\u001B[39mtorch\u001B[38;5;241m.\u001B[39mdevice(\u001B[38;5;124m\"\u001B[39m\u001B[38;5;124mcuda\u001B[39m\u001B[38;5;124m\"\u001B[39m),\n\u001B[1;32m    117\u001B[0m )\n\u001B[1;32m    119\u001B[0m \u001B[38;5;66;03m# We start the testing procedure.\u001B[39;00m\n\u001B[0;32m--> 120\u001B[0m \u001B[43mtester\u001B[49m\u001B[38;5;241;43m.\u001B[39;49m\u001B[43mtest\u001B[49m\u001B[43m(\u001B[49m\u001B[43m)\u001B[49m\n",
      "File \u001B[0;32m~/PycharmProjects/NeuralStyle/src/_neural_tester.py:113\u001B[0m, in \u001B[0;36mNeuralTester.test\u001B[0;34m(self)\u001B[0m\n\u001B[1;32m    110\u001B[0m logging\u001B[38;5;241m.\u001B[39minfo(\u001B[38;5;124mf\u001B[39m\u001B[38;5;124m\"\u001B[39m\u001B[38;5;124mRunning Search-Algorithm for \u001B[39m\u001B[38;5;132;01m{\u001B[39;00m\u001B[38;5;28mself\u001B[39m\u001B[38;5;241m.\u001B[39m_config\u001B[38;5;241m.\u001B[39mgenerations\u001B[38;5;132;01m}\u001B[39;00m\u001B[38;5;124m generations.\u001B[39m\u001B[38;5;124m\"\u001B[39m)\n\u001B[1;32m    111\u001B[0m \u001B[38;5;28;01mfor\u001B[39;00m _ \u001B[38;5;129;01min\u001B[39;00m \u001B[38;5;28mrange\u001B[39m(\u001B[38;5;28mself\u001B[39m\u001B[38;5;241m.\u001B[39m_config\u001B[38;5;241m.\u001B[39mgenerations):\n\u001B[1;32m    112\u001B[0m     \u001B[38;5;66;03m# We define the inner loop with its parameters.\u001B[39;00m\n\u001B[0;32m--> 113\u001B[0m     images, fitness, preds \u001B[38;5;241m=\u001B[39m \u001B[38;5;28;43mself\u001B[39;49m\u001B[38;5;241;43m.\u001B[39;49m\u001B[43m_inner_loop\u001B[49m\u001B[43m(\u001B[49m\u001B[43mcandidates\u001B[49m\u001B[43m,\u001B[49m\u001B[43m \u001B[49m\u001B[43mclass_idx\u001B[49m\u001B[43m,\u001B[49m\u001B[43m \u001B[49m\u001B[43msecond\u001B[49m\u001B[43m)\u001B[49m\n\u001B[1;32m    114\u001B[0m     \u001B[38;5;66;03m# Assign fitness to current population and additional data (in our case images).\u001B[39;00m\n\u001B[1;32m    115\u001B[0m     \u001B[38;5;28mself\u001B[39m\u001B[38;5;241m.\u001B[39m_learner\u001B[38;5;241m.\u001B[39massign_fitness(fitness, images, preds\u001B[38;5;241m.\u001B[39mtolist())\n",
      "File \u001B[0;32m~/PycharmProjects/NeuralStyle/src/_neural_tester.py:176\u001B[0m, in \u001B[0;36mNeuralTester._inner_loop\u001B[0;34m(self, candidates, y, y2)\u001B[0m\n\u001B[1;32m    174\u001B[0m images \u001B[38;5;241m=\u001B[39m []\n\u001B[1;32m    175\u001B[0m \u001B[38;5;28;01mfor\u001B[39;00m sm_cond, sm_weights \u001B[38;5;129;01min\u001B[39;00m \u001B[38;5;28mzip\u001B[39m(sm_cond_arr, sm_weights_arr):\n\u001B[0;32m--> 176\u001B[0m     mixed_image \u001B[38;5;241m=\u001B[39m \u001B[38;5;28;43mself\u001B[39;49m\u001B[38;5;241;43m.\u001B[39;49m\u001B[43m_mixer\u001B[49m\u001B[38;5;241;43m.\u001B[39;49m\u001B[43mmix\u001B[49m\u001B[43m(\u001B[49m\n\u001B[1;32m    177\u001B[0m \u001B[43m        \u001B[49m\u001B[43mcandidates\u001B[49m\u001B[38;5;241;43m=\u001B[39;49m\u001B[43mcandidates\u001B[49m\u001B[43m,\u001B[49m\n\u001B[1;32m    178\u001B[0m \u001B[43m        \u001B[49m\u001B[43msm_cond\u001B[49m\u001B[38;5;241;43m=\u001B[39;49m\u001B[43msm_cond\u001B[49m\u001B[43m,\u001B[49m\n\u001B[1;32m    179\u001B[0m \u001B[43m        \u001B[49m\u001B[43msm_weights\u001B[49m\u001B[38;5;241;43m=\u001B[39;49m\u001B[43msm_weights\u001B[49m\u001B[43m,\u001B[49m\n\u001B[1;32m    180\u001B[0m \u001B[43m        \u001B[49m\u001B[43mrandom_seed\u001B[49m\u001B[38;5;241;43m=\u001B[39;49m\u001B[38;5;28;43mself\u001B[39;49m\u001B[38;5;241;43m.\u001B[39;49m\u001B[43m_get_time_seed\u001B[49m\u001B[43m(\u001B[49m\u001B[43m)\u001B[49m\u001B[43m,\u001B[49m\n\u001B[1;32m    181\u001B[0m \u001B[43m    \u001B[49m\u001B[43m)\u001B[49m\n\u001B[1;32m    182\u001B[0m     images\u001B[38;5;241m.\u001B[39mappend(mixed_image)\n\u001B[1;32m    183\u001B[0m \u001B[38;5;66;03m# Convert images to RGB if they are grayscale\u001B[39;00m\n",
      "File \u001B[0;32m~/PycharmProjects/NeuralStyle/src/manipulator/_style_mixer.py:100\u001B[0m, in \u001B[0;36mStyleMixer.mix\u001B[0;34m(self, candidates, sm_cond, sm_weights, random_seed)\u001B[0m\n\u001B[1;32m     97\u001B[0m w \u001B[38;5;241m+\u001B[39m\u001B[38;5;241m=\u001B[39m w_avg\n\u001B[1;32m     99\u001B[0m torch\u001B[38;5;241m.\u001B[39mmanual_seed(random_seed)\n\u001B[0;32m--> 100\u001B[0m img \u001B[38;5;241m=\u001B[39m \u001B[38;5;28;43mself\u001B[39;49m\u001B[38;5;241;43m.\u001B[39;49m\u001B[43mget_image\u001B[49m\u001B[43m(\u001B[49m\u001B[43mw\u001B[49m\u001B[43m)\u001B[49m\n\u001B[1;32m    101\u001B[0m \u001B[38;5;28;01mreturn\u001B[39;00m img\n",
      "File \u001B[0;32m~/PycharmProjects/NeuralStyle/src/manipulator/_style_mixer.py:127\u001B[0m, in \u001B[0;36mStyleMixer.get_image\u001B[0;34m(self, w)\u001B[0m\n\u001B[1;32m    120\u001B[0m \u001B[38;5;28;01mdef\u001B[39;00m \u001B[38;5;21mget_image\u001B[39m(\u001B[38;5;28mself\u001B[39m, w: Tensor) \u001B[38;5;241m-\u001B[39m\u001B[38;5;241m>\u001B[39m Tensor:\n\u001B[1;32m    121\u001B[0m \u001B[38;5;250m    \u001B[39m\u001B[38;5;124;03m\"\"\"\u001B[39;00m\n\u001B[1;32m    122\u001B[0m \u001B[38;5;124;03m    Get a generated image from the w Vector.\u001B[39;00m\n\u001B[1;32m    123\u001B[0m \n\u001B[1;32m    124\u001B[0m \u001B[38;5;124;03m    :param w: The w vector for generation.\u001B[39;00m\n\u001B[1;32m    125\u001B[0m \u001B[38;5;124;03m    :returns: The generated image.\u001B[39;00m\n\u001B[1;32m    126\u001B[0m \u001B[38;5;124;03m    \"\"\"\u001B[39;00m\n\u001B[0;32m--> 127\u001B[0m     out, _ \u001B[38;5;241m=\u001B[39m \u001B[38;5;28;43mself\u001B[39;49m\u001B[38;5;241;43m.\u001B[39;49m\u001B[43m_run_synthesis_net\u001B[49m\u001B[43m(\u001B[49m\n\u001B[1;32m    128\u001B[0m \u001B[43m        \u001B[49m\u001B[38;5;28;43mself\u001B[39;49m\u001B[38;5;241;43m.\u001B[39;49m\u001B[43m_generator\u001B[49m\u001B[38;5;241;43m.\u001B[39;49m\u001B[43msynthesis\u001B[49m\u001B[43m,\u001B[49m\u001B[43m \u001B[49m\u001B[43mw\u001B[49m\u001B[43m,\u001B[49m\u001B[43m \u001B[49m\u001B[43mnoise_mode\u001B[49m\u001B[38;5;241;43m=\u001B[39;49m\u001B[38;5;28;43mself\u001B[39;49m\u001B[38;5;241;43m.\u001B[39;49m\u001B[43m_noise_mode\u001B[49m\u001B[43m,\u001B[49m\u001B[43m \u001B[49m\u001B[43mforce_fp32\u001B[49m\u001B[38;5;241;43m=\u001B[39;49m\u001B[38;5;28;43;01mFalse\u001B[39;49;00m\n\u001B[1;32m    129\u001B[0m \u001B[43m    \u001B[49m\u001B[43m)\u001B[49m\n\u001B[1;32m    130\u001B[0m     img \u001B[38;5;241m=\u001B[39m \u001B[38;5;28mself\u001B[39m\u001B[38;5;241m.\u001B[39m_transform_image_output(out)\n\u001B[1;32m    131\u001B[0m     \u001B[38;5;28;01mreturn\u001B[39;00m img\n",
      "File \u001B[0;32m~/PycharmProjects/NeuralStyle/src/manipulator/_style_mixer.py:182\u001B[0m, in \u001B[0;36mStyleMixer._run_synthesis_net\u001B[0;34m(net, capture_layer, *args, **kwargs)\u001B[0m\n\u001B[1;32m    180\u001B[0m hooks \u001B[38;5;241m=\u001B[39m [module\u001B[38;5;241m.\u001B[39mregister_forward_hook(module_hook) \u001B[38;5;28;01mfor\u001B[39;00m module \u001B[38;5;129;01min\u001B[39;00m net\u001B[38;5;241m.\u001B[39mmodules()]\n\u001B[1;32m    181\u001B[0m \u001B[38;5;28;01mtry\u001B[39;00m:\n\u001B[0;32m--> 182\u001B[0m     out \u001B[38;5;241m=\u001B[39m \u001B[43mnet\u001B[49m\u001B[43m(\u001B[49m\u001B[38;5;241;43m*\u001B[39;49m\u001B[43margs\u001B[49m\u001B[43m,\u001B[49m\u001B[43m \u001B[49m\u001B[38;5;241;43m*\u001B[39;49m\u001B[38;5;241;43m*\u001B[39;49m\u001B[43mkwargs\u001B[49m\u001B[43m)\u001B[49m\n\u001B[1;32m    183\u001B[0m \u001B[38;5;28;01mexcept\u001B[39;00m CaptureSuccess \u001B[38;5;28;01mas\u001B[39;00m e:\n\u001B[1;32m    184\u001B[0m     out \u001B[38;5;241m=\u001B[39m e\u001B[38;5;241m.\u001B[39mout\n",
      "File \u001B[0;32m~/miniconda3/envs/neuralstyle/lib/python3.9/site-packages/torch/nn/modules/module.py:1071\u001B[0m, in \u001B[0;36mModule._call_impl\u001B[0;34m(self, *input, **kwargs)\u001B[0m\n\u001B[1;32m   1068\u001B[0m     bw_hook \u001B[38;5;241m=\u001B[39m hooks\u001B[38;5;241m.\u001B[39mBackwardHook(\u001B[38;5;28mself\u001B[39m, full_backward_hooks)\n\u001B[1;32m   1069\u001B[0m     \u001B[38;5;28minput\u001B[39m \u001B[38;5;241m=\u001B[39m bw_hook\u001B[38;5;241m.\u001B[39msetup_input_hook(\u001B[38;5;28minput\u001B[39m)\n\u001B[0;32m-> 1071\u001B[0m result \u001B[38;5;241m=\u001B[39m \u001B[43mforward_call\u001B[49m\u001B[43m(\u001B[49m\u001B[38;5;241;43m*\u001B[39;49m\u001B[38;5;28;43minput\u001B[39;49m\u001B[43m,\u001B[49m\u001B[43m \u001B[49m\u001B[38;5;241;43m*\u001B[39;49m\u001B[38;5;241;43m*\u001B[39;49m\u001B[43mkwargs\u001B[49m\u001B[43m)\u001B[49m\n\u001B[1;32m   1072\u001B[0m \u001B[38;5;28;01mif\u001B[39;00m _global_forward_hooks \u001B[38;5;129;01mor\u001B[39;00m \u001B[38;5;28mself\u001B[39m\u001B[38;5;241m.\u001B[39m_forward_hooks:\n\u001B[1;32m   1073\u001B[0m     \u001B[38;5;28;01mfor\u001B[39;00m hook \u001B[38;5;129;01min\u001B[39;00m itertools\u001B[38;5;241m.\u001B[39mchain(\n\u001B[1;32m   1074\u001B[0m             _global_forward_hooks\u001B[38;5;241m.\u001B[39mvalues(),\n\u001B[1;32m   1075\u001B[0m             \u001B[38;5;28mself\u001B[39m\u001B[38;5;241m.\u001B[39m_forward_hooks\u001B[38;5;241m.\u001B[39mvalues()):\n",
      "File \u001B[0;32m<string>:471\u001B[0m, in \u001B[0;36mforward\u001B[0;34m(self, ws, **layer_kwargs)\u001B[0m\n",
      "File \u001B[0;32m~/miniconda3/envs/neuralstyle/lib/python3.9/site-packages/torch/nn/modules/module.py:1071\u001B[0m, in \u001B[0;36mModule._call_impl\u001B[0;34m(self, *input, **kwargs)\u001B[0m\n\u001B[1;32m   1068\u001B[0m     bw_hook \u001B[38;5;241m=\u001B[39m hooks\u001B[38;5;241m.\u001B[39mBackwardHook(\u001B[38;5;28mself\u001B[39m, full_backward_hooks)\n\u001B[1;32m   1069\u001B[0m     \u001B[38;5;28minput\u001B[39m \u001B[38;5;241m=\u001B[39m bw_hook\u001B[38;5;241m.\u001B[39msetup_input_hook(\u001B[38;5;28minput\u001B[39m)\n\u001B[0;32m-> 1071\u001B[0m result \u001B[38;5;241m=\u001B[39m \u001B[43mforward_call\u001B[49m\u001B[43m(\u001B[49m\u001B[38;5;241;43m*\u001B[39;49m\u001B[38;5;28;43minput\u001B[39;49m\u001B[43m,\u001B[49m\u001B[43m \u001B[49m\u001B[38;5;241;43m*\u001B[39;49m\u001B[38;5;241;43m*\u001B[39;49m\u001B[43mkwargs\u001B[49m\u001B[43m)\u001B[49m\n\u001B[1;32m   1072\u001B[0m \u001B[38;5;28;01mif\u001B[39;00m _global_forward_hooks \u001B[38;5;129;01mor\u001B[39;00m \u001B[38;5;28mself\u001B[39m\u001B[38;5;241m.\u001B[39m_forward_hooks:\n\u001B[1;32m   1073\u001B[0m     \u001B[38;5;28;01mfor\u001B[39;00m hook \u001B[38;5;129;01min\u001B[39;00m itertools\u001B[38;5;241m.\u001B[39mchain(\n\u001B[1;32m   1074\u001B[0m             _global_forward_hooks\u001B[38;5;241m.\u001B[39mvalues(),\n\u001B[1;32m   1075\u001B[0m             \u001B[38;5;28mself\u001B[39m\u001B[38;5;241m.\u001B[39m_forward_hooks\u001B[38;5;241m.\u001B[39mvalues()):\n",
      "File \u001B[0;32m<string>:349\u001B[0m, in \u001B[0;36mforward\u001B[0;34m(self, x, w, noise_mode, force_fp32, update_emas)\u001B[0m\n",
      "File \u001B[0;32m~/PycharmProjects/NeuralStyle/torch_utils/misc.py:130\u001B[0m, in \u001B[0;36mprofiled_function.<locals>.decorator\u001B[0;34m(*args, **kwargs)\u001B[0m\n\u001B[1;32m    128\u001B[0m \u001B[38;5;28;01mdef\u001B[39;00m \u001B[38;5;21mdecorator\u001B[39m(\u001B[38;5;241m*\u001B[39margs, \u001B[38;5;241m*\u001B[39m\u001B[38;5;241m*\u001B[39mkwargs):\n\u001B[1;32m    129\u001B[0m     \u001B[38;5;28;01mwith\u001B[39;00m torch\u001B[38;5;241m.\u001B[39mautograd\u001B[38;5;241m.\u001B[39mprofiler\u001B[38;5;241m.\u001B[39mrecord_function(fn\u001B[38;5;241m.\u001B[39m\u001B[38;5;18m__name__\u001B[39m):\n\u001B[0;32m--> 130\u001B[0m         \u001B[38;5;28;01mreturn\u001B[39;00m \u001B[43mfn\u001B[49m\u001B[43m(\u001B[49m\u001B[38;5;241;43m*\u001B[39;49m\u001B[43margs\u001B[49m\u001B[43m,\u001B[49m\u001B[43m \u001B[49m\u001B[38;5;241;43m*\u001B[39;49m\u001B[38;5;241;43m*\u001B[39;49m\u001B[43mkwargs\u001B[49m\u001B[43m)\u001B[49m\n",
      "File \u001B[0;32m<string>:62\u001B[0m, in \u001B[0;36mmodulated_conv2d\u001B[0;34m(x, w, s, demodulate, padding, input_gain)\u001B[0m\n",
      "File \u001B[0;32m~/PycharmProjects/NeuralStyle/torch_utils/ops/conv2d_gradfix.py:55\u001B[0m, in \u001B[0;36mconv2d\u001B[0;34m(input, weight, bias, stride, padding, dilation, groups)\u001B[0m\n\u001B[1;32m     45\u001B[0m \u001B[38;5;28;01mif\u001B[39;00m _should_use_custom_op(\u001B[38;5;28minput\u001B[39m):\n\u001B[1;32m     46\u001B[0m     \u001B[38;5;28;01mreturn\u001B[39;00m _conv2d_gradfix(\n\u001B[1;32m     47\u001B[0m         transpose\u001B[38;5;241m=\u001B[39m\u001B[38;5;28;01mFalse\u001B[39;00m,\n\u001B[1;32m     48\u001B[0m         weight_shape\u001B[38;5;241m=\u001B[39mweight\u001B[38;5;241m.\u001B[39mshape,\n\u001B[0;32m   (...)\u001B[0m\n\u001B[1;32m     53\u001B[0m         groups\u001B[38;5;241m=\u001B[39mgroups,\n\u001B[1;32m     54\u001B[0m     )\u001B[38;5;241m.\u001B[39mapply(\u001B[38;5;28minput\u001B[39m, weight, bias)\n\u001B[0;32m---> 55\u001B[0m \u001B[38;5;28;01mreturn\u001B[39;00m \u001B[43mtorch\u001B[49m\u001B[38;5;241;43m.\u001B[39;49m\u001B[43mnn\u001B[49m\u001B[38;5;241;43m.\u001B[39;49m\u001B[43mfunctional\u001B[49m\u001B[38;5;241;43m.\u001B[39;49m\u001B[43mconv2d\u001B[49m\u001B[43m(\u001B[49m\n\u001B[1;32m     56\u001B[0m \u001B[43m    \u001B[49m\u001B[38;5;28;43minput\u001B[39;49m\u001B[38;5;241;43m=\u001B[39;49m\u001B[38;5;28;43minput\u001B[39;49m\u001B[43m,\u001B[49m\n\u001B[1;32m     57\u001B[0m \u001B[43m    \u001B[49m\u001B[43mweight\u001B[49m\u001B[38;5;241;43m=\u001B[39;49m\u001B[43mweight\u001B[49m\u001B[43m,\u001B[49m\n\u001B[1;32m     58\u001B[0m \u001B[43m    \u001B[49m\u001B[43mbias\u001B[49m\u001B[38;5;241;43m=\u001B[39;49m\u001B[43mbias\u001B[49m\u001B[43m,\u001B[49m\n\u001B[1;32m     59\u001B[0m \u001B[43m    \u001B[49m\u001B[43mstride\u001B[49m\u001B[38;5;241;43m=\u001B[39;49m\u001B[43mstride\u001B[49m\u001B[43m,\u001B[49m\n\u001B[1;32m     60\u001B[0m \u001B[43m    \u001B[49m\u001B[43mpadding\u001B[49m\u001B[38;5;241;43m=\u001B[39;49m\u001B[43mpadding\u001B[49m\u001B[43m,\u001B[49m\n\u001B[1;32m     61\u001B[0m \u001B[43m    \u001B[49m\u001B[43mdilation\u001B[49m\u001B[38;5;241;43m=\u001B[39;49m\u001B[43mdilation\u001B[49m\u001B[43m,\u001B[49m\n\u001B[1;32m     62\u001B[0m \u001B[43m    \u001B[49m\u001B[43mgroups\u001B[49m\u001B[38;5;241;43m=\u001B[39;49m\u001B[43mgroups\u001B[49m\u001B[43m,\u001B[49m\n\u001B[1;32m     63\u001B[0m \u001B[43m\u001B[49m\u001B[43m)\u001B[49m\n",
      "\u001B[0;31mKeyboardInterrupt\u001B[0m: "
     ]
    }
   ],
   "execution_count": 2
  },
  {
   "metadata": {},
   "cell_type": "markdown",
   "source": "### Advesarial Testing",
   "id": "65c15df47f555017"
  },
  {
   "metadata": {},
   "cell_type": "code",
   "outputs": [],
   "execution_count": null,
   "source": [
    "run_experiment(dataset=\"MNIST\", objective=\"uat\", predictor=\"wrn\", generator=\"sg2\", mix_dims=(0,8))\n",
    "run_experiment(dataset=\"MNIST\", objective=\"uat\", predictor=\"wrn\", generator=\"sg3\", mix_dims=(1,15))\n",
    "run_experiment(dataset=\"FashionMNIST\", objective=\"uat\", predictor=\"wrn\", generator=\"sg2\", mix_dims=(0,8))\n",
    "run_experiment(dataset=\"SVHN\", objective=\"uat\", predictor=\"wrn\", generator=\"sg2\", mix_dims=(0,8))\n",
    "run_experiment(dataset=\"CIFAR10\", objective=\"uat\", predictor=\"wrn\", generator=\"sg2\", mix_dims=(0,8))\n",
    "run_experiment(dataset=\"CIFAR10\", objective=\"uat\", predictor=\"wrn\", generator=\"sgXL\", mix_dims=(1,15))"
   ],
   "id": "bc6bdc80060c85b7"
  },
  {
   "metadata": {},
   "cell_type": "markdown",
   "source": "### Diversity Sampling",
   "id": "58544e95ae7b9eaf"
  },
  {
   "metadata": {},
   "cell_type": "code",
   "outputs": [],
   "execution_count": null,
   "source": [
    "run_experiment(dataset=\"MNIST\", objective=\"ds\", predictor=\"wrn\", generator=\"sg2\", mix_dims=(0,8))\n",
    "run_experiment(dataset=\"MNIST\", objective=\"ds\", predictor=\"wrn\", generator=\"sg3\", mix_dims=(1,15))\n",
    "run_experiment(dataset=\"FashionMNIST\", objective=\"ds\", predictor=\"wrn\", generator=\"sg2\", mix_dims=(0,8))\n",
    "run_experiment(dataset=\"SVHN\", objective=\"ds\", predictor=\"wrn\", generator=\"sg2\", mix_dims=(0,8))\n",
    "run_experiment(dataset=\"CIFAR10\", objective=\"ds\", predictor=\"wrn\", generator=\"sg2\", mix_dims=(0,8))\n",
    "run_experiment(dataset=\"CIFAR10\", objective=\"ds\", predictor=\"wrn\", generator=\"sgXL\", mix_dims=(1,15))"
   ],
   "id": "660fc9fb34c9637c"
  },
  {
   "metadata": {},
   "cell_type": "code",
   "outputs": [],
   "execution_count": null,
   "source": "",
   "id": "21266feb4b8bae5a"
  }
 ],
 "metadata": {
  "kernelspec": {
   "display_name": "Python 3",
   "language": "python",
   "name": "python3"
  },
  "language_info": {
   "codemirror_mode": {
    "name": "ipython",
    "version": 2
   },
   "file_extension": ".py",
   "mimetype": "text/x-python",
   "name": "python",
   "nbconvert_exporter": "python",
   "pygments_lexer": "ipython2",
   "version": "2.7.6"
  }
 },
 "nbformat": 4,
 "nbformat_minor": 5
}
