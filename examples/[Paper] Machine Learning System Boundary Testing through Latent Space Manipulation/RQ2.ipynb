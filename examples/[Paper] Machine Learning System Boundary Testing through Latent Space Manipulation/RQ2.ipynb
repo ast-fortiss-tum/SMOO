{
 "cells": [
  {
   "metadata": {
    "ExecuteTime": {
     "end_time": "2025-03-13T12:18:27.185552Z",
     "start_time": "2025-03-13T12:18:26.583073Z"
    }
   },
   "cell_type": "code",
   "source": [
    "from glob import glob\n",
    "from math import prod\n",
    "import torch\n",
    "\n",
    "from src.manipulator._style_gan_manipulator._load_stylegan import load_stylegan"
   ],
   "id": "4975fca1e7b6cdfe",
   "outputs": [],
   "execution_count": 1
  },
  {
   "metadata": {},
   "cell_type": "markdown",
   "source": "### Get Model Parameters",
   "id": "c489464000b8017b"
  },
  {
   "metadata": {
    "collapsed": true,
    "ExecuteTime": {
     "end_time": "2025-03-13T12:18:30.543633Z",
     "start_time": "2025-03-13T12:18:27.810119Z"
    }
   },
   "cell_type": "code",
   "source": [
    "# Get StyleGAN parameters\n",
    "sgs = glob(\"/home/oliver/PycharmProjects/NeuralStyle/models/generators/*.pkl\")\n",
    "for sg in sgs:\n",
    "    model = load_stylegan(sg)\n",
    "    print(sg.split(\"/\")[-1], sum(prod(p.size()) for p in model.parameters()))"
   ],
   "id": "initial_id",
   "outputs": [
    {
     "name": "stdout",
     "output_type": "stream",
     "text": [
      "sg2_fmnist.pkl 21787147\n",
      "sg2_mnist.pkl 21787147\n",
      "sgXL_cifar10.pkl 17997383\n",
      "sg2_svhn.pkl 21791251\n",
      "sg3_mnist.pkl 38034949\n",
      "sg2_cifar10.pkl 20215315\n",
      "sgXL_imagenet128.pkl 158741379\n"
     ]
    }
   ],
   "execution_count": 2
  },
  {
   "metadata": {
    "ExecuteTime": {
     "end_time": "2025-03-13T12:18:31.690209Z",
     "start_time": "2025-03-13T12:18:30.546345Z"
    }
   },
   "cell_type": "code",
   "source": [
    "# Get Sinvad VAE parameters\n",
    "vaes = glob(\"/home/oliver/PycharmProjects/NS_Experiments/benchmarks/SINVAD/vae/models/*.pth\")\n",
    "for vae in vaes:\n",
    "    model = torch.load(vae)\n",
    "    params = model.get(\"model_state_dict\", model)\n",
    "    print(vae.split(\"/\")[-1], sum(prod(p.size()) for p in params.values()))"
   ],
   "id": "adedc49b796576e",
   "outputs": [
    {
     "name": "stdout",
     "output_type": "stream",
     "text": [
      "imagenet.pth 79827076\n",
      "fMNIST_EnD.pth 4433584\n",
      "cifar10.pth 83352131\n",
      "MNIST_EnD.pth 4433584\n",
      "SVHN_EnD.pth 13678272\n"
     ]
    }
   ],
   "execution_count": 3
  },
  {
   "metadata": {},
   "cell_type": "markdown",
   "source": [
    "## Get Runtime\n",
    "Runtime was recorded in Wandb for the experiments in the paper. However we added a runtime counter in the scripts for others to validate without wandb."
   ],
   "id": "31cd660cffc18e9b"
  },
  {
   "metadata": {},
   "cell_type": "code",
   "outputs": [],
   "execution_count": null,
   "source": "",
   "id": "dfce6fd78638adae"
  }
 ],
 "metadata": {
  "kernelspec": {
   "display_name": "Python 3",
   "language": "python",
   "name": "python3"
  },
  "language_info": {
   "codemirror_mode": {
    "name": "ipython",
    "version": 2
   },
   "file_extension": ".py",
   "mimetype": "text/x-python",
   "name": "python",
   "nbconvert_exporter": "python",
   "pygments_lexer": "ipython2",
   "version": "2.7.6"
  }
 },
 "nbformat": 4,
 "nbformat_minor": 5
}
