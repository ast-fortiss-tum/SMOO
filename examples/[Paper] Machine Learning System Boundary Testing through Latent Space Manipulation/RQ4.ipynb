{
 "cells": [
  {
   "cell_type": "code",
   "id": "initial_id",
   "metadata": {
    "collapsed": true
   },
   "source": [
    "import pandas as pd\n",
    "import numpy as np\n",
    "import matplotlib.pyplot as plt\n",
    "from scipy.stats import  entropy\n",
    "\n",
    "from _analysis_functions import format_cols"
   ],
   "outputs": [],
   "execution_count": null
  },
  {
   "metadata": {},
   "cell_type": "markdown",
   "source": "### Generate Genome Usage Plot (Heatmap)",
   "id": "aff7f6dac68b0b61"
  },
  {
   "metadata": {},
   "cell_type": "code",
   "source": [
    "def check_genome_mag(genomes: pd.Series, name, fold:bool=True):\n",
    "    bns = len(genomes[0])\n",
    "    fig, (ax, dis) = plt.subplots(1,2, figsize=(0.75*bns,3), gridspec_kw={'width_ratios': [bns/2-1, 1]})\n",
    "    np.random.seed(42)\n",
    "    y_bins = np.arange(0, 0.55 if fold else 1.05, 0.05)\n",
    "    density = np.zeros((len(y_bins) - 1, bns))\n",
    "\n",
    "    genomes = np.stack(genomes.apply(lambda x: abs(abs(x-0.5)-0.5)).values) if fold else np.stack(genomes.values)\n",
    "\n",
    "    for i in range(bns):\n",
    "        hist, _ = np.histogram(genomes[:, i], bins=y_bins, density=True)\n",
    "        density[:, i] = hist\n",
    "    density /= 100\n",
    "\n",
    "    distr = density.mean(axis=1)\n",
    "    density[density!=0] = np.log(density[density!=0])\n",
    "    density[density==0] = None\n",
    "\n",
    "\n",
    "\n",
    "    im = ax.imshow(density,  aspect='auto', origin='lower', cmap='plasma', extent=[-0.5, bns-0.5, 0, 0.5 if fold else 1.], vmax=np.log(0.2))\n",
    "    cbar = ax.figure.colorbar(im, ax=dis, pad=0)\n",
    "    cbar_labels = [r\"$10^{\" + f\"{e:.0f}\" + \"}$\" for e in cbar.ax.get_yticks()]\n",
    "    cbar.set_ticks(cbar.ax.get_yticks())\n",
    "    cbar.set_ticklabels(cbar_labels)\n",
    "\n",
    "    ax.set_ylim((0,0.5 if fold else 1.))\n",
    "    ax.set_ylabel(r\"$\\Delta$-seeds\" if fold else f\"Weights $\\gamma_n$\")\n",
    "    ax.set_xlabel(r\"Seed Components\")\n",
    "    ax.set_xticks(range(bns))\n",
    "    ax.set_xticklabels([r\"$w_{\" + str(i) + \"}$\" for i in range(bns)])\n",
    "    ax.grid(axis=\"y\")\n",
    "\n",
    "    distr_zeros = np.where(distr==0)[0]\n",
    "    distr_non_zeros = np.where(distr!=0)[0]\n",
    "\n",
    "    distr[distr_zeros] = np.interp(distr_zeros, distr_non_zeros, distr[distr_non_zeros])\n",
    "    distr_sm = distr/sum(distr)\n",
    "    dis.plot(distr_sm, y_bins[:-1], color=\"blue\", label=f\"AUC={np.trapz(distr_sm):.2f}\")\n",
    "\n",
    "    dis.set_xticks(ax.get_xticks())\n",
    "    dis.set_yticklabels([])\n",
    "    dis.set_xscale(\"log\")\n",
    "    dis.set_xlim(5e-4, 1)\n",
    "    dis.set_ylim((0,0.5 if fold else 1.))\n",
    "    dis.grid()\n",
    "    dis.legend(bbox_to_anchor=(1.2, 1.15))\n",
    "    dis.set_xlabel(\"$\\gamma_n$ Distribution\")\n",
    "\n",
    "\n",
    "    fig.subplots_adjust(wspace=0.05)\n",
    "\n",
    "    plt.savefig(f\"figures/rq4/{name}_genome_heat.pdf\",bbox_inches='tight', dpi=200)"
   ],
   "id": "b6b4755e5111f7ba",
   "outputs": [],
   "execution_count": null
  },
  {
   "metadata": {},
   "cell_type": "code",
   "source": [
    "def plot_genome_usage(genomes: pd.Series, title: str) -> None:\n",
    "    genome_size = genomes[0].size\n",
    "\n",
    "    data = np.stack(genomes)\n",
    "    data_norm = np.stack(genomes.apply(np.vectorize(lambda x: abs(x-0.5)*2)))\n",
    "\n",
    "    calc_entropy = lambda x: entropy(np.histogram(x, range=(0,1), bins=100, density=True)[0])\n",
    "    vals = np.apply_along_axis(calc_entropy,0, data_norm) / np.log2(100)  # Normalize entropy\n",
    "    fig, ax = plt.subplots(1,1, figsize=(genome_size,5))\n",
    "    jitters = [np.random.normal(i+0.2, 0.05, size=len(genomes)) for i in range(genome_size)]\n",
    "    bxp = ax.violinplot(data, positions=[i-0.2 for i in range(genome_size)], widths=0.25)\n",
    "    for patch in bxp['bodies']:\n",
    "        patch.set_facecolor(\"darkgreen\")\n",
    "\n",
    "    for i, jit in enumerate(jitters):\n",
    "        ax.scatter(jit, data[:,i], alpha=0.7, s=20, color=\"purple\")\n",
    "\n",
    "    ax.set_ylim(-0.12, 1.05)\n",
    "    ax.set_xlim(-0.5, genome_size-0.5)\n",
    "    for i, var in enumerate(vals):\n",
    "        ax.text(i, -0.09,f\"{var:.4f}\", ha=\"center\", fontsize=10, color=\"black\", bbox=dict(facecolor='lightgray', edgecolor='black'))\n",
    "\n",
    "    ax.set_xticks(range(genome_size))\n",
    "    ax.set_xticklabels([f\"Genome_{i}\" for i in range(genome_size)], rotation=25)\n",
    "    ax.set_ylabel(\"Seed Weight\")\n",
    "    ax.grid(axis=\"y\", linestyle=\"--\", alpha=0.7)\n",
    "    plt.savefig(f\"figures/rq4/{title}_genome_usage.pdf\",bbox_inches='tight', dpi=200)"
   ],
   "id": "9c4ca0258141930c",
   "outputs": [],
   "execution_count": null
  },
  {
   "metadata": {},
   "cell_type": "code",
   "source": [
    "for ds in [\"MNIST\", \"FashionMNIST\", \"CIFAR10\", \"SVHN\"]:\n",
    "    df_gn = format_cols(pd.read_csv(f\"results/results_lmt_{ds}_wrn_sg2_ubtgn.csv\"), reduce_channels=True)\n",
    "    check_genome_mag(df_gn[\"genome\"], ds, fold=False)\n",
    "    #plot_genome_usage(df_gn[\"genome\"], title=ds)"
   ],
   "id": "95b797410cd0e113",
   "outputs": [],
   "execution_count": null
  },
  {
   "metadata": {},
   "cell_type": "code",
   "source": [
    "dfs = [pd.read_csv(f\"results/results_lmt_Imagenet_wrn_sgXL_ubtgn_{i}.csv\") for i in range(10)]\n",
    "im_smoo_df = pd.concat(dfs, ignore_index=True)\n",
    "im_smoo_df = format_cols(im_smoo_df, reduce_channels=True)\n",
    "check_genome_mag(im_smoo_df[\"genome\"], \"Imagenet\", fold=False)\n",
    "plot_genome_usage(im_smoo_df[\"genome\"], title=\"Imagenet\")"
   ],
   "id": "529968d9fd6f65f7",
   "outputs": [],
   "execution_count": null
  },
  {
   "metadata": {},
   "cell_type": "markdown",
   "source": [
    "### Plot genome usage (Distribution view)\n",
    "For these plots the genomes were only recorded in WanDB, plotting was done with the queried data using the function below.\n",
    "Note that later in the project we added genome usage to the standard data collection in the DFs, as such for replication wandb is not needed.\n",
    "\n",
    "For $\\omega = \\{\\omega_{dcb}, \\omega_{d2}\\}$ the genome data is already logged in the csv and as such can be plotted with `plot_genome_usage`."
   ],
   "id": "19eb9cdc2f60ef6b"
  },
  {
   "metadata": {},
   "cell_type": "code",
   "source": "",
   "id": "4e8c32ec0a5f74b9",
   "outputs": [],
   "execution_count": null
  }
 ],
 "metadata": {
  "kernelspec": {
   "display_name": "Python 3",
   "language": "python",
   "name": "python3"
  },
  "language_info": {
   "codemirror_mode": {
    "name": "ipython",
    "version": 2
   },
   "file_extension": ".py",
   "mimetype": "text/x-python",
   "name": "python",
   "nbconvert_exporter": "python",
   "pygments_lexer": "ipython2",
   "version": "2.7.6"
  }
 },
 "nbformat": 4,
 "nbformat_minor": 5
}
