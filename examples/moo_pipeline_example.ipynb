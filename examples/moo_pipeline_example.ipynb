{
 "cells": [
  {
   "metadata": {
    "ExecuteTime": {
     "end_time": "2024-12-06T07:42:04.442921Z",
     "start_time": "2024-12-06T07:42:03.299616Z"
    }
   },
   "cell_type": "code",
   "source": [
    "from src import NeuralTester, ExperimentConfig\n",
    "import torch\n",
    "from src.learner import PymooLearner\n",
    "from src.defaults.learner_configs import PYMOO_AGE_MOEA_DEFAULT_PARAMS\n",
    "from src.defaults.objective_configs import TARGETED_BOUNDARY_TESTING\n",
    "from models import load_stylegan\n",
    "import wandb\n",
    "from _enable_logging import enable_logging"
   ],
   "id": "2f6e14a38a8be66e",
   "outputs": [],
   "execution_count": 3
  },
  {
   "metadata": {},
   "cell_type": "markdown",
   "source": [
    "## Example usage of the Neural Tester using a MOO\n",
    "We use wandb to log progress in various steps!"
   ],
   "id": "15c3218330717165"
  },
  {
   "metadata": {
    "ExecuteTime": {
     "end_time": "2024-12-06T07:42:06.342937Z",
     "start_time": "2024-12-06T07:42:05.450663Z"
    }
   },
   "cell_type": "code",
   "source": [
    "wandb.login()\n",
    "#enable_logging()  # Setup logging to be able to view logging outputs in notebooks."
   ],
   "id": "6cb9e87dc8cdfd4d",
   "outputs": [
    {
     "name": "stderr",
     "output_type": "stream",
     "text": [
      "\u001B[34m\u001B[1mwandb\u001B[0m: Currently logged in as: \u001B[33moliverweissl\u001B[0m. Use \u001B[1m`wandb login --relogin`\u001B[0m to force relogin\n"
     ]
    },
    {
     "data": {
      "text/plain": [
       "True"
      ]
     },
     "execution_count": 4,
     "metadata": {},
     "output_type": "execute_result"
    }
   ],
   "execution_count": 4
  },
  {
   "metadata": {
    "ExecuteTime": {
     "end_time": "2024-12-06T07:42:08.069055Z",
     "start_time": "2024-12-06T07:42:06.882030Z"
    }
   },
   "cell_type": "code",
   "source": [
    "# Define the configurations for our experiments.\n",
    "metrics = TARGETED_BOUNDARY_TESTING\n",
    "conf = ExperimentConfig(\n",
    "    samples_per_class=10,\n",
    "    generations=150,\n",
    "    mix_dim_range=(0, 8),\n",
    "    predictor=torch.load(\"../models/predictors/wrn_mnist.pkl\"),  # The System under test (SUT).\n",
    "    generator=load_stylegan(\"../models/generators/sg2_mnist.pkl\"),  # The generator network.\n",
    "    metrics=metrics,\n",
    "    classes=10,\n",
    "    save_to=\"results_lmt_mnist_wrn_sg2_ubt\",\n",
    ")"
   ],
   "id": "29f9d41d3c4aff2b",
   "outputs": [],
   "execution_count": 5
  },
  {
   "metadata": {
    "ExecuteTime": {
     "end_time": "2024-12-06T07:42:08.079478Z",
     "start_time": "2024-12-06T07:42:08.075137Z"
    }
   },
   "cell_type": "code",
   "source": [
    "learner_params = PYMOO_AGE_MOEA_DEFAULT_PARAMS\n",
    "learner_params[\"n_var\"] = conf.genome_size\n",
    "learner_params[\"num_objectives\"] = len(metrics)\n",
    "learner = PymooLearner(**learner_params)  # The learner for search based optimization of candidates."
   ],
   "id": "54f7d469be815d45",
   "outputs": [],
   "execution_count": 6
  },
  {
   "metadata": {
    "ExecuteTime": {
     "end_time": "2024-12-06T07:42:08.157020Z",
     "start_time": "2024-12-06T07:42:08.144103Z"
    }
   },
   "cell_type": "code",
   "source": [
    "# Here we initialize the Tester object.\n",
    "tester = NeuralTester(\n",
    "    config=conf,\n",
    "    learner=learner,\n",
    "    device=torch.device(\"cuda\"),\n",
    ")"
   ],
   "id": "27e62cf8a8025898",
   "outputs": [],
   "execution_count": 7
  },
  {
   "metadata": {
    "ExecuteTime": {
     "end_time": "2024-12-06T09:11:01.566613Z",
     "start_time": "2024-12-06T07:42:09.520279Z"
    }
   },
   "cell_type": "code",
   "source": [
    "# We start the testing procedure.\n",
    "tester.test()"
   ],
   "id": "e9c0a9b67791a366",
   "outputs": [
    {
     "data": {
      "text/plain": [
       "<IPython.core.display.HTML object>"
      ],
      "text/html": [
       "wandb version 0.19.0 is available!  To upgrade, please run:\n",
       " $ pip install wandb --upgrade"
      ]
     },
     "metadata": {},
     "output_type": "display_data"
    },
    {
     "data": {
      "text/plain": [
       "<IPython.core.display.HTML object>"
      ],
      "text/html": [
       "Tracking run with wandb version 0.13.5"
      ]
     },
     "metadata": {},
     "output_type": "display_data"
    },
    {
     "data": {
      "text/plain": [
       "<IPython.core.display.HTML object>"
      ],
      "text/html": [
       "Run data is saved locally in <code>/home/oliver/PycharmProjects/NeuralStyle/examples/wandb/run-20241206_084209-fz1ogr6w</code>"
      ]
     },
     "metadata": {},
     "output_type": "display_data"
    },
    {
     "data": {
      "text/plain": [
       "<IPython.core.display.HTML object>"
      ],
      "text/html": [
       "Syncing run <strong><a href=\"https://wandb.ai/oliverweissl/NeuralStyleSearch/runs/fz1ogr6w\" target=\"_blank\">radiant-wildflower-1203</a></strong> to <a href=\"https://wandb.ai/oliverweissl/NeuralStyleSearch\" target=\"_blank\">Weights & Biases</a> (<a href=\"https://wandb.me/run\" target=\"_blank\">docs</a>)<br/>"
      ]
     },
     "metadata": {},
     "output_type": "display_data"
    },
    {
     "name": "stdout",
     "output_type": "stream",
     "text": [
      "Setting up PyTorch plugin \"bias_act_plugin\"... Done.\n",
      "Setting up PyTorch plugin \"upfirdn2d_plugin\"... Done.\n"
     ]
    },
    {
     "data": {
      "text/plain": [
       "<IPython.core.display.HTML object>"
      ],
      "text/html": [
       "Finishing last run (ID:fz1ogr6w) before initializing another..."
      ]
     },
     "metadata": {},
     "output_type": "display_data"
    },
    {
     "data": {
      "text/plain": [
       "<IPython.core.display.HTML object>"
      ],
      "text/html": [
       "Waiting for W&B process to finish... <strong style=\"color:green\">(success).</strong>"
      ]
     },
     "metadata": {},
     "output_type": "display_data"
    },
    {
     "data": {
      "text/plain": [
       "VBox(children=(Label(value='0.009 MB of 0.010 MB uploaded (0.000 MB deduped)\\r'), FloatProgress(value=0.935084…"
      ],
      "application/vnd.jupyter.widget-view+json": {
       "version_major": 2,
       "version_minor": 0,
       "model_id": "8c69e2c2b34b44c89e6b606e8f6aaf46"
      }
     },
     "metadata": {},
     "output_type": "display_data"
    },
    {
     "data": {
      "text/plain": [
       "<IPython.core.display.HTML object>"
      ],
      "text/html": [
       "<style>\n",
       "    table.wandb td:nth-child(1) { padding: 0 10px; text-align: left ; width: auto;} td:nth-child(2) {text-align: left ; width: 100%}\n",
       "    .wandb-row { display: flex; flex-direction: row; flex-wrap: wrap; justify-content: flex-start; width: 100% }\n",
       "    .wandb-col { display: flex; flex-direction: column; flex-basis: 100%; flex: 1; padding: 10px; }\n",
       "    </style>\n",
       "<div class=\"wandb-row\"><div class=\"wandb-col\"><h3>Run history:</h3><br/><table class=\"wandb\"><tr><td>max_NaiveCB</td><td>██▆▇▄▇▆▆▅▅▅▆▅▅█▃▃▅▇▆▆▅▇▄▄▄▃▄▃▆▅▄▇▃▄▄▁▄▂▃</td></tr><tr><td>mean_NaiveCB</td><td>█▆▂▂▂▂▂▂▂▂▂▂▁▂▁▁▁▁▂▂▂▁▂▁▁▁▁▁▁▁▁▁▁▁▁▁▁▁▁▁</td></tr><tr><td>min_NaiveCB</td><td>▂█▂▁▁▁▁▁▁▁▁▁▁▁▂▁▁▁▁▁▁▁▁▁▁▁▁▁▁▁▁▁▁▁▁▁▁▁▁▁</td></tr><tr><td>std_NaiveCB</td><td>▃█▆▅▅▆▄▅▅▄▃▅▃▄▄▂▂▃▄▅▅▃▄▃▃▃▃▃▂▄▃▃▄▃▃▃▃▂▁▃</td></tr></table><br/></div><div class=\"wandb-col\"><h3>Run summary:</h3><br/><table class=\"wandb\"><tr><td>expected_boundary</td><td>5</td></tr><tr><td>max_NaiveCB</td><td>0.61453</td></tr><tr><td>mean_NaiveCB</td><td>0.09779</td></tr><tr><td>min_NaiveCB</td><td>1e-05</td></tr><tr><td>std_NaiveCB</td><td>0.14961</td></tr><tr><td>w0_trials</td><td>1</td></tr><tr><td>wn_trials</td><td>1</td></tr></table><br/></div></div>"
      ]
     },
     "metadata": {},
     "output_type": "display_data"
    },
    {
     "data": {
      "text/plain": [
       "<IPython.core.display.HTML object>"
      ],
      "text/html": [
       "Synced <strong style=\"color:#cdcd00\">radiant-wildflower-1203</strong>: <a href=\"https://wandb.ai/oliverweissl/NeuralStyleSearch/runs/fz1ogr6w\" target=\"_blank\">https://wandb.ai/oliverweissl/NeuralStyleSearch/runs/fz1ogr6w</a><br/>Synced 6 W&B file(s), 2 media file(s), 2 artifact file(s) and 0 other file(s)"
      ]
     },
     "metadata": {},
     "output_type": "display_data"
    },
    {
     "data": {
      "text/plain": [
       "<IPython.core.display.HTML object>"
      ],
      "text/html": [
       "Find logs at: <code>./wandb/run-20241206_084209-fz1ogr6w/logs</code>"
      ]
     },
     "metadata": {},
     "output_type": "display_data"
    },
    {
     "data": {
      "text/plain": [
       "<IPython.core.display.HTML object>"
      ],
      "text/html": [
       "Successfully finished last run (ID:fz1ogr6w). Initializing new run:<br/>"
      ]
     },
     "metadata": {},
     "output_type": "display_data"
    },
    {
     "data": {
      "text/plain": [
       "VBox(children=(Label(value='Waiting for wandb.init()...\\r'), FloatProgress(value=0.01667054433346493, max=1.0)…"
      ],
      "application/vnd.jupyter.widget-view+json": {
       "version_major": 2,
       "version_minor": 0,
       "model_id": "2cc8c288cf9340208c9c091ab0d2ac8e"
      }
     },
     "metadata": {},
     "output_type": "display_data"
    },
    {
     "data": {
      "text/plain": [
       "<IPython.core.display.HTML object>"
      ],
      "text/html": [
       "wandb version 0.19.0 is available!  To upgrade, please run:\n",
       " $ pip install wandb --upgrade"
      ]
     },
     "metadata": {},
     "output_type": "display_data"
    },
    {
     "data": {
      "text/plain": [
       "<IPython.core.display.HTML object>"
      ],
      "text/html": [
       "Tracking run with wandb version 0.13.5"
      ]
     },
     "metadata": {},
     "output_type": "display_data"
    },
    {
     "data": {
      "text/plain": [
       "<IPython.core.display.HTML object>"
      ],
      "text/html": [
       "Run data is saved locally in <code>/home/oliver/PycharmProjects/NeuralStyle/examples/wandb/run-20241206_084258-pioh2zl3</code>"
      ]
     },
     "metadata": {},
     "output_type": "display_data"
    },
    {
     "data": {
      "text/plain": [
       "<IPython.core.display.HTML object>"
      ],
      "text/html": [
       "Syncing run <strong><a href=\"https://wandb.ai/oliverweissl/NeuralStyleSearch/runs/pioh2zl3\" target=\"_blank\">treasured-rain-1204</a></strong> to <a href=\"https://wandb.ai/oliverweissl/NeuralStyleSearch\" target=\"_blank\">Weights & Biases</a> (<a href=\"https://wandb.me/run\" target=\"_blank\">docs</a>)<br/>"
      ]
     },
     "metadata": {},
     "output_type": "display_data"
    },
    {
     "data": {
      "text/plain": [
       "<IPython.core.display.HTML object>"
      ],
      "text/html": [
       "Finishing last run (ID:pioh2zl3) before initializing another..."
      ]
     },
     "metadata": {},
     "output_type": "display_data"
    },
    {
     "data": {
      "text/plain": [
       "<IPython.core.display.HTML object>"
      ],
      "text/html": [
       "Waiting for W&B process to finish... <strong style=\"color:green\">(success).</strong>"
      ]
     },
     "metadata": {},
     "output_type": "display_data"
    },
    {
     "data": {
      "text/plain": [
       "<IPython.core.display.HTML object>"
      ],
      "text/html": [
       "<style>\n",
       "    table.wandb td:nth-child(1) { padding: 0 10px; text-align: left ; width: auto;} td:nth-child(2) {text-align: left ; width: 100%}\n",
       "    .wandb-row { display: flex; flex-direction: row; flex-wrap: wrap; justify-content: flex-start; width: 100% }\n",
       "    .wandb-col { display: flex; flex-direction: column; flex-basis: 100%; flex: 1; padding: 10px; }\n",
       "    </style>\n",
       "<div class=\"wandb-row\"><div class=\"wandb-col\"><h3>Run history:</h3><br/><table class=\"wandb\"><tr><td>max_NaiveCB</td><td>▄▃▃▁▁▄▂▄▃▆▃▂▃▄▄▃█▃▃▅▂▃▃▂▂▇▆▃█▃▅▄▄▂▄▁▂▁▄▃</td></tr><tr><td>mean_NaiveCB</td><td>▆▃█▆▄▇▅▄▆▇▃▅▅▇▇▆▆▄▇▆▃▂▄▅▄▅▆▄▄▁▅▆▄▃▄▂▄▃▆▃</td></tr><tr><td>min_NaiveCB</td><td>▅▆█▇▇█▇▇▇██▇██▇██▇▅█▅▁▇█▆▅▇▇▄▆▇▇▆▇▃▇▅▄▇▆</td></tr><tr><td>std_NaiveCB</td><td>▄▄▂▂▂▁▂▃▃▂▃▃▂▁▂▂▃▄▅▂▄█▃▂▃▃▄▄▅▅▃▃▃▃▇▅▄▄▃▃</td></tr></table><br/></div><div class=\"wandb-col\"><h3>Run summary:</h3><br/><table class=\"wandb\"><tr><td>expected_boundary</td><td>6</td></tr><tr><td>max_NaiveCB</td><td>0.9995</td></tr><tr><td>mean_NaiveCB</td><td>0.99942</td></tr><tr><td>min_NaiveCB</td><td>0.9992</td></tr><tr><td>std_NaiveCB</td><td>6e-05</td></tr><tr><td>w0_trials</td><td>1</td></tr><tr><td>wn_trials</td><td>1</td></tr></table><br/></div></div>"
      ]
     },
     "metadata": {},
     "output_type": "display_data"
    },
    {
     "data": {
      "text/plain": [
       "<IPython.core.display.HTML object>"
      ],
      "text/html": [
       "Synced <strong style=\"color:#cdcd00\">treasured-rain-1204</strong>: <a href=\"https://wandb.ai/oliverweissl/NeuralStyleSearch/runs/pioh2zl3\" target=\"_blank\">https://wandb.ai/oliverweissl/NeuralStyleSearch/runs/pioh2zl3</a><br/>Synced 5 W&B file(s), 2 media file(s), 2 artifact file(s) and 0 other file(s)"
      ]
     },
     "metadata": {},
     "output_type": "display_data"
    },
    {
     "data": {
      "text/plain": [
       "<IPython.core.display.HTML object>"
      ],
      "text/html": [
       "Find logs at: <code>./wandb/run-20241206_084258-pioh2zl3/logs</code>"
      ]
     },
     "metadata": {},
     "output_type": "display_data"
    },
    {
     "data": {
      "text/plain": [
       "<IPython.core.display.HTML object>"
      ],
      "text/html": [
       "Successfully finished last run (ID:pioh2zl3). Initializing new run:<br/>"
      ]
     },
     "metadata": {},
     "output_type": "display_data"
    },
    {
     "data": {
      "text/plain": [
       "VBox(children=(Label(value='Waiting for wandb.init()...\\r'), FloatProgress(value=0.01666896041667011, max=1.0)…"
      ],
      "application/vnd.jupyter.widget-view+json": {
       "version_major": 2,
       "version_minor": 0,
       "model_id": "b59025b593a44b7287a0f95dbfb929e1"
      }
     },
     "metadata": {},
     "output_type": "display_data"
    },
    {
     "data": {
      "text/plain": [
       "<IPython.core.display.HTML object>"
      ],
      "text/html": [
       "wandb version 0.19.0 is available!  To upgrade, please run:\n",
       " $ pip install wandb --upgrade"
      ]
     },
     "metadata": {},
     "output_type": "display_data"
    },
    {
     "data": {
      "text/plain": [
       "<IPython.core.display.HTML object>"
      ],
      "text/html": [
       "Tracking run with wandb version 0.13.5"
      ]
     },
     "metadata": {},
     "output_type": "display_data"
    },
    {
     "data": {
      "text/plain": [
       "<IPython.core.display.HTML object>"
      ],
      "text/html": [
       "Run data is saved locally in <code>/home/oliver/PycharmProjects/NeuralStyle/examples/wandb/run-20241206_084352-1zc36f6w</code>"
      ]
     },
     "metadata": {},
     "output_type": "display_data"
    },
    {
     "data": {
      "text/plain": [
       "<IPython.core.display.HTML object>"
      ],
      "text/html": [
       "Syncing run <strong><a href=\"https://wandb.ai/oliverweissl/NeuralStyleSearch/runs/1zc36f6w\" target=\"_blank\">pleasant-frost-1205</a></strong> to <a href=\"https://wandb.ai/oliverweissl/NeuralStyleSearch\" target=\"_blank\">Weights & Biases</a> (<a href=\"https://wandb.me/run\" target=\"_blank\">docs</a>)<br/>"
      ]
     },
     "metadata": {},
     "output_type": "display_data"
    },
    {
     "data": {
      "text/plain": [
       "<IPython.core.display.HTML object>"
      ],
      "text/html": [
       "Finishing last run (ID:1zc36f6w) before initializing another..."
      ]
     },
     "metadata": {},
     "output_type": "display_data"
    },
    {
     "data": {
      "text/plain": [
       "<IPython.core.display.HTML object>"
      ],
      "text/html": [
       "Waiting for W&B process to finish... <strong style=\"color:green\">(success).</strong>"
      ]
     },
     "metadata": {},
     "output_type": "display_data"
    },
    {
     "data": {
      "text/plain": [
       "VBox(children=(Label(value='0.009 MB of 0.010 MB uploaded (0.000 MB deduped)\\r'), FloatProgress(value=0.935636…"
      ],
      "application/vnd.jupyter.widget-view+json": {
       "version_major": 2,
       "version_minor": 0,
       "model_id": "edc0642553694364b89b0c9e8060e783"
      }
     },
     "metadata": {},
     "output_type": "display_data"
    },
    {
     "data": {
      "text/plain": [
       "<IPython.core.display.HTML object>"
      ],
      "text/html": [
       "<style>\n",
       "    table.wandb td:nth-child(1) { padding: 0 10px; text-align: left ; width: auto;} td:nth-child(2) {text-align: left ; width: 100%}\n",
       "    .wandb-row { display: flex; flex-direction: row; flex-wrap: wrap; justify-content: flex-start; width: 100% }\n",
       "    .wandb-col { display: flex; flex-direction: column; flex-basis: 100%; flex: 1; padding: 10px; }\n",
       "    </style>\n",
       "<div class=\"wandb-row\"><div class=\"wandb-col\"><h3>Run history:</h3><br/><table class=\"wandb\"><tr><td>max_NaiveCB</td><td>▁▆▇▃▂▆▁▇▂▅▄▄▁▇▁▆▅▃▂█▄▃▂▄▂▃▃▃▃▃▁▄▁▄▅▁▆▃▁▁</td></tr><tr><td>mean_NaiveCB</td><td>▄█▃▄▄▄▁▄▁▄▄▃▄▂▄▃▃▁▅▅▃▄▂▄▂▃▆▂▆▅▂▄▅▂▄▃▂▂▄▂</td></tr><tr><td>min_NaiveCB</td><td>█▅▅▆▅▃▆▄▅▆▃▅▇▅▆▃▁▃▇▅▃▃▅▄▆▄▅▄▇▆▄▆▆▅▆▃▆▄█▃</td></tr><tr><td>std_NaiveCB</td><td>▂▂▆▃▃▄▅▅▅▄▅▅▂▄▃▆█▇▃▃▃▄▅▄▅▇▄▆▂▂▆▃▃▅▂▆▆▆▁▇</td></tr></table><br/></div><div class=\"wandb-col\"><h3>Run summary:</h3><br/><table class=\"wandb\"><tr><td>expected_boundary</td><td>5</td></tr><tr><td>max_NaiveCB</td><td>0.99995</td></tr><tr><td>mean_NaiveCB</td><td>0.99989</td></tr><tr><td>min_NaiveCB</td><td>0.9997</td></tr><tr><td>std_NaiveCB</td><td>4e-05</td></tr><tr><td>w0_trials</td><td>1</td></tr><tr><td>wn_trials</td><td>1</td></tr></table><br/></div></div>"
      ]
     },
     "metadata": {},
     "output_type": "display_data"
    },
    {
     "data": {
      "text/plain": [
       "<IPython.core.display.HTML object>"
      ],
      "text/html": [
       "Synced <strong style=\"color:#cdcd00\">pleasant-frost-1205</strong>: <a href=\"https://wandb.ai/oliverweissl/NeuralStyleSearch/runs/1zc36f6w\" target=\"_blank\">https://wandb.ai/oliverweissl/NeuralStyleSearch/runs/1zc36f6w</a><br/>Synced 5 W&B file(s), 2 media file(s), 2 artifact file(s) and 0 other file(s)"
      ]
     },
     "metadata": {},
     "output_type": "display_data"
    },
    {
     "data": {
      "text/plain": [
       "<IPython.core.display.HTML object>"
      ],
      "text/html": [
       "Find logs at: <code>./wandb/run-20241206_084352-1zc36f6w/logs</code>"
      ]
     },
     "metadata": {},
     "output_type": "display_data"
    },
    {
     "data": {
      "text/plain": [
       "<IPython.core.display.HTML object>"
      ],
      "text/html": [
       "Successfully finished last run (ID:1zc36f6w). Initializing new run:<br/>"
      ]
     },
     "metadata": {},
     "output_type": "display_data"
    },
    {
     "data": {
      "text/plain": [
       "VBox(children=(Label(value='Waiting for wandb.init()...\\r'), FloatProgress(value=0.016669496116810477, max=1.0…"
      ],
      "application/vnd.jupyter.widget-view+json": {
       "version_major": 2,
       "version_minor": 0,
       "model_id": "ffbf13be769a42eb8cc0132dd15a9a0c"
      }
     },
     "metadata": {},
     "output_type": "display_data"
    },
    {
     "data": {
      "text/plain": [
       "<IPython.core.display.HTML object>"
      ],
      "text/html": [
       "wandb version 0.19.0 is available!  To upgrade, please run:\n",
       " $ pip install wandb --upgrade"
      ]
     },
     "metadata": {},
     "output_type": "display_data"
    },
    {
     "data": {
      "text/plain": [
       "<IPython.core.display.HTML object>"
      ],
      "text/html": [
       "Tracking run with wandb version 0.13.5"
      ]
     },
     "metadata": {},
     "output_type": "display_data"
    },
    {
     "data": {
      "text/plain": [
       "<IPython.core.display.HTML object>"
      ],
      "text/html": [
       "Run data is saved locally in <code>/home/oliver/PycharmProjects/NeuralStyle/examples/wandb/run-20241206_084446-vz1girz0</code>"
      ]
     },
     "metadata": {},
     "output_type": "display_data"
    },
    {
     "data": {
      "text/plain": [
       "<IPython.core.display.HTML object>"
      ],
      "text/html": [
       "Syncing run <strong><a href=\"https://wandb.ai/oliverweissl/NeuralStyleSearch/runs/vz1girz0\" target=\"_blank\">magic-smoke-1206</a></strong> to <a href=\"https://wandb.ai/oliverweissl/NeuralStyleSearch\" target=\"_blank\">Weights & Biases</a> (<a href=\"https://wandb.me/run\" target=\"_blank\">docs</a>)<br/>"
      ]
     },
     "metadata": {},
     "output_type": "display_data"
    },
    {
     "data": {
      "text/plain": [
       "<IPython.core.display.HTML object>"
      ],
      "text/html": [
       "Finishing last run (ID:vz1girz0) before initializing another..."
      ]
     },
     "metadata": {},
     "output_type": "display_data"
    },
    {
     "data": {
      "text/plain": [
       "<IPython.core.display.HTML object>"
      ],
      "text/html": [
       "Waiting for W&B process to finish... <strong style=\"color:green\">(success).</strong>"
      ]
     },
     "metadata": {},
     "output_type": "display_data"
    },
    {
     "data": {
      "text/plain": [
       "VBox(children=(Label(value='0.009 MB of 0.010 MB uploaded (0.000 MB deduped)\\r'), FloatProgress(value=0.937809…"
      ],
      "application/vnd.jupyter.widget-view+json": {
       "version_major": 2,
       "version_minor": 0,
       "model_id": "11af8a6ac88940fb82c418e1ac9a2a54"
      }
     },
     "metadata": {},
     "output_type": "display_data"
    },
    {
     "data": {
      "text/plain": [
       "<IPython.core.display.HTML object>"
      ],
      "text/html": [
       "<style>\n",
       "    table.wandb td:nth-child(1) { padding: 0 10px; text-align: left ; width: auto;} td:nth-child(2) {text-align: left ; width: 100%}\n",
       "    .wandb-row { display: flex; flex-direction: row; flex-wrap: wrap; justify-content: flex-start; width: 100% }\n",
       "    .wandb-col { display: flex; flex-direction: column; flex-basis: 100%; flex: 1; padding: 10px; }\n",
       "    </style>\n",
       "<div class=\"wandb-row\"><div class=\"wandb-col\"><h3>Run history:</h3><br/><table class=\"wandb\"><tr><td>max_NaiveCB</td><td>▃▃▃▆▃▁▅▂▃▅▅▇█▅▆▆▆▅▅█▂▃▇▆▂▄▇▇▆▂▅█▃▃▃▂▆▄▃▁</td></tr><tr><td>mean_NaiveCB</td><td>▅▃▃█▄▄▄▄▆▆▅▇▅▆▆▄▁▃▅▅▆▅▇▅▅▅▆▅▄▅▅▇▆▆▅▂▇▅▅▆</td></tr><tr><td>min_NaiveCB</td><td>█▇▇█▇▆▆▇▂▇▄█▇▇▇▆▄▇▇▇▇▇█▇▁▆▇▆▆█▇▇▇▇▇▃█▇▆▅</td></tr><tr><td>std_NaiveCB</td><td>▂▁▃▂▂▃▅▃▃▃▅▄▃▃▃▄█▃▃▄▂▃▃▃▆▃▃▅▄▁▂▂▃▂▂▅▂▁▃▂</td></tr></table><br/></div><div class=\"wandb-col\"><h3>Run summary:</h3><br/><table class=\"wandb\"><tr><td>expected_boundary</td><td>9</td></tr><tr><td>max_NaiveCB</td><td>0.97686</td></tr><tr><td>mean_NaiveCB</td><td>0.9655</td></tr><tr><td>min_NaiveCB</td><td>0.94577</td></tr><tr><td>std_NaiveCB</td><td>0.0062</td></tr><tr><td>w0_trials</td><td>1</td></tr><tr><td>wn_trials</td><td>1</td></tr></table><br/></div></div>"
      ]
     },
     "metadata": {},
     "output_type": "display_data"
    },
    {
     "data": {
      "text/plain": [
       "<IPython.core.display.HTML object>"
      ],
      "text/html": [
       "Synced <strong style=\"color:#cdcd00\">magic-smoke-1206</strong>: <a href=\"https://wandb.ai/oliverweissl/NeuralStyleSearch/runs/vz1girz0\" target=\"_blank\">https://wandb.ai/oliverweissl/NeuralStyleSearch/runs/vz1girz0</a><br/>Synced 5 W&B file(s), 2 media file(s), 2 artifact file(s) and 0 other file(s)"
      ]
     },
     "metadata": {},
     "output_type": "display_data"
    },
    {
     "data": {
      "text/plain": [
       "<IPython.core.display.HTML object>"
      ],
      "text/html": [
       "Find logs at: <code>./wandb/run-20241206_084446-vz1girz0/logs</code>"
      ]
     },
     "metadata": {},
     "output_type": "display_data"
    },
    {
     "data": {
      "text/plain": [
       "<IPython.core.display.HTML object>"
      ],
      "text/html": [
       "Successfully finished last run (ID:vz1girz0). Initializing new run:<br/>"
      ]
     },
     "metadata": {},
     "output_type": "display_data"
    },
    {
     "data": {
      "text/plain": [
       "VBox(children=(Label(value='Waiting for wandb.init()...\\r'), FloatProgress(value=0.016669106683305776, max=1.0…"
      ],
      "application/vnd.jupyter.widget-view+json": {
       "version_major": 2,
       "version_minor": 0,
       "model_id": "d71befbdb8494299aebbfff5e0b424d1"
      }
     },
     "metadata": {},
     "output_type": "display_data"
    },
    {
     "data": {
      "text/plain": [
       "<IPython.core.display.HTML object>"
      ],
      "text/html": [
       "wandb version 0.19.0 is available!  To upgrade, please run:\n",
       " $ pip install wandb --upgrade"
      ]
     },
     "metadata": {},
     "output_type": "display_data"
    },
    {
     "data": {
      "text/plain": [
       "<IPython.core.display.HTML object>"
      ],
      "text/html": [
       "Tracking run with wandb version 0.13.5"
      ]
     },
     "metadata": {},
     "output_type": "display_data"
    },
    {
     "data": {
      "text/plain": [
       "<IPython.core.display.HTML object>"
      ],
      "text/html": [
       "Run data is saved locally in <code>/home/oliver/PycharmProjects/NeuralStyle/examples/wandb/run-20241206_084538-e0ytjdmc</code>"
      ]
     },
     "metadata": {},
     "output_type": "display_data"
    },
    {
     "data": {
      "text/plain": [
       "<IPython.core.display.HTML object>"
      ],
      "text/html": [
       "Syncing run <strong><a href=\"https://wandb.ai/oliverweissl/NeuralStyleSearch/runs/e0ytjdmc\" target=\"_blank\">iconic-serenity-1207</a></strong> to <a href=\"https://wandb.ai/oliverweissl/NeuralStyleSearch\" target=\"_blank\">Weights & Biases</a> (<a href=\"https://wandb.me/run\" target=\"_blank\">docs</a>)<br/>"
      ]
     },
     "metadata": {},
     "output_type": "display_data"
    },
    {
     "data": {
      "text/plain": [
       "<IPython.core.display.HTML object>"
      ],
      "text/html": [
       "Finishing last run (ID:e0ytjdmc) before initializing another..."
      ]
     },
     "metadata": {},
     "output_type": "display_data"
    },
    {
     "data": {
      "text/plain": [
       "<IPython.core.display.HTML object>"
      ],
      "text/html": [
       "Waiting for W&B process to finish... <strong style=\"color:green\">(success).</strong>"
      ]
     },
     "metadata": {},
     "output_type": "display_data"
    },
    {
     "data": {
      "text/plain": [
       "<IPython.core.display.HTML object>"
      ],
      "text/html": [
       "<style>\n",
       "    table.wandb td:nth-child(1) { padding: 0 10px; text-align: left ; width: auto;} td:nth-child(2) {text-align: left ; width: 100%}\n",
       "    .wandb-row { display: flex; flex-direction: row; flex-wrap: wrap; justify-content: flex-start; width: 100% }\n",
       "    .wandb-col { display: flex; flex-direction: column; flex-basis: 100%; flex: 1; padding: 10px; }\n",
       "    </style>\n",
       "<div class=\"wandb-row\"><div class=\"wandb-col\"><h3>Run history:</h3><br/><table class=\"wandb\"><tr><td>max_NaiveCB</td><td>▅█▄▅▆▅▃▅▃▆█▄█▇▆▇▇▆▅▄▆▇▄▅▅▅▅▄▆▆▆▅▅▄▃▄▆▅▄▁</td></tr><tr><td>mean_NaiveCB</td><td>▃▅▆▄▆▅▁▅▄█▄▃▇▂▃▄▆▅▇▆▅▄▅█▅▃█▇▅▁▅▆▇▆▃▅▆▄▅▅</td></tr><tr><td>min_NaiveCB</td><td>▆▅▆▇▇▆▁▆▆▇▅▄▆▄▇▆▇▆▇█▆▆▆▇▇▆▇█▆▅▇▇▇▇▇▆▆▃▇█</td></tr><tr><td>std_NaiveCB</td><td>▅▄▃▄▂▄█▃▂▂▄▆▃▆▃▃▃▃▃▁▃▄▃▂▃▄▂▂▃▅▃▃▁▂▂▄▃▆▂▁</td></tr></table><br/></div><div class=\"wandb-col\"><h3>Run summary:</h3><br/><table class=\"wandb\"><tr><td>expected_boundary</td><td>6</td></tr><tr><td>max_NaiveCB</td><td>0.99977</td></tr><tr><td>mean_NaiveCB</td><td>0.99953</td></tr><tr><td>min_NaiveCB</td><td>0.99905</td></tr><tr><td>std_NaiveCB</td><td>0.00013</td></tr><tr><td>w0_trials</td><td>1</td></tr><tr><td>wn_trials</td><td>1</td></tr></table><br/></div></div>"
      ]
     },
     "metadata": {},
     "output_type": "display_data"
    },
    {
     "data": {
      "text/plain": [
       "<IPython.core.display.HTML object>"
      ],
      "text/html": [
       "Synced <strong style=\"color:#cdcd00\">iconic-serenity-1207</strong>: <a href=\"https://wandb.ai/oliverweissl/NeuralStyleSearch/runs/e0ytjdmc\" target=\"_blank\">https://wandb.ai/oliverweissl/NeuralStyleSearch/runs/e0ytjdmc</a><br/>Synced 5 W&B file(s), 2 media file(s), 2 artifact file(s) and 0 other file(s)"
      ]
     },
     "metadata": {},
     "output_type": "display_data"
    },
    {
     "data": {
      "text/plain": [
       "<IPython.core.display.HTML object>"
      ],
      "text/html": [
       "Find logs at: <code>./wandb/run-20241206_084538-e0ytjdmc/logs</code>"
      ]
     },
     "metadata": {},
     "output_type": "display_data"
    },
    {
     "data": {
      "text/plain": [
       "<IPython.core.display.HTML object>"
      ],
      "text/html": [
       "Successfully finished last run (ID:e0ytjdmc). Initializing new run:<br/>"
      ]
     },
     "metadata": {},
     "output_type": "display_data"
    },
    {
     "data": {
      "text/plain": [
       "VBox(children=(Label(value='Waiting for wandb.init()...\\r'), FloatProgress(value=0.016669160749976677, max=1.0…"
      ],
      "application/vnd.jupyter.widget-view+json": {
       "version_major": 2,
       "version_minor": 0,
       "model_id": "b0648dec72d149e891ce9387d202e502"
      }
     },
     "metadata": {},
     "output_type": "display_data"
    },
    {
     "data": {
      "text/plain": [
       "<IPython.core.display.HTML object>"
      ],
      "text/html": [
       "wandb version 0.19.0 is available!  To upgrade, please run:\n",
       " $ pip install wandb --upgrade"
      ]
     },
     "metadata": {},
     "output_type": "display_data"
    },
    {
     "data": {
      "text/plain": [
       "<IPython.core.display.HTML object>"
      ],
      "text/html": [
       "Tracking run with wandb version 0.13.5"
      ]
     },
     "metadata": {},
     "output_type": "display_data"
    },
    {
     "data": {
      "text/plain": [
       "<IPython.core.display.HTML object>"
      ],
      "text/html": [
       "Run data is saved locally in <code>/home/oliver/PycharmProjects/NeuralStyle/examples/wandb/run-20241206_084632-s5d11vvf</code>"
      ]
     },
     "metadata": {},
     "output_type": "display_data"
    },
    {
     "data": {
      "text/plain": [
       "<IPython.core.display.HTML object>"
      ],
      "text/html": [
       "Syncing run <strong><a href=\"https://wandb.ai/oliverweissl/NeuralStyleSearch/runs/s5d11vvf\" target=\"_blank\">laced-energy-1208</a></strong> to <a href=\"https://wandb.ai/oliverweissl/NeuralStyleSearch\" target=\"_blank\">Weights & Biases</a> (<a href=\"https://wandb.me/run\" target=\"_blank\">docs</a>)<br/>"
      ]
     },
     "metadata": {},
     "output_type": "display_data"
    },
    {
     "data": {
      "text/plain": [
       "<IPython.core.display.HTML object>"
      ],
      "text/html": [
       "Finishing last run (ID:s5d11vvf) before initializing another..."
      ]
     },
     "metadata": {},
     "output_type": "display_data"
    },
    {
     "data": {
      "text/plain": [
       "<IPython.core.display.HTML object>"
      ],
      "text/html": [
       "Waiting for W&B process to finish... <strong style=\"color:green\">(success).</strong>"
      ]
     },
     "metadata": {},
     "output_type": "display_data"
    },
    {
     "data": {
      "text/plain": [
       "<IPython.core.display.HTML object>"
      ],
      "text/html": [
       "<style>\n",
       "    table.wandb td:nth-child(1) { padding: 0 10px; text-align: left ; width: auto;} td:nth-child(2) {text-align: left ; width: 100%}\n",
       "    .wandb-row { display: flex; flex-direction: row; flex-wrap: wrap; justify-content: flex-start; width: 100% }\n",
       "    .wandb-col { display: flex; flex-direction: column; flex-basis: 100%; flex: 1; padding: 10px; }\n",
       "    </style>\n",
       "<div class=\"wandb-row\"><div class=\"wandb-col\"><h3>Run history:</h3><br/><table class=\"wandb\"><tr><td>max_NaiveCB</td><td>███▆▅▇▆▁▅▆▅▅▆▆▄▇▆▆▅▅▆▅▃▆▅▆▆▅▇▇▆▅▆▇▆█▅█▆▆</td></tr><tr><td>mean_NaiveCB</td><td>▆█▅▄▃▃▂▁▄▂▄▅▅▄▂▄▃▂▁▂▄▄▁▂▃▃▃▂▃▂▃▃▃▄▅▃▂▃▂▂</td></tr><tr><td>min_NaiveCB</td><td>▅▄▇▆▇▃▅█▅▂▆▄▂▄▅▁▄▃▅▅▄▄▇▄▄▄▄▆▂▄▄▅▄▅▅▂▄▅▅▅</td></tr><tr><td>std_NaiveCB</td><td>▅▇▅▃▄▅▅▁▃▄▃▄▃▅▂▆▄▅▄▄▃▄▁▅▄▄▇▃▆▆▄▅▆▅▅█▆▅▄▃</td></tr></table><br/></div><div class=\"wandb-col\"><h3>Run summary:</h3><br/><table class=\"wandb\"><tr><td>expected_boundary</td><td>6</td></tr><tr><td>max_NaiveCB</td><td>0.99881</td></tr><tr><td>mean_NaiveCB</td><td>0.99631</td></tr><tr><td>min_NaiveCB</td><td>0.99475</td></tr><tr><td>std_NaiveCB</td><td>0.0006</td></tr><tr><td>w0_trials</td><td>1</td></tr><tr><td>wn_trials</td><td>1</td></tr></table><br/></div></div>"
      ]
     },
     "metadata": {},
     "output_type": "display_data"
    },
    {
     "data": {
      "text/plain": [
       "<IPython.core.display.HTML object>"
      ],
      "text/html": [
       "Synced <strong style=\"color:#cdcd00\">laced-energy-1208</strong>: <a href=\"https://wandb.ai/oliverweissl/NeuralStyleSearch/runs/s5d11vvf\" target=\"_blank\">https://wandb.ai/oliverweissl/NeuralStyleSearch/runs/s5d11vvf</a><br/>Synced 5 W&B file(s), 2 media file(s), 2 artifact file(s) and 0 other file(s)"
      ]
     },
     "metadata": {},
     "output_type": "display_data"
    },
    {
     "data": {
      "text/plain": [
       "<IPython.core.display.HTML object>"
      ],
      "text/html": [
       "Find logs at: <code>./wandb/run-20241206_084632-s5d11vvf/logs</code>"
      ]
     },
     "metadata": {},
     "output_type": "display_data"
    },
    {
     "data": {
      "text/plain": [
       "<IPython.core.display.HTML object>"
      ],
      "text/html": [
       "Successfully finished last run (ID:s5d11vvf). Initializing new run:<br/>"
      ]
     },
     "metadata": {},
     "output_type": "display_data"
    },
    {
     "data": {
      "text/plain": [
       "VBox(children=(Label(value='Waiting for wandb.init()...\\r'), FloatProgress(value=0.016668861416595366, max=1.0…"
      ],
      "application/vnd.jupyter.widget-view+json": {
       "version_major": 2,
       "version_minor": 0,
       "model_id": "b3101a5bc42c4694b2fb7f5a55a931fc"
      }
     },
     "metadata": {},
     "output_type": "display_data"
    },
    {
     "data": {
      "text/plain": [
       "<IPython.core.display.HTML object>"
      ],
      "text/html": [
       "wandb version 0.19.0 is available!  To upgrade, please run:\n",
       " $ pip install wandb --upgrade"
      ]
     },
     "metadata": {},
     "output_type": "display_data"
    },
    {
     "data": {
      "text/plain": [
       "<IPython.core.display.HTML object>"
      ],
      "text/html": [
       "Tracking run with wandb version 0.13.5"
      ]
     },
     "metadata": {},
     "output_type": "display_data"
    },
    {
     "data": {
      "text/plain": [
       "<IPython.core.display.HTML object>"
      ],
      "text/html": [
       "Run data is saved locally in <code>/home/oliver/PycharmProjects/NeuralStyle/examples/wandb/run-20241206_084724-s2xj8u6g</code>"
      ]
     },
     "metadata": {},
     "output_type": "display_data"
    },
    {
     "data": {
      "text/plain": [
       "<IPython.core.display.HTML object>"
      ],
      "text/html": [
       "Syncing run <strong><a href=\"https://wandb.ai/oliverweissl/NeuralStyleSearch/runs/s2xj8u6g\" target=\"_blank\">winter-dawn-1209</a></strong> to <a href=\"https://wandb.ai/oliverweissl/NeuralStyleSearch\" target=\"_blank\">Weights & Biases</a> (<a href=\"https://wandb.me/run\" target=\"_blank\">docs</a>)<br/>"
      ]
     },
     "metadata": {},
     "output_type": "display_data"
    },
    {
     "data": {
      "text/plain": [
       "<IPython.core.display.HTML object>"
      ],
      "text/html": [
       "Finishing last run (ID:s2xj8u6g) before initializing another..."
      ]
     },
     "metadata": {},
     "output_type": "display_data"
    },
    {
     "data": {
      "text/plain": [
       "<IPython.core.display.HTML object>"
      ],
      "text/html": [
       "Waiting for W&B process to finish... <strong style=\"color:green\">(success).</strong>"
      ]
     },
     "metadata": {},
     "output_type": "display_data"
    },
    {
     "data": {
      "text/plain": [
       "<IPython.core.display.HTML object>"
      ],
      "text/html": [
       "<style>\n",
       "    table.wandb td:nth-child(1) { padding: 0 10px; text-align: left ; width: auto;} td:nth-child(2) {text-align: left ; width: 100%}\n",
       "    .wandb-row { display: flex; flex-direction: row; flex-wrap: wrap; justify-content: flex-start; width: 100% }\n",
       "    .wandb-col { display: flex; flex-direction: column; flex-basis: 100%; flex: 1; padding: 10px; }\n",
       "    </style>\n",
       "<div class=\"wandb-row\"><div class=\"wandb-col\"><h3>Run history:</h3><br/><table class=\"wandb\"><tr><td>max_NaiveCB</td><td>▂█▄▃▄▂▅▂▂▄▃▃▂▁▂▂▃▁▄▂▅▂▂▃▁▁▆▁▅▄▂▃▄▄▁▁▁▃▁▇</td></tr><tr><td>mean_NaiveCB</td><td>█▇▆▇▇▇█▇▇▇█▇▇▇▇▇▆▇▇█▇█▆▇▅▇▃▇▇▇▇▆▇▇▇▁█▇▇▇</td></tr><tr><td>min_NaiveCB</td><td>██▇█████████████▇█████▇█▆█▄████▇███▁████</td></tr><tr><td>std_NaiveCB</td><td>▁▁▂▁▁▁▁▁▁▁▁▁▁▁▁▁▂▁▁▁▁▁▂▁▃▁▅▁▁▁▁▂▁▁▁█▁▁▁▁</td></tr></table><br/></div><div class=\"wandb-col\"><h3>Run summary:</h3><br/><table class=\"wandb\"><tr><td>expected_boundary</td><td>6</td></tr><tr><td>max_NaiveCB</td><td>0.99437</td></tr><tr><td>mean_NaiveCB</td><td>0.99321</td></tr><tr><td>min_NaiveCB</td><td>0.99031</td></tr><tr><td>std_NaiveCB</td><td>0.00069</td></tr><tr><td>w0_trials</td><td>1</td></tr><tr><td>wn_trials</td><td>1</td></tr></table><br/></div></div>"
      ]
     },
     "metadata": {},
     "output_type": "display_data"
    },
    {
     "data": {
      "text/plain": [
       "<IPython.core.display.HTML object>"
      ],
      "text/html": [
       "Synced <strong style=\"color:#cdcd00\">winter-dawn-1209</strong>: <a href=\"https://wandb.ai/oliverweissl/NeuralStyleSearch/runs/s2xj8u6g\" target=\"_blank\">https://wandb.ai/oliverweissl/NeuralStyleSearch/runs/s2xj8u6g</a><br/>Synced 5 W&B file(s), 2 media file(s), 2 artifact file(s) and 0 other file(s)"
      ]
     },
     "metadata": {},
     "output_type": "display_data"
    },
    {
     "data": {
      "text/plain": [
       "<IPython.core.display.HTML object>"
      ],
      "text/html": [
       "Find logs at: <code>./wandb/run-20241206_084724-s2xj8u6g/logs</code>"
      ]
     },
     "metadata": {},
     "output_type": "display_data"
    },
    {
     "data": {
      "text/plain": [
       "<IPython.core.display.HTML object>"
      ],
      "text/html": [
       "Successfully finished last run (ID:s2xj8u6g). Initializing new run:<br/>"
      ]
     },
     "metadata": {},
     "output_type": "display_data"
    },
    {
     "data": {
      "text/plain": [
       "VBox(children=(Label(value='Waiting for wandb.init()...\\r'), FloatProgress(value=0.01666802973340964, max=1.0)…"
      ],
      "application/vnd.jupyter.widget-view+json": {
       "version_major": 2,
       "version_minor": 0,
       "model_id": "2782e69008754dc38793c1030d0f9fcb"
      }
     },
     "metadata": {},
     "output_type": "display_data"
    },
    {
     "data": {
      "text/plain": [
       "<IPython.core.display.HTML object>"
      ],
      "text/html": [
       "wandb version 0.19.0 is available!  To upgrade, please run:\n",
       " $ pip install wandb --upgrade"
      ]
     },
     "metadata": {},
     "output_type": "display_data"
    },
    {
     "data": {
      "text/plain": [
       "<IPython.core.display.HTML object>"
      ],
      "text/html": [
       "Tracking run with wandb version 0.13.5"
      ]
     },
     "metadata": {},
     "output_type": "display_data"
    },
    {
     "data": {
      "text/plain": [
       "<IPython.core.display.HTML object>"
      ],
      "text/html": [
       "Run data is saved locally in <code>/home/oliver/PycharmProjects/NeuralStyle/examples/wandb/run-20241206_084817-j5740akb</code>"
      ]
     },
     "metadata": {},
     "output_type": "display_data"
    },
    {
     "data": {
      "text/plain": [
       "<IPython.core.display.HTML object>"
      ],
      "text/html": [
       "Syncing run <strong><a href=\"https://wandb.ai/oliverweissl/NeuralStyleSearch/runs/j5740akb\" target=\"_blank\">likely-jazz-1210</a></strong> to <a href=\"https://wandb.ai/oliverweissl/NeuralStyleSearch\" target=\"_blank\">Weights & Biases</a> (<a href=\"https://wandb.me/run\" target=\"_blank\">docs</a>)<br/>"
      ]
     },
     "metadata": {},
     "output_type": "display_data"
    },
    {
     "data": {
      "text/plain": [
       "<IPython.core.display.HTML object>"
      ],
      "text/html": [
       "Finishing last run (ID:j5740akb) before initializing another..."
      ]
     },
     "metadata": {},
     "output_type": "display_data"
    },
    {
     "data": {
      "text/plain": [
       "<IPython.core.display.HTML object>"
      ],
      "text/html": [
       "Waiting for W&B process to finish... <strong style=\"color:green\">(success).</strong>"
      ]
     },
     "metadata": {},
     "output_type": "display_data"
    },
    {
     "data": {
      "text/plain": [
       "<IPython.core.display.HTML object>"
      ],
      "text/html": [
       "<style>\n",
       "    table.wandb td:nth-child(1) { padding: 0 10px; text-align: left ; width: auto;} td:nth-child(2) {text-align: left ; width: 100%}\n",
       "    .wandb-row { display: flex; flex-direction: row; flex-wrap: wrap; justify-content: flex-start; width: 100% }\n",
       "    .wandb-col { display: flex; flex-direction: column; flex-basis: 100%; flex: 1; padding: 10px; }\n",
       "    </style>\n",
       "<div class=\"wandb-row\"><div class=\"wandb-col\"><h3>Run history:</h3><br/><table class=\"wandb\"><tr><td>max_NaiveCB</td><td>▇▁▄▆▆▁▅▅▇▆▅▆▇▃▅▄▅▇█▆▅▅▄▃▃▅▄██▆▇▇▅▆▃▄▅▄▆▅</td></tr><tr><td>mean_NaiveCB</td><td>█▆▅▄▅▄▄▃▁▅▄▂▆▂▄▆▄▆▆▃▃▇▄▂▃▇▃▃▅▅▆▁▅█▄▆▆▅▆▆</td></tr><tr><td>min_NaiveCB</td><td>▄▇▄▆▅█▆▅▇▁▅▄▃▆▆▇▆▇▆▅▄▆▇▆▄▇▆▅▆▄▄▂▅▅▆▆▆▇▄█</td></tr><tr><td>std_NaiveCB</td><td>▄▁▄▅▆▁▄▃▄█▃▅▇▁▅▆▄▇▇▅▆▃▂▁▂▄▄▆▅▇▅▅▅▂▂▄▇▃▆▃</td></tr></table><br/></div><div class=\"wandb-col\"><h3>Run summary:</h3><br/><table class=\"wandb\"><tr><td>expected_boundary</td><td>6</td></tr><tr><td>max_NaiveCB</td><td>0.98642</td></tr><tr><td>mean_NaiveCB</td><td>0.9831</td></tr><tr><td>min_NaiveCB</td><td>0.98009</td></tr><tr><td>std_NaiveCB</td><td>0.00113</td></tr><tr><td>w0_trials</td><td>1</td></tr><tr><td>wn_trials</td><td>1</td></tr></table><br/></div></div>"
      ]
     },
     "metadata": {},
     "output_type": "display_data"
    },
    {
     "data": {
      "text/plain": [
       "<IPython.core.display.HTML object>"
      ],
      "text/html": [
       "Synced <strong style=\"color:#cdcd00\">likely-jazz-1210</strong>: <a href=\"https://wandb.ai/oliverweissl/NeuralStyleSearch/runs/j5740akb\" target=\"_blank\">https://wandb.ai/oliverweissl/NeuralStyleSearch/runs/j5740akb</a><br/>Synced 5 W&B file(s), 2 media file(s), 2 artifact file(s) and 0 other file(s)"
      ]
     },
     "metadata": {},
     "output_type": "display_data"
    },
    {
     "data": {
      "text/plain": [
       "<IPython.core.display.HTML object>"
      ],
      "text/html": [
       "Find logs at: <code>./wandb/run-20241206_084817-j5740akb/logs</code>"
      ]
     },
     "metadata": {},
     "output_type": "display_data"
    },
    {
     "data": {
      "text/plain": [
       "<IPython.core.display.HTML object>"
      ],
      "text/html": [
       "Successfully finished last run (ID:j5740akb). Initializing new run:<br/>"
      ]
     },
     "metadata": {},
     "output_type": "display_data"
    },
    {
     "data": {
      "text/plain": [
       "VBox(children=(Label(value='Waiting for wandb.init()...\\r'), FloatProgress(value=0.016668848133122083, max=1.0…"
      ],
      "application/vnd.jupyter.widget-view+json": {
       "version_major": 2,
       "version_minor": 0,
       "model_id": "2dacab0272f643ef82cc36d958c9ff83"
      }
     },
     "metadata": {},
     "output_type": "display_data"
    },
    {
     "data": {
      "text/plain": [
       "<IPython.core.display.HTML object>"
      ],
      "text/html": [
       "wandb version 0.19.0 is available!  To upgrade, please run:\n",
       " $ pip install wandb --upgrade"
      ]
     },
     "metadata": {},
     "output_type": "display_data"
    },
    {
     "data": {
      "text/plain": [
       "<IPython.core.display.HTML object>"
      ],
      "text/html": [
       "Tracking run with wandb version 0.13.5"
      ]
     },
     "metadata": {},
     "output_type": "display_data"
    },
    {
     "data": {
      "text/plain": [
       "<IPython.core.display.HTML object>"
      ],
      "text/html": [
       "Run data is saved locally in <code>/home/oliver/PycharmProjects/NeuralStyle/examples/wandb/run-20241206_084910-8qbuni2i</code>"
      ]
     },
     "metadata": {},
     "output_type": "display_data"
    },
    {
     "data": {
      "text/plain": [
       "<IPython.core.display.HTML object>"
      ],
      "text/html": [
       "Syncing run <strong><a href=\"https://wandb.ai/oliverweissl/NeuralStyleSearch/runs/8qbuni2i\" target=\"_blank\">misunderstood-pyramid-1211</a></strong> to <a href=\"https://wandb.ai/oliverweissl/NeuralStyleSearch\" target=\"_blank\">Weights & Biases</a> (<a href=\"https://wandb.me/run\" target=\"_blank\">docs</a>)<br/>"
      ]
     },
     "metadata": {},
     "output_type": "display_data"
    },
    {
     "data": {
      "text/plain": [
       "<IPython.core.display.HTML object>"
      ],
      "text/html": [
       "Finishing last run (ID:8qbuni2i) before initializing another..."
      ]
     },
     "metadata": {},
     "output_type": "display_data"
    },
    {
     "data": {
      "text/plain": [
       "<IPython.core.display.HTML object>"
      ],
      "text/html": [
       "Waiting for W&B process to finish... <strong style=\"color:green\">(success).</strong>"
      ]
     },
     "metadata": {},
     "output_type": "display_data"
    },
    {
     "data": {
      "text/plain": [
       "VBox(children=(Label(value='0.009 MB of 0.010 MB uploaded (0.000 MB deduped)\\r'), FloatProgress(value=0.933460…"
      ],
      "application/vnd.jupyter.widget-view+json": {
       "version_major": 2,
       "version_minor": 0,
       "model_id": "833109d3a96646619af8d5bae1a23c6e"
      }
     },
     "metadata": {},
     "output_type": "display_data"
    },
    {
     "data": {
      "text/plain": [
       "<IPython.core.display.HTML object>"
      ],
      "text/html": [
       "<style>\n",
       "    table.wandb td:nth-child(1) { padding: 0 10px; text-align: left ; width: auto;} td:nth-child(2) {text-align: left ; width: 100%}\n",
       "    .wandb-row { display: flex; flex-direction: row; flex-wrap: wrap; justify-content: flex-start; width: 100% }\n",
       "    .wandb-col { display: flex; flex-direction: column; flex-basis: 100%; flex: 1; padding: 10px; }\n",
       "    </style>\n",
       "<div class=\"wandb-row\"><div class=\"wandb-col\"><h3>Run history:</h3><br/><table class=\"wandb\"><tr><td>max_NaiveCB</td><td>▅▅▃▅▆▅█▄▆▅▅▄▃▅▆▅▅▄▅▅▄▂▆▅▅▆▅▅▅█▅▅▄▁▅▅▄▂▄▅</td></tr><tr><td>mean_NaiveCB</td><td>█▇▆▆▆▇▄█▄▅██▆▇▅▆▆▇▆▆█▆▄▇▇▇▇▇▆▃▆▇▇▄▅▅▆▁▂▅</td></tr><tr><td>min_NaiveCB</td><td>█▇█▇▇▇▇█▆▆██▆▇▇▇█▆▇▇▇▇▅▇▇▆▇█▆▇██▆▆▇▇▇▅▁▅</td></tr><tr><td>std_NaiveCB</td><td>▁▂▁▂▂▂▂▁▃▃▁▁▃▂▃▂▂▂▂▂▂▂▄▁▂▂▁▁▃▃▁▁▃▃▂▂▂▅█▄</td></tr></table><br/></div><div class=\"wandb-col\"><h3>Run summary:</h3><br/><table class=\"wandb\"><tr><td>expected_boundary</td><td>6</td></tr><tr><td>max_NaiveCB</td><td>0.9973</td></tr><tr><td>mean_NaiveCB</td><td>0.98877</td></tr><tr><td>min_NaiveCB</td><td>0.85761</td></tr><tr><td>std_NaiveCB</td><td>0.01647</td></tr><tr><td>w0_trials</td><td>1</td></tr><tr><td>wn_trials</td><td>1</td></tr></table><br/></div></div>"
      ]
     },
     "metadata": {},
     "output_type": "display_data"
    },
    {
     "data": {
      "text/plain": [
       "<IPython.core.display.HTML object>"
      ],
      "text/html": [
       "Synced <strong style=\"color:#cdcd00\">misunderstood-pyramid-1211</strong>: <a href=\"https://wandb.ai/oliverweissl/NeuralStyleSearch/runs/8qbuni2i\" target=\"_blank\">https://wandb.ai/oliverweissl/NeuralStyleSearch/runs/8qbuni2i</a><br/>Synced 5 W&B file(s), 2 media file(s), 2 artifact file(s) and 0 other file(s)"
      ]
     },
     "metadata": {},
     "output_type": "display_data"
    },
    {
     "data": {
      "text/plain": [
       "<IPython.core.display.HTML object>"
      ],
      "text/html": [
       "Find logs at: <code>./wandb/run-20241206_084910-8qbuni2i/logs</code>"
      ]
     },
     "metadata": {},
     "output_type": "display_data"
    },
    {
     "data": {
      "text/plain": [
       "<IPython.core.display.HTML object>"
      ],
      "text/html": [
       "Successfully finished last run (ID:8qbuni2i). Initializing new run:<br/>"
      ]
     },
     "metadata": {},
     "output_type": "display_data"
    },
    {
     "data": {
      "text/plain": [
       "VBox(children=(Label(value='Waiting for wandb.init()...\\r'), FloatProgress(value=0.01666810733343785, max=1.0)…"
      ],
      "application/vnd.jupyter.widget-view+json": {
       "version_major": 2,
       "version_minor": 0,
       "model_id": "24f9344db635413094432e019fbc4f58"
      }
     },
     "metadata": {},
     "output_type": "display_data"
    },
    {
     "data": {
      "text/plain": [
       "<IPython.core.display.HTML object>"
      ],
      "text/html": [
       "wandb version 0.19.0 is available!  To upgrade, please run:\n",
       " $ pip install wandb --upgrade"
      ]
     },
     "metadata": {},
     "output_type": "display_data"
    },
    {
     "data": {
      "text/plain": [
       "<IPython.core.display.HTML object>"
      ],
      "text/html": [
       "Tracking run with wandb version 0.13.5"
      ]
     },
     "metadata": {},
     "output_type": "display_data"
    },
    {
     "data": {
      "text/plain": [
       "<IPython.core.display.HTML object>"
      ],
      "text/html": [
       "Run data is saved locally in <code>/home/oliver/PycharmProjects/NeuralStyle/examples/wandb/run-20241206_085003-qnc943pu</code>"
      ]
     },
     "metadata": {},
     "output_type": "display_data"
    },
    {
     "data": {
      "text/plain": [
       "<IPython.core.display.HTML object>"
      ],
      "text/html": [
       "Syncing run <strong><a href=\"https://wandb.ai/oliverweissl/NeuralStyleSearch/runs/qnc943pu\" target=\"_blank\">mild-sea-1212</a></strong> to <a href=\"https://wandb.ai/oliverweissl/NeuralStyleSearch\" target=\"_blank\">Weights & Biases</a> (<a href=\"https://wandb.me/run\" target=\"_blank\">docs</a>)<br/>"
      ]
     },
     "metadata": {},
     "output_type": "display_data"
    },
    {
     "data": {
      "text/plain": [
       "<IPython.core.display.HTML object>"
      ],
      "text/html": [
       "Finishing last run (ID:qnc943pu) before initializing another..."
      ]
     },
     "metadata": {},
     "output_type": "display_data"
    },
    {
     "data": {
      "text/plain": [
       "<IPython.core.display.HTML object>"
      ],
      "text/html": [
       "Waiting for W&B process to finish... <strong style=\"color:green\">(success).</strong>"
      ]
     },
     "metadata": {},
     "output_type": "display_data"
    },
    {
     "data": {
      "text/plain": [
       "<IPython.core.display.HTML object>"
      ],
      "text/html": [
       "<style>\n",
       "    table.wandb td:nth-child(1) { padding: 0 10px; text-align: left ; width: auto;} td:nth-child(2) {text-align: left ; width: 100%}\n",
       "    .wandb-row { display: flex; flex-direction: row; flex-wrap: wrap; justify-content: flex-start; width: 100% }\n",
       "    .wandb-col { display: flex; flex-direction: column; flex-basis: 100%; flex: 1; padding: 10px; }\n",
       "    </style>\n",
       "<div class=\"wandb-row\"><div class=\"wandb-col\"><h3>Run history:</h3><br/><table class=\"wandb\"><tr><td>max_NaiveCB</td><td>▄▅▇▄▄▆▄▄█▃▄▄▄▇▄▄▄▅▁▆▅▆▄▅▄▄▃▄▄▄▄▄▃▅▄▂▄▆▃▄</td></tr><tr><td>mean_NaiveCB</td><td>▃▃▃▄▅▅▂▂▂▄▅▃▄▄▅▅▅▂▆▃▃▅▃▄▆▇▄█▄▄▅▁▃▅▅▄▃▂▂▃</td></tr><tr><td>min_NaiveCB</td><td>▅▃▄▅▄▄▄▄▃▄▄▄▆▄▄▄▅▅█▆▄▁▄▂▅▆▅▆▄▆▇▄▄▅▅▄▃▅▅▅</td></tr><tr><td>std_NaiveCB</td><td>▄▆█▅▂▃▅▃▅▄▄▄▁▆▃▃▆▆▁▃▇▄▅▄▂▃▄▃▃▃▁▆▃▃▂▃▄▃▁▃</td></tr></table><br/></div><div class=\"wandb-col\"><h3>Run summary:</h3><br/><table class=\"wandb\"><tr><td>expected_boundary</td><td>9</td></tr><tr><td>max_NaiveCB</td><td>0.97502</td></tr><tr><td>mean_NaiveCB</td><td>0.94342</td></tr><tr><td>min_NaiveCB</td><td>0.89973</td></tr><tr><td>std_NaiveCB</td><td>0.01052</td></tr><tr><td>w0_trials</td><td>1</td></tr><tr><td>wn_trials</td><td>1</td></tr></table><br/></div></div>"
      ]
     },
     "metadata": {},
     "output_type": "display_data"
    },
    {
     "data": {
      "text/plain": [
       "<IPython.core.display.HTML object>"
      ],
      "text/html": [
       "Synced <strong style=\"color:#cdcd00\">mild-sea-1212</strong>: <a href=\"https://wandb.ai/oliverweissl/NeuralStyleSearch/runs/qnc943pu\" target=\"_blank\">https://wandb.ai/oliverweissl/NeuralStyleSearch/runs/qnc943pu</a><br/>Synced 5 W&B file(s), 2 media file(s), 2 artifact file(s) and 0 other file(s)"
      ]
     },
     "metadata": {},
     "output_type": "display_data"
    },
    {
     "data": {
      "text/plain": [
       "<IPython.core.display.HTML object>"
      ],
      "text/html": [
       "Find logs at: <code>./wandb/run-20241206_085003-qnc943pu/logs</code>"
      ]
     },
     "metadata": {},
     "output_type": "display_data"
    },
    {
     "data": {
      "text/plain": [
       "<IPython.core.display.HTML object>"
      ],
      "text/html": [
       "Successfully finished last run (ID:qnc943pu). Initializing new run:<br/>"
      ]
     },
     "metadata": {},
     "output_type": "display_data"
    },
    {
     "data": {
      "text/plain": [
       "VBox(children=(Label(value='Waiting for wandb.init()...\\r'), FloatProgress(value=0.0166680354164176, max=1.0))…"
      ],
      "application/vnd.jupyter.widget-view+json": {
       "version_major": 2,
       "version_minor": 0,
       "model_id": "a16ce936a317427b89f178af03fc817d"
      }
     },
     "metadata": {},
     "output_type": "display_data"
    },
    {
     "data": {
      "text/plain": [
       "<IPython.core.display.HTML object>"
      ],
      "text/html": [
       "wandb version 0.19.0 is available!  To upgrade, please run:\n",
       " $ pip install wandb --upgrade"
      ]
     },
     "metadata": {},
     "output_type": "display_data"
    },
    {
     "data": {
      "text/plain": [
       "<IPython.core.display.HTML object>"
      ],
      "text/html": [
       "Tracking run with wandb version 0.13.5"
      ]
     },
     "metadata": {},
     "output_type": "display_data"
    },
    {
     "data": {
      "text/plain": [
       "<IPython.core.display.HTML object>"
      ],
      "text/html": [
       "Run data is saved locally in <code>/home/oliver/PycharmProjects/NeuralStyle/examples/wandb/run-20241206_085056-x9mbtc5l</code>"
      ]
     },
     "metadata": {},
     "output_type": "display_data"
    },
    {
     "data": {
      "text/plain": [
       "<IPython.core.display.HTML object>"
      ],
      "text/html": [
       "Syncing run <strong><a href=\"https://wandb.ai/oliverweissl/NeuralStyleSearch/runs/x9mbtc5l\" target=\"_blank\">twilight-sponge-1213</a></strong> to <a href=\"https://wandb.ai/oliverweissl/NeuralStyleSearch\" target=\"_blank\">Weights & Biases</a> (<a href=\"https://wandb.me/run\" target=\"_blank\">docs</a>)<br/>"
      ]
     },
     "metadata": {},
     "output_type": "display_data"
    },
    {
     "data": {
      "text/plain": [
       "<IPython.core.display.HTML object>"
      ],
      "text/html": [
       "Finishing last run (ID:x9mbtc5l) before initializing another..."
      ]
     },
     "metadata": {},
     "output_type": "display_data"
    },
    {
     "data": {
      "text/plain": [
       "<IPython.core.display.HTML object>"
      ],
      "text/html": [
       "Waiting for W&B process to finish... <strong style=\"color:green\">(success).</strong>"
      ]
     },
     "metadata": {},
     "output_type": "display_data"
    },
    {
     "data": {
      "text/plain": [
       "<IPython.core.display.HTML object>"
      ],
      "text/html": [
       "<style>\n",
       "    table.wandb td:nth-child(1) { padding: 0 10px; text-align: left ; width: auto;} td:nth-child(2) {text-align: left ; width: 100%}\n",
       "    .wandb-row { display: flex; flex-direction: row; flex-wrap: wrap; justify-content: flex-start; width: 100% }\n",
       "    .wandb-col { display: flex; flex-direction: column; flex-basis: 100%; flex: 1; padding: 10px; }\n",
       "    </style>\n",
       "<div class=\"wandb-row\"><div class=\"wandb-col\"><h3>Run history:</h3><br/><table class=\"wandb\"><tr><td>max_NaiveCB</td><td>▅▃▃▂▄▆▂▂▂▂▄▅▂▂▆█▁▄▁▂▂▂▇▄▂▃▇▄▁▁▄▁▃▂▆▂▄▁▄▃</td></tr><tr><td>mean_NaiveCB</td><td>▂▁▂▃▁▂▃▄▃▅▄▃▅▂▄▅▃▆▆▂▅▄█▄▄▄▄▂▂▄▃▂▃▆▄▃▁▁▅▄</td></tr><tr><td>min_NaiveCB</td><td>▁▃▃▅▃▆▃▆▅▇▅▂▆▁▇▅▆█▆▄▃█▆▅▆▆▆█▃▆█▄▄█▅▆▅▅▅▆</td></tr><tr><td>std_NaiveCB</td><td>▇▆▆▄▅▅▅▅▄▅▅█▅▇▄▆▅▅▅▆▅▅▆▆▄▃█▁▅▂▃▄█▃▆▃▄▄▇▃</td></tr></table><br/></div><div class=\"wandb-col\"><h3>Run summary:</h3><br/><table class=\"wandb\"><tr><td>expected_boundary</td><td>4</td></tr><tr><td>max_NaiveCB</td><td>0.99999</td></tr><tr><td>mean_NaiveCB</td><td>0.99998</td></tr><tr><td>min_NaiveCB</td><td>0.99997</td></tr><tr><td>std_NaiveCB</td><td>0.0</td></tr><tr><td>w0_trials</td><td>1</td></tr><tr><td>wn_trials</td><td>1</td></tr></table><br/></div></div>"
      ]
     },
     "metadata": {},
     "output_type": "display_data"
    },
    {
     "data": {
      "text/plain": [
       "<IPython.core.display.HTML object>"
      ],
      "text/html": [
       "Synced <strong style=\"color:#cdcd00\">twilight-sponge-1213</strong>: <a href=\"https://wandb.ai/oliverweissl/NeuralStyleSearch/runs/x9mbtc5l\" target=\"_blank\">https://wandb.ai/oliverweissl/NeuralStyleSearch/runs/x9mbtc5l</a><br/>Synced 5 W&B file(s), 2 media file(s), 2 artifact file(s) and 0 other file(s)"
      ]
     },
     "metadata": {},
     "output_type": "display_data"
    },
    {
     "data": {
      "text/plain": [
       "<IPython.core.display.HTML object>"
      ],
      "text/html": [
       "Find logs at: <code>./wandb/run-20241206_085056-x9mbtc5l/logs</code>"
      ]
     },
     "metadata": {},
     "output_type": "display_data"
    },
    {
     "data": {
      "text/plain": [
       "<IPython.core.display.HTML object>"
      ],
      "text/html": [
       "Successfully finished last run (ID:x9mbtc5l). Initializing new run:<br/>"
      ]
     },
     "metadata": {},
     "output_type": "display_data"
    },
    {
     "data": {
      "text/plain": [
       "VBox(children=(Label(value='Waiting for wandb.init()...\\r'), FloatProgress(value=0.016669127916490348, max=1.0…"
      ],
      "application/vnd.jupyter.widget-view+json": {
       "version_major": 2,
       "version_minor": 0,
       "model_id": "29c54b7a52d245858ff5fd10864ca3f5"
      }
     },
     "metadata": {},
     "output_type": "display_data"
    },
    {
     "data": {
      "text/plain": [
       "<IPython.core.display.HTML object>"
      ],
      "text/html": [
       "wandb version 0.19.0 is available!  To upgrade, please run:\n",
       " $ pip install wandb --upgrade"
      ]
     },
     "metadata": {},
     "output_type": "display_data"
    },
    {
     "data": {
      "text/plain": [
       "<IPython.core.display.HTML object>"
      ],
      "text/html": [
       "Tracking run with wandb version 0.13.5"
      ]
     },
     "metadata": {},
     "output_type": "display_data"
    },
    {
     "data": {
      "text/plain": [
       "<IPython.core.display.HTML object>"
      ],
      "text/html": [
       "Run data is saved locally in <code>/home/oliver/PycharmProjects/NeuralStyle/examples/wandb/run-20241206_085150-e3iy6l4n</code>"
      ]
     },
     "metadata": {},
     "output_type": "display_data"
    },
    {
     "data": {
      "text/plain": [
       "<IPython.core.display.HTML object>"
      ],
      "text/html": [
       "Syncing run <strong><a href=\"https://wandb.ai/oliverweissl/NeuralStyleSearch/runs/e3iy6l4n\" target=\"_blank\">desert-lion-1214</a></strong> to <a href=\"https://wandb.ai/oliverweissl/NeuralStyleSearch\" target=\"_blank\">Weights & Biases</a> (<a href=\"https://wandb.me/run\" target=\"_blank\">docs</a>)<br/>"
      ]
     },
     "metadata": {},
     "output_type": "display_data"
    },
    {
     "data": {
      "text/plain": [
       "<IPython.core.display.HTML object>"
      ],
      "text/html": [
       "Finishing last run (ID:e3iy6l4n) before initializing another..."
      ]
     },
     "metadata": {},
     "output_type": "display_data"
    },
    {
     "data": {
      "text/plain": [
       "<IPython.core.display.HTML object>"
      ],
      "text/html": [
       "Waiting for W&B process to finish... <strong style=\"color:green\">(success).</strong>"
      ]
     },
     "metadata": {},
     "output_type": "display_data"
    },
    {
     "data": {
      "text/plain": [
       "<IPython.core.display.HTML object>"
      ],
      "text/html": [
       "<style>\n",
       "    table.wandb td:nth-child(1) { padding: 0 10px; text-align: left ; width: auto;} td:nth-child(2) {text-align: left ; width: 100%}\n",
       "    .wandb-row { display: flex; flex-direction: row; flex-wrap: wrap; justify-content: flex-start; width: 100% }\n",
       "    .wandb-col { display: flex; flex-direction: column; flex-basis: 100%; flex: 1; padding: 10px; }\n",
       "    </style>\n",
       "<div class=\"wandb-row\"><div class=\"wandb-col\"><h3>Run history:</h3><br/><table class=\"wandb\"><tr><td>max_NaiveCB</td><td>▅▅▃▄▄▅▃▅▆▃▃▃█▄▃▃▄▅▄▄▁▃▃▄▃▁▄▆▄▆▅▄▄▅▅▅▅▁▃▃</td></tr><tr><td>mean_NaiveCB</td><td>▅▅▅▇▇▄▄▅▅▇▇▂▄▄▇▄▅▄▂▄▂▅▂▅▅▂▄▄▅▅▇▇▇█▇▇▅▂▇▁</td></tr><tr><td>min_NaiveCB</td><td>▄▃▆▇▅▅▅▅█▃▅▄▃▃▆▅▇▁▅▄▇▃▃▂▆▅▆▃▇▅▄▃▆▂▆▆▄▅▁▅</td></tr><tr><td>std_NaiveCB</td><td>▇▅▅▄▆▄▃▇▃▅▄▄█▄▃▆▃▆▆▆▁▅▆▇▂▄▃▅▂▅▆▅▄▃▄▂▂▂▆▄</td></tr></table><br/></div><div class=\"wandb-col\"><h3>Run summary:</h3><br/><table class=\"wandb\"><tr><td>expected_boundary</td><td>7</td></tr><tr><td>max_NaiveCB</td><td>0.99999</td></tr><tr><td>mean_NaiveCB</td><td>0.99999</td></tr><tr><td>min_NaiveCB</td><td>0.99999</td></tr><tr><td>std_NaiveCB</td><td>0.0</td></tr><tr><td>w0_trials</td><td>1</td></tr><tr><td>wn_trials</td><td>1</td></tr></table><br/></div></div>"
      ]
     },
     "metadata": {},
     "output_type": "display_data"
    },
    {
     "data": {
      "text/plain": [
       "<IPython.core.display.HTML object>"
      ],
      "text/html": [
       "Synced <strong style=\"color:#cdcd00\">desert-lion-1214</strong>: <a href=\"https://wandb.ai/oliverweissl/NeuralStyleSearch/runs/e3iy6l4n\" target=\"_blank\">https://wandb.ai/oliverweissl/NeuralStyleSearch/runs/e3iy6l4n</a><br/>Synced 5 W&B file(s), 2 media file(s), 2 artifact file(s) and 0 other file(s)"
      ]
     },
     "metadata": {},
     "output_type": "display_data"
    },
    {
     "data": {
      "text/plain": [
       "<IPython.core.display.HTML object>"
      ],
      "text/html": [
       "Find logs at: <code>./wandb/run-20241206_085150-e3iy6l4n/logs</code>"
      ]
     },
     "metadata": {},
     "output_type": "display_data"
    },
    {
     "data": {
      "text/plain": [
       "<IPython.core.display.HTML object>"
      ],
      "text/html": [
       "Successfully finished last run (ID:e3iy6l4n). Initializing new run:<br/>"
      ]
     },
     "metadata": {},
     "output_type": "display_data"
    },
    {
     "data": {
      "text/plain": [
       "VBox(children=(Label(value='Waiting for wandb.init()...\\r'), FloatProgress(value=0.016668409966708472, max=1.0…"
      ],
      "application/vnd.jupyter.widget-view+json": {
       "version_major": 2,
       "version_minor": 0,
       "model_id": "58951bf8f4ad4488b5f4b85d76dbd386"
      }
     },
     "metadata": {},
     "output_type": "display_data"
    },
    {
     "data": {
      "text/plain": [
       "<IPython.core.display.HTML object>"
      ],
      "text/html": [
       "wandb version 0.19.0 is available!  To upgrade, please run:\n",
       " $ pip install wandb --upgrade"
      ]
     },
     "metadata": {},
     "output_type": "display_data"
    },
    {
     "data": {
      "text/plain": [
       "<IPython.core.display.HTML object>"
      ],
      "text/html": [
       "Tracking run with wandb version 0.13.5"
      ]
     },
     "metadata": {},
     "output_type": "display_data"
    },
    {
     "data": {
      "text/plain": [
       "<IPython.core.display.HTML object>"
      ],
      "text/html": [
       "Run data is saved locally in <code>/home/oliver/PycharmProjects/NeuralStyle/examples/wandb/run-20241206_085243-di1op7wt</code>"
      ]
     },
     "metadata": {},
     "output_type": "display_data"
    },
    {
     "data": {
      "text/plain": [
       "<IPython.core.display.HTML object>"
      ],
      "text/html": [
       "Syncing run <strong><a href=\"https://wandb.ai/oliverweissl/NeuralStyleSearch/runs/di1op7wt\" target=\"_blank\">dutiful-flower-1215</a></strong> to <a href=\"https://wandb.ai/oliverweissl/NeuralStyleSearch\" target=\"_blank\">Weights & Biases</a> (<a href=\"https://wandb.me/run\" target=\"_blank\">docs</a>)<br/>"
      ]
     },
     "metadata": {},
     "output_type": "display_data"
    },
    {
     "data": {
      "text/plain": [
       "<IPython.core.display.HTML object>"
      ],
      "text/html": [
       "Finishing last run (ID:di1op7wt) before initializing another..."
      ]
     },
     "metadata": {},
     "output_type": "display_data"
    },
    {
     "data": {
      "text/plain": [
       "<IPython.core.display.HTML object>"
      ],
      "text/html": [
       "Waiting for W&B process to finish... <strong style=\"color:green\">(success).</strong>"
      ]
     },
     "metadata": {},
     "output_type": "display_data"
    },
    {
     "data": {
      "text/plain": [
       "<IPython.core.display.HTML object>"
      ],
      "text/html": [
       "<style>\n",
       "    table.wandb td:nth-child(1) { padding: 0 10px; text-align: left ; width: auto;} td:nth-child(2) {text-align: left ; width: 100%}\n",
       "    .wandb-row { display: flex; flex-direction: row; flex-wrap: wrap; justify-content: flex-start; width: 100% }\n",
       "    .wandb-col { display: flex; flex-direction: column; flex-basis: 100%; flex: 1; padding: 10px; }\n",
       "    </style>\n",
       "<div class=\"wandb-row\"><div class=\"wandb-col\"><h3>Run history:</h3><br/><table class=\"wandb\"><tr><td>max_NaiveCB</td><td>▇█▄▇█▄▇▇▅▇▅▅▆▇▅▅▇█▇█▆▇▆▇▇█▇▆█▁▆▃▄▅▃▃▅▆▆▇</td></tr><tr><td>mean_NaiveCB</td><td>▃▃▅▆▆▆▄▃▃▄▃▄▅█▅▆▄▃▇▇█▆▆▃▅▄▄█▂▃▅▁▄▄▅▅▂▆▂▅</td></tr><tr><td>min_NaiveCB</td><td>▆▄▇▅▆█▅▇▇█▅█▇█▇▆▁▇▇▇██▇▆▅▇▇▆▃▅▅▅▇▇▆█▄▅▇▆</td></tr><tr><td>std_NaiveCB</td><td>▅▆▂▄▅▁▅▃▃▂▄▁▂▃▂▅▇▃▄▅▁▂▄▃▇▄▃▃█▃▄▄▁▃▅▁▅▄▃▅</td></tr></table><br/></div><div class=\"wandb-col\"><h3>Run summary:</h3><br/><table class=\"wandb\"><tr><td>expected_boundary</td><td>8</td></tr><tr><td>max_NaiveCB</td><td>0.99999</td></tr><tr><td>mean_NaiveCB</td><td>0.99998</td></tr><tr><td>min_NaiveCB</td><td>0.99997</td></tr><tr><td>std_NaiveCB</td><td>0.0</td></tr><tr><td>w0_trials</td><td>1</td></tr><tr><td>wn_trials</td><td>1</td></tr></table><br/></div></div>"
      ]
     },
     "metadata": {},
     "output_type": "display_data"
    },
    {
     "data": {
      "text/plain": [
       "<IPython.core.display.HTML object>"
      ],
      "text/html": [
       "Synced <strong style=\"color:#cdcd00\">dutiful-flower-1215</strong>: <a href=\"https://wandb.ai/oliverweissl/NeuralStyleSearch/runs/di1op7wt\" target=\"_blank\">https://wandb.ai/oliverweissl/NeuralStyleSearch/runs/di1op7wt</a><br/>Synced 5 W&B file(s), 2 media file(s), 2 artifact file(s) and 0 other file(s)"
      ]
     },
     "metadata": {},
     "output_type": "display_data"
    },
    {
     "data": {
      "text/plain": [
       "<IPython.core.display.HTML object>"
      ],
      "text/html": [
       "Find logs at: <code>./wandb/run-20241206_085243-di1op7wt/logs</code>"
      ]
     },
     "metadata": {},
     "output_type": "display_data"
    },
    {
     "data": {
      "text/plain": [
       "<IPython.core.display.HTML object>"
      ],
      "text/html": [
       "Successfully finished last run (ID:di1op7wt). Initializing new run:<br/>"
      ]
     },
     "metadata": {},
     "output_type": "display_data"
    },
    {
     "data": {
      "text/plain": [
       "VBox(children=(Label(value='Waiting for wandb.init()...\\r'), FloatProgress(value=0.01666875328325356, max=1.0)…"
      ],
      "application/vnd.jupyter.widget-view+json": {
       "version_major": 2,
       "version_minor": 0,
       "model_id": "156b8f1b4bf940b99eacf236c7f17ab7"
      }
     },
     "metadata": {},
     "output_type": "display_data"
    },
    {
     "data": {
      "text/plain": [
       "<IPython.core.display.HTML object>"
      ],
      "text/html": [
       "wandb version 0.19.0 is available!  To upgrade, please run:\n",
       " $ pip install wandb --upgrade"
      ]
     },
     "metadata": {},
     "output_type": "display_data"
    },
    {
     "data": {
      "text/plain": [
       "<IPython.core.display.HTML object>"
      ],
      "text/html": [
       "Tracking run with wandb version 0.13.5"
      ]
     },
     "metadata": {},
     "output_type": "display_data"
    },
    {
     "data": {
      "text/plain": [
       "<IPython.core.display.HTML object>"
      ],
      "text/html": [
       "Run data is saved locally in <code>/home/oliver/PycharmProjects/NeuralStyle/examples/wandb/run-20241206_085337-0s18g2k4</code>"
      ]
     },
     "metadata": {},
     "output_type": "display_data"
    },
    {
     "data": {
      "text/plain": [
       "<IPython.core.display.HTML object>"
      ],
      "text/html": [
       "Syncing run <strong><a href=\"https://wandb.ai/oliverweissl/NeuralStyleSearch/runs/0s18g2k4\" target=\"_blank\">effortless-glitter-1216</a></strong> to <a href=\"https://wandb.ai/oliverweissl/NeuralStyleSearch\" target=\"_blank\">Weights & Biases</a> (<a href=\"https://wandb.me/run\" target=\"_blank\">docs</a>)<br/>"
      ]
     },
     "metadata": {},
     "output_type": "display_data"
    },
    {
     "data": {
      "text/plain": [
       "<IPython.core.display.HTML object>"
      ],
      "text/html": [
       "Finishing last run (ID:0s18g2k4) before initializing another..."
      ]
     },
     "metadata": {},
     "output_type": "display_data"
    },
    {
     "data": {
      "text/plain": [
       "<IPython.core.display.HTML object>"
      ],
      "text/html": [
       "Waiting for W&B process to finish... <strong style=\"color:green\">(success).</strong>"
      ]
     },
     "metadata": {},
     "output_type": "display_data"
    },
    {
     "data": {
      "text/plain": [
       "VBox(children=(Label(value='0.008 MB of 0.009 MB uploaded (0.000 MB deduped)\\r'), FloatProgress(value=0.931746…"
      ],
      "application/vnd.jupyter.widget-view+json": {
       "version_major": 2,
       "version_minor": 0,
       "model_id": "93c4cd2919864cb282c4143f0092766f"
      }
     },
     "metadata": {},
     "output_type": "display_data"
    },
    {
     "data": {
      "text/plain": [
       "<IPython.core.display.HTML object>"
      ],
      "text/html": [
       "<style>\n",
       "    table.wandb td:nth-child(1) { padding: 0 10px; text-align: left ; width: auto;} td:nth-child(2) {text-align: left ; width: 100%}\n",
       "    .wandb-row { display: flex; flex-direction: row; flex-wrap: wrap; justify-content: flex-start; width: 100% }\n",
       "    .wandb-col { display: flex; flex-direction: column; flex-basis: 100%; flex: 1; padding: 10px; }\n",
       "    </style>\n",
       "<div class=\"wandb-row\"><div class=\"wandb-col\"><h3>Run history:</h3><br/><table class=\"wandb\"><tr><td>max_NaiveCB</td><td>▃▅▂█▅▃▄▅▃▃▄▅▃▂▃▃▄▃▄▄▂▂▆▁▃▅▆▅▅▂▄▆▇▂▃▅▆▄▄▃</td></tr><tr><td>mean_NaiveCB</td><td>▅▃▂█▂▃▇▄▄▄▅▅▂▃▇▅▇▇▅▅▂▄▅▁▆▇▄▂▆▅▆▄▅▂▃▅█▆▅▄</td></tr><tr><td>min_NaiveCB</td><td>█▁▆█▆▇▇█▇▇██▇▇█▇██▇█▇██▇██▆▇▇█▇█▇██▂█▇▇▆</td></tr><tr><td>std_NaiveCB</td><td>▆█▃▃▃▆▅▄▄▄▅▄▃▅▄▅▅▄▃▅▄▄▅▅▅▃▇▃▄▄▄▅▇▁▂▆▄▅▃▃</td></tr></table><br/></div><div class=\"wandb-col\"><h3>Run summary:</h3><br/><table class=\"wandb\"><tr><td>expected_boundary</td><td>4</td></tr><tr><td>max_NaiveCB</td><td>0.99993</td></tr><tr><td>mean_NaiveCB</td><td>0.9999</td></tr><tr><td>min_NaiveCB</td><td>0.99988</td></tr><tr><td>std_NaiveCB</td><td>1e-05</td></tr><tr><td>w0_trials</td><td>1</td></tr><tr><td>wn_trials</td><td>1</td></tr></table><br/></div></div>"
      ]
     },
     "metadata": {},
     "output_type": "display_data"
    },
    {
     "data": {
      "text/plain": [
       "<IPython.core.display.HTML object>"
      ],
      "text/html": [
       "Synced <strong style=\"color:#cdcd00\">effortless-glitter-1216</strong>: <a href=\"https://wandb.ai/oliverweissl/NeuralStyleSearch/runs/0s18g2k4\" target=\"_blank\">https://wandb.ai/oliverweissl/NeuralStyleSearch/runs/0s18g2k4</a><br/>Synced 5 W&B file(s), 2 media file(s), 2 artifact file(s) and 0 other file(s)"
      ]
     },
     "metadata": {},
     "output_type": "display_data"
    },
    {
     "data": {
      "text/plain": [
       "<IPython.core.display.HTML object>"
      ],
      "text/html": [
       "Find logs at: <code>./wandb/run-20241206_085337-0s18g2k4/logs</code>"
      ]
     },
     "metadata": {},
     "output_type": "display_data"
    },
    {
     "data": {
      "text/plain": [
       "<IPython.core.display.HTML object>"
      ],
      "text/html": [
       "Successfully finished last run (ID:0s18g2k4). Initializing new run:<br/>"
      ]
     },
     "metadata": {},
     "output_type": "display_data"
    },
    {
     "data": {
      "text/plain": [
       "VBox(children=(Label(value='Waiting for wandb.init()...\\r'), FloatProgress(value=0.01666893640018922, max=1.0)…"
      ],
      "application/vnd.jupyter.widget-view+json": {
       "version_major": 2,
       "version_minor": 0,
       "model_id": "4bc972aac32643f0982dea1c36b1240d"
      }
     },
     "metadata": {},
     "output_type": "display_data"
    },
    {
     "data": {
      "text/plain": [
       "<IPython.core.display.HTML object>"
      ],
      "text/html": [
       "wandb version 0.19.0 is available!  To upgrade, please run:\n",
       " $ pip install wandb --upgrade"
      ]
     },
     "metadata": {},
     "output_type": "display_data"
    },
    {
     "data": {
      "text/plain": [
       "<IPython.core.display.HTML object>"
      ],
      "text/html": [
       "Tracking run with wandb version 0.13.5"
      ]
     },
     "metadata": {},
     "output_type": "display_data"
    },
    {
     "data": {
      "text/plain": [
       "<IPython.core.display.HTML object>"
      ],
      "text/html": [
       "Run data is saved locally in <code>/home/oliver/PycharmProjects/NeuralStyle/examples/wandb/run-20241206_085431-3vogcbo7</code>"
      ]
     },
     "metadata": {},
     "output_type": "display_data"
    },
    {
     "data": {
      "text/plain": [
       "<IPython.core.display.HTML object>"
      ],
      "text/html": [
       "Syncing run <strong><a href=\"https://wandb.ai/oliverweissl/NeuralStyleSearch/runs/3vogcbo7\" target=\"_blank\">prime-sun-1217</a></strong> to <a href=\"https://wandb.ai/oliverweissl/NeuralStyleSearch\" target=\"_blank\">Weights & Biases</a> (<a href=\"https://wandb.me/run\" target=\"_blank\">docs</a>)<br/>"
      ]
     },
     "metadata": {},
     "output_type": "display_data"
    },
    {
     "data": {
      "text/plain": [
       "<IPython.core.display.HTML object>"
      ],
      "text/html": [
       "Finishing last run (ID:3vogcbo7) before initializing another..."
      ]
     },
     "metadata": {},
     "output_type": "display_data"
    },
    {
     "data": {
      "text/plain": [
       "<IPython.core.display.HTML object>"
      ],
      "text/html": [
       "Waiting for W&B process to finish... <strong style=\"color:green\">(success).</strong>"
      ]
     },
     "metadata": {},
     "output_type": "display_data"
    },
    {
     "data": {
      "text/plain": [
       "<IPython.core.display.HTML object>"
      ],
      "text/html": [
       "<style>\n",
       "    table.wandb td:nth-child(1) { padding: 0 10px; text-align: left ; width: auto;} td:nth-child(2) {text-align: left ; width: 100%}\n",
       "    .wandb-row { display: flex; flex-direction: row; flex-wrap: wrap; justify-content: flex-start; width: 100% }\n",
       "    .wandb-col { display: flex; flex-direction: column; flex-basis: 100%; flex: 1; padding: 10px; }\n",
       "    </style>\n",
       "<div class=\"wandb-row\"><div class=\"wandb-col\"><h3>Run history:</h3><br/><table class=\"wandb\"><tr><td>max_NaiveCB</td><td>▃▃▃█▄▇▃▄▃▅▃▃▂▄▄▃▂▆▃▄▃▄▃▂▇▃▄▄▃▅▃▄▁▄▁▇▃▃▃▄</td></tr><tr><td>mean_NaiveCB</td><td>▅▆▆▆▇█▄▆▆█▇▁▇▄▅▃▆▇▄▅▆▅▇▇▅▃▅█▆▅▆▅▄▅▅▆█▄▅▆</td></tr><tr><td>min_NaiveCB</td><td>▆▇▆▇▇▇▁▇▇▇█▃▆▃▄▄▆▇▆▆█▇▅▇▆▅▄▇▇▇▇▅▆▂█▇█▄▆▇</td></tr><tr><td>std_NaiveCB</td><td>▃▂▂▃▂▂█▃▃▁▁█▂█▇▇▄▂▄▂▁▃▃▂▃▅▆▁▂▃▁▃▃▆▂▃▁▅▄▃</td></tr></table><br/></div><div class=\"wandb-col\"><h3>Run summary:</h3><br/><table class=\"wandb\"><tr><td>expected_boundary</td><td>7</td></tr><tr><td>max_NaiveCB</td><td>0.99986</td></tr><tr><td>mean_NaiveCB</td><td>0.99978</td></tr><tr><td>min_NaiveCB</td><td>0.99943</td></tr><tr><td>std_NaiveCB</td><td>8e-05</td></tr><tr><td>w0_trials</td><td>1</td></tr><tr><td>wn_trials</td><td>1</td></tr></table><br/></div></div>"
      ]
     },
     "metadata": {},
     "output_type": "display_data"
    },
    {
     "data": {
      "text/plain": [
       "<IPython.core.display.HTML object>"
      ],
      "text/html": [
       "Synced <strong style=\"color:#cdcd00\">prime-sun-1217</strong>: <a href=\"https://wandb.ai/oliverweissl/NeuralStyleSearch/runs/3vogcbo7\" target=\"_blank\">https://wandb.ai/oliverweissl/NeuralStyleSearch/runs/3vogcbo7</a><br/>Synced 5 W&B file(s), 2 media file(s), 2 artifact file(s) and 0 other file(s)"
      ]
     },
     "metadata": {},
     "output_type": "display_data"
    },
    {
     "data": {
      "text/plain": [
       "<IPython.core.display.HTML object>"
      ],
      "text/html": [
       "Find logs at: <code>./wandb/run-20241206_085431-3vogcbo7/logs</code>"
      ]
     },
     "metadata": {},
     "output_type": "display_data"
    },
    {
     "data": {
      "text/plain": [
       "<IPython.core.display.HTML object>"
      ],
      "text/html": [
       "Successfully finished last run (ID:3vogcbo7). Initializing new run:<br/>"
      ]
     },
     "metadata": {},
     "output_type": "display_data"
    },
    {
     "data": {
      "text/plain": [
       "VBox(children=(Label(value='Waiting for wandb.init()...\\r'), FloatProgress(value=0.016670140433416237, max=1.0…"
      ],
      "application/vnd.jupyter.widget-view+json": {
       "version_major": 2,
       "version_minor": 0,
       "model_id": "e2bc24d5726a4d84b9d3f0773db360a0"
      }
     },
     "metadata": {},
     "output_type": "display_data"
    },
    {
     "data": {
      "text/plain": [
       "<IPython.core.display.HTML object>"
      ],
      "text/html": [
       "wandb version 0.19.0 is available!  To upgrade, please run:\n",
       " $ pip install wandb --upgrade"
      ]
     },
     "metadata": {},
     "output_type": "display_data"
    },
    {
     "data": {
      "text/plain": [
       "<IPython.core.display.HTML object>"
      ],
      "text/html": [
       "Tracking run with wandb version 0.13.5"
      ]
     },
     "metadata": {},
     "output_type": "display_data"
    },
    {
     "data": {
      "text/plain": [
       "<IPython.core.display.HTML object>"
      ],
      "text/html": [
       "Run data is saved locally in <code>/home/oliver/PycharmProjects/NeuralStyle/examples/wandb/run-20241206_085525-rlq15aso</code>"
      ]
     },
     "metadata": {},
     "output_type": "display_data"
    },
    {
     "data": {
      "text/plain": [
       "<IPython.core.display.HTML object>"
      ],
      "text/html": [
       "Syncing run <strong><a href=\"https://wandb.ai/oliverweissl/NeuralStyleSearch/runs/rlq15aso\" target=\"_blank\">flowing-serenity-1218</a></strong> to <a href=\"https://wandb.ai/oliverweissl/NeuralStyleSearch\" target=\"_blank\">Weights & Biases</a> (<a href=\"https://wandb.me/run\" target=\"_blank\">docs</a>)<br/>"
      ]
     },
     "metadata": {},
     "output_type": "display_data"
    },
    {
     "data": {
      "text/plain": [
       "<IPython.core.display.HTML object>"
      ],
      "text/html": [
       "Finishing last run (ID:rlq15aso) before initializing another..."
      ]
     },
     "metadata": {},
     "output_type": "display_data"
    },
    {
     "data": {
      "text/plain": [
       "<IPython.core.display.HTML object>"
      ],
      "text/html": [
       "Waiting for W&B process to finish... <strong style=\"color:green\">(success).</strong>"
      ]
     },
     "metadata": {},
     "output_type": "display_data"
    },
    {
     "data": {
      "text/plain": [
       "<IPython.core.display.HTML object>"
      ],
      "text/html": [
       "<style>\n",
       "    table.wandb td:nth-child(1) { padding: 0 10px; text-align: left ; width: auto;} td:nth-child(2) {text-align: left ; width: 100%}\n",
       "    .wandb-row { display: flex; flex-direction: row; flex-wrap: wrap; justify-content: flex-start; width: 100% }\n",
       "    .wandb-col { display: flex; flex-direction: column; flex-basis: 100%; flex: 1; padding: 10px; }\n",
       "    </style>\n",
       "<div class=\"wandb-row\"><div class=\"wandb-col\"><h3>Run history:</h3><br/><table class=\"wandb\"><tr><td>max_NaiveCB</td><td>▂▁▅▅▂▂▄▂▃▄▃▄▂▁▅▅▃▃▂▃█▃▂▂▃▂▅▂▂▂▃▃▄▄▄█▃▃▂▂</td></tr><tr><td>mean_NaiveCB</td><td>▆▃▇▄▇▆▄▅▄▇▃▄▃▂▄▄▃▆▃█▇▄▃▃▆▃▆▅▃▄▅▇▆▄█▅▃▄▃▁</td></tr><tr><td>min_NaiveCB</td><td>█▂█▅▆▅▅▆▆▆▆▃▇▅▇▄▅▅▆▅▆▆▅▅▅▅▆▄▅▁▆▆▅▅▆▅▆▄▆▄</td></tr><tr><td>std_NaiveCB</td><td>▂▇▂▄▃▄█▄▄▂▅▅▄▆▄█▅▁▄▄▅▆▆▅▃▅▃▄▅▆▃▁▇▆▃▄▆▇▂▆</td></tr></table><br/></div><div class=\"wandb-col\"><h3>Run summary:</h3><br/><table class=\"wandb\"><tr><td>expected_boundary</td><td>8</td></tr><tr><td>max_NaiveCB</td><td>0.99957</td></tr><tr><td>mean_NaiveCB</td><td>0.9994</td></tr><tr><td>min_NaiveCB</td><td>0.99887</td></tr><tr><td>std_NaiveCB</td><td>0.00011</td></tr><tr><td>w0_trials</td><td>1</td></tr><tr><td>wn_trials</td><td>1</td></tr></table><br/></div></div>"
      ]
     },
     "metadata": {},
     "output_type": "display_data"
    },
    {
     "data": {
      "text/plain": [
       "<IPython.core.display.HTML object>"
      ],
      "text/html": [
       "Synced <strong style=\"color:#cdcd00\">flowing-serenity-1218</strong>: <a href=\"https://wandb.ai/oliverweissl/NeuralStyleSearch/runs/rlq15aso\" target=\"_blank\">https://wandb.ai/oliverweissl/NeuralStyleSearch/runs/rlq15aso</a><br/>Synced 5 W&B file(s), 2 media file(s), 2 artifact file(s) and 0 other file(s)"
      ]
     },
     "metadata": {},
     "output_type": "display_data"
    },
    {
     "data": {
      "text/plain": [
       "<IPython.core.display.HTML object>"
      ],
      "text/html": [
       "Find logs at: <code>./wandb/run-20241206_085525-rlq15aso/logs</code>"
      ]
     },
     "metadata": {},
     "output_type": "display_data"
    },
    {
     "data": {
      "text/plain": [
       "<IPython.core.display.HTML object>"
      ],
      "text/html": [
       "Successfully finished last run (ID:rlq15aso). Initializing new run:<br/>"
      ]
     },
     "metadata": {},
     "output_type": "display_data"
    },
    {
     "data": {
      "text/plain": [
       "VBox(children=(Label(value='Waiting for wandb.init()...\\r'), FloatProgress(value=0.01666886960010743, max=1.0)…"
      ],
      "application/vnd.jupyter.widget-view+json": {
       "version_major": 2,
       "version_minor": 0,
       "model_id": "ebbe75646d924037af8792c37e3ecadb"
      }
     },
     "metadata": {},
     "output_type": "display_data"
    },
    {
     "data": {
      "text/plain": [
       "<IPython.core.display.HTML object>"
      ],
      "text/html": [
       "wandb version 0.19.0 is available!  To upgrade, please run:\n",
       " $ pip install wandb --upgrade"
      ]
     },
     "metadata": {},
     "output_type": "display_data"
    },
    {
     "data": {
      "text/plain": [
       "<IPython.core.display.HTML object>"
      ],
      "text/html": [
       "Tracking run with wandb version 0.13.5"
      ]
     },
     "metadata": {},
     "output_type": "display_data"
    },
    {
     "data": {
      "text/plain": [
       "<IPython.core.display.HTML object>"
      ],
      "text/html": [
       "Run data is saved locally in <code>/home/oliver/PycharmProjects/NeuralStyle/examples/wandb/run-20241206_085617-6zroct53</code>"
      ]
     },
     "metadata": {},
     "output_type": "display_data"
    },
    {
     "data": {
      "text/plain": [
       "<IPython.core.display.HTML object>"
      ],
      "text/html": [
       "Syncing run <strong><a href=\"https://wandb.ai/oliverweissl/NeuralStyleSearch/runs/6zroct53\" target=\"_blank\">solar-fog-1219</a></strong> to <a href=\"https://wandb.ai/oliverweissl/NeuralStyleSearch\" target=\"_blank\">Weights & Biases</a> (<a href=\"https://wandb.me/run\" target=\"_blank\">docs</a>)<br/>"
      ]
     },
     "metadata": {},
     "output_type": "display_data"
    },
    {
     "data": {
      "text/plain": [
       "<IPython.core.display.HTML object>"
      ],
      "text/html": [
       "Finishing last run (ID:6zroct53) before initializing another..."
      ]
     },
     "metadata": {},
     "output_type": "display_data"
    },
    {
     "data": {
      "text/plain": [
       "<IPython.core.display.HTML object>"
      ],
      "text/html": [
       "Waiting for W&B process to finish... <strong style=\"color:green\">(success).</strong>"
      ]
     },
     "metadata": {},
     "output_type": "display_data"
    },
    {
     "data": {
      "text/plain": [
       "<IPython.core.display.HTML object>"
      ],
      "text/html": [
       "<style>\n",
       "    table.wandb td:nth-child(1) { padding: 0 10px; text-align: left ; width: auto;} td:nth-child(2) {text-align: left ; width: 100%}\n",
       "    .wandb-row { display: flex; flex-direction: row; flex-wrap: wrap; justify-content: flex-start; width: 100% }\n",
       "    .wandb-col { display: flex; flex-direction: column; flex-basis: 100%; flex: 1; padding: 10px; }\n",
       "    </style>\n",
       "<div class=\"wandb-row\"><div class=\"wandb-col\"><h3>Run history:</h3><br/><table class=\"wandb\"><tr><td>max_NaiveCB</td><td>▄▃▇▂▁▃▇▆▄▃▁▂▄▅▅▃▅▂▁▂▆▅▆█▂▅▂▂▂▇█▅▂▂▄▁▂▂▃▂</td></tr><tr><td>mean_NaiveCB</td><td>▃▃▅▅▅▅▆▂▆▅▄▅▅▆▂▅▄▆▅▆▅▅▄▅▆▇▁▆▃▅█▅▅▅▆▃▄▆▅▃</td></tr><tr><td>min_NaiveCB</td><td>▆▆▇█▇▇▇▆█▇▆▆▇▇▆▇▆▇▇▇▇▇▇██▇▂█▇▁▇▇▇▇▇▄▇▇▇▇</td></tr><tr><td>std_NaiveCB</td><td>▅▃▄▃▅▅▃▆▄▃▄▅▄▄▆▄▆▂▃▃▄▄▄▄▁▂█▂▃█▁▄▄▅▃▆▄▂▅▅</td></tr></table><br/></div><div class=\"wandb-col\"><h3>Run summary:</h3><br/><table class=\"wandb\"><tr><td>expected_boundary</td><td>8</td></tr><tr><td>max_NaiveCB</td><td>0.99998</td></tr><tr><td>mean_NaiveCB</td><td>0.99998</td></tr><tr><td>min_NaiveCB</td><td>0.99996</td></tr><tr><td>std_NaiveCB</td><td>0.0</td></tr><tr><td>w0_trials</td><td>1</td></tr><tr><td>wn_trials</td><td>1</td></tr></table><br/></div></div>"
      ]
     },
     "metadata": {},
     "output_type": "display_data"
    },
    {
     "data": {
      "text/plain": [
       "<IPython.core.display.HTML object>"
      ],
      "text/html": [
       "Synced <strong style=\"color:#cdcd00\">solar-fog-1219</strong>: <a href=\"https://wandb.ai/oliverweissl/NeuralStyleSearch/runs/6zroct53\" target=\"_blank\">https://wandb.ai/oliverweissl/NeuralStyleSearch/runs/6zroct53</a><br/>Synced 5 W&B file(s), 2 media file(s), 2 artifact file(s) and 0 other file(s)"
      ]
     },
     "metadata": {},
     "output_type": "display_data"
    },
    {
     "data": {
      "text/plain": [
       "<IPython.core.display.HTML object>"
      ],
      "text/html": [
       "Find logs at: <code>./wandb/run-20241206_085617-6zroct53/logs</code>"
      ]
     },
     "metadata": {},
     "output_type": "display_data"
    },
    {
     "data": {
      "text/plain": [
       "<IPython.core.display.HTML object>"
      ],
      "text/html": [
       "Successfully finished last run (ID:6zroct53). Initializing new run:<br/>"
      ]
     },
     "metadata": {},
     "output_type": "display_data"
    },
    {
     "data": {
      "text/plain": [
       "VBox(children=(Label(value='Waiting for wandb.init()...\\r'), FloatProgress(value=0.016668785349853957, max=1.0…"
      ],
      "application/vnd.jupyter.widget-view+json": {
       "version_major": 2,
       "version_minor": 0,
       "model_id": "39fab7b3f2d641dd94fab849edf843e2"
      }
     },
     "metadata": {},
     "output_type": "display_data"
    },
    {
     "data": {
      "text/plain": [
       "<IPython.core.display.HTML object>"
      ],
      "text/html": [
       "wandb version 0.19.0 is available!  To upgrade, please run:\n",
       " $ pip install wandb --upgrade"
      ]
     },
     "metadata": {},
     "output_type": "display_data"
    },
    {
     "data": {
      "text/plain": [
       "<IPython.core.display.HTML object>"
      ],
      "text/html": [
       "Tracking run with wandb version 0.13.5"
      ]
     },
     "metadata": {},
     "output_type": "display_data"
    },
    {
     "data": {
      "text/plain": [
       "<IPython.core.display.HTML object>"
      ],
      "text/html": [
       "Run data is saved locally in <code>/home/oliver/PycharmProjects/NeuralStyle/examples/wandb/run-20241206_085711-ngsaaib7</code>"
      ]
     },
     "metadata": {},
     "output_type": "display_data"
    },
    {
     "data": {
      "text/plain": [
       "<IPython.core.display.HTML object>"
      ],
      "text/html": [
       "Syncing run <strong><a href=\"https://wandb.ai/oliverweissl/NeuralStyleSearch/runs/ngsaaib7\" target=\"_blank\">valiant-resonance-1220</a></strong> to <a href=\"https://wandb.ai/oliverweissl/NeuralStyleSearch\" target=\"_blank\">Weights & Biases</a> (<a href=\"https://wandb.me/run\" target=\"_blank\">docs</a>)<br/>"
      ]
     },
     "metadata": {},
     "output_type": "display_data"
    },
    {
     "data": {
      "text/plain": [
       "<IPython.core.display.HTML object>"
      ],
      "text/html": [
       "Finishing last run (ID:ngsaaib7) before initializing another..."
      ]
     },
     "metadata": {},
     "output_type": "display_data"
    },
    {
     "data": {
      "text/plain": [
       "<IPython.core.display.HTML object>"
      ],
      "text/html": [
       "Waiting for W&B process to finish... <strong style=\"color:green\">(success).</strong>"
      ]
     },
     "metadata": {},
     "output_type": "display_data"
    },
    {
     "data": {
      "text/plain": [
       "<IPython.core.display.HTML object>"
      ],
      "text/html": [
       "<style>\n",
       "    table.wandb td:nth-child(1) { padding: 0 10px; text-align: left ; width: auto;} td:nth-child(2) {text-align: left ; width: 100%}\n",
       "    .wandb-row { display: flex; flex-direction: row; flex-wrap: wrap; justify-content: flex-start; width: 100% }\n",
       "    .wandb-col { display: flex; flex-direction: column; flex-basis: 100%; flex: 1; padding: 10px; }\n",
       "    </style>\n",
       "<div class=\"wandb-row\"><div class=\"wandb-col\"><h3>Run history:</h3><br/><table class=\"wandb\"><tr><td>max_NaiveCB</td><td>▅▇▄▅▆▅▆▄▆▇▅▅▇▆▅▅▆▆▇▅▅█▆▇▄▁▆▆▄▅▆▅▅▄▅▅▆▅▆▅</td></tr><tr><td>mean_NaiveCB</td><td>▅▇▆▅▅▂▆▃▅▄▂▁▅▆▆▅▅▄▂▄▃▇▃▅▄▂▆▄▆▅█▂▅▂▄▂▂▆▁▆</td></tr><tr><td>min_NaiveCB</td><td>▇▄▆▇▂▇█▄▅▇▆▃▇█▆▄▅▆▆▇▃▇▅▂▆▆▇▇█▅▅▁▇▇▂▆▁▇▅▅</td></tr><tr><td>std_NaiveCB</td><td>▇▇▅▃▇▆▁▇▆▆▄▇▅▄▃▆▆▅▃▆▇▅▇▆▇▅▃▅▁▅▅▇▄▅█▇█▅▇▆</td></tr></table><br/></div><div class=\"wandb-col\"><h3>Run summary:</h3><br/><table class=\"wandb\"><tr><td>expected_boundary</td><td>8</td></tr><tr><td>max_NaiveCB</td><td>0.99999</td></tr><tr><td>mean_NaiveCB</td><td>0.99998</td></tr><tr><td>min_NaiveCB</td><td>0.99997</td></tr><tr><td>std_NaiveCB</td><td>0.0</td></tr><tr><td>w0_trials</td><td>1</td></tr><tr><td>wn_trials</td><td>1</td></tr></table><br/></div></div>"
      ]
     },
     "metadata": {},
     "output_type": "display_data"
    },
    {
     "data": {
      "text/plain": [
       "<IPython.core.display.HTML object>"
      ],
      "text/html": [
       "Synced <strong style=\"color:#cdcd00\">valiant-resonance-1220</strong>: <a href=\"https://wandb.ai/oliverweissl/NeuralStyleSearch/runs/ngsaaib7\" target=\"_blank\">https://wandb.ai/oliverweissl/NeuralStyleSearch/runs/ngsaaib7</a><br/>Synced 5 W&B file(s), 2 media file(s), 2 artifact file(s) and 0 other file(s)"
      ]
     },
     "metadata": {},
     "output_type": "display_data"
    },
    {
     "data": {
      "text/plain": [
       "<IPython.core.display.HTML object>"
      ],
      "text/html": [
       "Find logs at: <code>./wandb/run-20241206_085711-ngsaaib7/logs</code>"
      ]
     },
     "metadata": {},
     "output_type": "display_data"
    },
    {
     "data": {
      "text/plain": [
       "<IPython.core.display.HTML object>"
      ],
      "text/html": [
       "Successfully finished last run (ID:ngsaaib7). Initializing new run:<br/>"
      ]
     },
     "metadata": {},
     "output_type": "display_data"
    },
    {
     "data": {
      "text/plain": [
       "VBox(children=(Label(value='Waiting for wandb.init()...\\r'), FloatProgress(value=0.016668928649839168, max=1.0…"
      ],
      "application/vnd.jupyter.widget-view+json": {
       "version_major": 2,
       "version_minor": 0,
       "model_id": "8313697b82e842c3822650aecb6ffe71"
      }
     },
     "metadata": {},
     "output_type": "display_data"
    },
    {
     "data": {
      "text/plain": [
       "<IPython.core.display.HTML object>"
      ],
      "text/html": [
       "wandb version 0.19.0 is available!  To upgrade, please run:\n",
       " $ pip install wandb --upgrade"
      ]
     },
     "metadata": {},
     "output_type": "display_data"
    },
    {
     "data": {
      "text/plain": [
       "<IPython.core.display.HTML object>"
      ],
      "text/html": [
       "Tracking run with wandb version 0.13.5"
      ]
     },
     "metadata": {},
     "output_type": "display_data"
    },
    {
     "data": {
      "text/plain": [
       "<IPython.core.display.HTML object>"
      ],
      "text/html": [
       "Run data is saved locally in <code>/home/oliver/PycharmProjects/NeuralStyle/examples/wandb/run-20241206_085805-irrfo6o7</code>"
      ]
     },
     "metadata": {},
     "output_type": "display_data"
    },
    {
     "data": {
      "text/plain": [
       "<IPython.core.display.HTML object>"
      ],
      "text/html": [
       "Syncing run <strong><a href=\"https://wandb.ai/oliverweissl/NeuralStyleSearch/runs/irrfo6o7\" target=\"_blank\">elated-darkness-1221</a></strong> to <a href=\"https://wandb.ai/oliverweissl/NeuralStyleSearch\" target=\"_blank\">Weights & Biases</a> (<a href=\"https://wandb.me/run\" target=\"_blank\">docs</a>)<br/>"
      ]
     },
     "metadata": {},
     "output_type": "display_data"
    },
    {
     "data": {
      "text/plain": [
       "<IPython.core.display.HTML object>"
      ],
      "text/html": [
       "Finishing last run (ID:irrfo6o7) before initializing another..."
      ]
     },
     "metadata": {},
     "output_type": "display_data"
    },
    {
     "data": {
      "text/plain": [
       "<IPython.core.display.HTML object>"
      ],
      "text/html": [
       "Waiting for W&B process to finish... <strong style=\"color:green\">(success).</strong>"
      ]
     },
     "metadata": {},
     "output_type": "display_data"
    },
    {
     "data": {
      "text/plain": [
       "<IPython.core.display.HTML object>"
      ],
      "text/html": [
       "<style>\n",
       "    table.wandb td:nth-child(1) { padding: 0 10px; text-align: left ; width: auto;} td:nth-child(2) {text-align: left ; width: 100%}\n",
       "    .wandb-row { display: flex; flex-direction: row; flex-wrap: wrap; justify-content: flex-start; width: 100% }\n",
       "    .wandb-col { display: flex; flex-direction: column; flex-basis: 100%; flex: 1; padding: 10px; }\n",
       "    </style>\n",
       "<div class=\"wandb-row\"><div class=\"wandb-col\"><h3>Run history:</h3><br/><table class=\"wandb\"><tr><td>max_NaiveCB</td><td>▇▁▇▅█▄▄▅▅▇█▄▅▆▆▁▄▅▅▄▃▅▅▅▅▅▃▅▇▇▆▄▅▅▄▆▄▆▄▆</td></tr><tr><td>mean_NaiveCB</td><td>▄▂█▅▆▃▅▇▃▄▃▅▄█▆▇▄▄▆▅▅▃█▄▃▁▄▁▇▄▆▅▅▃▄▅▄▇▆▄</td></tr><tr><td>min_NaiveCB</td><td>▅▃▅▃▇▄▄▇▁▂▄▄▃▄▅▇▁▁▅▅▄▃█▂▄▄▂▁█▅▅▂▆▄▄▅▄▆▄▅</td></tr><tr><td>std_NaiveCB</td><td>▅▅▂▅▂▄▄▂▆▇▆▄▅▄▃▁▆▆▃▄▄▇▁▆▅▅▅█▁▄▃▅▃▄▅▅▄▃▄▅</td></tr></table><br/></div><div class=\"wandb-col\"><h3>Run summary:</h3><br/><table class=\"wandb\"><tr><td>expected_boundary</td><td>8</td></tr><tr><td>max_NaiveCB</td><td>0.99999</td></tr><tr><td>mean_NaiveCB</td><td>0.99999</td></tr><tr><td>min_NaiveCB</td><td>0.99996</td></tr><tr><td>std_NaiveCB</td><td>0.0</td></tr><tr><td>w0_trials</td><td>1</td></tr><tr><td>wn_trials</td><td>1</td></tr></table><br/></div></div>"
      ]
     },
     "metadata": {},
     "output_type": "display_data"
    },
    {
     "data": {
      "text/plain": [
       "<IPython.core.display.HTML object>"
      ],
      "text/html": [
       "Synced <strong style=\"color:#cdcd00\">elated-darkness-1221</strong>: <a href=\"https://wandb.ai/oliverweissl/NeuralStyleSearch/runs/irrfo6o7\" target=\"_blank\">https://wandb.ai/oliverweissl/NeuralStyleSearch/runs/irrfo6o7</a><br/>Synced 5 W&B file(s), 2 media file(s), 2 artifact file(s) and 0 other file(s)"
      ]
     },
     "metadata": {},
     "output_type": "display_data"
    },
    {
     "data": {
      "text/plain": [
       "<IPython.core.display.HTML object>"
      ],
      "text/html": [
       "Find logs at: <code>./wandb/run-20241206_085805-irrfo6o7/logs</code>"
      ]
     },
     "metadata": {},
     "output_type": "display_data"
    },
    {
     "data": {
      "text/plain": [
       "<IPython.core.display.HTML object>"
      ],
      "text/html": [
       "Successfully finished last run (ID:irrfo6o7). Initializing new run:<br/>"
      ]
     },
     "metadata": {},
     "output_type": "display_data"
    },
    {
     "data": {
      "text/plain": [
       "VBox(children=(Label(value='Waiting for wandb.init()...\\r'), FloatProgress(value=0.016668000483089904, max=1.0…"
      ],
      "application/vnd.jupyter.widget-view+json": {
       "version_major": 2,
       "version_minor": 0,
       "model_id": "bda0014e16474020b951db24995371f3"
      }
     },
     "metadata": {},
     "output_type": "display_data"
    },
    {
     "data": {
      "text/plain": [
       "<IPython.core.display.HTML object>"
      ],
      "text/html": [
       "wandb version 0.19.0 is available!  To upgrade, please run:\n",
       " $ pip install wandb --upgrade"
      ]
     },
     "metadata": {},
     "output_type": "display_data"
    },
    {
     "data": {
      "text/plain": [
       "<IPython.core.display.HTML object>"
      ],
      "text/html": [
       "Tracking run with wandb version 0.13.5"
      ]
     },
     "metadata": {},
     "output_type": "display_data"
    },
    {
     "data": {
      "text/plain": [
       "<IPython.core.display.HTML object>"
      ],
      "text/html": [
       "Run data is saved locally in <code>/home/oliver/PycharmProjects/NeuralStyle/examples/wandb/run-20241206_085858-f8c4agky</code>"
      ]
     },
     "metadata": {},
     "output_type": "display_data"
    },
    {
     "data": {
      "text/plain": [
       "<IPython.core.display.HTML object>"
      ],
      "text/html": [
       "Syncing run <strong><a href=\"https://wandb.ai/oliverweissl/NeuralStyleSearch/runs/f8c4agky\" target=\"_blank\">glad-morning-1222</a></strong> to <a href=\"https://wandb.ai/oliverweissl/NeuralStyleSearch\" target=\"_blank\">Weights & Biases</a> (<a href=\"https://wandb.me/run\" target=\"_blank\">docs</a>)<br/>"
      ]
     },
     "metadata": {},
     "output_type": "display_data"
    },
    {
     "data": {
      "text/plain": [
       "<IPython.core.display.HTML object>"
      ],
      "text/html": [
       "Finishing last run (ID:f8c4agky) before initializing another..."
      ]
     },
     "metadata": {},
     "output_type": "display_data"
    },
    {
     "data": {
      "text/plain": [
       "<IPython.core.display.HTML object>"
      ],
      "text/html": [
       "Waiting for W&B process to finish... <strong style=\"color:green\">(success).</strong>"
      ]
     },
     "metadata": {},
     "output_type": "display_data"
    },
    {
     "data": {
      "text/plain": [
       "<IPython.core.display.HTML object>"
      ],
      "text/html": [
       "<style>\n",
       "    table.wandb td:nth-child(1) { padding: 0 10px; text-align: left ; width: auto;} td:nth-child(2) {text-align: left ; width: 100%}\n",
       "    .wandb-row { display: flex; flex-direction: row; flex-wrap: wrap; justify-content: flex-start; width: 100% }\n",
       "    .wandb-col { display: flex; flex-direction: column; flex-basis: 100%; flex: 1; padding: 10px; }\n",
       "    </style>\n",
       "<div class=\"wandb-row\"><div class=\"wandb-col\"><h3>Run history:</h3><br/><table class=\"wandb\"><tr><td>max_NaiveCB</td><td>▄▂▂▄▅▄▃▄▅▂▄▅▂▅▄▆▄▇▂▂▃█▃▅▄▂▃▄▄▅▄▆▅▆▂▄▃▅▄▁</td></tr><tr><td>mean_NaiveCB</td><td>▁▄▃▃▄▁▃▂▅▃▁▃▁▅▃▃▃▅▁▃▅▄▂▃▄▄▃▄█▄▃▃▃▃▅▂▄▄▃▃</td></tr><tr><td>min_NaiveCB</td><td>▇▇▇▇▇▇▇▆▅▅▂▇▆▁▇▂▇▅▅▄▅█▆▂▇▁▆▇█▇▅▅▇▅█▆█▃▆▄</td></tr><tr><td>std_NaiveCB</td><td>▄▃▃▃▂▂▃▂█▁▆▂▂▅▂▆▃▃▃▃▂▃▃▆▃▄▃▃▂▁▃▄▃▃▁▅▃▆▄▂</td></tr></table><br/></div><div class=\"wandb-col\"><h3>Run summary:</h3><br/><table class=\"wandb\"><tr><td>expected_boundary</td><td>8</td></tr><tr><td>max_NaiveCB</td><td>0.99999</td></tr><tr><td>mean_NaiveCB</td><td>0.99999</td></tr><tr><td>min_NaiveCB</td><td>0.99999</td></tr><tr><td>std_NaiveCB</td><td>0.0</td></tr><tr><td>w0_trials</td><td>1</td></tr><tr><td>wn_trials</td><td>1</td></tr></table><br/></div></div>"
      ]
     },
     "metadata": {},
     "output_type": "display_data"
    },
    {
     "data": {
      "text/plain": [
       "<IPython.core.display.HTML object>"
      ],
      "text/html": [
       "Synced <strong style=\"color:#cdcd00\">glad-morning-1222</strong>: <a href=\"https://wandb.ai/oliverweissl/NeuralStyleSearch/runs/f8c4agky\" target=\"_blank\">https://wandb.ai/oliverweissl/NeuralStyleSearch/runs/f8c4agky</a><br/>Synced 5 W&B file(s), 2 media file(s), 2 artifact file(s) and 0 other file(s)"
      ]
     },
     "metadata": {},
     "output_type": "display_data"
    },
    {
     "data": {
      "text/plain": [
       "<IPython.core.display.HTML object>"
      ],
      "text/html": [
       "Find logs at: <code>./wandb/run-20241206_085858-f8c4agky/logs</code>"
      ]
     },
     "metadata": {},
     "output_type": "display_data"
    },
    {
     "data": {
      "text/plain": [
       "<IPython.core.display.HTML object>"
      ],
      "text/html": [
       "Successfully finished last run (ID:f8c4agky). Initializing new run:<br/>"
      ]
     },
     "metadata": {},
     "output_type": "display_data"
    },
    {
     "data": {
      "text/plain": [
       "VBox(children=(Label(value='Waiting for wandb.init()...\\r'), FloatProgress(value=0.016670696750225034, max=1.0…"
      ],
      "application/vnd.jupyter.widget-view+json": {
       "version_major": 2,
       "version_minor": 0,
       "model_id": "535a69a74b0e4d1fa67eaa2560c098d2"
      }
     },
     "metadata": {},
     "output_type": "display_data"
    },
    {
     "data": {
      "text/plain": [
       "<IPython.core.display.HTML object>"
      ],
      "text/html": [
       "wandb version 0.19.0 is available!  To upgrade, please run:\n",
       " $ pip install wandb --upgrade"
      ]
     },
     "metadata": {},
     "output_type": "display_data"
    },
    {
     "data": {
      "text/plain": [
       "<IPython.core.display.HTML object>"
      ],
      "text/html": [
       "Tracking run with wandb version 0.13.5"
      ]
     },
     "metadata": {},
     "output_type": "display_data"
    },
    {
     "data": {
      "text/plain": [
       "<IPython.core.display.HTML object>"
      ],
      "text/html": [
       "Run data is saved locally in <code>/home/oliver/PycharmProjects/NeuralStyle/examples/wandb/run-20241206_085950-y01yqpiu</code>"
      ]
     },
     "metadata": {},
     "output_type": "display_data"
    },
    {
     "data": {
      "text/plain": [
       "<IPython.core.display.HTML object>"
      ],
      "text/html": [
       "Syncing run <strong><a href=\"https://wandb.ai/oliverweissl/NeuralStyleSearch/runs/y01yqpiu\" target=\"_blank\">helpful-bee-1223</a></strong> to <a href=\"https://wandb.ai/oliverweissl/NeuralStyleSearch\" target=\"_blank\">Weights & Biases</a> (<a href=\"https://wandb.me/run\" target=\"_blank\">docs</a>)<br/>"
      ]
     },
     "metadata": {},
     "output_type": "display_data"
    },
    {
     "data": {
      "text/plain": [
       "<IPython.core.display.HTML object>"
      ],
      "text/html": [
       "Finishing last run (ID:y01yqpiu) before initializing another..."
      ]
     },
     "metadata": {},
     "output_type": "display_data"
    },
    {
     "data": {
      "text/plain": [
       "<IPython.core.display.HTML object>"
      ],
      "text/html": [
       "Waiting for W&B process to finish... <strong style=\"color:green\">(success).</strong>"
      ]
     },
     "metadata": {},
     "output_type": "display_data"
    },
    {
     "data": {
      "text/plain": [
       "VBox(children=(Label(value='0.009 MB of 0.009 MB uploaded (0.000 MB deduped)\\r'), FloatProgress(value=1.0, max…"
      ],
      "application/vnd.jupyter.widget-view+json": {
       "version_major": 2,
       "version_minor": 0,
       "model_id": "903f5c3c60ba4f2491d751fecb496e20"
      }
     },
     "metadata": {},
     "output_type": "display_data"
    },
    {
     "data": {
      "text/plain": [
       "<IPython.core.display.HTML object>"
      ],
      "text/html": [
       "<style>\n",
       "    table.wandb td:nth-child(1) { padding: 0 10px; text-align: left ; width: auto;} td:nth-child(2) {text-align: left ; width: 100%}\n",
       "    .wandb-row { display: flex; flex-direction: row; flex-wrap: wrap; justify-content: flex-start; width: 100% }\n",
       "    .wandb-col { display: flex; flex-direction: column; flex-basis: 100%; flex: 1; padding: 10px; }\n",
       "    </style>\n",
       "<div class=\"wandb-row\"><div class=\"wandb-col\"><h3>Run history:</h3><br/><table class=\"wandb\"><tr><td>max_NaiveCB</td><td>▄▆▄▆▃▇▅▄▂▅▂▃▆▃▂▄▅▄▆▂▂▃▄▄▅▅▄▅▅▆▆▇▃▃▄▁█▆▄▅</td></tr><tr><td>mean_NaiveCB</td><td>▂▃▄▇▇▅█▅▄▅▅▅▇▃▇▃▅▄▃▃▃▅▇▅▅▅▄▆▆▄▁▄▆▇▅▄▄▇▆▅</td></tr><tr><td>min_NaiveCB</td><td>▅▆▆▇█▇██▅▇█▆▇▇███▇▂▇▆▇█▆▇▇▇█▆█▁███▇█▃█▇▆</td></tr><tr><td>std_NaiveCB</td><td>▄▃▃▂▁▂▁▁▃▂▁▃▂▂▁▁▁▂▇▂▃▃▁▂▂▂▂▁▃▁█▁▁▁▃▁▅▁▁▃</td></tr></table><br/></div><div class=\"wandb-col\"><h3>Run summary:</h3><br/><table class=\"wandb\"><tr><td>expected_boundary</td><td>8</td></tr><tr><td>max_NaiveCB</td><td>0.9998</td></tr><tr><td>mean_NaiveCB</td><td>0.99976</td></tr><tr><td>min_NaiveCB</td><td>0.99956</td></tr><tr><td>std_NaiveCB</td><td>4e-05</td></tr><tr><td>w0_trials</td><td>1</td></tr><tr><td>wn_trials</td><td>1</td></tr></table><br/></div></div>"
      ]
     },
     "metadata": {},
     "output_type": "display_data"
    },
    {
     "data": {
      "text/plain": [
       "<IPython.core.display.HTML object>"
      ],
      "text/html": [
       "Synced <strong style=\"color:#cdcd00\">helpful-bee-1223</strong>: <a href=\"https://wandb.ai/oliverweissl/NeuralStyleSearch/runs/y01yqpiu\" target=\"_blank\">https://wandb.ai/oliverweissl/NeuralStyleSearch/runs/y01yqpiu</a><br/>Synced 5 W&B file(s), 2 media file(s), 2 artifact file(s) and 0 other file(s)"
      ]
     },
     "metadata": {},
     "output_type": "display_data"
    },
    {
     "data": {
      "text/plain": [
       "<IPython.core.display.HTML object>"
      ],
      "text/html": [
       "Find logs at: <code>./wandb/run-20241206_085950-y01yqpiu/logs</code>"
      ]
     },
     "metadata": {},
     "output_type": "display_data"
    },
    {
     "data": {
      "text/plain": [
       "<IPython.core.display.HTML object>"
      ],
      "text/html": [
       "Successfully finished last run (ID:y01yqpiu). Initializing new run:<br/>"
      ]
     },
     "metadata": {},
     "output_type": "display_data"
    },
    {
     "data": {
      "text/plain": [
       "VBox(children=(Label(value='Waiting for wandb.init()...\\r'), FloatProgress(value=0.016668389499924767, max=1.0…"
      ],
      "application/vnd.jupyter.widget-view+json": {
       "version_major": 2,
       "version_minor": 0,
       "model_id": "693db7bd1b874e779567bba2812049c3"
      }
     },
     "metadata": {},
     "output_type": "display_data"
    },
    {
     "data": {
      "text/plain": [
       "<IPython.core.display.HTML object>"
      ],
      "text/html": [
       "wandb version 0.19.0 is available!  To upgrade, please run:\n",
       " $ pip install wandb --upgrade"
      ]
     },
     "metadata": {},
     "output_type": "display_data"
    },
    {
     "data": {
      "text/plain": [
       "<IPython.core.display.HTML object>"
      ],
      "text/html": [
       "Tracking run with wandb version 0.13.5"
      ]
     },
     "metadata": {},
     "output_type": "display_data"
    },
    {
     "data": {
      "text/plain": [
       "<IPython.core.display.HTML object>"
      ],
      "text/html": [
       "Run data is saved locally in <code>/home/oliver/PycharmProjects/NeuralStyle/examples/wandb/run-20241206_090043-s7j9nuau</code>"
      ]
     },
     "metadata": {},
     "output_type": "display_data"
    },
    {
     "data": {
      "text/plain": [
       "<IPython.core.display.HTML object>"
      ],
      "text/html": [
       "Syncing run <strong><a href=\"https://wandb.ai/oliverweissl/NeuralStyleSearch/runs/s7j9nuau\" target=\"_blank\">toasty-shadow-1224</a></strong> to <a href=\"https://wandb.ai/oliverweissl/NeuralStyleSearch\" target=\"_blank\">Weights & Biases</a> (<a href=\"https://wandb.me/run\" target=\"_blank\">docs</a>)<br/>"
      ]
     },
     "metadata": {},
     "output_type": "display_data"
    },
    {
     "data": {
      "text/plain": [
       "<IPython.core.display.HTML object>"
      ],
      "text/html": [
       "Finishing last run (ID:s7j9nuau) before initializing another..."
      ]
     },
     "metadata": {},
     "output_type": "display_data"
    },
    {
     "data": {
      "text/plain": [
       "<IPython.core.display.HTML object>"
      ],
      "text/html": [
       "Waiting for W&B process to finish... <strong style=\"color:green\">(success).</strong>"
      ]
     },
     "metadata": {},
     "output_type": "display_data"
    },
    {
     "data": {
      "text/plain": [
       "<IPython.core.display.HTML object>"
      ],
      "text/html": [
       "<style>\n",
       "    table.wandb td:nth-child(1) { padding: 0 10px; text-align: left ; width: auto;} td:nth-child(2) {text-align: left ; width: 100%}\n",
       "    .wandb-row { display: flex; flex-direction: row; flex-wrap: wrap; justify-content: flex-start; width: 100% }\n",
       "    .wandb-col { display: flex; flex-direction: column; flex-basis: 100%; flex: 1; padding: 10px; }\n",
       "    </style>\n",
       "<div class=\"wandb-row\"><div class=\"wandb-col\"><h3>Run history:</h3><br/><table class=\"wandb\"><tr><td>max_NaiveCB</td><td>▄▅▄▆▅▅█▄▂▅▅▂▆▅▆▄▆▆▆▅▅▃▅▂▆▆▅▆▆▂▇▅▇▆▅▅▆▇▁▅</td></tr><tr><td>mean_NaiveCB</td><td>█▇▆▆▅▅▆▅▆▅▅▅▆▅▄▇▅▆█▃▅▆▆▄▆▆▆▆▆▅▃▇▇▇▅▆▁▃▇▆</td></tr><tr><td>min_NaiveCB</td><td>█▇█▇▇▇▇▆█▆▆▆▇▇▄▇▇▇▇▃▅█▇▄▇▇▇▆▇▇▆██▅▇▆▁▇█▇</td></tr><tr><td>std_NaiveCB</td><td>▁▂▂▂▂▂▂▃▁▃▃▃▂▂▅▂▃▂▂▆▄▂▂▄▂▃▃▄▂▂▃▂▁▄▂▃█▂▁▂</td></tr></table><br/></div><div class=\"wandb-col\"><h3>Run summary:</h3><br/><table class=\"wandb\"><tr><td>expected_boundary</td><td>7</td></tr><tr><td>max_NaiveCB</td><td>0.99993</td></tr><tr><td>mean_NaiveCB</td><td>0.99989</td></tr><tr><td>min_NaiveCB</td><td>0.99975</td></tr><tr><td>std_NaiveCB</td><td>2e-05</td></tr><tr><td>w0_trials</td><td>1</td></tr><tr><td>wn_trials</td><td>1</td></tr></table><br/></div></div>"
      ]
     },
     "metadata": {},
     "output_type": "display_data"
    },
    {
     "data": {
      "text/plain": [
       "<IPython.core.display.HTML object>"
      ],
      "text/html": [
       "Synced <strong style=\"color:#cdcd00\">toasty-shadow-1224</strong>: <a href=\"https://wandb.ai/oliverweissl/NeuralStyleSearch/runs/s7j9nuau\" target=\"_blank\">https://wandb.ai/oliverweissl/NeuralStyleSearch/runs/s7j9nuau</a><br/>Synced 5 W&B file(s), 2 media file(s), 2 artifact file(s) and 0 other file(s)"
      ]
     },
     "metadata": {},
     "output_type": "display_data"
    },
    {
     "data": {
      "text/plain": [
       "<IPython.core.display.HTML object>"
      ],
      "text/html": [
       "Find logs at: <code>./wandb/run-20241206_090043-s7j9nuau/logs</code>"
      ]
     },
     "metadata": {},
     "output_type": "display_data"
    },
    {
     "data": {
      "text/plain": [
       "<IPython.core.display.HTML object>"
      ],
      "text/html": [
       "Successfully finished last run (ID:s7j9nuau). Initializing new run:<br/>"
      ]
     },
     "metadata": {},
     "output_type": "display_data"
    },
    {
     "data": {
      "text/plain": [
       "VBox(children=(Label(value='Waiting for wandb.init()...\\r'), FloatProgress(value=0.016669303283561022, max=1.0…"
      ],
      "application/vnd.jupyter.widget-view+json": {
       "version_major": 2,
       "version_minor": 0,
       "model_id": "d3173103169c49a6881f73d834b3ad5a"
      }
     },
     "metadata": {},
     "output_type": "display_data"
    },
    {
     "data": {
      "text/plain": [
       "<IPython.core.display.HTML object>"
      ],
      "text/html": [
       "wandb version 0.19.0 is available!  To upgrade, please run:\n",
       " $ pip install wandb --upgrade"
      ]
     },
     "metadata": {},
     "output_type": "display_data"
    },
    {
     "data": {
      "text/plain": [
       "<IPython.core.display.HTML object>"
      ],
      "text/html": [
       "Tracking run with wandb version 0.13.5"
      ]
     },
     "metadata": {},
     "output_type": "display_data"
    },
    {
     "data": {
      "text/plain": [
       "<IPython.core.display.HTML object>"
      ],
      "text/html": [
       "Run data is saved locally in <code>/home/oliver/PycharmProjects/NeuralStyle/examples/wandb/run-20241206_090136-jf4wgx7y</code>"
      ]
     },
     "metadata": {},
     "output_type": "display_data"
    },
    {
     "data": {
      "text/plain": [
       "<IPython.core.display.HTML object>"
      ],
      "text/html": [
       "Syncing run <strong><a href=\"https://wandb.ai/oliverweissl/NeuralStyleSearch/runs/jf4wgx7y\" target=\"_blank\">curious-sea-1225</a></strong> to <a href=\"https://wandb.ai/oliverweissl/NeuralStyleSearch\" target=\"_blank\">Weights & Biases</a> (<a href=\"https://wandb.me/run\" target=\"_blank\">docs</a>)<br/>"
      ]
     },
     "metadata": {},
     "output_type": "display_data"
    },
    {
     "data": {
      "text/plain": [
       "<IPython.core.display.HTML object>"
      ],
      "text/html": [
       "Finishing last run (ID:jf4wgx7y) before initializing another..."
      ]
     },
     "metadata": {},
     "output_type": "display_data"
    },
    {
     "data": {
      "text/plain": [
       "<IPython.core.display.HTML object>"
      ],
      "text/html": [
       "Waiting for W&B process to finish... <strong style=\"color:green\">(success).</strong>"
      ]
     },
     "metadata": {},
     "output_type": "display_data"
    },
    {
     "data": {
      "text/plain": [
       "<IPython.core.display.HTML object>"
      ],
      "text/html": [
       "<style>\n",
       "    table.wandb td:nth-child(1) { padding: 0 10px; text-align: left ; width: auto;} td:nth-child(2) {text-align: left ; width: 100%}\n",
       "    .wandb-row { display: flex; flex-direction: row; flex-wrap: wrap; justify-content: flex-start; width: 100% }\n",
       "    .wandb-col { display: flex; flex-direction: column; flex-basis: 100%; flex: 1; padding: 10px; }\n",
       "    </style>\n",
       "<div class=\"wandb-row\"><div class=\"wandb-col\"><h3>Run history:</h3><br/><table class=\"wandb\"><tr><td>max_NaiveCB</td><td>▇▂▆█▆▁▇▇█▅▃▄▄▂▂▃▅▃▄▂▂▁▃▅▄▂▆▇▆▆▂▃█▁▆▃▇▇▃▆</td></tr><tr><td>mean_NaiveCB</td><td>▇▅▄█▆▅▅▆▃▄▅▅█▃▅▁▇▅▃▇▅▃▅▃▇▆▇█▅▅▅█▄▆▅▆▅▅▃▄</td></tr><tr><td>min_NaiveCB</td><td>▆▅▄▅▆▅▆▇▃▁▅▅▆▄▆▃█▅▄▆▅▆▆▅▆█▇▅▅▅▅▆▃▅▆▅▅▄▄▄</td></tr><tr><td>std_NaiveCB</td><td>▇▃▅▅▄▁▇▆█▆▃▄▂▃▂▆▂▃▅▄▄▂▁▇▃▂▂▄▆▅▅▂▇▄▆▄▆▆▄▆</td></tr></table><br/></div><div class=\"wandb-col\"><h3>Run summary:</h3><br/><table class=\"wandb\"><tr><td>expected_boundary</td><td>3</td></tr><tr><td>max_NaiveCB</td><td>0.99998</td></tr><tr><td>mean_NaiveCB</td><td>0.99997</td></tr><tr><td>min_NaiveCB</td><td>0.99997</td></tr><tr><td>std_NaiveCB</td><td>0.0</td></tr><tr><td>w0_trials</td><td>1</td></tr><tr><td>wn_trials</td><td>1</td></tr></table><br/></div></div>"
      ]
     },
     "metadata": {},
     "output_type": "display_data"
    },
    {
     "data": {
      "text/plain": [
       "<IPython.core.display.HTML object>"
      ],
      "text/html": [
       "Synced <strong style=\"color:#cdcd00\">curious-sea-1225</strong>: <a href=\"https://wandb.ai/oliverweissl/NeuralStyleSearch/runs/jf4wgx7y\" target=\"_blank\">https://wandb.ai/oliverweissl/NeuralStyleSearch/runs/jf4wgx7y</a><br/>Synced 5 W&B file(s), 2 media file(s), 2 artifact file(s) and 0 other file(s)"
      ]
     },
     "metadata": {},
     "output_type": "display_data"
    },
    {
     "data": {
      "text/plain": [
       "<IPython.core.display.HTML object>"
      ],
      "text/html": [
       "Find logs at: <code>./wandb/run-20241206_090136-jf4wgx7y/logs</code>"
      ]
     },
     "metadata": {},
     "output_type": "display_data"
    },
    {
     "data": {
      "text/plain": [
       "<IPython.core.display.HTML object>"
      ],
      "text/html": [
       "Successfully finished last run (ID:jf4wgx7y). Initializing new run:<br/>"
      ]
     },
     "metadata": {},
     "output_type": "display_data"
    },
    {
     "data": {
      "text/plain": [
       "VBox(children=(Label(value='Waiting for wandb.init()...\\r'), FloatProgress(value=0.016668142300234952, max=1.0…"
      ],
      "application/vnd.jupyter.widget-view+json": {
       "version_major": 2,
       "version_minor": 0,
       "model_id": "81c11de8c1124b4a81337540723146bb"
      }
     },
     "metadata": {},
     "output_type": "display_data"
    },
    {
     "data": {
      "text/plain": [
       "<IPython.core.display.HTML object>"
      ],
      "text/html": [
       "wandb version 0.19.0 is available!  To upgrade, please run:\n",
       " $ pip install wandb --upgrade"
      ]
     },
     "metadata": {},
     "output_type": "display_data"
    },
    {
     "data": {
      "text/plain": [
       "<IPython.core.display.HTML object>"
      ],
      "text/html": [
       "Tracking run with wandb version 0.13.5"
      ]
     },
     "metadata": {},
     "output_type": "display_data"
    },
    {
     "data": {
      "text/plain": [
       "<IPython.core.display.HTML object>"
      ],
      "text/html": [
       "Run data is saved locally in <code>/home/oliver/PycharmProjects/NeuralStyle/examples/wandb/run-20241206_090230-al25x2fy</code>"
      ]
     },
     "metadata": {},
     "output_type": "display_data"
    },
    {
     "data": {
      "text/plain": [
       "<IPython.core.display.HTML object>"
      ],
      "text/html": [
       "Syncing run <strong><a href=\"https://wandb.ai/oliverweissl/NeuralStyleSearch/runs/al25x2fy\" target=\"_blank\">rural-snowflake-1226</a></strong> to <a href=\"https://wandb.ai/oliverweissl/NeuralStyleSearch\" target=\"_blank\">Weights & Biases</a> (<a href=\"https://wandb.me/run\" target=\"_blank\">docs</a>)<br/>"
      ]
     },
     "metadata": {},
     "output_type": "display_data"
    },
    {
     "data": {
      "text/plain": [
       "<IPython.core.display.HTML object>"
      ],
      "text/html": [
       "Finishing last run (ID:al25x2fy) before initializing another..."
      ]
     },
     "metadata": {},
     "output_type": "display_data"
    },
    {
     "data": {
      "text/plain": [
       "<IPython.core.display.HTML object>"
      ],
      "text/html": [
       "Waiting for W&B process to finish... <strong style=\"color:green\">(success).</strong>"
      ]
     },
     "metadata": {},
     "output_type": "display_data"
    },
    {
     "data": {
      "text/plain": [
       "<IPython.core.display.HTML object>"
      ],
      "text/html": [
       "<style>\n",
       "    table.wandb td:nth-child(1) { padding: 0 10px; text-align: left ; width: auto;} td:nth-child(2) {text-align: left ; width: 100%}\n",
       "    .wandb-row { display: flex; flex-direction: row; flex-wrap: wrap; justify-content: flex-start; width: 100% }\n",
       "    .wandb-col { display: flex; flex-direction: column; flex-basis: 100%; flex: 1; padding: 10px; }\n",
       "    </style>\n",
       "<div class=\"wandb-row\"><div class=\"wandb-col\"><h3>Run history:</h3><br/><table class=\"wandb\"><tr><td>max_NaiveCB</td><td>▆▄▇▅▇▇▇▆▅▆▇▅▂▆▆▆▅▅▄▄▅▃▄▆▆▆▆▆██▇▆▆▅▇▅▆▇▆▁</td></tr><tr><td>mean_NaiveCB</td><td>▅▄▅▃▂▅▆▆▄▇▁▃▆▄▃▄▆▆▃▃▃▄▃▅▇█▅▅▅▆▃▃▄▆▆▆▆▆▇▃</td></tr><tr><td>min_NaiveCB</td><td>▆▆▅▄▄▆▇▄▅▆▅▃▆▅▁▂▆▇▆▅▅▅▇▆▆▅▄▄▅▆▅▆▆█▆▄▅▆█▆</td></tr><tr><td>std_NaiveCB</td><td>▄▂█▇▅▅▆▄▅▅▄▇▂▆▆▆▄▃▃▅▆▅▄▄▄▅▅▆▇▅▄▃▃▂▅▇▅▅▅▁</td></tr></table><br/></div><div class=\"wandb-col\"><h3>Run summary:</h3><br/><table class=\"wandb\"><tr><td>expected_boundary</td><td>3</td></tr><tr><td>max_NaiveCB</td><td>0.99999</td></tr><tr><td>mean_NaiveCB</td><td>0.99999</td></tr><tr><td>min_NaiveCB</td><td>0.99999</td></tr><tr><td>std_NaiveCB</td><td>0.0</td></tr><tr><td>w0_trials</td><td>1</td></tr><tr><td>wn_trials</td><td>1</td></tr></table><br/></div></div>"
      ]
     },
     "metadata": {},
     "output_type": "display_data"
    },
    {
     "data": {
      "text/plain": [
       "<IPython.core.display.HTML object>"
      ],
      "text/html": [
       "Synced <strong style=\"color:#cdcd00\">rural-snowflake-1226</strong>: <a href=\"https://wandb.ai/oliverweissl/NeuralStyleSearch/runs/al25x2fy\" target=\"_blank\">https://wandb.ai/oliverweissl/NeuralStyleSearch/runs/al25x2fy</a><br/>Synced 5 W&B file(s), 2 media file(s), 2 artifact file(s) and 0 other file(s)"
      ]
     },
     "metadata": {},
     "output_type": "display_data"
    },
    {
     "data": {
      "text/plain": [
       "<IPython.core.display.HTML object>"
      ],
      "text/html": [
       "Find logs at: <code>./wandb/run-20241206_090230-al25x2fy/logs</code>"
      ]
     },
     "metadata": {},
     "output_type": "display_data"
    },
    {
     "data": {
      "text/plain": [
       "<IPython.core.display.HTML object>"
      ],
      "text/html": [
       "Successfully finished last run (ID:al25x2fy). Initializing new run:<br/>"
      ]
     },
     "metadata": {},
     "output_type": "display_data"
    },
    {
     "data": {
      "text/plain": [
       "VBox(children=(Label(value='Waiting for wandb.init()...\\r'), FloatProgress(value=0.016668109933380037, max=1.0…"
      ],
      "application/vnd.jupyter.widget-view+json": {
       "version_major": 2,
       "version_minor": 0,
       "model_id": "ac8e57faec1e42bba9576dd51a7f77b1"
      }
     },
     "metadata": {},
     "output_type": "display_data"
    },
    {
     "data": {
      "text/plain": [
       "<IPython.core.display.HTML object>"
      ],
      "text/html": [
       "wandb version 0.19.0 is available!  To upgrade, please run:\n",
       " $ pip install wandb --upgrade"
      ]
     },
     "metadata": {},
     "output_type": "display_data"
    },
    {
     "data": {
      "text/plain": [
       "<IPython.core.display.HTML object>"
      ],
      "text/html": [
       "Tracking run with wandb version 0.13.5"
      ]
     },
     "metadata": {},
     "output_type": "display_data"
    },
    {
     "data": {
      "text/plain": [
       "<IPython.core.display.HTML object>"
      ],
      "text/html": [
       "Run data is saved locally in <code>/home/oliver/PycharmProjects/NeuralStyle/examples/wandb/run-20241206_090324-kpez0tzh</code>"
      ]
     },
     "metadata": {},
     "output_type": "display_data"
    },
    {
     "data": {
      "text/plain": [
       "<IPython.core.display.HTML object>"
      ],
      "text/html": [
       "Syncing run <strong><a href=\"https://wandb.ai/oliverweissl/NeuralStyleSearch/runs/kpez0tzh\" target=\"_blank\">colorful-sound-1227</a></strong> to <a href=\"https://wandb.ai/oliverweissl/NeuralStyleSearch\" target=\"_blank\">Weights & Biases</a> (<a href=\"https://wandb.me/run\" target=\"_blank\">docs</a>)<br/>"
      ]
     },
     "metadata": {},
     "output_type": "display_data"
    },
    {
     "data": {
      "text/plain": [
       "<IPython.core.display.HTML object>"
      ],
      "text/html": [
       "Finishing last run (ID:kpez0tzh) before initializing another..."
      ]
     },
     "metadata": {},
     "output_type": "display_data"
    },
    {
     "data": {
      "text/plain": [
       "<IPython.core.display.HTML object>"
      ],
      "text/html": [
       "Waiting for W&B process to finish... <strong style=\"color:green\">(success).</strong>"
      ]
     },
     "metadata": {},
     "output_type": "display_data"
    },
    {
     "data": {
      "text/plain": [
       "VBox(children=(Label(value='0.009 MB of 0.009 MB uploaded (0.000 MB deduped)\\r'), FloatProgress(value=0.933131…"
      ],
      "application/vnd.jupyter.widget-view+json": {
       "version_major": 2,
       "version_minor": 0,
       "model_id": "c0fd4ff3fb7e421c9829344fb25f0fa7"
      }
     },
     "metadata": {},
     "output_type": "display_data"
    },
    {
     "data": {
      "text/plain": [
       "<IPython.core.display.HTML object>"
      ],
      "text/html": [
       "<style>\n",
       "    table.wandb td:nth-child(1) { padding: 0 10px; text-align: left ; width: auto;} td:nth-child(2) {text-align: left ; width: 100%}\n",
       "    .wandb-row { display: flex; flex-direction: row; flex-wrap: wrap; justify-content: flex-start; width: 100% }\n",
       "    .wandb-col { display: flex; flex-direction: column; flex-basis: 100%; flex: 1; padding: 10px; }\n",
       "    </style>\n",
       "<div class=\"wandb-row\"><div class=\"wandb-col\"><h3>Run history:</h3><br/><table class=\"wandb\"><tr><td>max_NaiveCB</td><td>▄▅▃▆▂▂▃▃▅▆▂▃▂▂█▄▄▂▂▃▂▄▂▂▃▂▅▂▁▁▅▃▃▇▂▄▂▂▄▄</td></tr><tr><td>mean_NaiveCB</td><td>▃▃▆▆▁▆▃▃▃▃▃▃▆▁▆█▆▆▃▃▃▃▁▃▁▆▃▁▃▃▃▁▆▃▃▆▃▁▁▁</td></tr><tr><td>min_NaiveCB</td><td>▁▇▇▇▅█▅▆▄▅▅▆█▄▅▆▇▅▇█▅█▇▄▆▂▄▇▇▇▇▅▆▆▇█▇▅▆▆</td></tr><tr><td>std_NaiveCB</td><td>▇▆▄▅▂▃▄▅▃█▅▄▃▂█▅▅▃▂▂▄▃▂▅▃▄▅▂▁▁▅▄▅▆▃▅▂▃▅▂</td></tr></table><br/></div><div class=\"wandb-col\"><h3>Run summary:</h3><br/><table class=\"wandb\"><tr><td>expected_boundary</td><td>7</td></tr><tr><td>max_NaiveCB</td><td>1.0</td></tr><tr><td>mean_NaiveCB</td><td>1.0</td></tr><tr><td>min_NaiveCB</td><td>1.0</td></tr><tr><td>std_NaiveCB</td><td>0.0</td></tr><tr><td>w0_trials</td><td>1</td></tr><tr><td>wn_trials</td><td>1</td></tr></table><br/></div></div>"
      ]
     },
     "metadata": {},
     "output_type": "display_data"
    },
    {
     "data": {
      "text/plain": [
       "<IPython.core.display.HTML object>"
      ],
      "text/html": [
       "Synced <strong style=\"color:#cdcd00\">colorful-sound-1227</strong>: <a href=\"https://wandb.ai/oliverweissl/NeuralStyleSearch/runs/kpez0tzh\" target=\"_blank\">https://wandb.ai/oliverweissl/NeuralStyleSearch/runs/kpez0tzh</a><br/>Synced 5 W&B file(s), 2 media file(s), 2 artifact file(s) and 0 other file(s)"
      ]
     },
     "metadata": {},
     "output_type": "display_data"
    },
    {
     "data": {
      "text/plain": [
       "<IPython.core.display.HTML object>"
      ],
      "text/html": [
       "Find logs at: <code>./wandb/run-20241206_090324-kpez0tzh/logs</code>"
      ]
     },
     "metadata": {},
     "output_type": "display_data"
    },
    {
     "data": {
      "text/plain": [
       "<IPython.core.display.HTML object>"
      ],
      "text/html": [
       "Successfully finished last run (ID:kpez0tzh). Initializing new run:<br/>"
      ]
     },
     "metadata": {},
     "output_type": "display_data"
    },
    {
     "data": {
      "text/plain": [
       "VBox(children=(Label(value='Waiting for wandb.init()...\\r'), FloatProgress(value=0.016668101550021675, max=1.0…"
      ],
      "application/vnd.jupyter.widget-view+json": {
       "version_major": 2,
       "version_minor": 0,
       "model_id": "4b1fb2bb22c94f84afd3530041008ec4"
      }
     },
     "metadata": {},
     "output_type": "display_data"
    },
    {
     "data": {
      "text/plain": [
       "<IPython.core.display.HTML object>"
      ],
      "text/html": [
       "wandb version 0.19.0 is available!  To upgrade, please run:\n",
       " $ pip install wandb --upgrade"
      ]
     },
     "metadata": {},
     "output_type": "display_data"
    },
    {
     "data": {
      "text/plain": [
       "<IPython.core.display.HTML object>"
      ],
      "text/html": [
       "Tracking run with wandb version 0.13.5"
      ]
     },
     "metadata": {},
     "output_type": "display_data"
    },
    {
     "data": {
      "text/plain": [
       "<IPython.core.display.HTML object>"
      ],
      "text/html": [
       "Run data is saved locally in <code>/home/oliver/PycharmProjects/NeuralStyle/examples/wandb/run-20241206_090418-obl31ohy</code>"
      ]
     },
     "metadata": {},
     "output_type": "display_data"
    },
    {
     "data": {
      "text/plain": [
       "<IPython.core.display.HTML object>"
      ],
      "text/html": [
       "Syncing run <strong><a href=\"https://wandb.ai/oliverweissl/NeuralStyleSearch/runs/obl31ohy\" target=\"_blank\">rural-universe-1228</a></strong> to <a href=\"https://wandb.ai/oliverweissl/NeuralStyleSearch\" target=\"_blank\">Weights & Biases</a> (<a href=\"https://wandb.me/run\" target=\"_blank\">docs</a>)<br/>"
      ]
     },
     "metadata": {},
     "output_type": "display_data"
    },
    {
     "data": {
      "text/plain": [
       "<IPython.core.display.HTML object>"
      ],
      "text/html": [
       "Finishing last run (ID:obl31ohy) before initializing another..."
      ]
     },
     "metadata": {},
     "output_type": "display_data"
    },
    {
     "data": {
      "text/plain": [
       "<IPython.core.display.HTML object>"
      ],
      "text/html": [
       "Waiting for W&B process to finish... <strong style=\"color:green\">(success).</strong>"
      ]
     },
     "metadata": {},
     "output_type": "display_data"
    },
    {
     "data": {
      "text/plain": [
       "<IPython.core.display.HTML object>"
      ],
      "text/html": [
       "<style>\n",
       "    table.wandb td:nth-child(1) { padding: 0 10px; text-align: left ; width: auto;} td:nth-child(2) {text-align: left ; width: 100%}\n",
       "    .wandb-row { display: flex; flex-direction: row; flex-wrap: wrap; justify-content: flex-start; width: 100% }\n",
       "    .wandb-col { display: flex; flex-direction: column; flex-basis: 100%; flex: 1; padding: 10px; }\n",
       "    </style>\n",
       "<div class=\"wandb-row\"><div class=\"wandb-col\"><h3>Run history:</h3><br/><table class=\"wandb\"><tr><td>max_NaiveCB</td><td>▆▃▃▃▃▄▆▅▄▄▄▇▇▅▄▃▄▃▆▅▆▄▂█▅▆▃▆▅▇▅▃▅▁▅▇▄▃▅▄</td></tr><tr><td>mean_NaiveCB</td><td>▅▅▄▃▅▄▆▅▆▅▅▅▃█▁▄▅▄▅▄▇▆▂▅██▆▇▄▄▄▅▇▂▆▄▇▄▃▂</td></tr><tr><td>min_NaiveCB</td><td>▆▇▆▆▇▅▆▅▆▅▆▆▄█▄▃▆▆▆▆▅▄▆▆▇▇█▅▆▁▇█▄▄▄▇▅▄▆▅</td></tr><tr><td>std_NaiveCB</td><td>▃▃▄▄▃▆▃▄▃▅▃▃▆▁▇▆▄▅▄▅▅▆▃▄▂▂▁▃▄█▃▁▆▆▃▄▄▆▆▆</td></tr></table><br/></div><div class=\"wandb-col\"><h3>Run summary:</h3><br/><table class=\"wandb\"><tr><td>expected_boundary</td><td>1</td></tr><tr><td>max_NaiveCB</td><td>0.97263</td></tr><tr><td>mean_NaiveCB</td><td>0.91765</td></tr><tr><td>min_NaiveCB</td><td>0.82218</td></tr><tr><td>std_NaiveCB</td><td>0.03252</td></tr><tr><td>w0_trials</td><td>1</td></tr><tr><td>wn_trials</td><td>1</td></tr></table><br/></div></div>"
      ]
     },
     "metadata": {},
     "output_type": "display_data"
    },
    {
     "data": {
      "text/plain": [
       "<IPython.core.display.HTML object>"
      ],
      "text/html": [
       "Synced <strong style=\"color:#cdcd00\">rural-universe-1228</strong>: <a href=\"https://wandb.ai/oliverweissl/NeuralStyleSearch/runs/obl31ohy\" target=\"_blank\">https://wandb.ai/oliverweissl/NeuralStyleSearch/runs/obl31ohy</a><br/>Synced 5 W&B file(s), 2 media file(s), 2 artifact file(s) and 0 other file(s)"
      ]
     },
     "metadata": {},
     "output_type": "display_data"
    },
    {
     "data": {
      "text/plain": [
       "<IPython.core.display.HTML object>"
      ],
      "text/html": [
       "Find logs at: <code>./wandb/run-20241206_090418-obl31ohy/logs</code>"
      ]
     },
     "metadata": {},
     "output_type": "display_data"
    },
    {
     "data": {
      "text/plain": [
       "<IPython.core.display.HTML object>"
      ],
      "text/html": [
       "Successfully finished last run (ID:obl31ohy). Initializing new run:<br/>"
      ]
     },
     "metadata": {},
     "output_type": "display_data"
    },
    {
     "data": {
      "text/plain": [
       "VBox(children=(Label(value='Waiting for wandb.init()...\\r'), FloatProgress(value=0.016668990316490332, max=1.0…"
      ],
      "application/vnd.jupyter.widget-view+json": {
       "version_major": 2,
       "version_minor": 0,
       "model_id": "69ff2467370c41c9a98659f68d7339c4"
      }
     },
     "metadata": {},
     "output_type": "display_data"
    },
    {
     "data": {
      "text/plain": [
       "<IPython.core.display.HTML object>"
      ],
      "text/html": [
       "wandb version 0.19.0 is available!  To upgrade, please run:\n",
       " $ pip install wandb --upgrade"
      ]
     },
     "metadata": {},
     "output_type": "display_data"
    },
    {
     "data": {
      "text/plain": [
       "<IPython.core.display.HTML object>"
      ],
      "text/html": [
       "Tracking run with wandb version 0.13.5"
      ]
     },
     "metadata": {},
     "output_type": "display_data"
    },
    {
     "data": {
      "text/plain": [
       "<IPython.core.display.HTML object>"
      ],
      "text/html": [
       "Run data is saved locally in <code>/home/oliver/PycharmProjects/NeuralStyle/examples/wandb/run-20241206_090510-gqtj8n72</code>"
      ]
     },
     "metadata": {},
     "output_type": "display_data"
    },
    {
     "data": {
      "text/plain": [
       "<IPython.core.display.HTML object>"
      ],
      "text/html": [
       "Syncing run <strong><a href=\"https://wandb.ai/oliverweissl/NeuralStyleSearch/runs/gqtj8n72\" target=\"_blank\">celestial-jazz-1229</a></strong> to <a href=\"https://wandb.ai/oliverweissl/NeuralStyleSearch\" target=\"_blank\">Weights & Biases</a> (<a href=\"https://wandb.me/run\" target=\"_blank\">docs</a>)<br/>"
      ]
     },
     "metadata": {},
     "output_type": "display_data"
    },
    {
     "data": {
      "text/plain": [
       "<IPython.core.display.HTML object>"
      ],
      "text/html": [
       "Finishing last run (ID:gqtj8n72) before initializing another..."
      ]
     },
     "metadata": {},
     "output_type": "display_data"
    },
    {
     "data": {
      "text/plain": [
       "<IPython.core.display.HTML object>"
      ],
      "text/html": [
       "Waiting for W&B process to finish... <strong style=\"color:green\">(success).</strong>"
      ]
     },
     "metadata": {},
     "output_type": "display_data"
    },
    {
     "data": {
      "text/plain": [
       "<IPython.core.display.HTML object>"
      ],
      "text/html": [
       "<style>\n",
       "    table.wandb td:nth-child(1) { padding: 0 10px; text-align: left ; width: auto;} td:nth-child(2) {text-align: left ; width: 100%}\n",
       "    .wandb-row { display: flex; flex-direction: row; flex-wrap: wrap; justify-content: flex-start; width: 100% }\n",
       "    .wandb-col { display: flex; flex-direction: column; flex-basis: 100%; flex: 1; padding: 10px; }\n",
       "    </style>\n",
       "<div class=\"wandb-row\"><div class=\"wandb-col\"><h3>Run history:</h3><br/><table class=\"wandb\"><tr><td>max_NaiveCB</td><td>▄▃▄▂▆█▂▅▂▁▃▇▃▅▂▃▂▄▄▇▂▃▆▇▅█▄▆▅▃▆▂▂▅▃▃▃▄▃▄</td></tr><tr><td>mean_NaiveCB</td><td>▅▄▄▂▄▄▂▂▂▂▂▄▅▇▄▄▄▇▅█▄▅▄▅▄▇▄▂▄▄▁▂▅▄▂▄▄▅▁▄</td></tr><tr><td>min_NaiveCB</td><td>▇▇▇▆▆▇▆▅▆▁▆▅▆▄█▆▆▆▅▅▇▅▇▇▃█▅▆▄▆▄▇▅▅▇█▆▅▆▆</td></tr><tr><td>std_NaiveCB</td><td>▂▃▃▄▂▄▂▇▃▅▃▅▂▃▁▄▃▄▃▁▃▃▄▃█▁▅▅▆▂▆▂▂▃▄▃▄▄▆▃</td></tr></table><br/></div><div class=\"wandb-col\"><h3>Run summary:</h3><br/><table class=\"wandb\"><tr><td>expected_boundary</td><td>4</td></tr><tr><td>max_NaiveCB</td><td>0.99999</td></tr><tr><td>mean_NaiveCB</td><td>0.99999</td></tr><tr><td>min_NaiveCB</td><td>0.99999</td></tr><tr><td>std_NaiveCB</td><td>0.0</td></tr><tr><td>w0_trials</td><td>1</td></tr><tr><td>wn_trials</td><td>1</td></tr></table><br/></div></div>"
      ]
     },
     "metadata": {},
     "output_type": "display_data"
    },
    {
     "data": {
      "text/plain": [
       "<IPython.core.display.HTML object>"
      ],
      "text/html": [
       "Synced <strong style=\"color:#cdcd00\">celestial-jazz-1229</strong>: <a href=\"https://wandb.ai/oliverweissl/NeuralStyleSearch/runs/gqtj8n72\" target=\"_blank\">https://wandb.ai/oliverweissl/NeuralStyleSearch/runs/gqtj8n72</a><br/>Synced 5 W&B file(s), 2 media file(s), 2 artifact file(s) and 0 other file(s)"
      ]
     },
     "metadata": {},
     "output_type": "display_data"
    },
    {
     "data": {
      "text/plain": [
       "<IPython.core.display.HTML object>"
      ],
      "text/html": [
       "Find logs at: <code>./wandb/run-20241206_090510-gqtj8n72/logs</code>"
      ]
     },
     "metadata": {},
     "output_type": "display_data"
    },
    {
     "data": {
      "text/plain": [
       "<IPython.core.display.HTML object>"
      ],
      "text/html": [
       "Successfully finished last run (ID:gqtj8n72). Initializing new run:<br/>"
      ]
     },
     "metadata": {},
     "output_type": "display_data"
    },
    {
     "data": {
      "text/plain": [
       "VBox(children=(Label(value='Waiting for wandb.init()...\\r'), FloatProgress(value=0.016669073999704173, max=1.0…"
      ],
      "application/vnd.jupyter.widget-view+json": {
       "version_major": 2,
       "version_minor": 0,
       "model_id": "7e3147f0d3b2434885c39e3fda8bec0e"
      }
     },
     "metadata": {},
     "output_type": "display_data"
    },
    {
     "data": {
      "text/plain": [
       "<IPython.core.display.HTML object>"
      ],
      "text/html": [
       "wandb version 0.19.0 is available!  To upgrade, please run:\n",
       " $ pip install wandb --upgrade"
      ]
     },
     "metadata": {},
     "output_type": "display_data"
    },
    {
     "data": {
      "text/plain": [
       "<IPython.core.display.HTML object>"
      ],
      "text/html": [
       "Tracking run with wandb version 0.13.5"
      ]
     },
     "metadata": {},
     "output_type": "display_data"
    },
    {
     "data": {
      "text/plain": [
       "<IPython.core.display.HTML object>"
      ],
      "text/html": [
       "Run data is saved locally in <code>/home/oliver/PycharmProjects/NeuralStyle/examples/wandb/run-20241206_090604-0quwfjgc</code>"
      ]
     },
     "metadata": {},
     "output_type": "display_data"
    },
    {
     "data": {
      "text/plain": [
       "<IPython.core.display.HTML object>"
      ],
      "text/html": [
       "Syncing run <strong><a href=\"https://wandb.ai/oliverweissl/NeuralStyleSearch/runs/0quwfjgc\" target=\"_blank\">lucky-dew-1230</a></strong> to <a href=\"https://wandb.ai/oliverweissl/NeuralStyleSearch\" target=\"_blank\">Weights & Biases</a> (<a href=\"https://wandb.me/run\" target=\"_blank\">docs</a>)<br/>"
      ]
     },
     "metadata": {},
     "output_type": "display_data"
    },
    {
     "data": {
      "text/plain": [
       "<IPython.core.display.HTML object>"
      ],
      "text/html": [
       "Finishing last run (ID:0quwfjgc) before initializing another..."
      ]
     },
     "metadata": {},
     "output_type": "display_data"
    },
    {
     "data": {
      "text/plain": [
       "<IPython.core.display.HTML object>"
      ],
      "text/html": [
       "Waiting for W&B process to finish... <strong style=\"color:green\">(success).</strong>"
      ]
     },
     "metadata": {},
     "output_type": "display_data"
    },
    {
     "data": {
      "text/plain": [
       "<IPython.core.display.HTML object>"
      ],
      "text/html": [
       "<style>\n",
       "    table.wandb td:nth-child(1) { padding: 0 10px; text-align: left ; width: auto;} td:nth-child(2) {text-align: left ; width: 100%}\n",
       "    .wandb-row { display: flex; flex-direction: row; flex-wrap: wrap; justify-content: flex-start; width: 100% }\n",
       "    .wandb-col { display: flex; flex-direction: column; flex-basis: 100%; flex: 1; padding: 10px; }\n",
       "    </style>\n",
       "<div class=\"wandb-row\"><div class=\"wandb-col\"><h3>Run history:</h3><br/><table class=\"wandb\"><tr><td>max_NaiveCB</td><td>▆▇▁▃▃▄▃▃▂▆▄▂▄▁▆▃█▂▃▆▆▅▁▃▄▃▁▆▆▂▃▃▅▃▄▄▄▁▃▃</td></tr><tr><td>mean_NaiveCB</td><td>▃█▂▃▃▅▃▃▁▃▃▁▂▂▆▃▆▃▃▅▅▅▁▂▃▃▂▅▇▂▃▂▃▃▅▅▆▁▁▃</td></tr><tr><td>min_NaiveCB</td><td>▇▇▆▇▇██▅▄▆▇▂█▆▇▇▅▆▆▅█▆▄▄▅▆▆█▇▇▇▆▇▇▇▇█▁▅▇</td></tr><tr><td>std_NaiveCB</td><td>▂▄▄▄▂▁▂▅▆▄▃▆▂▄▂▅█▄▄▆▃▅▆█▅▄▄▂▃▂▂▄▃▅▂▂▁█▇▂</td></tr></table><br/></div><div class=\"wandb-col\"><h3>Run summary:</h3><br/><table class=\"wandb\"><tr><td>expected_boundary</td><td>3</td></tr><tr><td>max_NaiveCB</td><td>0.99999</td></tr><tr><td>mean_NaiveCB</td><td>0.99999</td></tr><tr><td>min_NaiveCB</td><td>0.99999</td></tr><tr><td>std_NaiveCB</td><td>0.0</td></tr><tr><td>w0_trials</td><td>1</td></tr><tr><td>wn_trials</td><td>1</td></tr></table><br/></div></div>"
      ]
     },
     "metadata": {},
     "output_type": "display_data"
    },
    {
     "data": {
      "text/plain": [
       "<IPython.core.display.HTML object>"
      ],
      "text/html": [
       "Synced <strong style=\"color:#cdcd00\">lucky-dew-1230</strong>: <a href=\"https://wandb.ai/oliverweissl/NeuralStyleSearch/runs/0quwfjgc\" target=\"_blank\">https://wandb.ai/oliverweissl/NeuralStyleSearch/runs/0quwfjgc</a><br/>Synced 5 W&B file(s), 2 media file(s), 2 artifact file(s) and 0 other file(s)"
      ]
     },
     "metadata": {},
     "output_type": "display_data"
    },
    {
     "data": {
      "text/plain": [
       "<IPython.core.display.HTML object>"
      ],
      "text/html": [
       "Find logs at: <code>./wandb/run-20241206_090604-0quwfjgc/logs</code>"
      ]
     },
     "metadata": {},
     "output_type": "display_data"
    },
    {
     "data": {
      "text/plain": [
       "<IPython.core.display.HTML object>"
      ],
      "text/html": [
       "Successfully finished last run (ID:0quwfjgc). Initializing new run:<br/>"
      ]
     },
     "metadata": {},
     "output_type": "display_data"
    },
    {
     "data": {
      "text/plain": [
       "VBox(children=(Label(value='Waiting for wandb.init()...\\r'), FloatProgress(value=0.016669116233242676, max=1.0…"
      ],
      "application/vnd.jupyter.widget-view+json": {
       "version_major": 2,
       "version_minor": 0,
       "model_id": "095ad1cb656343e59ddad537fd4edbf0"
      }
     },
     "metadata": {},
     "output_type": "display_data"
    },
    {
     "data": {
      "text/plain": [
       "<IPython.core.display.HTML object>"
      ],
      "text/html": [
       "wandb version 0.19.0 is available!  To upgrade, please run:\n",
       " $ pip install wandb --upgrade"
      ]
     },
     "metadata": {},
     "output_type": "display_data"
    },
    {
     "data": {
      "text/plain": [
       "<IPython.core.display.HTML object>"
      ],
      "text/html": [
       "Tracking run with wandb version 0.13.5"
      ]
     },
     "metadata": {},
     "output_type": "display_data"
    },
    {
     "data": {
      "text/plain": [
       "<IPython.core.display.HTML object>"
      ],
      "text/html": [
       "Run data is saved locally in <code>/home/oliver/PycharmProjects/NeuralStyle/examples/wandb/run-20241206_090657-tqjdzuq3</code>"
      ]
     },
     "metadata": {},
     "output_type": "display_data"
    },
    {
     "data": {
      "text/plain": [
       "<IPython.core.display.HTML object>"
      ],
      "text/html": [
       "Syncing run <strong><a href=\"https://wandb.ai/oliverweissl/NeuralStyleSearch/runs/tqjdzuq3\" target=\"_blank\">summer-spaceship-1231</a></strong> to <a href=\"https://wandb.ai/oliverweissl/NeuralStyleSearch\" target=\"_blank\">Weights & Biases</a> (<a href=\"https://wandb.me/run\" target=\"_blank\">docs</a>)<br/>"
      ]
     },
     "metadata": {},
     "output_type": "display_data"
    },
    {
     "data": {
      "text/plain": [
       "<IPython.core.display.HTML object>"
      ],
      "text/html": [
       "Finishing last run (ID:tqjdzuq3) before initializing another..."
      ]
     },
     "metadata": {},
     "output_type": "display_data"
    },
    {
     "data": {
      "text/plain": [
       "<IPython.core.display.HTML object>"
      ],
      "text/html": [
       "Waiting for W&B process to finish... <strong style=\"color:green\">(success).</strong>"
      ]
     },
     "metadata": {},
     "output_type": "display_data"
    },
    {
     "data": {
      "text/plain": [
       "<IPython.core.display.HTML object>"
      ],
      "text/html": [
       "<style>\n",
       "    table.wandb td:nth-child(1) { padding: 0 10px; text-align: left ; width: auto;} td:nth-child(2) {text-align: left ; width: 100%}\n",
       "    .wandb-row { display: flex; flex-direction: row; flex-wrap: wrap; justify-content: flex-start; width: 100% }\n",
       "    .wandb-col { display: flex; flex-direction: column; flex-basis: 100%; flex: 1; padding: 10px; }\n",
       "    </style>\n",
       "<div class=\"wandb-row\"><div class=\"wandb-col\"><h3>Run history:</h3><br/><table class=\"wandb\"><tr><td>max_NaiveCB</td><td>▅▂▃▇▁▅▇▂▅▆▇█▅▅▅▂▅▅▂▇▅▆▅▇▂▂▄▄▅▅▄▅▃▇▆▃▂▃▅▅</td></tr><tr><td>mean_NaiveCB</td><td>▆▃▃▅▄▃▆▄▄▃▆▆▃▄▆▃▁▅▆▅▄▆▃█▅▃▆▄▄▃▃▄▆▃▃▄▃▆▃▆</td></tr><tr><td>min_NaiveCB</td><td>▇▇▇▇▅▆▇▆▇▆▆█▆▅▄▃▅██▇▇█▆█▇▆▇▂▃▂▆▇▆▆▆▇▅▆▅▁</td></tr><tr><td>std_NaiveCB</td><td>▄▆▇▆▆▇▅▅▆█▄▄▃▆▅▇█▃▃▅▆▁▆▃▅▅▃▅▆█▆▁▂▇▆▆▇▄▆▄</td></tr></table><br/></div><div class=\"wandb-col\"><h3>Run summary:</h3><br/><table class=\"wandb\"><tr><td>expected_boundary</td><td>4</td></tr><tr><td>max_NaiveCB</td><td>1.0</td></tr><tr><td>mean_NaiveCB</td><td>0.99999</td></tr><tr><td>min_NaiveCB</td><td>0.99999</td></tr><tr><td>std_NaiveCB</td><td>0.0</td></tr><tr><td>w0_trials</td><td>1</td></tr><tr><td>wn_trials</td><td>1</td></tr></table><br/></div></div>"
      ]
     },
     "metadata": {},
     "output_type": "display_data"
    },
    {
     "data": {
      "text/plain": [
       "<IPython.core.display.HTML object>"
      ],
      "text/html": [
       "Synced <strong style=\"color:#cdcd00\">summer-spaceship-1231</strong>: <a href=\"https://wandb.ai/oliverweissl/NeuralStyleSearch/runs/tqjdzuq3\" target=\"_blank\">https://wandb.ai/oliverweissl/NeuralStyleSearch/runs/tqjdzuq3</a><br/>Synced 5 W&B file(s), 2 media file(s), 2 artifact file(s) and 0 other file(s)"
      ]
     },
     "metadata": {},
     "output_type": "display_data"
    },
    {
     "data": {
      "text/plain": [
       "<IPython.core.display.HTML object>"
      ],
      "text/html": [
       "Find logs at: <code>./wandb/run-20241206_090657-tqjdzuq3/logs</code>"
      ]
     },
     "metadata": {},
     "output_type": "display_data"
    },
    {
     "data": {
      "text/plain": [
       "<IPython.core.display.HTML object>"
      ],
      "text/html": [
       "Successfully finished last run (ID:tqjdzuq3). Initializing new run:<br/>"
      ]
     },
     "metadata": {},
     "output_type": "display_data"
    },
    {
     "data": {
      "text/plain": [
       "VBox(children=(Label(value='Waiting for wandb.init()...\\r'), FloatProgress(value=0.016668046933288376, max=1.0…"
      ],
      "application/vnd.jupyter.widget-view+json": {
       "version_major": 2,
       "version_minor": 0,
       "model_id": "679dc20bf87840eab9251f33c5431b32"
      }
     },
     "metadata": {},
     "output_type": "display_data"
    },
    {
     "data": {
      "text/plain": [
       "<IPython.core.display.HTML object>"
      ],
      "text/html": [
       "wandb version 0.19.0 is available!  To upgrade, please run:\n",
       " $ pip install wandb --upgrade"
      ]
     },
     "metadata": {},
     "output_type": "display_data"
    },
    {
     "data": {
      "text/plain": [
       "<IPython.core.display.HTML object>"
      ],
      "text/html": [
       "Tracking run with wandb version 0.13.5"
      ]
     },
     "metadata": {},
     "output_type": "display_data"
    },
    {
     "data": {
      "text/plain": [
       "<IPython.core.display.HTML object>"
      ],
      "text/html": [
       "Run data is saved locally in <code>/home/oliver/PycharmProjects/NeuralStyle/examples/wandb/run-20241206_090749-vp2jigmp</code>"
      ]
     },
     "metadata": {},
     "output_type": "display_data"
    },
    {
     "data": {
      "text/plain": [
       "<IPython.core.display.HTML object>"
      ],
      "text/html": [
       "Syncing run <strong><a href=\"https://wandb.ai/oliverweissl/NeuralStyleSearch/runs/vp2jigmp\" target=\"_blank\">azure-puddle-1232</a></strong> to <a href=\"https://wandb.ai/oliverweissl/NeuralStyleSearch\" target=\"_blank\">Weights & Biases</a> (<a href=\"https://wandb.me/run\" target=\"_blank\">docs</a>)<br/>"
      ]
     },
     "metadata": {},
     "output_type": "display_data"
    },
    {
     "data": {
      "text/plain": [
       "<IPython.core.display.HTML object>"
      ],
      "text/html": [
       "Finishing last run (ID:vp2jigmp) before initializing another..."
      ]
     },
     "metadata": {},
     "output_type": "display_data"
    },
    {
     "data": {
      "text/plain": [
       "<IPython.core.display.HTML object>"
      ],
      "text/html": [
       "Waiting for W&B process to finish... <strong style=\"color:green\">(success).</strong>"
      ]
     },
     "metadata": {},
     "output_type": "display_data"
    },
    {
     "data": {
      "text/plain": [
       "<IPython.core.display.HTML object>"
      ],
      "text/html": [
       "<style>\n",
       "    table.wandb td:nth-child(1) { padding: 0 10px; text-align: left ; width: auto;} td:nth-child(2) {text-align: left ; width: 100%}\n",
       "    .wandb-row { display: flex; flex-direction: row; flex-wrap: wrap; justify-content: flex-start; width: 100% }\n",
       "    .wandb-col { display: flex; flex-direction: column; flex-basis: 100%; flex: 1; padding: 10px; }\n",
       "    </style>\n",
       "<div class=\"wandb-row\"><div class=\"wandb-col\"><h3>Run history:</h3><br/><table class=\"wandb\"><tr><td>max_NaiveCB</td><td>█▄▆▅▆▇▄▄▄▇▆▅▅▃▅▅█▅▆▄▅▆▆▅▆▁▅▆▇▅█▅▅▅▆▄▆▅▆▆</td></tr><tr><td>mean_NaiveCB</td><td>▄▅▆▃▇▂▁▃▂▃▆▂▅▁▃▃▆▅▄▅▅▅▂▆▆▂▅▇▄▇█▄▄▄▄▁▅▃▄▅</td></tr><tr><td>min_NaiveCB</td><td>██▅▆▆▆▆▆▆▆▇▆▇▄▇█▁▇▆▆▇▇▆▆▆▆▆▆▇▁▇▇▆▆▄▄▆▆▄▆</td></tr><tr><td>std_NaiveCB</td><td>▃▃▇▄▃▅▃▆▃▅▅▆▂█▃▆█▅▅▄▅▆▁▄▆▂▆▅▅▇▆▅▆▆▃▄▄▆▄▄</td></tr></table><br/></div><div class=\"wandb-col\"><h3>Run summary:</h3><br/><table class=\"wandb\"><tr><td>expected_boundary</td><td>3</td></tr><tr><td>max_NaiveCB</td><td>0.99328</td></tr><tr><td>mean_NaiveCB</td><td>0.98963</td></tr><tr><td>min_NaiveCB</td><td>0.98568</td></tr><tr><td>std_NaiveCB</td><td>0.00164</td></tr><tr><td>w0_trials</td><td>1</td></tr><tr><td>wn_trials</td><td>1</td></tr></table><br/></div></div>"
      ]
     },
     "metadata": {},
     "output_type": "display_data"
    },
    {
     "data": {
      "text/plain": [
       "<IPython.core.display.HTML object>"
      ],
      "text/html": [
       "Synced <strong style=\"color:#cdcd00\">azure-puddle-1232</strong>: <a href=\"https://wandb.ai/oliverweissl/NeuralStyleSearch/runs/vp2jigmp\" target=\"_blank\">https://wandb.ai/oliverweissl/NeuralStyleSearch/runs/vp2jigmp</a><br/>Synced 5 W&B file(s), 2 media file(s), 2 artifact file(s) and 0 other file(s)"
      ]
     },
     "metadata": {},
     "output_type": "display_data"
    },
    {
     "data": {
      "text/plain": [
       "<IPython.core.display.HTML object>"
      ],
      "text/html": [
       "Find logs at: <code>./wandb/run-20241206_090749-vp2jigmp/logs</code>"
      ]
     },
     "metadata": {},
     "output_type": "display_data"
    },
    {
     "data": {
      "text/plain": [
       "<IPython.core.display.HTML object>"
      ],
      "text/html": [
       "Successfully finished last run (ID:vp2jigmp). Initializing new run:<br/>"
      ]
     },
     "metadata": {},
     "output_type": "display_data"
    },
    {
     "data": {
      "text/plain": [
       "VBox(children=(Label(value='Waiting for wandb.init()...\\r'), FloatProgress(value=0.01666890889997982, max=1.0)…"
      ],
      "application/vnd.jupyter.widget-view+json": {
       "version_major": 2,
       "version_minor": 0,
       "model_id": "15ac4e8e5c45476d97e05ab4233dd3a0"
      }
     },
     "metadata": {},
     "output_type": "display_data"
    },
    {
     "data": {
      "text/plain": [
       "<IPython.core.display.HTML object>"
      ],
      "text/html": [
       "wandb version 0.19.0 is available!  To upgrade, please run:\n",
       " $ pip install wandb --upgrade"
      ]
     },
     "metadata": {},
     "output_type": "display_data"
    },
    {
     "data": {
      "text/plain": [
       "<IPython.core.display.HTML object>"
      ],
      "text/html": [
       "Tracking run with wandb version 0.13.5"
      ]
     },
     "metadata": {},
     "output_type": "display_data"
    },
    {
     "data": {
      "text/plain": [
       "<IPython.core.display.HTML object>"
      ],
      "text/html": [
       "Run data is saved locally in <code>/home/oliver/PycharmProjects/NeuralStyle/examples/wandb/run-20241206_090842-xflp924q</code>"
      ]
     },
     "metadata": {},
     "output_type": "display_data"
    },
    {
     "data": {
      "text/plain": [
       "<IPython.core.display.HTML object>"
      ],
      "text/html": [
       "Syncing run <strong><a href=\"https://wandb.ai/oliverweissl/NeuralStyleSearch/runs/xflp924q\" target=\"_blank\">atomic-durian-1233</a></strong> to <a href=\"https://wandb.ai/oliverweissl/NeuralStyleSearch\" target=\"_blank\">Weights & Biases</a> (<a href=\"https://wandb.me/run\" target=\"_blank\">docs</a>)<br/>"
      ]
     },
     "metadata": {},
     "output_type": "display_data"
    },
    {
     "data": {
      "text/plain": [
       "<IPython.core.display.HTML object>"
      ],
      "text/html": [
       "Finishing last run (ID:xflp924q) before initializing another..."
      ]
     },
     "metadata": {},
     "output_type": "display_data"
    },
    {
     "data": {
      "text/plain": [
       "<IPython.core.display.HTML object>"
      ],
      "text/html": [
       "Waiting for W&B process to finish... <strong style=\"color:green\">(success).</strong>"
      ]
     },
     "metadata": {},
     "output_type": "display_data"
    },
    {
     "data": {
      "text/plain": [
       "<IPython.core.display.HTML object>"
      ],
      "text/html": [
       "<style>\n",
       "    table.wandb td:nth-child(1) { padding: 0 10px; text-align: left ; width: auto;} td:nth-child(2) {text-align: left ; width: 100%}\n",
       "    .wandb-row { display: flex; flex-direction: row; flex-wrap: wrap; justify-content: flex-start; width: 100% }\n",
       "    .wandb-col { display: flex; flex-direction: column; flex-basis: 100%; flex: 1; padding: 10px; }\n",
       "    </style>\n",
       "<div class=\"wandb-row\"><div class=\"wandb-col\"><h3>Run history:</h3><br/><table class=\"wandb\"><tr><td>max_NaiveCB</td><td>▅▅▅▅▃▅▄▆▇▆▆▇▇▅▅▅▅▇▇▇▅▆▆▅█▆▆▇▅▆▆▆▆▆▆▆▇▅▁▆</td></tr><tr><td>mean_NaiveCB</td><td>▄▆▄█▄▇█▅▃▆▆▆▄▃▇▅▇▅▃▁▂▇▄▄▃▇▇▄▁▅▇▄▇▆▇▃▂▅▅▂</td></tr><tr><td>min_NaiveCB</td><td>▃▇▇▇▇▇▇▆▄█▇▆▃▄█▁▄▇▅▄▄█▅▇▃█▄▆▃▇▇▆▆▆▇▅▁▇▇▄</td></tr><tr><td>std_NaiveCB</td><td>▅▂▂▁▂▂▁▃▄▁▂▃▆▄▁▅▃▁▄▅▅▂▄▃▅▂▅▄▆▃▂▃▂▃▂▄█▂▁▅</td></tr></table><br/></div><div class=\"wandb-col\"><h3>Run summary:</h3><br/><table class=\"wandb\"><tr><td>expected_boundary</td><td>5</td></tr><tr><td>max_NaiveCB</td><td>0.98745</td></tr><tr><td>mean_NaiveCB</td><td>0.97795</td></tr><tr><td>min_NaiveCB</td><td>0.93397</td></tr><tr><td>std_NaiveCB</td><td>0.00651</td></tr><tr><td>w0_trials</td><td>1</td></tr><tr><td>wn_trials</td><td>1</td></tr></table><br/></div></div>"
      ]
     },
     "metadata": {},
     "output_type": "display_data"
    },
    {
     "data": {
      "text/plain": [
       "<IPython.core.display.HTML object>"
      ],
      "text/html": [
       "Synced <strong style=\"color:#cdcd00\">atomic-durian-1233</strong>: <a href=\"https://wandb.ai/oliverweissl/NeuralStyleSearch/runs/xflp924q\" target=\"_blank\">https://wandb.ai/oliverweissl/NeuralStyleSearch/runs/xflp924q</a><br/>Synced 5 W&B file(s), 2 media file(s), 2 artifact file(s) and 0 other file(s)"
      ]
     },
     "metadata": {},
     "output_type": "display_data"
    },
    {
     "data": {
      "text/plain": [
       "<IPython.core.display.HTML object>"
      ],
      "text/html": [
       "Find logs at: <code>./wandb/run-20241206_090842-xflp924q/logs</code>"
      ]
     },
     "metadata": {},
     "output_type": "display_data"
    },
    {
     "data": {
      "text/plain": [
       "<IPython.core.display.HTML object>"
      ],
      "text/html": [
       "Successfully finished last run (ID:xflp924q). Initializing new run:<br/>"
      ]
     },
     "metadata": {},
     "output_type": "display_data"
    },
    {
     "data": {
      "text/plain": [
       "VBox(children=(Label(value='Waiting for wandb.init()...\\r'), FloatProgress(value=0.016670513633289374, max=1.0…"
      ],
      "application/vnd.jupyter.widget-view+json": {
       "version_major": 2,
       "version_minor": 0,
       "model_id": "d097f0146c9c4e2395eb050cc4c82b61"
      }
     },
     "metadata": {},
     "output_type": "display_data"
    },
    {
     "data": {
      "text/plain": [
       "<IPython.core.display.HTML object>"
      ],
      "text/html": [
       "wandb version 0.19.0 is available!  To upgrade, please run:\n",
       " $ pip install wandb --upgrade"
      ]
     },
     "metadata": {},
     "output_type": "display_data"
    },
    {
     "data": {
      "text/plain": [
       "<IPython.core.display.HTML object>"
      ],
      "text/html": [
       "Tracking run with wandb version 0.13.5"
      ]
     },
     "metadata": {},
     "output_type": "display_data"
    },
    {
     "data": {
      "text/plain": [
       "<IPython.core.display.HTML object>"
      ],
      "text/html": [
       "Run data is saved locally in <code>/home/oliver/PycharmProjects/NeuralStyle/examples/wandb/run-20241206_090937-ll5h250v</code>"
      ]
     },
     "metadata": {},
     "output_type": "display_data"
    },
    {
     "data": {
      "text/plain": [
       "<IPython.core.display.HTML object>"
      ],
      "text/html": [
       "Syncing run <strong><a href=\"https://wandb.ai/oliverweissl/NeuralStyleSearch/runs/ll5h250v\" target=\"_blank\">polished-fog-1234</a></strong> to <a href=\"https://wandb.ai/oliverweissl/NeuralStyleSearch\" target=\"_blank\">Weights & Biases</a> (<a href=\"https://wandb.me/run\" target=\"_blank\">docs</a>)<br/>"
      ]
     },
     "metadata": {},
     "output_type": "display_data"
    },
    {
     "data": {
      "text/plain": [
       "<IPython.core.display.HTML object>"
      ],
      "text/html": [
       "Finishing last run (ID:ll5h250v) before initializing another..."
      ]
     },
     "metadata": {},
     "output_type": "display_data"
    },
    {
     "data": {
      "text/plain": [
       "<IPython.core.display.HTML object>"
      ],
      "text/html": [
       "Waiting for W&B process to finish... <strong style=\"color:green\">(success).</strong>"
      ]
     },
     "metadata": {},
     "output_type": "display_data"
    },
    {
     "data": {
      "text/plain": [
       "VBox(children=(Label(value='0.009 MB of 0.010 MB uploaded (0.000 MB deduped)\\r'), FloatProgress(value=0.935594…"
      ],
      "application/vnd.jupyter.widget-view+json": {
       "version_major": 2,
       "version_minor": 0,
       "model_id": "cb964489f2cc4988bb1e216949da6de6"
      }
     },
     "metadata": {},
     "output_type": "display_data"
    },
    {
     "data": {
      "text/plain": [
       "<IPython.core.display.HTML object>"
      ],
      "text/html": [
       "<style>\n",
       "    table.wandb td:nth-child(1) { padding: 0 10px; text-align: left ; width: auto;} td:nth-child(2) {text-align: left ; width: 100%}\n",
       "    .wandb-row { display: flex; flex-direction: row; flex-wrap: wrap; justify-content: flex-start; width: 100% }\n",
       "    .wandb-col { display: flex; flex-direction: column; flex-basis: 100%; flex: 1; padding: 10px; }\n",
       "    </style>\n",
       "<div class=\"wandb-row\"><div class=\"wandb-col\"><h3>Run history:</h3><br/><table class=\"wandb\"><tr><td>max_NaiveCB</td><td>▄▄▆▂▄▁▅▂▅▃▄▁▃▃▇▁▄▅▃▅▇▇▂▄▂▆▂▃▆█▅▂▂▅▂▁▃▂▅▅</td></tr><tr><td>mean_NaiveCB</td><td>▅▁█▅▅▄▅▆▅▄▆▅▆▅▇▅▅▅▆▇▅▁▅▄▆▇▄▄▅▅▆▃▅▅▆▁▆▅▅▅</td></tr><tr><td>min_NaiveCB</td><td>▆▄█▆▂▆▆▇▅▅▇▄▇▇▇▇▆▆▇▆▅▁▇▆▆█▆▁▃▆▅▄▆▇▇▁█▇▇▆</td></tr><tr><td>std_NaiveCB</td><td>▃▆▂▃▆▃▃▃▃▄▂▄▂▂▃▂▃▃▂▂▄█▂▃▂▁▃▇▅▃▃▄▃▂▂▇▁▂▂▂</td></tr></table><br/></div><div class=\"wandb-col\"><h3>Run summary:</h3><br/><table class=\"wandb\"><tr><td>expected_boundary</td><td>5</td></tr><tr><td>max_NaiveCB</td><td>0.99479</td></tr><tr><td>mean_NaiveCB</td><td>0.99321</td></tr><tr><td>min_NaiveCB</td><td>0.97957</td></tr><tr><td>std_NaiveCB</td><td>0.00196</td></tr><tr><td>w0_trials</td><td>1</td></tr><tr><td>wn_trials</td><td>1</td></tr></table><br/></div></div>"
      ]
     },
     "metadata": {},
     "output_type": "display_data"
    },
    {
     "data": {
      "text/plain": [
       "<IPython.core.display.HTML object>"
      ],
      "text/html": [
       "Synced <strong style=\"color:#cdcd00\">polished-fog-1234</strong>: <a href=\"https://wandb.ai/oliverweissl/NeuralStyleSearch/runs/ll5h250v\" target=\"_blank\">https://wandb.ai/oliverweissl/NeuralStyleSearch/runs/ll5h250v</a><br/>Synced 5 W&B file(s), 2 media file(s), 2 artifact file(s) and 0 other file(s)"
      ]
     },
     "metadata": {},
     "output_type": "display_data"
    },
    {
     "data": {
      "text/plain": [
       "<IPython.core.display.HTML object>"
      ],
      "text/html": [
       "Find logs at: <code>./wandb/run-20241206_090937-ll5h250v/logs</code>"
      ]
     },
     "metadata": {},
     "output_type": "display_data"
    },
    {
     "data": {
      "text/plain": [
       "<IPython.core.display.HTML object>"
      ],
      "text/html": [
       "Successfully finished last run (ID:ll5h250v). Initializing new run:<br/>"
      ]
     },
     "metadata": {},
     "output_type": "display_data"
    },
    {
     "data": {
      "text/plain": [
       "VBox(children=(Label(value='Waiting for wandb.init()...\\r'), FloatProgress(value=0.016669216399895957, max=1.0…"
      ],
      "application/vnd.jupyter.widget-view+json": {
       "version_major": 2,
       "version_minor": 0,
       "model_id": "85acf80968d74abda9c17d317a363531"
      }
     },
     "metadata": {},
     "output_type": "display_data"
    },
    {
     "data": {
      "text/plain": [
       "<IPython.core.display.HTML object>"
      ],
      "text/html": [
       "wandb version 0.19.0 is available!  To upgrade, please run:\n",
       " $ pip install wandb --upgrade"
      ]
     },
     "metadata": {},
     "output_type": "display_data"
    },
    {
     "data": {
      "text/plain": [
       "<IPython.core.display.HTML object>"
      ],
      "text/html": [
       "Tracking run with wandb version 0.13.5"
      ]
     },
     "metadata": {},
     "output_type": "display_data"
    },
    {
     "data": {
      "text/plain": [
       "<IPython.core.display.HTML object>"
      ],
      "text/html": [
       "Run data is saved locally in <code>/home/oliver/PycharmProjects/NeuralStyle/examples/wandb/run-20241206_091029-b72bgzqx</code>"
      ]
     },
     "metadata": {},
     "output_type": "display_data"
    },
    {
     "data": {
      "text/plain": [
       "<IPython.core.display.HTML object>"
      ],
      "text/html": [
       "Syncing run <strong><a href=\"https://wandb.ai/oliverweissl/NeuralStyleSearch/runs/b72bgzqx\" target=\"_blank\">splendid-bee-1235</a></strong> to <a href=\"https://wandb.ai/oliverweissl/NeuralStyleSearch\" target=\"_blank\">Weights & Biases</a> (<a href=\"https://wandb.me/run\" target=\"_blank\">docs</a>)<br/>"
      ]
     },
     "metadata": {},
     "output_type": "display_data"
    },
    {
     "data": {
      "text/plain": [
       "<IPython.core.display.HTML object>"
      ],
      "text/html": [
       "Finishing last run (ID:b72bgzqx) before initializing another..."
      ]
     },
     "metadata": {},
     "output_type": "display_data"
    },
    {
     "data": {
      "text/plain": [
       "<IPython.core.display.HTML object>"
      ],
      "text/html": [
       "Waiting for W&B process to finish... <strong style=\"color:green\">(success).</strong>"
      ]
     },
     "metadata": {},
     "output_type": "display_data"
    },
    {
     "data": {
      "text/plain": [
       "VBox(children=(Label(value='0.009 MB of 0.010 MB uploaded (0.000 MB deduped)\\r'), FloatProgress(value=0.934329…"
      ],
      "application/vnd.jupyter.widget-view+json": {
       "version_major": 2,
       "version_minor": 0,
       "model_id": "3d666b0e8543444fbb7744c10f8880e4"
      }
     },
     "metadata": {},
     "output_type": "display_data"
    },
    {
     "data": {
      "text/plain": [
       "<IPython.core.display.HTML object>"
      ],
      "text/html": [
       "<style>\n",
       "    table.wandb td:nth-child(1) { padding: 0 10px; text-align: left ; width: auto;} td:nth-child(2) {text-align: left ; width: 100%}\n",
       "    .wandb-row { display: flex; flex-direction: row; flex-wrap: wrap; justify-content: flex-start; width: 100% }\n",
       "    .wandb-col { display: flex; flex-direction: column; flex-basis: 100%; flex: 1; padding: 10px; }\n",
       "    </style>\n",
       "<div class=\"wandb-row\"><div class=\"wandb-col\"><h3>Run history:</h3><br/><table class=\"wandb\"><tr><td>max_NaiveCB</td><td>▄▅▄▄▃▄▂▆█▃▃▄▆▃▂▅▆▃▆▃▁▂▃▇▆▃▄▄▆▃▅▇▇▆▄▅▅▅█▄</td></tr><tr><td>mean_NaiveCB</td><td>▆▅▆▃▆▇▄▇▅▅▆▅█▇▁▅▇▅█▅▅▆█▅▇▇▇▄▇▅▇▇▅█▃▆▅▄▇▆</td></tr><tr><td>min_NaiveCB</td><td>███▄█▇▇██▅▇▇██▅▇█▇█▇███▇▇█▇▅███▇██▁██▅██</td></tr><tr><td>std_NaiveCB</td><td>▁▂▂▅▁▂▂▁▁▄▂▂▁▁▆▂▁▁▁▂▁▁▁▂▂▁▂▄▁▂▁▂▁▁█▁▁▄▁▁</td></tr></table><br/></div><div class=\"wandb-col\"><h3>Run summary:</h3><br/><table class=\"wandb\"><tr><td>expected_boundary</td><td>9</td></tr><tr><td>max_NaiveCB</td><td>0.99235</td></tr><tr><td>mean_NaiveCB</td><td>0.98562</td></tr><tr><td>min_NaiveCB</td><td>0.94121</td></tr><tr><td>std_NaiveCB</td><td>0.00563</td></tr><tr><td>w0_trials</td><td>1</td></tr><tr><td>wn_trials</td><td>1</td></tr></table><br/></div></div>"
      ]
     },
     "metadata": {},
     "output_type": "display_data"
    },
    {
     "data": {
      "text/plain": [
       "<IPython.core.display.HTML object>"
      ],
      "text/html": [
       "Synced <strong style=\"color:#cdcd00\">splendid-bee-1235</strong>: <a href=\"https://wandb.ai/oliverweissl/NeuralStyleSearch/runs/b72bgzqx\" target=\"_blank\">https://wandb.ai/oliverweissl/NeuralStyleSearch/runs/b72bgzqx</a><br/>Synced 5 W&B file(s), 2 media file(s), 2 artifact file(s) and 0 other file(s)"
      ]
     },
     "metadata": {},
     "output_type": "display_data"
    },
    {
     "data": {
      "text/plain": [
       "<IPython.core.display.HTML object>"
      ],
      "text/html": [
       "Find logs at: <code>./wandb/run-20241206_091029-b72bgzqx/logs</code>"
      ]
     },
     "metadata": {},
     "output_type": "display_data"
    },
    {
     "data": {
      "text/plain": [
       "<IPython.core.display.HTML object>"
      ],
      "text/html": [
       "Successfully finished last run (ID:b72bgzqx). Initializing new run:<br/>"
      ]
     },
     "metadata": {},
     "output_type": "display_data"
    },
    {
     "data": {
      "text/plain": [
       "VBox(children=(Label(value='Waiting for wandb.init()...\\r'), FloatProgress(value=0.016668900066482212, max=1.0…"
      ],
      "application/vnd.jupyter.widget-view+json": {
       "version_major": 2,
       "version_minor": 0,
       "model_id": "1e6aec04cee04196b7043d081dc5c41a"
      }
     },
     "metadata": {},
     "output_type": "display_data"
    },
    {
     "data": {
      "text/plain": [
       "<IPython.core.display.HTML object>"
      ],
      "text/html": [
       "wandb version 0.19.0 is available!  To upgrade, please run:\n",
       " $ pip install wandb --upgrade"
      ]
     },
     "metadata": {},
     "output_type": "display_data"
    },
    {
     "data": {
      "text/plain": [
       "<IPython.core.display.HTML object>"
      ],
      "text/html": [
       "Tracking run with wandb version 0.13.5"
      ]
     },
     "metadata": {},
     "output_type": "display_data"
    },
    {
     "data": {
      "text/plain": [
       "<IPython.core.display.HTML object>"
      ],
      "text/html": [
       "Run data is saved locally in <code>/home/oliver/PycharmProjects/NeuralStyle/examples/wandb/run-20241206_091122-ljpnpg3c</code>"
      ]
     },
     "metadata": {},
     "output_type": "display_data"
    },
    {
     "data": {
      "text/plain": [
       "<IPython.core.display.HTML object>"
      ],
      "text/html": [
       "Syncing run <strong><a href=\"https://wandb.ai/oliverweissl/NeuralStyleSearch/runs/ljpnpg3c\" target=\"_blank\">feasible-gorge-1236</a></strong> to <a href=\"https://wandb.ai/oliverweissl/NeuralStyleSearch\" target=\"_blank\">Weights & Biases</a> (<a href=\"https://wandb.me/run\" target=\"_blank\">docs</a>)<br/>"
      ]
     },
     "metadata": {},
     "output_type": "display_data"
    },
    {
     "data": {
      "text/plain": [
       "<IPython.core.display.HTML object>"
      ],
      "text/html": [
       "Finishing last run (ID:ljpnpg3c) before initializing another..."
      ]
     },
     "metadata": {},
     "output_type": "display_data"
    },
    {
     "data": {
      "text/plain": [
       "<IPython.core.display.HTML object>"
      ],
      "text/html": [
       "Waiting for W&B process to finish... <strong style=\"color:green\">(success).</strong>"
      ]
     },
     "metadata": {},
     "output_type": "display_data"
    },
    {
     "data": {
      "text/plain": [
       "<IPython.core.display.HTML object>"
      ],
      "text/html": [
       "<style>\n",
       "    table.wandb td:nth-child(1) { padding: 0 10px; text-align: left ; width: auto;} td:nth-child(2) {text-align: left ; width: 100%}\n",
       "    .wandb-row { display: flex; flex-direction: row; flex-wrap: wrap; justify-content: flex-start; width: 100% }\n",
       "    .wandb-col { display: flex; flex-direction: column; flex-basis: 100%; flex: 1; padding: 10px; }\n",
       "    </style>\n",
       "<div class=\"wandb-row\"><div class=\"wandb-col\"><h3>Run history:</h3><br/><table class=\"wandb\"><tr><td>max_NaiveCB</td><td>▆▅▃█▄▇▇▃▃▄▂▃▇▅▃█▂▃▃▁█▃▃█▃▁▃▇▂▄▂▅▃▃▃▂▁▇▃▇</td></tr><tr><td>mean_NaiveCB</td><td>▄█▃▆▄▃▃▂▃▄▆▃▄▄▄▃▅▄▃▄▄▆▆▆▅▄▁▇▅▃▂▇▄▃▆▂▂▂▃▆</td></tr><tr><td>min_NaiveCB</td><td>▇█▇▇▇▄▄▅▇▇█▆▆▇▇▇▁▇▆█▇▇▇▇██▇▆▇▇▇▇▃▇▇▇▇█▇▇</td></tr><tr><td>std_NaiveCB</td><td>▃▂▂▃▃▆▅▄▃▃▁▄▄▂▂▄█▃▃▁▃▃▂▄▁▁▃▄▃▂▃▂▅▂▃▂▂▃▂▄</td></tr></table><br/></div><div class=\"wandb-col\"><h3>Run summary:</h3><br/><table class=\"wandb\"><tr><td>expected_boundary</td><td>5</td></tr><tr><td>max_NaiveCB</td><td>0.99983</td></tr><tr><td>mean_NaiveCB</td><td>0.99981</td></tr><tr><td>min_NaiveCB</td><td>0.99979</td></tr><tr><td>std_NaiveCB</td><td>0.0</td></tr><tr><td>w0_trials</td><td>1</td></tr><tr><td>wn_trials</td><td>1</td></tr></table><br/></div></div>"
      ]
     },
     "metadata": {},
     "output_type": "display_data"
    },
    {
     "data": {
      "text/plain": [
       "<IPython.core.display.HTML object>"
      ],
      "text/html": [
       "Synced <strong style=\"color:#cdcd00\">feasible-gorge-1236</strong>: <a href=\"https://wandb.ai/oliverweissl/NeuralStyleSearch/runs/ljpnpg3c\" target=\"_blank\">https://wandb.ai/oliverweissl/NeuralStyleSearch/runs/ljpnpg3c</a><br/>Synced 5 W&B file(s), 2 media file(s), 2 artifact file(s) and 0 other file(s)"
      ]
     },
     "metadata": {},
     "output_type": "display_data"
    },
    {
     "data": {
      "text/plain": [
       "<IPython.core.display.HTML object>"
      ],
      "text/html": [
       "Find logs at: <code>./wandb/run-20241206_091122-ljpnpg3c/logs</code>"
      ]
     },
     "metadata": {},
     "output_type": "display_data"
    },
    {
     "data": {
      "text/plain": [
       "<IPython.core.display.HTML object>"
      ],
      "text/html": [
       "Successfully finished last run (ID:ljpnpg3c). Initializing new run:<br/>"
      ]
     },
     "metadata": {},
     "output_type": "display_data"
    },
    {
     "data": {
      "text/plain": [
       "VBox(children=(Label(value='Waiting for wandb.init()...\\r'), FloatProgress(value=0.01666815311667354, max=1.0)…"
      ],
      "application/vnd.jupyter.widget-view+json": {
       "version_major": 2,
       "version_minor": 0,
       "model_id": "dcaea80cec4d4745b27fce2284cf0317"
      }
     },
     "metadata": {},
     "output_type": "display_data"
    },
    {
     "data": {
      "text/plain": [
       "<IPython.core.display.HTML object>"
      ],
      "text/html": [
       "wandb version 0.19.0 is available!  To upgrade, please run:\n",
       " $ pip install wandb --upgrade"
      ]
     },
     "metadata": {},
     "output_type": "display_data"
    },
    {
     "data": {
      "text/plain": [
       "<IPython.core.display.HTML object>"
      ],
      "text/html": [
       "Tracking run with wandb version 0.13.5"
      ]
     },
     "metadata": {},
     "output_type": "display_data"
    },
    {
     "data": {
      "text/plain": [
       "<IPython.core.display.HTML object>"
      ],
      "text/html": [
       "Run data is saved locally in <code>/home/oliver/PycharmProjects/NeuralStyle/examples/wandb/run-20241206_091215-cdaztk3u</code>"
      ]
     },
     "metadata": {},
     "output_type": "display_data"
    },
    {
     "data": {
      "text/plain": [
       "<IPython.core.display.HTML object>"
      ],
      "text/html": [
       "Syncing run <strong><a href=\"https://wandb.ai/oliverweissl/NeuralStyleSearch/runs/cdaztk3u\" target=\"_blank\">deep-firebrand-1237</a></strong> to <a href=\"https://wandb.ai/oliverweissl/NeuralStyleSearch\" target=\"_blank\">Weights & Biases</a> (<a href=\"https://wandb.me/run\" target=\"_blank\">docs</a>)<br/>"
      ]
     },
     "metadata": {},
     "output_type": "display_data"
    },
    {
     "data": {
      "text/plain": [
       "<IPython.core.display.HTML object>"
      ],
      "text/html": [
       "Finishing last run (ID:cdaztk3u) before initializing another..."
      ]
     },
     "metadata": {},
     "output_type": "display_data"
    },
    {
     "data": {
      "text/plain": [
       "<IPython.core.display.HTML object>"
      ],
      "text/html": [
       "Waiting for W&B process to finish... <strong style=\"color:green\">(success).</strong>"
      ]
     },
     "metadata": {},
     "output_type": "display_data"
    },
    {
     "data": {
      "text/plain": [
       "<IPython.core.display.HTML object>"
      ],
      "text/html": [
       "<style>\n",
       "    table.wandb td:nth-child(1) { padding: 0 10px; text-align: left ; width: auto;} td:nth-child(2) {text-align: left ; width: 100%}\n",
       "    .wandb-row { display: flex; flex-direction: row; flex-wrap: wrap; justify-content: flex-start; width: 100% }\n",
       "    .wandb-col { display: flex; flex-direction: column; flex-basis: 100%; flex: 1; padding: 10px; }\n",
       "    </style>\n",
       "<div class=\"wandb-row\"><div class=\"wandb-col\"><h3>Run history:</h3><br/><table class=\"wandb\"><tr><td>max_NaiveCB</td><td>▃▅▂▆▅▄▄▆▃▆▆▃▆▆▄▁▆▄▄▇▅▇▅▃▄▃▅▇▃▄▇█▅▅▅▄▇▅▃▅</td></tr><tr><td>mean_NaiveCB</td><td>▄▇▅▄▇▅▁▅▆▅▅▅▆▅▆▂▇▇▃▃▆▅▅▂▅▅▆▇▅▅█▆▅▆▅▄▅▆▆█</td></tr><tr><td>min_NaiveCB</td><td>▇█▇▆█▇▅█████▇▇█▄██▅▆▇▇█▁▇▇███▆█▇▇█▇▇█▇██</td></tr><tr><td>std_NaiveCB</td><td>▂▁▂▃▁▂▅▂▁▂▁▂▁▂▁▅▁▁▅▃▁▂▁█▂▃▂▁▁▃▁▂▂▁▂▂▂▁▂▁</td></tr></table><br/></div><div class=\"wandb-col\"><h3>Run summary:</h3><br/><table class=\"wandb\"><tr><td>expected_boundary</td><td>5</td></tr><tr><td>max_NaiveCB</td><td>0.99989</td></tr><tr><td>mean_NaiveCB</td><td>0.99984</td></tr><tr><td>min_NaiveCB</td><td>0.99933</td></tr><tr><td>std_NaiveCB</td><td>7e-05</td></tr><tr><td>w0_trials</td><td>1</td></tr><tr><td>wn_trials</td><td>1</td></tr></table><br/></div></div>"
      ]
     },
     "metadata": {},
     "output_type": "display_data"
    },
    {
     "data": {
      "text/plain": [
       "<IPython.core.display.HTML object>"
      ],
      "text/html": [
       "Synced <strong style=\"color:#cdcd00\">deep-firebrand-1237</strong>: <a href=\"https://wandb.ai/oliverweissl/NeuralStyleSearch/runs/cdaztk3u\" target=\"_blank\">https://wandb.ai/oliverweissl/NeuralStyleSearch/runs/cdaztk3u</a><br/>Synced 5 W&B file(s), 2 media file(s), 2 artifact file(s) and 0 other file(s)"
      ]
     },
     "metadata": {},
     "output_type": "display_data"
    },
    {
     "data": {
      "text/plain": [
       "<IPython.core.display.HTML object>"
      ],
      "text/html": [
       "Find logs at: <code>./wandb/run-20241206_091215-cdaztk3u/logs</code>"
      ]
     },
     "metadata": {},
     "output_type": "display_data"
    },
    {
     "data": {
      "text/plain": [
       "<IPython.core.display.HTML object>"
      ],
      "text/html": [
       "Successfully finished last run (ID:cdaztk3u). Initializing new run:<br/>"
      ]
     },
     "metadata": {},
     "output_type": "display_data"
    },
    {
     "data": {
      "text/plain": [
       "VBox(children=(Label(value='Waiting for wandb.init()...\\r'), FloatProgress(value=0.01666905891664404, max=1.0)…"
      ],
      "application/vnd.jupyter.widget-view+json": {
       "version_major": 2,
       "version_minor": 0,
       "model_id": "d999749595f24d1f8b9b36bb2619d232"
      }
     },
     "metadata": {},
     "output_type": "display_data"
    },
    {
     "data": {
      "text/plain": [
       "<IPython.core.display.HTML object>"
      ],
      "text/html": [
       "wandb version 0.19.0 is available!  To upgrade, please run:\n",
       " $ pip install wandb --upgrade"
      ]
     },
     "metadata": {},
     "output_type": "display_data"
    },
    {
     "data": {
      "text/plain": [
       "<IPython.core.display.HTML object>"
      ],
      "text/html": [
       "Tracking run with wandb version 0.13.5"
      ]
     },
     "metadata": {},
     "output_type": "display_data"
    },
    {
     "data": {
      "text/plain": [
       "<IPython.core.display.HTML object>"
      ],
      "text/html": [
       "Run data is saved locally in <code>/home/oliver/PycharmProjects/NeuralStyle/examples/wandb/run-20241206_091309-1uecpic9</code>"
      ]
     },
     "metadata": {},
     "output_type": "display_data"
    },
    {
     "data": {
      "text/plain": [
       "<IPython.core.display.HTML object>"
      ],
      "text/html": [
       "Syncing run <strong><a href=\"https://wandb.ai/oliverweissl/NeuralStyleSearch/runs/1uecpic9\" target=\"_blank\">fresh-hill-1238</a></strong> to <a href=\"https://wandb.ai/oliverweissl/NeuralStyleSearch\" target=\"_blank\">Weights & Biases</a> (<a href=\"https://wandb.me/run\" target=\"_blank\">docs</a>)<br/>"
      ]
     },
     "metadata": {},
     "output_type": "display_data"
    },
    {
     "data": {
      "text/plain": [
       "<IPython.core.display.HTML object>"
      ],
      "text/html": [
       "Finishing last run (ID:1uecpic9) before initializing another..."
      ]
     },
     "metadata": {},
     "output_type": "display_data"
    },
    {
     "data": {
      "text/plain": [
       "<IPython.core.display.HTML object>"
      ],
      "text/html": [
       "Waiting for W&B process to finish... <strong style=\"color:green\">(success).</strong>"
      ]
     },
     "metadata": {},
     "output_type": "display_data"
    },
    {
     "data": {
      "text/plain": [
       "<IPython.core.display.HTML object>"
      ],
      "text/html": [
       "<style>\n",
       "    table.wandb td:nth-child(1) { padding: 0 10px; text-align: left ; width: auto;} td:nth-child(2) {text-align: left ; width: 100%}\n",
       "    .wandb-row { display: flex; flex-direction: row; flex-wrap: wrap; justify-content: flex-start; width: 100% }\n",
       "    .wandb-col { display: flex; flex-direction: column; flex-basis: 100%; flex: 1; padding: 10px; }\n",
       "    </style>\n",
       "<div class=\"wandb-row\"><div class=\"wandb-col\"><h3>Run history:</h3><br/><table class=\"wandb\"><tr><td>max_NaiveCB</td><td>▄▄▂▂▃▄▃▃▃▆▁▄▃▂█▄▆▄▃▂▁▂▅▂▄▄▅▁▄▃▅▆▂▄▇▃▃▄▅▅</td></tr><tr><td>mean_NaiveCB</td><td>▆▄▄▂▅▆▅▄▄▆▄▃▃▆▅▅▆▅▆▂▁▄▆▃▆▅▄▃▆▄▆█▅▄▆▅▃▄▆▅</td></tr><tr><td>min_NaiveCB</td><td>▇▅▆▁▇▇▃█▅▇█▆▅▇▃▇▇▇▇▅▆▇▇▆█▆▄▁▇▆▇▇▆▅▆▆▆▆█▅</td></tr><tr><td>std_NaiveCB</td><td>▂▅▃█▂▃▄▁▅▃▂▃▄▃▄▂▂▃▁▄▅▃▂▄▁▃▆▆▂▄▂▄▂▃▃▃▃▃▁▅</td></tr></table><br/></div><div class=\"wandb-col\"><h3>Run summary:</h3><br/><table class=\"wandb\"><tr><td>expected_boundary</td><td>5</td></tr><tr><td>max_NaiveCB</td><td>0.99881</td></tr><tr><td>mean_NaiveCB</td><td>0.99862</td></tr><tr><td>min_NaiveCB</td><td>0.99832</td></tr><tr><td>std_NaiveCB</td><td>0.0001</td></tr><tr><td>w0_trials</td><td>1</td></tr><tr><td>wn_trials</td><td>1</td></tr></table><br/></div></div>"
      ]
     },
     "metadata": {},
     "output_type": "display_data"
    },
    {
     "data": {
      "text/plain": [
       "<IPython.core.display.HTML object>"
      ],
      "text/html": [
       "Synced <strong style=\"color:#cdcd00\">fresh-hill-1238</strong>: <a href=\"https://wandb.ai/oliverweissl/NeuralStyleSearch/runs/1uecpic9\" target=\"_blank\">https://wandb.ai/oliverweissl/NeuralStyleSearch/runs/1uecpic9</a><br/>Synced 5 W&B file(s), 2 media file(s), 2 artifact file(s) and 0 other file(s)"
      ]
     },
     "metadata": {},
     "output_type": "display_data"
    },
    {
     "data": {
      "text/plain": [
       "<IPython.core.display.HTML object>"
      ],
      "text/html": [
       "Find logs at: <code>./wandb/run-20241206_091309-1uecpic9/logs</code>"
      ]
     },
     "metadata": {},
     "output_type": "display_data"
    },
    {
     "data": {
      "text/plain": [
       "<IPython.core.display.HTML object>"
      ],
      "text/html": [
       "Successfully finished last run (ID:1uecpic9). Initializing new run:<br/>"
      ]
     },
     "metadata": {},
     "output_type": "display_data"
    },
    {
     "data": {
      "text/plain": [
       "VBox(children=(Label(value='Waiting for wandb.init()...\\r'), FloatProgress(value=0.01666888139977042, max=1.0)…"
      ],
      "application/vnd.jupyter.widget-view+json": {
       "version_major": 2,
       "version_minor": 0,
       "model_id": "7ed20c523af541e3b9aa55be0fdfb4fb"
      }
     },
     "metadata": {},
     "output_type": "display_data"
    },
    {
     "data": {
      "text/plain": [
       "<IPython.core.display.HTML object>"
      ],
      "text/html": [
       "wandb version 0.19.0 is available!  To upgrade, please run:\n",
       " $ pip install wandb --upgrade"
      ]
     },
     "metadata": {},
     "output_type": "display_data"
    },
    {
     "data": {
      "text/plain": [
       "<IPython.core.display.HTML object>"
      ],
      "text/html": [
       "Tracking run with wandb version 0.13.5"
      ]
     },
     "metadata": {},
     "output_type": "display_data"
    },
    {
     "data": {
      "text/plain": [
       "<IPython.core.display.HTML object>"
      ],
      "text/html": [
       "Run data is saved locally in <code>/home/oliver/PycharmProjects/NeuralStyle/examples/wandb/run-20241206_091403-06etuhmm</code>"
      ]
     },
     "metadata": {},
     "output_type": "display_data"
    },
    {
     "data": {
      "text/plain": [
       "<IPython.core.display.HTML object>"
      ],
      "text/html": [
       "Syncing run <strong><a href=\"https://wandb.ai/oliverweissl/NeuralStyleSearch/runs/06etuhmm\" target=\"_blank\">electric-glitter-1239</a></strong> to <a href=\"https://wandb.ai/oliverweissl/NeuralStyleSearch\" target=\"_blank\">Weights & Biases</a> (<a href=\"https://wandb.me/run\" target=\"_blank\">docs</a>)<br/>"
      ]
     },
     "metadata": {},
     "output_type": "display_data"
    },
    {
     "data": {
      "text/plain": [
       "<IPython.core.display.HTML object>"
      ],
      "text/html": [
       "Finishing last run (ID:06etuhmm) before initializing another..."
      ]
     },
     "metadata": {},
     "output_type": "display_data"
    },
    {
     "data": {
      "text/plain": [
       "<IPython.core.display.HTML object>"
      ],
      "text/html": [
       "Waiting for W&B process to finish... <strong style=\"color:green\">(success).</strong>"
      ]
     },
     "metadata": {},
     "output_type": "display_data"
    },
    {
     "data": {
      "text/plain": [
       "VBox(children=(Label(value='0.009 MB of 0.010 MB uploaded (0.000 MB deduped)\\r'), FloatProgress(value=0.934332…"
      ],
      "application/vnd.jupyter.widget-view+json": {
       "version_major": 2,
       "version_minor": 0,
       "model_id": "eceffe9737b84821be4325929476b4fa"
      }
     },
     "metadata": {},
     "output_type": "display_data"
    },
    {
     "data": {
      "text/plain": [
       "<IPython.core.display.HTML object>"
      ],
      "text/html": [
       "<style>\n",
       "    table.wandb td:nth-child(1) { padding: 0 10px; text-align: left ; width: auto;} td:nth-child(2) {text-align: left ; width: 100%}\n",
       "    .wandb-row { display: flex; flex-direction: row; flex-wrap: wrap; justify-content: flex-start; width: 100% }\n",
       "    .wandb-col { display: flex; flex-direction: column; flex-basis: 100%; flex: 1; padding: 10px; }\n",
       "    </style>\n",
       "<div class=\"wandb-row\"><div class=\"wandb-col\"><h3>Run history:</h3><br/><table class=\"wandb\"><tr><td>max_NaiveCB</td><td>▆▁▆█▆▅▅▅█▄▅▅▅▆▇▆▅▄▅▅▆▇▄▆▅▇▆▇▇▅▂▂▇▇▆▅▆▆▇▆</td></tr><tr><td>mean_NaiveCB</td><td>▅▃▇█▅█▇▅▄▃▃▅▁▃▆▅▃▅▆▃▄▃▆▆▂▆▆▄▆▆▄▇▇▅▇▅▄▅▅▂</td></tr><tr><td>min_NaiveCB</td><td>▆▆▄▆▇▇▇▅▇▇▃▇▇▇▆▇█▄▇▇▇▆▇▇▇▇▇▁▇▅▆▆▇▇▇▆▁▇▇▆</td></tr><tr><td>std_NaiveCB</td><td>▆▁▇▄▄▃▂▂▅▁▇▄▅▄▅▂▁▅▃▄▃▅▁▅▃▅▃▇▄▄▂▂▁▃▅▃█▄▄▃</td></tr></table><br/></div><div class=\"wandb-col\"><h3>Run summary:</h3><br/><table class=\"wandb\"><tr><td>expected_boundary</td><td>5</td></tr><tr><td>max_NaiveCB</td><td>0.99998</td></tr><tr><td>mean_NaiveCB</td><td>0.99998</td></tr><tr><td>min_NaiveCB</td><td>0.99997</td></tr><tr><td>std_NaiveCB</td><td>0.0</td></tr><tr><td>w0_trials</td><td>1</td></tr><tr><td>wn_trials</td><td>1</td></tr></table><br/></div></div>"
      ]
     },
     "metadata": {},
     "output_type": "display_data"
    },
    {
     "data": {
      "text/plain": [
       "<IPython.core.display.HTML object>"
      ],
      "text/html": [
       "Synced <strong style=\"color:#cdcd00\">electric-glitter-1239</strong>: <a href=\"https://wandb.ai/oliverweissl/NeuralStyleSearch/runs/06etuhmm\" target=\"_blank\">https://wandb.ai/oliverweissl/NeuralStyleSearch/runs/06etuhmm</a><br/>Synced 5 W&B file(s), 2 media file(s), 2 artifact file(s) and 0 other file(s)"
      ]
     },
     "metadata": {},
     "output_type": "display_data"
    },
    {
     "data": {
      "text/plain": [
       "<IPython.core.display.HTML object>"
      ],
      "text/html": [
       "Find logs at: <code>./wandb/run-20241206_091403-06etuhmm/logs</code>"
      ]
     },
     "metadata": {},
     "output_type": "display_data"
    },
    {
     "data": {
      "text/plain": [
       "<IPython.core.display.HTML object>"
      ],
      "text/html": [
       "Successfully finished last run (ID:06etuhmm). Initializing new run:<br/>"
      ]
     },
     "metadata": {},
     "output_type": "display_data"
    },
    {
     "data": {
      "text/plain": [
       "VBox(children=(Label(value='Waiting for wandb.init()...\\r'), FloatProgress(value=0.01666808969991204, max=1.0)…"
      ],
      "application/vnd.jupyter.widget-view+json": {
       "version_major": 2,
       "version_minor": 0,
       "model_id": "28558ea55c1348e0a35e03112dfe3629"
      }
     },
     "metadata": {},
     "output_type": "display_data"
    },
    {
     "data": {
      "text/plain": [
       "<IPython.core.display.HTML object>"
      ],
      "text/html": [
       "wandb version 0.19.0 is available!  To upgrade, please run:\n",
       " $ pip install wandb --upgrade"
      ]
     },
     "metadata": {},
     "output_type": "display_data"
    },
    {
     "data": {
      "text/plain": [
       "<IPython.core.display.HTML object>"
      ],
      "text/html": [
       "Tracking run with wandb version 0.13.5"
      ]
     },
     "metadata": {},
     "output_type": "display_data"
    },
    {
     "data": {
      "text/plain": [
       "<IPython.core.display.HTML object>"
      ],
      "text/html": [
       "Run data is saved locally in <code>/home/oliver/PycharmProjects/NeuralStyle/examples/wandb/run-20241206_091456-jhxw3yma</code>"
      ]
     },
     "metadata": {},
     "output_type": "display_data"
    },
    {
     "data": {
      "text/plain": [
       "<IPython.core.display.HTML object>"
      ],
      "text/html": [
       "Syncing run <strong><a href=\"https://wandb.ai/oliverweissl/NeuralStyleSearch/runs/jhxw3yma\" target=\"_blank\">silver-breeze-1240</a></strong> to <a href=\"https://wandb.ai/oliverweissl/NeuralStyleSearch\" target=\"_blank\">Weights & Biases</a> (<a href=\"https://wandb.me/run\" target=\"_blank\">docs</a>)<br/>"
      ]
     },
     "metadata": {},
     "output_type": "display_data"
    },
    {
     "data": {
      "text/plain": [
       "<IPython.core.display.HTML object>"
      ],
      "text/html": [
       "Finishing last run (ID:jhxw3yma) before initializing another..."
      ]
     },
     "metadata": {},
     "output_type": "display_data"
    },
    {
     "data": {
      "text/plain": [
       "<IPython.core.display.HTML object>"
      ],
      "text/html": [
       "Waiting for W&B process to finish... <strong style=\"color:green\">(success).</strong>"
      ]
     },
     "metadata": {},
     "output_type": "display_data"
    },
    {
     "data": {
      "text/plain": [
       "<IPython.core.display.HTML object>"
      ],
      "text/html": [
       "<style>\n",
       "    table.wandb td:nth-child(1) { padding: 0 10px; text-align: left ; width: auto;} td:nth-child(2) {text-align: left ; width: 100%}\n",
       "    .wandb-row { display: flex; flex-direction: row; flex-wrap: wrap; justify-content: flex-start; width: 100% }\n",
       "    .wandb-col { display: flex; flex-direction: column; flex-basis: 100%; flex: 1; padding: 10px; }\n",
       "    </style>\n",
       "<div class=\"wandb-row\"><div class=\"wandb-col\"><h3>Run history:</h3><br/><table class=\"wandb\"><tr><td>max_NaiveCB</td><td>▂▁█▃▂▅▄▄▃▃▂▆▂▃▃▄▃▅▂▅▃▅▃▄▅▄▅▁▂▃▂▅▄▆▄▅▄▃▅▅</td></tr><tr><td>mean_NaiveCB</td><td>▄▃▆▂▄▆▂▄▂▃▃▃▃▃▃▅▂▄▁▅▃▅▄▃▃▄▁▃▂▂▂▃▅▅▂█▄▄▂▅</td></tr><tr><td>min_NaiveCB</td><td>▇▆▅▄▇▅▂▄▄▆▂▅▂▇▅▆▃▅▆█▆▇▆▆▇▄▆▇▁▄▅▅▅▇▆▇▅▆▄█</td></tr><tr><td>std_NaiveCB</td><td>▁▂▅▇▃▇▄▆▅▃▅▅▆▅▄▄▆█▄▂▃▂▄▂▃▄▅▃▇▄▆▆▃▃▅▃▂▂▅▃</td></tr></table><br/></div><div class=\"wandb-col\"><h3>Run summary:</h3><br/><table class=\"wandb\"><tr><td>expected_boundary</td><td>5</td></tr><tr><td>max_NaiveCB</td><td>0.99996</td></tr><tr><td>mean_NaiveCB</td><td>0.99995</td></tr><tr><td>min_NaiveCB</td><td>0.99994</td></tr><tr><td>std_NaiveCB</td><td>0.0</td></tr><tr><td>w0_trials</td><td>1</td></tr><tr><td>wn_trials</td><td>1</td></tr></table><br/></div></div>"
      ]
     },
     "metadata": {},
     "output_type": "display_data"
    },
    {
     "data": {
      "text/plain": [
       "<IPython.core.display.HTML object>"
      ],
      "text/html": [
       "Synced <strong style=\"color:#cdcd00\">silver-breeze-1240</strong>: <a href=\"https://wandb.ai/oliverweissl/NeuralStyleSearch/runs/jhxw3yma\" target=\"_blank\">https://wandb.ai/oliverweissl/NeuralStyleSearch/runs/jhxw3yma</a><br/>Synced 5 W&B file(s), 2 media file(s), 2 artifact file(s) and 0 other file(s)"
      ]
     },
     "metadata": {},
     "output_type": "display_data"
    },
    {
     "data": {
      "text/plain": [
       "<IPython.core.display.HTML object>"
      ],
      "text/html": [
       "Find logs at: <code>./wandb/run-20241206_091456-jhxw3yma/logs</code>"
      ]
     },
     "metadata": {},
     "output_type": "display_data"
    },
    {
     "data": {
      "text/plain": [
       "<IPython.core.display.HTML object>"
      ],
      "text/html": [
       "Successfully finished last run (ID:jhxw3yma). Initializing new run:<br/>"
      ]
     },
     "metadata": {},
     "output_type": "display_data"
    },
    {
     "data": {
      "text/plain": [
       "VBox(children=(Label(value='Waiting for wandb.init()...\\r'), FloatProgress(value=0.016668786416509342, max=1.0…"
      ],
      "application/vnd.jupyter.widget-view+json": {
       "version_major": 2,
       "version_minor": 0,
       "model_id": "1fdbececc9014bceb02c9b9f304570a1"
      }
     },
     "metadata": {},
     "output_type": "display_data"
    },
    {
     "data": {
      "text/plain": [
       "<IPython.core.display.HTML object>"
      ],
      "text/html": [
       "wandb version 0.19.0 is available!  To upgrade, please run:\n",
       " $ pip install wandb --upgrade"
      ]
     },
     "metadata": {},
     "output_type": "display_data"
    },
    {
     "data": {
      "text/plain": [
       "<IPython.core.display.HTML object>"
      ],
      "text/html": [
       "Tracking run with wandb version 0.13.5"
      ]
     },
     "metadata": {},
     "output_type": "display_data"
    },
    {
     "data": {
      "text/plain": [
       "<IPython.core.display.HTML object>"
      ],
      "text/html": [
       "Run data is saved locally in <code>/home/oliver/PycharmProjects/NeuralStyle/examples/wandb/run-20241206_091549-5wm0ql8e</code>"
      ]
     },
     "metadata": {},
     "output_type": "display_data"
    },
    {
     "data": {
      "text/plain": [
       "<IPython.core.display.HTML object>"
      ],
      "text/html": [
       "Syncing run <strong><a href=\"https://wandb.ai/oliverweissl/NeuralStyleSearch/runs/5wm0ql8e\" target=\"_blank\">graceful-snow-1241</a></strong> to <a href=\"https://wandb.ai/oliverweissl/NeuralStyleSearch\" target=\"_blank\">Weights & Biases</a> (<a href=\"https://wandb.me/run\" target=\"_blank\">docs</a>)<br/>"
      ]
     },
     "metadata": {},
     "output_type": "display_data"
    },
    {
     "data": {
      "text/plain": [
       "<IPython.core.display.HTML object>"
      ],
      "text/html": [
       "Finishing last run (ID:5wm0ql8e) before initializing another..."
      ]
     },
     "metadata": {},
     "output_type": "display_data"
    },
    {
     "data": {
      "text/plain": [
       "<IPython.core.display.HTML object>"
      ],
      "text/html": [
       "Waiting for W&B process to finish... <strong style=\"color:green\">(success).</strong>"
      ]
     },
     "metadata": {},
     "output_type": "display_data"
    },
    {
     "data": {
      "text/plain": [
       "<IPython.core.display.HTML object>"
      ],
      "text/html": [
       "<style>\n",
       "    table.wandb td:nth-child(1) { padding: 0 10px; text-align: left ; width: auto;} td:nth-child(2) {text-align: left ; width: 100%}\n",
       "    .wandb-row { display: flex; flex-direction: row; flex-wrap: wrap; justify-content: flex-start; width: 100% }\n",
       "    .wandb-col { display: flex; flex-direction: column; flex-basis: 100%; flex: 1; padding: 10px; }\n",
       "    </style>\n",
       "<div class=\"wandb-row\"><div class=\"wandb-col\"><h3>Run history:</h3><br/><table class=\"wandb\"><tr><td>max_NaiveCB</td><td>▇▂▂▅▄▃▃▄▁▃▇▅▅▃▄▅▃▃▂▄▅▅▃▄▅▅█▆▅▄▅▃▄▁▇▆▂▆▄▄</td></tr><tr><td>mean_NaiveCB</td><td>▅▅▄▄▃▅▆▆▅▄▄▃▁▅▅▃█▇▇▆▅▆▅▅▄▄▄▅▄▆▅▃▆▃▇▆▅▅▄▂</td></tr><tr><td>min_NaiveCB</td><td>▅▆▅▅▆▅▆▆▆▄▅▄▅▆▆▅▆▆▆▅▆▆▅▅▅▄▆▆▆▅▅▃▅▄▁▆█▂▅▃</td></tr><tr><td>std_NaiveCB</td><td>▅▃▅▅▅▅▂▃▂▇▇▇▇▄▄▆▂▂▁▃▃▃▄▅▅▅▄▅▅▄▅▇▄▆▆▄▁█▆█</td></tr></table><br/></div><div class=\"wandb-col\"><h3>Run summary:</h3><br/><table class=\"wandb\"><tr><td>expected_boundary</td><td>5</td></tr><tr><td>max_NaiveCB</td><td>0.99984</td></tr><tr><td>mean_NaiveCB</td><td>0.99977</td></tr><tr><td>min_NaiveCB</td><td>0.99952</td></tr><tr><td>std_NaiveCB</td><td>5e-05</td></tr><tr><td>w0_trials</td><td>1</td></tr><tr><td>wn_trials</td><td>1</td></tr></table><br/></div></div>"
      ]
     },
     "metadata": {},
     "output_type": "display_data"
    },
    {
     "data": {
      "text/plain": [
       "<IPython.core.display.HTML object>"
      ],
      "text/html": [
       "Synced <strong style=\"color:#cdcd00\">graceful-snow-1241</strong>: <a href=\"https://wandb.ai/oliverweissl/NeuralStyleSearch/runs/5wm0ql8e\" target=\"_blank\">https://wandb.ai/oliverweissl/NeuralStyleSearch/runs/5wm0ql8e</a><br/>Synced 5 W&B file(s), 2 media file(s), 2 artifact file(s) and 0 other file(s)"
      ]
     },
     "metadata": {},
     "output_type": "display_data"
    },
    {
     "data": {
      "text/plain": [
       "<IPython.core.display.HTML object>"
      ],
      "text/html": [
       "Find logs at: <code>./wandb/run-20241206_091549-5wm0ql8e/logs</code>"
      ]
     },
     "metadata": {},
     "output_type": "display_data"
    },
    {
     "data": {
      "text/plain": [
       "<IPython.core.display.HTML object>"
      ],
      "text/html": [
       "Successfully finished last run (ID:5wm0ql8e). Initializing new run:<br/>"
      ]
     },
     "metadata": {},
     "output_type": "display_data"
    },
    {
     "data": {
      "text/plain": [
       "VBox(children=(Label(value='Waiting for wandb.init()...\\r'), FloatProgress(value=0.01666807164971639, max=1.0)…"
      ],
      "application/vnd.jupyter.widget-view+json": {
       "version_major": 2,
       "version_minor": 0,
       "model_id": "f1206a8fd04f4b62bc63086c8d75a78a"
      }
     },
     "metadata": {},
     "output_type": "display_data"
    },
    {
     "data": {
      "text/plain": [
       "<IPython.core.display.HTML object>"
      ],
      "text/html": [
       "wandb version 0.19.0 is available!  To upgrade, please run:\n",
       " $ pip install wandb --upgrade"
      ]
     },
     "metadata": {},
     "output_type": "display_data"
    },
    {
     "data": {
      "text/plain": [
       "<IPython.core.display.HTML object>"
      ],
      "text/html": [
       "Tracking run with wandb version 0.13.5"
      ]
     },
     "metadata": {},
     "output_type": "display_data"
    },
    {
     "data": {
      "text/plain": [
       "<IPython.core.display.HTML object>"
      ],
      "text/html": [
       "Run data is saved locally in <code>/home/oliver/PycharmProjects/NeuralStyle/examples/wandb/run-20241206_091643-q8dnueyv</code>"
      ]
     },
     "metadata": {},
     "output_type": "display_data"
    },
    {
     "data": {
      "text/plain": [
       "<IPython.core.display.HTML object>"
      ],
      "text/html": [
       "Syncing run <strong><a href=\"https://wandb.ai/oliverweissl/NeuralStyleSearch/runs/q8dnueyv\" target=\"_blank\">confused-resonance-1242</a></strong> to <a href=\"https://wandb.ai/oliverweissl/NeuralStyleSearch\" target=\"_blank\">Weights & Biases</a> (<a href=\"https://wandb.me/run\" target=\"_blank\">docs</a>)<br/>"
      ]
     },
     "metadata": {},
     "output_type": "display_data"
    },
    {
     "data": {
      "text/plain": [
       "<IPython.core.display.HTML object>"
      ],
      "text/html": [
       "Finishing last run (ID:q8dnueyv) before initializing another..."
      ]
     },
     "metadata": {},
     "output_type": "display_data"
    },
    {
     "data": {
      "text/plain": [
       "<IPython.core.display.HTML object>"
      ],
      "text/html": [
       "Waiting for W&B process to finish... <strong style=\"color:green\">(success).</strong>"
      ]
     },
     "metadata": {},
     "output_type": "display_data"
    },
    {
     "data": {
      "text/plain": [
       "<IPython.core.display.HTML object>"
      ],
      "text/html": [
       "<style>\n",
       "    table.wandb td:nth-child(1) { padding: 0 10px; text-align: left ; width: auto;} td:nth-child(2) {text-align: left ; width: 100%}\n",
       "    .wandb-row { display: flex; flex-direction: row; flex-wrap: wrap; justify-content: flex-start; width: 100% }\n",
       "    .wandb-col { display: flex; flex-direction: column; flex-basis: 100%; flex: 1; padding: 10px; }\n",
       "    </style>\n",
       "<div class=\"wandb-row\"><div class=\"wandb-col\"><h3>Run history:</h3><br/><table class=\"wandb\"><tr><td>max_NaiveCB</td><td>▄▃█▄▄▄▄▂▅▄▄▄▄▂▃▄▄▃▄▃▁▄▃▄▅▄▅▅▃▅▄▂▄▅▄▄▄▅▃▃</td></tr><tr><td>mean_NaiveCB</td><td>▅▄▅▆▄▃▂▁█▄▃▅▃▃▃▃▂▄▅▃▁▆▃▂▇▄▄▄▅▅▄▃▄▃▄▃▄▄▃▂</td></tr><tr><td>min_NaiveCB</td><td>█▇▇▇▇▆▁▇█▇▆█▇▇▆▇▆▇▅▇▆▅▆▇▆▆█▆▇▇▇▅▆█▇▇█▆▇▆</td></tr><tr><td>std_NaiveCB</td><td>▃▃▄▃▄▄█▃▃▄▄▁▅▃▃▂▄▃▄▃▃▄▃▃▄▄▃▄▂▂▄▄▄▃▃▄▃▄▃▂</td></tr></table><br/></div><div class=\"wandb-col\"><h3>Run summary:</h3><br/><table class=\"wandb\"><tr><td>expected_boundary</td><td>5</td></tr><tr><td>max_NaiveCB</td><td>0.99976</td></tr><tr><td>mean_NaiveCB</td><td>0.99965</td></tr><tr><td>min_NaiveCB</td><td>0.99949</td></tr><tr><td>std_NaiveCB</td><td>4e-05</td></tr><tr><td>w0_trials</td><td>1</td></tr><tr><td>wn_trials</td><td>1</td></tr></table><br/></div></div>"
      ]
     },
     "metadata": {},
     "output_type": "display_data"
    },
    {
     "data": {
      "text/plain": [
       "<IPython.core.display.HTML object>"
      ],
      "text/html": [
       "Synced <strong style=\"color:#cdcd00\">confused-resonance-1242</strong>: <a href=\"https://wandb.ai/oliverweissl/NeuralStyleSearch/runs/q8dnueyv\" target=\"_blank\">https://wandb.ai/oliverweissl/NeuralStyleSearch/runs/q8dnueyv</a><br/>Synced 5 W&B file(s), 2 media file(s), 2 artifact file(s) and 0 other file(s)"
      ]
     },
     "metadata": {},
     "output_type": "display_data"
    },
    {
     "data": {
      "text/plain": [
       "<IPython.core.display.HTML object>"
      ],
      "text/html": [
       "Find logs at: <code>./wandb/run-20241206_091643-q8dnueyv/logs</code>"
      ]
     },
     "metadata": {},
     "output_type": "display_data"
    },
    {
     "data": {
      "text/plain": [
       "<IPython.core.display.HTML object>"
      ],
      "text/html": [
       "Successfully finished last run (ID:q8dnueyv). Initializing new run:<br/>"
      ]
     },
     "metadata": {},
     "output_type": "display_data"
    },
    {
     "data": {
      "text/plain": [
       "VBox(children=(Label(value='Waiting for wandb.init()...\\r'), FloatProgress(value=0.016669174316727247, max=1.0…"
      ],
      "application/vnd.jupyter.widget-view+json": {
       "version_major": 2,
       "version_minor": 0,
       "model_id": "b6775a49d14e4085b2ca4d6e4a8ccfd0"
      }
     },
     "metadata": {},
     "output_type": "display_data"
    },
    {
     "data": {
      "text/plain": [
       "<IPython.core.display.HTML object>"
      ],
      "text/html": [
       "wandb version 0.19.0 is available!  To upgrade, please run:\n",
       " $ pip install wandb --upgrade"
      ]
     },
     "metadata": {},
     "output_type": "display_data"
    },
    {
     "data": {
      "text/plain": [
       "<IPython.core.display.HTML object>"
      ],
      "text/html": [
       "Tracking run with wandb version 0.13.5"
      ]
     },
     "metadata": {},
     "output_type": "display_data"
    },
    {
     "data": {
      "text/plain": [
       "<IPython.core.display.HTML object>"
      ],
      "text/html": [
       "Run data is saved locally in <code>/home/oliver/PycharmProjects/NeuralStyle/examples/wandb/run-20241206_091737-mdk1ofbt</code>"
      ]
     },
     "metadata": {},
     "output_type": "display_data"
    },
    {
     "data": {
      "text/plain": [
       "<IPython.core.display.HTML object>"
      ],
      "text/html": [
       "Syncing run <strong><a href=\"https://wandb.ai/oliverweissl/NeuralStyleSearch/runs/mdk1ofbt\" target=\"_blank\">fine-thunder-1243</a></strong> to <a href=\"https://wandb.ai/oliverweissl/NeuralStyleSearch\" target=\"_blank\">Weights & Biases</a> (<a href=\"https://wandb.me/run\" target=\"_blank\">docs</a>)<br/>"
      ]
     },
     "metadata": {},
     "output_type": "display_data"
    },
    {
     "data": {
      "text/plain": [
       "<IPython.core.display.HTML object>"
      ],
      "text/html": [
       "Finishing last run (ID:mdk1ofbt) before initializing another..."
      ]
     },
     "metadata": {},
     "output_type": "display_data"
    },
    {
     "data": {
      "text/plain": [
       "<IPython.core.display.HTML object>"
      ],
      "text/html": [
       "Waiting for W&B process to finish... <strong style=\"color:green\">(success).</strong>"
      ]
     },
     "metadata": {},
     "output_type": "display_data"
    },
    {
     "data": {
      "text/plain": [
       "<IPython.core.display.HTML object>"
      ],
      "text/html": [
       "<style>\n",
       "    table.wandb td:nth-child(1) { padding: 0 10px; text-align: left ; width: auto;} td:nth-child(2) {text-align: left ; width: 100%}\n",
       "    .wandb-row { display: flex; flex-direction: row; flex-wrap: wrap; justify-content: flex-start; width: 100% }\n",
       "    .wandb-col { display: flex; flex-direction: column; flex-basis: 100%; flex: 1; padding: 10px; }\n",
       "    </style>\n",
       "<div class=\"wandb-row\"><div class=\"wandb-col\"><h3>Run history:</h3><br/><table class=\"wandb\"><tr><td>max_NaiveCB</td><td>▄▆▅▅▆▅▄▃▆▅▅▆▅▅▆▃▆▄█▇▃▁▂▆▁▄▃▇▂▇▇▃▂█▂▇▆▄▃▄</td></tr><tr><td>mean_NaiveCB</td><td>▃▄▄▂▂▂▄▅▅▅▄▄█▄▅▄▆▁▅▄▅▂▄▄▃▄▅▆▄▇▅▅▄▆▂▆▄▅▄▅</td></tr><tr><td>min_NaiveCB</td><td>▅▇▅▇▆▆▇▇█▇▇▆▇▆█▇▇▄▇█▃▇▇▃▆▅▆██▇▁▆█▆▁▅▇▇▄▇</td></tr><tr><td>std_NaiveCB</td><td>▄▅▆▄▅▄▃▄▂▃▄▃▁▄▂▂▃▄▄▃▆▃▃▇▅▅▄▁▂▄█▄▃▄█▅▄▃▇▃</td></tr></table><br/></div><div class=\"wandb-col\"><h3>Run summary:</h3><br/><table class=\"wandb\"><tr><td>expected_boundary</td><td>9</td></tr><tr><td>max_NaiveCB</td><td>0.99812</td></tr><tr><td>mean_NaiveCB</td><td>0.99793</td></tr><tr><td>min_NaiveCB</td><td>0.99734</td></tr><tr><td>std_NaiveCB</td><td>0.00012</td></tr><tr><td>w0_trials</td><td>1</td></tr><tr><td>wn_trials</td><td>1</td></tr></table><br/></div></div>"
      ]
     },
     "metadata": {},
     "output_type": "display_data"
    },
    {
     "data": {
      "text/plain": [
       "<IPython.core.display.HTML object>"
      ],
      "text/html": [
       "Synced <strong style=\"color:#cdcd00\">fine-thunder-1243</strong>: <a href=\"https://wandb.ai/oliverweissl/NeuralStyleSearch/runs/mdk1ofbt\" target=\"_blank\">https://wandb.ai/oliverweissl/NeuralStyleSearch/runs/mdk1ofbt</a><br/>Synced 5 W&B file(s), 2 media file(s), 2 artifact file(s) and 0 other file(s)"
      ]
     },
     "metadata": {},
     "output_type": "display_data"
    },
    {
     "data": {
      "text/plain": [
       "<IPython.core.display.HTML object>"
      ],
      "text/html": [
       "Find logs at: <code>./wandb/run-20241206_091737-mdk1ofbt/logs</code>"
      ]
     },
     "metadata": {},
     "output_type": "display_data"
    },
    {
     "data": {
      "text/plain": [
       "<IPython.core.display.HTML object>"
      ],
      "text/html": [
       "Successfully finished last run (ID:mdk1ofbt). Initializing new run:<br/>"
      ]
     },
     "metadata": {},
     "output_type": "display_data"
    },
    {
     "data": {
      "text/plain": [
       "VBox(children=(Label(value='Waiting for wandb.init()...\\r'), FloatProgress(value=0.01666815793335748, max=1.0)…"
      ],
      "application/vnd.jupyter.widget-view+json": {
       "version_major": 2,
       "version_minor": 0,
       "model_id": "237f3ad4e88e4e99bed2ac3f33ff6817"
      }
     },
     "metadata": {},
     "output_type": "display_data"
    },
    {
     "data": {
      "text/plain": [
       "<IPython.core.display.HTML object>"
      ],
      "text/html": [
       "wandb version 0.19.0 is available!  To upgrade, please run:\n",
       " $ pip install wandb --upgrade"
      ]
     },
     "metadata": {},
     "output_type": "display_data"
    },
    {
     "data": {
      "text/plain": [
       "<IPython.core.display.HTML object>"
      ],
      "text/html": [
       "Tracking run with wandb version 0.13.5"
      ]
     },
     "metadata": {},
     "output_type": "display_data"
    },
    {
     "data": {
      "text/plain": [
       "<IPython.core.display.HTML object>"
      ],
      "text/html": [
       "Run data is saved locally in <code>/home/oliver/PycharmProjects/NeuralStyle/examples/wandb/run-20241206_091829-aa1rzw85</code>"
      ]
     },
     "metadata": {},
     "output_type": "display_data"
    },
    {
     "data": {
      "text/plain": [
       "<IPython.core.display.HTML object>"
      ],
      "text/html": [
       "Syncing run <strong><a href=\"https://wandb.ai/oliverweissl/NeuralStyleSearch/runs/aa1rzw85\" target=\"_blank\">bright-vortex-1244</a></strong> to <a href=\"https://wandb.ai/oliverweissl/NeuralStyleSearch\" target=\"_blank\">Weights & Biases</a> (<a href=\"https://wandb.me/run\" target=\"_blank\">docs</a>)<br/>"
      ]
     },
     "metadata": {},
     "output_type": "display_data"
    },
    {
     "data": {
      "text/plain": [
       "<IPython.core.display.HTML object>"
      ],
      "text/html": [
       "Finishing last run (ID:aa1rzw85) before initializing another..."
      ]
     },
     "metadata": {},
     "output_type": "display_data"
    },
    {
     "data": {
      "text/plain": [
       "<IPython.core.display.HTML object>"
      ],
      "text/html": [
       "Waiting for W&B process to finish... <strong style=\"color:green\">(success).</strong>"
      ]
     },
     "metadata": {},
     "output_type": "display_data"
    },
    {
     "data": {
      "text/plain": [
       "VBox(children=(Label(value='0.009 MB of 0.009 MB uploaded (0.000 MB deduped)\\r'), FloatProgress(value=0.933663…"
      ],
      "application/vnd.jupyter.widget-view+json": {
       "version_major": 2,
       "version_minor": 0,
       "model_id": "dec9d45b52fd4e4991e17eee45855f1b"
      }
     },
     "metadata": {},
     "output_type": "display_data"
    },
    {
     "data": {
      "text/plain": [
       "<IPython.core.display.HTML object>"
      ],
      "text/html": [
       "<style>\n",
       "    table.wandb td:nth-child(1) { padding: 0 10px; text-align: left ; width: auto;} td:nth-child(2) {text-align: left ; width: 100%}\n",
       "    .wandb-row { display: flex; flex-direction: row; flex-wrap: wrap; justify-content: flex-start; width: 100% }\n",
       "    .wandb-col { display: flex; flex-direction: column; flex-basis: 100%; flex: 1; padding: 10px; }\n",
       "    </style>\n",
       "<div class=\"wandb-row\"><div class=\"wandb-col\"><h3>Run history:</h3><br/><table class=\"wandb\"><tr><td>max_NaiveCB</td><td>▁▄▃▃▄▄▄▅▄▃▆▂▄▃▃▃▅▃▅▃▅▄▅▅▃█▅▅█▃▄▄▃▄▄▇▇▄▅▃</td></tr><tr><td>mean_NaiveCB</td><td>▃▅▄▅▄▄▅▅▅▄▅▄▄▅▁█▆▄▅▅▅▃▇▁▅▆▃▆▅▅▆▅▃▅▆▃▆▃▅▃</td></tr><tr><td>min_NaiveCB</td><td>▆▅▇▅▅▇▅█▆██▆█▅▆▇▆▅▅▅▆▄▇▇▇█▆▇▇▆▆▅▇██▅▇▆█▁</td></tr><tr><td>std_NaiveCB</td><td>▄▄▅▄▅▃▄▂▄▁▃▃▂▅█▂▃▆▅▂▃▄▃▅▃▃█▃▇▆▇▆▆▅▁▆▄▅▂▄</td></tr></table><br/></div><div class=\"wandb-col\"><h3>Run summary:</h3><br/><table class=\"wandb\"><tr><td>expected_boundary</td><td>9</td></tr><tr><td>max_NaiveCB</td><td>0.99453</td></tr><tr><td>mean_NaiveCB</td><td>0.99329</td></tr><tr><td>min_NaiveCB</td><td>0.98943</td></tr><tr><td>std_NaiveCB</td><td>0.00084</td></tr><tr><td>w0_trials</td><td>1</td></tr><tr><td>wn_trials</td><td>1</td></tr></table><br/></div></div>"
      ]
     },
     "metadata": {},
     "output_type": "display_data"
    },
    {
     "data": {
      "text/plain": [
       "<IPython.core.display.HTML object>"
      ],
      "text/html": [
       "Synced <strong style=\"color:#cdcd00\">bright-vortex-1244</strong>: <a href=\"https://wandb.ai/oliverweissl/NeuralStyleSearch/runs/aa1rzw85\" target=\"_blank\">https://wandb.ai/oliverweissl/NeuralStyleSearch/runs/aa1rzw85</a><br/>Synced 5 W&B file(s), 2 media file(s), 2 artifact file(s) and 0 other file(s)"
      ]
     },
     "metadata": {},
     "output_type": "display_data"
    },
    {
     "data": {
      "text/plain": [
       "<IPython.core.display.HTML object>"
      ],
      "text/html": [
       "Find logs at: <code>./wandb/run-20241206_091829-aa1rzw85/logs</code>"
      ]
     },
     "metadata": {},
     "output_type": "display_data"
    },
    {
     "data": {
      "text/plain": [
       "<IPython.core.display.HTML object>"
      ],
      "text/html": [
       "Successfully finished last run (ID:aa1rzw85). Initializing new run:<br/>"
      ]
     },
     "metadata": {},
     "output_type": "display_data"
    },
    {
     "data": {
      "text/plain": [
       "VBox(children=(Label(value='Waiting for wandb.init()...\\r'), FloatProgress(value=0.016670103766955435, max=1.0…"
      ],
      "application/vnd.jupyter.widget-view+json": {
       "version_major": 2,
       "version_minor": 0,
       "model_id": "3003658c034b4edbb8cd739ec5e8871e"
      }
     },
     "metadata": {},
     "output_type": "display_data"
    },
    {
     "data": {
      "text/plain": [
       "<IPython.core.display.HTML object>"
      ],
      "text/html": [
       "wandb version 0.19.0 is available!  To upgrade, please run:\n",
       " $ pip install wandb --upgrade"
      ]
     },
     "metadata": {},
     "output_type": "display_data"
    },
    {
     "data": {
      "text/plain": [
       "<IPython.core.display.HTML object>"
      ],
      "text/html": [
       "Tracking run with wandb version 0.13.5"
      ]
     },
     "metadata": {},
     "output_type": "display_data"
    },
    {
     "data": {
      "text/plain": [
       "<IPython.core.display.HTML object>"
      ],
      "text/html": [
       "Run data is saved locally in <code>/home/oliver/PycharmProjects/NeuralStyle/examples/wandb/run-20241206_091924-fuy8423o</code>"
      ]
     },
     "metadata": {},
     "output_type": "display_data"
    },
    {
     "data": {
      "text/plain": [
       "<IPython.core.display.HTML object>"
      ],
      "text/html": [
       "Syncing run <strong><a href=\"https://wandb.ai/oliverweissl/NeuralStyleSearch/runs/fuy8423o\" target=\"_blank\">stellar-haze-1245</a></strong> to <a href=\"https://wandb.ai/oliverweissl/NeuralStyleSearch\" target=\"_blank\">Weights & Biases</a> (<a href=\"https://wandb.me/run\" target=\"_blank\">docs</a>)<br/>"
      ]
     },
     "metadata": {},
     "output_type": "display_data"
    },
    {
     "data": {
      "text/plain": [
       "<IPython.core.display.HTML object>"
      ],
      "text/html": [
       "Finishing last run (ID:fuy8423o) before initializing another..."
      ]
     },
     "metadata": {},
     "output_type": "display_data"
    },
    {
     "data": {
      "text/plain": [
       "<IPython.core.display.HTML object>"
      ],
      "text/html": [
       "Waiting for W&B process to finish... <strong style=\"color:green\">(success).</strong>"
      ]
     },
     "metadata": {},
     "output_type": "display_data"
    },
    {
     "data": {
      "text/plain": [
       "<IPython.core.display.HTML object>"
      ],
      "text/html": [
       "<style>\n",
       "    table.wandb td:nth-child(1) { padding: 0 10px; text-align: left ; width: auto;} td:nth-child(2) {text-align: left ; width: 100%}\n",
       "    .wandb-row { display: flex; flex-direction: row; flex-wrap: wrap; justify-content: flex-start; width: 100% }\n",
       "    .wandb-col { display: flex; flex-direction: column; flex-basis: 100%; flex: 1; padding: 10px; }\n",
       "    </style>\n",
       "<div class=\"wandb-row\"><div class=\"wandb-col\"><h3>Run history:</h3><br/><table class=\"wandb\"><tr><td>max_NaiveCB</td><td>▆▅▃▁▇▅▄▅▆▅▇▂▅▃▄▆▄▇▁▆▅▇▅▅▅▅▅▇▆▂▆▆▅▄▂▇█▆▅▃</td></tr><tr><td>mean_NaiveCB</td><td>▄▄▄▃▅▄▄▃▃▆▅▂▃▇▅▄▄▂▃▂▄▃▃▃▅▄▅▂▄██▁▆▅▂▃▆▂▃▇</td></tr><tr><td>min_NaiveCB</td><td>▆▂▇▅▆▆▆▆▅▆▅▅▅▇█▇▇▄▆▅▅▆▆▆▆▄▆▆▆▆▆▄▇▆▁▆▆▄▆▆</td></tr><tr><td>std_NaiveCB</td><td>▄▆▃▅▄▅▃▅▅▂▅▅▆▂▂▃▂▅▄▆▅▄▅▄▂▅▄▄▅▂▁▆▃▄█▄▃▇▅▄</td></tr></table><br/></div><div class=\"wandb-col\"><h3>Run summary:</h3><br/><table class=\"wandb\"><tr><td>expected_boundary</td><td>9</td></tr><tr><td>max_NaiveCB</td><td>0.99999</td></tr><tr><td>mean_NaiveCB</td><td>0.99999</td></tr><tr><td>min_NaiveCB</td><td>0.99997</td></tr><tr><td>std_NaiveCB</td><td>0.0</td></tr><tr><td>w0_trials</td><td>1</td></tr><tr><td>wn_trials</td><td>1</td></tr></table><br/></div></div>"
      ]
     },
     "metadata": {},
     "output_type": "display_data"
    },
    {
     "data": {
      "text/plain": [
       "<IPython.core.display.HTML object>"
      ],
      "text/html": [
       "Synced <strong style=\"color:#cdcd00\">stellar-haze-1245</strong>: <a href=\"https://wandb.ai/oliverweissl/NeuralStyleSearch/runs/fuy8423o\" target=\"_blank\">https://wandb.ai/oliverweissl/NeuralStyleSearch/runs/fuy8423o</a><br/>Synced 5 W&B file(s), 2 media file(s), 2 artifact file(s) and 0 other file(s)"
      ]
     },
     "metadata": {},
     "output_type": "display_data"
    },
    {
     "data": {
      "text/plain": [
       "<IPython.core.display.HTML object>"
      ],
      "text/html": [
       "Find logs at: <code>./wandb/run-20241206_091924-fuy8423o/logs</code>"
      ]
     },
     "metadata": {},
     "output_type": "display_data"
    },
    {
     "data": {
      "text/plain": [
       "<IPython.core.display.HTML object>"
      ],
      "text/html": [
       "Successfully finished last run (ID:fuy8423o). Initializing new run:<br/>"
      ]
     },
     "metadata": {},
     "output_type": "display_data"
    },
    {
     "data": {
      "text/plain": [
       "VBox(children=(Label(value='Waiting for wandb.init()...\\r'), FloatProgress(value=0.01667050673325624, max=1.0)…"
      ],
      "application/vnd.jupyter.widget-view+json": {
       "version_major": 2,
       "version_minor": 0,
       "model_id": "9be44537b7ea4574b24a3c05459b12e5"
      }
     },
     "metadata": {},
     "output_type": "display_data"
    },
    {
     "data": {
      "text/plain": [
       "<IPython.core.display.HTML object>"
      ],
      "text/html": [
       "wandb version 0.19.0 is available!  To upgrade, please run:\n",
       " $ pip install wandb --upgrade"
      ]
     },
     "metadata": {},
     "output_type": "display_data"
    },
    {
     "data": {
      "text/plain": [
       "<IPython.core.display.HTML object>"
      ],
      "text/html": [
       "Tracking run with wandb version 0.13.5"
      ]
     },
     "metadata": {},
     "output_type": "display_data"
    },
    {
     "data": {
      "text/plain": [
       "<IPython.core.display.HTML object>"
      ],
      "text/html": [
       "Run data is saved locally in <code>/home/oliver/PycharmProjects/NeuralStyle/examples/wandb/run-20241206_092017-7ksxqg1v</code>"
      ]
     },
     "metadata": {},
     "output_type": "display_data"
    },
    {
     "data": {
      "text/plain": [
       "<IPython.core.display.HTML object>"
      ],
      "text/html": [
       "Syncing run <strong><a href=\"https://wandb.ai/oliverweissl/NeuralStyleSearch/runs/7ksxqg1v\" target=\"_blank\">proud-dream-1246</a></strong> to <a href=\"https://wandb.ai/oliverweissl/NeuralStyleSearch\" target=\"_blank\">Weights & Biases</a> (<a href=\"https://wandb.me/run\" target=\"_blank\">docs</a>)<br/>"
      ]
     },
     "metadata": {},
     "output_type": "display_data"
    },
    {
     "data": {
      "text/plain": [
       "<IPython.core.display.HTML object>"
      ],
      "text/html": [
       "Finishing last run (ID:7ksxqg1v) before initializing another..."
      ]
     },
     "metadata": {},
     "output_type": "display_data"
    },
    {
     "data": {
      "text/plain": [
       "<IPython.core.display.HTML object>"
      ],
      "text/html": [
       "Waiting for W&B process to finish... <strong style=\"color:green\">(success).</strong>"
      ]
     },
     "metadata": {},
     "output_type": "display_data"
    },
    {
     "data": {
      "text/plain": [
       "<IPython.core.display.HTML object>"
      ],
      "text/html": [
       "<style>\n",
       "    table.wandb td:nth-child(1) { padding: 0 10px; text-align: left ; width: auto;} td:nth-child(2) {text-align: left ; width: 100%}\n",
       "    .wandb-row { display: flex; flex-direction: row; flex-wrap: wrap; justify-content: flex-start; width: 100% }\n",
       "    .wandb-col { display: flex; flex-direction: column; flex-basis: 100%; flex: 1; padding: 10px; }\n",
       "    </style>\n",
       "<div class=\"wandb-row\"><div class=\"wandb-col\"><h3>Run history:</h3><br/><table class=\"wandb\"><tr><td>max_NaiveCB</td><td>█▆▄▆▆▆▇▂▆▆▁▆▅▆▅▆▆▇▄▆▄▆▆▂▄▇▁▄▅▄▃▆▅▇▅▅█▅▄▅</td></tr><tr><td>mean_NaiveCB</td><td>▆▄▄▄▅▇▅▆▄▅▇▅▅▄▆▆▄█▃▇▅▃▄▅▄▄▃▄▄▃▁▆▃▅▅▅▇▅▇▆</td></tr><tr><td>min_NaiveCB</td><td>▆▁▆▆▃▇▆█▅█▅▆▇▄▅▄▆▃▆▄▅▂▆▆█▃▅▅▆▇▄▅▆▇▇▁▅▃▇▇</td></tr><tr><td>std_NaiveCB</td><td>███▄▆▃▆▁▅▃▁▆▅▇▅▅█▄▆▇▅▇▇▃▁▅▃▅▄▆▆█▆▄▄▅▅▇▂▄</td></tr></table><br/></div><div class=\"wandb-col\"><h3>Run summary:</h3><br/><table class=\"wandb\"><tr><td>expected_boundary</td><td>7</td></tr><tr><td>max_NaiveCB</td><td>0.99996</td></tr><tr><td>mean_NaiveCB</td><td>0.99995</td></tr><tr><td>min_NaiveCB</td><td>0.99994</td></tr><tr><td>std_NaiveCB</td><td>1e-05</td></tr><tr><td>w0_trials</td><td>1</td></tr><tr><td>wn_trials</td><td>1</td></tr></table><br/></div></div>"
      ]
     },
     "metadata": {},
     "output_type": "display_data"
    },
    {
     "data": {
      "text/plain": [
       "<IPython.core.display.HTML object>"
      ],
      "text/html": [
       "Synced <strong style=\"color:#cdcd00\">proud-dream-1246</strong>: <a href=\"https://wandb.ai/oliverweissl/NeuralStyleSearch/runs/7ksxqg1v\" target=\"_blank\">https://wandb.ai/oliverweissl/NeuralStyleSearch/runs/7ksxqg1v</a><br/>Synced 5 W&B file(s), 2 media file(s), 2 artifact file(s) and 0 other file(s)"
      ]
     },
     "metadata": {},
     "output_type": "display_data"
    },
    {
     "data": {
      "text/plain": [
       "<IPython.core.display.HTML object>"
      ],
      "text/html": [
       "Find logs at: <code>./wandb/run-20241206_092017-7ksxqg1v/logs</code>"
      ]
     },
     "metadata": {},
     "output_type": "display_data"
    },
    {
     "data": {
      "text/plain": [
       "<IPython.core.display.HTML object>"
      ],
      "text/html": [
       "Successfully finished last run (ID:7ksxqg1v). Initializing new run:<br/>"
      ]
     },
     "metadata": {},
     "output_type": "display_data"
    },
    {
     "data": {
      "text/plain": [
       "VBox(children=(Label(value='Waiting for wandb.init()...\\r'), FloatProgress(value=0.016669034483493307, max=1.0…"
      ],
      "application/vnd.jupyter.widget-view+json": {
       "version_major": 2,
       "version_minor": 0,
       "model_id": "39c1224f0c4648a1b297617529a2dba5"
      }
     },
     "metadata": {},
     "output_type": "display_data"
    },
    {
     "data": {
      "text/plain": [
       "<IPython.core.display.HTML object>"
      ],
      "text/html": [
       "wandb version 0.19.0 is available!  To upgrade, please run:\n",
       " $ pip install wandb --upgrade"
      ]
     },
     "metadata": {},
     "output_type": "display_data"
    },
    {
     "data": {
      "text/plain": [
       "<IPython.core.display.HTML object>"
      ],
      "text/html": [
       "Tracking run with wandb version 0.13.5"
      ]
     },
     "metadata": {},
     "output_type": "display_data"
    },
    {
     "data": {
      "text/plain": [
       "<IPython.core.display.HTML object>"
      ],
      "text/html": [
       "Run data is saved locally in <code>/home/oliver/PycharmProjects/NeuralStyle/examples/wandb/run-20241206_092111-ceekoph4</code>"
      ]
     },
     "metadata": {},
     "output_type": "display_data"
    },
    {
     "data": {
      "text/plain": [
       "<IPython.core.display.HTML object>"
      ],
      "text/html": [
       "Syncing run <strong><a href=\"https://wandb.ai/oliverweissl/NeuralStyleSearch/runs/ceekoph4\" target=\"_blank\">honest-armadillo-1247</a></strong> to <a href=\"https://wandb.ai/oliverweissl/NeuralStyleSearch\" target=\"_blank\">Weights & Biases</a> (<a href=\"https://wandb.me/run\" target=\"_blank\">docs</a>)<br/>"
      ]
     },
     "metadata": {},
     "output_type": "display_data"
    },
    {
     "data": {
      "text/plain": [
       "<IPython.core.display.HTML object>"
      ],
      "text/html": [
       "Finishing last run (ID:ceekoph4) before initializing another..."
      ]
     },
     "metadata": {},
     "output_type": "display_data"
    },
    {
     "data": {
      "text/plain": [
       "<IPython.core.display.HTML object>"
      ],
      "text/html": [
       "Waiting for W&B process to finish... <strong style=\"color:green\">(success).</strong>"
      ]
     },
     "metadata": {},
     "output_type": "display_data"
    },
    {
     "data": {
      "text/plain": [
       "<IPython.core.display.HTML object>"
      ],
      "text/html": [
       "<style>\n",
       "    table.wandb td:nth-child(1) { padding: 0 10px; text-align: left ; width: auto;} td:nth-child(2) {text-align: left ; width: 100%}\n",
       "    .wandb-row { display: flex; flex-direction: row; flex-wrap: wrap; justify-content: flex-start; width: 100% }\n",
       "    .wandb-col { display: flex; flex-direction: column; flex-basis: 100%; flex: 1; padding: 10px; }\n",
       "    </style>\n",
       "<div class=\"wandb-row\"><div class=\"wandb-col\"><h3>Run history:</h3><br/><table class=\"wandb\"><tr><td>max_NaiveCB</td><td>█▄▃▄▆▆▃▃▅▃▄▂▁▁▅▅▂▅▄▂▇▂▅▅▄▂▄▂▄▃▄▆▅▃▄▅▄▁▃▃</td></tr><tr><td>mean_NaiveCB</td><td>▆▆▃▆▆▂▄▄▄▃▅▁▆▅▄▆█▅▃▄▃▄▆▅▄▆▄▅▃▆▃▇▃▅▆▆▆▇▅▅</td></tr><tr><td>min_NaiveCB</td><td>▆█▆▆▇▁▅▇▆▅▇▂█▆▆██▇▇█▅▅▆▆▇█▃▆▆█▃▇▅▇▇▇▄▇▅▇</td></tr><tr><td>std_NaiveCB</td><td>▅▂▅▄▃█▅▃▄▅▁█▁▂▄▂▁▃▄▂▅▅▂▄▄▂▇▄▄▂▇▃▃▂▃▃▅▁▅▃</td></tr></table><br/></div><div class=\"wandb-col\"><h3>Run summary:</h3><br/><table class=\"wandb\"><tr><td>expected_boundary</td><td>9</td></tr><tr><td>max_NaiveCB</td><td>0.99975</td></tr><tr><td>mean_NaiveCB</td><td>0.99964</td></tr><tr><td>min_NaiveCB</td><td>0.99939</td></tr><tr><td>std_NaiveCB</td><td>7e-05</td></tr><tr><td>w0_trials</td><td>1</td></tr><tr><td>wn_trials</td><td>1</td></tr></table><br/></div></div>"
      ]
     },
     "metadata": {},
     "output_type": "display_data"
    },
    {
     "data": {
      "text/plain": [
       "<IPython.core.display.HTML object>"
      ],
      "text/html": [
       "Synced <strong style=\"color:#cdcd00\">honest-armadillo-1247</strong>: <a href=\"https://wandb.ai/oliverweissl/NeuralStyleSearch/runs/ceekoph4\" target=\"_blank\">https://wandb.ai/oliverweissl/NeuralStyleSearch/runs/ceekoph4</a><br/>Synced 5 W&B file(s), 2 media file(s), 2 artifact file(s) and 0 other file(s)"
      ]
     },
     "metadata": {},
     "output_type": "display_data"
    },
    {
     "data": {
      "text/plain": [
       "<IPython.core.display.HTML object>"
      ],
      "text/html": [
       "Find logs at: <code>./wandb/run-20241206_092111-ceekoph4/logs</code>"
      ]
     },
     "metadata": {},
     "output_type": "display_data"
    },
    {
     "data": {
      "text/plain": [
       "<IPython.core.display.HTML object>"
      ],
      "text/html": [
       "Successfully finished last run (ID:ceekoph4). Initializing new run:<br/>"
      ]
     },
     "metadata": {},
     "output_type": "display_data"
    },
    {
     "data": {
      "text/plain": [
       "VBox(children=(Label(value='Waiting for wandb.init()...\\r'), FloatProgress(value=0.016668904233665672, max=1.0…"
      ],
      "application/vnd.jupyter.widget-view+json": {
       "version_major": 2,
       "version_minor": 0,
       "model_id": "9c595ad8e5d6444587207df16bbe5330"
      }
     },
     "metadata": {},
     "output_type": "display_data"
    },
    {
     "data": {
      "text/plain": [
       "<IPython.core.display.HTML object>"
      ],
      "text/html": [
       "wandb version 0.19.0 is available!  To upgrade, please run:\n",
       " $ pip install wandb --upgrade"
      ]
     },
     "metadata": {},
     "output_type": "display_data"
    },
    {
     "data": {
      "text/plain": [
       "<IPython.core.display.HTML object>"
      ],
      "text/html": [
       "Tracking run with wandb version 0.13.5"
      ]
     },
     "metadata": {},
     "output_type": "display_data"
    },
    {
     "data": {
      "text/plain": [
       "<IPython.core.display.HTML object>"
      ],
      "text/html": [
       "Run data is saved locally in <code>/home/oliver/PycharmProjects/NeuralStyle/examples/wandb/run-20241206_092205-lr7skyq2</code>"
      ]
     },
     "metadata": {},
     "output_type": "display_data"
    },
    {
     "data": {
      "text/plain": [
       "<IPython.core.display.HTML object>"
      ],
      "text/html": [
       "Syncing run <strong><a href=\"https://wandb.ai/oliverweissl/NeuralStyleSearch/runs/lr7skyq2\" target=\"_blank\">lemon-smoke-1248</a></strong> to <a href=\"https://wandb.ai/oliverweissl/NeuralStyleSearch\" target=\"_blank\">Weights & Biases</a> (<a href=\"https://wandb.me/run\" target=\"_blank\">docs</a>)<br/>"
      ]
     },
     "metadata": {},
     "output_type": "display_data"
    },
    {
     "data": {
      "text/plain": [
       "<IPython.core.display.HTML object>"
      ],
      "text/html": [
       "Finishing last run (ID:lr7skyq2) before initializing another..."
      ]
     },
     "metadata": {},
     "output_type": "display_data"
    },
    {
     "data": {
      "text/plain": [
       "<IPython.core.display.HTML object>"
      ],
      "text/html": [
       "Waiting for W&B process to finish... <strong style=\"color:green\">(success).</strong>"
      ]
     },
     "metadata": {},
     "output_type": "display_data"
    },
    {
     "data": {
      "text/plain": [
       "VBox(children=(Label(value='0.009 MB of 0.009 MB uploaded (0.000 MB deduped)\\r'), FloatProgress(value=0.933137…"
      ],
      "application/vnd.jupyter.widget-view+json": {
       "version_major": 2,
       "version_minor": 0,
       "model_id": "2544d7d32e57459385dcf5641bdb2d45"
      }
     },
     "metadata": {},
     "output_type": "display_data"
    },
    {
     "data": {
      "text/plain": [
       "<IPython.core.display.HTML object>"
      ],
      "text/html": [
       "<style>\n",
       "    table.wandb td:nth-child(1) { padding: 0 10px; text-align: left ; width: auto;} td:nth-child(2) {text-align: left ; width: 100%}\n",
       "    .wandb-row { display: flex; flex-direction: row; flex-wrap: wrap; justify-content: flex-start; width: 100% }\n",
       "    .wandb-col { display: flex; flex-direction: column; flex-basis: 100%; flex: 1; padding: 10px; }\n",
       "    </style>\n",
       "<div class=\"wandb-row\"><div class=\"wandb-col\"><h3>Run history:</h3><br/><table class=\"wandb\"><tr><td>max_NaiveCB</td><td>▆▆▇▅▆▂▇▇█▇▆▇▇▅▅▆▆▆▂▇▇▁▅▆▇▅█▅▄▇▇▆▆▆▇▆█▇▆█</td></tr><tr><td>mean_NaiveCB</td><td>▄▁▆▆▄▆▄▅▄▇▆▅▅▅▃▅▃▆▆▆▅▆▆▄▄▂█▃▂▆▆▃▆▆▂▄▆▂▆▃</td></tr><tr><td>min_NaiveCB</td><td>█▁███▇▇█▆██▇██▆▇▇███▆█▇▆▆██▅█████▇▅▇▇▅█▇</td></tr><tr><td>std_NaiveCB</td><td>▂█▂▁▂▁▂▂▃▁▁▂▂▁▃▂▂▂▁▁▃▁▁▃▃▂▁▄▂▁▁▂▁▂▄▂▂▅▁▂</td></tr></table><br/></div><div class=\"wandb-col\"><h3>Run summary:</h3><br/><table class=\"wandb\"><tr><td>expected_boundary</td><td>9</td></tr><tr><td>max_NaiveCB</td><td>0.99852</td></tr><tr><td>mean_NaiveCB</td><td>0.99521</td></tr><tr><td>min_NaiveCB</td><td>0.98916</td></tr><tr><td>std_NaiveCB</td><td>0.00144</td></tr><tr><td>w0_trials</td><td>1</td></tr><tr><td>wn_trials</td><td>1</td></tr></table><br/></div></div>"
      ]
     },
     "metadata": {},
     "output_type": "display_data"
    },
    {
     "data": {
      "text/plain": [
       "<IPython.core.display.HTML object>"
      ],
      "text/html": [
       "Synced <strong style=\"color:#cdcd00\">lemon-smoke-1248</strong>: <a href=\"https://wandb.ai/oliverweissl/NeuralStyleSearch/runs/lr7skyq2\" target=\"_blank\">https://wandb.ai/oliverweissl/NeuralStyleSearch/runs/lr7skyq2</a><br/>Synced 5 W&B file(s), 2 media file(s), 2 artifact file(s) and 0 other file(s)"
      ]
     },
     "metadata": {},
     "output_type": "display_data"
    },
    {
     "data": {
      "text/plain": [
       "<IPython.core.display.HTML object>"
      ],
      "text/html": [
       "Find logs at: <code>./wandb/run-20241206_092205-lr7skyq2/logs</code>"
      ]
     },
     "metadata": {},
     "output_type": "display_data"
    },
    {
     "data": {
      "text/plain": [
       "<IPython.core.display.HTML object>"
      ],
      "text/html": [
       "Successfully finished last run (ID:lr7skyq2). Initializing new run:<br/>"
      ]
     },
     "metadata": {},
     "output_type": "display_data"
    },
    {
     "data": {
      "text/plain": [
       "VBox(children=(Label(value='Waiting for wandb.init()...\\r'), FloatProgress(value=0.01666886448316897, max=1.0)…"
      ],
      "application/vnd.jupyter.widget-view+json": {
       "version_major": 2,
       "version_minor": 0,
       "model_id": "d40056fcbe7947fa824a1392258d265d"
      }
     },
     "metadata": {},
     "output_type": "display_data"
    },
    {
     "data": {
      "text/plain": [
       "<IPython.core.display.HTML object>"
      ],
      "text/html": [
       "wandb version 0.19.0 is available!  To upgrade, please run:\n",
       " $ pip install wandb --upgrade"
      ]
     },
     "metadata": {},
     "output_type": "display_data"
    },
    {
     "data": {
      "text/plain": [
       "<IPython.core.display.HTML object>"
      ],
      "text/html": [
       "Tracking run with wandb version 0.13.5"
      ]
     },
     "metadata": {},
     "output_type": "display_data"
    },
    {
     "data": {
      "text/plain": [
       "<IPython.core.display.HTML object>"
      ],
      "text/html": [
       "Run data is saved locally in <code>/home/oliver/PycharmProjects/NeuralStyle/examples/wandb/run-20241206_092258-69iqcd2o</code>"
      ]
     },
     "metadata": {},
     "output_type": "display_data"
    },
    {
     "data": {
      "text/plain": [
       "<IPython.core.display.HTML object>"
      ],
      "text/html": [
       "Syncing run <strong><a href=\"https://wandb.ai/oliverweissl/NeuralStyleSearch/runs/69iqcd2o\" target=\"_blank\">fanciful-dew-1249</a></strong> to <a href=\"https://wandb.ai/oliverweissl/NeuralStyleSearch\" target=\"_blank\">Weights & Biases</a> (<a href=\"https://wandb.me/run\" target=\"_blank\">docs</a>)<br/>"
      ]
     },
     "metadata": {},
     "output_type": "display_data"
    },
    {
     "data": {
      "text/plain": [
       "<IPython.core.display.HTML object>"
      ],
      "text/html": [
       "Finishing last run (ID:69iqcd2o) before initializing another..."
      ]
     },
     "metadata": {},
     "output_type": "display_data"
    },
    {
     "data": {
      "text/plain": [
       "<IPython.core.display.HTML object>"
      ],
      "text/html": [
       "Waiting for W&B process to finish... <strong style=\"color:green\">(success).</strong>"
      ]
     },
     "metadata": {},
     "output_type": "display_data"
    },
    {
     "data": {
      "text/plain": [
       "VBox(children=(Label(value='0.009 MB of 0.009 MB uploaded (0.000 MB deduped)\\r'), FloatProgress(value=0.932768…"
      ],
      "application/vnd.jupyter.widget-view+json": {
       "version_major": 2,
       "version_minor": 0,
       "model_id": "0cecb084ef7647ef9e131ce0e9264231"
      }
     },
     "metadata": {},
     "output_type": "display_data"
    },
    {
     "data": {
      "text/plain": [
       "<IPython.core.display.HTML object>"
      ],
      "text/html": [
       "<style>\n",
       "    table.wandb td:nth-child(1) { padding: 0 10px; text-align: left ; width: auto;} td:nth-child(2) {text-align: left ; width: 100%}\n",
       "    .wandb-row { display: flex; flex-direction: row; flex-wrap: wrap; justify-content: flex-start; width: 100% }\n",
       "    .wandb-col { display: flex; flex-direction: column; flex-basis: 100%; flex: 1; padding: 10px; }\n",
       "    </style>\n",
       "<div class=\"wandb-row\"><div class=\"wandb-col\"><h3>Run history:</h3><br/><table class=\"wandb\"><tr><td>max_NaiveCB</td><td>▅▄▆▃█▅▅▄▃▆▅▄▄▄▅▅▂▅█▄▁▃▃▃▅▄▄▆▅▄▆▄▅▄▄▃▃▃▇▇</td></tr><tr><td>mean_NaiveCB</td><td>▇█▄▄▇▆▇▄▆▃▇▇▆▆▆▆▄▆▄▆▃▄▃▆▅▅▁▆▆▄█▇▆▃▄▇▆▆▅▆</td></tr><tr><td>min_NaiveCB</td><td>▃█▆▆▆▅▁▅▆▅▆▆█▆▆▆▆▁▆█▆▆▅▅▄▅▂▅▆▆▅▆▅▅▆▅▆▆▅▄</td></tr><tr><td>std_NaiveCB</td><td>█▁▄▄▅▆▆▆▃█▃▂▁▅▄▄▅▇▅▂▆▅▇▃▅▄█▆▄▅▃▃▅▆▅▄▃▄▆▆</td></tr></table><br/></div><div class=\"wandb-col\"><h3>Run summary:</h3><br/><table class=\"wandb\"><tr><td>expected_boundary</td><td>9</td></tr><tr><td>max_NaiveCB</td><td>0.99622</td></tr><tr><td>mean_NaiveCB</td><td>0.99467</td></tr><tr><td>min_NaiveCB</td><td>0.98721</td></tr><tr><td>std_NaiveCB</td><td>0.00139</td></tr><tr><td>w0_trials</td><td>1</td></tr><tr><td>wn_trials</td><td>1</td></tr></table><br/></div></div>"
      ]
     },
     "metadata": {},
     "output_type": "display_data"
    },
    {
     "data": {
      "text/plain": [
       "<IPython.core.display.HTML object>"
      ],
      "text/html": [
       "Synced <strong style=\"color:#cdcd00\">fanciful-dew-1249</strong>: <a href=\"https://wandb.ai/oliverweissl/NeuralStyleSearch/runs/69iqcd2o\" target=\"_blank\">https://wandb.ai/oliverweissl/NeuralStyleSearch/runs/69iqcd2o</a><br/>Synced 5 W&B file(s), 2 media file(s), 2 artifact file(s) and 0 other file(s)"
      ]
     },
     "metadata": {},
     "output_type": "display_data"
    },
    {
     "data": {
      "text/plain": [
       "<IPython.core.display.HTML object>"
      ],
      "text/html": [
       "Find logs at: <code>./wandb/run-20241206_092258-69iqcd2o/logs</code>"
      ]
     },
     "metadata": {},
     "output_type": "display_data"
    },
    {
     "data": {
      "text/plain": [
       "<IPython.core.display.HTML object>"
      ],
      "text/html": [
       "Successfully finished last run (ID:69iqcd2o). Initializing new run:<br/>"
      ]
     },
     "metadata": {},
     "output_type": "display_data"
    },
    {
     "data": {
      "text/plain": [
       "VBox(children=(Label(value='Waiting for wandb.init()...\\r'), FloatProgress(value=0.016668074783228803, max=1.0…"
      ],
      "application/vnd.jupyter.widget-view+json": {
       "version_major": 2,
       "version_minor": 0,
       "model_id": "961c59b7993443bca31d926ffb19f400"
      }
     },
     "metadata": {},
     "output_type": "display_data"
    },
    {
     "data": {
      "text/plain": [
       "<IPython.core.display.HTML object>"
      ],
      "text/html": [
       "wandb version 0.19.0 is available!  To upgrade, please run:\n",
       " $ pip install wandb --upgrade"
      ]
     },
     "metadata": {},
     "output_type": "display_data"
    },
    {
     "data": {
      "text/plain": [
       "<IPython.core.display.HTML object>"
      ],
      "text/html": [
       "Tracking run with wandb version 0.13.5"
      ]
     },
     "metadata": {},
     "output_type": "display_data"
    },
    {
     "data": {
      "text/plain": [
       "<IPython.core.display.HTML object>"
      ],
      "text/html": [
       "Run data is saved locally in <code>/home/oliver/PycharmProjects/NeuralStyle/examples/wandb/run-20241206_092351-00lb2scv</code>"
      ]
     },
     "metadata": {},
     "output_type": "display_data"
    },
    {
     "data": {
      "text/plain": [
       "<IPython.core.display.HTML object>"
      ],
      "text/html": [
       "Syncing run <strong><a href=\"https://wandb.ai/oliverweissl/NeuralStyleSearch/runs/00lb2scv\" target=\"_blank\">dainty-puddle-1250</a></strong> to <a href=\"https://wandb.ai/oliverweissl/NeuralStyleSearch\" target=\"_blank\">Weights & Biases</a> (<a href=\"https://wandb.me/run\" target=\"_blank\">docs</a>)<br/>"
      ]
     },
     "metadata": {},
     "output_type": "display_data"
    },
    {
     "data": {
      "text/plain": [
       "<IPython.core.display.HTML object>"
      ],
      "text/html": [
       "Finishing last run (ID:00lb2scv) before initializing another..."
      ]
     },
     "metadata": {},
     "output_type": "display_data"
    },
    {
     "data": {
      "text/plain": [
       "<IPython.core.display.HTML object>"
      ],
      "text/html": [
       "Waiting for W&B process to finish... <strong style=\"color:green\">(success).</strong>"
      ]
     },
     "metadata": {},
     "output_type": "display_data"
    },
    {
     "data": {
      "text/plain": [
       "<IPython.core.display.HTML object>"
      ],
      "text/html": [
       "<style>\n",
       "    table.wandb td:nth-child(1) { padding: 0 10px; text-align: left ; width: auto;} td:nth-child(2) {text-align: left ; width: 100%}\n",
       "    .wandb-row { display: flex; flex-direction: row; flex-wrap: wrap; justify-content: flex-start; width: 100% }\n",
       "    .wandb-col { display: flex; flex-direction: column; flex-basis: 100%; flex: 1; padding: 10px; }\n",
       "    </style>\n",
       "<div class=\"wandb-row\"><div class=\"wandb-col\"><h3>Run history:</h3><br/><table class=\"wandb\"><tr><td>max_NaiveCB</td><td>█▆▇▆▇▆▇▅▇▇▆█▆█▆▇▇▆▆▅▇▅▆▇▇▇▇▅▇▇▁▇▇█▇▃▆▇▇█</td></tr><tr><td>mean_NaiveCB</td><td>▅▆▅▆▆▅▅▇▅▆▆▂█▇▆▁▁▆▆▇▆█▂▆▆▃▄▆█▁▇▅▇▅▆▆▆▆▅▆</td></tr><tr><td>min_NaiveCB</td><td>▆▇▇█▇▇▇█▇▇▅▆▇▇▇▇▁▇▇▇▇▇▇▇▇▇▅█▇▄█▇▇▇▇▆▆▆▇▇</td></tr><tr><td>std_NaiveCB</td><td>▄▃▄▂▂▃▂▁▃▄▄▅▂▂▃▅█▂▂▂▂▁▄▃▂▄▅▂▂▆▁▄▂▃▂▃▃▃▃▃</td></tr></table><br/></div><div class=\"wandb-col\"><h3>Run summary:</h3><br/><table class=\"wandb\"><tr><td>expected_boundary</td><td>9</td></tr><tr><td>max_NaiveCB</td><td>0.99984</td></tr><tr><td>mean_NaiveCB</td><td>0.99933</td></tr><tr><td>min_NaiveCB</td><td>0.99518</td></tr><tr><td>std_NaiveCB</td><td>0.00053</td></tr><tr><td>w0_trials</td><td>1</td></tr><tr><td>wn_trials</td><td>1</td></tr></table><br/></div></div>"
      ]
     },
     "metadata": {},
     "output_type": "display_data"
    },
    {
     "data": {
      "text/plain": [
       "<IPython.core.display.HTML object>"
      ],
      "text/html": [
       "Synced <strong style=\"color:#cdcd00\">dainty-puddle-1250</strong>: <a href=\"https://wandb.ai/oliverweissl/NeuralStyleSearch/runs/00lb2scv\" target=\"_blank\">https://wandb.ai/oliverweissl/NeuralStyleSearch/runs/00lb2scv</a><br/>Synced 5 W&B file(s), 2 media file(s), 2 artifact file(s) and 0 other file(s)"
      ]
     },
     "metadata": {},
     "output_type": "display_data"
    },
    {
     "data": {
      "text/plain": [
       "<IPython.core.display.HTML object>"
      ],
      "text/html": [
       "Find logs at: <code>./wandb/run-20241206_092351-00lb2scv/logs</code>"
      ]
     },
     "metadata": {},
     "output_type": "display_data"
    },
    {
     "data": {
      "text/plain": [
       "<IPython.core.display.HTML object>"
      ],
      "text/html": [
       "Successfully finished last run (ID:00lb2scv). Initializing new run:<br/>"
      ]
     },
     "metadata": {},
     "output_type": "display_data"
    },
    {
     "data": {
      "text/plain": [
       "VBox(children=(Label(value='Waiting for wandb.init()...\\r'), FloatProgress(value=0.016668080916376008, max=1.0…"
      ],
      "application/vnd.jupyter.widget-view+json": {
       "version_major": 2,
       "version_minor": 0,
       "model_id": "ffa4e5fc34d84743bb40cba2e358f638"
      }
     },
     "metadata": {},
     "output_type": "display_data"
    },
    {
     "data": {
      "text/plain": [
       "<IPython.core.display.HTML object>"
      ],
      "text/html": [
       "wandb version 0.19.0 is available!  To upgrade, please run:\n",
       " $ pip install wandb --upgrade"
      ]
     },
     "metadata": {},
     "output_type": "display_data"
    },
    {
     "data": {
      "text/plain": [
       "<IPython.core.display.HTML object>"
      ],
      "text/html": [
       "Tracking run with wandb version 0.13.5"
      ]
     },
     "metadata": {},
     "output_type": "display_data"
    },
    {
     "data": {
      "text/plain": [
       "<IPython.core.display.HTML object>"
      ],
      "text/html": [
       "Run data is saved locally in <code>/home/oliver/PycharmProjects/NeuralStyle/examples/wandb/run-20241206_092443-giglbr6v</code>"
      ]
     },
     "metadata": {},
     "output_type": "display_data"
    },
    {
     "data": {
      "text/plain": [
       "<IPython.core.display.HTML object>"
      ],
      "text/html": [
       "Syncing run <strong><a href=\"https://wandb.ai/oliverweissl/NeuralStyleSearch/runs/giglbr6v\" target=\"_blank\">eager-totem-1251</a></strong> to <a href=\"https://wandb.ai/oliverweissl/NeuralStyleSearch\" target=\"_blank\">Weights & Biases</a> (<a href=\"https://wandb.me/run\" target=\"_blank\">docs</a>)<br/>"
      ]
     },
     "metadata": {},
     "output_type": "display_data"
    },
    {
     "data": {
      "text/plain": [
       "<IPython.core.display.HTML object>"
      ],
      "text/html": [
       "Finishing last run (ID:giglbr6v) before initializing another..."
      ]
     },
     "metadata": {},
     "output_type": "display_data"
    },
    {
     "data": {
      "text/plain": [
       "<IPython.core.display.HTML object>"
      ],
      "text/html": [
       "Waiting for W&B process to finish... <strong style=\"color:green\">(success).</strong>"
      ]
     },
     "metadata": {},
     "output_type": "display_data"
    },
    {
     "data": {
      "text/plain": [
       "<IPython.core.display.HTML object>"
      ],
      "text/html": [
       "<style>\n",
       "    table.wandb td:nth-child(1) { padding: 0 10px; text-align: left ; width: auto;} td:nth-child(2) {text-align: left ; width: 100%}\n",
       "    .wandb-row { display: flex; flex-direction: row; flex-wrap: wrap; justify-content: flex-start; width: 100% }\n",
       "    .wandb-col { display: flex; flex-direction: column; flex-basis: 100%; flex: 1; padding: 10px; }\n",
       "    </style>\n",
       "<div class=\"wandb-row\"><div class=\"wandb-col\"><h3>Run history:</h3><br/><table class=\"wandb\"><tr><td>max_NaiveCB</td><td>▂▆▂▅▃▂▁▃▃▃▄▅▇▂▃▂▂▂▄▄▂▃▁▅▄▁▄▁▄▂▃█▃▅▃▃▅▆▄▂</td></tr><tr><td>mean_NaiveCB</td><td>▇▄▃▆▆▄▆▆▅▇▅▆▅▄▄▅▄▃▆▆▃▆█▆▅▂▇▃▅▆▅▅▆▁▅▇▇▅▅▆</td></tr><tr><td>min_NaiveCB</td><td>▅▆▅▇▇▅▆▆▆▇▆▆▆▇▆▆▄▅▄▆▆▆▅▆▅▆█▁▆▆▆▄▆▆▆▇▆▄▅▇</td></tr><tr><td>std_NaiveCB</td><td>▄▆▆▄▄▅▄▄▅▅▇▅▆▅▆▅▆█▄▅▆▅▁▄▅█▃▇▆▄▄▅▅█▅▄▃▅▇▃</td></tr></table><br/></div><div class=\"wandb-col\"><h3>Run summary:</h3><br/><table class=\"wandb\"><tr><td>expected_boundary</td><td>9</td></tr><tr><td>max_NaiveCB</td><td>0.99949</td></tr><tr><td>mean_NaiveCB</td><td>0.99932</td></tr><tr><td>min_NaiveCB</td><td>0.99838</td></tr><tr><td>std_NaiveCB</td><td>0.00025</td></tr><tr><td>w0_trials</td><td>1</td></tr><tr><td>wn_trials</td><td>1</td></tr></table><br/></div></div>"
      ]
     },
     "metadata": {},
     "output_type": "display_data"
    },
    {
     "data": {
      "text/plain": [
       "<IPython.core.display.HTML object>"
      ],
      "text/html": [
       "Synced <strong style=\"color:#cdcd00\">eager-totem-1251</strong>: <a href=\"https://wandb.ai/oliverweissl/NeuralStyleSearch/runs/giglbr6v\" target=\"_blank\">https://wandb.ai/oliverweissl/NeuralStyleSearch/runs/giglbr6v</a><br/>Synced 5 W&B file(s), 2 media file(s), 2 artifact file(s) and 0 other file(s)"
      ]
     },
     "metadata": {},
     "output_type": "display_data"
    },
    {
     "data": {
      "text/plain": [
       "<IPython.core.display.HTML object>"
      ],
      "text/html": [
       "Find logs at: <code>./wandb/run-20241206_092443-giglbr6v/logs</code>"
      ]
     },
     "metadata": {},
     "output_type": "display_data"
    },
    {
     "data": {
      "text/plain": [
       "<IPython.core.display.HTML object>"
      ],
      "text/html": [
       "Successfully finished last run (ID:giglbr6v). Initializing new run:<br/>"
      ]
     },
     "metadata": {},
     "output_type": "display_data"
    },
    {
     "data": {
      "text/plain": [
       "VBox(children=(Label(value='Waiting for wandb.init()...\\r'), FloatProgress(value=0.016668109550179604, max=1.0…"
      ],
      "application/vnd.jupyter.widget-view+json": {
       "version_major": 2,
       "version_minor": 0,
       "model_id": "f66c5caa92014d1584c694a24d8fc85a"
      }
     },
     "metadata": {},
     "output_type": "display_data"
    },
    {
     "data": {
      "text/plain": [
       "<IPython.core.display.HTML object>"
      ],
      "text/html": [
       "wandb version 0.19.0 is available!  To upgrade, please run:\n",
       " $ pip install wandb --upgrade"
      ]
     },
     "metadata": {},
     "output_type": "display_data"
    },
    {
     "data": {
      "text/plain": [
       "<IPython.core.display.HTML object>"
      ],
      "text/html": [
       "Tracking run with wandb version 0.13.5"
      ]
     },
     "metadata": {},
     "output_type": "display_data"
    },
    {
     "data": {
      "text/plain": [
       "<IPython.core.display.HTML object>"
      ],
      "text/html": [
       "Run data is saved locally in <code>/home/oliver/PycharmProjects/NeuralStyle/examples/wandb/run-20241206_092536-lhxrrxsh</code>"
      ]
     },
     "metadata": {},
     "output_type": "display_data"
    },
    {
     "data": {
      "text/plain": [
       "<IPython.core.display.HTML object>"
      ],
      "text/html": [
       "Syncing run <strong><a href=\"https://wandb.ai/oliverweissl/NeuralStyleSearch/runs/lhxrrxsh\" target=\"_blank\">lyric-dew-1252</a></strong> to <a href=\"https://wandb.ai/oliverweissl/NeuralStyleSearch\" target=\"_blank\">Weights & Biases</a> (<a href=\"https://wandb.me/run\" target=\"_blank\">docs</a>)<br/>"
      ]
     },
     "metadata": {},
     "output_type": "display_data"
    },
    {
     "data": {
      "text/plain": [
       "<IPython.core.display.HTML object>"
      ],
      "text/html": [
       "Finishing last run (ID:lhxrrxsh) before initializing another..."
      ]
     },
     "metadata": {},
     "output_type": "display_data"
    },
    {
     "data": {
      "text/plain": [
       "<IPython.core.display.HTML object>"
      ],
      "text/html": [
       "Waiting for W&B process to finish... <strong style=\"color:green\">(success).</strong>"
      ]
     },
     "metadata": {},
     "output_type": "display_data"
    },
    {
     "data": {
      "text/plain": [
       "<IPython.core.display.HTML object>"
      ],
      "text/html": [
       "<style>\n",
       "    table.wandb td:nth-child(1) { padding: 0 10px; text-align: left ; width: auto;} td:nth-child(2) {text-align: left ; width: 100%}\n",
       "    .wandb-row { display: flex; flex-direction: row; flex-wrap: wrap; justify-content: flex-start; width: 100% }\n",
       "    .wandb-col { display: flex; flex-direction: column; flex-basis: 100%; flex: 1; padding: 10px; }\n",
       "    </style>\n",
       "<div class=\"wandb-row\"><div class=\"wandb-col\"><h3>Run history:</h3><br/><table class=\"wandb\"><tr><td>max_NaiveCB</td><td>▁▅▅▄▄▄▃▃▅▅▄▅▄▃▃▆▃▅▄▅▅▄▃▆▅▅▇▅▄▅▄█▅▁▅▄▅▅▅▆</td></tr><tr><td>mean_NaiveCB</td><td>▆▇▆▆▇▅▄▅▆▆▅▃▆▆▆▆▃▅▄▄▇▃▇▇▃▁█▇▅▆▆▄▅▅▃▆▆▅▃▄</td></tr><tr><td>min_NaiveCB</td><td>▅▅▆▄█▃▃▄▄▅▅▄▄▅▄▄▁▅▅▄▅▄▅▅▆▄▅▅▄▄▄▄▅▆▃▃▅▃▄▄</td></tr><tr><td>std_NaiveCB</td><td>▃▄▂▅▁▆▆▄▄▄▄▅▄▄▄▆▇▄▃▇▂▅▃▅▄▇▄▄▄▆▄▆▄▃▅▄▃▆█▅</td></tr></table><br/></div><div class=\"wandb-col\"><h3>Run summary:</h3><br/><table class=\"wandb\"><tr><td>expected_boundary</td><td>9</td></tr><tr><td>max_NaiveCB</td><td>0.99994</td></tr><tr><td>mean_NaiveCB</td><td>0.99993</td></tr><tr><td>min_NaiveCB</td><td>0.99989</td></tr><tr><td>std_NaiveCB</td><td>1e-05</td></tr><tr><td>w0_trials</td><td>1</td></tr><tr><td>wn_trials</td><td>1</td></tr></table><br/></div></div>"
      ]
     },
     "metadata": {},
     "output_type": "display_data"
    },
    {
     "data": {
      "text/plain": [
       "<IPython.core.display.HTML object>"
      ],
      "text/html": [
       "Synced <strong style=\"color:#cdcd00\">lyric-dew-1252</strong>: <a href=\"https://wandb.ai/oliverweissl/NeuralStyleSearch/runs/lhxrrxsh\" target=\"_blank\">https://wandb.ai/oliverweissl/NeuralStyleSearch/runs/lhxrrxsh</a><br/>Synced 5 W&B file(s), 2 media file(s), 2 artifact file(s) and 0 other file(s)"
      ]
     },
     "metadata": {},
     "output_type": "display_data"
    },
    {
     "data": {
      "text/plain": [
       "<IPython.core.display.HTML object>"
      ],
      "text/html": [
       "Find logs at: <code>./wandb/run-20241206_092536-lhxrrxsh/logs</code>"
      ]
     },
     "metadata": {},
     "output_type": "display_data"
    },
    {
     "data": {
      "text/plain": [
       "<IPython.core.display.HTML object>"
      ],
      "text/html": [
       "Successfully finished last run (ID:lhxrrxsh). Initializing new run:<br/>"
      ]
     },
     "metadata": {},
     "output_type": "display_data"
    },
    {
     "data": {
      "text/plain": [
       "VBox(children=(Label(value='Waiting for wandb.init()...\\r'), FloatProgress(value=0.016668165316514206, max=1.0…"
      ],
      "application/vnd.jupyter.widget-view+json": {
       "version_major": 2,
       "version_minor": 0,
       "model_id": "0cdc5b638cfc462e9c8d05804c1a5909"
      }
     },
     "metadata": {},
     "output_type": "display_data"
    },
    {
     "data": {
      "text/plain": [
       "<IPython.core.display.HTML object>"
      ],
      "text/html": [
       "wandb version 0.19.0 is available!  To upgrade, please run:\n",
       " $ pip install wandb --upgrade"
      ]
     },
     "metadata": {},
     "output_type": "display_data"
    },
    {
     "data": {
      "text/plain": [
       "<IPython.core.display.HTML object>"
      ],
      "text/html": [
       "Tracking run with wandb version 0.13.5"
      ]
     },
     "metadata": {},
     "output_type": "display_data"
    },
    {
     "data": {
      "text/plain": [
       "<IPython.core.display.HTML object>"
      ],
      "text/html": [
       "Run data is saved locally in <code>/home/oliver/PycharmProjects/NeuralStyle/examples/wandb/run-20241206_092629-g0obll4g</code>"
      ]
     },
     "metadata": {},
     "output_type": "display_data"
    },
    {
     "data": {
      "text/plain": [
       "<IPython.core.display.HTML object>"
      ],
      "text/html": [
       "Syncing run <strong><a href=\"https://wandb.ai/oliverweissl/NeuralStyleSearch/runs/g0obll4g\" target=\"_blank\">vague-yogurt-1253</a></strong> to <a href=\"https://wandb.ai/oliverweissl/NeuralStyleSearch\" target=\"_blank\">Weights & Biases</a> (<a href=\"https://wandb.me/run\" target=\"_blank\">docs</a>)<br/>"
      ]
     },
     "metadata": {},
     "output_type": "display_data"
    },
    {
     "data": {
      "text/plain": [
       "<IPython.core.display.HTML object>"
      ],
      "text/html": [
       "Finishing last run (ID:g0obll4g) before initializing another..."
      ]
     },
     "metadata": {},
     "output_type": "display_data"
    },
    {
     "data": {
      "text/plain": [
       "<IPython.core.display.HTML object>"
      ],
      "text/html": [
       "Waiting for W&B process to finish... <strong style=\"color:green\">(success).</strong>"
      ]
     },
     "metadata": {},
     "output_type": "display_data"
    },
    {
     "data": {
      "text/plain": [
       "<IPython.core.display.HTML object>"
      ],
      "text/html": [
       "<style>\n",
       "    table.wandb td:nth-child(1) { padding: 0 10px; text-align: left ; width: auto;} td:nth-child(2) {text-align: left ; width: 100%}\n",
       "    .wandb-row { display: flex; flex-direction: row; flex-wrap: wrap; justify-content: flex-start; width: 100% }\n",
       "    .wandb-col { display: flex; flex-direction: column; flex-basis: 100%; flex: 1; padding: 10px; }\n",
       "    </style>\n",
       "<div class=\"wandb-row\"><div class=\"wandb-col\"><h3>Run history:</h3><br/><table class=\"wandb\"><tr><td>max_NaiveCB</td><td>▆▃▅▄▄▆█▄▅▃▁▄▄█▇▄▄▇▂▃▆▆▅▄▇▃▃▅▅▇▂▃▆▅▅▅▃▇▄▆</td></tr><tr><td>mean_NaiveCB</td><td>▅▄▄▆▅█▇▄▂▅▅█▅▅▆▅▇▅▄▄▄▃▃▃▆▆█▅▅▄▄▁▄▄▇▆▃▇▇▇</td></tr><tr><td>min_NaiveCB</td><td>▇▇▇▇▇██▇▇▇▆██▇▇██▇▇▇▇▇▇▇▇█▆▇▇▇▇▇▇▁▆█▇▅██</td></tr><tr><td>std_NaiveCB</td><td>▂▂▃▁▂▁▁▃▂▂▂▂▁▄▂▂▂▃▂▂▃▃▂▂▂▁▃▂▃▃▂▃▃█▄▂▂▄▂▁</td></tr></table><br/></div><div class=\"wandb-col\"><h3>Run summary:</h3><br/><table class=\"wandb\"><tr><td>expected_boundary</td><td>3</td></tr><tr><td>max_NaiveCB</td><td>0.99979</td></tr><tr><td>mean_NaiveCB</td><td>0.99973</td></tr><tr><td>min_NaiveCB</td><td>0.99961</td></tr><tr><td>std_NaiveCB</td><td>2e-05</td></tr><tr><td>w0_trials</td><td>1</td></tr><tr><td>wn_trials</td><td>1</td></tr></table><br/></div></div>"
      ]
     },
     "metadata": {},
     "output_type": "display_data"
    },
    {
     "data": {
      "text/plain": [
       "<IPython.core.display.HTML object>"
      ],
      "text/html": [
       "Synced <strong style=\"color:#cdcd00\">vague-yogurt-1253</strong>: <a href=\"https://wandb.ai/oliverweissl/NeuralStyleSearch/runs/g0obll4g\" target=\"_blank\">https://wandb.ai/oliverweissl/NeuralStyleSearch/runs/g0obll4g</a><br/>Synced 5 W&B file(s), 2 media file(s), 2 artifact file(s) and 0 other file(s)"
      ]
     },
     "metadata": {},
     "output_type": "display_data"
    },
    {
     "data": {
      "text/plain": [
       "<IPython.core.display.HTML object>"
      ],
      "text/html": [
       "Find logs at: <code>./wandb/run-20241206_092629-g0obll4g/logs</code>"
      ]
     },
     "metadata": {},
     "output_type": "display_data"
    },
    {
     "data": {
      "text/plain": [
       "<IPython.core.display.HTML object>"
      ],
      "text/html": [
       "Successfully finished last run (ID:g0obll4g). Initializing new run:<br/>"
      ]
     },
     "metadata": {},
     "output_type": "display_data"
    },
    {
     "data": {
      "text/plain": [
       "VBox(children=(Label(value='Waiting for wandb.init()...\\r'), FloatProgress(value=0.01667025226682502, max=1.0)…"
      ],
      "application/vnd.jupyter.widget-view+json": {
       "version_major": 2,
       "version_minor": 0,
       "model_id": "7a18983aaf374639859d0d0c4ff50c85"
      }
     },
     "metadata": {},
     "output_type": "display_data"
    },
    {
     "data": {
      "text/plain": [
       "<IPython.core.display.HTML object>"
      ],
      "text/html": [
       "wandb version 0.19.0 is available!  To upgrade, please run:\n",
       " $ pip install wandb --upgrade"
      ]
     },
     "metadata": {},
     "output_type": "display_data"
    },
    {
     "data": {
      "text/plain": [
       "<IPython.core.display.HTML object>"
      ],
      "text/html": [
       "Tracking run with wandb version 0.13.5"
      ]
     },
     "metadata": {},
     "output_type": "display_data"
    },
    {
     "data": {
      "text/plain": [
       "<IPython.core.display.HTML object>"
      ],
      "text/html": [
       "Run data is saved locally in <code>/home/oliver/PycharmProjects/NeuralStyle/examples/wandb/run-20241206_092722-31agupt4</code>"
      ]
     },
     "metadata": {},
     "output_type": "display_data"
    },
    {
     "data": {
      "text/plain": [
       "<IPython.core.display.HTML object>"
      ],
      "text/html": [
       "Syncing run <strong><a href=\"https://wandb.ai/oliverweissl/NeuralStyleSearch/runs/31agupt4\" target=\"_blank\">floral-disco-1254</a></strong> to <a href=\"https://wandb.ai/oliverweissl/NeuralStyleSearch\" target=\"_blank\">Weights & Biases</a> (<a href=\"https://wandb.me/run\" target=\"_blank\">docs</a>)<br/>"
      ]
     },
     "metadata": {},
     "output_type": "display_data"
    },
    {
     "data": {
      "text/plain": [
       "<IPython.core.display.HTML object>"
      ],
      "text/html": [
       "Finishing last run (ID:31agupt4) before initializing another..."
      ]
     },
     "metadata": {},
     "output_type": "display_data"
    },
    {
     "data": {
      "text/plain": [
       "<IPython.core.display.HTML object>"
      ],
      "text/html": [
       "Waiting for W&B process to finish... <strong style=\"color:green\">(success).</strong>"
      ]
     },
     "metadata": {},
     "output_type": "display_data"
    },
    {
     "data": {
      "text/plain": [
       "VBox(children=(Label(value='0.009 MB of 0.010 MB uploaded (0.000 MB deduped)\\r'), FloatProgress(value=0.935228…"
      ],
      "application/vnd.jupyter.widget-view+json": {
       "version_major": 2,
       "version_minor": 0,
       "model_id": "e612d9b1c25f46c48a99e02f432bfb40"
      }
     },
     "metadata": {},
     "output_type": "display_data"
    },
    {
     "data": {
      "text/plain": [
       "<IPython.core.display.HTML object>"
      ],
      "text/html": [
       "<style>\n",
       "    table.wandb td:nth-child(1) { padding: 0 10px; text-align: left ; width: auto;} td:nth-child(2) {text-align: left ; width: 100%}\n",
       "    .wandb-row { display: flex; flex-direction: row; flex-wrap: wrap; justify-content: flex-start; width: 100% }\n",
       "    .wandb-col { display: flex; flex-direction: column; flex-basis: 100%; flex: 1; padding: 10px; }\n",
       "    </style>\n",
       "<div class=\"wandb-row\"><div class=\"wandb-col\"><h3>Run history:</h3><br/><table class=\"wandb\"><tr><td>max_NaiveCB</td><td>▂▂▂▁▂▁▂▂▁▄▂▄▃▅▂▂▂▁▃▃▅▂▂▂▅▁▁▂▄█▁▁▁▄▂▁▅▁▂▃</td></tr><tr><td>mean_NaiveCB</td><td>▃▅▄▄▄▆▅▄▅▆▄▆▂▂▄▄▂▂▁▃▆▅▁▃▅▄▃▅▄▃▃▄▅▄█▃▄▄▂▄</td></tr><tr><td>min_NaiveCB</td><td>▅▇▇▆▇▇▇▆▇▅▆▇▇▁▄▆▆▇▆▂█▆▅▅▁▆▃▆▅▄▄▇▇▃▇▅▅▇▅▅</td></tr><tr><td>std_NaiveCB</td><td>▆▃▄▅▄▁▂▃▂▅▆▂▄▇▃▆▃▄▃▆▂▃▇▂▅▂▆▄▅█▂▃▂▃▂▄▃▅▄▄</td></tr></table><br/></div><div class=\"wandb-col\"><h3>Run summary:</h3><br/><table class=\"wandb\"><tr><td>expected_boundary</td><td>8</td></tr><tr><td>max_NaiveCB</td><td>0.99915</td></tr><tr><td>mean_NaiveCB</td><td>0.99896</td></tr><tr><td>min_NaiveCB</td><td>0.99846</td></tr><tr><td>std_NaiveCB</td><td>0.00014</td></tr><tr><td>w0_trials</td><td>1</td></tr><tr><td>wn_trials</td><td>83</td></tr></table><br/></div></div>"
      ]
     },
     "metadata": {},
     "output_type": "display_data"
    },
    {
     "data": {
      "text/plain": [
       "<IPython.core.display.HTML object>"
      ],
      "text/html": [
       "Synced <strong style=\"color:#cdcd00\">floral-disco-1254</strong>: <a href=\"https://wandb.ai/oliverweissl/NeuralStyleSearch/runs/31agupt4\" target=\"_blank\">https://wandb.ai/oliverweissl/NeuralStyleSearch/runs/31agupt4</a><br/>Synced 5 W&B file(s), 2 media file(s), 2 artifact file(s) and 0 other file(s)"
      ]
     },
     "metadata": {},
     "output_type": "display_data"
    },
    {
     "data": {
      "text/plain": [
       "<IPython.core.display.HTML object>"
      ],
      "text/html": [
       "Find logs at: <code>./wandb/run-20241206_092722-31agupt4/logs</code>"
      ]
     },
     "metadata": {},
     "output_type": "display_data"
    },
    {
     "data": {
      "text/plain": [
       "<IPython.core.display.HTML object>"
      ],
      "text/html": [
       "Successfully finished last run (ID:31agupt4). Initializing new run:<br/>"
      ]
     },
     "metadata": {},
     "output_type": "display_data"
    },
    {
     "data": {
      "text/plain": [
       "VBox(children=(Label(value='Waiting for wandb.init()...\\r'), FloatProgress(value=0.01666932499986918, max=1.0)…"
      ],
      "application/vnd.jupyter.widget-view+json": {
       "version_major": 2,
       "version_minor": 0,
       "model_id": "1351cd1f89374404a07dcfcf5310f167"
      }
     },
     "metadata": {},
     "output_type": "display_data"
    },
    {
     "data": {
      "text/plain": [
       "<IPython.core.display.HTML object>"
      ],
      "text/html": [
       "wandb version 0.19.0 is available!  To upgrade, please run:\n",
       " $ pip install wandb --upgrade"
      ]
     },
     "metadata": {},
     "output_type": "display_data"
    },
    {
     "data": {
      "text/plain": [
       "<IPython.core.display.HTML object>"
      ],
      "text/html": [
       "Tracking run with wandb version 0.13.5"
      ]
     },
     "metadata": {},
     "output_type": "display_data"
    },
    {
     "data": {
      "text/plain": [
       "<IPython.core.display.HTML object>"
      ],
      "text/html": [
       "Run data is saved locally in <code>/home/oliver/PycharmProjects/NeuralStyle/examples/wandb/run-20241206_092817-gtfabg31</code>"
      ]
     },
     "metadata": {},
     "output_type": "display_data"
    },
    {
     "data": {
      "text/plain": [
       "<IPython.core.display.HTML object>"
      ],
      "text/html": [
       "Syncing run <strong><a href=\"https://wandb.ai/oliverweissl/NeuralStyleSearch/runs/gtfabg31\" target=\"_blank\">desert-jazz-1255</a></strong> to <a href=\"https://wandb.ai/oliverweissl/NeuralStyleSearch\" target=\"_blank\">Weights & Biases</a> (<a href=\"https://wandb.me/run\" target=\"_blank\">docs</a>)<br/>"
      ]
     },
     "metadata": {},
     "output_type": "display_data"
    },
    {
     "data": {
      "text/plain": [
       "<IPython.core.display.HTML object>"
      ],
      "text/html": [
       "Finishing last run (ID:gtfabg31) before initializing another..."
      ]
     },
     "metadata": {},
     "output_type": "display_data"
    },
    {
     "data": {
      "text/plain": [
       "<IPython.core.display.HTML object>"
      ],
      "text/html": [
       "Waiting for W&B process to finish... <strong style=\"color:green\">(success).</strong>"
      ]
     },
     "metadata": {},
     "output_type": "display_data"
    },
    {
     "data": {
      "text/plain": [
       "VBox(children=(Label(value='0.009 MB of 0.009 MB uploaded (0.000 MB deduped)\\r'), FloatProgress(value=0.931390…"
      ],
      "application/vnd.jupyter.widget-view+json": {
       "version_major": 2,
       "version_minor": 0,
       "model_id": "e263bb8b6cd84c608d97313af95e6b0e"
      }
     },
     "metadata": {},
     "output_type": "display_data"
    },
    {
     "data": {
      "text/plain": [
       "<IPython.core.display.HTML object>"
      ],
      "text/html": [
       "<style>\n",
       "    table.wandb td:nth-child(1) { padding: 0 10px; text-align: left ; width: auto;} td:nth-child(2) {text-align: left ; width: 100%}\n",
       "    .wandb-row { display: flex; flex-direction: row; flex-wrap: wrap; justify-content: flex-start; width: 100% }\n",
       "    .wandb-col { display: flex; flex-direction: column; flex-basis: 100%; flex: 1; padding: 10px; }\n",
       "    </style>\n",
       "<div class=\"wandb-row\"><div class=\"wandb-col\"><h3>Run history:</h3><br/><table class=\"wandb\"><tr><td>max_NaiveCB</td><td>▃▇▂█▂▂▃▃▃▃▄▂▁▄▃▃▄▄▄▄█▃▄▃▅▄▄▆▅▃▄▁▃▄▃▁▂▃▄▂</td></tr><tr><td>mean_NaiveCB</td><td>▅▃▆▆▅▄▄▆▁▇▆▆▄█▄▆▇▅▇▃▆▅█▇▆▇▅▆▇▄▅▄▅▅▃█▄▄▆▇</td></tr><tr><td>min_NaiveCB</td><td>▆▅▇▄▅▅▅▁▇▇▆▇▂▇▆▇▆▄█▅▇▇█▅▄▇▃▃█▁▃▆▆▇▅█▇█▇█</td></tr><tr><td>std_NaiveCB</td><td>▄▆▂▇▄▃▆█▇▂▆▁▇▄▇▂▂▆▂▇▅▃▃▆▇▁▇▅▂█▇▃▄▃▃▁▄▂▂▂</td></tr></table><br/></div><div class=\"wandb-col\"><h3>Run summary:</h3><br/><table class=\"wandb\"><tr><td>expected_boundary</td><td>9</td></tr><tr><td>max_NaiveCB</td><td>0.99989</td></tr><tr><td>mean_NaiveCB</td><td>0.99986</td></tr><tr><td>min_NaiveCB</td><td>0.99976</td></tr><tr><td>std_NaiveCB</td><td>2e-05</td></tr><tr><td>w0_trials</td><td>1</td></tr><tr><td>wn_trials</td><td>1</td></tr></table><br/></div></div>"
      ]
     },
     "metadata": {},
     "output_type": "display_data"
    },
    {
     "data": {
      "text/plain": [
       "<IPython.core.display.HTML object>"
      ],
      "text/html": [
       "Synced <strong style=\"color:#cdcd00\">desert-jazz-1255</strong>: <a href=\"https://wandb.ai/oliverweissl/NeuralStyleSearch/runs/gtfabg31\" target=\"_blank\">https://wandb.ai/oliverweissl/NeuralStyleSearch/runs/gtfabg31</a><br/>Synced 5 W&B file(s), 2 media file(s), 2 artifact file(s) and 0 other file(s)"
      ]
     },
     "metadata": {},
     "output_type": "display_data"
    },
    {
     "data": {
      "text/plain": [
       "<IPython.core.display.HTML object>"
      ],
      "text/html": [
       "Find logs at: <code>./wandb/run-20241206_092817-gtfabg31/logs</code>"
      ]
     },
     "metadata": {},
     "output_type": "display_data"
    },
    {
     "data": {
      "text/plain": [
       "<IPython.core.display.HTML object>"
      ],
      "text/html": [
       "Successfully finished last run (ID:gtfabg31). Initializing new run:<br/>"
      ]
     },
     "metadata": {},
     "output_type": "display_data"
    },
    {
     "data": {
      "text/plain": [
       "VBox(children=(Label(value='Waiting for wandb.init()...\\r'), FloatProgress(value=0.016670242966696, max=1.0)))"
      ],
      "application/vnd.jupyter.widget-view+json": {
       "version_major": 2,
       "version_minor": 0,
       "model_id": "ecef6bb028dc4ffd8b043878ee74af90"
      }
     },
     "metadata": {},
     "output_type": "display_data"
    },
    {
     "data": {
      "text/plain": [
       "<IPython.core.display.HTML object>"
      ],
      "text/html": [
       "wandb version 0.19.0 is available!  To upgrade, please run:\n",
       " $ pip install wandb --upgrade"
      ]
     },
     "metadata": {},
     "output_type": "display_data"
    },
    {
     "data": {
      "text/plain": [
       "<IPython.core.display.HTML object>"
      ],
      "text/html": [
       "Tracking run with wandb version 0.13.5"
      ]
     },
     "metadata": {},
     "output_type": "display_data"
    },
    {
     "data": {
      "text/plain": [
       "<IPython.core.display.HTML object>"
      ],
      "text/html": [
       "Run data is saved locally in <code>/home/oliver/PycharmProjects/NeuralStyle/examples/wandb/run-20241206_092910-623yx4s7</code>"
      ]
     },
     "metadata": {},
     "output_type": "display_data"
    },
    {
     "data": {
      "text/plain": [
       "<IPython.core.display.HTML object>"
      ],
      "text/html": [
       "Syncing run <strong><a href=\"https://wandb.ai/oliverweissl/NeuralStyleSearch/runs/623yx4s7\" target=\"_blank\">glowing-smoke-1256</a></strong> to <a href=\"https://wandb.ai/oliverweissl/NeuralStyleSearch\" target=\"_blank\">Weights & Biases</a> (<a href=\"https://wandb.me/run\" target=\"_blank\">docs</a>)<br/>"
      ]
     },
     "metadata": {},
     "output_type": "display_data"
    },
    {
     "data": {
      "text/plain": [
       "<IPython.core.display.HTML object>"
      ],
      "text/html": [
       "Finishing last run (ID:623yx4s7) before initializing another..."
      ]
     },
     "metadata": {},
     "output_type": "display_data"
    },
    {
     "data": {
      "text/plain": [
       "<IPython.core.display.HTML object>"
      ],
      "text/html": [
       "Waiting for W&B process to finish... <strong style=\"color:green\">(success).</strong>"
      ]
     },
     "metadata": {},
     "output_type": "display_data"
    },
    {
     "data": {
      "text/plain": [
       "<IPython.core.display.HTML object>"
      ],
      "text/html": [
       "<style>\n",
       "    table.wandb td:nth-child(1) { padding: 0 10px; text-align: left ; width: auto;} td:nth-child(2) {text-align: left ; width: 100%}\n",
       "    .wandb-row { display: flex; flex-direction: row; flex-wrap: wrap; justify-content: flex-start; width: 100% }\n",
       "    .wandb-col { display: flex; flex-direction: column; flex-basis: 100%; flex: 1; padding: 10px; }\n",
       "    </style>\n",
       "<div class=\"wandb-row\"><div class=\"wandb-col\"><h3>Run history:</h3><br/><table class=\"wandb\"><tr><td>max_NaiveCB</td><td>▄▄▅▄▃▃▂▅▄▄▃▃▃▁▂▁▃▃▁▃▅▄▆▇▄▄▅▃▄█▃▄▄▄▂▄▄▄▃▁</td></tr><tr><td>mean_NaiveCB</td><td>▆▇▅▇▇▄▁█▇▅▃▅▆▃▅▅▆▆▆▃▅▆▇▆▆▅█▅▆▅▃▃▆▅▇▅▅▆▄▆</td></tr><tr><td>min_NaiveCB</td><td>▆▇▇▃▆▆▅▃▇▄▅▅█▆▇▇▇▆█▁▅▆▆▂▃▆▇▄▆▇▆▆▆▆▇▆▅▆▇▇</td></tr><tr><td>std_NaiveCB</td><td>▆▆▆▅▂▄▂▇▅█▆▃▃▂▁▂▄▄▁█▅▄▄█▆▄▄▆▆▄▄▄▆▆▂▅▅▆▃▁</td></tr></table><br/></div><div class=\"wandb-col\"><h3>Run summary:</h3><br/><table class=\"wandb\"><tr><td>expected_boundary</td><td>9</td></tr><tr><td>max_NaiveCB</td><td>0.9971</td></tr><tr><td>mean_NaiveCB</td><td>0.99629</td></tr><tr><td>min_NaiveCB</td><td>0.99546</td></tr><tr><td>std_NaiveCB</td><td>0.00026</td></tr><tr><td>w0_trials</td><td>1</td></tr><tr><td>wn_trials</td><td>1</td></tr></table><br/></div></div>"
      ]
     },
     "metadata": {},
     "output_type": "display_data"
    },
    {
     "data": {
      "text/plain": [
       "<IPython.core.display.HTML object>"
      ],
      "text/html": [
       "Synced <strong style=\"color:#cdcd00\">glowing-smoke-1256</strong>: <a href=\"https://wandb.ai/oliverweissl/NeuralStyleSearch/runs/623yx4s7\" target=\"_blank\">https://wandb.ai/oliverweissl/NeuralStyleSearch/runs/623yx4s7</a><br/>Synced 5 W&B file(s), 2 media file(s), 2 artifact file(s) and 0 other file(s)"
      ]
     },
     "metadata": {},
     "output_type": "display_data"
    },
    {
     "data": {
      "text/plain": [
       "<IPython.core.display.HTML object>"
      ],
      "text/html": [
       "Find logs at: <code>./wandb/run-20241206_092910-623yx4s7/logs</code>"
      ]
     },
     "metadata": {},
     "output_type": "display_data"
    },
    {
     "data": {
      "text/plain": [
       "<IPython.core.display.HTML object>"
      ],
      "text/html": [
       "Successfully finished last run (ID:623yx4s7). Initializing new run:<br/>"
      ]
     },
     "metadata": {},
     "output_type": "display_data"
    },
    {
     "data": {
      "text/plain": [
       "VBox(children=(Label(value='Waiting for wandb.init()...\\r'), FloatProgress(value=0.016668866099886753, max=1.0…"
      ],
      "application/vnd.jupyter.widget-view+json": {
       "version_major": 2,
       "version_minor": 0,
       "model_id": "c8bcf272068b4cbea51d5fd809fca574"
      }
     },
     "metadata": {},
     "output_type": "display_data"
    },
    {
     "data": {
      "text/plain": [
       "<IPython.core.display.HTML object>"
      ],
      "text/html": [
       "wandb version 0.19.0 is available!  To upgrade, please run:\n",
       " $ pip install wandb --upgrade"
      ]
     },
     "metadata": {},
     "output_type": "display_data"
    },
    {
     "data": {
      "text/plain": [
       "<IPython.core.display.HTML object>"
      ],
      "text/html": [
       "Tracking run with wandb version 0.13.5"
      ]
     },
     "metadata": {},
     "output_type": "display_data"
    },
    {
     "data": {
      "text/plain": [
       "<IPython.core.display.HTML object>"
      ],
      "text/html": [
       "Run data is saved locally in <code>/home/oliver/PycharmProjects/NeuralStyle/examples/wandb/run-20241206_093003-ejxo9kcz</code>"
      ]
     },
     "metadata": {},
     "output_type": "display_data"
    },
    {
     "data": {
      "text/plain": [
       "<IPython.core.display.HTML object>"
      ],
      "text/html": [
       "Syncing run <strong><a href=\"https://wandb.ai/oliverweissl/NeuralStyleSearch/runs/ejxo9kcz\" target=\"_blank\">stellar-dust-1257</a></strong> to <a href=\"https://wandb.ai/oliverweissl/NeuralStyleSearch\" target=\"_blank\">Weights & Biases</a> (<a href=\"https://wandb.me/run\" target=\"_blank\">docs</a>)<br/>"
      ]
     },
     "metadata": {},
     "output_type": "display_data"
    },
    {
     "data": {
      "text/plain": [
       "<IPython.core.display.HTML object>"
      ],
      "text/html": [
       "Finishing last run (ID:ejxo9kcz) before initializing another..."
      ]
     },
     "metadata": {},
     "output_type": "display_data"
    },
    {
     "data": {
      "text/plain": [
       "<IPython.core.display.HTML object>"
      ],
      "text/html": [
       "Waiting for W&B process to finish... <strong style=\"color:green\">(success).</strong>"
      ]
     },
     "metadata": {},
     "output_type": "display_data"
    },
    {
     "data": {
      "text/plain": [
       "<IPython.core.display.HTML object>"
      ],
      "text/html": [
       "<style>\n",
       "    table.wandb td:nth-child(1) { padding: 0 10px; text-align: left ; width: auto;} td:nth-child(2) {text-align: left ; width: 100%}\n",
       "    .wandb-row { display: flex; flex-direction: row; flex-wrap: wrap; justify-content: flex-start; width: 100% }\n",
       "    .wandb-col { display: flex; flex-direction: column; flex-basis: 100%; flex: 1; padding: 10px; }\n",
       "    </style>\n",
       "<div class=\"wandb-row\"><div class=\"wandb-col\"><h3>Run history:</h3><br/><table class=\"wandb\"><tr><td>max_NaiveCB</td><td>▄▂▃▅▂▆▆▁▆▅▃▇▆▆▆▄▃▅▇▂▄▁█▅▆▄█▁▃▃▅▃▆▃▄▅▂▆▂▄</td></tr><tr><td>mean_NaiveCB</td><td>▅▃▅▆▃▅▃▁▅▄▄▅▄▅▆▄▅▄▄▂▄▄█▃▃▃▄▁▆▄▃▅▄▃▄▆▅▇▃▃</td></tr><tr><td>min_NaiveCB</td><td>▆▅▆▆▇█▄▄▅▄▆▁▄██▇▇▄▆▂▆▄▆▇▅▆▂▇█▁▆█▅▇▆▇█▇▆▅</td></tr><tr><td>std_NaiveCB</td><td>▇▂▃▁▄▄▆▃▇▅▄▇▅▃▂▅▄▇▆▃▂▇▇▄▆▂▆▂▃▇▆▃█▄▃▃▄▄▃▄</td></tr></table><br/></div><div class=\"wandb-col\"><h3>Run summary:</h3><br/><table class=\"wandb\"><tr><td>expected_boundary</td><td>9</td></tr><tr><td>max_NaiveCB</td><td>0.99993</td></tr><tr><td>mean_NaiveCB</td><td>0.99992</td></tr><tr><td>min_NaiveCB</td><td>0.99992</td></tr><tr><td>std_NaiveCB</td><td>0.0</td></tr><tr><td>w0_trials</td><td>1</td></tr><tr><td>wn_trials</td><td>1</td></tr></table><br/></div></div>"
      ]
     },
     "metadata": {},
     "output_type": "display_data"
    },
    {
     "data": {
      "text/plain": [
       "<IPython.core.display.HTML object>"
      ],
      "text/html": [
       "Synced <strong style=\"color:#cdcd00\">stellar-dust-1257</strong>: <a href=\"https://wandb.ai/oliverweissl/NeuralStyleSearch/runs/ejxo9kcz\" target=\"_blank\">https://wandb.ai/oliverweissl/NeuralStyleSearch/runs/ejxo9kcz</a><br/>Synced 5 W&B file(s), 2 media file(s), 2 artifact file(s) and 0 other file(s)"
      ]
     },
     "metadata": {},
     "output_type": "display_data"
    },
    {
     "data": {
      "text/plain": [
       "<IPython.core.display.HTML object>"
      ],
      "text/html": [
       "Find logs at: <code>./wandb/run-20241206_093003-ejxo9kcz/logs</code>"
      ]
     },
     "metadata": {},
     "output_type": "display_data"
    },
    {
     "data": {
      "text/plain": [
       "<IPython.core.display.HTML object>"
      ],
      "text/html": [
       "Successfully finished last run (ID:ejxo9kcz). Initializing new run:<br/>"
      ]
     },
     "metadata": {},
     "output_type": "display_data"
    },
    {
     "data": {
      "text/plain": [
       "VBox(children=(Label(value='Waiting for wandb.init()...\\r'), FloatProgress(value=0.016669130133717167, max=1.0…"
      ],
      "application/vnd.jupyter.widget-view+json": {
       "version_major": 2,
       "version_minor": 0,
       "model_id": "c5bc20c79b184bfb8b8a114b5f4336a6"
      }
     },
     "metadata": {},
     "output_type": "display_data"
    },
    {
     "data": {
      "text/plain": [
       "<IPython.core.display.HTML object>"
      ],
      "text/html": [
       "wandb version 0.19.0 is available!  To upgrade, please run:\n",
       " $ pip install wandb --upgrade"
      ]
     },
     "metadata": {},
     "output_type": "display_data"
    },
    {
     "data": {
      "text/plain": [
       "<IPython.core.display.HTML object>"
      ],
      "text/html": [
       "Tracking run with wandb version 0.13.5"
      ]
     },
     "metadata": {},
     "output_type": "display_data"
    },
    {
     "data": {
      "text/plain": [
       "<IPython.core.display.HTML object>"
      ],
      "text/html": [
       "Run data is saved locally in <code>/home/oliver/PycharmProjects/NeuralStyle/examples/wandb/run-20241206_093056-5m580c0l</code>"
      ]
     },
     "metadata": {},
     "output_type": "display_data"
    },
    {
     "data": {
      "text/plain": [
       "<IPython.core.display.HTML object>"
      ],
      "text/html": [
       "Syncing run <strong><a href=\"https://wandb.ai/oliverweissl/NeuralStyleSearch/runs/5m580c0l\" target=\"_blank\">fearless-vortex-1258</a></strong> to <a href=\"https://wandb.ai/oliverweissl/NeuralStyleSearch\" target=\"_blank\">Weights & Biases</a> (<a href=\"https://wandb.me/run\" target=\"_blank\">docs</a>)<br/>"
      ]
     },
     "metadata": {},
     "output_type": "display_data"
    },
    {
     "data": {
      "text/plain": [
       "<IPython.core.display.HTML object>"
      ],
      "text/html": [
       "Finishing last run (ID:5m580c0l) before initializing another..."
      ]
     },
     "metadata": {},
     "output_type": "display_data"
    },
    {
     "data": {
      "text/plain": [
       "<IPython.core.display.HTML object>"
      ],
      "text/html": [
       "Waiting for W&B process to finish... <strong style=\"color:green\">(success).</strong>"
      ]
     },
     "metadata": {},
     "output_type": "display_data"
    },
    {
     "data": {
      "text/plain": [
       "<IPython.core.display.HTML object>"
      ],
      "text/html": [
       "<style>\n",
       "    table.wandb td:nth-child(1) { padding: 0 10px; text-align: left ; width: auto;} td:nth-child(2) {text-align: left ; width: 100%}\n",
       "    .wandb-row { display: flex; flex-direction: row; flex-wrap: wrap; justify-content: flex-start; width: 100% }\n",
       "    .wandb-col { display: flex; flex-direction: column; flex-basis: 100%; flex: 1; padding: 10px; }\n",
       "    </style>\n",
       "<div class=\"wandb-row\"><div class=\"wandb-col\"><h3>Run history:</h3><br/><table class=\"wandb\"><tr><td>max_NaiveCB</td><td>▄▄▅█▃▆▂▃▃▄▃▄▅▂▄▂▅▅▃▃▄▄▂▇▄▃▅▃▁▃▃▃▂▄▃▂▅▃▄▃</td></tr><tr><td>mean_NaiveCB</td><td>▇▅▆▄▄▄▃▆▇▅▄▆▄▅▇▅▇█▄▇▄▇▆▅▅▅▅▆▅▅▁▅▄▆▄▅▇▅▅▆</td></tr><tr><td>min_NaiveCB</td><td>███▇▇▇▇█████▇█▇███▇▇▇███▇███▇▇▁███▇██▇█▇</td></tr><tr><td>std_NaiveCB</td><td>▁▂▁▂▂▂▂▁▁▂▂▂▂▁▂▁▁▁▂▁▂▁▁▂▂▁▂▂▂▂█▂▂▁▂▂▁▂▂▂</td></tr></table><br/></div><div class=\"wandb-col\"><h3>Run summary:</h3><br/><table class=\"wandb\"><tr><td>expected_boundary</td><td>9</td></tr><tr><td>max_NaiveCB</td><td>0.99997</td></tr><tr><td>mean_NaiveCB</td><td>0.99997</td></tr><tr><td>min_NaiveCB</td><td>0.99995</td></tr><tr><td>std_NaiveCB</td><td>0.0</td></tr><tr><td>w0_trials</td><td>1</td></tr><tr><td>wn_trials</td><td>1</td></tr></table><br/></div></div>"
      ]
     },
     "metadata": {},
     "output_type": "display_data"
    },
    {
     "data": {
      "text/plain": [
       "<IPython.core.display.HTML object>"
      ],
      "text/html": [
       "Synced <strong style=\"color:#cdcd00\">fearless-vortex-1258</strong>: <a href=\"https://wandb.ai/oliverweissl/NeuralStyleSearch/runs/5m580c0l\" target=\"_blank\">https://wandb.ai/oliverweissl/NeuralStyleSearch/runs/5m580c0l</a><br/>Synced 5 W&B file(s), 2 media file(s), 2 artifact file(s) and 0 other file(s)"
      ]
     },
     "metadata": {},
     "output_type": "display_data"
    },
    {
     "data": {
      "text/plain": [
       "<IPython.core.display.HTML object>"
      ],
      "text/html": [
       "Find logs at: <code>./wandb/run-20241206_093056-5m580c0l/logs</code>"
      ]
     },
     "metadata": {},
     "output_type": "display_data"
    },
    {
     "data": {
      "text/plain": [
       "<IPython.core.display.HTML object>"
      ],
      "text/html": [
       "Successfully finished last run (ID:5m580c0l). Initializing new run:<br/>"
      ]
     },
     "metadata": {},
     "output_type": "display_data"
    },
    {
     "data": {
      "text/plain": [
       "VBox(children=(Label(value='Waiting for wandb.init()...\\r'), FloatProgress(value=0.016668973166573172, max=1.0…"
      ],
      "application/vnd.jupyter.widget-view+json": {
       "version_major": 2,
       "version_minor": 0,
       "model_id": "9c710c7612fd478598cd082f50b5dc72"
      }
     },
     "metadata": {},
     "output_type": "display_data"
    },
    {
     "data": {
      "text/plain": [
       "<IPython.core.display.HTML object>"
      ],
      "text/html": [
       "wandb version 0.19.0 is available!  To upgrade, please run:\n",
       " $ pip install wandb --upgrade"
      ]
     },
     "metadata": {},
     "output_type": "display_data"
    },
    {
     "data": {
      "text/plain": [
       "<IPython.core.display.HTML object>"
      ],
      "text/html": [
       "Tracking run with wandb version 0.13.5"
      ]
     },
     "metadata": {},
     "output_type": "display_data"
    },
    {
     "data": {
      "text/plain": [
       "<IPython.core.display.HTML object>"
      ],
      "text/html": [
       "Run data is saved locally in <code>/home/oliver/PycharmProjects/NeuralStyle/examples/wandb/run-20241206_093149-q8mvhslm</code>"
      ]
     },
     "metadata": {},
     "output_type": "display_data"
    },
    {
     "data": {
      "text/plain": [
       "<IPython.core.display.HTML object>"
      ],
      "text/html": [
       "Syncing run <strong><a href=\"https://wandb.ai/oliverweissl/NeuralStyleSearch/runs/q8mvhslm\" target=\"_blank\">eager-feather-1259</a></strong> to <a href=\"https://wandb.ai/oliverweissl/NeuralStyleSearch\" target=\"_blank\">Weights & Biases</a> (<a href=\"https://wandb.me/run\" target=\"_blank\">docs</a>)<br/>"
      ]
     },
     "metadata": {},
     "output_type": "display_data"
    },
    {
     "data": {
      "text/plain": [
       "<IPython.core.display.HTML object>"
      ],
      "text/html": [
       "Finishing last run (ID:q8mvhslm) before initializing another..."
      ]
     },
     "metadata": {},
     "output_type": "display_data"
    },
    {
     "data": {
      "text/plain": [
       "<IPython.core.display.HTML object>"
      ],
      "text/html": [
       "Waiting for W&B process to finish... <strong style=\"color:green\">(success).</strong>"
      ]
     },
     "metadata": {},
     "output_type": "display_data"
    },
    {
     "data": {
      "text/plain": [
       "<IPython.core.display.HTML object>"
      ],
      "text/html": [
       "<style>\n",
       "    table.wandb td:nth-child(1) { padding: 0 10px; text-align: left ; width: auto;} td:nth-child(2) {text-align: left ; width: 100%}\n",
       "    .wandb-row { display: flex; flex-direction: row; flex-wrap: wrap; justify-content: flex-start; width: 100% }\n",
       "    .wandb-col { display: flex; flex-direction: column; flex-basis: 100%; flex: 1; padding: 10px; }\n",
       "    </style>\n",
       "<div class=\"wandb-row\"><div class=\"wandb-col\"><h3>Run history:</h3><br/><table class=\"wandb\"><tr><td>max_NaiveCB</td><td>▄▂▁▆▆▂▇▆▂▅▅▇▇▂▂▆▆█▁▄█▆▄▃▄▃▂▅▁▃▄▆▇█▂▂▃▄▆▄</td></tr><tr><td>mean_NaiveCB</td><td>▃▄▂▅▅▅██▄▅▅▆▁▃▆▇█▄▄▄▂▅▄▆▄▃▂▆▇▃▄▇▄▅▁▄▄▃▄▆</td></tr><tr><td>min_NaiveCB</td><td>▆▇▅▇▇█▆█▇█▆▇▁████▇██▅▇▇█▆▆▇▇█▄▇▇▂▇▁▇▇▅██</td></tr><tr><td>std_NaiveCB</td><td>▅▃▄▂▃▂▃▂▂▂▃▂█▁▁▁▂▃▂▂▆▃▃▂▃▄▃▂▁▅▃▃▆▃▇▃▂▄▂▁</td></tr></table><br/></div><div class=\"wandb-col\"><h3>Run summary:</h3><br/><table class=\"wandb\"><tr><td>expected_boundary</td><td>6</td></tr><tr><td>max_NaiveCB</td><td>0.99961</td></tr><tr><td>mean_NaiveCB</td><td>0.99927</td></tr><tr><td>min_NaiveCB</td><td>0.99839</td></tr><tr><td>std_NaiveCB</td><td>0.0002</td></tr><tr><td>w0_trials</td><td>1</td></tr><tr><td>wn_trials</td><td>1</td></tr></table><br/></div></div>"
      ]
     },
     "metadata": {},
     "output_type": "display_data"
    },
    {
     "data": {
      "text/plain": [
       "<IPython.core.display.HTML object>"
      ],
      "text/html": [
       "Synced <strong style=\"color:#cdcd00\">eager-feather-1259</strong>: <a href=\"https://wandb.ai/oliverweissl/NeuralStyleSearch/runs/q8mvhslm\" target=\"_blank\">https://wandb.ai/oliverweissl/NeuralStyleSearch/runs/q8mvhslm</a><br/>Synced 5 W&B file(s), 2 media file(s), 2 artifact file(s) and 0 other file(s)"
      ]
     },
     "metadata": {},
     "output_type": "display_data"
    },
    {
     "data": {
      "text/plain": [
       "<IPython.core.display.HTML object>"
      ],
      "text/html": [
       "Find logs at: <code>./wandb/run-20241206_093149-q8mvhslm/logs</code>"
      ]
     },
     "metadata": {},
     "output_type": "display_data"
    },
    {
     "data": {
      "text/plain": [
       "<IPython.core.display.HTML object>"
      ],
      "text/html": [
       "Successfully finished last run (ID:q8mvhslm). Initializing new run:<br/>"
      ]
     },
     "metadata": {},
     "output_type": "display_data"
    },
    {
     "data": {
      "text/plain": [
       "VBox(children=(Label(value='Waiting for wandb.init()...\\r'), FloatProgress(value=0.016668067450033654, max=1.0…"
      ],
      "application/vnd.jupyter.widget-view+json": {
       "version_major": 2,
       "version_minor": 0,
       "model_id": "1d6fbcbe339c4dc0b869b086ba65d183"
      }
     },
     "metadata": {},
     "output_type": "display_data"
    },
    {
     "data": {
      "text/plain": [
       "<IPython.core.display.HTML object>"
      ],
      "text/html": [
       "wandb version 0.19.0 is available!  To upgrade, please run:\n",
       " $ pip install wandb --upgrade"
      ]
     },
     "metadata": {},
     "output_type": "display_data"
    },
    {
     "data": {
      "text/plain": [
       "<IPython.core.display.HTML object>"
      ],
      "text/html": [
       "Tracking run with wandb version 0.13.5"
      ]
     },
     "metadata": {},
     "output_type": "display_data"
    },
    {
     "data": {
      "text/plain": [
       "<IPython.core.display.HTML object>"
      ],
      "text/html": [
       "Run data is saved locally in <code>/home/oliver/PycharmProjects/NeuralStyle/examples/wandb/run-20241206_093242-288ex1xw</code>"
      ]
     },
     "metadata": {},
     "output_type": "display_data"
    },
    {
     "data": {
      "text/plain": [
       "<IPython.core.display.HTML object>"
      ],
      "text/html": [
       "Syncing run <strong><a href=\"https://wandb.ai/oliverweissl/NeuralStyleSearch/runs/288ex1xw\" target=\"_blank\">elated-lake-1260</a></strong> to <a href=\"https://wandb.ai/oliverweissl/NeuralStyleSearch\" target=\"_blank\">Weights & Biases</a> (<a href=\"https://wandb.me/run\" target=\"_blank\">docs</a>)<br/>"
      ]
     },
     "metadata": {},
     "output_type": "display_data"
    },
    {
     "data": {
      "text/plain": [
       "<IPython.core.display.HTML object>"
      ],
      "text/html": [
       "Finishing last run (ID:288ex1xw) before initializing another..."
      ]
     },
     "metadata": {},
     "output_type": "display_data"
    },
    {
     "data": {
      "text/plain": [
       "<IPython.core.display.HTML object>"
      ],
      "text/html": [
       "Waiting for W&B process to finish... <strong style=\"color:green\">(success).</strong>"
      ]
     },
     "metadata": {},
     "output_type": "display_data"
    },
    {
     "data": {
      "text/plain": [
       "<IPython.core.display.HTML object>"
      ],
      "text/html": [
       "<style>\n",
       "    table.wandb td:nth-child(1) { padding: 0 10px; text-align: left ; width: auto;} td:nth-child(2) {text-align: left ; width: 100%}\n",
       "    .wandb-row { display: flex; flex-direction: row; flex-wrap: wrap; justify-content: flex-start; width: 100% }\n",
       "    .wandb-col { display: flex; flex-direction: column; flex-basis: 100%; flex: 1; padding: 10px; }\n",
       "    </style>\n",
       "<div class=\"wandb-row\"><div class=\"wandb-col\"><h3>Run history:</h3><br/><table class=\"wandb\"><tr><td>max_NaiveCB</td><td>▅▆▃▆▅█▆▄▄▄▄▇▃▇▅▂▆▃▆▂▃▇▇▄▆▆▅▂▄▃▄▃▆▅▇▅▅▆▄▁</td></tr><tr><td>mean_NaiveCB</td><td>▃▅▅▆▇▇▃▄▇▅▅▆▂▅▅▂▅▁▇▁▄▇▇▆▄▆▄▅▄▄▇▂▆▅▅▆█▇▅▆</td></tr><tr><td>min_NaiveCB</td><td>▆▆▄▆█▆▅▅▃▇▃▅▃▅▆▆▅▄▇▄▅█▂▅▅▁▇▃▄▆▇▃▅▆▃▄▇▇▅▆</td></tr><tr><td>std_NaiveCB</td><td>▇▅▄▃▁▄▆█▆▂▆▆▇▆▄▅▅▇▁▅▇▁█▃▄▇▂▅▇▄▂▇▃▂▅▄▂▅▅▂</td></tr></table><br/></div><div class=\"wandb-col\"><h3>Run summary:</h3><br/><table class=\"wandb\"><tr><td>expected_boundary</td><td>3</td></tr><tr><td>max_NaiveCB</td><td>0.99988</td></tr><tr><td>mean_NaiveCB</td><td>0.99986</td></tr><tr><td>min_NaiveCB</td><td>0.99983</td></tr><tr><td>std_NaiveCB</td><td>1e-05</td></tr><tr><td>w0_trials</td><td>1</td></tr><tr><td>wn_trials</td><td>1</td></tr></table><br/></div></div>"
      ]
     },
     "metadata": {},
     "output_type": "display_data"
    },
    {
     "data": {
      "text/plain": [
       "<IPython.core.display.HTML object>"
      ],
      "text/html": [
       "Synced <strong style=\"color:#cdcd00\">elated-lake-1260</strong>: <a href=\"https://wandb.ai/oliverweissl/NeuralStyleSearch/runs/288ex1xw\" target=\"_blank\">https://wandb.ai/oliverweissl/NeuralStyleSearch/runs/288ex1xw</a><br/>Synced 5 W&B file(s), 2 media file(s), 2 artifact file(s) and 0 other file(s)"
      ]
     },
     "metadata": {},
     "output_type": "display_data"
    },
    {
     "data": {
      "text/plain": [
       "<IPython.core.display.HTML object>"
      ],
      "text/html": [
       "Find logs at: <code>./wandb/run-20241206_093242-288ex1xw/logs</code>"
      ]
     },
     "metadata": {},
     "output_type": "display_data"
    },
    {
     "data": {
      "text/plain": [
       "<IPython.core.display.HTML object>"
      ],
      "text/html": [
       "Successfully finished last run (ID:288ex1xw). Initializing new run:<br/>"
      ]
     },
     "metadata": {},
     "output_type": "display_data"
    },
    {
     "data": {
      "text/plain": [
       "VBox(children=(Label(value='Waiting for wandb.init()...\\r'), FloatProgress(value=0.01666939321682245, max=1.0)…"
      ],
      "application/vnd.jupyter.widget-view+json": {
       "version_major": 2,
       "version_minor": 0,
       "model_id": "d0270776f80a49c0a6208db007cf5b76"
      }
     },
     "metadata": {},
     "output_type": "display_data"
    },
    {
     "data": {
      "text/plain": [
       "<IPython.core.display.HTML object>"
      ],
      "text/html": [
       "wandb version 0.19.0 is available!  To upgrade, please run:\n",
       " $ pip install wandb --upgrade"
      ]
     },
     "metadata": {},
     "output_type": "display_data"
    },
    {
     "data": {
      "text/plain": [
       "<IPython.core.display.HTML object>"
      ],
      "text/html": [
       "Tracking run with wandb version 0.13.5"
      ]
     },
     "metadata": {},
     "output_type": "display_data"
    },
    {
     "data": {
      "text/plain": [
       "<IPython.core.display.HTML object>"
      ],
      "text/html": [
       "Run data is saved locally in <code>/home/oliver/PycharmProjects/NeuralStyle/examples/wandb/run-20241206_093336-3jdsbn56</code>"
      ]
     },
     "metadata": {},
     "output_type": "display_data"
    },
    {
     "data": {
      "text/plain": [
       "<IPython.core.display.HTML object>"
      ],
      "text/html": [
       "Syncing run <strong><a href=\"https://wandb.ai/oliverweissl/NeuralStyleSearch/runs/3jdsbn56\" target=\"_blank\">upbeat-jazz-1261</a></strong> to <a href=\"https://wandb.ai/oliverweissl/NeuralStyleSearch\" target=\"_blank\">Weights & Biases</a> (<a href=\"https://wandb.me/run\" target=\"_blank\">docs</a>)<br/>"
      ]
     },
     "metadata": {},
     "output_type": "display_data"
    },
    {
     "data": {
      "text/plain": [
       "<IPython.core.display.HTML object>"
      ],
      "text/html": [
       "Finishing last run (ID:3jdsbn56) before initializing another..."
      ]
     },
     "metadata": {},
     "output_type": "display_data"
    },
    {
     "data": {
      "text/plain": [
       "<IPython.core.display.HTML object>"
      ],
      "text/html": [
       "Waiting for W&B process to finish... <strong style=\"color:green\">(success).</strong>"
      ]
     },
     "metadata": {},
     "output_type": "display_data"
    },
    {
     "data": {
      "text/plain": [
       "<IPython.core.display.HTML object>"
      ],
      "text/html": [
       "<style>\n",
       "    table.wandb td:nth-child(1) { padding: 0 10px; text-align: left ; width: auto;} td:nth-child(2) {text-align: left ; width: 100%}\n",
       "    .wandb-row { display: flex; flex-direction: row; flex-wrap: wrap; justify-content: flex-start; width: 100% }\n",
       "    .wandb-col { display: flex; flex-direction: column; flex-basis: 100%; flex: 1; padding: 10px; }\n",
       "    </style>\n",
       "<div class=\"wandb-row\"><div class=\"wandb-col\"><h3>Run history:</h3><br/><table class=\"wandb\"><tr><td>max_NaiveCB</td><td>▆▆█▅▅▅▄█▄▆█▄▄▂▆▄█▁▃█▅▆▃▅▅█▄▃▅▄▂▃▆▃▄▆▅▅▅▃</td></tr><tr><td>mean_NaiveCB</td><td>▆▆▁▆▄▆█▆▁▄▇▄▇█▅▅▇▅▇▃▅▅▆▅▃▆▆▄▇▇▃▇▅▆▇▄▆▆▄▇</td></tr><tr><td>min_NaiveCB</td><td>▆█▆██▇█▇▅▁▆█▆█▇███▇▅▇▇█▆▇▇██▆▇▇▇▂██▇██▇█</td></tr><tr><td>std_NaiveCB</td><td>▅▂▄▁▂▃▂▂▄█▂▂▃▁▃▂▂▂▂▅▂▃▁▃▃▃▁▁▃▂▂▁▇▁▂▂▁▂▃▁</td></tr></table><br/></div><div class=\"wandb-col\"><h3>Run summary:</h3><br/><table class=\"wandb\"><tr><td>expected_boundary</td><td>9</td></tr><tr><td>max_NaiveCB</td><td>0.99992</td></tr><tr><td>mean_NaiveCB</td><td>0.9999</td></tr><tr><td>min_NaiveCB</td><td>0.99987</td></tr><tr><td>std_NaiveCB</td><td>1e-05</td></tr><tr><td>w0_trials</td><td>1</td></tr><tr><td>wn_trials</td><td>1</td></tr></table><br/></div></div>"
      ]
     },
     "metadata": {},
     "output_type": "display_data"
    },
    {
     "data": {
      "text/plain": [
       "<IPython.core.display.HTML object>"
      ],
      "text/html": [
       "Synced <strong style=\"color:#cdcd00\">upbeat-jazz-1261</strong>: <a href=\"https://wandb.ai/oliverweissl/NeuralStyleSearch/runs/3jdsbn56\" target=\"_blank\">https://wandb.ai/oliverweissl/NeuralStyleSearch/runs/3jdsbn56</a><br/>Synced 5 W&B file(s), 2 media file(s), 2 artifact file(s) and 0 other file(s)"
      ]
     },
     "metadata": {},
     "output_type": "display_data"
    },
    {
     "data": {
      "text/plain": [
       "<IPython.core.display.HTML object>"
      ],
      "text/html": [
       "Find logs at: <code>./wandb/run-20241206_093336-3jdsbn56/logs</code>"
      ]
     },
     "metadata": {},
     "output_type": "display_data"
    },
    {
     "data": {
      "text/plain": [
       "<IPython.core.display.HTML object>"
      ],
      "text/html": [
       "Successfully finished last run (ID:3jdsbn56). Initializing new run:<br/>"
      ]
     },
     "metadata": {},
     "output_type": "display_data"
    },
    {
     "data": {
      "text/plain": [
       "VBox(children=(Label(value='Waiting for wandb.init()...\\r'), FloatProgress(value=0.016668808350126105, max=1.0…"
      ],
      "application/vnd.jupyter.widget-view+json": {
       "version_major": 2,
       "version_minor": 0,
       "model_id": "3a2960cd171a4db1b2d1e41be9f2ab3b"
      }
     },
     "metadata": {},
     "output_type": "display_data"
    },
    {
     "data": {
      "text/plain": [
       "<IPython.core.display.HTML object>"
      ],
      "text/html": [
       "wandb version 0.19.0 is available!  To upgrade, please run:\n",
       " $ pip install wandb --upgrade"
      ]
     },
     "metadata": {},
     "output_type": "display_data"
    },
    {
     "data": {
      "text/plain": [
       "<IPython.core.display.HTML object>"
      ],
      "text/html": [
       "Tracking run with wandb version 0.13.5"
      ]
     },
     "metadata": {},
     "output_type": "display_data"
    },
    {
     "data": {
      "text/plain": [
       "<IPython.core.display.HTML object>"
      ],
      "text/html": [
       "Run data is saved locally in <code>/home/oliver/PycharmProjects/NeuralStyle/examples/wandb/run-20241206_093429-trx35bku</code>"
      ]
     },
     "metadata": {},
     "output_type": "display_data"
    },
    {
     "data": {
      "text/plain": [
       "<IPython.core.display.HTML object>"
      ],
      "text/html": [
       "Syncing run <strong><a href=\"https://wandb.ai/oliverweissl/NeuralStyleSearch/runs/trx35bku\" target=\"_blank\">sunny-river-1262</a></strong> to <a href=\"https://wandb.ai/oliverweissl/NeuralStyleSearch\" target=\"_blank\">Weights & Biases</a> (<a href=\"https://wandb.me/run\" target=\"_blank\">docs</a>)<br/>"
      ]
     },
     "metadata": {},
     "output_type": "display_data"
    },
    {
     "data": {
      "text/plain": [
       "<IPython.core.display.HTML object>"
      ],
      "text/html": [
       "Finishing last run (ID:trx35bku) before initializing another..."
      ]
     },
     "metadata": {},
     "output_type": "display_data"
    },
    {
     "data": {
      "text/plain": [
       "<IPython.core.display.HTML object>"
      ],
      "text/html": [
       "Waiting for W&B process to finish... <strong style=\"color:green\">(success).</strong>"
      ]
     },
     "metadata": {},
     "output_type": "display_data"
    },
    {
     "data": {
      "text/plain": [
       "VBox(children=(Label(value='0.009 MB of 0.009 MB uploaded (0.000 MB deduped)\\r'), FloatProgress(value=0.933509…"
      ],
      "application/vnd.jupyter.widget-view+json": {
       "version_major": 2,
       "version_minor": 0,
       "model_id": "63ef2c053b334a9e8e7db15edb049cee"
      }
     },
     "metadata": {},
     "output_type": "display_data"
    },
    {
     "data": {
      "text/plain": [
       "<IPython.core.display.HTML object>"
      ],
      "text/html": [
       "<style>\n",
       "    table.wandb td:nth-child(1) { padding: 0 10px; text-align: left ; width: auto;} td:nth-child(2) {text-align: left ; width: 100%}\n",
       "    .wandb-row { display: flex; flex-direction: row; flex-wrap: wrap; justify-content: flex-start; width: 100% }\n",
       "    .wandb-col { display: flex; flex-direction: column; flex-basis: 100%; flex: 1; padding: 10px; }\n",
       "    </style>\n",
       "<div class=\"wandb-row\"><div class=\"wandb-col\"><h3>Run history:</h3><br/><table class=\"wandb\"><tr><td>max_NaiveCB</td><td>▃█▄▅▄▅▃▅▄▇▆▄▄▄▄▂▄▅▆▅▃▁▅▆▄▄▄▃█▃▃▆▄▄▅▅▅▃▁▅</td></tr><tr><td>mean_NaiveCB</td><td>▇▇▄▅▂▄▅▅▃▄▅▇█▅▇▅▆██▆▇▃▄▄█▄▁▅▂▁▃▅▃▆▇▃▅▅▇▃</td></tr><tr><td>min_NaiveCB</td><td>▇▆█▇▆▇▇▆▇▇▅▇█▆█▇▇█▇▆█▂▆▆█▆▁█▇▇▇▂▆▇▇▅▇▇█▆</td></tr><tr><td>std_NaiveCB</td><td>▂▄▂▃▄▅▃▄▃▂▄▁▁▄▁▂▃▁▂▄▁▇▄▅▂▃█▂▄▃▄▇▄▃▃▅▃▂▁▄</td></tr></table><br/></div><div class=\"wandb-col\"><h3>Run summary:</h3><br/><table class=\"wandb\"><tr><td>expected_boundary</td><td>8</td></tr><tr><td>max_NaiveCB</td><td>0.99528</td></tr><tr><td>mean_NaiveCB</td><td>0.98807</td></tr><tr><td>min_NaiveCB</td><td>0.93995</td></tr><tr><td>std_NaiveCB</td><td>0.00719</td></tr><tr><td>w0_trials</td><td>14</td></tr><tr><td>wn_trials</td><td>1</td></tr></table><br/></div></div>"
      ]
     },
     "metadata": {},
     "output_type": "display_data"
    },
    {
     "data": {
      "text/plain": [
       "<IPython.core.display.HTML object>"
      ],
      "text/html": [
       "Synced <strong style=\"color:#cdcd00\">sunny-river-1262</strong>: <a href=\"https://wandb.ai/oliverweissl/NeuralStyleSearch/runs/trx35bku\" target=\"_blank\">https://wandb.ai/oliverweissl/NeuralStyleSearch/runs/trx35bku</a><br/>Synced 5 W&B file(s), 2 media file(s), 2 artifact file(s) and 0 other file(s)"
      ]
     },
     "metadata": {},
     "output_type": "display_data"
    },
    {
     "data": {
      "text/plain": [
       "<IPython.core.display.HTML object>"
      ],
      "text/html": [
       "Find logs at: <code>./wandb/run-20241206_093429-trx35bku/logs</code>"
      ]
     },
     "metadata": {},
     "output_type": "display_data"
    },
    {
     "data": {
      "text/plain": [
       "<IPython.core.display.HTML object>"
      ],
      "text/html": [
       "Successfully finished last run (ID:trx35bku). Initializing new run:<br/>"
      ]
     },
     "metadata": {},
     "output_type": "display_data"
    },
    {
     "data": {
      "text/plain": [
       "VBox(children=(Label(value='Waiting for wandb.init()...\\r'), FloatProgress(value=0.016668067083325393, max=1.0…"
      ],
      "application/vnd.jupyter.widget-view+json": {
       "version_major": 2,
       "version_minor": 0,
       "model_id": "e3c990b6589b4377a4da5678509d3b39"
      }
     },
     "metadata": {},
     "output_type": "display_data"
    },
    {
     "data": {
      "text/plain": [
       "<IPython.core.display.HTML object>"
      ],
      "text/html": [
       "wandb version 0.19.0 is available!  To upgrade, please run:\n",
       " $ pip install wandb --upgrade"
      ]
     },
     "metadata": {},
     "output_type": "display_data"
    },
    {
     "data": {
      "text/plain": [
       "<IPython.core.display.HTML object>"
      ],
      "text/html": [
       "Tracking run with wandb version 0.13.5"
      ]
     },
     "metadata": {},
     "output_type": "display_data"
    },
    {
     "data": {
      "text/plain": [
       "<IPython.core.display.HTML object>"
      ],
      "text/html": [
       "Run data is saved locally in <code>/home/oliver/PycharmProjects/NeuralStyle/examples/wandb/run-20241206_093523-sq1q3s9c</code>"
      ]
     },
     "metadata": {},
     "output_type": "display_data"
    },
    {
     "data": {
      "text/plain": [
       "<IPython.core.display.HTML object>"
      ],
      "text/html": [
       "Syncing run <strong><a href=\"https://wandb.ai/oliverweissl/NeuralStyleSearch/runs/sq1q3s9c\" target=\"_blank\">fearless-terrain-1263</a></strong> to <a href=\"https://wandb.ai/oliverweissl/NeuralStyleSearch\" target=\"_blank\">Weights & Biases</a> (<a href=\"https://wandb.me/run\" target=\"_blank\">docs</a>)<br/>"
      ]
     },
     "metadata": {},
     "output_type": "display_data"
    },
    {
     "data": {
      "text/plain": [
       "<IPython.core.display.HTML object>"
      ],
      "text/html": [
       "Finishing last run (ID:sq1q3s9c) before initializing another..."
      ]
     },
     "metadata": {},
     "output_type": "display_data"
    },
    {
     "data": {
      "text/plain": [
       "<IPython.core.display.HTML object>"
      ],
      "text/html": [
       "Waiting for W&B process to finish... <strong style=\"color:green\">(success).</strong>"
      ]
     },
     "metadata": {},
     "output_type": "display_data"
    },
    {
     "data": {
      "text/plain": [
       "<IPython.core.display.HTML object>"
      ],
      "text/html": [
       "<style>\n",
       "    table.wandb td:nth-child(1) { padding: 0 10px; text-align: left ; width: auto;} td:nth-child(2) {text-align: left ; width: 100%}\n",
       "    .wandb-row { display: flex; flex-direction: row; flex-wrap: wrap; justify-content: flex-start; width: 100% }\n",
       "    .wandb-col { display: flex; flex-direction: column; flex-basis: 100%; flex: 1; padding: 10px; }\n",
       "    </style>\n",
       "<div class=\"wandb-row\"><div class=\"wandb-col\"><h3>Run history:</h3><br/><table class=\"wandb\"><tr><td>max_NaiveCB</td><td>▆▂▄▅▄▃▅▄▆█▄▂▁▁▆▄▄▄▃▃▄▃▃▅▄▄▆▅▃▃▄▆▄▄▄▄▄▄▂▃</td></tr><tr><td>mean_NaiveCB</td><td>▅▅▂▄▂▄▃▅▅▃▂▄▃▃▃▃█▄▂▃▂▄▆▁▅▃▄▂▃▄▃▇▂▅▃▅▆▄▄▂</td></tr><tr><td>min_NaiveCB</td><td>▅▇▆█▅▆▅▆▅▅▅▆█▆▆▄▇▆▆▆▆▆▆▅▆▇▂▅▃▅▇█▁▅▆▇▇█▇▇</td></tr><tr><td>std_NaiveCB</td><td>▅▂▇▅▇▄▇▃▃▆▆▃▄▆▆▆▁▄▆▆▅▄▃▇▅▄▆▇▅▅▅▁█▄▆▄▁▅▄▅</td></tr></table><br/></div><div class=\"wandb-col\"><h3>Run summary:</h3><br/><table class=\"wandb\"><tr><td>expected_boundary</td><td>8</td></tr><tr><td>max_NaiveCB</td><td>0.99965</td></tr><tr><td>mean_NaiveCB</td><td>0.99938</td></tr><tr><td>min_NaiveCB</td><td>0.99872</td></tr><tr><td>std_NaiveCB</td><td>0.00022</td></tr><tr><td>w0_trials</td><td>1</td></tr><tr><td>wn_trials</td><td>1</td></tr></table><br/></div></div>"
      ]
     },
     "metadata": {},
     "output_type": "display_data"
    },
    {
     "data": {
      "text/plain": [
       "<IPython.core.display.HTML object>"
      ],
      "text/html": [
       "Synced <strong style=\"color:#cdcd00\">fearless-terrain-1263</strong>: <a href=\"https://wandb.ai/oliverweissl/NeuralStyleSearch/runs/sq1q3s9c\" target=\"_blank\">https://wandb.ai/oliverweissl/NeuralStyleSearch/runs/sq1q3s9c</a><br/>Synced 5 W&B file(s), 2 media file(s), 2 artifact file(s) and 0 other file(s)"
      ]
     },
     "metadata": {},
     "output_type": "display_data"
    },
    {
     "data": {
      "text/plain": [
       "<IPython.core.display.HTML object>"
      ],
      "text/html": [
       "Find logs at: <code>./wandb/run-20241206_093523-sq1q3s9c/logs</code>"
      ]
     },
     "metadata": {},
     "output_type": "display_data"
    },
    {
     "data": {
      "text/plain": [
       "<IPython.core.display.HTML object>"
      ],
      "text/html": [
       "Successfully finished last run (ID:sq1q3s9c). Initializing new run:<br/>"
      ]
     },
     "metadata": {},
     "output_type": "display_data"
    },
    {
     "data": {
      "text/plain": [
       "VBox(children=(Label(value='Waiting for wandb.init()...\\r'), FloatProgress(value=0.016668931316720165, max=1.0…"
      ],
      "application/vnd.jupyter.widget-view+json": {
       "version_major": 2,
       "version_minor": 0,
       "model_id": "512b6d371f0e4cc8a5ed4b591fbc339c"
      }
     },
     "metadata": {},
     "output_type": "display_data"
    },
    {
     "data": {
      "text/plain": [
       "<IPython.core.display.HTML object>"
      ],
      "text/html": [
       "wandb version 0.19.0 is available!  To upgrade, please run:\n",
       " $ pip install wandb --upgrade"
      ]
     },
     "metadata": {},
     "output_type": "display_data"
    },
    {
     "data": {
      "text/plain": [
       "<IPython.core.display.HTML object>"
      ],
      "text/html": [
       "Tracking run with wandb version 0.13.5"
      ]
     },
     "metadata": {},
     "output_type": "display_data"
    },
    {
     "data": {
      "text/plain": [
       "<IPython.core.display.HTML object>"
      ],
      "text/html": [
       "Run data is saved locally in <code>/home/oliver/PycharmProjects/NeuralStyle/examples/wandb/run-20241206_093616-tzbwbyjm</code>"
      ]
     },
     "metadata": {},
     "output_type": "display_data"
    },
    {
     "data": {
      "text/plain": [
       "<IPython.core.display.HTML object>"
      ],
      "text/html": [
       "Syncing run <strong><a href=\"https://wandb.ai/oliverweissl/NeuralStyleSearch/runs/tzbwbyjm\" target=\"_blank\">peach-oath-1264</a></strong> to <a href=\"https://wandb.ai/oliverweissl/NeuralStyleSearch\" target=\"_blank\">Weights & Biases</a> (<a href=\"https://wandb.me/run\" target=\"_blank\">docs</a>)<br/>"
      ]
     },
     "metadata": {},
     "output_type": "display_data"
    },
    {
     "data": {
      "text/plain": [
       "<IPython.core.display.HTML object>"
      ],
      "text/html": [
       "Finishing last run (ID:tzbwbyjm) before initializing another..."
      ]
     },
     "metadata": {},
     "output_type": "display_data"
    },
    {
     "data": {
      "text/plain": [
       "<IPython.core.display.HTML object>"
      ],
      "text/html": [
       "Waiting for W&B process to finish... <strong style=\"color:green\">(success).</strong>"
      ]
     },
     "metadata": {},
     "output_type": "display_data"
    },
    {
     "data": {
      "text/plain": [
       "VBox(children=(Label(value='0.009 MB of 0.010 MB uploaded (0.000 MB deduped)\\r'), FloatProgress(value=0.935338…"
      ],
      "application/vnd.jupyter.widget-view+json": {
       "version_major": 2,
       "version_minor": 0,
       "model_id": "afc7e8aa17d346cabbd1ca54a7badc94"
      }
     },
     "metadata": {},
     "output_type": "display_data"
    },
    {
     "data": {
      "text/plain": [
       "<IPython.core.display.HTML object>"
      ],
      "text/html": [
       "<style>\n",
       "    table.wandb td:nth-child(1) { padding: 0 10px; text-align: left ; width: auto;} td:nth-child(2) {text-align: left ; width: 100%}\n",
       "    .wandb-row { display: flex; flex-direction: row; flex-wrap: wrap; justify-content: flex-start; width: 100% }\n",
       "    .wandb-col { display: flex; flex-direction: column; flex-basis: 100%; flex: 1; padding: 10px; }\n",
       "    </style>\n",
       "<div class=\"wandb-row\"><div class=\"wandb-col\"><h3>Run history:</h3><br/><table class=\"wandb\"><tr><td>max_NaiveCB</td><td>▄▁▄▄▅▅▄▆▃▃▃▃▇▄▄▃▃▃▄▃▃▅▃▄▄▄▃▆▃▆▄▁█▄▆▄▃▃▄▄</td></tr><tr><td>mean_NaiveCB</td><td>▁▆▇▇▆▁█▆▃▆▆▅█▆▇▅▆▆█▆▆▇▅▇▄▆▆▆▆▇█▅▄▆▆▄▅▅▇▅</td></tr><tr><td>min_NaiveCB</td><td>▅███▆▁██▇█▇██▇█████▇████▇████████▇▆▇███▇</td></tr><tr><td>std_NaiveCB</td><td>▄▁▁▁▃█▁▁▂▁▁▁▁▂▁▁▁▁▁▁▁▁▁▁▂▁▁▁▂▁▁▁▂▁▃▂▁▂▁▂</td></tr></table><br/></div><div class=\"wandb-col\"><h3>Run summary:</h3><br/><table class=\"wandb\"><tr><td>expected_boundary</td><td>5</td></tr><tr><td>max_NaiveCB</td><td>0.99762</td></tr><tr><td>mean_NaiveCB</td><td>0.99513</td></tr><tr><td>min_NaiveCB</td><td>0.9873</td></tr><tr><td>std_NaiveCB</td><td>0.00145</td></tr><tr><td>w0_trials</td><td>1</td></tr><tr><td>wn_trials</td><td>1</td></tr></table><br/></div></div>"
      ]
     },
     "metadata": {},
     "output_type": "display_data"
    },
    {
     "data": {
      "text/plain": [
       "<IPython.core.display.HTML object>"
      ],
      "text/html": [
       "Synced <strong style=\"color:#cdcd00\">peach-oath-1264</strong>: <a href=\"https://wandb.ai/oliverweissl/NeuralStyleSearch/runs/tzbwbyjm\" target=\"_blank\">https://wandb.ai/oliverweissl/NeuralStyleSearch/runs/tzbwbyjm</a><br/>Synced 5 W&B file(s), 2 media file(s), 2 artifact file(s) and 0 other file(s)"
      ]
     },
     "metadata": {},
     "output_type": "display_data"
    },
    {
     "data": {
      "text/plain": [
       "<IPython.core.display.HTML object>"
      ],
      "text/html": [
       "Find logs at: <code>./wandb/run-20241206_093616-tzbwbyjm/logs</code>"
      ]
     },
     "metadata": {},
     "output_type": "display_data"
    },
    {
     "data": {
      "text/plain": [
       "<IPython.core.display.HTML object>"
      ],
      "text/html": [
       "Successfully finished last run (ID:tzbwbyjm). Initializing new run:<br/>"
      ]
     },
     "metadata": {},
     "output_type": "display_data"
    },
    {
     "data": {
      "text/plain": [
       "VBox(children=(Label(value='Waiting for wandb.init()...\\r'), FloatProgress(value=0.016668074433497774, max=1.0…"
      ],
      "application/vnd.jupyter.widget-view+json": {
       "version_major": 2,
       "version_minor": 0,
       "model_id": "20731468f0334447af32b26150666cf3"
      }
     },
     "metadata": {},
     "output_type": "display_data"
    },
    {
     "data": {
      "text/plain": [
       "<IPython.core.display.HTML object>"
      ],
      "text/html": [
       "wandb version 0.19.0 is available!  To upgrade, please run:\n",
       " $ pip install wandb --upgrade"
      ]
     },
     "metadata": {},
     "output_type": "display_data"
    },
    {
     "data": {
      "text/plain": [
       "<IPython.core.display.HTML object>"
      ],
      "text/html": [
       "Tracking run with wandb version 0.13.5"
      ]
     },
     "metadata": {},
     "output_type": "display_data"
    },
    {
     "data": {
      "text/plain": [
       "<IPython.core.display.HTML object>"
      ],
      "text/html": [
       "Run data is saved locally in <code>/home/oliver/PycharmProjects/NeuralStyle/examples/wandb/run-20241206_093710-a2dhtfug</code>"
      ]
     },
     "metadata": {},
     "output_type": "display_data"
    },
    {
     "data": {
      "text/plain": [
       "<IPython.core.display.HTML object>"
      ],
      "text/html": [
       "Syncing run <strong><a href=\"https://wandb.ai/oliverweissl/NeuralStyleSearch/runs/a2dhtfug\" target=\"_blank\">daily-wave-1265</a></strong> to <a href=\"https://wandb.ai/oliverweissl/NeuralStyleSearch\" target=\"_blank\">Weights & Biases</a> (<a href=\"https://wandb.me/run\" target=\"_blank\">docs</a>)<br/>"
      ]
     },
     "metadata": {},
     "output_type": "display_data"
    },
    {
     "data": {
      "text/plain": [
       "<IPython.core.display.HTML object>"
      ],
      "text/html": [
       "Finishing last run (ID:a2dhtfug) before initializing another..."
      ]
     },
     "metadata": {},
     "output_type": "display_data"
    },
    {
     "data": {
      "text/plain": [
       "<IPython.core.display.HTML object>"
      ],
      "text/html": [
       "Waiting for W&B process to finish... <strong style=\"color:green\">(success).</strong>"
      ]
     },
     "metadata": {},
     "output_type": "display_data"
    },
    {
     "data": {
      "text/plain": [
       "VBox(children=(Label(value='0.009 MB of 0.010 MB uploaded (0.000 MB deduped)\\r'), FloatProgress(value=0.934804…"
      ],
      "application/vnd.jupyter.widget-view+json": {
       "version_major": 2,
       "version_minor": 0,
       "model_id": "114189c06b164293842370d23d13346e"
      }
     },
     "metadata": {},
     "output_type": "display_data"
    },
    {
     "data": {
      "text/plain": [
       "<IPython.core.display.HTML object>"
      ],
      "text/html": [
       "<style>\n",
       "    table.wandb td:nth-child(1) { padding: 0 10px; text-align: left ; width: auto;} td:nth-child(2) {text-align: left ; width: 100%}\n",
       "    .wandb-row { display: flex; flex-direction: row; flex-wrap: wrap; justify-content: flex-start; width: 100% }\n",
       "    .wandb-col { display: flex; flex-direction: column; flex-basis: 100%; flex: 1; padding: 10px; }\n",
       "    </style>\n",
       "<div class=\"wandb-row\"><div class=\"wandb-col\"><h3>Run history:</h3><br/><table class=\"wandb\"><tr><td>max_NaiveCB</td><td>█▁▃▃▃▂▂▂▂▃▂▃▁▁▂▂▂▃▃▂▂▃▄▃▂▂▂▁▄▁▃▄▂▃▃▁▂▂▃▂</td></tr><tr><td>mean_NaiveCB</td><td>█▄▄▂▅▅▄▅▆▅▅▅▃▅▆▄▅▅▁▅▅▃▆▅▁▄▃▅▂▃▄▂▂▃▇▃▃▃▇▂</td></tr><tr><td>min_NaiveCB</td><td>▅▁▂▂▃▇▄▄▆▆▂▁▄▇▄▇▃█▄▆▅▃▅▆▇▁▆▇▃▇█▅▃▂▆▄▂▅▅▃</td></tr><tr><td>std_NaiveCB</td><td>█▄▃▄▅▂▃▃▃▄▃▄▃▁▂▂▄▂▄▃▂▅▄▃▁▅▃▁▄▁▂▃▄▅▃▄▅▂▄▄</td></tr></table><br/></div><div class=\"wandb-col\"><h3>Run summary:</h3><br/><table class=\"wandb\"><tr><td>expected_boundary</td><td>0</td></tr><tr><td>max_NaiveCB</td><td>0.99998</td></tr><tr><td>mean_NaiveCB</td><td>0.99998</td></tr><tr><td>min_NaiveCB</td><td>0.99997</td></tr><tr><td>std_NaiveCB</td><td>0.0</td></tr><tr><td>w0_trials</td><td>1</td></tr><tr><td>wn_trials</td><td>1</td></tr></table><br/></div></div>"
      ]
     },
     "metadata": {},
     "output_type": "display_data"
    },
    {
     "data": {
      "text/plain": [
       "<IPython.core.display.HTML object>"
      ],
      "text/html": [
       "Synced <strong style=\"color:#cdcd00\">daily-wave-1265</strong>: <a href=\"https://wandb.ai/oliverweissl/NeuralStyleSearch/runs/a2dhtfug\" target=\"_blank\">https://wandb.ai/oliverweissl/NeuralStyleSearch/runs/a2dhtfug</a><br/>Synced 5 W&B file(s), 2 media file(s), 2 artifact file(s) and 0 other file(s)"
      ]
     },
     "metadata": {},
     "output_type": "display_data"
    },
    {
     "data": {
      "text/plain": [
       "<IPython.core.display.HTML object>"
      ],
      "text/html": [
       "Find logs at: <code>./wandb/run-20241206_093710-a2dhtfug/logs</code>"
      ]
     },
     "metadata": {},
     "output_type": "display_data"
    },
    {
     "data": {
      "text/plain": [
       "<IPython.core.display.HTML object>"
      ],
      "text/html": [
       "Successfully finished last run (ID:a2dhtfug). Initializing new run:<br/>"
      ]
     },
     "metadata": {},
     "output_type": "display_data"
    },
    {
     "data": {
      "text/plain": [
       "VBox(children=(Label(value='Waiting for wandb.init()...\\r'), FloatProgress(value=0.016668764216592535, max=1.0…"
      ],
      "application/vnd.jupyter.widget-view+json": {
       "version_major": 2,
       "version_minor": 0,
       "model_id": "439849f9681e4476bac653cbc6cf7dbd"
      }
     },
     "metadata": {},
     "output_type": "display_data"
    },
    {
     "data": {
      "text/plain": [
       "<IPython.core.display.HTML object>"
      ],
      "text/html": [
       "wandb version 0.19.0 is available!  To upgrade, please run:\n",
       " $ pip install wandb --upgrade"
      ]
     },
     "metadata": {},
     "output_type": "display_data"
    },
    {
     "data": {
      "text/plain": [
       "<IPython.core.display.HTML object>"
      ],
      "text/html": [
       "Tracking run with wandb version 0.13.5"
      ]
     },
     "metadata": {},
     "output_type": "display_data"
    },
    {
     "data": {
      "text/plain": [
       "<IPython.core.display.HTML object>"
      ],
      "text/html": [
       "Run data is saved locally in <code>/home/oliver/PycharmProjects/NeuralStyle/examples/wandb/run-20241206_093803-pxbmrdf5</code>"
      ]
     },
     "metadata": {},
     "output_type": "display_data"
    },
    {
     "data": {
      "text/plain": [
       "<IPython.core.display.HTML object>"
      ],
      "text/html": [
       "Syncing run <strong><a href=\"https://wandb.ai/oliverweissl/NeuralStyleSearch/runs/pxbmrdf5\" target=\"_blank\">vague-spaceship-1266</a></strong> to <a href=\"https://wandb.ai/oliverweissl/NeuralStyleSearch\" target=\"_blank\">Weights & Biases</a> (<a href=\"https://wandb.me/run\" target=\"_blank\">docs</a>)<br/>"
      ]
     },
     "metadata": {},
     "output_type": "display_data"
    },
    {
     "data": {
      "text/plain": [
       "<IPython.core.display.HTML object>"
      ],
      "text/html": [
       "Finishing last run (ID:pxbmrdf5) before initializing another..."
      ]
     },
     "metadata": {},
     "output_type": "display_data"
    },
    {
     "data": {
      "text/plain": [
       "<IPython.core.display.HTML object>"
      ],
      "text/html": [
       "Waiting for W&B process to finish... <strong style=\"color:green\">(success).</strong>"
      ]
     },
     "metadata": {},
     "output_type": "display_data"
    },
    {
     "data": {
      "text/plain": [
       "VBox(children=(Label(value='0.009 MB of 0.010 MB uploaded (0.000 MB deduped)\\r'), FloatProgress(value=0.934622…"
      ],
      "application/vnd.jupyter.widget-view+json": {
       "version_major": 2,
       "version_minor": 0,
       "model_id": "c3924329104042e0a4c3126b7c1d16e8"
      }
     },
     "metadata": {},
     "output_type": "display_data"
    },
    {
     "data": {
      "text/plain": [
       "<IPython.core.display.HTML object>"
      ],
      "text/html": [
       "<style>\n",
       "    table.wandb td:nth-child(1) { padding: 0 10px; text-align: left ; width: auto;} td:nth-child(2) {text-align: left ; width: 100%}\n",
       "    .wandb-row { display: flex; flex-direction: row; flex-wrap: wrap; justify-content: flex-start; width: 100% }\n",
       "    .wandb-col { display: flex; flex-direction: column; flex-basis: 100%; flex: 1; padding: 10px; }\n",
       "    </style>\n",
       "<div class=\"wandb-row\"><div class=\"wandb-col\"><h3>Run history:</h3><br/><table class=\"wandb\"><tr><td>max_NaiveCB</td><td>▁▄▃▅▂▂▆▄▂▄▅▇▁▃▁▃▁▃▄▅▃▁█▄▃▂▃▃▂▄▂▃▅▃▆▄▃▃▃▅</td></tr><tr><td>mean_NaiveCB</td><td>▄▄▄▆▅▃▄▆▆▇█▅▃▇▃▅▂▃▅▆▄▃▆▆▅▃▅▇▃▇▄▄▅▇▁▇▄▄█▆</td></tr><tr><td>min_NaiveCB</td><td>▄▅▄▅▄▅▄▆▆█▇▃▅▇▃▄▄▄▆▃▅▅▆▇▆▂▄▅▇▆▅█▅▄▁▅▅▅▇█</td></tr><tr><td>std_NaiveCB</td><td>▅▆▇▅▆▅▅▆▃▄▂█▅▅█▆▂▆▇▆▇▄▄▅▃▆▄▅▅▄▄▃▄▄▇▄▆▄▁▃</td></tr></table><br/></div><div class=\"wandb-col\"><h3>Run summary:</h3><br/><table class=\"wandb\"><tr><td>expected_boundary</td><td>5</td></tr><tr><td>max_NaiveCB</td><td>0.99995</td></tr><tr><td>mean_NaiveCB</td><td>0.99995</td></tr><tr><td>min_NaiveCB</td><td>0.99993</td></tr><tr><td>std_NaiveCB</td><td>0.0</td></tr><tr><td>w0_trials</td><td>1</td></tr><tr><td>wn_trials</td><td>1</td></tr></table><br/></div></div>"
      ]
     },
     "metadata": {},
     "output_type": "display_data"
    },
    {
     "data": {
      "text/plain": [
       "<IPython.core.display.HTML object>"
      ],
      "text/html": [
       "Synced <strong style=\"color:#cdcd00\">vague-spaceship-1266</strong>: <a href=\"https://wandb.ai/oliverweissl/NeuralStyleSearch/runs/pxbmrdf5\" target=\"_blank\">https://wandb.ai/oliverweissl/NeuralStyleSearch/runs/pxbmrdf5</a><br/>Synced 5 W&B file(s), 2 media file(s), 2 artifact file(s) and 0 other file(s)"
      ]
     },
     "metadata": {},
     "output_type": "display_data"
    },
    {
     "data": {
      "text/plain": [
       "<IPython.core.display.HTML object>"
      ],
      "text/html": [
       "Find logs at: <code>./wandb/run-20241206_093803-pxbmrdf5/logs</code>"
      ]
     },
     "metadata": {},
     "output_type": "display_data"
    },
    {
     "data": {
      "text/plain": [
       "<IPython.core.display.HTML object>"
      ],
      "text/html": [
       "Successfully finished last run (ID:pxbmrdf5). Initializing new run:<br/>"
      ]
     },
     "metadata": {},
     "output_type": "display_data"
    },
    {
     "data": {
      "text/plain": [
       "VBox(children=(Label(value='Waiting for wandb.init()...\\r'), FloatProgress(value=0.016669779033206093, max=1.0…"
      ],
      "application/vnd.jupyter.widget-view+json": {
       "version_major": 2,
       "version_minor": 0,
       "model_id": "54b09760ff62435a8b14ffde6bbe6b46"
      }
     },
     "metadata": {},
     "output_type": "display_data"
    },
    {
     "data": {
      "text/plain": [
       "<IPython.core.display.HTML object>"
      ],
      "text/html": [
       "wandb version 0.19.0 is available!  To upgrade, please run:\n",
       " $ pip install wandb --upgrade"
      ]
     },
     "metadata": {},
     "output_type": "display_data"
    },
    {
     "data": {
      "text/plain": [
       "<IPython.core.display.HTML object>"
      ],
      "text/html": [
       "Tracking run with wandb version 0.13.5"
      ]
     },
     "metadata": {},
     "output_type": "display_data"
    },
    {
     "data": {
      "text/plain": [
       "<IPython.core.display.HTML object>"
      ],
      "text/html": [
       "Run data is saved locally in <code>/home/oliver/PycharmProjects/NeuralStyle/examples/wandb/run-20241206_093856-2hb2ce88</code>"
      ]
     },
     "metadata": {},
     "output_type": "display_data"
    },
    {
     "data": {
      "text/plain": [
       "<IPython.core.display.HTML object>"
      ],
      "text/html": [
       "Syncing run <strong><a href=\"https://wandb.ai/oliverweissl/NeuralStyleSearch/runs/2hb2ce88\" target=\"_blank\">royal-silence-1267</a></strong> to <a href=\"https://wandb.ai/oliverweissl/NeuralStyleSearch\" target=\"_blank\">Weights & Biases</a> (<a href=\"https://wandb.me/run\" target=\"_blank\">docs</a>)<br/>"
      ]
     },
     "metadata": {},
     "output_type": "display_data"
    },
    {
     "data": {
      "text/plain": [
       "<IPython.core.display.HTML object>"
      ],
      "text/html": [
       "Finishing last run (ID:2hb2ce88) before initializing another..."
      ]
     },
     "metadata": {},
     "output_type": "display_data"
    },
    {
     "data": {
      "text/plain": [
       "<IPython.core.display.HTML object>"
      ],
      "text/html": [
       "Waiting for W&B process to finish... <strong style=\"color:green\">(success).</strong>"
      ]
     },
     "metadata": {},
     "output_type": "display_data"
    },
    {
     "data": {
      "text/plain": [
       "<IPython.core.display.HTML object>"
      ],
      "text/html": [
       "<style>\n",
       "    table.wandb td:nth-child(1) { padding: 0 10px; text-align: left ; width: auto;} td:nth-child(2) {text-align: left ; width: 100%}\n",
       "    .wandb-row { display: flex; flex-direction: row; flex-wrap: wrap; justify-content: flex-start; width: 100% }\n",
       "    .wandb-col { display: flex; flex-direction: column; flex-basis: 100%; flex: 1; padding: 10px; }\n",
       "    </style>\n",
       "<div class=\"wandb-row\"><div class=\"wandb-col\"><h3>Run history:</h3><br/><table class=\"wandb\"><tr><td>max_NaiveCB</td><td>▆▄▅▆▂▂▃▆▄▆▅▄▃▃▅▃▄▄▂▅▇▃▃▃▄▆▃▇▅▅▆▃█▅▂▅▁▃▆▅</td></tr><tr><td>mean_NaiveCB</td><td>▆▆▆██▆▅█▁█▅▅▅▆▆▃▅▆▅▅██▅█▅▅▅▆▆▅▆▅▅▆██▆█▆█</td></tr><tr><td>min_NaiveCB</td><td>▁▃▄▅▅▃▂▇▂▇▅▂▇▆▇▄▁▆▃▂▇▆▆▆▂▇▄▅▃▁▄▄▄▂▆▇▄▅▆█</td></tr><tr><td>std_NaiveCB</td><td>▄▄▄▅▅▄▇▂▅▁▅▆▃▂▃▄▆▂▅▁▂▁▂▃▆▃▄▃▄█▅▃▅▇▂▅▂▄▁▂</td></tr></table><br/></div><div class=\"wandb-col\"><h3>Run summary:</h3><br/><table class=\"wandb\"><tr><td>expected_boundary</td><td>5</td></tr><tr><td>max_NaiveCB</td><td>1.0</td></tr><tr><td>mean_NaiveCB</td><td>0.99999</td></tr><tr><td>min_NaiveCB</td><td>0.99999</td></tr><tr><td>std_NaiveCB</td><td>0.0</td></tr><tr><td>w0_trials</td><td>1</td></tr><tr><td>wn_trials</td><td>1</td></tr></table><br/></div></div>"
      ]
     },
     "metadata": {},
     "output_type": "display_data"
    },
    {
     "data": {
      "text/plain": [
       "<IPython.core.display.HTML object>"
      ],
      "text/html": [
       "Synced <strong style=\"color:#cdcd00\">royal-silence-1267</strong>: <a href=\"https://wandb.ai/oliverweissl/NeuralStyleSearch/runs/2hb2ce88\" target=\"_blank\">https://wandb.ai/oliverweissl/NeuralStyleSearch/runs/2hb2ce88</a><br/>Synced 5 W&B file(s), 2 media file(s), 2 artifact file(s) and 0 other file(s)"
      ]
     },
     "metadata": {},
     "output_type": "display_data"
    },
    {
     "data": {
      "text/plain": [
       "<IPython.core.display.HTML object>"
      ],
      "text/html": [
       "Find logs at: <code>./wandb/run-20241206_093856-2hb2ce88/logs</code>"
      ]
     },
     "metadata": {},
     "output_type": "display_data"
    },
    {
     "data": {
      "text/plain": [
       "<IPython.core.display.HTML object>"
      ],
      "text/html": [
       "Successfully finished last run (ID:2hb2ce88). Initializing new run:<br/>"
      ]
     },
     "metadata": {},
     "output_type": "display_data"
    },
    {
     "data": {
      "text/plain": [
       "VBox(children=(Label(value='Waiting for wandb.init()...\\r'), FloatProgress(value=0.016668909433550046, max=1.0…"
      ],
      "application/vnd.jupyter.widget-view+json": {
       "version_major": 2,
       "version_minor": 0,
       "model_id": "5a44c058073b43ee820c035acbbe1188"
      }
     },
     "metadata": {},
     "output_type": "display_data"
    },
    {
     "data": {
      "text/plain": [
       "<IPython.core.display.HTML object>"
      ],
      "text/html": [
       "wandb version 0.19.0 is available!  To upgrade, please run:\n",
       " $ pip install wandb --upgrade"
      ]
     },
     "metadata": {},
     "output_type": "display_data"
    },
    {
     "data": {
      "text/plain": [
       "<IPython.core.display.HTML object>"
      ],
      "text/html": [
       "Tracking run with wandb version 0.13.5"
      ]
     },
     "metadata": {},
     "output_type": "display_data"
    },
    {
     "data": {
      "text/plain": [
       "<IPython.core.display.HTML object>"
      ],
      "text/html": [
       "Run data is saved locally in <code>/home/oliver/PycharmProjects/NeuralStyle/examples/wandb/run-20241206_093949-0byzru2j</code>"
      ]
     },
     "metadata": {},
     "output_type": "display_data"
    },
    {
     "data": {
      "text/plain": [
       "<IPython.core.display.HTML object>"
      ],
      "text/html": [
       "Syncing run <strong><a href=\"https://wandb.ai/oliverweissl/NeuralStyleSearch/runs/0byzru2j\" target=\"_blank\">generous-jazz-1268</a></strong> to <a href=\"https://wandb.ai/oliverweissl/NeuralStyleSearch\" target=\"_blank\">Weights & Biases</a> (<a href=\"https://wandb.me/run\" target=\"_blank\">docs</a>)<br/>"
      ]
     },
     "metadata": {},
     "output_type": "display_data"
    },
    {
     "data": {
      "text/plain": [
       "<IPython.core.display.HTML object>"
      ],
      "text/html": [
       "Finishing last run (ID:0byzru2j) before initializing another..."
      ]
     },
     "metadata": {},
     "output_type": "display_data"
    },
    {
     "data": {
      "text/plain": [
       "<IPython.core.display.HTML object>"
      ],
      "text/html": [
       "Waiting for W&B process to finish... <strong style=\"color:green\">(success).</strong>"
      ]
     },
     "metadata": {},
     "output_type": "display_data"
    },
    {
     "data": {
      "text/plain": [
       "VBox(children=(Label(value='0.009 MB of 0.009 MB uploaded (0.000 MB deduped)\\r'), FloatProgress(value=0.931494…"
      ],
      "application/vnd.jupyter.widget-view+json": {
       "version_major": 2,
       "version_minor": 0,
       "model_id": "35a540affa0343109ae0a2b0224c369e"
      }
     },
     "metadata": {},
     "output_type": "display_data"
    },
    {
     "data": {
      "text/plain": [
       "<IPython.core.display.HTML object>"
      ],
      "text/html": [
       "<style>\n",
       "    table.wandb td:nth-child(1) { padding: 0 10px; text-align: left ; width: auto;} td:nth-child(2) {text-align: left ; width: 100%}\n",
       "    .wandb-row { display: flex; flex-direction: row; flex-wrap: wrap; justify-content: flex-start; width: 100% }\n",
       "    .wandb-col { display: flex; flex-direction: column; flex-basis: 100%; flex: 1; padding: 10px; }\n",
       "    </style>\n",
       "<div class=\"wandb-row\"><div class=\"wandb-col\"><h3>Run history:</h3><br/><table class=\"wandb\"><tr><td>max_NaiveCB</td><td>▄▄▆█▄▅▃▁▅▄▇▃▇▁▅▄▃▃▆▆▄▄▅▃▅▁▄▆▁▁▇▆▂▄▄▄▄▇▅█</td></tr><tr><td>mean_NaiveCB</td><td>▄▄▅█▅▅▃▄█▅▆▃▄▃▄▅▂▄▆▆▃▅▆▅▄▃▄▆▁▃▃▅▄▄▄▃▃▆▄▃</td></tr><tr><td>min_NaiveCB</td><td>▇▆█▇▇▆▇█▇▁▇█▄▇▇▇▅█▇▆▆▆▇▆▇█▇▇▆█▇▇▆▆▇▆▆▄▃▁</td></tr><tr><td>std_NaiveCB</td><td>▃▃▁▂▂▃▃▁▂▇▃▁▄▂▄▂▅▁▂▃▄▃▁▂▂▁▂▂▃▁▃▂▃▃▂▃▄▅▆█</td></tr></table><br/></div><div class=\"wandb-col\"><h3>Run summary:</h3><br/><table class=\"wandb\"><tr><td>expected_boundary</td><td>5</td></tr><tr><td>max_NaiveCB</td><td>0.99991</td></tr><tr><td>mean_NaiveCB</td><td>0.99991</td></tr><tr><td>min_NaiveCB</td><td>0.99989</td></tr><tr><td>std_NaiveCB</td><td>0.0</td></tr><tr><td>w0_trials</td><td>1</td></tr><tr><td>wn_trials</td><td>1</td></tr></table><br/></div></div>"
      ]
     },
     "metadata": {},
     "output_type": "display_data"
    },
    {
     "data": {
      "text/plain": [
       "<IPython.core.display.HTML object>"
      ],
      "text/html": [
       "Synced <strong style=\"color:#cdcd00\">generous-jazz-1268</strong>: <a href=\"https://wandb.ai/oliverweissl/NeuralStyleSearch/runs/0byzru2j\" target=\"_blank\">https://wandb.ai/oliverweissl/NeuralStyleSearch/runs/0byzru2j</a><br/>Synced 5 W&B file(s), 2 media file(s), 2 artifact file(s) and 0 other file(s)"
      ]
     },
     "metadata": {},
     "output_type": "display_data"
    },
    {
     "data": {
      "text/plain": [
       "<IPython.core.display.HTML object>"
      ],
      "text/html": [
       "Find logs at: <code>./wandb/run-20241206_093949-0byzru2j/logs</code>"
      ]
     },
     "metadata": {},
     "output_type": "display_data"
    },
    {
     "data": {
      "text/plain": [
       "<IPython.core.display.HTML object>"
      ],
      "text/html": [
       "Successfully finished last run (ID:0byzru2j). Initializing new run:<br/>"
      ]
     },
     "metadata": {},
     "output_type": "display_data"
    },
    {
     "data": {
      "text/plain": [
       "VBox(children=(Label(value='Waiting for wandb.init()...\\r'), FloatProgress(value=0.01667045195014604, max=1.0)…"
      ],
      "application/vnd.jupyter.widget-view+json": {
       "version_major": 2,
       "version_minor": 0,
       "model_id": "0233f811207642208f95edc238430258"
      }
     },
     "metadata": {},
     "output_type": "display_data"
    },
    {
     "data": {
      "text/plain": [
       "<IPython.core.display.HTML object>"
      ],
      "text/html": [
       "wandb version 0.19.0 is available!  To upgrade, please run:\n",
       " $ pip install wandb --upgrade"
      ]
     },
     "metadata": {},
     "output_type": "display_data"
    },
    {
     "data": {
      "text/plain": [
       "<IPython.core.display.HTML object>"
      ],
      "text/html": [
       "Tracking run with wandb version 0.13.5"
      ]
     },
     "metadata": {},
     "output_type": "display_data"
    },
    {
     "data": {
      "text/plain": [
       "<IPython.core.display.HTML object>"
      ],
      "text/html": [
       "Run data is saved locally in <code>/home/oliver/PycharmProjects/NeuralStyle/examples/wandb/run-20241206_094043-i860m0nr</code>"
      ]
     },
     "metadata": {},
     "output_type": "display_data"
    },
    {
     "data": {
      "text/plain": [
       "<IPython.core.display.HTML object>"
      ],
      "text/html": [
       "Syncing run <strong><a href=\"https://wandb.ai/oliverweissl/NeuralStyleSearch/runs/i860m0nr\" target=\"_blank\">fanciful-snowball-1269</a></strong> to <a href=\"https://wandb.ai/oliverweissl/NeuralStyleSearch\" target=\"_blank\">Weights & Biases</a> (<a href=\"https://wandb.me/run\" target=\"_blank\">docs</a>)<br/>"
      ]
     },
     "metadata": {},
     "output_type": "display_data"
    },
    {
     "data": {
      "text/plain": [
       "<IPython.core.display.HTML object>"
      ],
      "text/html": [
       "Finishing last run (ID:i860m0nr) before initializing another..."
      ]
     },
     "metadata": {},
     "output_type": "display_data"
    },
    {
     "data": {
      "text/plain": [
       "<IPython.core.display.HTML object>"
      ],
      "text/html": [
       "Waiting for W&B process to finish... <strong style=\"color:green\">(success).</strong>"
      ]
     },
     "metadata": {},
     "output_type": "display_data"
    },
    {
     "data": {
      "text/plain": [
       "<IPython.core.display.HTML object>"
      ],
      "text/html": [
       "<style>\n",
       "    table.wandb td:nth-child(1) { padding: 0 10px; text-align: left ; width: auto;} td:nth-child(2) {text-align: left ; width: 100%}\n",
       "    .wandb-row { display: flex; flex-direction: row; flex-wrap: wrap; justify-content: flex-start; width: 100% }\n",
       "    .wandb-col { display: flex; flex-direction: column; flex-basis: 100%; flex: 1; padding: 10px; }\n",
       "    </style>\n",
       "<div class=\"wandb-row\"><div class=\"wandb-col\"><h3>Run history:</h3><br/><table class=\"wandb\"><tr><td>max_NaiveCB</td><td>▄▅▃▇▅▇▅▅▅▅▄▂▆▄▆▆█▆▃▆▆▁▄▇▃▆▄▅▅▅▆▅▆▄▄▆▆▄▃▅</td></tr><tr><td>mean_NaiveCB</td><td>▄▄▁▄▃█▆▅▄▅▂▃▄▇▁▃▅▃▆▄▄▄▄▄▄▅▃▅▅▂▃▅▆▆▄▆▅▂▄▄</td></tr><tr><td>min_NaiveCB</td><td>▆▅▄▇▇▇█▇▆▇▆▆▅█▄▃▂▄▅▆▁▇▇▄▇▅▇▇▆▄▃█▅█▇▇▅▁▃█</td></tr><tr><td>std_NaiveCB</td><td>▄▅▇▄▄▂▂▃▄▄▅▄▇▁▆▆█▆▄▄▇▂▃▅▁▄▃▃▄▆▆▁▅▂▃▂▅█▇▂</td></tr></table><br/></div><div class=\"wandb-col\"><h3>Run summary:</h3><br/><table class=\"wandb\"><tr><td>expected_boundary</td><td>0</td></tr><tr><td>max_NaiveCB</td><td>0.998</td></tr><tr><td>mean_NaiveCB</td><td>0.99717</td></tr><tr><td>min_NaiveCB</td><td>0.99487</td></tr><tr><td>std_NaiveCB</td><td>0.00049</td></tr><tr><td>w0_trials</td><td>1</td></tr><tr><td>wn_trials</td><td>1</td></tr></table><br/></div></div>"
      ]
     },
     "metadata": {},
     "output_type": "display_data"
    },
    {
     "data": {
      "text/plain": [
       "<IPython.core.display.HTML object>"
      ],
      "text/html": [
       "Synced <strong style=\"color:#cdcd00\">fanciful-snowball-1269</strong>: <a href=\"https://wandb.ai/oliverweissl/NeuralStyleSearch/runs/i860m0nr\" target=\"_blank\">https://wandb.ai/oliverweissl/NeuralStyleSearch/runs/i860m0nr</a><br/>Synced 5 W&B file(s), 2 media file(s), 2 artifact file(s) and 0 other file(s)"
      ]
     },
     "metadata": {},
     "output_type": "display_data"
    },
    {
     "data": {
      "text/plain": [
       "<IPython.core.display.HTML object>"
      ],
      "text/html": [
       "Find logs at: <code>./wandb/run-20241206_094043-i860m0nr/logs</code>"
      ]
     },
     "metadata": {},
     "output_type": "display_data"
    },
    {
     "data": {
      "text/plain": [
       "<IPython.core.display.HTML object>"
      ],
      "text/html": [
       "Successfully finished last run (ID:i860m0nr). Initializing new run:<br/>"
      ]
     },
     "metadata": {},
     "output_type": "display_data"
    },
    {
     "data": {
      "text/plain": [
       "VBox(children=(Label(value='Waiting for wandb.init()...\\r'), FloatProgress(value=0.016670163233357016, max=1.0…"
      ],
      "application/vnd.jupyter.widget-view+json": {
       "version_major": 2,
       "version_minor": 0,
       "model_id": "2b71a75bdb0e4e32908464ecf3dc712a"
      }
     },
     "metadata": {},
     "output_type": "display_data"
    },
    {
     "data": {
      "text/plain": [
       "<IPython.core.display.HTML object>"
      ],
      "text/html": [
       "wandb version 0.19.0 is available!  To upgrade, please run:\n",
       " $ pip install wandb --upgrade"
      ]
     },
     "metadata": {},
     "output_type": "display_data"
    },
    {
     "data": {
      "text/plain": [
       "<IPython.core.display.HTML object>"
      ],
      "text/html": [
       "Tracking run with wandb version 0.13.5"
      ]
     },
     "metadata": {},
     "output_type": "display_data"
    },
    {
     "data": {
      "text/plain": [
       "<IPython.core.display.HTML object>"
      ],
      "text/html": [
       "Run data is saved locally in <code>/home/oliver/PycharmProjects/NeuralStyle/examples/wandb/run-20241206_094136-hap73s56</code>"
      ]
     },
     "metadata": {},
     "output_type": "display_data"
    },
    {
     "data": {
      "text/plain": [
       "<IPython.core.display.HTML object>"
      ],
      "text/html": [
       "Syncing run <strong><a href=\"https://wandb.ai/oliverweissl/NeuralStyleSearch/runs/hap73s56\" target=\"_blank\">azure-dawn-1270</a></strong> to <a href=\"https://wandb.ai/oliverweissl/NeuralStyleSearch\" target=\"_blank\">Weights & Biases</a> (<a href=\"https://wandb.me/run\" target=\"_blank\">docs</a>)<br/>"
      ]
     },
     "metadata": {},
     "output_type": "display_data"
    },
    {
     "data": {
      "text/plain": [
       "<IPython.core.display.HTML object>"
      ],
      "text/html": [
       "Finishing last run (ID:hap73s56) before initializing another..."
      ]
     },
     "metadata": {},
     "output_type": "display_data"
    },
    {
     "data": {
      "text/plain": [
       "<IPython.core.display.HTML object>"
      ],
      "text/html": [
       "Waiting for W&B process to finish... <strong style=\"color:green\">(success).</strong>"
      ]
     },
     "metadata": {},
     "output_type": "display_data"
    },
    {
     "data": {
      "text/plain": [
       "<IPython.core.display.HTML object>"
      ],
      "text/html": [
       "<style>\n",
       "    table.wandb td:nth-child(1) { padding: 0 10px; text-align: left ; width: auto;} td:nth-child(2) {text-align: left ; width: 100%}\n",
       "    .wandb-row { display: flex; flex-direction: row; flex-wrap: wrap; justify-content: flex-start; width: 100% }\n",
       "    .wandb-col { display: flex; flex-direction: column; flex-basis: 100%; flex: 1; padding: 10px; }\n",
       "    </style>\n",
       "<div class=\"wandb-row\"><div class=\"wandb-col\"><h3>Run history:</h3><br/><table class=\"wandb\"><tr><td>max_NaiveCB</td><td>▅▁▄▆▅▅▄▂█▃▅▄▃▅▃▄▂▄▅▆▅▅▃▂▆▄▄▆▃▃▅▅▄▄▅▅▅▂▄▃</td></tr><tr><td>mean_NaiveCB</td><td>▄▃▅▇▄▄▅▂█▄▄▅▇▃▅▇▆▄▆▆▅▄▆▄▆▄▄▅▆▄▃▃▅▅▃▅▆▁▄▃</td></tr><tr><td>min_NaiveCB</td><td>█▆▇▅▄▆▁▅▇▇▇▆▆▆▇█▃▄▇▇▄▄▅▇█▆▃▇▇▆▆▄▅▄▅▆▆▂▇▃</td></tr><tr><td>std_NaiveCB</td><td>▄▆▃▄▄▄▇▆▂▄▄▄▅▆▃▃▇▅▄▄▆█▄▃▂▄▆▃▁▃▄█▆▆▅▅▄▆▂▅</td></tr></table><br/></div><div class=\"wandb-col\"><h3>Run summary:</h3><br/><table class=\"wandb\"><tr><td>expected_boundary</td><td>5</td></tr><tr><td>max_NaiveCB</td><td>0.99983</td></tr><tr><td>mean_NaiveCB</td><td>0.99979</td></tr><tr><td>min_NaiveCB</td><td>0.99968</td></tr><tr><td>std_NaiveCB</td><td>2e-05</td></tr><tr><td>w0_trials</td><td>1</td></tr><tr><td>wn_trials</td><td>1</td></tr></table><br/></div></div>"
      ]
     },
     "metadata": {},
     "output_type": "display_data"
    },
    {
     "data": {
      "text/plain": [
       "<IPython.core.display.HTML object>"
      ],
      "text/html": [
       "Synced <strong style=\"color:#cdcd00\">azure-dawn-1270</strong>: <a href=\"https://wandb.ai/oliverweissl/NeuralStyleSearch/runs/hap73s56\" target=\"_blank\">https://wandb.ai/oliverweissl/NeuralStyleSearch/runs/hap73s56</a><br/>Synced 5 W&B file(s), 2 media file(s), 2 artifact file(s) and 0 other file(s)"
      ]
     },
     "metadata": {},
     "output_type": "display_data"
    },
    {
     "data": {
      "text/plain": [
       "<IPython.core.display.HTML object>"
      ],
      "text/html": [
       "Find logs at: <code>./wandb/run-20241206_094136-hap73s56/logs</code>"
      ]
     },
     "metadata": {},
     "output_type": "display_data"
    },
    {
     "data": {
      "text/plain": [
       "<IPython.core.display.HTML object>"
      ],
      "text/html": [
       "Successfully finished last run (ID:hap73s56). Initializing new run:<br/>"
      ]
     },
     "metadata": {},
     "output_type": "display_data"
    },
    {
     "data": {
      "text/plain": [
       "VBox(children=(Label(value='Waiting for wandb.init()...\\r'), FloatProgress(value=0.01666981531695152, max=1.0)…"
      ],
      "application/vnd.jupyter.widget-view+json": {
       "version_major": 2,
       "version_minor": 0,
       "model_id": "70b4b3ca53954338b52a306e7be572f3"
      }
     },
     "metadata": {},
     "output_type": "display_data"
    },
    {
     "data": {
      "text/plain": [
       "<IPython.core.display.HTML object>"
      ],
      "text/html": [
       "wandb version 0.19.0 is available!  To upgrade, please run:\n",
       " $ pip install wandb --upgrade"
      ]
     },
     "metadata": {},
     "output_type": "display_data"
    },
    {
     "data": {
      "text/plain": [
       "<IPython.core.display.HTML object>"
      ],
      "text/html": [
       "Tracking run with wandb version 0.13.5"
      ]
     },
     "metadata": {},
     "output_type": "display_data"
    },
    {
     "data": {
      "text/plain": [
       "<IPython.core.display.HTML object>"
      ],
      "text/html": [
       "Run data is saved locally in <code>/home/oliver/PycharmProjects/NeuralStyle/examples/wandb/run-20241206_094229-3lwvm52q</code>"
      ]
     },
     "metadata": {},
     "output_type": "display_data"
    },
    {
     "data": {
      "text/plain": [
       "<IPython.core.display.HTML object>"
      ],
      "text/html": [
       "Syncing run <strong><a href=\"https://wandb.ai/oliverweissl/NeuralStyleSearch/runs/3lwvm52q\" target=\"_blank\">decent-flower-1271</a></strong> to <a href=\"https://wandb.ai/oliverweissl/NeuralStyleSearch\" target=\"_blank\">Weights & Biases</a> (<a href=\"https://wandb.me/run\" target=\"_blank\">docs</a>)<br/>"
      ]
     },
     "metadata": {},
     "output_type": "display_data"
    },
    {
     "data": {
      "text/plain": [
       "<IPython.core.display.HTML object>"
      ],
      "text/html": [
       "Finishing last run (ID:3lwvm52q) before initializing another..."
      ]
     },
     "metadata": {},
     "output_type": "display_data"
    },
    {
     "data": {
      "text/plain": [
       "<IPython.core.display.HTML object>"
      ],
      "text/html": [
       "Waiting for W&B process to finish... <strong style=\"color:green\">(success).</strong>"
      ]
     },
     "metadata": {},
     "output_type": "display_data"
    },
    {
     "data": {
      "text/plain": [
       "VBox(children=(Label(value='0.009 MB of 0.010 MB uploaded (0.000 MB deduped)\\r'), FloatProgress(value=0.934102…"
      ],
      "application/vnd.jupyter.widget-view+json": {
       "version_major": 2,
       "version_minor": 0,
       "model_id": "406bac49ac8248068a0df7b6c23fd62d"
      }
     },
     "metadata": {},
     "output_type": "display_data"
    },
    {
     "data": {
      "text/plain": [
       "<IPython.core.display.HTML object>"
      ],
      "text/html": [
       "<style>\n",
       "    table.wandb td:nth-child(1) { padding: 0 10px; text-align: left ; width: auto;} td:nth-child(2) {text-align: left ; width: 100%}\n",
       "    .wandb-row { display: flex; flex-direction: row; flex-wrap: wrap; justify-content: flex-start; width: 100% }\n",
       "    .wandb-col { display: flex; flex-direction: column; flex-basis: 100%; flex: 1; padding: 10px; }\n",
       "    </style>\n",
       "<div class=\"wandb-row\"><div class=\"wandb-col\"><h3>Run history:</h3><br/><table class=\"wandb\"><tr><td>max_NaiveCB</td><td>▂▆▆▇▆▅▇▆▆▆▇▇▇▇▃█▇▄▅▆▇▇█▄▅▅▆▁▅█▇▇█▆▇▇▆▇▇▇</td></tr><tr><td>mean_NaiveCB</td><td>▇█▃▅█▄▄▅▆▃▆▅▂▆▅▄▆▅▇█▅▇▇▁▄▃▇▄▆▄▆▄▆▄▃█▂▅▅▅</td></tr><tr><td>min_NaiveCB</td><td>█▇▃▇▇▇▅██▁▅▆▇▅▇▇▇▆▂█▄█▇▇▇▇█▆▇▇▇▇▁▅▄▇▇▂▇▆</td></tr><tr><td>std_NaiveCB</td><td>▂▃▆▄▂▃▅▃▃▆▃▅▅▄▂▄▄▄▅▂▇▃▃▄▄▃▂▃▄▆▄▃█▅▇▁▄▇▃▅</td></tr></table><br/></div><div class=\"wandb-col\"><h3>Run summary:</h3><br/><table class=\"wandb\"><tr><td>expected_boundary</td><td>5</td></tr><tr><td>max_NaiveCB</td><td>0.99998</td></tr><tr><td>mean_NaiveCB</td><td>0.99998</td></tr><tr><td>min_NaiveCB</td><td>0.99997</td></tr><tr><td>std_NaiveCB</td><td>0.0</td></tr><tr><td>w0_trials</td><td>1</td></tr><tr><td>wn_trials</td><td>1</td></tr></table><br/></div></div>"
      ]
     },
     "metadata": {},
     "output_type": "display_data"
    },
    {
     "data": {
      "text/plain": [
       "<IPython.core.display.HTML object>"
      ],
      "text/html": [
       "Synced <strong style=\"color:#cdcd00\">decent-flower-1271</strong>: <a href=\"https://wandb.ai/oliverweissl/NeuralStyleSearch/runs/3lwvm52q\" target=\"_blank\">https://wandb.ai/oliverweissl/NeuralStyleSearch/runs/3lwvm52q</a><br/>Synced 5 W&B file(s), 2 media file(s), 2 artifact file(s) and 0 other file(s)"
      ]
     },
     "metadata": {},
     "output_type": "display_data"
    },
    {
     "data": {
      "text/plain": [
       "<IPython.core.display.HTML object>"
      ],
      "text/html": [
       "Find logs at: <code>./wandb/run-20241206_094229-3lwvm52q/logs</code>"
      ]
     },
     "metadata": {},
     "output_type": "display_data"
    },
    {
     "data": {
      "text/plain": [
       "<IPython.core.display.HTML object>"
      ],
      "text/html": [
       "Successfully finished last run (ID:3lwvm52q). Initializing new run:<br/>"
      ]
     },
     "metadata": {},
     "output_type": "display_data"
    },
    {
     "data": {
      "text/plain": [
       "VBox(children=(Label(value='Waiting for wandb.init()...\\r'), FloatProgress(value=0.016668873200251254, max=1.0…"
      ],
      "application/vnd.jupyter.widget-view+json": {
       "version_major": 2,
       "version_minor": 0,
       "model_id": "57e038fb0daf4070b87211c618a191b3"
      }
     },
     "metadata": {},
     "output_type": "display_data"
    },
    {
     "data": {
      "text/plain": [
       "<IPython.core.display.HTML object>"
      ],
      "text/html": [
       "wandb version 0.19.0 is available!  To upgrade, please run:\n",
       " $ pip install wandb --upgrade"
      ]
     },
     "metadata": {},
     "output_type": "display_data"
    },
    {
     "data": {
      "text/plain": [
       "<IPython.core.display.HTML object>"
      ],
      "text/html": [
       "Tracking run with wandb version 0.13.5"
      ]
     },
     "metadata": {},
     "output_type": "display_data"
    },
    {
     "data": {
      "text/plain": [
       "<IPython.core.display.HTML object>"
      ],
      "text/html": [
       "Run data is saved locally in <code>/home/oliver/PycharmProjects/NeuralStyle/examples/wandb/run-20241206_094323-9ex82v4h</code>"
      ]
     },
     "metadata": {},
     "output_type": "display_data"
    },
    {
     "data": {
      "text/plain": [
       "<IPython.core.display.HTML object>"
      ],
      "text/html": [
       "Syncing run <strong><a href=\"https://wandb.ai/oliverweissl/NeuralStyleSearch/runs/9ex82v4h\" target=\"_blank\">fresh-vortex-1272</a></strong> to <a href=\"https://wandb.ai/oliverweissl/NeuralStyleSearch\" target=\"_blank\">Weights & Biases</a> (<a href=\"https://wandb.me/run\" target=\"_blank\">docs</a>)<br/>"
      ]
     },
     "metadata": {},
     "output_type": "display_data"
    },
    {
     "data": {
      "text/plain": [
       "<IPython.core.display.HTML object>"
      ],
      "text/html": [
       "Finishing last run (ID:9ex82v4h) before initializing another..."
      ]
     },
     "metadata": {},
     "output_type": "display_data"
    },
    {
     "data": {
      "text/plain": [
       "<IPython.core.display.HTML object>"
      ],
      "text/html": [
       "Waiting for W&B process to finish... <strong style=\"color:green\">(success).</strong>"
      ]
     },
     "metadata": {},
     "output_type": "display_data"
    },
    {
     "data": {
      "text/plain": [
       "<IPython.core.display.HTML object>"
      ],
      "text/html": [
       "<style>\n",
       "    table.wandb td:nth-child(1) { padding: 0 10px; text-align: left ; width: auto;} td:nth-child(2) {text-align: left ; width: 100%}\n",
       "    .wandb-row { display: flex; flex-direction: row; flex-wrap: wrap; justify-content: flex-start; width: 100% }\n",
       "    .wandb-col { display: flex; flex-direction: column; flex-basis: 100%; flex: 1; padding: 10px; }\n",
       "    </style>\n",
       "<div class=\"wandb-row\"><div class=\"wandb-col\"><h3>Run history:</h3><br/><table class=\"wandb\"><tr><td>max_NaiveCB</td><td>█▅▄▄▃▅▂▃▄▄▅▂▃▅▅▄▄▅▆▂▁▅▃▄▃▂▅▃▁▃▅▃▆▃▃▂▃▅▃▄</td></tr><tr><td>mean_NaiveCB</td><td>▅▄▃▆█▄▇▆▃▆▆▄▁▅▅▂▆▆▅▄▄▆▃▅▇▃▇▅▅▅▄▅▅▅▅▃▄▆▅▆</td></tr><tr><td>min_NaiveCB</td><td>█▆▄▇█▇█▆▅▃▇▄▁█▅▅▅██▆▇▇▇██▇▆▇▇▇▆█▇▇▆▆▅▆█▆</td></tr><tr><td>std_NaiveCB</td><td>▃▅▅▃▁▃▂▃▅▅▃▅█▃▄▇▄▃▃▄▃▃▄▃▂▄▃▃▃▃▄▃▃▄▄▅▅▄▃▃</td></tr></table><br/></div><div class=\"wandb-col\"><h3>Run summary:</h3><br/><table class=\"wandb\"><tr><td>expected_boundary</td><td>5</td></tr><tr><td>max_NaiveCB</td><td>0.99998</td></tr><tr><td>mean_NaiveCB</td><td>0.99997</td></tr><tr><td>min_NaiveCB</td><td>0.99992</td></tr><tr><td>std_NaiveCB</td><td>1e-05</td></tr><tr><td>w0_trials</td><td>1</td></tr><tr><td>wn_trials</td><td>1</td></tr></table><br/></div></div>"
      ]
     },
     "metadata": {},
     "output_type": "display_data"
    },
    {
     "data": {
      "text/plain": [
       "<IPython.core.display.HTML object>"
      ],
      "text/html": [
       "Synced <strong style=\"color:#cdcd00\">fresh-vortex-1272</strong>: <a href=\"https://wandb.ai/oliverweissl/NeuralStyleSearch/runs/9ex82v4h\" target=\"_blank\">https://wandb.ai/oliverweissl/NeuralStyleSearch/runs/9ex82v4h</a><br/>Synced 5 W&B file(s), 2 media file(s), 2 artifact file(s) and 0 other file(s)"
      ]
     },
     "metadata": {},
     "output_type": "display_data"
    },
    {
     "data": {
      "text/plain": [
       "<IPython.core.display.HTML object>"
      ],
      "text/html": [
       "Find logs at: <code>./wandb/run-20241206_094323-9ex82v4h/logs</code>"
      ]
     },
     "metadata": {},
     "output_type": "display_data"
    },
    {
     "data": {
      "text/plain": [
       "<IPython.core.display.HTML object>"
      ],
      "text/html": [
       "Successfully finished last run (ID:9ex82v4h). Initializing new run:<br/>"
      ]
     },
     "metadata": {},
     "output_type": "display_data"
    },
    {
     "data": {
      "text/plain": [
       "VBox(children=(Label(value='Waiting for wandb.init()...\\r'), FloatProgress(value=0.016671589916707794, max=1.0…"
      ],
      "application/vnd.jupyter.widget-view+json": {
       "version_major": 2,
       "version_minor": 0,
       "model_id": "656d6af94c794c25a5e3f70216af9009"
      }
     },
     "metadata": {},
     "output_type": "display_data"
    },
    {
     "data": {
      "text/plain": [
       "<IPython.core.display.HTML object>"
      ],
      "text/html": [
       "wandb version 0.19.0 is available!  To upgrade, please run:\n",
       " $ pip install wandb --upgrade"
      ]
     },
     "metadata": {},
     "output_type": "display_data"
    },
    {
     "data": {
      "text/plain": [
       "<IPython.core.display.HTML object>"
      ],
      "text/html": [
       "Tracking run with wandb version 0.13.5"
      ]
     },
     "metadata": {},
     "output_type": "display_data"
    },
    {
     "data": {
      "text/plain": [
       "<IPython.core.display.HTML object>"
      ],
      "text/html": [
       "Run data is saved locally in <code>/home/oliver/PycharmProjects/NeuralStyle/examples/wandb/run-20241206_094416-hh2xkpra</code>"
      ]
     },
     "metadata": {},
     "output_type": "display_data"
    },
    {
     "data": {
      "text/plain": [
       "<IPython.core.display.HTML object>"
      ],
      "text/html": [
       "Syncing run <strong><a href=\"https://wandb.ai/oliverweissl/NeuralStyleSearch/runs/hh2xkpra\" target=\"_blank\">summer-planet-1273</a></strong> to <a href=\"https://wandb.ai/oliverweissl/NeuralStyleSearch\" target=\"_blank\">Weights & Biases</a> (<a href=\"https://wandb.me/run\" target=\"_blank\">docs</a>)<br/>"
      ]
     },
     "metadata": {},
     "output_type": "display_data"
    },
    {
     "data": {
      "text/plain": [
       "<IPython.core.display.HTML object>"
      ],
      "text/html": [
       "Finishing last run (ID:hh2xkpra) before initializing another..."
      ]
     },
     "metadata": {},
     "output_type": "display_data"
    },
    {
     "data": {
      "text/plain": [
       "<IPython.core.display.HTML object>"
      ],
      "text/html": [
       "Waiting for W&B process to finish... <strong style=\"color:green\">(success).</strong>"
      ]
     },
     "metadata": {},
     "output_type": "display_data"
    },
    {
     "data": {
      "text/plain": [
       "<IPython.core.display.HTML object>"
      ],
      "text/html": [
       "<style>\n",
       "    table.wandb td:nth-child(1) { padding: 0 10px; text-align: left ; width: auto;} td:nth-child(2) {text-align: left ; width: 100%}\n",
       "    .wandb-row { display: flex; flex-direction: row; flex-wrap: wrap; justify-content: flex-start; width: 100% }\n",
       "    .wandb-col { display: flex; flex-direction: column; flex-basis: 100%; flex: 1; padding: 10px; }\n",
       "    </style>\n",
       "<div class=\"wandb-row\"><div class=\"wandb-col\"><h3>Run history:</h3><br/><table class=\"wandb\"><tr><td>max_NaiveCB</td><td>▄▅▅▃▄▂▄▆▃▄▁▃▆▃▄▂▃▅▆▄▂▆▄▃█▅▃▅▆▄▅▇▂▃▅▁▃▄▄▂</td></tr><tr><td>mean_NaiveCB</td><td>▅▅▆▅▃▅▃▃▆█▅▃█▅▆▅▆▅▅▃▃▅▅▅▅▅▁▅▅▁▅▁▃▆█▅▅▆▃▆</td></tr><tr><td>min_NaiveCB</td><td>▃▆▆▆▂▅▅▅▅▆▄▅█▆▄▃▇▅▅▄▃▄▆▆▅▄▆▇▆▅▃▄▅▃▇▄▁▃▄█</td></tr><tr><td>std_NaiveCB</td><td>█▃▆▂▃▂▅█▄▂▂█▃▃▆▃▄▃▆▄▆▄▃▄▂▆▃▁▂▃▄▇▄▇▃▄▂▃█▁</td></tr></table><br/></div><div class=\"wandb-col\"><h3>Run summary:</h3><br/><table class=\"wandb\"><tr><td>expected_boundary</td><td>9</td></tr><tr><td>max_NaiveCB</td><td>0.99999</td></tr><tr><td>mean_NaiveCB</td><td>0.99999</td></tr><tr><td>min_NaiveCB</td><td>0.99999</td></tr><tr><td>std_NaiveCB</td><td>0.0</td></tr><tr><td>w0_trials</td><td>1</td></tr><tr><td>wn_trials</td><td>1</td></tr></table><br/></div></div>"
      ]
     },
     "metadata": {},
     "output_type": "display_data"
    },
    {
     "data": {
      "text/plain": [
       "<IPython.core.display.HTML object>"
      ],
      "text/html": [
       "Synced <strong style=\"color:#cdcd00\">summer-planet-1273</strong>: <a href=\"https://wandb.ai/oliverweissl/NeuralStyleSearch/runs/hh2xkpra\" target=\"_blank\">https://wandb.ai/oliverweissl/NeuralStyleSearch/runs/hh2xkpra</a><br/>Synced 5 W&B file(s), 2 media file(s), 2 artifact file(s) and 0 other file(s)"
      ]
     },
     "metadata": {},
     "output_type": "display_data"
    },
    {
     "data": {
      "text/plain": [
       "<IPython.core.display.HTML object>"
      ],
      "text/html": [
       "Find logs at: <code>./wandb/run-20241206_094416-hh2xkpra/logs</code>"
      ]
     },
     "metadata": {},
     "output_type": "display_data"
    },
    {
     "data": {
      "text/plain": [
       "<IPython.core.display.HTML object>"
      ],
      "text/html": [
       "Successfully finished last run (ID:hh2xkpra). Initializing new run:<br/>"
      ]
     },
     "metadata": {},
     "output_type": "display_data"
    },
    {
     "data": {
      "text/plain": [
       "VBox(children=(Label(value='Waiting for wandb.init()...\\r'), FloatProgress(value=0.016668107299968444, max=1.0…"
      ],
      "application/vnd.jupyter.widget-view+json": {
       "version_major": 2,
       "version_minor": 0,
       "model_id": "9eae480cbfec40c491cddfcd97315ac6"
      }
     },
     "metadata": {},
     "output_type": "display_data"
    },
    {
     "data": {
      "text/plain": [
       "<IPython.core.display.HTML object>"
      ],
      "text/html": [
       "wandb version 0.19.0 is available!  To upgrade, please run:\n",
       " $ pip install wandb --upgrade"
      ]
     },
     "metadata": {},
     "output_type": "display_data"
    },
    {
     "data": {
      "text/plain": [
       "<IPython.core.display.HTML object>"
      ],
      "text/html": [
       "Tracking run with wandb version 0.13.5"
      ]
     },
     "metadata": {},
     "output_type": "display_data"
    },
    {
     "data": {
      "text/plain": [
       "<IPython.core.display.HTML object>"
      ],
      "text/html": [
       "Run data is saved locally in <code>/home/oliver/PycharmProjects/NeuralStyle/examples/wandb/run-20241206_094510-e03xsfp3</code>"
      ]
     },
     "metadata": {},
     "output_type": "display_data"
    },
    {
     "data": {
      "text/plain": [
       "<IPython.core.display.HTML object>"
      ],
      "text/html": [
       "Syncing run <strong><a href=\"https://wandb.ai/oliverweissl/NeuralStyleSearch/runs/e03xsfp3\" target=\"_blank\">glorious-frog-1274</a></strong> to <a href=\"https://wandb.ai/oliverweissl/NeuralStyleSearch\" target=\"_blank\">Weights & Biases</a> (<a href=\"https://wandb.me/run\" target=\"_blank\">docs</a>)<br/>"
      ]
     },
     "metadata": {},
     "output_type": "display_data"
    },
    {
     "data": {
      "text/plain": [
       "<IPython.core.display.HTML object>"
      ],
      "text/html": [
       "Finishing last run (ID:e03xsfp3) before initializing another..."
      ]
     },
     "metadata": {},
     "output_type": "display_data"
    },
    {
     "data": {
      "text/plain": [
       "<IPython.core.display.HTML object>"
      ],
      "text/html": [
       "Waiting for W&B process to finish... <strong style=\"color:green\">(success).</strong>"
      ]
     },
     "metadata": {},
     "output_type": "display_data"
    },
    {
     "data": {
      "text/plain": [
       "<IPython.core.display.HTML object>"
      ],
      "text/html": [
       "<style>\n",
       "    table.wandb td:nth-child(1) { padding: 0 10px; text-align: left ; width: auto;} td:nth-child(2) {text-align: left ; width: 100%}\n",
       "    .wandb-row { display: flex; flex-direction: row; flex-wrap: wrap; justify-content: flex-start; width: 100% }\n",
       "    .wandb-col { display: flex; flex-direction: column; flex-basis: 100%; flex: 1; padding: 10px; }\n",
       "    </style>\n",
       "<div class=\"wandb-row\"><div class=\"wandb-col\"><h3>Run history:</h3><br/><table class=\"wandb\"><tr><td>max_NaiveCB</td><td>▂▁▄▄▇▅▅▃▇▄▆█▆▆▃▂▃▆█▂▄▂▂▆▄▅▆▁▅▆▄▇▃▅▂▅▄▇▄▃</td></tr><tr><td>mean_NaiveCB</td><td>▅▁▄▆▃▄▆▂▄▅▄▃▇▄▂▄▃▃▃▄▅▄▃█▅▆▅▄▆▆▇▂▃▆▆▇▇▄▅▇</td></tr><tr><td>min_NaiveCB</td><td>▇▅▄▂▅▁▄▄▄▅▅▃▅▄▅▄▄▄▄▇▃▆▄▄▄▅▄▄▅▆▅▄▅▅▆▅█▁▅▃</td></tr><tr><td>std_NaiveCB</td><td>▁▁▇▅▅▅█▄█▆▄▇▆▆▂▃▆▆▅▂▆▃▅▄▆▇▆▆▄▃▄▄▄▆▂▅▃▇▆▄</td></tr></table><br/></div><div class=\"wandb-col\"><h3>Run summary:</h3><br/><table class=\"wandb\"><tr><td>expected_boundary</td><td>9</td></tr><tr><td>max_NaiveCB</td><td>0.99989</td></tr><tr><td>mean_NaiveCB</td><td>0.99985</td></tr><tr><td>min_NaiveCB</td><td>0.9998</td></tr><tr><td>std_NaiveCB</td><td>2e-05</td></tr><tr><td>w0_trials</td><td>1</td></tr><tr><td>wn_trials</td><td>1</td></tr></table><br/></div></div>"
      ]
     },
     "metadata": {},
     "output_type": "display_data"
    },
    {
     "data": {
      "text/plain": [
       "<IPython.core.display.HTML object>"
      ],
      "text/html": [
       "Synced <strong style=\"color:#cdcd00\">glorious-frog-1274</strong>: <a href=\"https://wandb.ai/oliverweissl/NeuralStyleSearch/runs/e03xsfp3\" target=\"_blank\">https://wandb.ai/oliverweissl/NeuralStyleSearch/runs/e03xsfp3</a><br/>Synced 5 W&B file(s), 2 media file(s), 2 artifact file(s) and 0 other file(s)"
      ]
     },
     "metadata": {},
     "output_type": "display_data"
    },
    {
     "data": {
      "text/plain": [
       "<IPython.core.display.HTML object>"
      ],
      "text/html": [
       "Find logs at: <code>./wandb/run-20241206_094510-e03xsfp3/logs</code>"
      ]
     },
     "metadata": {},
     "output_type": "display_data"
    },
    {
     "data": {
      "text/plain": [
       "<IPython.core.display.HTML object>"
      ],
      "text/html": [
       "Successfully finished last run (ID:e03xsfp3). Initializing new run:<br/>"
      ]
     },
     "metadata": {},
     "output_type": "display_data"
    },
    {
     "data": {
      "text/plain": [
       "VBox(children=(Label(value='Waiting for wandb.init()...\\r'), FloatProgress(value=0.016670617300163334, max=1.0…"
      ],
      "application/vnd.jupyter.widget-view+json": {
       "version_major": 2,
       "version_minor": 0,
       "model_id": "f1ff7a8ac1f64774bb4bc56143cdba15"
      }
     },
     "metadata": {},
     "output_type": "display_data"
    },
    {
     "data": {
      "text/plain": [
       "<IPython.core.display.HTML object>"
      ],
      "text/html": [
       "wandb version 0.19.0 is available!  To upgrade, please run:\n",
       " $ pip install wandb --upgrade"
      ]
     },
     "metadata": {},
     "output_type": "display_data"
    },
    {
     "data": {
      "text/plain": [
       "<IPython.core.display.HTML object>"
      ],
      "text/html": [
       "Tracking run with wandb version 0.13.5"
      ]
     },
     "metadata": {},
     "output_type": "display_data"
    },
    {
     "data": {
      "text/plain": [
       "<IPython.core.display.HTML object>"
      ],
      "text/html": [
       "Run data is saved locally in <code>/home/oliver/PycharmProjects/NeuralStyle/examples/wandb/run-20241206_094604-ba467q46</code>"
      ]
     },
     "metadata": {},
     "output_type": "display_data"
    },
    {
     "data": {
      "text/plain": [
       "<IPython.core.display.HTML object>"
      ],
      "text/html": [
       "Syncing run <strong><a href=\"https://wandb.ai/oliverweissl/NeuralStyleSearch/runs/ba467q46\" target=\"_blank\">rich-totem-1275</a></strong> to <a href=\"https://wandb.ai/oliverweissl/NeuralStyleSearch\" target=\"_blank\">Weights & Biases</a> (<a href=\"https://wandb.me/run\" target=\"_blank\">docs</a>)<br/>"
      ]
     },
     "metadata": {},
     "output_type": "display_data"
    },
    {
     "data": {
      "text/plain": [
       "<IPython.core.display.HTML object>"
      ],
      "text/html": [
       "Finishing last run (ID:ba467q46) before initializing another..."
      ]
     },
     "metadata": {},
     "output_type": "display_data"
    },
    {
     "data": {
      "text/plain": [
       "<IPython.core.display.HTML object>"
      ],
      "text/html": [
       "Waiting for W&B process to finish... <strong style=\"color:green\">(success).</strong>"
      ]
     },
     "metadata": {},
     "output_type": "display_data"
    },
    {
     "data": {
      "text/plain": [
       "<IPython.core.display.HTML object>"
      ],
      "text/html": [
       "<style>\n",
       "    table.wandb td:nth-child(1) { padding: 0 10px; text-align: left ; width: auto;} td:nth-child(2) {text-align: left ; width: 100%}\n",
       "    .wandb-row { display: flex; flex-direction: row; flex-wrap: wrap; justify-content: flex-start; width: 100% }\n",
       "    .wandb-col { display: flex; flex-direction: column; flex-basis: 100%; flex: 1; padding: 10px; }\n",
       "    </style>\n",
       "<div class=\"wandb-row\"><div class=\"wandb-col\"><h3>Run history:</h3><br/><table class=\"wandb\"><tr><td>max_NaiveCB</td><td>▄▅▅█▆▂▇▁▅▆▂▆▂▆▇▂▂▆▅▇▆▇▅▅▅▅▆▆▆▅▄▁▁▂▄▆█▆▆▇</td></tr><tr><td>mean_NaiveCB</td><td>▆▇▇▆▅▇▅█▇▆█▁▇▄▄██▇▇▄▆▇▇▆▇▄▅▅▆▇▆█▆▆▆▇▇▇▇▇</td></tr><tr><td>min_NaiveCB</td><td>▅▇▇▇▆▆▅▇▇▆▇▁▇▄▄██▇▆▄▆▇▇▄▆▆▆▂▆▇▆▇▅▃▇▇▇▇▇▇</td></tr><tr><td>std_NaiveCB</td><td>▃▂▂▃▃▂▄▁▂▃▁█▂▅▄▁▁▂▂▄▃▂▂▄▂▃▃▅▃▂▃▁▃▄▂▂▂▂▂▂</td></tr></table><br/></div><div class=\"wandb-col\"><h3>Run summary:</h3><br/><table class=\"wandb\"><tr><td>expected_boundary</td><td>2</td></tr><tr><td>max_NaiveCB</td><td>0.99972</td></tr><tr><td>mean_NaiveCB</td><td>0.99314</td></tr><tr><td>min_NaiveCB</td><td>0.41795</td></tr><tr><td>std_NaiveCB</td><td>0.05784</td></tr><tr><td>w0_trials</td><td>1</td></tr><tr><td>wn_trials</td><td>1</td></tr></table><br/></div></div>"
      ]
     },
     "metadata": {},
     "output_type": "display_data"
    },
    {
     "data": {
      "text/plain": [
       "<IPython.core.display.HTML object>"
      ],
      "text/html": [
       "Synced <strong style=\"color:#cdcd00\">rich-totem-1275</strong>: <a href=\"https://wandb.ai/oliverweissl/NeuralStyleSearch/runs/ba467q46\" target=\"_blank\">https://wandb.ai/oliverweissl/NeuralStyleSearch/runs/ba467q46</a><br/>Synced 5 W&B file(s), 2 media file(s), 2 artifact file(s) and 0 other file(s)"
      ]
     },
     "metadata": {},
     "output_type": "display_data"
    },
    {
     "data": {
      "text/plain": [
       "<IPython.core.display.HTML object>"
      ],
      "text/html": [
       "Find logs at: <code>./wandb/run-20241206_094604-ba467q46/logs</code>"
      ]
     },
     "metadata": {},
     "output_type": "display_data"
    },
    {
     "data": {
      "text/plain": [
       "<IPython.core.display.HTML object>"
      ],
      "text/html": [
       "Successfully finished last run (ID:ba467q46). Initializing new run:<br/>"
      ]
     },
     "metadata": {},
     "output_type": "display_data"
    },
    {
     "data": {
      "text/plain": [
       "VBox(children=(Label(value='Waiting for wandb.init()...\\r'), FloatProgress(value=0.016668905450205784, max=1.0…"
      ],
      "application/vnd.jupyter.widget-view+json": {
       "version_major": 2,
       "version_minor": 0,
       "model_id": "5f29eb03aee947c9abc9862d16a47a99"
      }
     },
     "metadata": {},
     "output_type": "display_data"
    },
    {
     "data": {
      "text/plain": [
       "<IPython.core.display.HTML object>"
      ],
      "text/html": [
       "wandb version 0.19.0 is available!  To upgrade, please run:\n",
       " $ pip install wandb --upgrade"
      ]
     },
     "metadata": {},
     "output_type": "display_data"
    },
    {
     "data": {
      "text/plain": [
       "<IPython.core.display.HTML object>"
      ],
      "text/html": [
       "Tracking run with wandb version 0.13.5"
      ]
     },
     "metadata": {},
     "output_type": "display_data"
    },
    {
     "data": {
      "text/plain": [
       "<IPython.core.display.HTML object>"
      ],
      "text/html": [
       "Run data is saved locally in <code>/home/oliver/PycharmProjects/NeuralStyle/examples/wandb/run-20241206_094658-8qikrg41</code>"
      ]
     },
     "metadata": {},
     "output_type": "display_data"
    },
    {
     "data": {
      "text/plain": [
       "<IPython.core.display.HTML object>"
      ],
      "text/html": [
       "Syncing run <strong><a href=\"https://wandb.ai/oliverweissl/NeuralStyleSearch/runs/8qikrg41\" target=\"_blank\">toasty-donkey-1276</a></strong> to <a href=\"https://wandb.ai/oliverweissl/NeuralStyleSearch\" target=\"_blank\">Weights & Biases</a> (<a href=\"https://wandb.me/run\" target=\"_blank\">docs</a>)<br/>"
      ]
     },
     "metadata": {},
     "output_type": "display_data"
    },
    {
     "data": {
      "text/plain": [
       "<IPython.core.display.HTML object>"
      ],
      "text/html": [
       "Finishing last run (ID:8qikrg41) before initializing another..."
      ]
     },
     "metadata": {},
     "output_type": "display_data"
    },
    {
     "data": {
      "text/plain": [
       "<IPython.core.display.HTML object>"
      ],
      "text/html": [
       "Waiting for W&B process to finish... <strong style=\"color:green\">(success).</strong>"
      ]
     },
     "metadata": {},
     "output_type": "display_data"
    },
    {
     "data": {
      "text/plain": [
       "VBox(children=(Label(value='0.009 MB of 0.009 MB uploaded (0.000 MB deduped)\\r'), FloatProgress(value=0.934010…"
      ],
      "application/vnd.jupyter.widget-view+json": {
       "version_major": 2,
       "version_minor": 0,
       "model_id": "6972a899164742d78fcc050bf9871250"
      }
     },
     "metadata": {},
     "output_type": "display_data"
    },
    {
     "data": {
      "text/plain": [
       "<IPython.core.display.HTML object>"
      ],
      "text/html": [
       "<style>\n",
       "    table.wandb td:nth-child(1) { padding: 0 10px; text-align: left ; width: auto;} td:nth-child(2) {text-align: left ; width: 100%}\n",
       "    .wandb-row { display: flex; flex-direction: row; flex-wrap: wrap; justify-content: flex-start; width: 100% }\n",
       "    .wandb-col { display: flex; flex-direction: column; flex-basis: 100%; flex: 1; padding: 10px; }\n",
       "    </style>\n",
       "<div class=\"wandb-row\"><div class=\"wandb-col\"><h3>Run history:</h3><br/><table class=\"wandb\"><tr><td>max_NaiveCB</td><td>▂▅▆▆▅▆▃▅▅▅▅▆▃▃▅▇▅█▄▇▅▅▇▄▅▄▃▄▆▆▆▅▆▇▇▇▅▁▆▅</td></tr><tr><td>mean_NaiveCB</td><td>▅▅▅▄▅▅▄▇▆▆▁▄▄▄▃▅▆▁▆▃▆▆▄▅▄█▆▃▅▇▅▃▆▃▃▆▅▄▆▆</td></tr><tr><td>min_NaiveCB</td><td>▆▇▇▅▆▆▆█▇▇▁▇▇▅▅▇▇▃▇▃▇▇▆▆▇█▇▆▆▇▇▆▇▂▇█▆▇▇█</td></tr><tr><td>std_NaiveCB</td><td>▃▃▂▄▄▃▄▁▃▂█▃▂▄▅▂▃▇▂▆▂▂▄▃▃▁▂▄▃▂▃▄▂█▄▂▃▂▃▁</td></tr></table><br/></div><div class=\"wandb-col\"><h3>Run summary:</h3><br/><table class=\"wandb\"><tr><td>expected_boundary</td><td>9</td></tr><tr><td>max_NaiveCB</td><td>0.99998</td></tr><tr><td>mean_NaiveCB</td><td>0.99998</td></tr><tr><td>min_NaiveCB</td><td>0.99995</td></tr><tr><td>std_NaiveCB</td><td>1e-05</td></tr><tr><td>w0_trials</td><td>1</td></tr><tr><td>wn_trials</td><td>1</td></tr></table><br/></div></div>"
      ]
     },
     "metadata": {},
     "output_type": "display_data"
    },
    {
     "data": {
      "text/plain": [
       "<IPython.core.display.HTML object>"
      ],
      "text/html": [
       "Synced <strong style=\"color:#cdcd00\">toasty-donkey-1276</strong>: <a href=\"https://wandb.ai/oliverweissl/NeuralStyleSearch/runs/8qikrg41\" target=\"_blank\">https://wandb.ai/oliverweissl/NeuralStyleSearch/runs/8qikrg41</a><br/>Synced 5 W&B file(s), 2 media file(s), 2 artifact file(s) and 0 other file(s)"
      ]
     },
     "metadata": {},
     "output_type": "display_data"
    },
    {
     "data": {
      "text/plain": [
       "<IPython.core.display.HTML object>"
      ],
      "text/html": [
       "Find logs at: <code>./wandb/run-20241206_094658-8qikrg41/logs</code>"
      ]
     },
     "metadata": {},
     "output_type": "display_data"
    },
    {
     "data": {
      "text/plain": [
       "<IPython.core.display.HTML object>"
      ],
      "text/html": [
       "Successfully finished last run (ID:8qikrg41). Initializing new run:<br/>"
      ]
     },
     "metadata": {},
     "output_type": "display_data"
    },
    {
     "data": {
      "text/plain": [
       "VBox(children=(Label(value='Waiting for wandb.init()...\\r'), FloatProgress(value=0.01666883880000872, max=1.0)…"
      ],
      "application/vnd.jupyter.widget-view+json": {
       "version_major": 2,
       "version_minor": 0,
       "model_id": "80ce9ee4782d4c699beab6ae75b92ed2"
      }
     },
     "metadata": {},
     "output_type": "display_data"
    },
    {
     "data": {
      "text/plain": [
       "<IPython.core.display.HTML object>"
      ],
      "text/html": [
       "wandb version 0.19.0 is available!  To upgrade, please run:\n",
       " $ pip install wandb --upgrade"
      ]
     },
     "metadata": {},
     "output_type": "display_data"
    },
    {
     "data": {
      "text/plain": [
       "<IPython.core.display.HTML object>"
      ],
      "text/html": [
       "Tracking run with wandb version 0.13.5"
      ]
     },
     "metadata": {},
     "output_type": "display_data"
    },
    {
     "data": {
      "text/plain": [
       "<IPython.core.display.HTML object>"
      ],
      "text/html": [
       "Run data is saved locally in <code>/home/oliver/PycharmProjects/NeuralStyle/examples/wandb/run-20241206_094750-h3wkdbfo</code>"
      ]
     },
     "metadata": {},
     "output_type": "display_data"
    },
    {
     "data": {
      "text/plain": [
       "<IPython.core.display.HTML object>"
      ],
      "text/html": [
       "Syncing run <strong><a href=\"https://wandb.ai/oliverweissl/NeuralStyleSearch/runs/h3wkdbfo\" target=\"_blank\">flowing-river-1277</a></strong> to <a href=\"https://wandb.ai/oliverweissl/NeuralStyleSearch\" target=\"_blank\">Weights & Biases</a> (<a href=\"https://wandb.me/run\" target=\"_blank\">docs</a>)<br/>"
      ]
     },
     "metadata": {},
     "output_type": "display_data"
    },
    {
     "data": {
      "text/plain": [
       "<IPython.core.display.HTML object>"
      ],
      "text/html": [
       "Finishing last run (ID:h3wkdbfo) before initializing another..."
      ]
     },
     "metadata": {},
     "output_type": "display_data"
    },
    {
     "data": {
      "text/plain": [
       "<IPython.core.display.HTML object>"
      ],
      "text/html": [
       "Waiting for W&B process to finish... <strong style=\"color:green\">(success).</strong>"
      ]
     },
     "metadata": {},
     "output_type": "display_data"
    },
    {
     "data": {
      "text/plain": [
       "VBox(children=(Label(value='0.009 MB of 0.009 MB uploaded (0.000 MB deduped)\\r'), FloatProgress(value=0.933116…"
      ],
      "application/vnd.jupyter.widget-view+json": {
       "version_major": 2,
       "version_minor": 0,
       "model_id": "f79ce5bfddc74841bd13e0e6bf648988"
      }
     },
     "metadata": {},
     "output_type": "display_data"
    },
    {
     "data": {
      "text/plain": [
       "<IPython.core.display.HTML object>"
      ],
      "text/html": [
       "<style>\n",
       "    table.wandb td:nth-child(1) { padding: 0 10px; text-align: left ; width: auto;} td:nth-child(2) {text-align: left ; width: 100%}\n",
       "    .wandb-row { display: flex; flex-direction: row; flex-wrap: wrap; justify-content: flex-start; width: 100% }\n",
       "    .wandb-col { display: flex; flex-direction: column; flex-basis: 100%; flex: 1; padding: 10px; }\n",
       "    </style>\n",
       "<div class=\"wandb-row\"><div class=\"wandb-col\"><h3>Run history:</h3><br/><table class=\"wandb\"><tr><td>max_NaiveCB</td><td>▅▅▅▆▄▇▆▅▆▅▃▆▄▇▅▅▁▅▂█▅▆▅▇▇▅▅▆▅▆▅▆▄▅▅▁▄▆▅▅</td></tr><tr><td>mean_NaiveCB</td><td>▆▆▂▇▅█▃▄▆▄▅▄▇▂▃▃▅▅▆▇▂▆▅▁▂▄▁▃▃▄▄▄▇▅▆█▆▆▇█</td></tr><tr><td>min_NaiveCB</td><td>▅▆▆▆▅▆▆▇▆▆▆▆▅▅▅▆▇▆▃▆▆▆▇▄▃▇▃▆▅▄▆▂▄▁▆█▇▆▆▆</td></tr><tr><td>std_NaiveCB</td><td>▅▄▇▅▅▆▆▃▆█▅▆▅▆▇▆▄▇▅▄▇▅▆█▇▃█▆▆▇▆▆▄▇▅▁▄▆▅▃</td></tr></table><br/></div><div class=\"wandb-col\"><h3>Run summary:</h3><br/><table class=\"wandb\"><tr><td>expected_boundary</td><td>9</td></tr><tr><td>max_NaiveCB</td><td>0.99999</td></tr><tr><td>mean_NaiveCB</td><td>0.99998</td></tr><tr><td>min_NaiveCB</td><td>0.99996</td></tr><tr><td>std_NaiveCB</td><td>1e-05</td></tr><tr><td>w0_trials</td><td>1</td></tr><tr><td>wn_trials</td><td>71</td></tr></table><br/></div></div>"
      ]
     },
     "metadata": {},
     "output_type": "display_data"
    },
    {
     "data": {
      "text/plain": [
       "<IPython.core.display.HTML object>"
      ],
      "text/html": [
       "Synced <strong style=\"color:#cdcd00\">flowing-river-1277</strong>: <a href=\"https://wandb.ai/oliverweissl/NeuralStyleSearch/runs/h3wkdbfo\" target=\"_blank\">https://wandb.ai/oliverweissl/NeuralStyleSearch/runs/h3wkdbfo</a><br/>Synced 5 W&B file(s), 2 media file(s), 2 artifact file(s) and 0 other file(s)"
      ]
     },
     "metadata": {},
     "output_type": "display_data"
    },
    {
     "data": {
      "text/plain": [
       "<IPython.core.display.HTML object>"
      ],
      "text/html": [
       "Find logs at: <code>./wandb/run-20241206_094750-h3wkdbfo/logs</code>"
      ]
     },
     "metadata": {},
     "output_type": "display_data"
    },
    {
     "data": {
      "text/plain": [
       "<IPython.core.display.HTML object>"
      ],
      "text/html": [
       "Successfully finished last run (ID:h3wkdbfo). Initializing new run:<br/>"
      ]
     },
     "metadata": {},
     "output_type": "display_data"
    },
    {
     "data": {
      "text/plain": [
       "VBox(children=(Label(value='Waiting for wandb.init()...\\r'), FloatProgress(value=0.016668428916697547, max=1.0…"
      ],
      "application/vnd.jupyter.widget-view+json": {
       "version_major": 2,
       "version_minor": 0,
       "model_id": "8721003983674baabba82a8e69dab616"
      }
     },
     "metadata": {},
     "output_type": "display_data"
    },
    {
     "data": {
      "text/plain": [
       "<IPython.core.display.HTML object>"
      ],
      "text/html": [
       "wandb version 0.19.0 is available!  To upgrade, please run:\n",
       " $ pip install wandb --upgrade"
      ]
     },
     "metadata": {},
     "output_type": "display_data"
    },
    {
     "data": {
      "text/plain": [
       "<IPython.core.display.HTML object>"
      ],
      "text/html": [
       "Tracking run with wandb version 0.13.5"
      ]
     },
     "metadata": {},
     "output_type": "display_data"
    },
    {
     "data": {
      "text/plain": [
       "<IPython.core.display.HTML object>"
      ],
      "text/html": [
       "Run data is saved locally in <code>/home/oliver/PycharmProjects/NeuralStyle/examples/wandb/run-20241206_094844-gft4sjum</code>"
      ]
     },
     "metadata": {},
     "output_type": "display_data"
    },
    {
     "data": {
      "text/plain": [
       "<IPython.core.display.HTML object>"
      ],
      "text/html": [
       "Syncing run <strong><a href=\"https://wandb.ai/oliverweissl/NeuralStyleSearch/runs/gft4sjum\" target=\"_blank\">still-river-1278</a></strong> to <a href=\"https://wandb.ai/oliverweissl/NeuralStyleSearch\" target=\"_blank\">Weights & Biases</a> (<a href=\"https://wandb.me/run\" target=\"_blank\">docs</a>)<br/>"
      ]
     },
     "metadata": {},
     "output_type": "display_data"
    },
    {
     "data": {
      "text/plain": [
       "<IPython.core.display.HTML object>"
      ],
      "text/html": [
       "Finishing last run (ID:gft4sjum) before initializing another..."
      ]
     },
     "metadata": {},
     "output_type": "display_data"
    },
    {
     "data": {
      "text/plain": [
       "<IPython.core.display.HTML object>"
      ],
      "text/html": [
       "Waiting for W&B process to finish... <strong style=\"color:green\">(success).</strong>"
      ]
     },
     "metadata": {},
     "output_type": "display_data"
    },
    {
     "data": {
      "text/plain": [
       "<IPython.core.display.HTML object>"
      ],
      "text/html": [
       "<style>\n",
       "    table.wandb td:nth-child(1) { padding: 0 10px; text-align: left ; width: auto;} td:nth-child(2) {text-align: left ; width: 100%}\n",
       "    .wandb-row { display: flex; flex-direction: row; flex-wrap: wrap; justify-content: flex-start; width: 100% }\n",
       "    .wandb-col { display: flex; flex-direction: column; flex-basis: 100%; flex: 1; padding: 10px; }\n",
       "    </style>\n",
       "<div class=\"wandb-row\"><div class=\"wandb-col\"><h3>Run history:</h3><br/><table class=\"wandb\"><tr><td>max_NaiveCB</td><td>▄▂▂▂▄▃▄█▆█▃▅▃▂▁▄▃▆▂▃▂▅▄▂▂▄▃▅▄▄▃▅▄▄▅▃▄▄▄▆</td></tr><tr><td>mean_NaiveCB</td><td>█▃▃▆▅▅▅▅▆▅▄▅▃▄▁▄▅▄▃▄▄▆▄▃▅▅▃▅▅▆▆▄▅▄▄▃▄▅▃▄</td></tr><tr><td>min_NaiveCB</td><td>█▇▆▆▇▆▇▅▄▅▅▇▆▃▆▇█▆▇▆▄▆▆▇▇█▆▅▆▇▅▆▇▇▇▇▇▆▅▁</td></tr><tr><td>std_NaiveCB</td><td>▃▂▃▃▃▄▅▆▄▇▅▄▃▃▁▅▁▅▂▄▂▅▃▂▁▃▂▃▃▄▄▃▃▃▄▃▅▄▅█</td></tr></table><br/></div><div class=\"wandb-col\"><h3>Run summary:</h3><br/><table class=\"wandb\"><tr><td>expected_boundary</td><td>9</td></tr><tr><td>max_NaiveCB</td><td>0.99861</td></tr><tr><td>mean_NaiveCB</td><td>0.99827</td></tr><tr><td>min_NaiveCB</td><td>0.99783</td></tr><tr><td>std_NaiveCB</td><td>0.00013</td></tr><tr><td>w0_trials</td><td>1</td></tr><tr><td>wn_trials</td><td>1</td></tr></table><br/></div></div>"
      ]
     },
     "metadata": {},
     "output_type": "display_data"
    },
    {
     "data": {
      "text/plain": [
       "<IPython.core.display.HTML object>"
      ],
      "text/html": [
       "Synced <strong style=\"color:#cdcd00\">still-river-1278</strong>: <a href=\"https://wandb.ai/oliverweissl/NeuralStyleSearch/runs/gft4sjum\" target=\"_blank\">https://wandb.ai/oliverweissl/NeuralStyleSearch/runs/gft4sjum</a><br/>Synced 5 W&B file(s), 2 media file(s), 2 artifact file(s) and 0 other file(s)"
      ]
     },
     "metadata": {},
     "output_type": "display_data"
    },
    {
     "data": {
      "text/plain": [
       "<IPython.core.display.HTML object>"
      ],
      "text/html": [
       "Find logs at: <code>./wandb/run-20241206_094844-gft4sjum/logs</code>"
      ]
     },
     "metadata": {},
     "output_type": "display_data"
    },
    {
     "data": {
      "text/plain": [
       "<IPython.core.display.HTML object>"
      ],
      "text/html": [
       "Successfully finished last run (ID:gft4sjum). Initializing new run:<br/>"
      ]
     },
     "metadata": {},
     "output_type": "display_data"
    },
    {
     "data": {
      "text/plain": [
       "VBox(children=(Label(value='Waiting for wandb.init()...\\r'), FloatProgress(value=0.016668950899717552, max=1.0…"
      ],
      "application/vnd.jupyter.widget-view+json": {
       "version_major": 2,
       "version_minor": 0,
       "model_id": "e5379ea47e3744cc91fe47e7ba58c5e3"
      }
     },
     "metadata": {},
     "output_type": "display_data"
    },
    {
     "data": {
      "text/plain": [
       "<IPython.core.display.HTML object>"
      ],
      "text/html": [
       "wandb version 0.19.0 is available!  To upgrade, please run:\n",
       " $ pip install wandb --upgrade"
      ]
     },
     "metadata": {},
     "output_type": "display_data"
    },
    {
     "data": {
      "text/plain": [
       "<IPython.core.display.HTML object>"
      ],
      "text/html": [
       "Tracking run with wandb version 0.13.5"
      ]
     },
     "metadata": {},
     "output_type": "display_data"
    },
    {
     "data": {
      "text/plain": [
       "<IPython.core.display.HTML object>"
      ],
      "text/html": [
       "Run data is saved locally in <code>/home/oliver/PycharmProjects/NeuralStyle/examples/wandb/run-20241206_094937-s2pw5t63</code>"
      ]
     },
     "metadata": {},
     "output_type": "display_data"
    },
    {
     "data": {
      "text/plain": [
       "<IPython.core.display.HTML object>"
      ],
      "text/html": [
       "Syncing run <strong><a href=\"https://wandb.ai/oliverweissl/NeuralStyleSearch/runs/s2pw5t63\" target=\"_blank\">valiant-firefly-1279</a></strong> to <a href=\"https://wandb.ai/oliverweissl/NeuralStyleSearch\" target=\"_blank\">Weights & Biases</a> (<a href=\"https://wandb.me/run\" target=\"_blank\">docs</a>)<br/>"
      ]
     },
     "metadata": {},
     "output_type": "display_data"
    },
    {
     "data": {
      "text/plain": [
       "<IPython.core.display.HTML object>"
      ],
      "text/html": [
       "Finishing last run (ID:s2pw5t63) before initializing another..."
      ]
     },
     "metadata": {},
     "output_type": "display_data"
    },
    {
     "data": {
      "text/plain": [
       "<IPython.core.display.HTML object>"
      ],
      "text/html": [
       "Waiting for W&B process to finish... <strong style=\"color:green\">(success).</strong>"
      ]
     },
     "metadata": {},
     "output_type": "display_data"
    },
    {
     "data": {
      "text/plain": [
       "VBox(children=(Label(value='0.009 MB of 0.009 MB uploaded (0.000 MB deduped)\\r'), FloatProgress(value=0.931782…"
      ],
      "application/vnd.jupyter.widget-view+json": {
       "version_major": 2,
       "version_minor": 0,
       "model_id": "7dc17628594640c0874f781795822168"
      }
     },
     "metadata": {},
     "output_type": "display_data"
    },
    {
     "data": {
      "text/plain": [
       "<IPython.core.display.HTML object>"
      ],
      "text/html": [
       "<style>\n",
       "    table.wandb td:nth-child(1) { padding: 0 10px; text-align: left ; width: auto;} td:nth-child(2) {text-align: left ; width: 100%}\n",
       "    .wandb-row { display: flex; flex-direction: row; flex-wrap: wrap; justify-content: flex-start; width: 100% }\n",
       "    .wandb-col { display: flex; flex-direction: column; flex-basis: 100%; flex: 1; padding: 10px; }\n",
       "    </style>\n",
       "<div class=\"wandb-row\"><div class=\"wandb-col\"><h3>Run history:</h3><br/><table class=\"wandb\"><tr><td>max_NaiveCB</td><td>▄▄▂█▁▄▃▂▃▆▂▄▃▂▃▄▆▇▅▃▂▄▂▃▃▂▂▁▃▄▄▃▅▅▁▄▄▄▃▃</td></tr><tr><td>mean_NaiveCB</td><td>▄▆▂▆▇▅▄▂▆▅▆▆▆▆▅▆▃▆▃▅▄▃▄▅▅▅▃▄▆▁█▄▇▅▄▆▁▇▁▄</td></tr><tr><td>min_NaiveCB</td><td>▇███▇█▄▇▆▄▇▇█▆█▆▆▇▇▇▇▅█▇▆▆▇█▆▄▇▇██▆▆▇▇▆▁</td></tr><tr><td>std_NaiveCB</td><td>▃▂▃▄▁▃▆▅▃▆▃▂▂▄▄▃▅▃▃▃▃▆▃▄▄▄▄▂▃▇▁▄▂▁▄▃▆▃▇█</td></tr></table><br/></div><div class=\"wandb-col\"><h3>Run summary:</h3><br/><table class=\"wandb\"><tr><td>expected_boundary</td><td>9</td></tr><tr><td>max_NaiveCB</td><td>0.99996</td></tr><tr><td>mean_NaiveCB</td><td>0.99994</td></tr><tr><td>min_NaiveCB</td><td>0.99989</td></tr><tr><td>std_NaiveCB</td><td>1e-05</td></tr><tr><td>w0_trials</td><td>1</td></tr><tr><td>wn_trials</td><td>1</td></tr></table><br/></div></div>"
      ]
     },
     "metadata": {},
     "output_type": "display_data"
    },
    {
     "data": {
      "text/plain": [
       "<IPython.core.display.HTML object>"
      ],
      "text/html": [
       "Synced <strong style=\"color:#cdcd00\">valiant-firefly-1279</strong>: <a href=\"https://wandb.ai/oliverweissl/NeuralStyleSearch/runs/s2pw5t63\" target=\"_blank\">https://wandb.ai/oliverweissl/NeuralStyleSearch/runs/s2pw5t63</a><br/>Synced 5 W&B file(s), 2 media file(s), 2 artifact file(s) and 0 other file(s)"
      ]
     },
     "metadata": {},
     "output_type": "display_data"
    },
    {
     "data": {
      "text/plain": [
       "<IPython.core.display.HTML object>"
      ],
      "text/html": [
       "Find logs at: <code>./wandb/run-20241206_094937-s2pw5t63/logs</code>"
      ]
     },
     "metadata": {},
     "output_type": "display_data"
    },
    {
     "data": {
      "text/plain": [
       "<IPython.core.display.HTML object>"
      ],
      "text/html": [
       "Successfully finished last run (ID:s2pw5t63). Initializing new run:<br/>"
      ]
     },
     "metadata": {},
     "output_type": "display_data"
    },
    {
     "data": {
      "text/plain": [
       "VBox(children=(Label(value='Waiting for wandb.init()...\\r'), FloatProgress(value=0.016668884033182015, max=1.0…"
      ],
      "application/vnd.jupyter.widget-view+json": {
       "version_major": 2,
       "version_minor": 0,
       "model_id": "a312990d8e8c4e92b0a3b2e271af1e0e"
      }
     },
     "metadata": {},
     "output_type": "display_data"
    },
    {
     "data": {
      "text/plain": [
       "<IPython.core.display.HTML object>"
      ],
      "text/html": [
       "wandb version 0.19.0 is available!  To upgrade, please run:\n",
       " $ pip install wandb --upgrade"
      ]
     },
     "metadata": {},
     "output_type": "display_data"
    },
    {
     "data": {
      "text/plain": [
       "<IPython.core.display.HTML object>"
      ],
      "text/html": [
       "Tracking run with wandb version 0.13.5"
      ]
     },
     "metadata": {},
     "output_type": "display_data"
    },
    {
     "data": {
      "text/plain": [
       "<IPython.core.display.HTML object>"
      ],
      "text/html": [
       "Run data is saved locally in <code>/home/oliver/PycharmProjects/NeuralStyle/examples/wandb/run-20241206_095030-cn5eff3i</code>"
      ]
     },
     "metadata": {},
     "output_type": "display_data"
    },
    {
     "data": {
      "text/plain": [
       "<IPython.core.display.HTML object>"
      ],
      "text/html": [
       "Syncing run <strong><a href=\"https://wandb.ai/oliverweissl/NeuralStyleSearch/runs/cn5eff3i\" target=\"_blank\">apricot-snowball-1280</a></strong> to <a href=\"https://wandb.ai/oliverweissl/NeuralStyleSearch\" target=\"_blank\">Weights & Biases</a> (<a href=\"https://wandb.me/run\" target=\"_blank\">docs</a>)<br/>"
      ]
     },
     "metadata": {},
     "output_type": "display_data"
    },
    {
     "data": {
      "text/plain": [
       "<IPython.core.display.HTML object>"
      ],
      "text/html": [
       "Finishing last run (ID:cn5eff3i) before initializing another..."
      ]
     },
     "metadata": {},
     "output_type": "display_data"
    },
    {
     "data": {
      "text/plain": [
       "<IPython.core.display.HTML object>"
      ],
      "text/html": [
       "Waiting for W&B process to finish... <strong style=\"color:green\">(success).</strong>"
      ]
     },
     "metadata": {},
     "output_type": "display_data"
    },
    {
     "data": {
      "text/plain": [
       "VBox(children=(Label(value='0.009 MB of 0.009 MB uploaded (0.000 MB deduped)\\r'), FloatProgress(value=0.931952…"
      ],
      "application/vnd.jupyter.widget-view+json": {
       "version_major": 2,
       "version_minor": 0,
       "model_id": "8e13bc30b6a94f9181f29c51410c421d"
      }
     },
     "metadata": {},
     "output_type": "display_data"
    },
    {
     "data": {
      "text/plain": [
       "<IPython.core.display.HTML object>"
      ],
      "text/html": [
       "<style>\n",
       "    table.wandb td:nth-child(1) { padding: 0 10px; text-align: left ; width: auto;} td:nth-child(2) {text-align: left ; width: 100%}\n",
       "    .wandb-row { display: flex; flex-direction: row; flex-wrap: wrap; justify-content: flex-start; width: 100% }\n",
       "    .wandb-col { display: flex; flex-direction: column; flex-basis: 100%; flex: 1; padding: 10px; }\n",
       "    </style>\n",
       "<div class=\"wandb-row\"><div class=\"wandb-col\"><h3>Run history:</h3><br/><table class=\"wandb\"><tr><td>max_NaiveCB</td><td>▆▄▅▅▅▇▄▄▆▇▆▆█▄▅▆▄▂▄▆▆▅▄▇▇▅▇▅▅▇▄▁▄▅▅▅█▆▄▄</td></tr><tr><td>mean_NaiveCB</td><td>▅▆▄▅▅▄▄▇▅▅▃▇▅█▄▂▁▂▇▂▅▃▂▅▃▃▄▄▁▅▆█▅▅▄▂▆▅▅▄</td></tr><tr><td>min_NaiveCB</td><td>▅▆▃▆▆▄▅▇▅▆▂▇▅█▃▂▁▅▆▂▅▅▃▆▂▅▅▄▄▆▆█▆▅▄▄▅▅▅▅</td></tr><tr><td>std_NaiveCB</td><td>▄▃▅▄▄▆▄▂▄▄▆▁▄▁▅▇█▅▂▇▄▅▆▃▆▆▅▅▇▄▃▁▄▄▅▆▄▄▅▄</td></tr></table><br/></div><div class=\"wandb-col\"><h3>Run summary:</h3><br/><table class=\"wandb\"><tr><td>expected_boundary</td><td>2</td></tr><tr><td>max_NaiveCB</td><td>0.99954</td></tr><tr><td>mean_NaiveCB</td><td>0.99869</td></tr><tr><td>min_NaiveCB</td><td>0.98447</td></tr><tr><td>std_NaiveCB</td><td>0.00217</td></tr><tr><td>w0_trials</td><td>1</td></tr><tr><td>wn_trials</td><td>1</td></tr></table><br/></div></div>"
      ]
     },
     "metadata": {},
     "output_type": "display_data"
    },
    {
     "data": {
      "text/plain": [
       "<IPython.core.display.HTML object>"
      ],
      "text/html": [
       "Synced <strong style=\"color:#cdcd00\">apricot-snowball-1280</strong>: <a href=\"https://wandb.ai/oliverweissl/NeuralStyleSearch/runs/cn5eff3i\" target=\"_blank\">https://wandb.ai/oliverweissl/NeuralStyleSearch/runs/cn5eff3i</a><br/>Synced 5 W&B file(s), 2 media file(s), 2 artifact file(s) and 0 other file(s)"
      ]
     },
     "metadata": {},
     "output_type": "display_data"
    },
    {
     "data": {
      "text/plain": [
       "<IPython.core.display.HTML object>"
      ],
      "text/html": [
       "Find logs at: <code>./wandb/run-20241206_095030-cn5eff3i/logs</code>"
      ]
     },
     "metadata": {},
     "output_type": "display_data"
    },
    {
     "data": {
      "text/plain": [
       "<IPython.core.display.HTML object>"
      ],
      "text/html": [
       "Successfully finished last run (ID:cn5eff3i). Initializing new run:<br/>"
      ]
     },
     "metadata": {},
     "output_type": "display_data"
    },
    {
     "data": {
      "text/plain": [
       "VBox(children=(Label(value='Waiting for wandb.init()...\\r'), FloatProgress(value=0.016669318333636815, max=1.0…"
      ],
      "application/vnd.jupyter.widget-view+json": {
       "version_major": 2,
       "version_minor": 0,
       "model_id": "d0ee06a151214310bb37938977d7cc8f"
      }
     },
     "metadata": {},
     "output_type": "display_data"
    },
    {
     "data": {
      "text/plain": [
       "<IPython.core.display.HTML object>"
      ],
      "text/html": [
       "wandb version 0.19.0 is available!  To upgrade, please run:\n",
       " $ pip install wandb --upgrade"
      ]
     },
     "metadata": {},
     "output_type": "display_data"
    },
    {
     "data": {
      "text/plain": [
       "<IPython.core.display.HTML object>"
      ],
      "text/html": [
       "Tracking run with wandb version 0.13.5"
      ]
     },
     "metadata": {},
     "output_type": "display_data"
    },
    {
     "data": {
      "text/plain": [
       "<IPython.core.display.HTML object>"
      ],
      "text/html": [
       "Run data is saved locally in <code>/home/oliver/PycharmProjects/NeuralStyle/examples/wandb/run-20241206_095123-ts95adb7</code>"
      ]
     },
     "metadata": {},
     "output_type": "display_data"
    },
    {
     "data": {
      "text/plain": [
       "<IPython.core.display.HTML object>"
      ],
      "text/html": [
       "Syncing run <strong><a href=\"https://wandb.ai/oliverweissl/NeuralStyleSearch/runs/ts95adb7\" target=\"_blank\">vague-pine-1281</a></strong> to <a href=\"https://wandb.ai/oliverweissl/NeuralStyleSearch\" target=\"_blank\">Weights & Biases</a> (<a href=\"https://wandb.me/run\" target=\"_blank\">docs</a>)<br/>"
      ]
     },
     "metadata": {},
     "output_type": "display_data"
    },
    {
     "data": {
      "text/plain": [
       "<IPython.core.display.HTML object>"
      ],
      "text/html": [
       "Finishing last run (ID:ts95adb7) before initializing another..."
      ]
     },
     "metadata": {},
     "output_type": "display_data"
    },
    {
     "data": {
      "text/plain": [
       "<IPython.core.display.HTML object>"
      ],
      "text/html": [
       "Waiting for W&B process to finish... <strong style=\"color:green\">(success).</strong>"
      ]
     },
     "metadata": {},
     "output_type": "display_data"
    },
    {
     "data": {
      "text/plain": [
       "<IPython.core.display.HTML object>"
      ],
      "text/html": [
       "<style>\n",
       "    table.wandb td:nth-child(1) { padding: 0 10px; text-align: left ; width: auto;} td:nth-child(2) {text-align: left ; width: 100%}\n",
       "    .wandb-row { display: flex; flex-direction: row; flex-wrap: wrap; justify-content: flex-start; width: 100% }\n",
       "    .wandb-col { display: flex; flex-direction: column; flex-basis: 100%; flex: 1; padding: 10px; }\n",
       "    </style>\n",
       "<div class=\"wandb-row\"><div class=\"wandb-col\"><h3>Run history:</h3><br/><table class=\"wandb\"><tr><td>max_NaiveCB</td><td>▂▃▆▃▃▃▄▃▁▂▃█▁▆▄▄▆▂▂▁▃▂▁▂▅▃▂▃▂▁▃▃▁▂▂▁▂▇▂▆</td></tr><tr><td>mean_NaiveCB</td><td>▇▇▄▂▆▇▆▄▄▆▆▆▃▂▄▄▂▆▂▆▄█▃▅▄▆▁▃▅▃▃▄▅▃▇▃▅▇▆▄</td></tr><tr><td>min_NaiveCB</td><td>█▅▅▅▅▄█▄▄▅▆▇▁▃▂▄▆▆▆▄▅▆▅▅▃▂▃▅▆▄▁▇▇▄▆▆▆▆▆▅</td></tr><tr><td>std_NaiveCB</td><td>▁▄▅▆▄▅▄▆▅▃▄▅▃█▆▅▄▃▃▃▄▂▃▄▆▆▅▅▄▃▅▃▂▃▃▃▃█▃█</td></tr></table><br/></div><div class=\"wandb-col\"><h3>Run summary:</h3><br/><table class=\"wandb\"><tr><td>expected_boundary</td><td>9</td></tr><tr><td>max_NaiveCB</td><td>0.99988</td></tr><tr><td>mean_NaiveCB</td><td>0.99984</td></tr><tr><td>min_NaiveCB</td><td>0.99982</td></tr><tr><td>std_NaiveCB</td><td>1e-05</td></tr><tr><td>w0_trials</td><td>1</td></tr><tr><td>wn_trials</td><td>1</td></tr></table><br/></div></div>"
      ]
     },
     "metadata": {},
     "output_type": "display_data"
    },
    {
     "data": {
      "text/plain": [
       "<IPython.core.display.HTML object>"
      ],
      "text/html": [
       "Synced <strong style=\"color:#cdcd00\">vague-pine-1281</strong>: <a href=\"https://wandb.ai/oliverweissl/NeuralStyleSearch/runs/ts95adb7\" target=\"_blank\">https://wandb.ai/oliverweissl/NeuralStyleSearch/runs/ts95adb7</a><br/>Synced 5 W&B file(s), 2 media file(s), 2 artifact file(s) and 0 other file(s)"
      ]
     },
     "metadata": {},
     "output_type": "display_data"
    },
    {
     "data": {
      "text/plain": [
       "<IPython.core.display.HTML object>"
      ],
      "text/html": [
       "Find logs at: <code>./wandb/run-20241206_095123-ts95adb7/logs</code>"
      ]
     },
     "metadata": {},
     "output_type": "display_data"
    },
    {
     "data": {
      "text/plain": [
       "<IPython.core.display.HTML object>"
      ],
      "text/html": [
       "Successfully finished last run (ID:ts95adb7). Initializing new run:<br/>"
      ]
     },
     "metadata": {},
     "output_type": "display_data"
    },
    {
     "data": {
      "text/plain": [
       "VBox(children=(Label(value='Waiting for wandb.init()...\\r'), FloatProgress(value=0.016668744700048897, max=1.0…"
      ],
      "application/vnd.jupyter.widget-view+json": {
       "version_major": 2,
       "version_minor": 0,
       "model_id": "77faa2e1d8e345b1bf4670b17ca29062"
      }
     },
     "metadata": {},
     "output_type": "display_data"
    },
    {
     "data": {
      "text/plain": [
       "<IPython.core.display.HTML object>"
      ],
      "text/html": [
       "wandb version 0.19.0 is available!  To upgrade, please run:\n",
       " $ pip install wandb --upgrade"
      ]
     },
     "metadata": {},
     "output_type": "display_data"
    },
    {
     "data": {
      "text/plain": [
       "<IPython.core.display.HTML object>"
      ],
      "text/html": [
       "Tracking run with wandb version 0.13.5"
      ]
     },
     "metadata": {},
     "output_type": "display_data"
    },
    {
     "data": {
      "text/plain": [
       "<IPython.core.display.HTML object>"
      ],
      "text/html": [
       "Run data is saved locally in <code>/home/oliver/PycharmProjects/NeuralStyle/examples/wandb/run-20241206_095216-pir4fre4</code>"
      ]
     },
     "metadata": {},
     "output_type": "display_data"
    },
    {
     "data": {
      "text/plain": [
       "<IPython.core.display.HTML object>"
      ],
      "text/html": [
       "Syncing run <strong><a href=\"https://wandb.ai/oliverweissl/NeuralStyleSearch/runs/pir4fre4\" target=\"_blank\">wild-salad-1282</a></strong> to <a href=\"https://wandb.ai/oliverweissl/NeuralStyleSearch\" target=\"_blank\">Weights & Biases</a> (<a href=\"https://wandb.me/run\" target=\"_blank\">docs</a>)<br/>"
      ]
     },
     "metadata": {},
     "output_type": "display_data"
    },
    {
     "data": {
      "text/plain": [
       "<IPython.core.display.HTML object>"
      ],
      "text/html": [
       "Finishing last run (ID:pir4fre4) before initializing another..."
      ]
     },
     "metadata": {},
     "output_type": "display_data"
    },
    {
     "data": {
      "text/plain": [
       "<IPython.core.display.HTML object>"
      ],
      "text/html": [
       "Waiting for W&B process to finish... <strong style=\"color:green\">(success).</strong>"
      ]
     },
     "metadata": {},
     "output_type": "display_data"
    },
    {
     "data": {
      "text/plain": [
       "<IPython.core.display.HTML object>"
      ],
      "text/html": [
       "<style>\n",
       "    table.wandb td:nth-child(1) { padding: 0 10px; text-align: left ; width: auto;} td:nth-child(2) {text-align: left ; width: 100%}\n",
       "    .wandb-row { display: flex; flex-direction: row; flex-wrap: wrap; justify-content: flex-start; width: 100% }\n",
       "    .wandb-col { display: flex; flex-direction: column; flex-basis: 100%; flex: 1; padding: 10px; }\n",
       "    </style>\n",
       "<div class=\"wandb-row\"><div class=\"wandb-col\"><h3>Run history:</h3><br/><table class=\"wandb\"><tr><td>max_NaiveCB</td><td>▅▆▂▇▇▆▃▃▆▁▇▅▅█▆▆▃▅▅▆▄▆▆▅▆▆▅▅▅▁▇▇▅▆▆▅▆█▄▃</td></tr><tr><td>mean_NaiveCB</td><td>▄▄▇▅▅▆▄▃▁▃▄▃▆▅▄▄▆▆▂▄▃▄█▂▂▁▇▅▅▇▄▆▄█▃▇▇▇▄▆</td></tr><tr><td>min_NaiveCB</td><td>▇▆█▇▇█▇▇▇█▇▇▇▇▇▇▇█▆▇▇▇█▇▇▁▇▇██▆▅▇▇██▇▇▇▆</td></tr><tr><td>std_NaiveCB</td><td>▃▄▁▄▄▂▃▃▄▃▄▄▃▃▃▄▃▃▄▃▃▄▁▃▄█▃▃▂▁▃▅▂▃▅▃▂▄▃▂</td></tr></table><br/></div><div class=\"wandb-col\"><h3>Run summary:</h3><br/><table class=\"wandb\"><tr><td>expected_boundary</td><td>9</td></tr><tr><td>max_NaiveCB</td><td>0.99834</td></tr><tr><td>mean_NaiveCB</td><td>0.99686</td></tr><tr><td>min_NaiveCB</td><td>0.99244</td></tr><tr><td>std_NaiveCB</td><td>0.00092</td></tr><tr><td>w0_trials</td><td>1</td></tr><tr><td>wn_trials</td><td>1</td></tr></table><br/></div></div>"
      ]
     },
     "metadata": {},
     "output_type": "display_data"
    },
    {
     "data": {
      "text/plain": [
       "<IPython.core.display.HTML object>"
      ],
      "text/html": [
       "Synced <strong style=\"color:#cdcd00\">wild-salad-1282</strong>: <a href=\"https://wandb.ai/oliverweissl/NeuralStyleSearch/runs/pir4fre4\" target=\"_blank\">https://wandb.ai/oliverweissl/NeuralStyleSearch/runs/pir4fre4</a><br/>Synced 5 W&B file(s), 2 media file(s), 2 artifact file(s) and 0 other file(s)"
      ]
     },
     "metadata": {},
     "output_type": "display_data"
    },
    {
     "data": {
      "text/plain": [
       "<IPython.core.display.HTML object>"
      ],
      "text/html": [
       "Find logs at: <code>./wandb/run-20241206_095216-pir4fre4/logs</code>"
      ]
     },
     "metadata": {},
     "output_type": "display_data"
    },
    {
     "data": {
      "text/plain": [
       "<IPython.core.display.HTML object>"
      ],
      "text/html": [
       "Successfully finished last run (ID:pir4fre4). Initializing new run:<br/>"
      ]
     },
     "metadata": {},
     "output_type": "display_data"
    },
    {
     "data": {
      "text/plain": [
       "VBox(children=(Label(value='Waiting for wandb.init()...\\r'), FloatProgress(value=0.01666888058340798, max=1.0)…"
      ],
      "application/vnd.jupyter.widget-view+json": {
       "version_major": 2,
       "version_minor": 0,
       "model_id": "859a1273cc834e15bbbd041e16a10e3d"
      }
     },
     "metadata": {},
     "output_type": "display_data"
    },
    {
     "data": {
      "text/plain": [
       "<IPython.core.display.HTML object>"
      ],
      "text/html": [
       "wandb version 0.19.0 is available!  To upgrade, please run:\n",
       " $ pip install wandb --upgrade"
      ]
     },
     "metadata": {},
     "output_type": "display_data"
    },
    {
     "data": {
      "text/plain": [
       "<IPython.core.display.HTML object>"
      ],
      "text/html": [
       "Tracking run with wandb version 0.13.5"
      ]
     },
     "metadata": {},
     "output_type": "display_data"
    },
    {
     "data": {
      "text/plain": [
       "<IPython.core.display.HTML object>"
      ],
      "text/html": [
       "Run data is saved locally in <code>/home/oliver/PycharmProjects/NeuralStyle/examples/wandb/run-20241206_095309-fi8d8qh1</code>"
      ]
     },
     "metadata": {},
     "output_type": "display_data"
    },
    {
     "data": {
      "text/plain": [
       "<IPython.core.display.HTML object>"
      ],
      "text/html": [
       "Syncing run <strong><a href=\"https://wandb.ai/oliverweissl/NeuralStyleSearch/runs/fi8d8qh1\" target=\"_blank\">youthful-dream-1283</a></strong> to <a href=\"https://wandb.ai/oliverweissl/NeuralStyleSearch\" target=\"_blank\">Weights & Biases</a> (<a href=\"https://wandb.me/run\" target=\"_blank\">docs</a>)<br/>"
      ]
     },
     "metadata": {},
     "output_type": "display_data"
    },
    {
     "data": {
      "text/plain": [
       "<IPython.core.display.HTML object>"
      ],
      "text/html": [
       "Finishing last run (ID:fi8d8qh1) before initializing another..."
      ]
     },
     "metadata": {},
     "output_type": "display_data"
    },
    {
     "data": {
      "text/plain": [
       "<IPython.core.display.HTML object>"
      ],
      "text/html": [
       "Waiting for W&B process to finish... <strong style=\"color:green\">(success).</strong>"
      ]
     },
     "metadata": {},
     "output_type": "display_data"
    },
    {
     "data": {
      "text/plain": [
       "VBox(children=(Label(value='0.009 MB of 0.010 MB uploaded (0.000 MB deduped)\\r'), FloatProgress(value=0.933838…"
      ],
      "application/vnd.jupyter.widget-view+json": {
       "version_major": 2,
       "version_minor": 0,
       "model_id": "a16e6652381f4983a51a1f8960f19bfa"
      }
     },
     "metadata": {},
     "output_type": "display_data"
    },
    {
     "data": {
      "text/plain": [
       "<IPython.core.display.HTML object>"
      ],
      "text/html": [
       "<style>\n",
       "    table.wandb td:nth-child(1) { padding: 0 10px; text-align: left ; width: auto;} td:nth-child(2) {text-align: left ; width: 100%}\n",
       "    .wandb-row { display: flex; flex-direction: row; flex-wrap: wrap; justify-content: flex-start; width: 100% }\n",
       "    .wandb-col { display: flex; flex-direction: column; flex-basis: 100%; flex: 1; padding: 10px; }\n",
       "    </style>\n",
       "<div class=\"wandb-row\"><div class=\"wandb-col\"><h3>Run history:</h3><br/><table class=\"wandb\"><tr><td>max_NaiveCB</td><td>▇▃▃▆▆▁▆▅▇▄▇▅▅▅▂▄▅▂▆▆▅▃▆▆▂▆▆▅▆▄▄▅██▅▆▃▆▄█</td></tr><tr><td>mean_NaiveCB</td><td>██████████████████▇██████▁███████▇██████</td></tr><tr><td>min_NaiveCB</td><td>██████████████████▇██████▁███████▇██████</td></tr><tr><td>std_NaiveCB</td><td>▁▁▁▁▁▁▁▁▁▁▁▁▁▁▁▁▁▁▂▁▁▁▁▁▁█▁▁▁▁▁▁▁▂▁▁▁▁▁▁</td></tr></table><br/></div><div class=\"wandb-col\"><h3>Run summary:</h3><br/><table class=\"wandb\"><tr><td>expected_boundary</td><td>3</td></tr><tr><td>max_NaiveCB</td><td>0.99992</td></tr><tr><td>mean_NaiveCB</td><td>0.99988</td></tr><tr><td>min_NaiveCB</td><td>0.99974</td></tr><tr><td>std_NaiveCB</td><td>3e-05</td></tr><tr><td>w0_trials</td><td>1</td></tr><tr><td>wn_trials</td><td>1</td></tr></table><br/></div></div>"
      ]
     },
     "metadata": {},
     "output_type": "display_data"
    },
    {
     "data": {
      "text/plain": [
       "<IPython.core.display.HTML object>"
      ],
      "text/html": [
       "Synced <strong style=\"color:#cdcd00\">youthful-dream-1283</strong>: <a href=\"https://wandb.ai/oliverweissl/NeuralStyleSearch/runs/fi8d8qh1\" target=\"_blank\">https://wandb.ai/oliverweissl/NeuralStyleSearch/runs/fi8d8qh1</a><br/>Synced 5 W&B file(s), 2 media file(s), 2 artifact file(s) and 0 other file(s)"
      ]
     },
     "metadata": {},
     "output_type": "display_data"
    },
    {
     "data": {
      "text/plain": [
       "<IPython.core.display.HTML object>"
      ],
      "text/html": [
       "Find logs at: <code>./wandb/run-20241206_095309-fi8d8qh1/logs</code>"
      ]
     },
     "metadata": {},
     "output_type": "display_data"
    },
    {
     "data": {
      "text/plain": [
       "<IPython.core.display.HTML object>"
      ],
      "text/html": [
       "Successfully finished last run (ID:fi8d8qh1). Initializing new run:<br/>"
      ]
     },
     "metadata": {},
     "output_type": "display_data"
    },
    {
     "data": {
      "text/plain": [
       "VBox(children=(Label(value='Waiting for wandb.init()...\\r'), FloatProgress(value=0.01666809468345794, max=1.0)…"
      ],
      "application/vnd.jupyter.widget-view+json": {
       "version_major": 2,
       "version_minor": 0,
       "model_id": "b6de0c1f18eb4d4c81cea864f44b62d2"
      }
     },
     "metadata": {},
     "output_type": "display_data"
    },
    {
     "data": {
      "text/plain": [
       "<IPython.core.display.HTML object>"
      ],
      "text/html": [
       "wandb version 0.19.0 is available!  To upgrade, please run:\n",
       " $ pip install wandb --upgrade"
      ]
     },
     "metadata": {},
     "output_type": "display_data"
    },
    {
     "data": {
      "text/plain": [
       "<IPython.core.display.HTML object>"
      ],
      "text/html": [
       "Tracking run with wandb version 0.13.5"
      ]
     },
     "metadata": {},
     "output_type": "display_data"
    },
    {
     "data": {
      "text/plain": [
       "<IPython.core.display.HTML object>"
      ],
      "text/html": [
       "Run data is saved locally in <code>/home/oliver/PycharmProjects/NeuralStyle/examples/wandb/run-20241206_095403-u2xw4gtl</code>"
      ]
     },
     "metadata": {},
     "output_type": "display_data"
    },
    {
     "data": {
      "text/plain": [
       "<IPython.core.display.HTML object>"
      ],
      "text/html": [
       "Syncing run <strong><a href=\"https://wandb.ai/oliverweissl/NeuralStyleSearch/runs/u2xw4gtl\" target=\"_blank\">soft-blaze-1284</a></strong> to <a href=\"https://wandb.ai/oliverweissl/NeuralStyleSearch\" target=\"_blank\">Weights & Biases</a> (<a href=\"https://wandb.me/run\" target=\"_blank\">docs</a>)<br/>"
      ]
     },
     "metadata": {},
     "output_type": "display_data"
    },
    {
     "data": {
      "text/plain": [
       "<IPython.core.display.HTML object>"
      ],
      "text/html": [
       "Finishing last run (ID:u2xw4gtl) before initializing another..."
      ]
     },
     "metadata": {},
     "output_type": "display_data"
    },
    {
     "data": {
      "text/plain": [
       "<IPython.core.display.HTML object>"
      ],
      "text/html": [
       "Waiting for W&B process to finish... <strong style=\"color:green\">(success).</strong>"
      ]
     },
     "metadata": {},
     "output_type": "display_data"
    },
    {
     "data": {
      "text/plain": [
       "VBox(children=(Label(value='0.009 MB of 0.010 MB uploaded (0.000 MB deduped)\\r'), FloatProgress(value=0.935003…"
      ],
      "application/vnd.jupyter.widget-view+json": {
       "version_major": 2,
       "version_minor": 0,
       "model_id": "0ba8d441fcc64a0e8c3a08b51101f8d9"
      }
     },
     "metadata": {},
     "output_type": "display_data"
    },
    {
     "data": {
      "text/plain": [
       "<IPython.core.display.HTML object>"
      ],
      "text/html": [
       "<style>\n",
       "    table.wandb td:nth-child(1) { padding: 0 10px; text-align: left ; width: auto;} td:nth-child(2) {text-align: left ; width: 100%}\n",
       "    .wandb-row { display: flex; flex-direction: row; flex-wrap: wrap; justify-content: flex-start; width: 100% }\n",
       "    .wandb-col { display: flex; flex-direction: column; flex-basis: 100%; flex: 1; padding: 10px; }\n",
       "    </style>\n",
       "<div class=\"wandb-row\"><div class=\"wandb-col\"><h3>Run history:</h3><br/><table class=\"wandb\"><tr><td>max_NaiveCB</td><td>▃▄▂▁▃▅█▅▄▂▃▃▄▂▄▃▄▄▂▄▃▂▁▄▂▄▃▃▃▄▁▇▄▄▂▄▃▆▄▄</td></tr><tr><td>mean_NaiveCB</td><td>▅▆▃▅▃▄█▁▅▄▄▅▃▂▅▃▄▅▃▅▃▇▄▃▃▆▃▄▄▄▂▄▆▅▅▄▃▅▂▅</td></tr><tr><td>min_NaiveCB</td><td>▇█▇▇▅▇▇▇▂▇▇▇█▆▆▃▇▇▅█▇█▇▇▇▆▇▇▆▇▁▇█▇██▆▆▅▁</td></tr><tr><td>std_NaiveCB</td><td>▃▃▅▂▅▄▃▄▆▂▄▄▄▅▅█▄▃▅▃▆▁▄▄▄▂▄▁▃▃▆▅▂▄▁▂▅▁▅█</td></tr></table><br/></div><div class=\"wandb-col\"><h3>Run summary:</h3><br/><table class=\"wandb\"><tr><td>expected_boundary</td><td>9</td></tr><tr><td>max_NaiveCB</td><td>0.99994</td></tr><tr><td>mean_NaiveCB</td><td>0.99992</td></tr><tr><td>min_NaiveCB</td><td>0.99989</td></tr><tr><td>std_NaiveCB</td><td>1e-05</td></tr><tr><td>w0_trials</td><td>1</td></tr><tr><td>wn_trials</td><td>1</td></tr></table><br/></div></div>"
      ]
     },
     "metadata": {},
     "output_type": "display_data"
    },
    {
     "data": {
      "text/plain": [
       "<IPython.core.display.HTML object>"
      ],
      "text/html": [
       "Synced <strong style=\"color:#cdcd00\">soft-blaze-1284</strong>: <a href=\"https://wandb.ai/oliverweissl/NeuralStyleSearch/runs/u2xw4gtl\" target=\"_blank\">https://wandb.ai/oliverweissl/NeuralStyleSearch/runs/u2xw4gtl</a><br/>Synced 5 W&B file(s), 2 media file(s), 2 artifact file(s) and 0 other file(s)"
      ]
     },
     "metadata": {},
     "output_type": "display_data"
    },
    {
     "data": {
      "text/plain": [
       "<IPython.core.display.HTML object>"
      ],
      "text/html": [
       "Find logs at: <code>./wandb/run-20241206_095403-u2xw4gtl/logs</code>"
      ]
     },
     "metadata": {},
     "output_type": "display_data"
    },
    {
     "data": {
      "text/plain": [
       "<IPython.core.display.HTML object>"
      ],
      "text/html": [
       "Successfully finished last run (ID:u2xw4gtl). Initializing new run:<br/>"
      ]
     },
     "metadata": {},
     "output_type": "display_data"
    },
    {
     "data": {
      "text/plain": [
       "VBox(children=(Label(value='Waiting for wandb.init()...\\r'), FloatProgress(value=0.016669017250145166, max=1.0…"
      ],
      "application/vnd.jupyter.widget-view+json": {
       "version_major": 2,
       "version_minor": 0,
       "model_id": "a0b2d2abf0d44732857f878f2a8bdc6a"
      }
     },
     "metadata": {},
     "output_type": "display_data"
    },
    {
     "data": {
      "text/plain": [
       "<IPython.core.display.HTML object>"
      ],
      "text/html": [
       "wandb version 0.19.0 is available!  To upgrade, please run:\n",
       " $ pip install wandb --upgrade"
      ]
     },
     "metadata": {},
     "output_type": "display_data"
    },
    {
     "data": {
      "text/plain": [
       "<IPython.core.display.HTML object>"
      ],
      "text/html": [
       "Tracking run with wandb version 0.13.5"
      ]
     },
     "metadata": {},
     "output_type": "display_data"
    },
    {
     "data": {
      "text/plain": [
       "<IPython.core.display.HTML object>"
      ],
      "text/html": [
       "Run data is saved locally in <code>/home/oliver/PycharmProjects/NeuralStyle/examples/wandb/run-20241206_095456-j6z4psol</code>"
      ]
     },
     "metadata": {},
     "output_type": "display_data"
    },
    {
     "data": {
      "text/plain": [
       "<IPython.core.display.HTML object>"
      ],
      "text/html": [
       "Syncing run <strong><a href=\"https://wandb.ai/oliverweissl/NeuralStyleSearch/runs/j6z4psol\" target=\"_blank\">sandy-snowflake-1285</a></strong> to <a href=\"https://wandb.ai/oliverweissl/NeuralStyleSearch\" target=\"_blank\">Weights & Biases</a> (<a href=\"https://wandb.me/run\" target=\"_blank\">docs</a>)<br/>"
      ]
     },
     "metadata": {},
     "output_type": "display_data"
    },
    {
     "data": {
      "text/plain": [
       "<IPython.core.display.HTML object>"
      ],
      "text/html": [
       "Finishing last run (ID:j6z4psol) before initializing another..."
      ]
     },
     "metadata": {},
     "output_type": "display_data"
    },
    {
     "data": {
      "text/plain": [
       "<IPython.core.display.HTML object>"
      ],
      "text/html": [
       "Waiting for W&B process to finish... <strong style=\"color:green\">(success).</strong>"
      ]
     },
     "metadata": {},
     "output_type": "display_data"
    },
    {
     "data": {
      "text/plain": [
       "<IPython.core.display.HTML object>"
      ],
      "text/html": [
       "<style>\n",
       "    table.wandb td:nth-child(1) { padding: 0 10px; text-align: left ; width: auto;} td:nth-child(2) {text-align: left ; width: 100%}\n",
       "    .wandb-row { display: flex; flex-direction: row; flex-wrap: wrap; justify-content: flex-start; width: 100% }\n",
       "    .wandb-col { display: flex; flex-direction: column; flex-basis: 100%; flex: 1; padding: 10px; }\n",
       "    </style>\n",
       "<div class=\"wandb-row\"><div class=\"wandb-col\"><h3>Run history:</h3><br/><table class=\"wandb\"><tr><td>max_NaiveCB</td><td>▆▇▁▆▅▄▇▅▃▄▇▄▆▅▇▆▇▅▆▇█▅▆▅▅▅▆▅▄▆▇▃▂▅▆▄▃▅▄▆</td></tr><tr><td>mean_NaiveCB</td><td>▆▃▃▃▆▁▆▆▆▆▃▆▃▆▆▃█▃▆█▃▃▃▃▃▃▃▃▃▆█▃▆▆█▃▆▃▁█</td></tr><tr><td>min_NaiveCB</td><td>▃▆▆▅▄▁▅▄▆▅▇█▆▇▆▅▆▅▆▆█▅▅▆▅▆▅▂▁▄▅▇▆▅▇▆█▅▄▆</td></tr><tr><td>std_NaiveCB</td><td>▄▆▃▄▆█▃▄▄▄▄▂▇▁▅▄▄▃▄▅▁▄▆▃▇▆▇▆█▇▇▂▂▅▄▂▃▄▆▆</td></tr></table><br/></div><div class=\"wandb-col\"><h3>Run summary:</h3><br/><table class=\"wandb\"><tr><td>expected_boundary</td><td>3</td></tr><tr><td>max_NaiveCB</td><td>1.0</td></tr><tr><td>mean_NaiveCB</td><td>1.0</td></tr><tr><td>min_NaiveCB</td><td>1.0</td></tr><tr><td>std_NaiveCB</td><td>0.0</td></tr><tr><td>w0_trials</td><td>1</td></tr><tr><td>wn_trials</td><td>1</td></tr></table><br/></div></div>"
      ]
     },
     "metadata": {},
     "output_type": "display_data"
    },
    {
     "data": {
      "text/plain": [
       "<IPython.core.display.HTML object>"
      ],
      "text/html": [
       "Synced <strong style=\"color:#cdcd00\">sandy-snowflake-1285</strong>: <a href=\"https://wandb.ai/oliverweissl/NeuralStyleSearch/runs/j6z4psol\" target=\"_blank\">https://wandb.ai/oliverweissl/NeuralStyleSearch/runs/j6z4psol</a><br/>Synced 5 W&B file(s), 2 media file(s), 2 artifact file(s) and 0 other file(s)"
      ]
     },
     "metadata": {},
     "output_type": "display_data"
    },
    {
     "data": {
      "text/plain": [
       "<IPython.core.display.HTML object>"
      ],
      "text/html": [
       "Find logs at: <code>./wandb/run-20241206_095456-j6z4psol/logs</code>"
      ]
     },
     "metadata": {},
     "output_type": "display_data"
    },
    {
     "data": {
      "text/plain": [
       "<IPython.core.display.HTML object>"
      ],
      "text/html": [
       "Successfully finished last run (ID:j6z4psol). Initializing new run:<br/>"
      ]
     },
     "metadata": {},
     "output_type": "display_data"
    },
    {
     "data": {
      "text/plain": [
       "VBox(children=(Label(value='Waiting for wandb.init()...\\r'), FloatProgress(value=0.016670313883514608, max=1.0…"
      ],
      "application/vnd.jupyter.widget-view+json": {
       "version_major": 2,
       "version_minor": 0,
       "model_id": "0c2216e2cfc24ac6a15452e361b8a05c"
      }
     },
     "metadata": {},
     "output_type": "display_data"
    },
    {
     "data": {
      "text/plain": [
       "<IPython.core.display.HTML object>"
      ],
      "text/html": [
       "wandb version 0.19.0 is available!  To upgrade, please run:\n",
       " $ pip install wandb --upgrade"
      ]
     },
     "metadata": {},
     "output_type": "display_data"
    },
    {
     "data": {
      "text/plain": [
       "<IPython.core.display.HTML object>"
      ],
      "text/html": [
       "Tracking run with wandb version 0.13.5"
      ]
     },
     "metadata": {},
     "output_type": "display_data"
    },
    {
     "data": {
      "text/plain": [
       "<IPython.core.display.HTML object>"
      ],
      "text/html": [
       "Run data is saved locally in <code>/home/oliver/PycharmProjects/NeuralStyle/examples/wandb/run-20241206_095549-5vc0orqd</code>"
      ]
     },
     "metadata": {},
     "output_type": "display_data"
    },
    {
     "data": {
      "text/plain": [
       "<IPython.core.display.HTML object>"
      ],
      "text/html": [
       "Syncing run <strong><a href=\"https://wandb.ai/oliverweissl/NeuralStyleSearch/runs/5vc0orqd\" target=\"_blank\">usual-totem-1286</a></strong> to <a href=\"https://wandb.ai/oliverweissl/NeuralStyleSearch\" target=\"_blank\">Weights & Biases</a> (<a href=\"https://wandb.me/run\" target=\"_blank\">docs</a>)<br/>"
      ]
     },
     "metadata": {},
     "output_type": "display_data"
    },
    {
     "data": {
      "text/plain": [
       "<IPython.core.display.HTML object>"
      ],
      "text/html": [
       "Finishing last run (ID:5vc0orqd) before initializing another..."
      ]
     },
     "metadata": {},
     "output_type": "display_data"
    },
    {
     "data": {
      "text/plain": [
       "<IPython.core.display.HTML object>"
      ],
      "text/html": [
       "Waiting for W&B process to finish... <strong style=\"color:green\">(success).</strong>"
      ]
     },
     "metadata": {},
     "output_type": "display_data"
    },
    {
     "data": {
      "text/plain": [
       "VBox(children=(Label(value='0.009 MB of 0.009 MB uploaded (0.000 MB deduped)\\r'), FloatProgress(value=0.933428…"
      ],
      "application/vnd.jupyter.widget-view+json": {
       "version_major": 2,
       "version_minor": 0,
       "model_id": "d0aed8c2f82e4703a16b0c995e78085e"
      }
     },
     "metadata": {},
     "output_type": "display_data"
    },
    {
     "data": {
      "text/plain": [
       "<IPython.core.display.HTML object>"
      ],
      "text/html": [
       "<style>\n",
       "    table.wandb td:nth-child(1) { padding: 0 10px; text-align: left ; width: auto;} td:nth-child(2) {text-align: left ; width: 100%}\n",
       "    .wandb-row { display: flex; flex-direction: row; flex-wrap: wrap; justify-content: flex-start; width: 100% }\n",
       "    .wandb-col { display: flex; flex-direction: column; flex-basis: 100%; flex: 1; padding: 10px; }\n",
       "    </style>\n",
       "<div class=\"wandb-row\"><div class=\"wandb-col\"><h3>Run history:</h3><br/><table class=\"wandb\"><tr><td>max_NaiveCB</td><td>▇▇▆█▆▇▇▆▇▇▆▆█▁▇▆▄▆▅▇▄▃█▆▅▅█▇▆▅▄▅▇▅█▇▄▇▅▇</td></tr><tr><td>mean_NaiveCB</td><td>▇▇▁▇█▇▇▅▅▆▇▇▆▇▅▄▆▅▇▆▅▆▇▇▇▆▆▆█▇▆▆▅▆▇▄█▇▆█</td></tr><tr><td>min_NaiveCB</td><td>██▁████████████▆███▇█▅███▇████▇█▅███████</td></tr><tr><td>std_NaiveCB</td><td>▂▁█▁▁▁▂▂▂▂▂▁▂▁▂▃▁▂▂▂▁▄▂▁▁▂▁▁▁▁▂▁▃▁▂▃▁▁▁▁</td></tr></table><br/></div><div class=\"wandb-col\"><h3>Run summary:</h3><br/><table class=\"wandb\"><tr><td>expected_boundary</td><td>6</td></tr><tr><td>max_NaiveCB</td><td>0.9996</td></tr><tr><td>mean_NaiveCB</td><td>0.99842</td></tr><tr><td>min_NaiveCB</td><td>0.99454</td></tr><tr><td>std_NaiveCB</td><td>0.00098</td></tr><tr><td>w0_trials</td><td>1</td></tr><tr><td>wn_trials</td><td>1</td></tr></table><br/></div></div>"
      ]
     },
     "metadata": {},
     "output_type": "display_data"
    },
    {
     "data": {
      "text/plain": [
       "<IPython.core.display.HTML object>"
      ],
      "text/html": [
       "Synced <strong style=\"color:#cdcd00\">usual-totem-1286</strong>: <a href=\"https://wandb.ai/oliverweissl/NeuralStyleSearch/runs/5vc0orqd\" target=\"_blank\">https://wandb.ai/oliverweissl/NeuralStyleSearch/runs/5vc0orqd</a><br/>Synced 5 W&B file(s), 2 media file(s), 2 artifact file(s) and 0 other file(s)"
      ]
     },
     "metadata": {},
     "output_type": "display_data"
    },
    {
     "data": {
      "text/plain": [
       "<IPython.core.display.HTML object>"
      ],
      "text/html": [
       "Find logs at: <code>./wandb/run-20241206_095549-5vc0orqd/logs</code>"
      ]
     },
     "metadata": {},
     "output_type": "display_data"
    },
    {
     "data": {
      "text/plain": [
       "<IPython.core.display.HTML object>"
      ],
      "text/html": [
       "Successfully finished last run (ID:5vc0orqd). Initializing new run:<br/>"
      ]
     },
     "metadata": {},
     "output_type": "display_data"
    },
    {
     "data": {
      "text/plain": [
       "VBox(children=(Label(value='Waiting for wandb.init()...\\r'), FloatProgress(value=0.016668206983498142, max=1.0…"
      ],
      "application/vnd.jupyter.widget-view+json": {
       "version_major": 2,
       "version_minor": 0,
       "model_id": "d8d540d3eb454071a392c245ac548e9b"
      }
     },
     "metadata": {},
     "output_type": "display_data"
    },
    {
     "data": {
      "text/plain": [
       "<IPython.core.display.HTML object>"
      ],
      "text/html": [
       "wandb version 0.19.0 is available!  To upgrade, please run:\n",
       " $ pip install wandb --upgrade"
      ]
     },
     "metadata": {},
     "output_type": "display_data"
    },
    {
     "data": {
      "text/plain": [
       "<IPython.core.display.HTML object>"
      ],
      "text/html": [
       "Tracking run with wandb version 0.13.5"
      ]
     },
     "metadata": {},
     "output_type": "display_data"
    },
    {
     "data": {
      "text/plain": [
       "<IPython.core.display.HTML object>"
      ],
      "text/html": [
       "Run data is saved locally in <code>/home/oliver/PycharmProjects/NeuralStyle/examples/wandb/run-20241206_095643-37g2jbhx</code>"
      ]
     },
     "metadata": {},
     "output_type": "display_data"
    },
    {
     "data": {
      "text/plain": [
       "<IPython.core.display.HTML object>"
      ],
      "text/html": [
       "Syncing run <strong><a href=\"https://wandb.ai/oliverweissl/NeuralStyleSearch/runs/37g2jbhx\" target=\"_blank\">dandy-serenity-1287</a></strong> to <a href=\"https://wandb.ai/oliverweissl/NeuralStyleSearch\" target=\"_blank\">Weights & Biases</a> (<a href=\"https://wandb.me/run\" target=\"_blank\">docs</a>)<br/>"
      ]
     },
     "metadata": {},
     "output_type": "display_data"
    },
    {
     "data": {
      "text/plain": [
       "<IPython.core.display.HTML object>"
      ],
      "text/html": [
       "Finishing last run (ID:37g2jbhx) before initializing another..."
      ]
     },
     "metadata": {},
     "output_type": "display_data"
    },
    {
     "data": {
      "text/plain": [
       "<IPython.core.display.HTML object>"
      ],
      "text/html": [
       "Waiting for W&B process to finish... <strong style=\"color:green\">(success).</strong>"
      ]
     },
     "metadata": {},
     "output_type": "display_data"
    },
    {
     "data": {
      "text/plain": [
       "<IPython.core.display.HTML object>"
      ],
      "text/html": [
       "<style>\n",
       "    table.wandb td:nth-child(1) { padding: 0 10px; text-align: left ; width: auto;} td:nth-child(2) {text-align: left ; width: 100%}\n",
       "    .wandb-row { display: flex; flex-direction: row; flex-wrap: wrap; justify-content: flex-start; width: 100% }\n",
       "    .wandb-col { display: flex; flex-direction: column; flex-basis: 100%; flex: 1; padding: 10px; }\n",
       "    </style>\n",
       "<div class=\"wandb-row\"><div class=\"wandb-col\"><h3>Run history:</h3><br/><table class=\"wandb\"><tr><td>max_NaiveCB</td><td>▄▆▃▆▄▃▅▄▇▄▆▄▅▇▆▆▁▃▂▃▂▅▅▃▇█▄▄▄▇▄▃▃▃▅▄▄▂▃▅</td></tr><tr><td>mean_NaiveCB</td><td>▂▅▄▆▃▄▆▅▆▅▄▇▃▅▅▆▁▆▃▅▄▆▃▇▅▆▅▆▂▆▆▇▄▃▇▅▃▅▃█</td></tr><tr><td>min_NaiveCB</td><td>▁█▇▇█▇████▇██▇██▇█▆████▇█▇██▇███████████</td></tr><tr><td>std_NaiveCB</td><td>█▁▂▂▁▂▁▁▁▁▂▁▁▂▂▁▂▁▂▁▁▁▁▁▁▂▁▁▂▁▁▁▁▁▁▁▁▁▁▁</td></tr></table><br/></div><div class=\"wandb-col\"><h3>Run summary:</h3><br/><table class=\"wandb\"><tr><td>expected_boundary</td><td>3</td></tr><tr><td>max_NaiveCB</td><td>0.99974</td></tr><tr><td>mean_NaiveCB</td><td>0.99964</td></tr><tr><td>min_NaiveCB</td><td>0.99911</td></tr><tr><td>std_NaiveCB</td><td>8e-05</td></tr><tr><td>w0_trials</td><td>1</td></tr><tr><td>wn_trials</td><td>1</td></tr></table><br/></div></div>"
      ]
     },
     "metadata": {},
     "output_type": "display_data"
    },
    {
     "data": {
      "text/plain": [
       "<IPython.core.display.HTML object>"
      ],
      "text/html": [
       "Synced <strong style=\"color:#cdcd00\">dandy-serenity-1287</strong>: <a href=\"https://wandb.ai/oliverweissl/NeuralStyleSearch/runs/37g2jbhx\" target=\"_blank\">https://wandb.ai/oliverweissl/NeuralStyleSearch/runs/37g2jbhx</a><br/>Synced 5 W&B file(s), 2 media file(s), 2 artifact file(s) and 0 other file(s)"
      ]
     },
     "metadata": {},
     "output_type": "display_data"
    },
    {
     "data": {
      "text/plain": [
       "<IPython.core.display.HTML object>"
      ],
      "text/html": [
       "Find logs at: <code>./wandb/run-20241206_095643-37g2jbhx/logs</code>"
      ]
     },
     "metadata": {},
     "output_type": "display_data"
    },
    {
     "data": {
      "text/plain": [
       "<IPython.core.display.HTML object>"
      ],
      "text/html": [
       "Successfully finished last run (ID:37g2jbhx). Initializing new run:<br/>"
      ]
     },
     "metadata": {},
     "output_type": "display_data"
    },
    {
     "data": {
      "text/plain": [
       "VBox(children=(Label(value='Waiting for wandb.init()...\\r'), FloatProgress(value=0.01666905304979688, max=1.0)…"
      ],
      "application/vnd.jupyter.widget-view+json": {
       "version_major": 2,
       "version_minor": 0,
       "model_id": "f13ea3ede80444babeca84df9f9deabd"
      }
     },
     "metadata": {},
     "output_type": "display_data"
    },
    {
     "data": {
      "text/plain": [
       "<IPython.core.display.HTML object>"
      ],
      "text/html": [
       "wandb version 0.19.0 is available!  To upgrade, please run:\n",
       " $ pip install wandb --upgrade"
      ]
     },
     "metadata": {},
     "output_type": "display_data"
    },
    {
     "data": {
      "text/plain": [
       "<IPython.core.display.HTML object>"
      ],
      "text/html": [
       "Tracking run with wandb version 0.13.5"
      ]
     },
     "metadata": {},
     "output_type": "display_data"
    },
    {
     "data": {
      "text/plain": [
       "<IPython.core.display.HTML object>"
      ],
      "text/html": [
       "Run data is saved locally in <code>/home/oliver/PycharmProjects/NeuralStyle/examples/wandb/run-20241206_095736-a7tr3oo0</code>"
      ]
     },
     "metadata": {},
     "output_type": "display_data"
    },
    {
     "data": {
      "text/plain": [
       "<IPython.core.display.HTML object>"
      ],
      "text/html": [
       "Syncing run <strong><a href=\"https://wandb.ai/oliverweissl/NeuralStyleSearch/runs/a7tr3oo0\" target=\"_blank\">smooth-blaze-1288</a></strong> to <a href=\"https://wandb.ai/oliverweissl/NeuralStyleSearch\" target=\"_blank\">Weights & Biases</a> (<a href=\"https://wandb.me/run\" target=\"_blank\">docs</a>)<br/>"
      ]
     },
     "metadata": {},
     "output_type": "display_data"
    },
    {
     "data": {
      "text/plain": [
       "<IPython.core.display.HTML object>"
      ],
      "text/html": [
       "Finishing last run (ID:a7tr3oo0) before initializing another..."
      ]
     },
     "metadata": {},
     "output_type": "display_data"
    },
    {
     "data": {
      "text/plain": [
       "<IPython.core.display.HTML object>"
      ],
      "text/html": [
       "Waiting for W&B process to finish... <strong style=\"color:green\">(success).</strong>"
      ]
     },
     "metadata": {},
     "output_type": "display_data"
    },
    {
     "data": {
      "text/plain": [
       "<IPython.core.display.HTML object>"
      ],
      "text/html": [
       "<style>\n",
       "    table.wandb td:nth-child(1) { padding: 0 10px; text-align: left ; width: auto;} td:nth-child(2) {text-align: left ; width: 100%}\n",
       "    .wandb-row { display: flex; flex-direction: row; flex-wrap: wrap; justify-content: flex-start; width: 100% }\n",
       "    .wandb-col { display: flex; flex-direction: column; flex-basis: 100%; flex: 1; padding: 10px; }\n",
       "    </style>\n",
       "<div class=\"wandb-row\"><div class=\"wandb-col\"><h3>Run history:</h3><br/><table class=\"wandb\"><tr><td>max_NaiveCB</td><td>▂▄▃▃▄▄▁▆▃▁▂▃▄▃▅▃▃▃▅▂▂▁█▆▄▅▅▃▄▂▅▅▆▁▃▅▄▂▃▂</td></tr><tr><td>mean_NaiveCB</td><td>▇▇▅▆▆▄▃▄▆▁▄▆▆▆▅▆▄▆▅▅▃▆▇▇▆▆█▇▆▆▇▆▆▅▃▆▆▆▇▆</td></tr><tr><td>min_NaiveCB</td><td>█▆▇▄▆▆▃▆▇▁▇▇▇▄▇▇▃▅▆▅▅▇▇▆█▆▇▅▇▃▆▇▇▆▆▅▇▆▇▇</td></tr><tr><td>std_NaiveCB</td><td>▁▄▃▅▅▆▇▄▂█▄▂▃▅▃▃▇▅▅▄▅▄▃▃▂▅▁▅▄▅▅▄▄▄▅▅▂▄▃▃</td></tr></table><br/></div><div class=\"wandb-col\"><h3>Run summary:</h3><br/><table class=\"wandb\"><tr><td>expected_boundary</td><td>6</td></tr><tr><td>max_NaiveCB</td><td>0.99996</td></tr><tr><td>mean_NaiveCB</td><td>0.99996</td></tr><tr><td>min_NaiveCB</td><td>0.99993</td></tr><tr><td>std_NaiveCB</td><td>1e-05</td></tr><tr><td>w0_trials</td><td>1</td></tr><tr><td>wn_trials</td><td>1</td></tr></table><br/></div></div>"
      ]
     },
     "metadata": {},
     "output_type": "display_data"
    },
    {
     "data": {
      "text/plain": [
       "<IPython.core.display.HTML object>"
      ],
      "text/html": [
       "Synced <strong style=\"color:#cdcd00\">smooth-blaze-1288</strong>: <a href=\"https://wandb.ai/oliverweissl/NeuralStyleSearch/runs/a7tr3oo0\" target=\"_blank\">https://wandb.ai/oliverweissl/NeuralStyleSearch/runs/a7tr3oo0</a><br/>Synced 5 W&B file(s), 2 media file(s), 2 artifact file(s) and 0 other file(s)"
      ]
     },
     "metadata": {},
     "output_type": "display_data"
    },
    {
     "data": {
      "text/plain": [
       "<IPython.core.display.HTML object>"
      ],
      "text/html": [
       "Find logs at: <code>./wandb/run-20241206_095736-a7tr3oo0/logs</code>"
      ]
     },
     "metadata": {},
     "output_type": "display_data"
    },
    {
     "data": {
      "text/plain": [
       "<IPython.core.display.HTML object>"
      ],
      "text/html": [
       "Successfully finished last run (ID:a7tr3oo0). Initializing new run:<br/>"
      ]
     },
     "metadata": {},
     "output_type": "display_data"
    },
    {
     "data": {
      "text/plain": [
       "VBox(children=(Label(value='Waiting for wandb.init()...\\r'), FloatProgress(value=0.016668224933285576, max=1.0…"
      ],
      "application/vnd.jupyter.widget-view+json": {
       "version_major": 2,
       "version_minor": 0,
       "model_id": "6f1764552ab94c24a3debe3a0ad154a7"
      }
     },
     "metadata": {},
     "output_type": "display_data"
    },
    {
     "data": {
      "text/plain": [
       "<IPython.core.display.HTML object>"
      ],
      "text/html": [
       "wandb version 0.19.0 is available!  To upgrade, please run:\n",
       " $ pip install wandb --upgrade"
      ]
     },
     "metadata": {},
     "output_type": "display_data"
    },
    {
     "data": {
      "text/plain": [
       "<IPython.core.display.HTML object>"
      ],
      "text/html": [
       "Tracking run with wandb version 0.13.5"
      ]
     },
     "metadata": {},
     "output_type": "display_data"
    },
    {
     "data": {
      "text/plain": [
       "<IPython.core.display.HTML object>"
      ],
      "text/html": [
       "Run data is saved locally in <code>/home/oliver/PycharmProjects/NeuralStyle/examples/wandb/run-20241206_095830-twxaguwt</code>"
      ]
     },
     "metadata": {},
     "output_type": "display_data"
    },
    {
     "data": {
      "text/plain": [
       "<IPython.core.display.HTML object>"
      ],
      "text/html": [
       "Syncing run <strong><a href=\"https://wandb.ai/oliverweissl/NeuralStyleSearch/runs/twxaguwt\" target=\"_blank\">lemon-bee-1289</a></strong> to <a href=\"https://wandb.ai/oliverweissl/NeuralStyleSearch\" target=\"_blank\">Weights & Biases</a> (<a href=\"https://wandb.me/run\" target=\"_blank\">docs</a>)<br/>"
      ]
     },
     "metadata": {},
     "output_type": "display_data"
    },
    {
     "data": {
      "text/plain": [
       "<IPython.core.display.HTML object>"
      ],
      "text/html": [
       "Finishing last run (ID:twxaguwt) before initializing another..."
      ]
     },
     "metadata": {},
     "output_type": "display_data"
    },
    {
     "data": {
      "text/plain": [
       "<IPython.core.display.HTML object>"
      ],
      "text/html": [
       "Waiting for W&B process to finish... <strong style=\"color:green\">(success).</strong>"
      ]
     },
     "metadata": {},
     "output_type": "display_data"
    },
    {
     "data": {
      "text/plain": [
       "<IPython.core.display.HTML object>"
      ],
      "text/html": [
       "<style>\n",
       "    table.wandb td:nth-child(1) { padding: 0 10px; text-align: left ; width: auto;} td:nth-child(2) {text-align: left ; width: 100%}\n",
       "    .wandb-row { display: flex; flex-direction: row; flex-wrap: wrap; justify-content: flex-start; width: 100% }\n",
       "    .wandb-col { display: flex; flex-direction: column; flex-basis: 100%; flex: 1; padding: 10px; }\n",
       "    </style>\n",
       "<div class=\"wandb-row\"><div class=\"wandb-col\"><h3>Run history:</h3><br/><table class=\"wandb\"><tr><td>max_NaiveCB</td><td>▂▂▂▃▂▄▅▃▃▄▄▂▇▂▂▃▂▂▃▂▂▁▃▃▂▄▃▃▁▂▂▃█▃▂▃▆▃▁▃</td></tr><tr><td>mean_NaiveCB</td><td>▄▄▄▅▆▅▅▄▃▇▇▄▆▄▆▆▆▅▃▄▄▁▃▆▅▃▅▅▃▅▃▅▃▆▃█▃▆▄▅</td></tr><tr><td>min_NaiveCB</td><td>▅▄▄▃█▆▆▄▅█▇▄▅▄▆▇▆▅▄▁▆▅▅▆▄▅▅▆▅▆▅▃▄▅▅▆▇▅▅▆</td></tr><tr><td>std_NaiveCB</td><td>▅▆▆▆▁▆▄█▅▁▃▇▇▇▂▂▅▃▆▆▄▅▇▅▅▅▅▅▅▁▆▇█▄▅▅▂▅▄▄</td></tr></table><br/></div><div class=\"wandb-col\"><h3>Run summary:</h3><br/><table class=\"wandb\"><tr><td>expected_boundary</td><td>9</td></tr><tr><td>max_NaiveCB</td><td>0.99998</td></tr><tr><td>mean_NaiveCB</td><td>0.99998</td></tr><tr><td>min_NaiveCB</td><td>0.99997</td></tr><tr><td>std_NaiveCB</td><td>0.0</td></tr><tr><td>w0_trials</td><td>1</td></tr><tr><td>wn_trials</td><td>1</td></tr></table><br/></div></div>"
      ]
     },
     "metadata": {},
     "output_type": "display_data"
    },
    {
     "data": {
      "text/plain": [
       "<IPython.core.display.HTML object>"
      ],
      "text/html": [
       "Synced <strong style=\"color:#cdcd00\">lemon-bee-1289</strong>: <a href=\"https://wandb.ai/oliverweissl/NeuralStyleSearch/runs/twxaguwt\" target=\"_blank\">https://wandb.ai/oliverweissl/NeuralStyleSearch/runs/twxaguwt</a><br/>Synced 5 W&B file(s), 2 media file(s), 2 artifact file(s) and 0 other file(s)"
      ]
     },
     "metadata": {},
     "output_type": "display_data"
    },
    {
     "data": {
      "text/plain": [
       "<IPython.core.display.HTML object>"
      ],
      "text/html": [
       "Find logs at: <code>./wandb/run-20241206_095830-twxaguwt/logs</code>"
      ]
     },
     "metadata": {},
     "output_type": "display_data"
    },
    {
     "data": {
      "text/plain": [
       "<IPython.core.display.HTML object>"
      ],
      "text/html": [
       "Successfully finished last run (ID:twxaguwt). Initializing new run:<br/>"
      ]
     },
     "metadata": {},
     "output_type": "display_data"
    },
    {
     "data": {
      "text/plain": [
       "VBox(children=(Label(value='Waiting for wandb.init()...\\r'), FloatProgress(value=0.016668832116799117, max=1.0…"
      ],
      "application/vnd.jupyter.widget-view+json": {
       "version_major": 2,
       "version_minor": 0,
       "model_id": "c9f25c9e6d7f4106b0715d26ef9e2759"
      }
     },
     "metadata": {},
     "output_type": "display_data"
    },
    {
     "data": {
      "text/plain": [
       "<IPython.core.display.HTML object>"
      ],
      "text/html": [
       "wandb version 0.19.0 is available!  To upgrade, please run:\n",
       " $ pip install wandb --upgrade"
      ]
     },
     "metadata": {},
     "output_type": "display_data"
    },
    {
     "data": {
      "text/plain": [
       "<IPython.core.display.HTML object>"
      ],
      "text/html": [
       "Tracking run with wandb version 0.13.5"
      ]
     },
     "metadata": {},
     "output_type": "display_data"
    },
    {
     "data": {
      "text/plain": [
       "<IPython.core.display.HTML object>"
      ],
      "text/html": [
       "Run data is saved locally in <code>/home/oliver/PycharmProjects/NeuralStyle/examples/wandb/run-20241206_095924-6ro4p6f4</code>"
      ]
     },
     "metadata": {},
     "output_type": "display_data"
    },
    {
     "data": {
      "text/plain": [
       "<IPython.core.display.HTML object>"
      ],
      "text/html": [
       "Syncing run <strong><a href=\"https://wandb.ai/oliverweissl/NeuralStyleSearch/runs/6ro4p6f4\" target=\"_blank\">comfy-glade-1290</a></strong> to <a href=\"https://wandb.ai/oliverweissl/NeuralStyleSearch\" target=\"_blank\">Weights & Biases</a> (<a href=\"https://wandb.me/run\" target=\"_blank\">docs</a>)<br/>"
      ]
     },
     "metadata": {},
     "output_type": "display_data"
    },
    {
     "data": {
      "text/plain": [
       "<IPython.core.display.HTML object>"
      ],
      "text/html": [
       "Finishing last run (ID:6ro4p6f4) before initializing another..."
      ]
     },
     "metadata": {},
     "output_type": "display_data"
    },
    {
     "data": {
      "text/plain": [
       "<IPython.core.display.HTML object>"
      ],
      "text/html": [
       "Waiting for W&B process to finish... <strong style=\"color:green\">(success).</strong>"
      ]
     },
     "metadata": {},
     "output_type": "display_data"
    },
    {
     "data": {
      "text/plain": [
       "<IPython.core.display.HTML object>"
      ],
      "text/html": [
       "<style>\n",
       "    table.wandb td:nth-child(1) { padding: 0 10px; text-align: left ; width: auto;} td:nth-child(2) {text-align: left ; width: 100%}\n",
       "    .wandb-row { display: flex; flex-direction: row; flex-wrap: wrap; justify-content: flex-start; width: 100% }\n",
       "    .wandb-col { display: flex; flex-direction: column; flex-basis: 100%; flex: 1; padding: 10px; }\n",
       "    </style>\n",
       "<div class=\"wandb-row\"><div class=\"wandb-col\"><h3>Run history:</h3><br/><table class=\"wandb\"><tr><td>max_NaiveCB</td><td>▃▄▅▅▃▇▁▆█▄▆▇▅▅▁▂▇▁▆▅▅▆▃▆▅▆▂▅▂▁▂▅▂▆▄▄▅▅▆▅</td></tr><tr><td>mean_NaiveCB</td><td>▄▇▆▅▄▅▆▃▇▆▇█▆▄▆▅▂▄▇▄▅▇▅▃▄▄▅▅▅▅▅▅▄▅▄▇▆▁▃▅</td></tr><tr><td>min_NaiveCB</td><td>▁▂▃▂▃▃▂▁▅▂▂▃▂▁▂▃█▂▁▁▃▄▁▁▁▅▁▂▂▃▆▄▂▂▅▁▁▁▁▁</td></tr><tr><td>std_NaiveCB</td><td>▃▄▃▅▄▆▁▆▅▃█▅▇▅▂▂▄▃▆▅▅▄▃▇▄▄▂▆▃▃▂▅▄▆▁▄▅▆▅▅</td></tr></table><br/></div><div class=\"wandb-col\"><h3>Run summary:</h3><br/><table class=\"wandb\"><tr><td>expected_boundary</td><td>9</td></tr><tr><td>max_NaiveCB</td><td>0.63202</td></tr><tr><td>mean_NaiveCB</td><td>0.25421</td></tr><tr><td>min_NaiveCB</td><td>0.00403</td></tr><tr><td>std_NaiveCB</td><td>0.11843</td></tr><tr><td>w0_trials</td><td>1</td></tr><tr><td>wn_trials</td><td>1</td></tr></table><br/></div></div>"
      ]
     },
     "metadata": {},
     "output_type": "display_data"
    },
    {
     "data": {
      "text/plain": [
       "<IPython.core.display.HTML object>"
      ],
      "text/html": [
       "Synced <strong style=\"color:#cdcd00\">comfy-glade-1290</strong>: <a href=\"https://wandb.ai/oliverweissl/NeuralStyleSearch/runs/6ro4p6f4\" target=\"_blank\">https://wandb.ai/oliverweissl/NeuralStyleSearch/runs/6ro4p6f4</a><br/>Synced 5 W&B file(s), 2 media file(s), 2 artifact file(s) and 0 other file(s)"
      ]
     },
     "metadata": {},
     "output_type": "display_data"
    },
    {
     "data": {
      "text/plain": [
       "<IPython.core.display.HTML object>"
      ],
      "text/html": [
       "Find logs at: <code>./wandb/run-20241206_095924-6ro4p6f4/logs</code>"
      ]
     },
     "metadata": {},
     "output_type": "display_data"
    },
    {
     "data": {
      "text/plain": [
       "<IPython.core.display.HTML object>"
      ],
      "text/html": [
       "Successfully finished last run (ID:6ro4p6f4). Initializing new run:<br/>"
      ]
     },
     "metadata": {},
     "output_type": "display_data"
    },
    {
     "data": {
      "text/plain": [
       "VBox(children=(Label(value='Waiting for wandb.init()...\\r'), FloatProgress(value=0.016669148232904264, max=1.0…"
      ],
      "application/vnd.jupyter.widget-view+json": {
       "version_major": 2,
       "version_minor": 0,
       "model_id": "51ad95cfb3664680b33857bd69137843"
      }
     },
     "metadata": {},
     "output_type": "display_data"
    },
    {
     "data": {
      "text/plain": [
       "<IPython.core.display.HTML object>"
      ],
      "text/html": [
       "wandb version 0.19.0 is available!  To upgrade, please run:\n",
       " $ pip install wandb --upgrade"
      ]
     },
     "metadata": {},
     "output_type": "display_data"
    },
    {
     "data": {
      "text/plain": [
       "<IPython.core.display.HTML object>"
      ],
      "text/html": [
       "Tracking run with wandb version 0.13.5"
      ]
     },
     "metadata": {},
     "output_type": "display_data"
    },
    {
     "data": {
      "text/plain": [
       "<IPython.core.display.HTML object>"
      ],
      "text/html": [
       "Run data is saved locally in <code>/home/oliver/PycharmProjects/NeuralStyle/examples/wandb/run-20241206_100018-cythtytf</code>"
      ]
     },
     "metadata": {},
     "output_type": "display_data"
    },
    {
     "data": {
      "text/plain": [
       "<IPython.core.display.HTML object>"
      ],
      "text/html": [
       "Syncing run <strong><a href=\"https://wandb.ai/oliverweissl/NeuralStyleSearch/runs/cythtytf\" target=\"_blank\">cool-glade-1291</a></strong> to <a href=\"https://wandb.ai/oliverweissl/NeuralStyleSearch\" target=\"_blank\">Weights & Biases</a> (<a href=\"https://wandb.me/run\" target=\"_blank\">docs</a>)<br/>"
      ]
     },
     "metadata": {},
     "output_type": "display_data"
    },
    {
     "data": {
      "text/plain": [
       "<IPython.core.display.HTML object>"
      ],
      "text/html": [
       "Finishing last run (ID:cythtytf) before initializing another..."
      ]
     },
     "metadata": {},
     "output_type": "display_data"
    },
    {
     "data": {
      "text/plain": [
       "<IPython.core.display.HTML object>"
      ],
      "text/html": [
       "Waiting for W&B process to finish... <strong style=\"color:green\">(success).</strong>"
      ]
     },
     "metadata": {},
     "output_type": "display_data"
    },
    {
     "data": {
      "text/plain": [
       "VBox(children=(Label(value='0.009 MB of 0.009 MB uploaded (0.000 MB deduped)\\r'), FloatProgress(value=0.933326…"
      ],
      "application/vnd.jupyter.widget-view+json": {
       "version_major": 2,
       "version_minor": 0,
       "model_id": "770c78a6d7bb4c40a1799ae481894190"
      }
     },
     "metadata": {},
     "output_type": "display_data"
    },
    {
     "data": {
      "text/plain": [
       "<IPython.core.display.HTML object>"
      ],
      "text/html": [
       "<style>\n",
       "    table.wandb td:nth-child(1) { padding: 0 10px; text-align: left ; width: auto;} td:nth-child(2) {text-align: left ; width: 100%}\n",
       "    .wandb-row { display: flex; flex-direction: row; flex-wrap: wrap; justify-content: flex-start; width: 100% }\n",
       "    .wandb-col { display: flex; flex-direction: column; flex-basis: 100%; flex: 1; padding: 10px; }\n",
       "    </style>\n",
       "<div class=\"wandb-row\"><div class=\"wandb-col\"><h3>Run history:</h3><br/><table class=\"wandb\"><tr><td>max_NaiveCB</td><td>▇▇█▇▇▇▄▇█▇█▇▆▇▇▇▇▇▇▇▇▇▇▆▇▃▇▆▇█▇▂▁▇▇▆▇▆▇▃</td></tr><tr><td>mean_NaiveCB</td><td>█▅▆▅▆▆▆▅▅▃▇▅▄▄▅▆▄▂▆▅▄▄▄▁▄▃▃▄▃▃▅█▄▃▃▄▅▆▄▄</td></tr><tr><td>min_NaiveCB</td><td>▇▂▃▇█▁▂▃▃▅▂▅▁▂▁▂▁▁▅▂▂▂▁▃▆▃▁▃▃▂▃▅▂▃▁▁▁▇▁▁</td></tr><tr><td>std_NaiveCB</td><td>▁▃▃▃▁▄▄▄▄▄▄▄▇▅▅▄▅█▂▄▆▆▆▇▂▅▆▅▅▆▅▁▆▅▆▄▅▃▄▅</td></tr></table><br/></div><div class=\"wandb-col\"><h3>Run summary:</h3><br/><table class=\"wandb\"><tr><td>expected_boundary</td><td>2</td></tr><tr><td>max_NaiveCB</td><td>0.97965</td></tr><tr><td>mean_NaiveCB</td><td>0.80925</td></tr><tr><td>min_NaiveCB</td><td>0.14414</td></tr><tr><td>std_NaiveCB</td><td>0.15378</td></tr><tr><td>w0_trials</td><td>1</td></tr><tr><td>wn_trials</td><td>1</td></tr></table><br/></div></div>"
      ]
     },
     "metadata": {},
     "output_type": "display_data"
    },
    {
     "data": {
      "text/plain": [
       "<IPython.core.display.HTML object>"
      ],
      "text/html": [
       "Synced <strong style=\"color:#cdcd00\">cool-glade-1291</strong>: <a href=\"https://wandb.ai/oliverweissl/NeuralStyleSearch/runs/cythtytf\" target=\"_blank\">https://wandb.ai/oliverweissl/NeuralStyleSearch/runs/cythtytf</a><br/>Synced 5 W&B file(s), 2 media file(s), 2 artifact file(s) and 0 other file(s)"
      ]
     },
     "metadata": {},
     "output_type": "display_data"
    },
    {
     "data": {
      "text/plain": [
       "<IPython.core.display.HTML object>"
      ],
      "text/html": [
       "Find logs at: <code>./wandb/run-20241206_100018-cythtytf/logs</code>"
      ]
     },
     "metadata": {},
     "output_type": "display_data"
    },
    {
     "data": {
      "text/plain": [
       "<IPython.core.display.HTML object>"
      ],
      "text/html": [
       "Successfully finished last run (ID:cythtytf). Initializing new run:<br/>"
      ]
     },
     "metadata": {},
     "output_type": "display_data"
    },
    {
     "data": {
      "text/plain": [
       "VBox(children=(Label(value='Waiting for wandb.init()...\\r'), FloatProgress(value=0.016668049716584695, max=1.0…"
      ],
      "application/vnd.jupyter.widget-view+json": {
       "version_major": 2,
       "version_minor": 0,
       "model_id": "6801cda8dc4347d485dc44c5175acb02"
      }
     },
     "metadata": {},
     "output_type": "display_data"
    },
    {
     "data": {
      "text/plain": [
       "<IPython.core.display.HTML object>"
      ],
      "text/html": [
       "wandb version 0.19.0 is available!  To upgrade, please run:\n",
       " $ pip install wandb --upgrade"
      ]
     },
     "metadata": {},
     "output_type": "display_data"
    },
    {
     "data": {
      "text/plain": [
       "<IPython.core.display.HTML object>"
      ],
      "text/html": [
       "Tracking run with wandb version 0.13.5"
      ]
     },
     "metadata": {},
     "output_type": "display_data"
    },
    {
     "data": {
      "text/plain": [
       "<IPython.core.display.HTML object>"
      ],
      "text/html": [
       "Run data is saved locally in <code>/home/oliver/PycharmProjects/NeuralStyle/examples/wandb/run-20241206_100112-cgsug9hf</code>"
      ]
     },
     "metadata": {},
     "output_type": "display_data"
    },
    {
     "data": {
      "text/plain": [
       "<IPython.core.display.HTML object>"
      ],
      "text/html": [
       "Syncing run <strong><a href=\"https://wandb.ai/oliverweissl/NeuralStyleSearch/runs/cgsug9hf\" target=\"_blank\">ruby-violet-1292</a></strong> to <a href=\"https://wandb.ai/oliverweissl/NeuralStyleSearch\" target=\"_blank\">Weights & Biases</a> (<a href=\"https://wandb.me/run\" target=\"_blank\">docs</a>)<br/>"
      ]
     },
     "metadata": {},
     "output_type": "display_data"
    },
    {
     "data": {
      "text/plain": [
       "<IPython.core.display.HTML object>"
      ],
      "text/html": [
       "Finishing last run (ID:cgsug9hf) before initializing another..."
      ]
     },
     "metadata": {},
     "output_type": "display_data"
    },
    {
     "data": {
      "text/plain": [
       "<IPython.core.display.HTML object>"
      ],
      "text/html": [
       "Waiting for W&B process to finish... <strong style=\"color:green\">(success).</strong>"
      ]
     },
     "metadata": {},
     "output_type": "display_data"
    },
    {
     "data": {
      "text/plain": [
       "<IPython.core.display.HTML object>"
      ],
      "text/html": [
       "<style>\n",
       "    table.wandb td:nth-child(1) { padding: 0 10px; text-align: left ; width: auto;} td:nth-child(2) {text-align: left ; width: 100%}\n",
       "    .wandb-row { display: flex; flex-direction: row; flex-wrap: wrap; justify-content: flex-start; width: 100% }\n",
       "    .wandb-col { display: flex; flex-direction: column; flex-basis: 100%; flex: 1; padding: 10px; }\n",
       "    </style>\n",
       "<div class=\"wandb-row\"><div class=\"wandb-col\"><h3>Run history:</h3><br/><table class=\"wandb\"><tr><td>max_NaiveCB</td><td>▄▄▆▇▂▃▅▂▁▇▆▅▆▆▂▃█▅▄██▅▂▁▅▃▆▃▃▄▂▃▁▅▆▆▄▅▆▁</td></tr><tr><td>mean_NaiveCB</td><td>▇▄▄▂▄▄▃▁▃▂▃▄▃█▄▃▂▂▆▃▄▄▆▆▁▂▄▃▃▅▄▅▅▁▂▄▄▃▇▂</td></tr><tr><td>min_NaiveCB</td><td>▆▇▆▄▆▆▆▅▆▇▆▆▆█▅▆▅▄▅▇▆▆▇▇▁▆▆▆▅▆▇▆▇▃▅█▅▅▇▆</td></tr><tr><td>std_NaiveCB</td><td>▅▁▃▄▂▆▄▂▄▄▄▇▆▁█▅▇█▅▅▄▆▃▂▇▄▄▆▆▆▃▅▃▇▆▂▅▅▄▂</td></tr></table><br/></div><div class=\"wandb-col\"><h3>Run summary:</h3><br/><table class=\"wandb\"><tr><td>expected_boundary</td><td>9</td></tr><tr><td>max_NaiveCB</td><td>0.99996</td></tr><tr><td>mean_NaiveCB</td><td>0.99994</td></tr><tr><td>min_NaiveCB</td><td>0.99992</td></tr><tr><td>std_NaiveCB</td><td>1e-05</td></tr><tr><td>w0_trials</td><td>1</td></tr><tr><td>wn_trials</td><td>1</td></tr></table><br/></div></div>"
      ]
     },
     "metadata": {},
     "output_type": "display_data"
    },
    {
     "data": {
      "text/plain": [
       "<IPython.core.display.HTML object>"
      ],
      "text/html": [
       "Synced <strong style=\"color:#cdcd00\">ruby-violet-1292</strong>: <a href=\"https://wandb.ai/oliverweissl/NeuralStyleSearch/runs/cgsug9hf\" target=\"_blank\">https://wandb.ai/oliverweissl/NeuralStyleSearch/runs/cgsug9hf</a><br/>Synced 5 W&B file(s), 2 media file(s), 2 artifact file(s) and 0 other file(s)"
      ]
     },
     "metadata": {},
     "output_type": "display_data"
    },
    {
     "data": {
      "text/plain": [
       "<IPython.core.display.HTML object>"
      ],
      "text/html": [
       "Find logs at: <code>./wandb/run-20241206_100112-cgsug9hf/logs</code>"
      ]
     },
     "metadata": {},
     "output_type": "display_data"
    },
    {
     "data": {
      "text/plain": [
       "<IPython.core.display.HTML object>"
      ],
      "text/html": [
       "Successfully finished last run (ID:cgsug9hf). Initializing new run:<br/>"
      ]
     },
     "metadata": {},
     "output_type": "display_data"
    },
    {
     "data": {
      "text/plain": [
       "VBox(children=(Label(value='Waiting for wandb.init()...\\r'), FloatProgress(value=0.016668099100449276, max=1.0…"
      ],
      "application/vnd.jupyter.widget-view+json": {
       "version_major": 2,
       "version_minor": 0,
       "model_id": "888ecd7fd3b1441cbe5f0f8dc01e9d14"
      }
     },
     "metadata": {},
     "output_type": "display_data"
    },
    {
     "data": {
      "text/plain": [
       "<IPython.core.display.HTML object>"
      ],
      "text/html": [
       "wandb version 0.19.0 is available!  To upgrade, please run:\n",
       " $ pip install wandb --upgrade"
      ]
     },
     "metadata": {},
     "output_type": "display_data"
    },
    {
     "data": {
      "text/plain": [
       "<IPython.core.display.HTML object>"
      ],
      "text/html": [
       "Tracking run with wandb version 0.13.5"
      ]
     },
     "metadata": {},
     "output_type": "display_data"
    },
    {
     "data": {
      "text/plain": [
       "<IPython.core.display.HTML object>"
      ],
      "text/html": [
       "Run data is saved locally in <code>/home/oliver/PycharmProjects/NeuralStyle/examples/wandb/run-20241206_100205-zdquvbja</code>"
      ]
     },
     "metadata": {},
     "output_type": "display_data"
    },
    {
     "data": {
      "text/plain": [
       "<IPython.core.display.HTML object>"
      ],
      "text/html": [
       "Syncing run <strong><a href=\"https://wandb.ai/oliverweissl/NeuralStyleSearch/runs/zdquvbja\" target=\"_blank\">hopeful-elevator-1293</a></strong> to <a href=\"https://wandb.ai/oliverweissl/NeuralStyleSearch\" target=\"_blank\">Weights & Biases</a> (<a href=\"https://wandb.me/run\" target=\"_blank\">docs</a>)<br/>"
      ]
     },
     "metadata": {},
     "output_type": "display_data"
    },
    {
     "data": {
      "text/plain": [
       "<IPython.core.display.HTML object>"
      ],
      "text/html": [
       "Finishing last run (ID:zdquvbja) before initializing another..."
      ]
     },
     "metadata": {},
     "output_type": "display_data"
    },
    {
     "data": {
      "text/plain": [
       "<IPython.core.display.HTML object>"
      ],
      "text/html": [
       "Waiting for W&B process to finish... <strong style=\"color:green\">(success).</strong>"
      ]
     },
     "metadata": {},
     "output_type": "display_data"
    },
    {
     "data": {
      "text/plain": [
       "<IPython.core.display.HTML object>"
      ],
      "text/html": [
       "<style>\n",
       "    table.wandb td:nth-child(1) { padding: 0 10px; text-align: left ; width: auto;} td:nth-child(2) {text-align: left ; width: 100%}\n",
       "    .wandb-row { display: flex; flex-direction: row; flex-wrap: wrap; justify-content: flex-start; width: 100% }\n",
       "    .wandb-col { display: flex; flex-direction: column; flex-basis: 100%; flex: 1; padding: 10px; }\n",
       "    </style>\n",
       "<div class=\"wandb-row\"><div class=\"wandb-col\"><h3>Run history:</h3><br/><table class=\"wandb\"><tr><td>max_NaiveCB</td><td>▆▇▃▄█▂▄▅█▅▅▄▅▄▄▄▁▄▆▄▆▇▂▄▅▃▃▄▄▁▂▃▅▄▄▄▄▇▄▆</td></tr><tr><td>mean_NaiveCB</td><td>▆▆▇▆▆▆▅▅▂▅▆▁▆▄▅▇▄▆▅▆▅▅▆▆▆▆▇▆▇▆▆▅▇▆█▃▇▆▅▇</td></tr><tr><td>min_NaiveCB</td><td>▇▇██▇█▇▇▂▇█▁▇▆▇█▆█▆██▇███▇███████▇█▆▇█▄█</td></tr><tr><td>std_NaiveCB</td><td>▂▂▂▂▂▂▃▃▇▂▂█▂▄▂▂▃▂▃▂▂▃▂▂▂▂▂▂▂▂▂▂▁▂▁▄▂▂▅▂</td></tr></table><br/></div><div class=\"wandb-col\"><h3>Run summary:</h3><br/><table class=\"wandb\"><tr><td>expected_boundary</td><td>4</td></tr><tr><td>max_NaiveCB</td><td>0.99986</td></tr><tr><td>mean_NaiveCB</td><td>0.99952</td></tr><tr><td>min_NaiveCB</td><td>0.98152</td></tr><tr><td>std_NaiveCB</td><td>0.00187</td></tr><tr><td>w0_trials</td><td>1</td></tr><tr><td>wn_trials</td><td>1</td></tr></table><br/></div></div>"
      ]
     },
     "metadata": {},
     "output_type": "display_data"
    },
    {
     "data": {
      "text/plain": [
       "<IPython.core.display.HTML object>"
      ],
      "text/html": [
       "Synced <strong style=\"color:#cdcd00\">hopeful-elevator-1293</strong>: <a href=\"https://wandb.ai/oliverweissl/NeuralStyleSearch/runs/zdquvbja\" target=\"_blank\">https://wandb.ai/oliverweissl/NeuralStyleSearch/runs/zdquvbja</a><br/>Synced 5 W&B file(s), 2 media file(s), 2 artifact file(s) and 0 other file(s)"
      ]
     },
     "metadata": {},
     "output_type": "display_data"
    },
    {
     "data": {
      "text/plain": [
       "<IPython.core.display.HTML object>"
      ],
      "text/html": [
       "Find logs at: <code>./wandb/run-20241206_100205-zdquvbja/logs</code>"
      ]
     },
     "metadata": {},
     "output_type": "display_data"
    },
    {
     "data": {
      "text/plain": [
       "<IPython.core.display.HTML object>"
      ],
      "text/html": [
       "Successfully finished last run (ID:zdquvbja). Initializing new run:<br/>"
      ]
     },
     "metadata": {},
     "output_type": "display_data"
    },
    {
     "data": {
      "text/plain": [
       "VBox(children=(Label(value='Waiting for wandb.init()...\\r'), FloatProgress(value=0.01666980745018615, max=1.0)…"
      ],
      "application/vnd.jupyter.widget-view+json": {
       "version_major": 2,
       "version_minor": 0,
       "model_id": "0355bad9fd3b4ba6a01d65e11f862d7a"
      }
     },
     "metadata": {},
     "output_type": "display_data"
    },
    {
     "data": {
      "text/plain": [
       "<IPython.core.display.HTML object>"
      ],
      "text/html": [
       "wandb version 0.19.0 is available!  To upgrade, please run:\n",
       " $ pip install wandb --upgrade"
      ]
     },
     "metadata": {},
     "output_type": "display_data"
    },
    {
     "data": {
      "text/plain": [
       "<IPython.core.display.HTML object>"
      ],
      "text/html": [
       "Tracking run with wandb version 0.13.5"
      ]
     },
     "metadata": {},
     "output_type": "display_data"
    },
    {
     "data": {
      "text/plain": [
       "<IPython.core.display.HTML object>"
      ],
      "text/html": [
       "Run data is saved locally in <code>/home/oliver/PycharmProjects/NeuralStyle/examples/wandb/run-20241206_100258-9hdn04ql</code>"
      ]
     },
     "metadata": {},
     "output_type": "display_data"
    },
    {
     "data": {
      "text/plain": [
       "<IPython.core.display.HTML object>"
      ],
      "text/html": [
       "Syncing run <strong><a href=\"https://wandb.ai/oliverweissl/NeuralStyleSearch/runs/9hdn04ql\" target=\"_blank\">floral-monkey-1294</a></strong> to <a href=\"https://wandb.ai/oliverweissl/NeuralStyleSearch\" target=\"_blank\">Weights & Biases</a> (<a href=\"https://wandb.me/run\" target=\"_blank\">docs</a>)<br/>"
      ]
     },
     "metadata": {},
     "output_type": "display_data"
    },
    {
     "data": {
      "text/plain": [
       "<IPython.core.display.HTML object>"
      ],
      "text/html": [
       "Finishing last run (ID:9hdn04ql) before initializing another..."
      ]
     },
     "metadata": {},
     "output_type": "display_data"
    },
    {
     "data": {
      "text/plain": [
       "<IPython.core.display.HTML object>"
      ],
      "text/html": [
       "Waiting for W&B process to finish... <strong style=\"color:green\">(success).</strong>"
      ]
     },
     "metadata": {},
     "output_type": "display_data"
    },
    {
     "data": {
      "text/plain": [
       "<IPython.core.display.HTML object>"
      ],
      "text/html": [
       "<style>\n",
       "    table.wandb td:nth-child(1) { padding: 0 10px; text-align: left ; width: auto;} td:nth-child(2) {text-align: left ; width: 100%}\n",
       "    .wandb-row { display: flex; flex-direction: row; flex-wrap: wrap; justify-content: flex-start; width: 100% }\n",
       "    .wandb-col { display: flex; flex-direction: column; flex-basis: 100%; flex: 1; padding: 10px; }\n",
       "    </style>\n",
       "<div class=\"wandb-row\"><div class=\"wandb-col\"><h3>Run history:</h3><br/><table class=\"wandb\"><tr><td>max_NaiveCB</td><td>▁▄▄▆▁▅▄▅▅█▅▄▇▅▄▅▅▅▃▄▇█▄▅▆▁▇▄▂▆▃█▅▄▄▃▃▄▆▃</td></tr><tr><td>mean_NaiveCB</td><td>▄▂▂▆▆▂▆▆▆▇▇▇▆▄▂▇▄▆▁▄▅█▆▅▄▂▃▆▆▆▂▁▅▃▃▅▄▅█▄</td></tr><tr><td>min_NaiveCB</td><td>▆▂▆▅▄▆▇▇▇▇██▆▆▁▅▃▅▃▃▇▆▆▇▆▆▆▄▇▇▄▆▆▅▅▆▅▂▇▅</td></tr><tr><td>std_NaiveCB</td><td>▄█▂▆▅▄▃▄▄▅▂▁▅▆█▄▆▅▆▅▆▄▆▆▅▄▇▆▄▆█▅▄▄▅▅▅▇▄▆</td></tr></table><br/></div><div class=\"wandb-col\"><h3>Run summary:</h3><br/><table class=\"wandb\"><tr><td>expected_boundary</td><td>4</td></tr><tr><td>max_NaiveCB</td><td>0.83702</td></tr><tr><td>mean_NaiveCB</td><td>0.71104</td></tr><tr><td>min_NaiveCB</td><td>0.55191</td></tr><tr><td>std_NaiveCB</td><td>0.04098</td></tr><tr><td>w0_trials</td><td>1</td></tr><tr><td>wn_trials</td><td>1</td></tr></table><br/></div></div>"
      ]
     },
     "metadata": {},
     "output_type": "display_data"
    },
    {
     "data": {
      "text/plain": [
       "<IPython.core.display.HTML object>"
      ],
      "text/html": [
       "Synced <strong style=\"color:#cdcd00\">floral-monkey-1294</strong>: <a href=\"https://wandb.ai/oliverweissl/NeuralStyleSearch/runs/9hdn04ql\" target=\"_blank\">https://wandb.ai/oliverweissl/NeuralStyleSearch/runs/9hdn04ql</a><br/>Synced 5 W&B file(s), 2 media file(s), 2 artifact file(s) and 0 other file(s)"
      ]
     },
     "metadata": {},
     "output_type": "display_data"
    },
    {
     "data": {
      "text/plain": [
       "<IPython.core.display.HTML object>"
      ],
      "text/html": [
       "Find logs at: <code>./wandb/run-20241206_100258-9hdn04ql/logs</code>"
      ]
     },
     "metadata": {},
     "output_type": "display_data"
    },
    {
     "data": {
      "text/plain": [
       "<IPython.core.display.HTML object>"
      ],
      "text/html": [
       "Successfully finished last run (ID:9hdn04ql). Initializing new run:<br/>"
      ]
     },
     "metadata": {},
     "output_type": "display_data"
    },
    {
     "data": {
      "text/plain": [
       "VBox(children=(Label(value='Waiting for wandb.init()...\\r'), FloatProgress(value=0.016668607749549362, max=1.0…"
      ],
      "application/vnd.jupyter.widget-view+json": {
       "version_major": 2,
       "version_minor": 0,
       "model_id": "1923c7fdd96f40cba37a2e867896c231"
      }
     },
     "metadata": {},
     "output_type": "display_data"
    },
    {
     "data": {
      "text/plain": [
       "<IPython.core.display.HTML object>"
      ],
      "text/html": [
       "wandb version 0.19.0 is available!  To upgrade, please run:\n",
       " $ pip install wandb --upgrade"
      ]
     },
     "metadata": {},
     "output_type": "display_data"
    },
    {
     "data": {
      "text/plain": [
       "<IPython.core.display.HTML object>"
      ],
      "text/html": [
       "Tracking run with wandb version 0.13.5"
      ]
     },
     "metadata": {},
     "output_type": "display_data"
    },
    {
     "data": {
      "text/plain": [
       "<IPython.core.display.HTML object>"
      ],
      "text/html": [
       "Run data is saved locally in <code>/home/oliver/PycharmProjects/NeuralStyle/examples/wandb/run-20241206_100351-87hhfg3w</code>"
      ]
     },
     "metadata": {},
     "output_type": "display_data"
    },
    {
     "data": {
      "text/plain": [
       "<IPython.core.display.HTML object>"
      ],
      "text/html": [
       "Syncing run <strong><a href=\"https://wandb.ai/oliverweissl/NeuralStyleSearch/runs/87hhfg3w\" target=\"_blank\">apricot-armadillo-1295</a></strong> to <a href=\"https://wandb.ai/oliverweissl/NeuralStyleSearch\" target=\"_blank\">Weights & Biases</a> (<a href=\"https://wandb.me/run\" target=\"_blank\">docs</a>)<br/>"
      ]
     },
     "metadata": {},
     "output_type": "display_data"
    },
    {
     "data": {
      "text/plain": [
       "<IPython.core.display.HTML object>"
      ],
      "text/html": [
       "Finishing last run (ID:87hhfg3w) before initializing another..."
      ]
     },
     "metadata": {},
     "output_type": "display_data"
    },
    {
     "data": {
      "text/plain": [
       "<IPython.core.display.HTML object>"
      ],
      "text/html": [
       "Waiting for W&B process to finish... <strong style=\"color:green\">(success).</strong>"
      ]
     },
     "metadata": {},
     "output_type": "display_data"
    },
    {
     "data": {
      "text/plain": [
       "VBox(children=(Label(value='0.009 MB of 0.010 MB uploaded (0.000 MB deduped)\\r'), FloatProgress(value=0.934646…"
      ],
      "application/vnd.jupyter.widget-view+json": {
       "version_major": 2,
       "version_minor": 0,
       "model_id": "4c970e1a970a40339aa0455f01a6ac19"
      }
     },
     "metadata": {},
     "output_type": "display_data"
    },
    {
     "data": {
      "text/plain": [
       "<IPython.core.display.HTML object>"
      ],
      "text/html": [
       "<style>\n",
       "    table.wandb td:nth-child(1) { padding: 0 10px; text-align: left ; width: auto;} td:nth-child(2) {text-align: left ; width: 100%}\n",
       "    .wandb-row { display: flex; flex-direction: row; flex-wrap: wrap; justify-content: flex-start; width: 100% }\n",
       "    .wandb-col { display: flex; flex-direction: column; flex-basis: 100%; flex: 1; padding: 10px; }\n",
       "    </style>\n",
       "<div class=\"wandb-row\"><div class=\"wandb-col\"><h3>Run history:</h3><br/><table class=\"wandb\"><tr><td>max_NaiveCB</td><td>▆▂▁▃█▅█▅▂▇▁▄▂▆▃▂▃▂▆▃▄▃▆▆▃▅▂▂▂▅▅▂▄▄▃▅▃▃▃█</td></tr><tr><td>mean_NaiveCB</td><td>▄▄▄▁▇▄▇▆▄▄▂▆▂▆▅▅▅▆█▄▅▅▄▅▂▅▅▄▄▄▆▃▆▄▅█▃▃▅▆</td></tr><tr><td>min_NaiveCB</td><td>▅▆▅▅▇▄▆▆▅▄▅▃▆▅▆▇▄▇█▅▆▆▄▄▆▆▆▁▆▄▇▄▆▆▂▇▅▆▆▅</td></tr><tr><td>std_NaiveCB</td><td>▅▆▂▇█▅▆▅▃▆▁▇▂▇▄▃▄▄▄▅▇▄██▃▇▁▄▂▅▃▆▃▂▄▅▆▄▂█</td></tr></table><br/></div><div class=\"wandb-col\"><h3>Run summary:</h3><br/><table class=\"wandb\"><tr><td>expected_boundary</td><td>4</td></tr><tr><td>max_NaiveCB</td><td>0.99975</td></tr><tr><td>mean_NaiveCB</td><td>0.99966</td></tr><tr><td>min_NaiveCB</td><td>0.99958</td></tr><tr><td>std_NaiveCB</td><td>4e-05</td></tr><tr><td>w0_trials</td><td>1</td></tr><tr><td>wn_trials</td><td>1</td></tr></table><br/></div></div>"
      ]
     },
     "metadata": {},
     "output_type": "display_data"
    },
    {
     "data": {
      "text/plain": [
       "<IPython.core.display.HTML object>"
      ],
      "text/html": [
       "Synced <strong style=\"color:#cdcd00\">apricot-armadillo-1295</strong>: <a href=\"https://wandb.ai/oliverweissl/NeuralStyleSearch/runs/87hhfg3w\" target=\"_blank\">https://wandb.ai/oliverweissl/NeuralStyleSearch/runs/87hhfg3w</a><br/>Synced 5 W&B file(s), 2 media file(s), 2 artifact file(s) and 0 other file(s)"
      ]
     },
     "metadata": {},
     "output_type": "display_data"
    },
    {
     "data": {
      "text/plain": [
       "<IPython.core.display.HTML object>"
      ],
      "text/html": [
       "Find logs at: <code>./wandb/run-20241206_100351-87hhfg3w/logs</code>"
      ]
     },
     "metadata": {},
     "output_type": "display_data"
    },
    {
     "data": {
      "text/plain": [
       "<IPython.core.display.HTML object>"
      ],
      "text/html": [
       "Successfully finished last run (ID:87hhfg3w). Initializing new run:<br/>"
      ]
     },
     "metadata": {},
     "output_type": "display_data"
    },
    {
     "data": {
      "text/plain": [
       "VBox(children=(Label(value='Waiting for wandb.init()...\\r'), FloatProgress(value=0.016668754483301504, max=1.0…"
      ],
      "application/vnd.jupyter.widget-view+json": {
       "version_major": 2,
       "version_minor": 0,
       "model_id": "21b3dba8f2074d8494313768543b750c"
      }
     },
     "metadata": {},
     "output_type": "display_data"
    },
    {
     "data": {
      "text/plain": [
       "<IPython.core.display.HTML object>"
      ],
      "text/html": [
       "wandb version 0.19.0 is available!  To upgrade, please run:\n",
       " $ pip install wandb --upgrade"
      ]
     },
     "metadata": {},
     "output_type": "display_data"
    },
    {
     "data": {
      "text/plain": [
       "<IPython.core.display.HTML object>"
      ],
      "text/html": [
       "Tracking run with wandb version 0.13.5"
      ]
     },
     "metadata": {},
     "output_type": "display_data"
    },
    {
     "data": {
      "text/plain": [
       "<IPython.core.display.HTML object>"
      ],
      "text/html": [
       "Run data is saved locally in <code>/home/oliver/PycharmProjects/NeuralStyle/examples/wandb/run-20241206_100445-gyc74nog</code>"
      ]
     },
     "metadata": {},
     "output_type": "display_data"
    },
    {
     "data": {
      "text/plain": [
       "<IPython.core.display.HTML object>"
      ],
      "text/html": [
       "Syncing run <strong><a href=\"https://wandb.ai/oliverweissl/NeuralStyleSearch/runs/gyc74nog\" target=\"_blank\">zany-sun-1296</a></strong> to <a href=\"https://wandb.ai/oliverweissl/NeuralStyleSearch\" target=\"_blank\">Weights & Biases</a> (<a href=\"https://wandb.me/run\" target=\"_blank\">docs</a>)<br/>"
      ]
     },
     "metadata": {},
     "output_type": "display_data"
    },
    {
     "data": {
      "text/plain": [
       "<IPython.core.display.HTML object>"
      ],
      "text/html": [
       "Finishing last run (ID:gyc74nog) before initializing another..."
      ]
     },
     "metadata": {},
     "output_type": "display_data"
    },
    {
     "data": {
      "text/plain": [
       "<IPython.core.display.HTML object>"
      ],
      "text/html": [
       "Waiting for W&B process to finish... <strong style=\"color:green\">(success).</strong>"
      ]
     },
     "metadata": {},
     "output_type": "display_data"
    },
    {
     "data": {
      "text/plain": [
       "<IPython.core.display.HTML object>"
      ],
      "text/html": [
       "<style>\n",
       "    table.wandb td:nth-child(1) { padding: 0 10px; text-align: left ; width: auto;} td:nth-child(2) {text-align: left ; width: 100%}\n",
       "    .wandb-row { display: flex; flex-direction: row; flex-wrap: wrap; justify-content: flex-start; width: 100% }\n",
       "    .wandb-col { display: flex; flex-direction: column; flex-basis: 100%; flex: 1; padding: 10px; }\n",
       "    </style>\n",
       "<div class=\"wandb-row\"><div class=\"wandb-col\"><h3>Run history:</h3><br/><table class=\"wandb\"><tr><td>max_NaiveCB</td><td>▇▄▅▄▃▃▅▃▃▁▄▃▆▄▅▄▄▄▁▃█▃▇▅▇▆▂▂▃▄▂▂▃▃▅▆▄▆█▄</td></tr><tr><td>mean_NaiveCB</td><td>▄▅▃▄▄▃▇▅▃▄▃▄▅▄▃▄▅▃▂▆█▅▄▂▆▅▃▅▄▂▄▂▆▃▅▃▅▄▁▃</td></tr><tr><td>min_NaiveCB</td><td>▃▅▆▆▄▆▆█▅▆▅▆▄▅▇▇▇▅▅▇▇▇▇▆▆▆▆▇▆▅▅▆▅▇▇▇▆▇▁▅</td></tr><tr><td>std_NaiveCB</td><td>▆▅▆▅▆▄▄▁▅▃▄▄▅▅▅▃▃▅▄▂▃▄▃▅▄▄▅▂▄▆▃▅▄▅▃▃▄▄█▅</td></tr></table><br/></div><div class=\"wandb-col\"><h3>Run summary:</h3><br/><table class=\"wandb\"><tr><td>expected_boundary</td><td>4</td></tr><tr><td>max_NaiveCB</td><td>0.99985</td></tr><tr><td>mean_NaiveCB</td><td>0.99978</td></tr><tr><td>min_NaiveCB</td><td>0.99961</td></tr><tr><td>std_NaiveCB</td><td>4e-05</td></tr><tr><td>w0_trials</td><td>1</td></tr><tr><td>wn_trials</td><td>1</td></tr></table><br/></div></div>"
      ]
     },
     "metadata": {},
     "output_type": "display_data"
    },
    {
     "data": {
      "text/plain": [
       "<IPython.core.display.HTML object>"
      ],
      "text/html": [
       "Synced <strong style=\"color:#cdcd00\">zany-sun-1296</strong>: <a href=\"https://wandb.ai/oliverweissl/NeuralStyleSearch/runs/gyc74nog\" target=\"_blank\">https://wandb.ai/oliverweissl/NeuralStyleSearch/runs/gyc74nog</a><br/>Synced 5 W&B file(s), 2 media file(s), 2 artifact file(s) and 0 other file(s)"
      ]
     },
     "metadata": {},
     "output_type": "display_data"
    },
    {
     "data": {
      "text/plain": [
       "<IPython.core.display.HTML object>"
      ],
      "text/html": [
       "Find logs at: <code>./wandb/run-20241206_100445-gyc74nog/logs</code>"
      ]
     },
     "metadata": {},
     "output_type": "display_data"
    },
    {
     "data": {
      "text/plain": [
       "<IPython.core.display.HTML object>"
      ],
      "text/html": [
       "Successfully finished last run (ID:gyc74nog). Initializing new run:<br/>"
      ]
     },
     "metadata": {},
     "output_type": "display_data"
    },
    {
     "data": {
      "text/plain": [
       "VBox(children=(Label(value='Waiting for wandb.init()...\\r'), FloatProgress(value=0.016668918233093185, max=1.0…"
      ],
      "application/vnd.jupyter.widget-view+json": {
       "version_major": 2,
       "version_minor": 0,
       "model_id": "3f7677beb6f14f26a7244dd2975d8eb9"
      }
     },
     "metadata": {},
     "output_type": "display_data"
    },
    {
     "data": {
      "text/plain": [
       "<IPython.core.display.HTML object>"
      ],
      "text/html": [
       "wandb version 0.19.0 is available!  To upgrade, please run:\n",
       " $ pip install wandb --upgrade"
      ]
     },
     "metadata": {},
     "output_type": "display_data"
    },
    {
     "data": {
      "text/plain": [
       "<IPython.core.display.HTML object>"
      ],
      "text/html": [
       "Tracking run with wandb version 0.13.5"
      ]
     },
     "metadata": {},
     "output_type": "display_data"
    },
    {
     "data": {
      "text/plain": [
       "<IPython.core.display.HTML object>"
      ],
      "text/html": [
       "Run data is saved locally in <code>/home/oliver/PycharmProjects/NeuralStyle/examples/wandb/run-20241206_100539-1b6tzvi7</code>"
      ]
     },
     "metadata": {},
     "output_type": "display_data"
    },
    {
     "data": {
      "text/plain": [
       "<IPython.core.display.HTML object>"
      ],
      "text/html": [
       "Syncing run <strong><a href=\"https://wandb.ai/oliverweissl/NeuralStyleSearch/runs/1b6tzvi7\" target=\"_blank\">neat-star-1297</a></strong> to <a href=\"https://wandb.ai/oliverweissl/NeuralStyleSearch\" target=\"_blank\">Weights & Biases</a> (<a href=\"https://wandb.me/run\" target=\"_blank\">docs</a>)<br/>"
      ]
     },
     "metadata": {},
     "output_type": "display_data"
    },
    {
     "data": {
      "text/plain": [
       "<IPython.core.display.HTML object>"
      ],
      "text/html": [
       "Finishing last run (ID:1b6tzvi7) before initializing another..."
      ]
     },
     "metadata": {},
     "output_type": "display_data"
    },
    {
     "data": {
      "text/plain": [
       "<IPython.core.display.HTML object>"
      ],
      "text/html": [
       "Waiting for W&B process to finish... <strong style=\"color:green\">(success).</strong>"
      ]
     },
     "metadata": {},
     "output_type": "display_data"
    },
    {
     "data": {
      "text/plain": [
       "<IPython.core.display.HTML object>"
      ],
      "text/html": [
       "<style>\n",
       "    table.wandb td:nth-child(1) { padding: 0 10px; text-align: left ; width: auto;} td:nth-child(2) {text-align: left ; width: 100%}\n",
       "    .wandb-row { display: flex; flex-direction: row; flex-wrap: wrap; justify-content: flex-start; width: 100% }\n",
       "    .wandb-col { display: flex; flex-direction: column; flex-basis: 100%; flex: 1; padding: 10px; }\n",
       "    </style>\n",
       "<div class=\"wandb-row\"><div class=\"wandb-col\"><h3>Run history:</h3><br/><table class=\"wandb\"><tr><td>max_NaiveCB</td><td>▇▅▅▇█▇▇▇▇▇▁▆▇█▄▇▄▅█▇▇▇█▇▇▅▇▇▇▅▇██▇▇█▇▅▆█</td></tr><tr><td>mean_NaiveCB</td><td>▆▅▇█▂▅▅▆▅▄▅▄▆▄▇▄▃█▅▅▇▅▄▄▅▆▅█▃▁▄▅▆▇▅▆▆▃▆▆</td></tr><tr><td>min_NaiveCB</td><td>▂▁█▁▂▁▂▅▁▁▃▁▂▁▃▄▃▇▃▄▁▃▂▂▁▃▅▄▁▂▁▂▂▅▃▃▃▂▂▂</td></tr><tr><td>std_NaiveCB</td><td>▄▄▃▂▇▆▅▄▆▆▅▆▄▆▄▅▆▁▃▅▂▄▆▆▅▃▄▂▆█▅▄▄▃▅▅▄█▄▅</td></tr></table><br/></div><div class=\"wandb-col\"><h3>Run summary:</h3><br/><table class=\"wandb\"><tr><td>expected_boundary</td><td>4</td></tr><tr><td>max_NaiveCB</td><td>0.99872</td></tr><tr><td>mean_NaiveCB</td><td>0.88776</td></tr><tr><td>min_NaiveCB</td><td>0.10027</td></tr><tr><td>std_NaiveCB</td><td>0.16549</td></tr><tr><td>w0_trials</td><td>1</td></tr><tr><td>wn_trials</td><td>1</td></tr></table><br/></div></div>"
      ]
     },
     "metadata": {},
     "output_type": "display_data"
    },
    {
     "data": {
      "text/plain": [
       "<IPython.core.display.HTML object>"
      ],
      "text/html": [
       "Synced <strong style=\"color:#cdcd00\">neat-star-1297</strong>: <a href=\"https://wandb.ai/oliverweissl/NeuralStyleSearch/runs/1b6tzvi7\" target=\"_blank\">https://wandb.ai/oliverweissl/NeuralStyleSearch/runs/1b6tzvi7</a><br/>Synced 5 W&B file(s), 2 media file(s), 2 artifact file(s) and 0 other file(s)"
      ]
     },
     "metadata": {},
     "output_type": "display_data"
    },
    {
     "data": {
      "text/plain": [
       "<IPython.core.display.HTML object>"
      ],
      "text/html": [
       "Find logs at: <code>./wandb/run-20241206_100539-1b6tzvi7/logs</code>"
      ]
     },
     "metadata": {},
     "output_type": "display_data"
    },
    {
     "data": {
      "text/plain": [
       "<IPython.core.display.HTML object>"
      ],
      "text/html": [
       "Successfully finished last run (ID:1b6tzvi7). Initializing new run:<br/>"
      ]
     },
     "metadata": {},
     "output_type": "display_data"
    },
    {
     "data": {
      "text/plain": [
       "VBox(children=(Label(value='Waiting for wandb.init()...\\r'), FloatProgress(value=0.016669089267088565, max=1.0…"
      ],
      "application/vnd.jupyter.widget-view+json": {
       "version_major": 2,
       "version_minor": 0,
       "model_id": "e93c549d4bc3488b8a06727d20d2c053"
      }
     },
     "metadata": {},
     "output_type": "display_data"
    },
    {
     "data": {
      "text/plain": [
       "<IPython.core.display.HTML object>"
      ],
      "text/html": [
       "wandb version 0.19.0 is available!  To upgrade, please run:\n",
       " $ pip install wandb --upgrade"
      ]
     },
     "metadata": {},
     "output_type": "display_data"
    },
    {
     "data": {
      "text/plain": [
       "<IPython.core.display.HTML object>"
      ],
      "text/html": [
       "Tracking run with wandb version 0.13.5"
      ]
     },
     "metadata": {},
     "output_type": "display_data"
    },
    {
     "data": {
      "text/plain": [
       "<IPython.core.display.HTML object>"
      ],
      "text/html": [
       "Run data is saved locally in <code>/home/oliver/PycharmProjects/NeuralStyle/examples/wandb/run-20241206_100632-f7r5ta8f</code>"
      ]
     },
     "metadata": {},
     "output_type": "display_data"
    },
    {
     "data": {
      "text/plain": [
       "<IPython.core.display.HTML object>"
      ],
      "text/html": [
       "Syncing run <strong><a href=\"https://wandb.ai/oliverweissl/NeuralStyleSearch/runs/f7r5ta8f\" target=\"_blank\">silvery-dust-1298</a></strong> to <a href=\"https://wandb.ai/oliverweissl/NeuralStyleSearch\" target=\"_blank\">Weights & Biases</a> (<a href=\"https://wandb.me/run\" target=\"_blank\">docs</a>)<br/>"
      ]
     },
     "metadata": {},
     "output_type": "display_data"
    },
    {
     "data": {
      "text/plain": [
       "<IPython.core.display.HTML object>"
      ],
      "text/html": [
       "Finishing last run (ID:f7r5ta8f) before initializing another..."
      ]
     },
     "metadata": {},
     "output_type": "display_data"
    },
    {
     "data": {
      "text/plain": [
       "<IPython.core.display.HTML object>"
      ],
      "text/html": [
       "Waiting for W&B process to finish... <strong style=\"color:green\">(success).</strong>"
      ]
     },
     "metadata": {},
     "output_type": "display_data"
    },
    {
     "data": {
      "text/plain": [
       "<IPython.core.display.HTML object>"
      ],
      "text/html": [
       "<style>\n",
       "    table.wandb td:nth-child(1) { padding: 0 10px; text-align: left ; width: auto;} td:nth-child(2) {text-align: left ; width: 100%}\n",
       "    .wandb-row { display: flex; flex-direction: row; flex-wrap: wrap; justify-content: flex-start; width: 100% }\n",
       "    .wandb-col { display: flex; flex-direction: column; flex-basis: 100%; flex: 1; padding: 10px; }\n",
       "    </style>\n",
       "<div class=\"wandb-row\"><div class=\"wandb-col\"><h3>Run history:</h3><br/><table class=\"wandb\"><tr><td>max_NaiveCB</td><td>▄█▅▇▄▄▅▄▄▃▅▄▇▅▅▆▆▅▅▃▃▃▄▆▅▆▆▅▁▅▄▄▅█▇▁▅▇▄▆</td></tr><tr><td>mean_NaiveCB</td><td>▄█▅▅▃▅▄▃▃▄▃▄▆▃▄▅▄▅▄▂▄▅▅▃▁▃▃▂▂▅▄▃▃▃▆▁▂▅▂▃</td></tr><tr><td>min_NaiveCB</td><td>▅█▄▃▃▃▅▆▁▂▂▁▆▂▂▂▃▂▂▁▃▁▅▁▂▂▂▁▂█▁▂▁▁▃▁▁▂▂▃</td></tr><tr><td>std_NaiveCB</td><td>▄▇▆▆▅▆▄▄▄▅▆▅▆▄▅█▅▄▆▂▃▅▅▅▄▅▅▃▃▆▅▄▃▆▇▁▅▆▃▆</td></tr></table><br/></div><div class=\"wandb-col\"><h3>Run summary:</h3><br/><table class=\"wandb\"><tr><td>expected_boundary</td><td>8</td></tr><tr><td>max_NaiveCB</td><td>0.72861</td></tr><tr><td>mean_NaiveCB</td><td>0.13446</td></tr><tr><td>min_NaiveCB</td><td>0.00134</td></tr><tr><td>std_NaiveCB</td><td>0.13063</td></tr><tr><td>w0_trials</td><td>1</td></tr><tr><td>wn_trials</td><td>1</td></tr></table><br/></div></div>"
      ]
     },
     "metadata": {},
     "output_type": "display_data"
    },
    {
     "data": {
      "text/plain": [
       "<IPython.core.display.HTML object>"
      ],
      "text/html": [
       "Synced <strong style=\"color:#cdcd00\">silvery-dust-1298</strong>: <a href=\"https://wandb.ai/oliverweissl/NeuralStyleSearch/runs/f7r5ta8f\" target=\"_blank\">https://wandb.ai/oliverweissl/NeuralStyleSearch/runs/f7r5ta8f</a><br/>Synced 5 W&B file(s), 2 media file(s), 2 artifact file(s) and 0 other file(s)"
      ]
     },
     "metadata": {},
     "output_type": "display_data"
    },
    {
     "data": {
      "text/plain": [
       "<IPython.core.display.HTML object>"
      ],
      "text/html": [
       "Find logs at: <code>./wandb/run-20241206_100632-f7r5ta8f/logs</code>"
      ]
     },
     "metadata": {},
     "output_type": "display_data"
    },
    {
     "data": {
      "text/plain": [
       "<IPython.core.display.HTML object>"
      ],
      "text/html": [
       "Successfully finished last run (ID:f7r5ta8f). Initializing new run:<br/>"
      ]
     },
     "metadata": {},
     "output_type": "display_data"
    },
    {
     "data": {
      "text/plain": [
       "VBox(children=(Label(value='Waiting for wandb.init()...\\r'), FloatProgress(value=0.016668733200155352, max=1.0…"
      ],
      "application/vnd.jupyter.widget-view+json": {
       "version_major": 2,
       "version_minor": 0,
       "model_id": "98f6093985d74e44b4bba1d9ef9a7fbd"
      }
     },
     "metadata": {},
     "output_type": "display_data"
    },
    {
     "data": {
      "text/plain": [
       "<IPython.core.display.HTML object>"
      ],
      "text/html": [
       "wandb version 0.19.0 is available!  To upgrade, please run:\n",
       " $ pip install wandb --upgrade"
      ]
     },
     "metadata": {},
     "output_type": "display_data"
    },
    {
     "data": {
      "text/plain": [
       "<IPython.core.display.HTML object>"
      ],
      "text/html": [
       "Tracking run with wandb version 0.13.5"
      ]
     },
     "metadata": {},
     "output_type": "display_data"
    },
    {
     "data": {
      "text/plain": [
       "<IPython.core.display.HTML object>"
      ],
      "text/html": [
       "Run data is saved locally in <code>/home/oliver/PycharmProjects/NeuralStyle/examples/wandb/run-20241206_100727-wgskibyz</code>"
      ]
     },
     "metadata": {},
     "output_type": "display_data"
    },
    {
     "data": {
      "text/plain": [
       "<IPython.core.display.HTML object>"
      ],
      "text/html": [
       "Syncing run <strong><a href=\"https://wandb.ai/oliverweissl/NeuralStyleSearch/runs/wgskibyz\" target=\"_blank\">dutiful-lion-1299</a></strong> to <a href=\"https://wandb.ai/oliverweissl/NeuralStyleSearch\" target=\"_blank\">Weights & Biases</a> (<a href=\"https://wandb.me/run\" target=\"_blank\">docs</a>)<br/>"
      ]
     },
     "metadata": {},
     "output_type": "display_data"
    },
    {
     "data": {
      "text/plain": [
       "<IPython.core.display.HTML object>"
      ],
      "text/html": [
       "Finishing last run (ID:wgskibyz) before initializing another..."
      ]
     },
     "metadata": {},
     "output_type": "display_data"
    },
    {
     "data": {
      "text/plain": [
       "<IPython.core.display.HTML object>"
      ],
      "text/html": [
       "Waiting for W&B process to finish... <strong style=\"color:green\">(success).</strong>"
      ]
     },
     "metadata": {},
     "output_type": "display_data"
    },
    {
     "data": {
      "text/plain": [
       "<IPython.core.display.HTML object>"
      ],
      "text/html": [
       "<style>\n",
       "    table.wandb td:nth-child(1) { padding: 0 10px; text-align: left ; width: auto;} td:nth-child(2) {text-align: left ; width: 100%}\n",
       "    .wandb-row { display: flex; flex-direction: row; flex-wrap: wrap; justify-content: flex-start; width: 100% }\n",
       "    .wandb-col { display: flex; flex-direction: column; flex-basis: 100%; flex: 1; padding: 10px; }\n",
       "    </style>\n",
       "<div class=\"wandb-row\"><div class=\"wandb-col\"><h3>Run history:</h3><br/><table class=\"wandb\"><tr><td>max_NaiveCB</td><td>▁▅▃▅▆▅▄▂▄▃▅█▄▃▄▃▄▆▆▄▄▅▅▅▄▆▇▅▄▅▄▁▆▄▁▇▃▄▄▆</td></tr><tr><td>mean_NaiveCB</td><td>▂▄▃▆▂▇▄▄▄▆▄▅▃▁▅▆▆▄▄▂▅▄█▇▅▇▄▅▅▄▃█▇▄▅▇▃▇█▃</td></tr><tr><td>min_NaiveCB</td><td>▁▁▃▁▁▆▁▁▃▂▂▂▃▂▄▃▂▄▂▄▂▃▂▇▅▂▁▃▂█▄▇█▁▂▆▂▄▂▁</td></tr><tr><td>std_NaiveCB</td><td>▃▇▅█▄▇▄▄▅▂▅▆▄▄▃▄▅▃▅▁▄▃▄▅▅▅▃▅▆▂▃▅▅▃▃▆▄▅▅▄</td></tr></table><br/></div><div class=\"wandb-col\"><h3>Run summary:</h3><br/><table class=\"wandb\"><tr><td>expected_boundary</td><td>4</td></tr><tr><td>max_NaiveCB</td><td>0.98937</td></tr><tr><td>mean_NaiveCB</td><td>0.42615</td></tr><tr><td>min_NaiveCB</td><td>0.00499</td></tr><tr><td>std_NaiveCB</td><td>0.30717</td></tr><tr><td>w0_trials</td><td>1</td></tr><tr><td>wn_trials</td><td>1</td></tr></table><br/></div></div>"
      ]
     },
     "metadata": {},
     "output_type": "display_data"
    },
    {
     "data": {
      "text/plain": [
       "<IPython.core.display.HTML object>"
      ],
      "text/html": [
       "Synced <strong style=\"color:#cdcd00\">dutiful-lion-1299</strong>: <a href=\"https://wandb.ai/oliverweissl/NeuralStyleSearch/runs/wgskibyz\" target=\"_blank\">https://wandb.ai/oliverweissl/NeuralStyleSearch/runs/wgskibyz</a><br/>Synced 5 W&B file(s), 2 media file(s), 2 artifact file(s) and 0 other file(s)"
      ]
     },
     "metadata": {},
     "output_type": "display_data"
    },
    {
     "data": {
      "text/plain": [
       "<IPython.core.display.HTML object>"
      ],
      "text/html": [
       "Find logs at: <code>./wandb/run-20241206_100727-wgskibyz/logs</code>"
      ]
     },
     "metadata": {},
     "output_type": "display_data"
    },
    {
     "data": {
      "text/plain": [
       "<IPython.core.display.HTML object>"
      ],
      "text/html": [
       "Successfully finished last run (ID:wgskibyz). Initializing new run:<br/>"
      ]
     },
     "metadata": {},
     "output_type": "display_data"
    },
    {
     "data": {
      "text/plain": [
       "VBox(children=(Label(value='Waiting for wandb.init()...\\r'), FloatProgress(value=0.01667014893318992, max=1.0)…"
      ],
      "application/vnd.jupyter.widget-view+json": {
       "version_major": 2,
       "version_minor": 0,
       "model_id": "e20b3bb1a250477895b62c9a1b2e002b"
      }
     },
     "metadata": {},
     "output_type": "display_data"
    },
    {
     "data": {
      "text/plain": [
       "<IPython.core.display.HTML object>"
      ],
      "text/html": [
       "wandb version 0.19.0 is available!  To upgrade, please run:\n",
       " $ pip install wandb --upgrade"
      ]
     },
     "metadata": {},
     "output_type": "display_data"
    },
    {
     "data": {
      "text/plain": [
       "<IPython.core.display.HTML object>"
      ],
      "text/html": [
       "Tracking run with wandb version 0.13.5"
      ]
     },
     "metadata": {},
     "output_type": "display_data"
    },
    {
     "data": {
      "text/plain": [
       "<IPython.core.display.HTML object>"
      ],
      "text/html": [
       "Run data is saved locally in <code>/home/oliver/PycharmProjects/NeuralStyle/examples/wandb/run-20241206_100821-985u8nah</code>"
      ]
     },
     "metadata": {},
     "output_type": "display_data"
    },
    {
     "data": {
      "text/plain": [
       "<IPython.core.display.HTML object>"
      ],
      "text/html": [
       "Syncing run <strong><a href=\"https://wandb.ai/oliverweissl/NeuralStyleSearch/runs/985u8nah\" target=\"_blank\">skilled-deluge-1300</a></strong> to <a href=\"https://wandb.ai/oliverweissl/NeuralStyleSearch\" target=\"_blank\">Weights & Biases</a> (<a href=\"https://wandb.me/run\" target=\"_blank\">docs</a>)<br/>"
      ]
     },
     "metadata": {},
     "output_type": "display_data"
    },
    {
     "data": {
      "text/plain": [
       "<IPython.core.display.HTML object>"
      ],
      "text/html": [
       "Finishing last run (ID:985u8nah) before initializing another..."
      ]
     },
     "metadata": {},
     "output_type": "display_data"
    },
    {
     "data": {
      "text/plain": [
       "<IPython.core.display.HTML object>"
      ],
      "text/html": [
       "Waiting for W&B process to finish... <strong style=\"color:green\">(success).</strong>"
      ]
     },
     "metadata": {},
     "output_type": "display_data"
    },
    {
     "data": {
      "text/plain": [
       "<IPython.core.display.HTML object>"
      ],
      "text/html": [
       "<style>\n",
       "    table.wandb td:nth-child(1) { padding: 0 10px; text-align: left ; width: auto;} td:nth-child(2) {text-align: left ; width: 100%}\n",
       "    .wandb-row { display: flex; flex-direction: row; flex-wrap: wrap; justify-content: flex-start; width: 100% }\n",
       "    .wandb-col { display: flex; flex-direction: column; flex-basis: 100%; flex: 1; padding: 10px; }\n",
       "    </style>\n",
       "<div class=\"wandb-row\"><div class=\"wandb-col\"><h3>Run history:</h3><br/><table class=\"wandb\"><tr><td>max_NaiveCB</td><td>▃▂▄▁▃▄▃▃▄▄▃▁▃▃▃▅▄▁▅▃▂▃▄▂█▅▂▃▃▂▁▂▂▃▄▃▂▁▄▅</td></tr><tr><td>mean_NaiveCB</td><td>▅▅▅▂▄▃▅▄▄▄▃▄▄▃▃█▅▂▄▆▅▃▅▄▄▅▃▄▄▃▆▆▆▄▇▆▄▄▄▁</td></tr><tr><td>min_NaiveCB</td><td>▆▄▆▅▅▆▇▃▅▅▅▆▆▇▇▇▆▃▆▇▆▅▂▇▅▆▆▅▆▄▆▆▄▆▇█▁▆▅▆</td></tr><tr><td>std_NaiveCB</td><td>▄▄▅▇▅█▆▇▇▄▇▄▅▅▅▃▆█▂▂▆█▅▁█▇▅▇▆▆▂▃▂▇▄▂▆▄▄▇</td></tr></table><br/></div><div class=\"wandb-col\"><h3>Run summary:</h3><br/><table class=\"wandb\"><tr><td>expected_boundary</td><td>4</td></tr><tr><td>max_NaiveCB</td><td>0.9993</td></tr><tr><td>mean_NaiveCB</td><td>0.99923</td></tr><tr><td>min_NaiveCB</td><td>0.99908</td></tr><tr><td>std_NaiveCB</td><td>5e-05</td></tr><tr><td>w0_trials</td><td>1</td></tr><tr><td>wn_trials</td><td>1</td></tr></table><br/></div></div>"
      ]
     },
     "metadata": {},
     "output_type": "display_data"
    },
    {
     "data": {
      "text/plain": [
       "<IPython.core.display.HTML object>"
      ],
      "text/html": [
       "Synced <strong style=\"color:#cdcd00\">skilled-deluge-1300</strong>: <a href=\"https://wandb.ai/oliverweissl/NeuralStyleSearch/runs/985u8nah\" target=\"_blank\">https://wandb.ai/oliverweissl/NeuralStyleSearch/runs/985u8nah</a><br/>Synced 5 W&B file(s), 2 media file(s), 2 artifact file(s) and 0 other file(s)"
      ]
     },
     "metadata": {},
     "output_type": "display_data"
    },
    {
     "data": {
      "text/plain": [
       "<IPython.core.display.HTML object>"
      ],
      "text/html": [
       "Find logs at: <code>./wandb/run-20241206_100821-985u8nah/logs</code>"
      ]
     },
     "metadata": {},
     "output_type": "display_data"
    },
    {
     "data": {
      "text/plain": [
       "<IPython.core.display.HTML object>"
      ],
      "text/html": [
       "Successfully finished last run (ID:985u8nah). Initializing new run:<br/>"
      ]
     },
     "metadata": {},
     "output_type": "display_data"
    },
    {
     "data": {
      "text/plain": [
       "VBox(children=(Label(value='Waiting for wandb.init()...\\r'), FloatProgress(value=0.01667016873349591, max=1.0)…"
      ],
      "application/vnd.jupyter.widget-view+json": {
       "version_major": 2,
       "version_minor": 0,
       "model_id": "9da89ad491eb45d986822fc4ef206642"
      }
     },
     "metadata": {},
     "output_type": "display_data"
    },
    {
     "data": {
      "text/plain": [
       "<IPython.core.display.HTML object>"
      ],
      "text/html": [
       "wandb version 0.19.0 is available!  To upgrade, please run:\n",
       " $ pip install wandb --upgrade"
      ]
     },
     "metadata": {},
     "output_type": "display_data"
    },
    {
     "data": {
      "text/plain": [
       "<IPython.core.display.HTML object>"
      ],
      "text/html": [
       "Tracking run with wandb version 0.13.5"
      ]
     },
     "metadata": {},
     "output_type": "display_data"
    },
    {
     "data": {
      "text/plain": [
       "<IPython.core.display.HTML object>"
      ],
      "text/html": [
       "Run data is saved locally in <code>/home/oliver/PycharmProjects/NeuralStyle/examples/wandb/run-20241206_100914-fq6dvzf1</code>"
      ]
     },
     "metadata": {},
     "output_type": "display_data"
    },
    {
     "data": {
      "text/plain": [
       "<IPython.core.display.HTML object>"
      ],
      "text/html": [
       "Syncing run <strong><a href=\"https://wandb.ai/oliverweissl/NeuralStyleSearch/runs/fq6dvzf1\" target=\"_blank\">good-haze-1301</a></strong> to <a href=\"https://wandb.ai/oliverweissl/NeuralStyleSearch\" target=\"_blank\">Weights & Biases</a> (<a href=\"https://wandb.me/run\" target=\"_blank\">docs</a>)<br/>"
      ]
     },
     "metadata": {},
     "output_type": "display_data"
    },
    {
     "data": {
      "text/plain": [
       "<IPython.core.display.HTML object>"
      ],
      "text/html": [
       "Finishing last run (ID:fq6dvzf1) before initializing another..."
      ]
     },
     "metadata": {},
     "output_type": "display_data"
    },
    {
     "data": {
      "text/plain": [
       "<IPython.core.display.HTML object>"
      ],
      "text/html": [
       "Waiting for W&B process to finish... <strong style=\"color:green\">(success).</strong>"
      ]
     },
     "metadata": {},
     "output_type": "display_data"
    },
    {
     "data": {
      "text/plain": [
       "<IPython.core.display.HTML object>"
      ],
      "text/html": [
       "<style>\n",
       "    table.wandb td:nth-child(1) { padding: 0 10px; text-align: left ; width: auto;} td:nth-child(2) {text-align: left ; width: 100%}\n",
       "    .wandb-row { display: flex; flex-direction: row; flex-wrap: wrap; justify-content: flex-start; width: 100% }\n",
       "    .wandb-col { display: flex; flex-direction: column; flex-basis: 100%; flex: 1; padding: 10px; }\n",
       "    </style>\n",
       "<div class=\"wandb-row\"><div class=\"wandb-col\"><h3>Run history:</h3><br/><table class=\"wandb\"><tr><td>max_NaiveCB</td><td>▅▃▃█▃▆▄▇▇▅▅▅▅▅█▇▇▇▆▅▇▆▅▇▁▃▃▃▃█▆█▆▃▄▇▂▂▅▇</td></tr><tr><td>mean_NaiveCB</td><td>▃▄▃▅▄▄▄▄▅▄▄▅▇▄▄▇▄▄▆▆▄▅▄▄▅▇▅▇▄▆▄█▇▃▄▆▁▃▃▆</td></tr><tr><td>min_NaiveCB</td><td>▅▇▇▇█▇▇▆▇▇▇▇█▇▆▇▇▇▇█▆▁▇▆████▅▇▇▆█▇▇▇▆▆██</td></tr><tr><td>std_NaiveCB</td><td>▇▅▄▄▃▅▅▅▃▅▆▄▃▅▆▃▄▄▄▃▅█▅▆▄▃▁▂▅▃▅▅▄▅▅▄▆▆▄▃</td></tr></table><br/></div><div class=\"wandb-col\"><h3>Run summary:</h3><br/><table class=\"wandb\"><tr><td>expected_boundary</td><td>4</td></tr><tr><td>max_NaiveCB</td><td>0.99969</td></tr><tr><td>mean_NaiveCB</td><td>0.99964</td></tr><tr><td>min_NaiveCB</td><td>0.99953</td></tr><tr><td>std_NaiveCB</td><td>2e-05</td></tr><tr><td>w0_trials</td><td>1</td></tr><tr><td>wn_trials</td><td>1</td></tr></table><br/></div></div>"
      ]
     },
     "metadata": {},
     "output_type": "display_data"
    },
    {
     "data": {
      "text/plain": [
       "<IPython.core.display.HTML object>"
      ],
      "text/html": [
       "Synced <strong style=\"color:#cdcd00\">good-haze-1301</strong>: <a href=\"https://wandb.ai/oliverweissl/NeuralStyleSearch/runs/fq6dvzf1\" target=\"_blank\">https://wandb.ai/oliverweissl/NeuralStyleSearch/runs/fq6dvzf1</a><br/>Synced 5 W&B file(s), 2 media file(s), 2 artifact file(s) and 0 other file(s)"
      ]
     },
     "metadata": {},
     "output_type": "display_data"
    },
    {
     "data": {
      "text/plain": [
       "<IPython.core.display.HTML object>"
      ],
      "text/html": [
       "Find logs at: <code>./wandb/run-20241206_100914-fq6dvzf1/logs</code>"
      ]
     },
     "metadata": {},
     "output_type": "display_data"
    },
    {
     "data": {
      "text/plain": [
       "<IPython.core.display.HTML object>"
      ],
      "text/html": [
       "Successfully finished last run (ID:fq6dvzf1). Initializing new run:<br/>"
      ]
     },
     "metadata": {},
     "output_type": "display_data"
    },
    {
     "data": {
      "text/plain": [
       "VBox(children=(Label(value='Waiting for wandb.init()...\\r'), FloatProgress(value=0.016668850133525363, max=1.0…"
      ],
      "application/vnd.jupyter.widget-view+json": {
       "version_major": 2,
       "version_minor": 0,
       "model_id": "ca618d2a10f14c108f6ec26b5809578e"
      }
     },
     "metadata": {},
     "output_type": "display_data"
    },
    {
     "data": {
      "text/plain": [
       "<IPython.core.display.HTML object>"
      ],
      "text/html": [
       "wandb version 0.19.0 is available!  To upgrade, please run:\n",
       " $ pip install wandb --upgrade"
      ]
     },
     "metadata": {},
     "output_type": "display_data"
    },
    {
     "data": {
      "text/plain": [
       "<IPython.core.display.HTML object>"
      ],
      "text/html": [
       "Tracking run with wandb version 0.13.5"
      ]
     },
     "metadata": {},
     "output_type": "display_data"
    },
    {
     "data": {
      "text/plain": [
       "<IPython.core.display.HTML object>"
      ],
      "text/html": [
       "Run data is saved locally in <code>/home/oliver/PycharmProjects/NeuralStyle/examples/wandb/run-20241206_101007-k9d489qj</code>"
      ]
     },
     "metadata": {},
     "output_type": "display_data"
    },
    {
     "data": {
      "text/plain": [
       "<IPython.core.display.HTML object>"
      ],
      "text/html": [
       "Syncing run <strong><a href=\"https://wandb.ai/oliverweissl/NeuralStyleSearch/runs/k9d489qj\" target=\"_blank\">avid-sunset-1302</a></strong> to <a href=\"https://wandb.ai/oliverweissl/NeuralStyleSearch\" target=\"_blank\">Weights & Biases</a> (<a href=\"https://wandb.me/run\" target=\"_blank\">docs</a>)<br/>"
      ]
     },
     "metadata": {},
     "output_type": "display_data"
    }
   ],
   "execution_count": 8
  },
  {
   "metadata": {},
   "cell_type": "code",
   "outputs": [],
   "execution_count": null,
   "source": "",
   "id": "b442318e4bd21012"
  }
 ],
 "metadata": {
  "kernelspec": {
   "display_name": "Python 3",
   "language": "python",
   "name": "python3"
  },
  "language_info": {
   "codemirror_mode": {
    "name": "ipython",
    "version": 2
   },
   "file_extension": ".py",
   "mimetype": "text/x-python",
   "name": "python",
   "nbconvert_exporter": "python",
   "pygments_lexer": "ipython2",
   "version": "2.7.6"
  }
 },
 "nbformat": 4,
 "nbformat_minor": 5
}
