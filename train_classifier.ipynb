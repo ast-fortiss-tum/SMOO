{
 "cells": [
  {
   "metadata": {},
   "cell_type": "code",
   "source": [
    "import torch\n",
    "from torchvision import models as md, datasets, transforms\n",
    "from models import TrainConfig, ClTrainer"
   ],
   "id": "4506ebe587ab6978",
   "outputs": [],
   "execution_count": null
  },
  {
   "metadata": {},
   "cell_type": "code",
   "source": "#  Create Datasets",
   "id": "bc05ac70cb18415e",
   "outputs": [],
   "execution_count": null
  },
  {
   "metadata": {},
   "cell_type": "code",
   "source": [
    "transform = transforms.Compose(\n",
    "    [\n",
    "        transforms.ToTensor(),\n",
    "        transforms.Pad(2),\n",
    "        transforms.Lambda(lambda x: x.repeat(3, 1, 1))\n",
    "    ]\n",
    ")\n",
    "\n",
    "train_ds = datasets.MNIST(\"./train_data\",train=True, transform=transform, download=True)\n",
    "val_ds = datasets.MNIST(\"./val_data\",train=False, transform=transform, download=True)"
   ],
   "id": "718a63a6a6f33ba2",
   "outputs": [],
   "execution_count": null
  },
  {
   "metadata": {},
   "cell_type": "code",
   "source": [
    "conf = TrainConfig(\n",
    "    lr=1e-5,\n",
    "    max_lr=1e-2,\n",
    "    batch=64,\n",
    "    epochs=5,\n",
    "    model=\"WideResNet50_2\",\n",
    "    dataset=\"MNIST\"\n",
    ")\n",
    "\n",
    "trainer = ClTrainer(\n",
    "    train_dataset=train_ds,\n",
    "    val_dataset=val_ds,\n",
    "    model=md.wide_resnet50_2(),\n",
    "    criterion=torch.nn.CrossEntropyLoss,\n",
    "    optimizer=torch.optim.AdamW,\n",
    "    scheduler=torch.optim.lr_scheduler.OneCycleLR,\n",
    "    train_config=conf\n",
    ")"
   ],
   "id": "fe5f4c9321b32b48",
   "outputs": [],
   "execution_count": null
  },
  {
   "metadata": {},
   "cell_type": "code",
   "source": "trainer.show_samples()",
   "id": "341b01ece9c07361",
   "outputs": [],
   "execution_count": null
  },
  {
   "metadata": {},
   "cell_type": "code",
   "source": "trainer.train()",
   "id": "ada624806604b2ae",
   "outputs": [],
   "execution_count": null
  },
  {
   "metadata": {},
   "cell_type": "code",
   "source": "trainer.save_model(\"models/wrn_mnist.pkl\")",
   "id": "68b3cfde69b8843a",
   "outputs": [],
   "execution_count": null
  }
 ],
 "metadata": {
  "kernelspec": {
   "display_name": "Python 3",
   "language": "python",
   "name": "python3"
  },
  "language_info": {
   "codemirror_mode": {
    "name": "ipython",
    "version": 2
   },
   "file_extension": ".py",
   "mimetype": "text/x-python",
   "name": "python",
   "nbconvert_exporter": "python",
   "pygments_lexer": "ipython2",
   "version": "2.7.6"
  }
 },
 "nbformat": 4,
 "nbformat_minor": 5
}
