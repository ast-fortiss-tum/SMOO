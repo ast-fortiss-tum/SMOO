{
 "cells": [
  {
   "metadata": {},
   "cell_type": "code",
   "outputs": [],
   "execution_count": null,
   "source": [
    "from src import NeuralTester, ExperimentConfig\n",
    "import torch\n",
    "from src.learner import PymooLearner\n",
    "from src.learner.auxiliary_components import PYMOO_DE_DEFAULT_PARAMS\n",
    "from src.criteria.image_comparison import InvUQI\n",
    "from src.criteria.objective_functions import PenalizedDistance\n",
    "from models import load_stylegan\n",
    "import wandb\n",
    "from functools import partial\n",
    "from _enable_logging import enable_logging"
   ],
   "id": "b6df6f7399edc3c4"
  },
  {
   "metadata": {},
   "cell_type": "markdown",
   "source": [
    "## Example usage of the Neural Tester using a SOO\n",
    "We use wandb to log progress in various steps!"
   ],
   "id": "1f6869b9fe0397fa"
  },
  {
   "metadata": {},
   "cell_type": "code",
   "outputs": [],
   "execution_count": null,
   "source": [
    "wandb.login()\n",
    "enable_logging()  # Setup logging to be able to view logging outputs in notebooks."
   ],
   "id": "13f6520daa3443ea"
  },
  {
   "metadata": {},
   "cell_type": "code",
   "outputs": [],
   "execution_count": null,
   "source": [
    "# Define the configurations for our experiments.\n",
    "conf = ExperimentConfig(\n",
    "    samples_per_class=10,\n",
    "    generations=50,\n",
    "    mix_dim_range=(0, 8),\n",
    "    predictor=torch.load(\"../models/wrn_mnist.pkl\"),  # The System under test (SUT)\n",
    "    generator=load_stylegan(\n",
    "        \"../models/sg2_mnist.pkl\"\n",
    "    ),  # The generator network (a stylegan in this case)\n",
    "    metrics=[PenalizedDistance(InvUQI())],\n",
    "    classes=10,\n",
    ")"
   ],
   "id": "9aaa79af528a8208"
  },
  {
   "metadata": {},
   "cell_type": "code",
   "outputs": [],
   "execution_count": null,
   "source": [
    "learner_params = PYMOO_DE_DEFAULT_PARAMS\n",
    "learner_params[\"n_var\"] = conf.genome_size\n",
    "learner_params[\"algo_params\"][\"pop_size\"] = 10 * conf.genome_size\n",
    "learner = PymooLearner(**learner_params)  # The learner for search based optimization of candidates."
   ],
   "id": "f788e48a8326b666"
  },
  {
   "metadata": {},
   "cell_type": "code",
   "outputs": [],
   "execution_count": null,
   "source": [
    "# Here we initialize the Tester object.\n",
    "tester = NeuralTester(\n",
    "    config=conf,\n",
    "    learner=learner,\n",
    "    device=torch.device(\"cuda\"),  # The target device for all operations.\n",
    ")"
   ],
   "id": "cf18f0e8a59e7975"
  },
  {
   "metadata": {},
   "cell_type": "code",
   "outputs": [],
   "execution_count": null,
   "source": [
    "# We start the testing procedure.\n",
    "tester.test()"
   ],
   "id": "623b3317c7b04082"
  }
 ],
 "metadata": {
  "kernelspec": {
   "display_name": "Python 3",
   "language": "python",
   "name": "python3"
  },
  "language_info": {
   "codemirror_mode": {
    "name": "ipython",
    "version": 2
   },
   "file_extension": ".py",
   "mimetype": "text/x-python",
   "name": "python",
   "nbconvert_exporter": "python",
   "pygments_lexer": "ipython2",
   "version": "2.7.6"
  }
 },
 "nbformat": 4,
 "nbformat_minor": 5
}
