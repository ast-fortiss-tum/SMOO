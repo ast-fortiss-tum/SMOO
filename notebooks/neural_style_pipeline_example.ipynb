{
 "cells": [
  {
   "metadata": {
    "ExecuteTime": {
     "end_time": "2024-11-07T13:54:12.258681Z",
     "start_time": "2024-11-07T13:54:11.665762Z"
    }
   },
   "cell_type": "code",
   "source": [
    "from src import NeuralTester, Config\n",
    "import torch\n",
    "from src.learner import (\n",
    "    PymooLearner,\n",
    "    RevDELearner,\n",
    "    GeneticLearner,\n",
    "    PYMOO_DE_DEFAULT_PARAMS,\n",
    "    REV_DE_DEFAULT_PARAMS,\n",
    "    GENETIC_DEFAULT_PARAMS,\n",
    ")\n",
    "from src.objective_functions import get_penalized_distance\n",
    "from models import load_stylegan\n",
    "import numpy as np\n",
    "import logging\n",
    "import wandb\n",
    "import sys\n",
    "from pymoo.algorithms.soo.nonconvex.de import DE\n",
    "from pymoo.operators.sampling.lhs import LHS"
   ],
   "id": "2f6e14a38a8be66e",
   "outputs": [
    {
     "name": "stderr",
     "output_type": "stream",
     "text": [
      "/home/oliver/miniconda3/envs/neuralstyle/lib/python3.9/site-packages/scipy/__init__.py:146: UserWarning: A NumPy version >=1.16.5 and <1.23.0 is required for this version of SciPy (detected version 1.24.3\n",
      "  warnings.warn(f\"A NumPy version >={np_minversion} and <{np_maxversion}\"\n"
     ]
    }
   ],
   "execution_count": 1
  },
  {
   "metadata": {},
   "cell_type": "markdown",
   "source": [
    "## Example usage of the Neural Tester\n",
    "We use wandb to log progress in various steps!"
   ],
   "id": "15c3218330717165"
  },
  {
   "metadata": {
    "ExecuteTime": {
     "end_time": "2024-11-07T13:54:13.112221Z",
     "start_time": "2024-11-07T13:54:12.260612Z"
    }
   },
   "cell_type": "code",
   "source": "wandb.login()",
   "id": "6cb9e87dc8cdfd4d",
   "outputs": [
    {
     "name": "stderr",
     "output_type": "stream",
     "text": [
      "\u001B[34m\u001B[1mwandb\u001B[0m: Currently logged in as: \u001B[33moliverweissl\u001B[0m. Use \u001B[1m`wandb login --relogin`\u001B[0m to force relogin\n"
     ]
    },
    {
     "data": {
      "text/plain": [
       "True"
      ]
     },
     "execution_count": 2,
     "metadata": {},
     "output_type": "execute_result"
    }
   ],
   "execution_count": 2
  },
  {
   "metadata": {
    "ExecuteTime": {
     "end_time": "2024-11-07T13:54:13.141294Z",
     "start_time": "2024-11-07T13:54:13.139280Z"
    }
   },
   "cell_type": "code",
   "source": [
    "# Setup logging to be able to view logging outputs in notebooks.\n",
    "logging.basicConfig(\n",
    "    level=logging.INFO, format=\"[%(asctime)s - %(name)s - %(levelname)s] %(message)s\"\n",
    ")\n",
    "logger = logging.getLogger()\n",
    "logger.handlers[0].stream = sys.stdout"
   ],
   "id": "2925fb7f72e45b68",
   "outputs": [],
   "execution_count": 3
  },
  {
   "metadata": {
    "ExecuteTime": {
     "end_time": "2024-11-07T13:54:13.183452Z",
     "start_time": "2024-11-07T13:54:13.181366Z"
    }
   },
   "cell_type": "code",
   "source": [
    "# Define the configurations for our experiments.\n",
    "learner_params = PYMOO_DE_DEFAULT_PARAMS\n",
    "conf = Config(\n",
    "    samples_per_class=10,\n",
    "    generations=50,\n",
    "    mix_dim_range=(0, 8),\n",
    "    predictor=\"../models/wrn_mnist.pkl\",\n",
    "    generator=\"../models/sg2_mnist.pkl\",\n",
    "    learner=PymooLearner,\n",
    "    learner_params=learner_params,\n",
    ")\n",
    "\n",
    "learner_params[\"n_var\"] = conf.genome_size  # for pymoo\n",
    "# learner_params[\"x0\"] = np.random.rand(learner_params[\"population_size\"] * 2, conf.genome_size)  # for own"
   ],
   "id": "29f9d41d3c4aff2b",
   "outputs": [],
   "execution_count": 4
  },
  {
   "metadata": {
    "ExecuteTime": {
     "end_time": "2024-11-07T13:54:14.310294Z",
     "start_time": "2024-11-07T13:54:13.266289Z"
    }
   },
   "cell_type": "code",
   "source": [
    "predictor = torch.load(conf.predictor)  # The System under test (SUT)\n",
    "generator = load_stylegan(conf.generator)  # The generator network (a stylegan in this case)\n",
    "learner = conf.learner(**learner_params)  # The learner for search based optimization of candidates.\n",
    "objective_function = get_penalized_distance  # The objective function to calculate fitness with.\n",
    "device = torch.device(\"cuda\")  # The target device for all operaitons."
   ],
   "id": "54f7d469be815d45",
   "outputs": [],
   "execution_count": 5
  },
  {
   "metadata": {
    "ExecuteTime": {
     "end_time": "2024-11-07T13:54:14.323800Z",
     "start_time": "2024-11-07T13:54:14.312484Z"
    }
   },
   "cell_type": "code",
   "source": [
    "tester = NeuralTester(\n",
    "    predictor=predictor,\n",
    "    generator=generator,\n",
    "    learner=learner,\n",
    "    objective_function=objective_function,\n",
    "    num_generations=conf.generations,\n",
    "    mix_dim_range=conf.mix_dim_range,\n",
    "    device=device,\n",
    ")  # Here we initialize the Tester object."
   ],
   "id": "27e62cf8a8025898",
   "outputs": [],
   "execution_count": 6
  },
  {
   "metadata": {
    "ExecuteTime": {
     "end_time": "2024-11-07T14:07:22.377229Z",
     "start_time": "2024-11-07T13:54:23.347990Z"
    }
   },
   "cell_type": "code",
   "source": [
    "tester.test(\n",
    "    num_classes=10,\n",
    "    samples_per_class=conf.samples_per_class,\n",
    ")  # We start the testing procedure."
   ],
   "id": "e9c0a9b67791a366",
   "outputs": [
    {
     "name": "stdout",
     "output_type": "stream",
     "text": [
      "[2024-11-07 14:54:23,348 - root - INFO] Start testing. Number of classes: 10, iterations per class: 10, total iterations: 100\n",
      "\n"
     ]
    },
    {
     "data": {
      "text/plain": [
       "<IPython.core.display.HTML object>"
      ],
      "text/html": [
       "wandb version 0.18.6 is available!  To upgrade, please run:\n",
       " $ pip install wandb --upgrade"
      ]
     },
     "metadata": {},
     "output_type": "display_data"
    },
    {
     "data": {
      "text/plain": [
       "<IPython.core.display.HTML object>"
      ],
      "text/html": [
       "Tracking run with wandb version 0.13.5"
      ]
     },
     "metadata": {},
     "output_type": "display_data"
    },
    {
     "data": {
      "text/plain": [
       "<IPython.core.display.HTML object>"
      ],
      "text/html": [
       "Run data is saved locally in <code>/home/oliver/PycharmProjects/NeuralStyle/notebooks/wandb/run-20241107_145423-ehw0sg7a</code>"
      ]
     },
     "metadata": {},
     "output_type": "display_data"
    },
    {
     "data": {
      "text/plain": [
       "<IPython.core.display.HTML object>"
      ],
      "text/html": [
       "Syncing run <strong><a href=\"https://wandb.ai/oliverweissl/NeuralStyleSearch/runs/ehw0sg7a\" target=\"_blank\">eager-fog-463</a></strong> to <a href=\"https://wandb.ai/oliverweissl/NeuralStyleSearch\" target=\"_blank\">Weights & Biases</a> (<a href=\"https://wandb.me/run\" target=\"_blank\">docs</a>)<br/>"
      ]
     },
     "metadata": {},
     "output_type": "display_data"
    },
    {
     "name": "stdout",
     "output_type": "stream",
     "text": [
      "[2024-11-07 14:54:24,714 - root - INFO] Generate seed(s) for class: 0.\n",
      "Setting up PyTorch plugin \"bias_act_plugin\"... Done.\n",
      "Setting up PyTorch plugin \"upfirdn2d_plugin\"... Done.\n",
      "[2024-11-07 14:54:25,334 - root - INFO] \tFound 1 valid seed(s) after: 1 iterations.\n",
      "[2024-11-07 14:54:25,661 - root - INFO] Running Search-Algorithm for 50 generations.\n",
      "[2024-11-07 14:54:44,453 - root - INFO] \tBest candidate has a fitness of: 0.28753068483250677\n",
      "[2024-11-07 14:54:44,639 - root - INFO] \tReset learner!\n"
     ]
    },
    {
     "data": {
      "text/plain": [
       "<IPython.core.display.HTML object>"
      ],
      "text/html": [
       "Finishing last run (ID:ehw0sg7a) before initializing another..."
      ]
     },
     "metadata": {},
     "output_type": "display_data"
    },
    {
     "data": {
      "text/plain": [
       "<IPython.core.display.HTML object>"
      ],
      "text/html": [
       "Waiting for W&B process to finish... <strong style=\"color:green\">(success).</strong>"
      ]
     },
     "metadata": {},
     "output_type": "display_data"
    },
    {
     "data": {
      "text/plain": [
       "<IPython.core.display.HTML object>"
      ],
      "text/html": [
       "<style>\n",
       "    table.wandb td:nth-child(1) { padding: 0 10px; text-align: left ; width: auto;} td:nth-child(2) {text-align: left ; width: 100%}\n",
       "    .wandb-row { display: flex; flex-direction: row; flex-wrap: wrap; justify-content: flex-start; width: 100% }\n",
       "    .wandb-col { display: flex; flex-direction: column; flex-basis: 100%; flex: 1; padding: 10px; }\n",
       "    </style>\n",
       "<div class=\"wandb-row\"><div class=\"wandb-col\"><h3>Run history:</h3><br/><table class=\"wandb\"><tr><td>max_fitness</td><td>▄▄▃▃▃█▃▃▃▃▃▃▃█▃▃▃██▂▂▂▂▂▂▂▂▂▂▁▁▁▁▁▁▁▁▁▁▁</td></tr><tr><td>mean_fitness</td><td>██▇▇▆▆▅▅▄▄▃▃▃▃▂▂▂▂▂▂▁▁▁▁▁▁▁▁▁▁▁▁▁▁▁▁▁▁▁▁</td></tr><tr><td>min_fitness</td><td>█▇▇▄▄▃▃▃▂▂▂▁▁▁▁▁▁▁▁▁▁▁▁▁▁▁▁▁▁▁▁▁▁▁▁▁▁▁▁▁</td></tr><tr><td>std_fitness</td><td>▄▄▄▅▅█▅▅▅▅▅▅▄█▅▄▄██▃▃▃▃▃▂▂▂▂▂▁▁▁▁▁▁▁▁▁▁▁</td></tr></table><br/></div><div class=\"wandb-col\"><h3>Run summary:</h3><br/><table class=\"wandb\"><tr><td>best_fitness</td><td>0.28753</td></tr><tr><td>boundary_to</td><td>5</td></tr><tr><td>max_fitness</td><td>0.29068</td></tr><tr><td>mean_fitness</td><td>0.28788</td></tr><tr><td>min_fitness</td><td>0.28753</td></tr><tr><td>std_fitness</td><td>0.00047</td></tr><tr><td>w0_trials</td><td>1</td></tr></table><br/></div></div>"
      ]
     },
     "metadata": {},
     "output_type": "display_data"
    },
    {
     "data": {
      "text/plain": [
       "<IPython.core.display.HTML object>"
      ],
      "text/html": [
       "Synced <strong style=\"color:#cdcd00\">eager-fog-463</strong>: <a href=\"https://wandb.ai/oliverweissl/NeuralStyleSearch/runs/ehw0sg7a\" target=\"_blank\">https://wandb.ai/oliverweissl/NeuralStyleSearch/runs/ehw0sg7a</a><br/>Synced 6 W&B file(s), 3 media file(s), 1 artifact file(s) and 0 other file(s)"
      ]
     },
     "metadata": {},
     "output_type": "display_data"
    },
    {
     "data": {
      "text/plain": [
       "<IPython.core.display.HTML object>"
      ],
      "text/html": [
       "Find logs at: <code>./wandb/run-20241107_145423-ehw0sg7a/logs</code>"
      ]
     },
     "metadata": {},
     "output_type": "display_data"
    },
    {
     "data": {
      "text/plain": [
       "<IPython.core.display.HTML object>"
      ],
      "text/html": [
       "Successfully finished last run (ID:ehw0sg7a). Initializing new run:<br/>"
      ]
     },
     "metadata": {},
     "output_type": "display_data"
    },
    {
     "data": {
      "text/plain": [
       "<IPython.core.display.HTML object>"
      ],
      "text/html": [
       "wandb version 0.18.6 is available!  To upgrade, please run:\n",
       " $ pip install wandb --upgrade"
      ]
     },
     "metadata": {},
     "output_type": "display_data"
    },
    {
     "data": {
      "text/plain": [
       "<IPython.core.display.HTML object>"
      ],
      "text/html": [
       "Tracking run with wandb version 0.13.5"
      ]
     },
     "metadata": {},
     "output_type": "display_data"
    },
    {
     "data": {
      "text/plain": [
       "<IPython.core.display.HTML object>"
      ],
      "text/html": [
       "Run data is saved locally in <code>/home/oliver/PycharmProjects/NeuralStyle/notebooks/wandb/run-20241107_145444-htc8fax9</code>"
      ]
     },
     "metadata": {},
     "output_type": "display_data"
    },
    {
     "data": {
      "text/plain": [
       "<IPython.core.display.HTML object>"
      ],
      "text/html": [
       "Syncing run <strong><a href=\"https://wandb.ai/oliverweissl/NeuralStyleSearch/runs/htc8fax9\" target=\"_blank\">hopeful-field-464</a></strong> to <a href=\"https://wandb.ai/oliverweissl/NeuralStyleSearch\" target=\"_blank\">Weights & Biases</a> (<a href=\"https://wandb.me/run\" target=\"_blank\">docs</a>)<br/>"
      ]
     },
     "metadata": {},
     "output_type": "display_data"
    },
    {
     "name": "stdout",
     "output_type": "stream",
     "text": [
      "[2024-11-07 14:54:54,197 - root - INFO] Generate seed(s) for class: 0.\n",
      "[2024-11-07 14:54:54,205 - root - INFO] \tFound 1 valid seed(s) after: 1 iterations.\n",
      "[2024-11-07 14:54:54,207 - root - INFO] Running Search-Algorithm for 50 generations.\n",
      "[2024-11-07 14:55:12,985 - root - INFO] \tBest candidate has a fitness of: 0.28073623216527044\n",
      "[2024-11-07 14:55:13,171 - root - INFO] \tReset learner!\n"
     ]
    },
    {
     "data": {
      "text/plain": [
       "<IPython.core.display.HTML object>"
      ],
      "text/html": [
       "Finishing last run (ID:htc8fax9) before initializing another..."
      ]
     },
     "metadata": {},
     "output_type": "display_data"
    },
    {
     "data": {
      "text/plain": [
       "<IPython.core.display.HTML object>"
      ],
      "text/html": [
       "Waiting for W&B process to finish... <strong style=\"color:green\">(success).</strong>"
      ]
     },
     "metadata": {},
     "output_type": "display_data"
    },
    {
     "data": {
      "text/plain": [
       "<IPython.core.display.HTML object>"
      ],
      "text/html": [
       "<style>\n",
       "    table.wandb td:nth-child(1) { padding: 0 10px; text-align: left ; width: auto;} td:nth-child(2) {text-align: left ; width: 100%}\n",
       "    .wandb-row { display: flex; flex-direction: row; flex-wrap: wrap; justify-content: flex-start; width: 100% }\n",
       "    .wandb-col { display: flex; flex-direction: column; flex-basis: 100%; flex: 1; padding: 10px; }\n",
       "    </style>\n",
       "<div class=\"wandb-row\"><div class=\"wandb-col\"><h3>Run history:</h3><br/><table class=\"wandb\"><tr><td>max_fitness</td><td>█▂▁▁▁▁▂▁▂▁▁▁▁▂▁▁▂▁▁▁▁▁▁▁▁▂▁▂▁▁▁▁▁▁▁▁▁▁▁▂</td></tr><tr><td>mean_fitness</td><td>█▁▁▁▁▁▁▁▁▁▁▁▁▁▁▁▁▁▁▁▁▁▁▁▁▁▁▁▁▁▁▁▁▁▁▁▁▁▁▁</td></tr><tr><td>min_fitness</td><td>█▂▂▂▂▂▂▂▂▂▂▂▂▂▁▁▁▁▁▁▁▁▁▁▁▁▁▁▁▁▁▁▁▁▁▁▁▁▁▁</td></tr><tr><td>std_fitness</td><td>█▁▁▁▁▁▁▁▁▁▁▁▁▁▁▁▁▁▁▁▁▁▁▁▁▁▁▁▁▁▁▁▁▁▁▁▁▁▁▁</td></tr></table><br/></div><div class=\"wandb-col\"><h3>Run summary:</h3><br/><table class=\"wandb\"><tr><td>best_fitness</td><td>0.28074</td></tr><tr><td>boundary_to</td><td>5</td></tr><tr><td>max_fitness</td><td>0.29353</td></tr><tr><td>mean_fitness</td><td>0.28111</td></tr><tr><td>min_fitness</td><td>0.28085</td></tr><tr><td>std_fitness</td><td>0.00126</td></tr><tr><td>w0_trials</td><td>1</td></tr></table><br/></div></div>"
      ]
     },
     "metadata": {},
     "output_type": "display_data"
    },
    {
     "data": {
      "text/plain": [
       "<IPython.core.display.HTML object>"
      ],
      "text/html": [
       "Synced <strong style=\"color:#cdcd00\">hopeful-field-464</strong>: <a href=\"https://wandb.ai/oliverweissl/NeuralStyleSearch/runs/htc8fax9\" target=\"_blank\">https://wandb.ai/oliverweissl/NeuralStyleSearch/runs/htc8fax9</a><br/>Synced 6 W&B file(s), 3 media file(s), 1 artifact file(s) and 0 other file(s)"
      ]
     },
     "metadata": {},
     "output_type": "display_data"
    },
    {
     "data": {
      "text/plain": [
       "<IPython.core.display.HTML object>"
      ],
      "text/html": [
       "Find logs at: <code>./wandb/run-20241107_145444-htc8fax9/logs</code>"
      ]
     },
     "metadata": {},
     "output_type": "display_data"
    },
    {
     "data": {
      "text/plain": [
       "<IPython.core.display.HTML object>"
      ],
      "text/html": [
       "Successfully finished last run (ID:htc8fax9). Initializing new run:<br/>"
      ]
     },
     "metadata": {},
     "output_type": "display_data"
    },
    {
     "data": {
      "text/plain": [
       "<IPython.core.display.HTML object>"
      ],
      "text/html": [
       "wandb version 0.18.6 is available!  To upgrade, please run:\n",
       " $ pip install wandb --upgrade"
      ]
     },
     "metadata": {},
     "output_type": "display_data"
    },
    {
     "data": {
      "text/plain": [
       "<IPython.core.display.HTML object>"
      ],
      "text/html": [
       "Tracking run with wandb version 0.13.5"
      ]
     },
     "metadata": {},
     "output_type": "display_data"
    },
    {
     "data": {
      "text/plain": [
       "<IPython.core.display.HTML object>"
      ],
      "text/html": [
       "Run data is saved locally in <code>/home/oliver/PycharmProjects/NeuralStyle/notebooks/wandb/run-20241107_145513-z33mfb1z</code>"
      ]
     },
     "metadata": {},
     "output_type": "display_data"
    },
    {
     "data": {
      "text/plain": [
       "<IPython.core.display.HTML object>"
      ],
      "text/html": [
       "Syncing run <strong><a href=\"https://wandb.ai/oliverweissl/NeuralStyleSearch/runs/z33mfb1z\" target=\"_blank\">volcanic-breeze-465</a></strong> to <a href=\"https://wandb.ai/oliverweissl/NeuralStyleSearch\" target=\"_blank\">Weights & Biases</a> (<a href=\"https://wandb.me/run\" target=\"_blank\">docs</a>)<br/>"
      ]
     },
     "metadata": {},
     "output_type": "display_data"
    },
    {
     "name": "stdout",
     "output_type": "stream",
     "text": [
      "[2024-11-07 14:55:21,705 - root - INFO] Generate seed(s) for class: 0.\n",
      "[2024-11-07 14:55:21,713 - root - INFO] \tFound 1 valid seed(s) after: 1 iterations.\n",
      "[2024-11-07 14:55:21,715 - root - INFO] Running Search-Algorithm for 50 generations.\n",
      "[2024-11-07 14:55:40,448 - root - INFO] \tBest candidate has a fitness of: 0.23134090936558782\n",
      "[2024-11-07 14:55:40,643 - root - INFO] \tReset learner!\n"
     ]
    },
    {
     "data": {
      "text/plain": [
       "<IPython.core.display.HTML object>"
      ],
      "text/html": [
       "Finishing last run (ID:z33mfb1z) before initializing another..."
      ]
     },
     "metadata": {},
     "output_type": "display_data"
    },
    {
     "data": {
      "text/plain": [
       "<IPython.core.display.HTML object>"
      ],
      "text/html": [
       "Waiting for W&B process to finish... <strong style=\"color:green\">(success).</strong>"
      ]
     },
     "metadata": {},
     "output_type": "display_data"
    },
    {
     "data": {
      "text/plain": [
       "<IPython.core.display.HTML object>"
      ],
      "text/html": [
       "<style>\n",
       "    table.wandb td:nth-child(1) { padding: 0 10px; text-align: left ; width: auto;} td:nth-child(2) {text-align: left ; width: 100%}\n",
       "    .wandb-row { display: flex; flex-direction: row; flex-wrap: wrap; justify-content: flex-start; width: 100% }\n",
       "    .wandb-col { display: flex; flex-direction: column; flex-basis: 100%; flex: 1; padding: 10px; }\n",
       "    </style>\n",
       "<div class=\"wandb-row\"><div class=\"wandb-col\"><h3>Run history:</h3><br/><table class=\"wandb\"><tr><td>max_fitness</td><td>█▂▂▁▁▂▂▂▁▂▂▁▂▂▂▂▂▂▂▂▂▂▁▂▂▂▂▂▁▂▂▂▂▂▂▁▁▁▂▂</td></tr><tr><td>mean_fitness</td><td>█▆▆▆▅▅▅▅▄▄▄▅▅▄▄▄▄▄▄▃▃▃▃▃▄▃▃▃▃▃▃▃▂▂▂▂▂▁▂▂</td></tr><tr><td>min_fitness</td><td>▁▇▇▇▇▇▇▇▇▇▇▇█▇▇▇▇▇▇▇▇▇▇▇▇▇▇▇▇▇▆▇▆▇▇▇▆▆▆▆</td></tr><tr><td>std_fitness</td><td>█▁▁▁▁▁▁▁▁▁▁▂▁▂▂▂▁▂▂▂▂▂▂▂▂▂▂▂▂▂▂▂▂▂▂▂▂▂▂▂</td></tr></table><br/></div><div class=\"wandb-col\"><h3>Run summary:</h3><br/><table class=\"wandb\"><tr><td>best_fitness</td><td>0.23134</td></tr><tr><td>boundary_to</td><td>6</td></tr><tr><td>max_fitness</td><td>0.27744</td></tr><tr><td>mean_fitness</td><td>0.26832</td></tr><tr><td>min_fitness</td><td>0.25612</td></tr><tr><td>std_fitness</td><td>0.00471</td></tr><tr><td>w0_trials</td><td>1</td></tr></table><br/></div></div>"
      ]
     },
     "metadata": {},
     "output_type": "display_data"
    },
    {
     "data": {
      "text/plain": [
       "<IPython.core.display.HTML object>"
      ],
      "text/html": [
       "Synced <strong style=\"color:#cdcd00\">volcanic-breeze-465</strong>: <a href=\"https://wandb.ai/oliverweissl/NeuralStyleSearch/runs/z33mfb1z\" target=\"_blank\">https://wandb.ai/oliverweissl/NeuralStyleSearch/runs/z33mfb1z</a><br/>Synced 6 W&B file(s), 3 media file(s), 1 artifact file(s) and 0 other file(s)"
      ]
     },
     "metadata": {},
     "output_type": "display_data"
    },
    {
     "data": {
      "text/plain": [
       "<IPython.core.display.HTML object>"
      ],
      "text/html": [
       "Find logs at: <code>./wandb/run-20241107_145513-z33mfb1z/logs</code>"
      ]
     },
     "metadata": {},
     "output_type": "display_data"
    },
    {
     "data": {
      "text/plain": [
       "<IPython.core.display.HTML object>"
      ],
      "text/html": [
       "Successfully finished last run (ID:z33mfb1z). Initializing new run:<br/>"
      ]
     },
     "metadata": {},
     "output_type": "display_data"
    },
    {
     "data": {
      "text/plain": [
       "<IPython.core.display.HTML object>"
      ],
      "text/html": [
       "wandb version 0.18.6 is available!  To upgrade, please run:\n",
       " $ pip install wandb --upgrade"
      ]
     },
     "metadata": {},
     "output_type": "display_data"
    },
    {
     "data": {
      "text/plain": [
       "<IPython.core.display.HTML object>"
      ],
      "text/html": [
       "Tracking run with wandb version 0.13.5"
      ]
     },
     "metadata": {},
     "output_type": "display_data"
    },
    {
     "data": {
      "text/plain": [
       "<IPython.core.display.HTML object>"
      ],
      "text/html": [
       "Run data is saved locally in <code>/home/oliver/PycharmProjects/NeuralStyle/notebooks/wandb/run-20241107_145540-w7c5lfpw</code>"
      ]
     },
     "metadata": {},
     "output_type": "display_data"
    },
    {
     "data": {
      "text/plain": [
       "<IPython.core.display.HTML object>"
      ],
      "text/html": [
       "Syncing run <strong><a href=\"https://wandb.ai/oliverweissl/NeuralStyleSearch/runs/w7c5lfpw\" target=\"_blank\">jumping-sunset-466</a></strong> to <a href=\"https://wandb.ai/oliverweissl/NeuralStyleSearch\" target=\"_blank\">Weights & Biases</a> (<a href=\"https://wandb.me/run\" target=\"_blank\">docs</a>)<br/>"
      ]
     },
     "metadata": {},
     "output_type": "display_data"
    },
    {
     "name": "stdout",
     "output_type": "stream",
     "text": [
      "[2024-11-07 14:55:49,541 - root - INFO] Generate seed(s) for class: 0.\n",
      "[2024-11-07 14:55:49,549 - root - INFO] \tFound 1 valid seed(s) after: 1 iterations.\n",
      "[2024-11-07 14:55:49,552 - root - INFO] Running Search-Algorithm for 50 generations.\n",
      "[2024-11-07 14:56:08,389 - root - INFO] \tBest candidate has a fitness of: 0.27335455453770696\n",
      "[2024-11-07 14:56:08,581 - root - INFO] \tReset learner!\n"
     ]
    },
    {
     "data": {
      "text/plain": [
       "<IPython.core.display.HTML object>"
      ],
      "text/html": [
       "Finishing last run (ID:w7c5lfpw) before initializing another..."
      ]
     },
     "metadata": {},
     "output_type": "display_data"
    },
    {
     "data": {
      "text/plain": [
       "<IPython.core.display.HTML object>"
      ],
      "text/html": [
       "Waiting for W&B process to finish... <strong style=\"color:green\">(success).</strong>"
      ]
     },
     "metadata": {},
     "output_type": "display_data"
    },
    {
     "data": {
      "text/plain": [
       "<IPython.core.display.HTML object>"
      ],
      "text/html": [
       "<style>\n",
       "    table.wandb td:nth-child(1) { padding: 0 10px; text-align: left ; width: auto;} td:nth-child(2) {text-align: left ; width: 100%}\n",
       "    .wandb-row { display: flex; flex-direction: row; flex-wrap: wrap; justify-content: flex-start; width: 100% }\n",
       "    .wandb-col { display: flex; flex-direction: column; flex-basis: 100%; flex: 1; padding: 10px; }\n",
       "    </style>\n",
       "<div class=\"wandb-row\"><div class=\"wandb-col\"><h3>Run history:</h3><br/><table class=\"wandb\"><tr><td>max_fitness</td><td>█▁▁▁▁▂▁▁▁▁▁▁▁▁▁▁▁▁▁▁▁▁▁▁▁▂▁▁▁▁▁▁▁▁▂▁▁▁▁▁</td></tr><tr><td>mean_fitness</td><td>█▁▁▁▁▁▁▁▁▁▁▁▁▁▁▁▁▁▁▁▁▁▁▁▁▁▁▁▁▁▁▁▁▁▁▁▁▁▁▁</td></tr><tr><td>min_fitness</td><td>█▁▂▁▁▂▁▂▂▂▂▂▂▁▂▁▁▁▂▁▂▁▁▁▂▂▂▁▁▁▁▁▁▁▁▂▁▂▂▂</td></tr><tr><td>std_fitness</td><td>█▁▁▁▁▁▁▁▁▁▁▁▁▁▁▁▁▁▁▁▁▁▁▁▁▁▁▁▁▁▁▁▁▁▁▁▁▁▁▁</td></tr></table><br/></div><div class=\"wandb-col\"><h3>Run summary:</h3><br/><table class=\"wandb\"><tr><td>best_fitness</td><td>0.27335</td></tr><tr><td>boundary_to</td><td>6</td></tr><tr><td>max_fitness</td><td>0.28468</td></tr><tr><td>mean_fitness</td><td>0.27978</td></tr><tr><td>min_fitness</td><td>0.2768</td></tr><tr><td>std_fitness</td><td>0.00145</td></tr><tr><td>w0_trials</td><td>1</td></tr></table><br/></div></div>"
      ]
     },
     "metadata": {},
     "output_type": "display_data"
    },
    {
     "data": {
      "text/plain": [
       "<IPython.core.display.HTML object>"
      ],
      "text/html": [
       "Synced <strong style=\"color:#cdcd00\">jumping-sunset-466</strong>: <a href=\"https://wandb.ai/oliverweissl/NeuralStyleSearch/runs/w7c5lfpw\" target=\"_blank\">https://wandb.ai/oliverweissl/NeuralStyleSearch/runs/w7c5lfpw</a><br/>Synced 6 W&B file(s), 3 media file(s), 1 artifact file(s) and 0 other file(s)"
      ]
     },
     "metadata": {},
     "output_type": "display_data"
    },
    {
     "data": {
      "text/plain": [
       "<IPython.core.display.HTML object>"
      ],
      "text/html": [
       "Find logs at: <code>./wandb/run-20241107_145540-w7c5lfpw/logs</code>"
      ]
     },
     "metadata": {},
     "output_type": "display_data"
    },
    {
     "data": {
      "text/plain": [
       "<IPython.core.display.HTML object>"
      ],
      "text/html": [
       "Successfully finished last run (ID:w7c5lfpw). Initializing new run:<br/>"
      ]
     },
     "metadata": {},
     "output_type": "display_data"
    },
    {
     "data": {
      "text/plain": [
       "<IPython.core.display.HTML object>"
      ],
      "text/html": [
       "wandb version 0.18.6 is available!  To upgrade, please run:\n",
       " $ pip install wandb --upgrade"
      ]
     },
     "metadata": {},
     "output_type": "display_data"
    },
    {
     "data": {
      "text/plain": [
       "<IPython.core.display.HTML object>"
      ],
      "text/html": [
       "Tracking run with wandb version 0.13.5"
      ]
     },
     "metadata": {},
     "output_type": "display_data"
    },
    {
     "data": {
      "text/plain": [
       "<IPython.core.display.HTML object>"
      ],
      "text/html": [
       "Run data is saved locally in <code>/home/oliver/PycharmProjects/NeuralStyle/notebooks/wandb/run-20241107_145608-kixuqtv6</code>"
      ]
     },
     "metadata": {},
     "output_type": "display_data"
    },
    {
     "data": {
      "text/plain": [
       "<IPython.core.display.HTML object>"
      ],
      "text/html": [
       "Syncing run <strong><a href=\"https://wandb.ai/oliverweissl/NeuralStyleSearch/runs/kixuqtv6\" target=\"_blank\">distinctive-snowball-467</a></strong> to <a href=\"https://wandb.ai/oliverweissl/NeuralStyleSearch\" target=\"_blank\">Weights & Biases</a> (<a href=\"https://wandb.me/run\" target=\"_blank\">docs</a>)<br/>"
      ]
     },
     "metadata": {},
     "output_type": "display_data"
    },
    {
     "name": "stdout",
     "output_type": "stream",
     "text": [
      "[2024-11-07 14:56:17,102 - root - INFO] Generate seed(s) for class: 0.\n",
      "[2024-11-07 14:56:17,110 - root - INFO] \tFound 1 valid seed(s) after: 1 iterations.\n",
      "[2024-11-07 14:56:17,113 - root - INFO] Running Search-Algorithm for 50 generations.\n",
      "[2024-11-07 14:56:35,982 - root - INFO] \tBest candidate has a fitness of: 0.4062913898267084\n",
      "[2024-11-07 14:56:36,174 - root - INFO] \tReset learner!\n"
     ]
    },
    {
     "data": {
      "text/plain": [
       "<IPython.core.display.HTML object>"
      ],
      "text/html": [
       "Finishing last run (ID:kixuqtv6) before initializing another..."
      ]
     },
     "metadata": {},
     "output_type": "display_data"
    },
    {
     "data": {
      "text/plain": [
       "<IPython.core.display.HTML object>"
      ],
      "text/html": [
       "Waiting for W&B process to finish... <strong style=\"color:green\">(success).</strong>"
      ]
     },
     "metadata": {},
     "output_type": "display_data"
    },
    {
     "data": {
      "text/plain": [
       "<IPython.core.display.HTML object>"
      ],
      "text/html": [
       "<style>\n",
       "    table.wandb td:nth-child(1) { padding: 0 10px; text-align: left ; width: auto;} td:nth-child(2) {text-align: left ; width: 100%}\n",
       "    .wandb-row { display: flex; flex-direction: row; flex-wrap: wrap; justify-content: flex-start; width: 100% }\n",
       "    .wandb-col { display: flex; flex-direction: column; flex-basis: 100%; flex: 1; padding: 10px; }\n",
       "    </style>\n",
       "<div class=\"wandb-row\"><div class=\"wandb-col\"><h3>Run history:</h3><br/><table class=\"wandb\"><tr><td>max_fitness</td><td>█▃▄▂▄▄▂▄▄▄▄▄▃▄▄▄▂▂▄▄▂▄▄▁▂▁▄▂▄▄▄▄▄▁▄▄▄▄▃▄</td></tr><tr><td>mean_fitness</td><td>█▁▁▁▂▂▁▂▂▂▁▁▁▁▂▁▁▁▂▂▂▂▁▁▁▂▂▂▂▁▁▂▂▁▁▁▁▁▁▁</td></tr><tr><td>min_fitness</td><td>▁███████████▇██▇████████████▇███████████</td></tr><tr><td>std_fitness</td><td>█▂▁▁▁▁▁▁▂▂▂▂▂▁▂▂▁▁▁▂▁▁▂▁▁▁▂▁▂▂▂▁▂▁▂▂▂▁▁▁</td></tr></table><br/></div><div class=\"wandb-col\"><h3>Run summary:</h3><br/><table class=\"wandb\"><tr><td>best_fitness</td><td>0.40629</td></tr><tr><td>boundary_to</td><td>5</td></tr><tr><td>max_fitness</td><td>0.51533</td></tr><tr><td>mean_fitness</td><td>0.47717</td></tr><tr><td>min_fitness</td><td>0.46733</td></tr><tr><td>std_fitness</td><td>0.00532</td></tr><tr><td>w0_trials</td><td>1</td></tr></table><br/></div></div>"
      ]
     },
     "metadata": {},
     "output_type": "display_data"
    },
    {
     "data": {
      "text/plain": [
       "<IPython.core.display.HTML object>"
      ],
      "text/html": [
       "Synced <strong style=\"color:#cdcd00\">distinctive-snowball-467</strong>: <a href=\"https://wandb.ai/oliverweissl/NeuralStyleSearch/runs/kixuqtv6\" target=\"_blank\">https://wandb.ai/oliverweissl/NeuralStyleSearch/runs/kixuqtv6</a><br/>Synced 6 W&B file(s), 3 media file(s), 1 artifact file(s) and 0 other file(s)"
      ]
     },
     "metadata": {},
     "output_type": "display_data"
    },
    {
     "data": {
      "text/plain": [
       "<IPython.core.display.HTML object>"
      ],
      "text/html": [
       "Find logs at: <code>./wandb/run-20241107_145608-kixuqtv6/logs</code>"
      ]
     },
     "metadata": {},
     "output_type": "display_data"
    },
    {
     "data": {
      "text/plain": [
       "<IPython.core.display.HTML object>"
      ],
      "text/html": [
       "Successfully finished last run (ID:kixuqtv6). Initializing new run:<br/>"
      ]
     },
     "metadata": {},
     "output_type": "display_data"
    },
    {
     "data": {
      "text/plain": [
       "<IPython.core.display.HTML object>"
      ],
      "text/html": [
       "wandb version 0.18.6 is available!  To upgrade, please run:\n",
       " $ pip install wandb --upgrade"
      ]
     },
     "metadata": {},
     "output_type": "display_data"
    },
    {
     "data": {
      "text/plain": [
       "<IPython.core.display.HTML object>"
      ],
      "text/html": [
       "Tracking run with wandb version 0.13.5"
      ]
     },
     "metadata": {},
     "output_type": "display_data"
    },
    {
     "data": {
      "text/plain": [
       "<IPython.core.display.HTML object>"
      ],
      "text/html": [
       "Run data is saved locally in <code>/home/oliver/PycharmProjects/NeuralStyle/notebooks/wandb/run-20241107_145636-z0j2nv9e</code>"
      ]
     },
     "metadata": {},
     "output_type": "display_data"
    },
    {
     "data": {
      "text/plain": [
       "<IPython.core.display.HTML object>"
      ],
      "text/html": [
       "Syncing run <strong><a href=\"https://wandb.ai/oliverweissl/NeuralStyleSearch/runs/z0j2nv9e\" target=\"_blank\">rose-sunset-468</a></strong> to <a href=\"https://wandb.ai/oliverweissl/NeuralStyleSearch\" target=\"_blank\">Weights & Biases</a> (<a href=\"https://wandb.me/run\" target=\"_blank\">docs</a>)<br/>"
      ]
     },
     "metadata": {},
     "output_type": "display_data"
    },
    {
     "name": "stdout",
     "output_type": "stream",
     "text": [
      "[2024-11-07 14:56:44,603 - root - INFO] Generate seed(s) for class: 0.\n",
      "[2024-11-07 14:56:44,610 - root - INFO] \tFound 1 valid seed(s) after: 1 iterations.\n",
      "[2024-11-07 14:56:44,613 - root - INFO] Running Search-Algorithm for 50 generations.\n",
      "[2024-11-07 14:57:03,412 - root - INFO] \tBest candidate has a fitness of: 0.4869694951810175\n",
      "[2024-11-07 14:57:03,607 - root - INFO] \tReset learner!\n"
     ]
    },
    {
     "data": {
      "text/plain": [
       "<IPython.core.display.HTML object>"
      ],
      "text/html": [
       "Finishing last run (ID:z0j2nv9e) before initializing another..."
      ]
     },
     "metadata": {},
     "output_type": "display_data"
    },
    {
     "data": {
      "text/plain": [
       "<IPython.core.display.HTML object>"
      ],
      "text/html": [
       "Waiting for W&B process to finish... <strong style=\"color:green\">(success).</strong>"
      ]
     },
     "metadata": {},
     "output_type": "display_data"
    },
    {
     "data": {
      "text/plain": [
       "<IPython.core.display.HTML object>"
      ],
      "text/html": [
       "<style>\n",
       "    table.wandb td:nth-child(1) { padding: 0 10px; text-align: left ; width: auto;} td:nth-child(2) {text-align: left ; width: 100%}\n",
       "    .wandb-row { display: flex; flex-direction: row; flex-wrap: wrap; justify-content: flex-start; width: 100% }\n",
       "    .wandb-col { display: flex; flex-direction: column; flex-basis: 100%; flex: 1; padding: 10px; }\n",
       "    </style>\n",
       "<div class=\"wandb-row\"><div class=\"wandb-col\"><h3>Run history:</h3><br/><table class=\"wandb\"><tr><td>max_fitness</td><td>█▃▂▂▂▂▂▂▂▃▃▂▃▂▂▂▂▂▃▁▂▃▂▃▂▂▂▂▂▁▃▂▂▂▃▂▂▂▂▂</td></tr><tr><td>mean_fitness</td><td>▁██████████████████████████████████████▇</td></tr><tr><td>min_fitness</td><td>▁███████████████████████████████████████</td></tr><tr><td>std_fitness</td><td>█▁▁▁▁▁▁▁▁▁▁▁▁▁▁▁▁▁▁▁▁▁▁▁▁▁▁▁▁▁▁▁▁▁▁▁▁▁▁▁</td></tr></table><br/></div><div class=\"wandb-col\"><h3>Run summary:</h3><br/><table class=\"wandb\"><tr><td>best_fitness</td><td>0.48697</td></tr><tr><td>boundary_to</td><td>3</td></tr><tr><td>max_fitness</td><td>0.5533</td></tr><tr><td>mean_fitness</td><td>0.54849</td></tr><tr><td>min_fitness</td><td>0.54588</td></tr><tr><td>std_fitness</td><td>0.00118</td></tr><tr><td>w0_trials</td><td>1</td></tr></table><br/></div></div>"
      ]
     },
     "metadata": {},
     "output_type": "display_data"
    },
    {
     "data": {
      "text/plain": [
       "<IPython.core.display.HTML object>"
      ],
      "text/html": [
       "Synced <strong style=\"color:#cdcd00\">rose-sunset-468</strong>: <a href=\"https://wandb.ai/oliverweissl/NeuralStyleSearch/runs/z0j2nv9e\" target=\"_blank\">https://wandb.ai/oliverweissl/NeuralStyleSearch/runs/z0j2nv9e</a><br/>Synced 6 W&B file(s), 3 media file(s), 1 artifact file(s) and 0 other file(s)"
      ]
     },
     "metadata": {},
     "output_type": "display_data"
    },
    {
     "data": {
      "text/plain": [
       "<IPython.core.display.HTML object>"
      ],
      "text/html": [
       "Find logs at: <code>./wandb/run-20241107_145636-z0j2nv9e/logs</code>"
      ]
     },
     "metadata": {},
     "output_type": "display_data"
    },
    {
     "data": {
      "text/plain": [
       "<IPython.core.display.HTML object>"
      ],
      "text/html": [
       "Successfully finished last run (ID:z0j2nv9e). Initializing new run:<br/>"
      ]
     },
     "metadata": {},
     "output_type": "display_data"
    },
    {
     "data": {
      "text/plain": [
       "<IPython.core.display.HTML object>"
      ],
      "text/html": [
       "wandb version 0.18.6 is available!  To upgrade, please run:\n",
       " $ pip install wandb --upgrade"
      ]
     },
     "metadata": {},
     "output_type": "display_data"
    },
    {
     "data": {
      "text/plain": [
       "<IPython.core.display.HTML object>"
      ],
      "text/html": [
       "Tracking run with wandb version 0.13.5"
      ]
     },
     "metadata": {},
     "output_type": "display_data"
    },
    {
     "data": {
      "text/plain": [
       "<IPython.core.display.HTML object>"
      ],
      "text/html": [
       "Run data is saved locally in <code>/home/oliver/PycharmProjects/NeuralStyle/notebooks/wandb/run-20241107_145703-75otqw7e</code>"
      ]
     },
     "metadata": {},
     "output_type": "display_data"
    },
    {
     "data": {
      "text/plain": [
       "<IPython.core.display.HTML object>"
      ],
      "text/html": [
       "Syncing run <strong><a href=\"https://wandb.ai/oliverweissl/NeuralStyleSearch/runs/75otqw7e\" target=\"_blank\">ancient-brook-469</a></strong> to <a href=\"https://wandb.ai/oliverweissl/NeuralStyleSearch\" target=\"_blank\">Weights & Biases</a> (<a href=\"https://wandb.me/run\" target=\"_blank\">docs</a>)<br/>"
      ]
     },
     "metadata": {},
     "output_type": "display_data"
    },
    {
     "name": "stdout",
     "output_type": "stream",
     "text": [
      "[2024-11-07 14:57:12,161 - root - INFO] Generate seed(s) for class: 0.\n",
      "[2024-11-07 14:57:12,168 - root - INFO] \tFound 1 valid seed(s) after: 1 iterations.\n",
      "[2024-11-07 14:57:12,171 - root - INFO] Running Search-Algorithm for 50 generations.\n",
      "[2024-11-07 14:57:30,989 - root - INFO] \tBest candidate has a fitness of: 0.2662978414334589\n",
      "[2024-11-07 14:57:31,178 - root - INFO] \tReset learner!\n"
     ]
    },
    {
     "data": {
      "text/plain": [
       "<IPython.core.display.HTML object>"
      ],
      "text/html": [
       "Finishing last run (ID:75otqw7e) before initializing another..."
      ]
     },
     "metadata": {},
     "output_type": "display_data"
    },
    {
     "data": {
      "text/plain": [
       "<IPython.core.display.HTML object>"
      ],
      "text/html": [
       "Waiting for W&B process to finish... <strong style=\"color:green\">(success).</strong>"
      ]
     },
     "metadata": {},
     "output_type": "display_data"
    },
    {
     "data": {
      "text/plain": [
       "<IPython.core.display.HTML object>"
      ],
      "text/html": [
       "<style>\n",
       "    table.wandb td:nth-child(1) { padding: 0 10px; text-align: left ; width: auto;} td:nth-child(2) {text-align: left ; width: 100%}\n",
       "    .wandb-row { display: flex; flex-direction: row; flex-wrap: wrap; justify-content: flex-start; width: 100% }\n",
       "    .wandb-col { display: flex; flex-direction: column; flex-basis: 100%; flex: 1; padding: 10px; }\n",
       "    </style>\n",
       "<div class=\"wandb-row\"><div class=\"wandb-col\"><h3>Run history:</h3><br/><table class=\"wandb\"><tr><td>max_fitness</td><td>█▂▂▂▂▂▂▂▂▁▂▂▂▂▂▂▂▂▂▂▂▂▁▂▂▁▂▂▂▂▂▂▂▂▁▁▁▂▂▂</td></tr><tr><td>mean_fitness</td><td>█▂▂▂▃▂▁▁▂▂▁▁▂▂▂▂▂▂▂▂▃▃▂▂▂▁▂▂▂▂▃▃▃▃▃▃▃▂▂▃</td></tr><tr><td>min_fitness</td><td>▁▅▆▅▆▅▅▅▆▄▄▅▅▅▅▅▆▅▆▆▆▆▅▄▆▂▅▅▅▆█▇▇█▇▆▆▅▅▇</td></tr><tr><td>std_fitness</td><td>█▁▁▁▁▁▁▁▁▁▁▂▁▂▁▁▁▁▁▁▁▁▁▂▁▁▁▁▁▁▁▁▁▁▁▁▁▁▁▁</td></tr></table><br/></div><div class=\"wandb-col\"><h3>Run summary:</h3><br/><table class=\"wandb\"><tr><td>best_fitness</td><td>0.2663</td></tr><tr><td>boundary_to</td><td>1</td></tr><tr><td>max_fitness</td><td>0.29119</td></tr><tr><td>mean_fitness</td><td>0.28126</td></tr><tr><td>min_fitness</td><td>0.27474</td></tr><tr><td>std_fitness</td><td>0.00211</td></tr><tr><td>w0_trials</td><td>1</td></tr></table><br/></div></div>"
      ]
     },
     "metadata": {},
     "output_type": "display_data"
    },
    {
     "data": {
      "text/plain": [
       "<IPython.core.display.HTML object>"
      ],
      "text/html": [
       "Synced <strong style=\"color:#cdcd00\">ancient-brook-469</strong>: <a href=\"https://wandb.ai/oliverweissl/NeuralStyleSearch/runs/75otqw7e\" target=\"_blank\">https://wandb.ai/oliverweissl/NeuralStyleSearch/runs/75otqw7e</a><br/>Synced 6 W&B file(s), 3 media file(s), 1 artifact file(s) and 0 other file(s)"
      ]
     },
     "metadata": {},
     "output_type": "display_data"
    },
    {
     "data": {
      "text/plain": [
       "<IPython.core.display.HTML object>"
      ],
      "text/html": [
       "Find logs at: <code>./wandb/run-20241107_145703-75otqw7e/logs</code>"
      ]
     },
     "metadata": {},
     "output_type": "display_data"
    },
    {
     "data": {
      "text/plain": [
       "<IPython.core.display.HTML object>"
      ],
      "text/html": [
       "Successfully finished last run (ID:75otqw7e). Initializing new run:<br/>"
      ]
     },
     "metadata": {},
     "output_type": "display_data"
    },
    {
     "data": {
      "text/plain": [
       "<IPython.core.display.HTML object>"
      ],
      "text/html": [
       "wandb version 0.18.6 is available!  To upgrade, please run:\n",
       " $ pip install wandb --upgrade"
      ]
     },
     "metadata": {},
     "output_type": "display_data"
    },
    {
     "data": {
      "text/plain": [
       "<IPython.core.display.HTML object>"
      ],
      "text/html": [
       "Tracking run with wandb version 0.13.5"
      ]
     },
     "metadata": {},
     "output_type": "display_data"
    },
    {
     "data": {
      "text/plain": [
       "<IPython.core.display.HTML object>"
      ],
      "text/html": [
       "Run data is saved locally in <code>/home/oliver/PycharmProjects/NeuralStyle/notebooks/wandb/run-20241107_145731-nr9mjpz5</code>"
      ]
     },
     "metadata": {},
     "output_type": "display_data"
    },
    {
     "data": {
      "text/plain": [
       "<IPython.core.display.HTML object>"
      ],
      "text/html": [
       "Syncing run <strong><a href=\"https://wandb.ai/oliverweissl/NeuralStyleSearch/runs/nr9mjpz5\" target=\"_blank\">efficient-shadow-470</a></strong> to <a href=\"https://wandb.ai/oliverweissl/NeuralStyleSearch\" target=\"_blank\">Weights & Biases</a> (<a href=\"https://wandb.me/run\" target=\"_blank\">docs</a>)<br/>"
      ]
     },
     "metadata": {},
     "output_type": "display_data"
    },
    {
     "name": "stdout",
     "output_type": "stream",
     "text": [
      "[2024-11-07 14:57:39,721 - root - INFO] Generate seed(s) for class: 0.\n",
      "[2024-11-07 14:57:39,729 - root - INFO] \tFound 1 valid seed(s) after: 1 iterations.\n",
      "[2024-11-07 14:57:39,731 - root - INFO] Running Search-Algorithm for 50 generations.\n",
      "[2024-11-07 14:57:58,362 - root - INFO] \tBest candidate has a fitness of: 0.23680415189641058\n",
      "[2024-11-07 14:57:58,556 - root - INFO] \tReset learner!\n"
     ]
    },
    {
     "data": {
      "text/plain": [
       "<IPython.core.display.HTML object>"
      ],
      "text/html": [
       "Finishing last run (ID:nr9mjpz5) before initializing another..."
      ]
     },
     "metadata": {},
     "output_type": "display_data"
    },
    {
     "data": {
      "text/plain": [
       "<IPython.core.display.HTML object>"
      ],
      "text/html": [
       "Waiting for W&B process to finish... <strong style=\"color:green\">(success).</strong>"
      ]
     },
     "metadata": {},
     "output_type": "display_data"
    },
    {
     "data": {
      "text/plain": [
       "<IPython.core.display.HTML object>"
      ],
      "text/html": [
       "<style>\n",
       "    table.wandb td:nth-child(1) { padding: 0 10px; text-align: left ; width: auto;} td:nth-child(2) {text-align: left ; width: 100%}\n",
       "    .wandb-row { display: flex; flex-direction: row; flex-wrap: wrap; justify-content: flex-start; width: 100% }\n",
       "    .wandb-col { display: flex; flex-direction: column; flex-basis: 100%; flex: 1; padding: 10px; }\n",
       "    </style>\n",
       "<div class=\"wandb-row\"><div class=\"wandb-col\"><h3>Run history:</h3><br/><table class=\"wandb\"><tr><td>max_fitness</td><td>█▃▃▃▃▃▃▃▁▁▃▂▃▂▂▃▄▂▄▁▃▁▃▃▃▂▃▃▃▂▁▃▂▃▂▁▃▃▃▃</td></tr><tr><td>mean_fitness</td><td>▁▇█▇▇▇██████▇▇▇████▇▇▇███▇█▇████████████</td></tr><tr><td>min_fitness</td><td>▁▇█▇▇█▇▇█▇█▇█▇█▇▇█▇█████▇▇▇▇▇▇▆▇▇▆▇▇▇▇▇█</td></tr><tr><td>std_fitness</td><td>█▂▁▂▁▁▂▁▁▁▁▁▁▁▂▁▁▁▁▁▂▁▁▂▂▁▂▁▂▁▁▁▂▂▂▁▁▂▁▁</td></tr></table><br/></div><div class=\"wandb-col\"><h3>Run summary:</h3><br/><table class=\"wandb\"><tr><td>best_fitness</td><td>0.2368</td></tr><tr><td>boundary_to</td><td>9</td></tr><tr><td>max_fitness</td><td>0.31077</td></tr><tr><td>mean_fitness</td><td>0.28951</td></tr><tr><td>min_fitness</td><td>0.26929</td></tr><tr><td>std_fitness</td><td>0.00706</td></tr><tr><td>w0_trials</td><td>1</td></tr></table><br/></div></div>"
      ]
     },
     "metadata": {},
     "output_type": "display_data"
    },
    {
     "data": {
      "text/plain": [
       "<IPython.core.display.HTML object>"
      ],
      "text/html": [
       "Synced <strong style=\"color:#cdcd00\">efficient-shadow-470</strong>: <a href=\"https://wandb.ai/oliverweissl/NeuralStyleSearch/runs/nr9mjpz5\" target=\"_blank\">https://wandb.ai/oliverweissl/NeuralStyleSearch/runs/nr9mjpz5</a><br/>Synced 6 W&B file(s), 3 media file(s), 1 artifact file(s) and 0 other file(s)"
      ]
     },
     "metadata": {},
     "output_type": "display_data"
    },
    {
     "data": {
      "text/plain": [
       "<IPython.core.display.HTML object>"
      ],
      "text/html": [
       "Find logs at: <code>./wandb/run-20241107_145731-nr9mjpz5/logs</code>"
      ]
     },
     "metadata": {},
     "output_type": "display_data"
    },
    {
     "data": {
      "text/plain": [
       "<IPython.core.display.HTML object>"
      ],
      "text/html": [
       "Successfully finished last run (ID:nr9mjpz5). Initializing new run:<br/>"
      ]
     },
     "metadata": {},
     "output_type": "display_data"
    },
    {
     "data": {
      "text/plain": [
       "<IPython.core.display.HTML object>"
      ],
      "text/html": [
       "wandb version 0.18.6 is available!  To upgrade, please run:\n",
       " $ pip install wandb --upgrade"
      ]
     },
     "metadata": {},
     "output_type": "display_data"
    },
    {
     "data": {
      "text/plain": [
       "<IPython.core.display.HTML object>"
      ],
      "text/html": [
       "Tracking run with wandb version 0.13.5"
      ]
     },
     "metadata": {},
     "output_type": "display_data"
    },
    {
     "data": {
      "text/plain": [
       "<IPython.core.display.HTML object>"
      ],
      "text/html": [
       "Run data is saved locally in <code>/home/oliver/PycharmProjects/NeuralStyle/notebooks/wandb/run-20241107_145758-d4ri44s4</code>"
      ]
     },
     "metadata": {},
     "output_type": "display_data"
    },
    {
     "data": {
      "text/plain": [
       "<IPython.core.display.HTML object>"
      ],
      "text/html": [
       "Syncing run <strong><a href=\"https://wandb.ai/oliverweissl/NeuralStyleSearch/runs/d4ri44s4\" target=\"_blank\">feasible-moon-471</a></strong> to <a href=\"https://wandb.ai/oliverweissl/NeuralStyleSearch\" target=\"_blank\">Weights & Biases</a> (<a href=\"https://wandb.me/run\" target=\"_blank\">docs</a>)<br/>"
      ]
     },
     "metadata": {},
     "output_type": "display_data"
    },
    {
     "name": "stdout",
     "output_type": "stream",
     "text": [
      "[2024-11-07 14:58:07,668 - root - INFO] Generate seed(s) for class: 0.\n",
      "[2024-11-07 14:58:07,677 - root - INFO] \tFound 1 valid seed(s) after: 1 iterations.\n",
      "[2024-11-07 14:58:07,679 - root - INFO] Running Search-Algorithm for 50 generations.\n",
      "[2024-11-07 14:58:26,394 - root - INFO] \tBest candidate has a fitness of: 0.28675856626408636\n",
      "[2024-11-07 14:58:26,592 - root - INFO] \tReset learner!\n"
     ]
    },
    {
     "data": {
      "text/plain": [
       "<IPython.core.display.HTML object>"
      ],
      "text/html": [
       "Finishing last run (ID:d4ri44s4) before initializing another..."
      ]
     },
     "metadata": {},
     "output_type": "display_data"
    },
    {
     "data": {
      "text/plain": [
       "<IPython.core.display.HTML object>"
      ],
      "text/html": [
       "Waiting for W&B process to finish... <strong style=\"color:green\">(success).</strong>"
      ]
     },
     "metadata": {},
     "output_type": "display_data"
    },
    {
     "data": {
      "text/plain": [
       "<IPython.core.display.HTML object>"
      ],
      "text/html": [
       "<style>\n",
       "    table.wandb td:nth-child(1) { padding: 0 10px; text-align: left ; width: auto;} td:nth-child(2) {text-align: left ; width: 100%}\n",
       "    .wandb-row { display: flex; flex-direction: row; flex-wrap: wrap; justify-content: flex-start; width: 100% }\n",
       "    .wandb-col { display: flex; flex-direction: column; flex-basis: 100%; flex: 1; padding: 10px; }\n",
       "    </style>\n",
       "<div class=\"wandb-row\"><div class=\"wandb-col\"><h3>Run history:</h3><br/><table class=\"wandb\"><tr><td>max_fitness</td><td>█▁▁▁▁▁▁▁▁▂▂▁▁▁▁▂▁▁▁▁▁▁▁▁▁▁▁▁▁▁▁▁▁▁▁▁▁▁▁▁</td></tr><tr><td>mean_fitness</td><td>█▁▁▁▁▁▁▁▁▁▁▁▁▁▁▁▁▁▁▁▁▁▁▁▁▁▁▁▁▁▁▁▁▁▁▁▁▁▁▁</td></tr><tr><td>min_fitness</td><td>█▂▁▁▁▁▁▁▂▂▂▁▁▂▂▁▂▁▁▁▁▁▁▁▁▁▁▁▁▁▂▂▂▂▂▂▁▂▁▁</td></tr><tr><td>std_fitness</td><td>█▁▂▂▁▂▁▁▁▁▂▂▂▂▂▂▂▂▂▂▂▂▂▁▁▂▂▂▁▂▂▂▂▂▂▂▁▂▁▂</td></tr></table><br/></div><div class=\"wandb-col\"><h3>Run summary:</h3><br/><table class=\"wandb\"><tr><td>best_fitness</td><td>0.28676</td></tr><tr><td>boundary_to</td><td>3</td></tr><tr><td>max_fitness</td><td>0.35073</td></tr><tr><td>mean_fitness</td><td>0.30334</td></tr><tr><td>min_fitness</td><td>0.28993</td></tr><tr><td>std_fitness</td><td>0.01369</td></tr><tr><td>w0_trials</td><td>1</td></tr></table><br/></div></div>"
      ]
     },
     "metadata": {},
     "output_type": "display_data"
    },
    {
     "data": {
      "text/plain": [
       "<IPython.core.display.HTML object>"
      ],
      "text/html": [
       "Synced <strong style=\"color:#cdcd00\">feasible-moon-471</strong>: <a href=\"https://wandb.ai/oliverweissl/NeuralStyleSearch/runs/d4ri44s4\" target=\"_blank\">https://wandb.ai/oliverweissl/NeuralStyleSearch/runs/d4ri44s4</a><br/>Synced 6 W&B file(s), 3 media file(s), 1 artifact file(s) and 0 other file(s)"
      ]
     },
     "metadata": {},
     "output_type": "display_data"
    },
    {
     "data": {
      "text/plain": [
       "<IPython.core.display.HTML object>"
      ],
      "text/html": [
       "Find logs at: <code>./wandb/run-20241107_145758-d4ri44s4/logs</code>"
      ]
     },
     "metadata": {},
     "output_type": "display_data"
    },
    {
     "data": {
      "text/plain": [
       "<IPython.core.display.HTML object>"
      ],
      "text/html": [
       "Successfully finished last run (ID:d4ri44s4). Initializing new run:<br/>"
      ]
     },
     "metadata": {},
     "output_type": "display_data"
    },
    {
     "data": {
      "text/plain": [
       "<IPython.core.display.HTML object>"
      ],
      "text/html": [
       "wandb version 0.18.6 is available!  To upgrade, please run:\n",
       " $ pip install wandb --upgrade"
      ]
     },
     "metadata": {},
     "output_type": "display_data"
    },
    {
     "data": {
      "text/plain": [
       "<IPython.core.display.HTML object>"
      ],
      "text/html": [
       "Tracking run with wandb version 0.13.5"
      ]
     },
     "metadata": {},
     "output_type": "display_data"
    },
    {
     "data": {
      "text/plain": [
       "<IPython.core.display.HTML object>"
      ],
      "text/html": [
       "Run data is saved locally in <code>/home/oliver/PycharmProjects/NeuralStyle/notebooks/wandb/run-20241107_145826-a4rmt76a</code>"
      ]
     },
     "metadata": {},
     "output_type": "display_data"
    },
    {
     "data": {
      "text/plain": [
       "<IPython.core.display.HTML object>"
      ],
      "text/html": [
       "Syncing run <strong><a href=\"https://wandb.ai/oliverweissl/NeuralStyleSearch/runs/a4rmt76a\" target=\"_blank\">dutiful-bush-472</a></strong> to <a href=\"https://wandb.ai/oliverweissl/NeuralStyleSearch\" target=\"_blank\">Weights & Biases</a> (<a href=\"https://wandb.me/run\" target=\"_blank\">docs</a>)<br/>"
      ]
     },
     "metadata": {},
     "output_type": "display_data"
    },
    {
     "name": "stdout",
     "output_type": "stream",
     "text": [
      "[2024-11-07 14:58:37,329 - root - INFO] Generate seed(s) for class: 0.\n",
      "[2024-11-07 14:58:37,337 - root - INFO] \tFound 1 valid seed(s) after: 1 iterations.\n",
      "[2024-11-07 14:58:37,339 - root - INFO] Running Search-Algorithm for 50 generations.\n",
      "[2024-11-07 14:58:56,059 - root - INFO] \tBest candidate has a fitness of: 0.27597668207066595\n",
      "[2024-11-07 14:58:56,242 - root - INFO] \tReset learner!\n"
     ]
    },
    {
     "data": {
      "text/plain": [
       "<IPython.core.display.HTML object>"
      ],
      "text/html": [
       "Finishing last run (ID:a4rmt76a) before initializing another..."
      ]
     },
     "metadata": {},
     "output_type": "display_data"
    },
    {
     "data": {
      "text/plain": [
       "<IPython.core.display.HTML object>"
      ],
      "text/html": [
       "Waiting for W&B process to finish... <strong style=\"color:green\">(success).</strong>"
      ]
     },
     "metadata": {},
     "output_type": "display_data"
    },
    {
     "data": {
      "text/plain": [
       "<IPython.core.display.HTML object>"
      ],
      "text/html": [
       "<style>\n",
       "    table.wandb td:nth-child(1) { padding: 0 10px; text-align: left ; width: auto;} td:nth-child(2) {text-align: left ; width: 100%}\n",
       "    .wandb-row { display: flex; flex-direction: row; flex-wrap: wrap; justify-content: flex-start; width: 100% }\n",
       "    .wandb-col { display: flex; flex-direction: column; flex-basis: 100%; flex: 1; padding: 10px; }\n",
       "    </style>\n",
       "<div class=\"wandb-row\"><div class=\"wandb-col\"><h3>Run history:</h3><br/><table class=\"wandb\"><tr><td>max_fitness</td><td>█▄▃▂▃▂▁▂▂▁▂▄▁▁▁▂▃▂▂▂▃▃▄▃▂▂▅▅▄▇▁▁▂▂▃▁▃▂▃▂</td></tr><tr><td>mean_fitness</td><td>▁███████████████████████████████████████</td></tr><tr><td>min_fitness</td><td>▁▇▇▇▇▇▇██▇▇▇█▇▇▇▇▇▇▇▇▇▇█▇▇▇█▇▇▇█▇▇▇▇▆██▆</td></tr><tr><td>std_fitness</td><td>█▂▂▂▂▁▁▁▂▂▂▂▁▂▂▂▁▂▂▂▂▂▂▂▂▂▂▁▂▂▂▂▂▂▂▂▂▁▂▂</td></tr></table><br/></div><div class=\"wandb-col\"><h3>Run summary:</h3><br/><table class=\"wandb\"><tr><td>best_fitness</td><td>0.27598</td></tr><tr><td>boundary_to</td><td>5</td></tr><tr><td>max_fitness</td><td>0.36775</td></tr><tr><td>mean_fitness</td><td>0.35889</td></tr><tr><td>min_fitness</td><td>0.32932</td></tr><tr><td>std_fitness</td><td>0.00559</td></tr><tr><td>w0_trials</td><td>1</td></tr></table><br/></div></div>"
      ]
     },
     "metadata": {},
     "output_type": "display_data"
    },
    {
     "data": {
      "text/plain": [
       "<IPython.core.display.HTML object>"
      ],
      "text/html": [
       "Synced <strong style=\"color:#cdcd00\">dutiful-bush-472</strong>: <a href=\"https://wandb.ai/oliverweissl/NeuralStyleSearch/runs/a4rmt76a\" target=\"_blank\">https://wandb.ai/oliverweissl/NeuralStyleSearch/runs/a4rmt76a</a><br/>Synced 6 W&B file(s), 3 media file(s), 1 artifact file(s) and 0 other file(s)"
      ]
     },
     "metadata": {},
     "output_type": "display_data"
    },
    {
     "data": {
      "text/plain": [
       "<IPython.core.display.HTML object>"
      ],
      "text/html": [
       "Find logs at: <code>./wandb/run-20241107_145826-a4rmt76a/logs</code>"
      ]
     },
     "metadata": {},
     "output_type": "display_data"
    },
    {
     "data": {
      "text/plain": [
       "<IPython.core.display.HTML object>"
      ],
      "text/html": [
       "Successfully finished last run (ID:a4rmt76a). Initializing new run:<br/>"
      ]
     },
     "metadata": {},
     "output_type": "display_data"
    },
    {
     "data": {
      "text/plain": [
       "<IPython.core.display.HTML object>"
      ],
      "text/html": [
       "wandb version 0.18.6 is available!  To upgrade, please run:\n",
       " $ pip install wandb --upgrade"
      ]
     },
     "metadata": {},
     "output_type": "display_data"
    },
    {
     "data": {
      "text/plain": [
       "<IPython.core.display.HTML object>"
      ],
      "text/html": [
       "Tracking run with wandb version 0.13.5"
      ]
     },
     "metadata": {},
     "output_type": "display_data"
    },
    {
     "data": {
      "text/plain": [
       "<IPython.core.display.HTML object>"
      ],
      "text/html": [
       "Run data is saved locally in <code>/home/oliver/PycharmProjects/NeuralStyle/notebooks/wandb/run-20241107_145856-q0oojgg2</code>"
      ]
     },
     "metadata": {},
     "output_type": "display_data"
    },
    {
     "data": {
      "text/plain": [
       "<IPython.core.display.HTML object>"
      ],
      "text/html": [
       "Syncing run <strong><a href=\"https://wandb.ai/oliverweissl/NeuralStyleSearch/runs/q0oojgg2\" target=\"_blank\">pleasant-silence-473</a></strong> to <a href=\"https://wandb.ai/oliverweissl/NeuralStyleSearch\" target=\"_blank\">Weights & Biases</a> (<a href=\"https://wandb.me/run\" target=\"_blank\">docs</a>)<br/>"
      ]
     },
     "metadata": {},
     "output_type": "display_data"
    },
    {
     "name": "stdout",
     "output_type": "stream",
     "text": [
      "[2024-11-07 14:59:05,168 - root - INFO] Generate seed(s) for class: 1.\n",
      "[2024-11-07 14:59:05,176 - root - INFO] \tFound 1 valid seed(s) after: 1 iterations.\n",
      "[2024-11-07 14:59:05,178 - root - INFO] Running Search-Algorithm for 50 generations.\n",
      "[2024-11-07 14:59:23,958 - root - INFO] \tBest candidate has a fitness of: 0.416056061152392\n",
      "[2024-11-07 14:59:24,146 - root - INFO] \tReset learner!\n"
     ]
    },
    {
     "data": {
      "text/plain": [
       "<IPython.core.display.HTML object>"
      ],
      "text/html": [
       "Finishing last run (ID:q0oojgg2) before initializing another..."
      ]
     },
     "metadata": {},
     "output_type": "display_data"
    },
    {
     "data": {
      "text/plain": [
       "<IPython.core.display.HTML object>"
      ],
      "text/html": [
       "Waiting for W&B process to finish... <strong style=\"color:green\">(success).</strong>"
      ]
     },
     "metadata": {},
     "output_type": "display_data"
    },
    {
     "data": {
      "text/plain": [
       "<IPython.core.display.HTML object>"
      ],
      "text/html": [
       "<style>\n",
       "    table.wandb td:nth-child(1) { padding: 0 10px; text-align: left ; width: auto;} td:nth-child(2) {text-align: left ; width: 100%}\n",
       "    .wandb-row { display: flex; flex-direction: row; flex-wrap: wrap; justify-content: flex-start; width: 100% }\n",
       "    .wandb-col { display: flex; flex-direction: column; flex-basis: 100%; flex: 1; padding: 10px; }\n",
       "    </style>\n",
       "<div class=\"wandb-row\"><div class=\"wandb-col\"><h3>Run history:</h3><br/><table class=\"wandb\"><tr><td>max_fitness</td><td>█▁▁▁▁▁▁▁▂▁▁▁▁▁▁▁▁▁▁▁▁▁▁▁▁▂▁▁▁▁▁▁▁▁▁▁▁▁▁▁</td></tr><tr><td>mean_fitness</td><td>█▁▁▁▁▁▁▁▁▁▁▁▁▁▁▁▁▁▁▁▁▁▁▁▁▁▁▁▁▁▁▁▁▁▁▁▁▁▁▁</td></tr><tr><td>min_fitness</td><td>▁▆▆▇▆█▆▇▅▆▅█▆▆▆▆▆█▃▆▅▆▆▆▅▆▆▆▅▅▇▆▇▅▇▆▆▆▇▅</td></tr><tr><td>std_fitness</td><td>█▁▁▁▁▁▁▁▁▁▁▁▁▁▁▁▁▁▁▁▁▁▁▁▁▁▁▁▁▁▁▁▁▁▁▁▁▁▁▁</td></tr></table><br/></div><div class=\"wandb-col\"><h3>Run summary:</h3><br/><table class=\"wandb\"><tr><td>best_fitness</td><td>0.41606</td></tr><tr><td>boundary_to</td><td>7</td></tr><tr><td>max_fitness</td><td>0.52966</td></tr><tr><td>mean_fitness</td><td>0.48265</td></tr><tr><td>min_fitness</td><td>0.44173</td></tr><tr><td>std_fitness</td><td>0.01516</td></tr><tr><td>w0_trials</td><td>1</td></tr></table><br/></div></div>"
      ]
     },
     "metadata": {},
     "output_type": "display_data"
    },
    {
     "data": {
      "text/plain": [
       "<IPython.core.display.HTML object>"
      ],
      "text/html": [
       "Synced <strong style=\"color:#cdcd00\">pleasant-silence-473</strong>: <a href=\"https://wandb.ai/oliverweissl/NeuralStyleSearch/runs/q0oojgg2\" target=\"_blank\">https://wandb.ai/oliverweissl/NeuralStyleSearch/runs/q0oojgg2</a><br/>Synced 6 W&B file(s), 3 media file(s), 1 artifact file(s) and 0 other file(s)"
      ]
     },
     "metadata": {},
     "output_type": "display_data"
    },
    {
     "data": {
      "text/plain": [
       "<IPython.core.display.HTML object>"
      ],
      "text/html": [
       "Find logs at: <code>./wandb/run-20241107_145856-q0oojgg2/logs</code>"
      ]
     },
     "metadata": {},
     "output_type": "display_data"
    },
    {
     "data": {
      "text/plain": [
       "<IPython.core.display.HTML object>"
      ],
      "text/html": [
       "Successfully finished last run (ID:q0oojgg2). Initializing new run:<br/>"
      ]
     },
     "metadata": {},
     "output_type": "display_data"
    },
    {
     "data": {
      "text/plain": [
       "<IPython.core.display.HTML object>"
      ],
      "text/html": [
       "wandb version 0.18.6 is available!  To upgrade, please run:\n",
       " $ pip install wandb --upgrade"
      ]
     },
     "metadata": {},
     "output_type": "display_data"
    },
    {
     "data": {
      "text/plain": [
       "<IPython.core.display.HTML object>"
      ],
      "text/html": [
       "Tracking run with wandb version 0.13.5"
      ]
     },
     "metadata": {},
     "output_type": "display_data"
    },
    {
     "data": {
      "text/plain": [
       "<IPython.core.display.HTML object>"
      ],
      "text/html": [
       "Run data is saved locally in <code>/home/oliver/PycharmProjects/NeuralStyle/notebooks/wandb/run-20241107_145924-brhwst5g</code>"
      ]
     },
     "metadata": {},
     "output_type": "display_data"
    },
    {
     "data": {
      "text/plain": [
       "<IPython.core.display.HTML object>"
      ],
      "text/html": [
       "Syncing run <strong><a href=\"https://wandb.ai/oliverweissl/NeuralStyleSearch/runs/brhwst5g\" target=\"_blank\">fragrant-capybara-474</a></strong> to <a href=\"https://wandb.ai/oliverweissl/NeuralStyleSearch\" target=\"_blank\">Weights & Biases</a> (<a href=\"https://wandb.me/run\" target=\"_blank\">docs</a>)<br/>"
      ]
     },
     "metadata": {},
     "output_type": "display_data"
    },
    {
     "name": "stdout",
     "output_type": "stream",
     "text": [
      "[2024-11-07 14:59:32,714 - root - INFO] Generate seed(s) for class: 1.\n",
      "[2024-11-07 14:59:32,722 - root - INFO] \tFound 1 valid seed(s) after: 1 iterations.\n",
      "[2024-11-07 14:59:32,725 - root - INFO] Running Search-Algorithm for 50 generations.\n",
      "[2024-11-07 14:59:51,445 - root - INFO] \tBest candidate has a fitness of: 0.37980809247868597\n",
      "[2024-11-07 14:59:51,636 - root - INFO] \tReset learner!\n"
     ]
    },
    {
     "data": {
      "text/plain": [
       "<IPython.core.display.HTML object>"
      ],
      "text/html": [
       "Finishing last run (ID:brhwst5g) before initializing another..."
      ]
     },
     "metadata": {},
     "output_type": "display_data"
    },
    {
     "data": {
      "text/plain": [
       "<IPython.core.display.HTML object>"
      ],
      "text/html": [
       "Waiting for W&B process to finish... <strong style=\"color:green\">(success).</strong>"
      ]
     },
     "metadata": {},
     "output_type": "display_data"
    },
    {
     "data": {
      "text/plain": [
       "<IPython.core.display.HTML object>"
      ],
      "text/html": [
       "<style>\n",
       "    table.wandb td:nth-child(1) { padding: 0 10px; text-align: left ; width: auto;} td:nth-child(2) {text-align: left ; width: 100%}\n",
       "    .wandb-row { display: flex; flex-direction: row; flex-wrap: wrap; justify-content: flex-start; width: 100% }\n",
       "    .wandb-col { display: flex; flex-direction: column; flex-basis: 100%; flex: 1; padding: 10px; }\n",
       "    </style>\n",
       "<div class=\"wandb-row\"><div class=\"wandb-col\"><h3>Run history:</h3><br/><table class=\"wandb\"><tr><td>max_fitness</td><td>█▄▄▄▄▄▄▄▄▄▄▄▄▄▄▄▄▄▂▄▁▂▄▄▄▄▄▄▄▄▂▄▄▄▄▂▄▁▁▂</td></tr><tr><td>mean_fitness</td><td>█▁▁▁▁▁▁▁▁▁▁▁▁▁▁▁▁▁▁▁▁▁▁▁▁▁▁▁▁▁▁▁▁▁▁▁▁▁▁▁</td></tr><tr><td>min_fitness</td><td>▁▇████▇████▇█▇▇████▇▇▇▇██████▇██▇███████</td></tr><tr><td>std_fitness</td><td>█▂▂▂▂▂▂▂▂▂▂▂▂▂▂▂▂▂▁▂▁▁▂▂▂▂▂▂▂▂▁▂▂▂▂▁▂▁▁▁</td></tr></table><br/></div><div class=\"wandb-col\"><h3>Run summary:</h3><br/><table class=\"wandb\"><tr><td>best_fitness</td><td>0.37981</td></tr><tr><td>boundary_to</td><td>9</td></tr><tr><td>max_fitness</td><td>0.50716</td></tr><tr><td>mean_fitness</td><td>0.42691</td></tr><tr><td>min_fitness</td><td>0.41677</td></tr><tr><td>std_fitness</td><td>0.01251</td></tr><tr><td>w0_trials</td><td>1</td></tr></table><br/></div></div>"
      ]
     },
     "metadata": {},
     "output_type": "display_data"
    },
    {
     "data": {
      "text/plain": [
       "<IPython.core.display.HTML object>"
      ],
      "text/html": [
       "Synced <strong style=\"color:#cdcd00\">fragrant-capybara-474</strong>: <a href=\"https://wandb.ai/oliverweissl/NeuralStyleSearch/runs/brhwst5g\" target=\"_blank\">https://wandb.ai/oliverweissl/NeuralStyleSearch/runs/brhwst5g</a><br/>Synced 6 W&B file(s), 3 media file(s), 1 artifact file(s) and 0 other file(s)"
      ]
     },
     "metadata": {},
     "output_type": "display_data"
    },
    {
     "data": {
      "text/plain": [
       "<IPython.core.display.HTML object>"
      ],
      "text/html": [
       "Find logs at: <code>./wandb/run-20241107_145924-brhwst5g/logs</code>"
      ]
     },
     "metadata": {},
     "output_type": "display_data"
    },
    {
     "data": {
      "text/plain": [
       "<IPython.core.display.HTML object>"
      ],
      "text/html": [
       "Successfully finished last run (ID:brhwst5g). Initializing new run:<br/>"
      ]
     },
     "metadata": {},
     "output_type": "display_data"
    },
    {
     "data": {
      "text/plain": [
       "<IPython.core.display.HTML object>"
      ],
      "text/html": [
       "wandb version 0.18.6 is available!  To upgrade, please run:\n",
       " $ pip install wandb --upgrade"
      ]
     },
     "metadata": {},
     "output_type": "display_data"
    },
    {
     "data": {
      "text/plain": [
       "<IPython.core.display.HTML object>"
      ],
      "text/html": [
       "Tracking run with wandb version 0.13.5"
      ]
     },
     "metadata": {},
     "output_type": "display_data"
    },
    {
     "data": {
      "text/plain": [
       "<IPython.core.display.HTML object>"
      ],
      "text/html": [
       "Run data is saved locally in <code>/home/oliver/PycharmProjects/NeuralStyle/notebooks/wandb/run-20241107_145951-9wlp6ent</code>"
      ]
     },
     "metadata": {},
     "output_type": "display_data"
    },
    {
     "data": {
      "text/plain": [
       "<IPython.core.display.HTML object>"
      ],
      "text/html": [
       "Syncing run <strong><a href=\"https://wandb.ai/oliverweissl/NeuralStyleSearch/runs/9wlp6ent\" target=\"_blank\">ethereal-wind-475</a></strong> to <a href=\"https://wandb.ai/oliverweissl/NeuralStyleSearch\" target=\"_blank\">Weights & Biases</a> (<a href=\"https://wandb.me/run\" target=\"_blank\">docs</a>)<br/>"
      ]
     },
     "metadata": {},
     "output_type": "display_data"
    },
    {
     "name": "stdout",
     "output_type": "stream",
     "text": [
      "[2024-11-07 15:00:00,285 - root - INFO] Generate seed(s) for class: 1.\n",
      "[2024-11-07 15:00:00,293 - root - INFO] \tFound 1 valid seed(s) after: 1 iterations.\n",
      "[2024-11-07 15:00:00,296 - root - INFO] Running Search-Algorithm for 50 generations.\n",
      "[2024-11-07 15:00:19,032 - root - INFO] \tBest candidate has a fitness of: 0.495283151034289\n",
      "[2024-11-07 15:00:19,234 - root - INFO] \tReset learner!\n"
     ]
    },
    {
     "data": {
      "text/plain": [
       "<IPython.core.display.HTML object>"
      ],
      "text/html": [
       "Finishing last run (ID:9wlp6ent) before initializing another..."
      ]
     },
     "metadata": {},
     "output_type": "display_data"
    },
    {
     "data": {
      "text/plain": [
       "<IPython.core.display.HTML object>"
      ],
      "text/html": [
       "Waiting for W&B process to finish... <strong style=\"color:green\">(success).</strong>"
      ]
     },
     "metadata": {},
     "output_type": "display_data"
    },
    {
     "data": {
      "text/plain": [
       "<IPython.core.display.HTML object>"
      ],
      "text/html": [
       "<style>\n",
       "    table.wandb td:nth-child(1) { padding: 0 10px; text-align: left ; width: auto;} td:nth-child(2) {text-align: left ; width: 100%}\n",
       "    .wandb-row { display: flex; flex-direction: row; flex-wrap: wrap; justify-content: flex-start; width: 100% }\n",
       "    .wandb-col { display: flex; flex-direction: column; flex-basis: 100%; flex: 1; padding: 10px; }\n",
       "    </style>\n",
       "<div class=\"wandb-row\"><div class=\"wandb-col\"><h3>Run history:</h3><br/><table class=\"wandb\"><tr><td>max_fitness</td><td>█▁▁▁▁▁▁▁▁▁▁▁▁▁▁▁▁▁▁▁▂▁▁▁▁▁▁▁▁▁▁▁▁▁▁▁▁▁▁▁</td></tr><tr><td>mean_fitness</td><td>█▁▁▁▁▁▁▁▁▁▁▁▁▁▁▁▁▁▁▁▁▁▁▁▁▁▁▁▁▁▁▁▁▁▁▁▁▁▁▁</td></tr><tr><td>min_fitness</td><td>▁████▇█████████████████████████████████▇</td></tr><tr><td>std_fitness</td><td>█▁▁▁▁▁▁▁▁▁▁▁▁▁▁▁▁▁▁▁▁▁▁▁▁▁▁▁▁▁▁▁▁▁▁▁▁▁▁▁</td></tr></table><br/></div><div class=\"wandb-col\"><h3>Run summary:</h3><br/><table class=\"wandb\"><tr><td>best_fitness</td><td>0.49528</td></tr><tr><td>boundary_to</td><td>7</td></tr><tr><td>max_fitness</td><td>0.62018</td></tr><tr><td>mean_fitness</td><td>0.60438</td></tr><tr><td>min_fitness</td><td>0.58764</td></tr><tr><td>std_fitness</td><td>0.00553</td></tr><tr><td>w0_trials</td><td>1</td></tr></table><br/></div></div>"
      ]
     },
     "metadata": {},
     "output_type": "display_data"
    },
    {
     "data": {
      "text/plain": [
       "<IPython.core.display.HTML object>"
      ],
      "text/html": [
       "Synced <strong style=\"color:#cdcd00\">ethereal-wind-475</strong>: <a href=\"https://wandb.ai/oliverweissl/NeuralStyleSearch/runs/9wlp6ent\" target=\"_blank\">https://wandb.ai/oliverweissl/NeuralStyleSearch/runs/9wlp6ent</a><br/>Synced 6 W&B file(s), 3 media file(s), 1 artifact file(s) and 0 other file(s)"
      ]
     },
     "metadata": {},
     "output_type": "display_data"
    },
    {
     "data": {
      "text/plain": [
       "<IPython.core.display.HTML object>"
      ],
      "text/html": [
       "Find logs at: <code>./wandb/run-20241107_145951-9wlp6ent/logs</code>"
      ]
     },
     "metadata": {},
     "output_type": "display_data"
    },
    {
     "data": {
      "text/plain": [
       "<IPython.core.display.HTML object>"
      ],
      "text/html": [
       "Successfully finished last run (ID:9wlp6ent). Initializing new run:<br/>"
      ]
     },
     "metadata": {},
     "output_type": "display_data"
    },
    {
     "data": {
      "text/plain": [
       "<IPython.core.display.HTML object>"
      ],
      "text/html": [
       "wandb version 0.18.6 is available!  To upgrade, please run:\n",
       " $ pip install wandb --upgrade"
      ]
     },
     "metadata": {},
     "output_type": "display_data"
    },
    {
     "data": {
      "text/plain": [
       "<IPython.core.display.HTML object>"
      ],
      "text/html": [
       "Tracking run with wandb version 0.13.5"
      ]
     },
     "metadata": {},
     "output_type": "display_data"
    },
    {
     "data": {
      "text/plain": [
       "<IPython.core.display.HTML object>"
      ],
      "text/html": [
       "Run data is saved locally in <code>/home/oliver/PycharmProjects/NeuralStyle/notebooks/wandb/run-20241107_150019-i2geoxu3</code>"
      ]
     },
     "metadata": {},
     "output_type": "display_data"
    },
    {
     "data": {
      "text/plain": [
       "<IPython.core.display.HTML object>"
      ],
      "text/html": [
       "Syncing run <strong><a href=\"https://wandb.ai/oliverweissl/NeuralStyleSearch/runs/i2geoxu3\" target=\"_blank\">valiant-surf-476</a></strong> to <a href=\"https://wandb.ai/oliverweissl/NeuralStyleSearch\" target=\"_blank\">Weights & Biases</a> (<a href=\"https://wandb.me/run\" target=\"_blank\">docs</a>)<br/>"
      ]
     },
     "metadata": {},
     "output_type": "display_data"
    },
    {
     "name": "stdout",
     "output_type": "stream",
     "text": [
      "[2024-11-07 15:00:27,832 - root - INFO] Generate seed(s) for class: 1.\n",
      "[2024-11-07 15:00:27,840 - root - INFO] \tFound 1 valid seed(s) after: 1 iterations.\n",
      "[2024-11-07 15:00:27,843 - root - INFO] Running Search-Algorithm for 50 generations.\n",
      "[2024-11-07 15:00:46,541 - root - INFO] \tBest candidate has a fitness of: 0.37554361856358587\n",
      "[2024-11-07 15:00:46,731 - root - INFO] \tReset learner!\n"
     ]
    },
    {
     "data": {
      "text/plain": [
       "<IPython.core.display.HTML object>"
      ],
      "text/html": [
       "Finishing last run (ID:i2geoxu3) before initializing another..."
      ]
     },
     "metadata": {},
     "output_type": "display_data"
    },
    {
     "data": {
      "text/plain": [
       "<IPython.core.display.HTML object>"
      ],
      "text/html": [
       "Waiting for W&B process to finish... <strong style=\"color:green\">(success).</strong>"
      ]
     },
     "metadata": {},
     "output_type": "display_data"
    },
    {
     "data": {
      "text/plain": [
       "<IPython.core.display.HTML object>"
      ],
      "text/html": [
       "<style>\n",
       "    table.wandb td:nth-child(1) { padding: 0 10px; text-align: left ; width: auto;} td:nth-child(2) {text-align: left ; width: 100%}\n",
       "    .wandb-row { display: flex; flex-direction: row; flex-wrap: wrap; justify-content: flex-start; width: 100% }\n",
       "    .wandb-col { display: flex; flex-direction: column; flex-basis: 100%; flex: 1; padding: 10px; }\n",
       "    </style>\n",
       "<div class=\"wandb-row\"><div class=\"wandb-col\"><h3>Run history:</h3><br/><table class=\"wandb\"><tr><td>max_fitness</td><td>█▁▁▁▁▁▁▁▁▁▁▁▁▁▁▁▁▁▁▁▁▁▁▁▁▁▁▁▁▁▂▁▁▁▁▁▁▁▁▁</td></tr><tr><td>mean_fitness</td><td>█▁▁▁▁▁▁▁▁▁▁▁▁▁▁▁▁▁▁▁▁▁▁▁▁▁▁▁▁▁▁▁▁▁▁▁▁▁▁▁</td></tr><tr><td>min_fitness</td><td>▁█▇▇▆▇▇▇▇▇▇▇██▇▇▆▆█▇▇▇▇▇███▇▇█▇█▇▇▇█▇▆▇▇</td></tr><tr><td>std_fitness</td><td>█▁▁▁▁▁▁▁▁▁▁▁▁▁▁▁▁▁▁▁▁▁▁▁▁▁▁▁▁▁▁▁▁▁▁▁▁▁▁▁</td></tr></table><br/></div><div class=\"wandb-col\"><h3>Run summary:</h3><br/><table class=\"wandb\"><tr><td>best_fitness</td><td>0.37554</td></tr><tr><td>boundary_to</td><td>9</td></tr><tr><td>max_fitness</td><td>0.44843</td></tr><tr><td>mean_fitness</td><td>0.4248</td></tr><tr><td>min_fitness</td><td>0.40969</td></tr><tr><td>std_fitness</td><td>0.00633</td></tr><tr><td>w0_trials</td><td>1</td></tr></table><br/></div></div>"
      ]
     },
     "metadata": {},
     "output_type": "display_data"
    },
    {
     "data": {
      "text/plain": [
       "<IPython.core.display.HTML object>"
      ],
      "text/html": [
       "Synced <strong style=\"color:#cdcd00\">valiant-surf-476</strong>: <a href=\"https://wandb.ai/oliverweissl/NeuralStyleSearch/runs/i2geoxu3\" target=\"_blank\">https://wandb.ai/oliverweissl/NeuralStyleSearch/runs/i2geoxu3</a><br/>Synced 6 W&B file(s), 3 media file(s), 1 artifact file(s) and 0 other file(s)"
      ]
     },
     "metadata": {},
     "output_type": "display_data"
    },
    {
     "data": {
      "text/plain": [
       "<IPython.core.display.HTML object>"
      ],
      "text/html": [
       "Find logs at: <code>./wandb/run-20241107_150019-i2geoxu3/logs</code>"
      ]
     },
     "metadata": {},
     "output_type": "display_data"
    },
    {
     "data": {
      "text/plain": [
       "<IPython.core.display.HTML object>"
      ],
      "text/html": [
       "Successfully finished last run (ID:i2geoxu3). Initializing new run:<br/>"
      ]
     },
     "metadata": {},
     "output_type": "display_data"
    },
    {
     "data": {
      "text/plain": [
       "<IPython.core.display.HTML object>"
      ],
      "text/html": [
       "wandb version 0.18.6 is available!  To upgrade, please run:\n",
       " $ pip install wandb --upgrade"
      ]
     },
     "metadata": {},
     "output_type": "display_data"
    },
    {
     "data": {
      "text/plain": [
       "<IPython.core.display.HTML object>"
      ],
      "text/html": [
       "Tracking run with wandb version 0.13.5"
      ]
     },
     "metadata": {},
     "output_type": "display_data"
    },
    {
     "data": {
      "text/plain": [
       "<IPython.core.display.HTML object>"
      ],
      "text/html": [
       "Run data is saved locally in <code>/home/oliver/PycharmProjects/NeuralStyle/notebooks/wandb/run-20241107_150046-cguez0tn</code>"
      ]
     },
     "metadata": {},
     "output_type": "display_data"
    },
    {
     "data": {
      "text/plain": [
       "<IPython.core.display.HTML object>"
      ],
      "text/html": [
       "Syncing run <strong><a href=\"https://wandb.ai/oliverweissl/NeuralStyleSearch/runs/cguez0tn\" target=\"_blank\">classic-dust-477</a></strong> to <a href=\"https://wandb.ai/oliverweissl/NeuralStyleSearch\" target=\"_blank\">Weights & Biases</a> (<a href=\"https://wandb.me/run\" target=\"_blank\">docs</a>)<br/>"
      ]
     },
     "metadata": {},
     "output_type": "display_data"
    },
    {
     "name": "stdout",
     "output_type": "stream",
     "text": [
      "[2024-11-07 15:00:55,419 - root - INFO] Generate seed(s) for class: 1.\n",
      "[2024-11-07 15:00:55,427 - root - INFO] \tFound 1 valid seed(s) after: 1 iterations.\n",
      "[2024-11-07 15:00:55,429 - root - INFO] Running Search-Algorithm for 50 generations.\n",
      "[2024-11-07 15:01:14,063 - root - INFO] \tBest candidate has a fitness of: 0.5637849811353022\n",
      "[2024-11-07 15:01:14,244 - root - INFO] \tReset learner!\n"
     ]
    },
    {
     "data": {
      "text/plain": [
       "<IPython.core.display.HTML object>"
      ],
      "text/html": [
       "Finishing last run (ID:cguez0tn) before initializing another..."
      ]
     },
     "metadata": {},
     "output_type": "display_data"
    },
    {
     "data": {
      "text/plain": [
       "<IPython.core.display.HTML object>"
      ],
      "text/html": [
       "Waiting for W&B process to finish... <strong style=\"color:green\">(success).</strong>"
      ]
     },
     "metadata": {},
     "output_type": "display_data"
    },
    {
     "data": {
      "text/plain": [
       "<IPython.core.display.HTML object>"
      ],
      "text/html": [
       "<style>\n",
       "    table.wandb td:nth-child(1) { padding: 0 10px; text-align: left ; width: auto;} td:nth-child(2) {text-align: left ; width: 100%}\n",
       "    .wandb-row { display: flex; flex-direction: row; flex-wrap: wrap; justify-content: flex-start; width: 100% }\n",
       "    .wandb-col { display: flex; flex-direction: column; flex-basis: 100%; flex: 1; padding: 10px; }\n",
       "    </style>\n",
       "<div class=\"wandb-row\"><div class=\"wandb-col\"><h3>Run history:</h3><br/><table class=\"wandb\"><tr><td>max_fitness</td><td>█▂▄▂▃▃▃▂▄▄▄▄▁▄▂▄▁▄▂▁▄▁▁▄▄▁▁▄▄▃▃▄▁▃▄▄▃▁▃▄</td></tr><tr><td>mean_fitness</td><td>█▁▁▁▁▁▁▁▁▁▁▁▁▁▁▁▁▁▁▁▁▁▁▁▁▁▁▁▁▁▁▁▁▁▁▁▁▁▁▁</td></tr><tr><td>min_fitness</td><td>▁██▇▇▇▇▇▇▇▇▇▇▇▇▇▇▇█▇█▇▇▇▇▇▇▇▇▇▇▇▇██▇█▇▇▇</td></tr><tr><td>std_fitness</td><td>█▁▂▁▂▂▂▁▂▂▂▂▁▂▁▂▁▂▁▁▂▁▁▂▂▁▁▂▂▂▂▂▁▂▂▂▂▁▂▂</td></tr></table><br/></div><div class=\"wandb-col\"><h3>Run summary:</h3><br/><table class=\"wandb\"><tr><td>best_fitness</td><td>0.56378</td></tr><tr><td>boundary_to</td><td>7</td></tr><tr><td>max_fitness</td><td>0.77007</td></tr><tr><td>mean_fitness</td><td>0.62366</td></tr><tr><td>min_fitness</td><td>0.61074</td></tr><tr><td>std_fitness</td><td>0.01641</td></tr><tr><td>w0_trials</td><td>1</td></tr></table><br/></div></div>"
      ]
     },
     "metadata": {},
     "output_type": "display_data"
    },
    {
     "data": {
      "text/plain": [
       "<IPython.core.display.HTML object>"
      ],
      "text/html": [
       "Synced <strong style=\"color:#cdcd00\">classic-dust-477</strong>: <a href=\"https://wandb.ai/oliverweissl/NeuralStyleSearch/runs/cguez0tn\" target=\"_blank\">https://wandb.ai/oliverweissl/NeuralStyleSearch/runs/cguez0tn</a><br/>Synced 6 W&B file(s), 3 media file(s), 1 artifact file(s) and 0 other file(s)"
      ]
     },
     "metadata": {},
     "output_type": "display_data"
    },
    {
     "data": {
      "text/plain": [
       "<IPython.core.display.HTML object>"
      ],
      "text/html": [
       "Find logs at: <code>./wandb/run-20241107_150046-cguez0tn/logs</code>"
      ]
     },
     "metadata": {},
     "output_type": "display_data"
    },
    {
     "data": {
      "text/plain": [
       "<IPython.core.display.HTML object>"
      ],
      "text/html": [
       "Successfully finished last run (ID:cguez0tn). Initializing new run:<br/>"
      ]
     },
     "metadata": {},
     "output_type": "display_data"
    },
    {
     "data": {
      "text/plain": [
       "<IPython.core.display.HTML object>"
      ],
      "text/html": [
       "wandb version 0.18.6 is available!  To upgrade, please run:\n",
       " $ pip install wandb --upgrade"
      ]
     },
     "metadata": {},
     "output_type": "display_data"
    },
    {
     "data": {
      "text/plain": [
       "<IPython.core.display.HTML object>"
      ],
      "text/html": [
       "Tracking run with wandb version 0.13.5"
      ]
     },
     "metadata": {},
     "output_type": "display_data"
    },
    {
     "data": {
      "text/plain": [
       "<IPython.core.display.HTML object>"
      ],
      "text/html": [
       "Run data is saved locally in <code>/home/oliver/PycharmProjects/NeuralStyle/notebooks/wandb/run-20241107_150114-xqovwwd1</code>"
      ]
     },
     "metadata": {},
     "output_type": "display_data"
    },
    {
     "data": {
      "text/plain": [
       "<IPython.core.display.HTML object>"
      ],
      "text/html": [
       "Syncing run <strong><a href=\"https://wandb.ai/oliverweissl/NeuralStyleSearch/runs/xqovwwd1\" target=\"_blank\">quiet-salad-478</a></strong> to <a href=\"https://wandb.ai/oliverweissl/NeuralStyleSearch\" target=\"_blank\">Weights & Biases</a> (<a href=\"https://wandb.me/run\" target=\"_blank\">docs</a>)<br/>"
      ]
     },
     "metadata": {},
     "output_type": "display_data"
    },
    {
     "name": "stdout",
     "output_type": "stream",
     "text": [
      "[2024-11-07 15:01:23,045 - root - INFO] Generate seed(s) for class: 1.\n",
      "[2024-11-07 15:01:23,054 - root - INFO] \tFound 1 valid seed(s) after: 1 iterations.\n",
      "[2024-11-07 15:01:23,056 - root - INFO] Running Search-Algorithm for 50 generations.\n",
      "[2024-11-07 15:01:41,867 - root - INFO] \tBest candidate has a fitness of: 0.36040308511632024\n",
      "[2024-11-07 15:01:42,075 - root - INFO] \tReset learner!\n"
     ]
    },
    {
     "data": {
      "text/plain": [
       "<IPython.core.display.HTML object>"
      ],
      "text/html": [
       "Finishing last run (ID:xqovwwd1) before initializing another..."
      ]
     },
     "metadata": {},
     "output_type": "display_data"
    },
    {
     "data": {
      "text/plain": [
       "<IPython.core.display.HTML object>"
      ],
      "text/html": [
       "Waiting for W&B process to finish... <strong style=\"color:green\">(success).</strong>"
      ]
     },
     "metadata": {},
     "output_type": "display_data"
    },
    {
     "data": {
      "text/plain": [
       "<IPython.core.display.HTML object>"
      ],
      "text/html": [
       "<style>\n",
       "    table.wandb td:nth-child(1) { padding: 0 10px; text-align: left ; width: auto;} td:nth-child(2) {text-align: left ; width: 100%}\n",
       "    .wandb-row { display: flex; flex-direction: row; flex-wrap: wrap; justify-content: flex-start; width: 100% }\n",
       "    .wandb-col { display: flex; flex-direction: column; flex-basis: 100%; flex: 1; padding: 10px; }\n",
       "    </style>\n",
       "<div class=\"wandb-row\"><div class=\"wandb-col\"><h3>Run history:</h3><br/><table class=\"wandb\"><tr><td>max_fitness</td><td>█▁▁▁▂▁▁▁▁▁▁▁▁▁▁▂▁▁▁▁▁▁▁▁▁▁▁▁▁▁▁▁▁▂▁▁▁▁▁▁</td></tr><tr><td>mean_fitness</td><td>█▁▁▁▁▁▁▁▁▁▁▁▁▁▁▁▁▁▁▁▁▁▁▁▁▁▁▁▁▁▁▁▁▁▁▁▁▁▁▁</td></tr><tr><td>min_fitness</td><td>█▂▂▂▁▁▁▁▁▂▁▂▁▂▂▁▁▂▁▂▁▁▂▁▁▂▁▁▂▁▁▁▁▂▁▁▁▁▂▁</td></tr><tr><td>std_fitness</td><td>█▂▁▂▁▁▁▂▂▁▂▂▁▁▁▂▂▂▁▁▁▁▁▁▁▁▁▁▁▁▁▂▂▂▁▂▂▂▁▂</td></tr></table><br/></div><div class=\"wandb-col\"><h3>Run summary:</h3><br/><table class=\"wandb\"><tr><td>best_fitness</td><td>0.3604</td></tr><tr><td>boundary_to</td><td>8</td></tr><tr><td>max_fitness</td><td>0.48486</td></tr><tr><td>mean_fitness</td><td>0.39366</td></tr><tr><td>min_fitness</td><td>0.36119</td></tr><tr><td>std_fitness</td><td>0.02809</td></tr><tr><td>w0_trials</td><td>1</td></tr></table><br/></div></div>"
      ]
     },
     "metadata": {},
     "output_type": "display_data"
    },
    {
     "data": {
      "text/plain": [
       "<IPython.core.display.HTML object>"
      ],
      "text/html": [
       "Synced <strong style=\"color:#cdcd00\">quiet-salad-478</strong>: <a href=\"https://wandb.ai/oliverweissl/NeuralStyleSearch/runs/xqovwwd1\" target=\"_blank\">https://wandb.ai/oliverweissl/NeuralStyleSearch/runs/xqovwwd1</a><br/>Synced 6 W&B file(s), 3 media file(s), 1 artifact file(s) and 0 other file(s)"
      ]
     },
     "metadata": {},
     "output_type": "display_data"
    },
    {
     "data": {
      "text/plain": [
       "<IPython.core.display.HTML object>"
      ],
      "text/html": [
       "Find logs at: <code>./wandb/run-20241107_150114-xqovwwd1/logs</code>"
      ]
     },
     "metadata": {},
     "output_type": "display_data"
    },
    {
     "data": {
      "text/plain": [
       "<IPython.core.display.HTML object>"
      ],
      "text/html": [
       "Successfully finished last run (ID:xqovwwd1). Initializing new run:<br/>"
      ]
     },
     "metadata": {},
     "output_type": "display_data"
    },
    {
     "data": {
      "text/plain": [
       "<IPython.core.display.HTML object>"
      ],
      "text/html": [
       "wandb version 0.18.6 is available!  To upgrade, please run:\n",
       " $ pip install wandb --upgrade"
      ]
     },
     "metadata": {},
     "output_type": "display_data"
    },
    {
     "data": {
      "text/plain": [
       "<IPython.core.display.HTML object>"
      ],
      "text/html": [
       "Tracking run with wandb version 0.13.5"
      ]
     },
     "metadata": {},
     "output_type": "display_data"
    },
    {
     "data": {
      "text/plain": [
       "<IPython.core.display.HTML object>"
      ],
      "text/html": [
       "Run data is saved locally in <code>/home/oliver/PycharmProjects/NeuralStyle/notebooks/wandb/run-20241107_150142-006cn3oy</code>"
      ]
     },
     "metadata": {},
     "output_type": "display_data"
    },
    {
     "data": {
      "text/plain": [
       "<IPython.core.display.HTML object>"
      ],
      "text/html": [
       "Syncing run <strong><a href=\"https://wandb.ai/oliverweissl/NeuralStyleSearch/runs/006cn3oy\" target=\"_blank\">azure-fire-479</a></strong> to <a href=\"https://wandb.ai/oliverweissl/NeuralStyleSearch\" target=\"_blank\">Weights & Biases</a> (<a href=\"https://wandb.me/run\" target=\"_blank\">docs</a>)<br/>"
      ]
     },
     "metadata": {},
     "output_type": "display_data"
    },
    {
     "name": "stdout",
     "output_type": "stream",
     "text": [
      "[2024-11-07 15:01:50,572 - root - INFO] Generate seed(s) for class: 1.\n",
      "[2024-11-07 15:01:50,580 - root - INFO] \tFound 1 valid seed(s) after: 1 iterations.\n",
      "[2024-11-07 15:01:50,582 - root - INFO] Running Search-Algorithm for 50 generations.\n",
      "[2024-11-07 15:02:09,456 - root - INFO] \tBest candidate has a fitness of: 0.32087721860783636\n",
      "[2024-11-07 15:02:09,658 - root - INFO] \tReset learner!\n"
     ]
    },
    {
     "data": {
      "text/plain": [
       "<IPython.core.display.HTML object>"
      ],
      "text/html": [
       "Finishing last run (ID:006cn3oy) before initializing another..."
      ]
     },
     "metadata": {},
     "output_type": "display_data"
    },
    {
     "data": {
      "text/plain": [
       "<IPython.core.display.HTML object>"
      ],
      "text/html": [
       "Waiting for W&B process to finish... <strong style=\"color:green\">(success).</strong>"
      ]
     },
     "metadata": {},
     "output_type": "display_data"
    },
    {
     "data": {
      "text/plain": [
       "<IPython.core.display.HTML object>"
      ],
      "text/html": [
       "<style>\n",
       "    table.wandb td:nth-child(1) { padding: 0 10px; text-align: left ; width: auto;} td:nth-child(2) {text-align: left ; width: 100%}\n",
       "    .wandb-row { display: flex; flex-direction: row; flex-wrap: wrap; justify-content: flex-start; width: 100% }\n",
       "    .wandb-col { display: flex; flex-direction: column; flex-basis: 100%; flex: 1; padding: 10px; }\n",
       "    </style>\n",
       "<div class=\"wandb-row\"><div class=\"wandb-col\"><h3>Run history:</h3><br/><table class=\"wandb\"><tr><td>max_fitness</td><td>█▂▂▂▁▁▂▂▂▂▂▂▂▂▂▁▂▂▂▂▂▂▂▁▂▂▂▂▂▂▁▁▂▂▂▂▂▂▂▂</td></tr><tr><td>mean_fitness</td><td>█▁▂▁▂▁▂▁▁▁▁▂▁▂▁▁▁▁▂▁▁▁▂▂▁▂▂▂▁▂▂▁▁▁▁▁▁▁▁▁</td></tr><tr><td>min_fitness</td><td>▁▇▇▇▇▇█▇▇▇▇▇▇▇▇▇▇▇▇▇▇▇▇█▇█▇▇▇▇██▇█▇▇▇█▇▇</td></tr><tr><td>std_fitness</td><td>█▁▁▁▁▁▁▁▁▁▁▁▁▂▁▁▁▁▂▂▁▁▂▁▁▁▂▁▁▁▁▁▁▁▁▂▂▁▂▁</td></tr></table><br/></div><div class=\"wandb-col\"><h3>Run summary:</h3><br/><table class=\"wandb\"><tr><td>best_fitness</td><td>0.32088</td></tr><tr><td>boundary_to</td><td>2</td></tr><tr><td>max_fitness</td><td>0.5991</td></tr><tr><td>mean_fitness</td><td>0.50704</td></tr><tr><td>min_fitness</td><td>0.44991</td></tr><tr><td>std_fitness</td><td>0.02633</td></tr><tr><td>w0_trials</td><td>1</td></tr></table><br/></div></div>"
      ]
     },
     "metadata": {},
     "output_type": "display_data"
    },
    {
     "data": {
      "text/plain": [
       "<IPython.core.display.HTML object>"
      ],
      "text/html": [
       "Synced <strong style=\"color:#cdcd00\">azure-fire-479</strong>: <a href=\"https://wandb.ai/oliverweissl/NeuralStyleSearch/runs/006cn3oy\" target=\"_blank\">https://wandb.ai/oliverweissl/NeuralStyleSearch/runs/006cn3oy</a><br/>Synced 6 W&B file(s), 3 media file(s), 1 artifact file(s) and 0 other file(s)"
      ]
     },
     "metadata": {},
     "output_type": "display_data"
    },
    {
     "data": {
      "text/plain": [
       "<IPython.core.display.HTML object>"
      ],
      "text/html": [
       "Find logs at: <code>./wandb/run-20241107_150142-006cn3oy/logs</code>"
      ]
     },
     "metadata": {},
     "output_type": "display_data"
    },
    {
     "data": {
      "text/plain": [
       "<IPython.core.display.HTML object>"
      ],
      "text/html": [
       "Successfully finished last run (ID:006cn3oy). Initializing new run:<br/>"
      ]
     },
     "metadata": {},
     "output_type": "display_data"
    },
    {
     "data": {
      "text/plain": [
       "<IPython.core.display.HTML object>"
      ],
      "text/html": [
       "wandb version 0.18.6 is available!  To upgrade, please run:\n",
       " $ pip install wandb --upgrade"
      ]
     },
     "metadata": {},
     "output_type": "display_data"
    },
    {
     "data": {
      "text/plain": [
       "<IPython.core.display.HTML object>"
      ],
      "text/html": [
       "Tracking run with wandb version 0.13.5"
      ]
     },
     "metadata": {},
     "output_type": "display_data"
    },
    {
     "data": {
      "text/plain": [
       "<IPython.core.display.HTML object>"
      ],
      "text/html": [
       "Run data is saved locally in <code>/home/oliver/PycharmProjects/NeuralStyle/notebooks/wandb/run-20241107_150209-7zlm91cs</code>"
      ]
     },
     "metadata": {},
     "output_type": "display_data"
    },
    {
     "data": {
      "text/plain": [
       "<IPython.core.display.HTML object>"
      ],
      "text/html": [
       "Syncing run <strong><a href=\"https://wandb.ai/oliverweissl/NeuralStyleSearch/runs/7zlm91cs\" target=\"_blank\">polar-darkness-480</a></strong> to <a href=\"https://wandb.ai/oliverweissl/NeuralStyleSearch\" target=\"_blank\">Weights & Biases</a> (<a href=\"https://wandb.me/run\" target=\"_blank\">docs</a>)<br/>"
      ]
     },
     "metadata": {},
     "output_type": "display_data"
    },
    {
     "name": "stdout",
     "output_type": "stream",
     "text": [
      "[2024-11-07 15:02:19,604 - root - INFO] Generate seed(s) for class: 1.\n",
      "[2024-11-07 15:02:19,612 - root - INFO] \tFound 1 valid seed(s) after: 1 iterations.\n",
      "[2024-11-07 15:02:19,614 - root - INFO] Running Search-Algorithm for 50 generations.\n",
      "[2024-11-07 15:02:38,422 - root - INFO] \tBest candidate has a fitness of: 0.5354584697522455\n",
      "[2024-11-07 15:02:38,611 - root - INFO] \tReset learner!\n"
     ]
    },
    {
     "data": {
      "text/plain": [
       "<IPython.core.display.HTML object>"
      ],
      "text/html": [
       "Finishing last run (ID:7zlm91cs) before initializing another..."
      ]
     },
     "metadata": {},
     "output_type": "display_data"
    },
    {
     "data": {
      "text/plain": [
       "<IPython.core.display.HTML object>"
      ],
      "text/html": [
       "Waiting for W&B process to finish... <strong style=\"color:green\">(success).</strong>"
      ]
     },
     "metadata": {},
     "output_type": "display_data"
    },
    {
     "data": {
      "text/plain": [
       "<IPython.core.display.HTML object>"
      ],
      "text/html": [
       "<style>\n",
       "    table.wandb td:nth-child(1) { padding: 0 10px; text-align: left ; width: auto;} td:nth-child(2) {text-align: left ; width: 100%}\n",
       "    .wandb-row { display: flex; flex-direction: row; flex-wrap: wrap; justify-content: flex-start; width: 100% }\n",
       "    .wandb-col { display: flex; flex-direction: column; flex-basis: 100%; flex: 1; padding: 10px; }\n",
       "    </style>\n",
       "<div class=\"wandb-row\"><div class=\"wandb-col\"><h3>Run history:</h3><br/><table class=\"wandb\"><tr><td>max_fitness</td><td>█▁▁▁▁▁▁▁▁▁▁▁▁▁▁▁▁▁▁▁▁▁▁▁▁▁▁▁▁▁▁▁▁▁▁▁▁▁▁▁</td></tr><tr><td>mean_fitness</td><td>█▁▁▁▁▁▁▁▁▁▁▁▁▁▁▁▁▁▁▁▁▁▁▁▁▁▁▁▁▁▁▁▁▁▁▁▁▁▁▁</td></tr><tr><td>min_fitness</td><td>█▂▃▄▃▃▃▂▂▃▃▂▂▂▂▁▁▂▁▂▂▂▁▁▁▂▂▂▃▂▂▂▁▁▂▂▃▃▂▂</td></tr><tr><td>std_fitness</td><td>█▁▁▁▁▁▁▁▁▁▁▁▁▁▁▁▁▁▁▁▁▁▁▁▁▁▁▁▁▁▁▁▁▁▁▁▁▁▁▁</td></tr></table><br/></div><div class=\"wandb-col\"><h3>Run summary:</h3><br/><table class=\"wandb\"><tr><td>best_fitness</td><td>0.53546</td></tr><tr><td>boundary_to</td><td>7</td></tr><tr><td>max_fitness</td><td>0.55409</td></tr><tr><td>mean_fitness</td><td>0.54128</td></tr><tr><td>min_fitness</td><td>0.53598</td></tr><tr><td>std_fitness</td><td>0.00417</td></tr><tr><td>w0_trials</td><td>1</td></tr></table><br/></div></div>"
      ]
     },
     "metadata": {},
     "output_type": "display_data"
    },
    {
     "data": {
      "text/plain": [
       "<IPython.core.display.HTML object>"
      ],
      "text/html": [
       "Synced <strong style=\"color:#cdcd00\">polar-darkness-480</strong>: <a href=\"https://wandb.ai/oliverweissl/NeuralStyleSearch/runs/7zlm91cs\" target=\"_blank\">https://wandb.ai/oliverweissl/NeuralStyleSearch/runs/7zlm91cs</a><br/>Synced 6 W&B file(s), 3 media file(s), 1 artifact file(s) and 0 other file(s)"
      ]
     },
     "metadata": {},
     "output_type": "display_data"
    },
    {
     "data": {
      "text/plain": [
       "<IPython.core.display.HTML object>"
      ],
      "text/html": [
       "Find logs at: <code>./wandb/run-20241107_150209-7zlm91cs/logs</code>"
      ]
     },
     "metadata": {},
     "output_type": "display_data"
    },
    {
     "data": {
      "text/plain": [
       "<IPython.core.display.HTML object>"
      ],
      "text/html": [
       "Successfully finished last run (ID:7zlm91cs). Initializing new run:<br/>"
      ]
     },
     "metadata": {},
     "output_type": "display_data"
    },
    {
     "data": {
      "text/plain": [
       "<IPython.core.display.HTML object>"
      ],
      "text/html": [
       "wandb version 0.18.6 is available!  To upgrade, please run:\n",
       " $ pip install wandb --upgrade"
      ]
     },
     "metadata": {},
     "output_type": "display_data"
    },
    {
     "data": {
      "text/plain": [
       "<IPython.core.display.HTML object>"
      ],
      "text/html": [
       "Tracking run with wandb version 0.13.5"
      ]
     },
     "metadata": {},
     "output_type": "display_data"
    },
    {
     "data": {
      "text/plain": [
       "<IPython.core.display.HTML object>"
      ],
      "text/html": [
       "Run data is saved locally in <code>/home/oliver/PycharmProjects/NeuralStyle/notebooks/wandb/run-20241107_150238-2n7hb284</code>"
      ]
     },
     "metadata": {},
     "output_type": "display_data"
    },
    {
     "data": {
      "text/plain": [
       "<IPython.core.display.HTML object>"
      ],
      "text/html": [
       "Syncing run <strong><a href=\"https://wandb.ai/oliverweissl/NeuralStyleSearch/runs/2n7hb284\" target=\"_blank\">serene-snowflake-481</a></strong> to <a href=\"https://wandb.ai/oliverweissl/NeuralStyleSearch\" target=\"_blank\">Weights & Biases</a> (<a href=\"https://wandb.me/run\" target=\"_blank\">docs</a>)<br/>"
      ]
     },
     "metadata": {},
     "output_type": "display_data"
    },
    {
     "name": "stdout",
     "output_type": "stream",
     "text": [
      "[2024-11-07 15:02:47,155 - root - INFO] Generate seed(s) for class: 1.\n",
      "[2024-11-07 15:02:47,163 - root - INFO] \tFound 1 valid seed(s) after: 1 iterations.\n",
      "[2024-11-07 15:02:47,166 - root - INFO] Running Search-Algorithm for 50 generations.\n",
      "[2024-11-07 15:03:09,069 - root - INFO] \tBest candidate has a fitness of: 0.4580853823460871\n",
      "[2024-11-07 15:03:09,349 - root - INFO] \tReset learner!\n"
     ]
    },
    {
     "data": {
      "text/plain": [
       "<IPython.core.display.HTML object>"
      ],
      "text/html": [
       "Finishing last run (ID:2n7hb284) before initializing another..."
      ]
     },
     "metadata": {},
     "output_type": "display_data"
    },
    {
     "data": {
      "text/plain": [
       "<IPython.core.display.HTML object>"
      ],
      "text/html": [
       "Waiting for W&B process to finish... <strong style=\"color:green\">(success).</strong>"
      ]
     },
     "metadata": {},
     "output_type": "display_data"
    },
    {
     "data": {
      "text/plain": [
       "<IPython.core.display.HTML object>"
      ],
      "text/html": [
       "<style>\n",
       "    table.wandb td:nth-child(1) { padding: 0 10px; text-align: left ; width: auto;} td:nth-child(2) {text-align: left ; width: 100%}\n",
       "    .wandb-row { display: flex; flex-direction: row; flex-wrap: wrap; justify-content: flex-start; width: 100% }\n",
       "    .wandb-col { display: flex; flex-direction: column; flex-basis: 100%; flex: 1; padding: 10px; }\n",
       "    </style>\n",
       "<div class=\"wandb-row\"><div class=\"wandb-col\"><h3>Run history:</h3><br/><table class=\"wandb\"><tr><td>max_fitness</td><td>█▂▁▁▁▁▁▁▁▁▁▁▂▁▁▁▁▁▁▁▁▁▁▁▁▁▁▁▁▁▁▁▁▁▁▁▁▁▁▁</td></tr><tr><td>mean_fitness</td><td>█▁▁▁▁▁▁▁▁▁▁▁▁▁▁▁▁▁▁▁▁▁▁▁▁▁▁▁▁▁▁▁▁▁▁▁▁▁▁▁</td></tr><tr><td>min_fitness</td><td>▁▅▅▅▆█▆█▆▆▅▆▆▆▅▆█▇▇▆▆▆▅▆█▅▆▆█▆▆█▆█▇▆▆██▆</td></tr><tr><td>std_fitness</td><td>█▁▁▁▁▁▁▁▁▁▁▁▁▁▁▁▁▁▁▁▁▁▁▁▁▁▁▁▁▁▁▁▁▁▁▁▁▁▁▁</td></tr></table><br/></div><div class=\"wandb-col\"><h3>Run summary:</h3><br/><table class=\"wandb\"><tr><td>best_fitness</td><td>0.45809</td></tr><tr><td>boundary_to</td><td>9</td></tr><tr><td>max_fitness</td><td>0.5682</td></tr><tr><td>mean_fitness</td><td>0.51949</td></tr><tr><td>min_fitness</td><td>0.48841</td></tr><tr><td>std_fitness</td><td>0.01505</td></tr><tr><td>w0_trials</td><td>1</td></tr></table><br/></div></div>"
      ]
     },
     "metadata": {},
     "output_type": "display_data"
    },
    {
     "data": {
      "text/plain": [
       "<IPython.core.display.HTML object>"
      ],
      "text/html": [
       "Synced <strong style=\"color:#cdcd00\">serene-snowflake-481</strong>: <a href=\"https://wandb.ai/oliverweissl/NeuralStyleSearch/runs/2n7hb284\" target=\"_blank\">https://wandb.ai/oliverweissl/NeuralStyleSearch/runs/2n7hb284</a><br/>Synced 6 W&B file(s), 3 media file(s), 1 artifact file(s) and 0 other file(s)"
      ]
     },
     "metadata": {},
     "output_type": "display_data"
    },
    {
     "data": {
      "text/plain": [
       "<IPython.core.display.HTML object>"
      ],
      "text/html": [
       "Find logs at: <code>./wandb/run-20241107_150238-2n7hb284/logs</code>"
      ]
     },
     "metadata": {},
     "output_type": "display_data"
    },
    {
     "data": {
      "text/plain": [
       "<IPython.core.display.HTML object>"
      ],
      "text/html": [
       "Successfully finished last run (ID:2n7hb284). Initializing new run:<br/>"
      ]
     },
     "metadata": {},
     "output_type": "display_data"
    },
    {
     "data": {
      "text/plain": [
       "<IPython.core.display.HTML object>"
      ],
      "text/html": [
       "wandb version 0.18.6 is available!  To upgrade, please run:\n",
       " $ pip install wandb --upgrade"
      ]
     },
     "metadata": {},
     "output_type": "display_data"
    },
    {
     "data": {
      "text/plain": [
       "<IPython.core.display.HTML object>"
      ],
      "text/html": [
       "Tracking run with wandb version 0.13.5"
      ]
     },
     "metadata": {},
     "output_type": "display_data"
    },
    {
     "data": {
      "text/plain": [
       "<IPython.core.display.HTML object>"
      ],
      "text/html": [
       "Run data is saved locally in <code>/home/oliver/PycharmProjects/NeuralStyle/notebooks/wandb/run-20241107_150309-dt9r12rq</code>"
      ]
     },
     "metadata": {},
     "output_type": "display_data"
    },
    {
     "data": {
      "text/plain": [
       "<IPython.core.display.HTML object>"
      ],
      "text/html": [
       "Syncing run <strong><a href=\"https://wandb.ai/oliverweissl/NeuralStyleSearch/runs/dt9r12rq\" target=\"_blank\">hopeful-dawn-482</a></strong> to <a href=\"https://wandb.ai/oliverweissl/NeuralStyleSearch\" target=\"_blank\">Weights & Biases</a> (<a href=\"https://wandb.me/run\" target=\"_blank\">docs</a>)<br/>"
      ]
     },
     "metadata": {},
     "output_type": "display_data"
    },
    {
     "name": "stdout",
     "output_type": "stream",
     "text": [
      "[2024-11-07 15:03:19,401 - root - INFO] Generate seed(s) for class: 1.\n",
      "[2024-11-07 15:03:19,411 - root - INFO] \tFound 1 valid seed(s) after: 1 iterations.\n",
      "[2024-11-07 15:03:19,415 - root - INFO] Running Search-Algorithm for 50 generations.\n",
      "[2024-11-07 15:03:38,432 - root - INFO] \tBest candidate has a fitness of: 0.515421295527392\n",
      "[2024-11-07 15:03:38,881 - root - INFO] \tReset learner!\n"
     ]
    },
    {
     "data": {
      "text/plain": [
       "<IPython.core.display.HTML object>"
      ],
      "text/html": [
       "Finishing last run (ID:dt9r12rq) before initializing another..."
      ]
     },
     "metadata": {},
     "output_type": "display_data"
    },
    {
     "data": {
      "text/plain": [
       "<IPython.core.display.HTML object>"
      ],
      "text/html": [
       "Waiting for W&B process to finish... <strong style=\"color:green\">(success).</strong>"
      ]
     },
     "metadata": {},
     "output_type": "display_data"
    },
    {
     "data": {
      "text/plain": [
       "<IPython.core.display.HTML object>"
      ],
      "text/html": [
       "<style>\n",
       "    table.wandb td:nth-child(1) { padding: 0 10px; text-align: left ; width: auto;} td:nth-child(2) {text-align: left ; width: 100%}\n",
       "    .wandb-row { display: flex; flex-direction: row; flex-wrap: wrap; justify-content: flex-start; width: 100% }\n",
       "    .wandb-col { display: flex; flex-direction: column; flex-basis: 100%; flex: 1; padding: 10px; }\n",
       "    </style>\n",
       "<div class=\"wandb-row\"><div class=\"wandb-col\"><h3>Run history:</h3><br/><table class=\"wandb\"><tr><td>max_fitness</td><td>█▁▁▁▁▁▁▁▁▁▁▁▁▁▁▁▁▁▁▁▁▁▁▁▁▁▁▁▁▁▁▁▁▁▁▁▁▁▁▁</td></tr><tr><td>mean_fitness</td><td>█▁▁▁▁▁▁▁▂▂▂▂▁▁▁▁▁▁▁▁▁▁▁▁▁▁▁▁▁▁▁▁▁▂▁▁▁▁▁▂</td></tr><tr><td>min_fitness</td><td>▁█▇▇██▇████▇▇███▇▇██▇▇▇▇▇██▇▇▇▇▇▇█▇▇█▇█▇</td></tr><tr><td>std_fitness</td><td>█▁▁▁▁▁▁▁▁▁▁▁▁▁▁▁▁▁▁▁▁▁▁▁▁▁▁▁▁▁▁▁▁▁▁▁▁▁▁▁</td></tr></table><br/></div><div class=\"wandb-col\"><h3>Run summary:</h3><br/><table class=\"wandb\"><tr><td>best_fitness</td><td>0.51542</td></tr><tr><td>boundary_to</td><td>7</td></tr><tr><td>max_fitness</td><td>0.59407</td></tr><tr><td>mean_fitness</td><td>0.57672</td></tr><tr><td>min_fitness</td><td>0.56525</td></tr><tr><td>std_fitness</td><td>0.00525</td></tr><tr><td>w0_trials</td><td>1</td></tr></table><br/></div></div>"
      ]
     },
     "metadata": {},
     "output_type": "display_data"
    },
    {
     "data": {
      "text/plain": [
       "<IPython.core.display.HTML object>"
      ],
      "text/html": [
       "Synced <strong style=\"color:#cdcd00\">hopeful-dawn-482</strong>: <a href=\"https://wandb.ai/oliverweissl/NeuralStyleSearch/runs/dt9r12rq\" target=\"_blank\">https://wandb.ai/oliverweissl/NeuralStyleSearch/runs/dt9r12rq</a><br/>Synced 6 W&B file(s), 3 media file(s), 1 artifact file(s) and 0 other file(s)"
      ]
     },
     "metadata": {},
     "output_type": "display_data"
    },
    {
     "data": {
      "text/plain": [
       "<IPython.core.display.HTML object>"
      ],
      "text/html": [
       "Find logs at: <code>./wandb/run-20241107_150309-dt9r12rq/logs</code>"
      ]
     },
     "metadata": {},
     "output_type": "display_data"
    },
    {
     "data": {
      "text/plain": [
       "<IPython.core.display.HTML object>"
      ],
      "text/html": [
       "Successfully finished last run (ID:dt9r12rq). Initializing new run:<br/>"
      ]
     },
     "metadata": {},
     "output_type": "display_data"
    },
    {
     "data": {
      "text/plain": [
       "<IPython.core.display.HTML object>"
      ],
      "text/html": [
       "wandb version 0.18.6 is available!  To upgrade, please run:\n",
       " $ pip install wandb --upgrade"
      ]
     },
     "metadata": {},
     "output_type": "display_data"
    },
    {
     "data": {
      "text/plain": [
       "<IPython.core.display.HTML object>"
      ],
      "text/html": [
       "Tracking run with wandb version 0.13.5"
      ]
     },
     "metadata": {},
     "output_type": "display_data"
    },
    {
     "data": {
      "text/plain": [
       "<IPython.core.display.HTML object>"
      ],
      "text/html": [
       "Run data is saved locally in <code>/home/oliver/PycharmProjects/NeuralStyle/notebooks/wandb/run-20241107_150338-hk13a97f</code>"
      ]
     },
     "metadata": {},
     "output_type": "display_data"
    },
    {
     "data": {
      "text/plain": [
       "<IPython.core.display.HTML object>"
      ],
      "text/html": [
       "Syncing run <strong><a href=\"https://wandb.ai/oliverweissl/NeuralStyleSearch/runs/hk13a97f\" target=\"_blank\">splendid-sound-483</a></strong> to <a href=\"https://wandb.ai/oliverweissl/NeuralStyleSearch\" target=\"_blank\">Weights & Biases</a> (<a href=\"https://wandb.me/run\" target=\"_blank\">docs</a>)<br/>"
      ]
     },
     "metadata": {},
     "output_type": "display_data"
    },
    {
     "name": "stdout",
     "output_type": "stream",
     "text": [
      "[2024-11-07 15:03:49,237 - root - INFO] Generate seed(s) for class: 2.\n",
      "[2024-11-07 15:03:49,506 - root - INFO] \tFound 1 valid seed(s) after: 46 iterations.\n",
      "[2024-11-07 15:03:49,509 - root - INFO] Running Search-Algorithm for 50 generations.\n",
      "[2024-11-07 15:04:08,289 - root - INFO] \tBest candidate has a fitness of: 0.33076181447880804\n",
      "[2024-11-07 15:04:08,473 - root - INFO] \tReset learner!\n"
     ]
    },
    {
     "data": {
      "text/plain": [
       "<IPython.core.display.HTML object>"
      ],
      "text/html": [
       "Finishing last run (ID:hk13a97f) before initializing another..."
      ]
     },
     "metadata": {},
     "output_type": "display_data"
    },
    {
     "data": {
      "text/plain": [
       "<IPython.core.display.HTML object>"
      ],
      "text/html": [
       "Waiting for W&B process to finish... <strong style=\"color:green\">(success).</strong>"
      ]
     },
     "metadata": {},
     "output_type": "display_data"
    },
    {
     "data": {
      "text/plain": [
       "<IPython.core.display.HTML object>"
      ],
      "text/html": [
       "<style>\n",
       "    table.wandb td:nth-child(1) { padding: 0 10px; text-align: left ; width: auto;} td:nth-child(2) {text-align: left ; width: 100%}\n",
       "    .wandb-row { display: flex; flex-direction: row; flex-wrap: wrap; justify-content: flex-start; width: 100% }\n",
       "    .wandb-col { display: flex; flex-direction: column; flex-basis: 100%; flex: 1; padding: 10px; }\n",
       "    </style>\n",
       "<div class=\"wandb-row\"><div class=\"wandb-col\"><h3>Run history:</h3><br/><table class=\"wandb\"><tr><td>max_fitness</td><td>█▁▁▁▁▁▁▁▁▁▁▁▁▁▁▁▁▁▁▁▁▁▁▁▁▁▁▁▁▁▁▁▁▁▁▁▁▁▁▁</td></tr><tr><td>mean_fitness</td><td>█▁▁▁▁▁▁▁▁▁▁▁▁▁▁▁▁▁▁▁▁▁▁▁▁▁▁▁▁▁▁▁▁▁▁▁▁▁▁▁</td></tr><tr><td>min_fitness</td><td>▁████████▇██████████████████████████████</td></tr><tr><td>std_fitness</td><td>█▁▁▁▁▁▁▁▁▁▁▁▁▁▁▁▁▁▁▁▁▁▁▁▁▁▁▁▁▁▁▁▁▁▁▁▁▁▁▁</td></tr></table><br/></div><div class=\"wandb-col\"><h3>Run summary:</h3><br/><table class=\"wandb\"><tr><td>best_fitness</td><td>0.33076</td></tr><tr><td>boundary_to</td><td>3</td></tr><tr><td>max_fitness</td><td>0.39648</td></tr><tr><td>mean_fitness</td><td>0.37396</td></tr><tr><td>min_fitness</td><td>0.36441</td></tr><tr><td>std_fitness</td><td>0.00409</td></tr><tr><td>w0_trials</td><td>46</td></tr></table><br/></div></div>"
      ]
     },
     "metadata": {},
     "output_type": "display_data"
    },
    {
     "data": {
      "text/plain": [
       "<IPython.core.display.HTML object>"
      ],
      "text/html": [
       "Synced <strong style=\"color:#cdcd00\">splendid-sound-483</strong>: <a href=\"https://wandb.ai/oliverweissl/NeuralStyleSearch/runs/hk13a97f\" target=\"_blank\">https://wandb.ai/oliverweissl/NeuralStyleSearch/runs/hk13a97f</a><br/>Synced 6 W&B file(s), 3 media file(s), 1 artifact file(s) and 0 other file(s)"
      ]
     },
     "metadata": {},
     "output_type": "display_data"
    },
    {
     "data": {
      "text/plain": [
       "<IPython.core.display.HTML object>"
      ],
      "text/html": [
       "Find logs at: <code>./wandb/run-20241107_150338-hk13a97f/logs</code>"
      ]
     },
     "metadata": {},
     "output_type": "display_data"
    },
    {
     "data": {
      "text/plain": [
       "<IPython.core.display.HTML object>"
      ],
      "text/html": [
       "Successfully finished last run (ID:hk13a97f). Initializing new run:<br/>"
      ]
     },
     "metadata": {},
     "output_type": "display_data"
    },
    {
     "data": {
      "text/plain": [
       "<IPython.core.display.HTML object>"
      ],
      "text/html": [
       "wandb version 0.18.6 is available!  To upgrade, please run:\n",
       " $ pip install wandb --upgrade"
      ]
     },
     "metadata": {},
     "output_type": "display_data"
    },
    {
     "data": {
      "text/plain": [
       "<IPython.core.display.HTML object>"
      ],
      "text/html": [
       "Tracking run with wandb version 0.13.5"
      ]
     },
     "metadata": {},
     "output_type": "display_data"
    },
    {
     "data": {
      "text/plain": [
       "<IPython.core.display.HTML object>"
      ],
      "text/html": [
       "Run data is saved locally in <code>/home/oliver/PycharmProjects/NeuralStyle/notebooks/wandb/run-20241107_150408-xjyopnjs</code>"
      ]
     },
     "metadata": {},
     "output_type": "display_data"
    },
    {
     "data": {
      "text/plain": [
       "<IPython.core.display.HTML object>"
      ],
      "text/html": [
       "Syncing run <strong><a href=\"https://wandb.ai/oliverweissl/NeuralStyleSearch/runs/xjyopnjs\" target=\"_blank\">lilac-wildflower-484</a></strong> to <a href=\"https://wandb.ai/oliverweissl/NeuralStyleSearch\" target=\"_blank\">Weights & Biases</a> (<a href=\"https://wandb.me/run\" target=\"_blank\">docs</a>)<br/>"
      ]
     },
     "metadata": {},
     "output_type": "display_data"
    },
    {
     "name": "stdout",
     "output_type": "stream",
     "text": [
      "[2024-11-07 15:04:17,251 - root - INFO] Generate seed(s) for class: 2.\n",
      "[2024-11-07 15:04:18,509 - root - INFO] \tFound 1 valid seed(s) after: 222 iterations.\n",
      "[2024-11-07 15:04:18,511 - root - INFO] Running Search-Algorithm for 50 generations.\n",
      "[2024-11-07 15:04:41,685 - root - INFO] \tBest candidate has a fitness of: 0.40996363199132024\n",
      "[2024-11-07 15:04:41,875 - root - INFO] \tReset learner!\n"
     ]
    },
    {
     "data": {
      "text/plain": [
       "<IPython.core.display.HTML object>"
      ],
      "text/html": [
       "Finishing last run (ID:xjyopnjs) before initializing another..."
      ]
     },
     "metadata": {},
     "output_type": "display_data"
    },
    {
     "data": {
      "text/plain": [
       "<IPython.core.display.HTML object>"
      ],
      "text/html": [
       "Waiting for W&B process to finish... <strong style=\"color:green\">(success).</strong>"
      ]
     },
     "metadata": {},
     "output_type": "display_data"
    },
    {
     "data": {
      "text/plain": [
       "<IPython.core.display.HTML object>"
      ],
      "text/html": [
       "<style>\n",
       "    table.wandb td:nth-child(1) { padding: 0 10px; text-align: left ; width: auto;} td:nth-child(2) {text-align: left ; width: 100%}\n",
       "    .wandb-row { display: flex; flex-direction: row; flex-wrap: wrap; justify-content: flex-start; width: 100% }\n",
       "    .wandb-col { display: flex; flex-direction: column; flex-basis: 100%; flex: 1; padding: 10px; }\n",
       "    </style>\n",
       "<div class=\"wandb-row\"><div class=\"wandb-col\"><h3>Run history:</h3><br/><table class=\"wandb\"><tr><td>max_fitness</td><td>█▂▂▂▂▁▂▂▂▂▂▁▁▂▁▂▂▂▂▂▂▂▂▁▂▁▁▂▂▂▂▂▂▂▁▂▂▂▂▂</td></tr><tr><td>mean_fitness</td><td>█▁▁▁▁▁▁▁▁▁▁▁▁▁▁▁▁▁▁▁▁▁▁▁▁▁▁▁▁▁▁▁▁▁▁▁▁▁▁▁</td></tr><tr><td>min_fitness</td><td>▁███▇█▇▇▇███▇█▇█▇▇█▇▇██▇▇████▇▇▇▇█▇██▇▇▇</td></tr><tr><td>std_fitness</td><td>█▁▁▁▁▁▁▁▁▁▁▁▁▁▁▁▁▁▁▁▁▁▁▁▁▁▁▁▁▁▁▁▁▁▁▁▁▁▁▁</td></tr></table><br/></div><div class=\"wandb-col\"><h3>Run summary:</h3><br/><table class=\"wandb\"><tr><td>best_fitness</td><td>0.40996</td></tr><tr><td>boundary_to</td><td>3</td></tr><tr><td>max_fitness</td><td>0.54347</td></tr><tr><td>mean_fitness</td><td>0.51604</td></tr><tr><td>min_fitness</td><td>0.49409</td></tr><tr><td>std_fitness</td><td>0.00749</td></tr><tr><td>w0_trials</td><td>222</td></tr></table><br/></div></div>"
      ]
     },
     "metadata": {},
     "output_type": "display_data"
    },
    {
     "data": {
      "text/plain": [
       "<IPython.core.display.HTML object>"
      ],
      "text/html": [
       "Synced <strong style=\"color:#cdcd00\">lilac-wildflower-484</strong>: <a href=\"https://wandb.ai/oliverweissl/NeuralStyleSearch/runs/xjyopnjs\" target=\"_blank\">https://wandb.ai/oliverweissl/NeuralStyleSearch/runs/xjyopnjs</a><br/>Synced 6 W&B file(s), 3 media file(s), 1 artifact file(s) and 0 other file(s)"
      ]
     },
     "metadata": {},
     "output_type": "display_data"
    },
    {
     "data": {
      "text/plain": [
       "<IPython.core.display.HTML object>"
      ],
      "text/html": [
       "Find logs at: <code>./wandb/run-20241107_150408-xjyopnjs/logs</code>"
      ]
     },
     "metadata": {},
     "output_type": "display_data"
    },
    {
     "data": {
      "text/plain": [
       "<IPython.core.display.HTML object>"
      ],
      "text/html": [
       "Successfully finished last run (ID:xjyopnjs). Initializing new run:<br/>"
      ]
     },
     "metadata": {},
     "output_type": "display_data"
    },
    {
     "data": {
      "text/plain": [
       "<IPython.core.display.HTML object>"
      ],
      "text/html": [
       "wandb version 0.18.6 is available!  To upgrade, please run:\n",
       " $ pip install wandb --upgrade"
      ]
     },
     "metadata": {},
     "output_type": "display_data"
    },
    {
     "data": {
      "text/plain": [
       "<IPython.core.display.HTML object>"
      ],
      "text/html": [
       "Tracking run with wandb version 0.13.5"
      ]
     },
     "metadata": {},
     "output_type": "display_data"
    },
    {
     "data": {
      "text/plain": [
       "<IPython.core.display.HTML object>"
      ],
      "text/html": [
       "Run data is saved locally in <code>/home/oliver/PycharmProjects/NeuralStyle/notebooks/wandb/run-20241107_150441-3hae046i</code>"
      ]
     },
     "metadata": {},
     "output_type": "display_data"
    },
    {
     "data": {
      "text/plain": [
       "<IPython.core.display.HTML object>"
      ],
      "text/html": [
       "Syncing run <strong><a href=\"https://wandb.ai/oliverweissl/NeuralStyleSearch/runs/3hae046i\" target=\"_blank\">vague-resonance-485</a></strong> to <a href=\"https://wandb.ai/oliverweissl/NeuralStyleSearch\" target=\"_blank\">Weights & Biases</a> (<a href=\"https://wandb.me/run\" target=\"_blank\">docs</a>)<br/>"
      ]
     },
     "metadata": {},
     "output_type": "display_data"
    },
    {
     "name": "stdout",
     "output_type": "stream",
     "text": [
      "[2024-11-07 15:04:50,843 - root - INFO] Generate seed(s) for class: 2.\n",
      "[2024-11-07 15:04:50,858 - root - INFO] \tFound 1 valid seed(s) after: 1 iterations.\n",
      "[2024-11-07 15:04:50,862 - root - INFO] Running Search-Algorithm for 50 generations.\n",
      "[2024-11-07 15:05:09,610 - root - INFO] \tBest candidate has a fitness of: 0.3172191623486811\n",
      "[2024-11-07 15:05:09,799 - root - INFO] \tReset learner!\n"
     ]
    },
    {
     "data": {
      "text/plain": [
       "<IPython.core.display.HTML object>"
      ],
      "text/html": [
       "Finishing last run (ID:3hae046i) before initializing another..."
      ]
     },
     "metadata": {},
     "output_type": "display_data"
    },
    {
     "data": {
      "text/plain": [
       "<IPython.core.display.HTML object>"
      ],
      "text/html": [
       "Waiting for W&B process to finish... <strong style=\"color:green\">(success).</strong>"
      ]
     },
     "metadata": {},
     "output_type": "display_data"
    },
    {
     "data": {
      "text/plain": [
       "<IPython.core.display.HTML object>"
      ],
      "text/html": [
       "<style>\n",
       "    table.wandb td:nth-child(1) { padding: 0 10px; text-align: left ; width: auto;} td:nth-child(2) {text-align: left ; width: 100%}\n",
       "    .wandb-row { display: flex; flex-direction: row; flex-wrap: wrap; justify-content: flex-start; width: 100% }\n",
       "    .wandb-col { display: flex; flex-direction: column; flex-basis: 100%; flex: 1; padding: 10px; }\n",
       "    </style>\n",
       "<div class=\"wandb-row\"><div class=\"wandb-col\"><h3>Run history:</h3><br/><table class=\"wandb\"><tr><td>max_fitness</td><td>█▁▁▁▁▁▁▁▁▁▁▁▁▁▁▁▁▁▁▁▁▁▁▁▁▁▁▁▁▁▁▁▁▁▁▁▁▁▁▁</td></tr><tr><td>mean_fitness</td><td>█▁▁▁▁▁▁▁▁▁▁▁▁▁▁▁▁▁▁▁▁▁▁▁▁▁▁▁▁▁▁▁▁▁▁▁▁▁▁▁</td></tr><tr><td>min_fitness</td><td>▁███▇███████████████████████████████████</td></tr><tr><td>std_fitness</td><td>█▁▁▁▁▁▁▁▁▁▁▁▁▁▁▁▁▁▁▁▁▁▁▁▁▁▁▁▁▁▁▁▁▁▁▁▁▁▁▁</td></tr></table><br/></div><div class=\"wandb-col\"><h3>Run summary:</h3><br/><table class=\"wandb\"><tr><td>best_fitness</td><td>0.31722</td></tr><tr><td>boundary_to</td><td>3</td></tr><tr><td>max_fitness</td><td>0.41246</td></tr><tr><td>mean_fitness</td><td>0.38705</td></tr><tr><td>min_fitness</td><td>0.38015</td></tr><tr><td>std_fitness</td><td>0.00342</td></tr><tr><td>w0_trials</td><td>1</td></tr></table><br/></div></div>"
      ]
     },
     "metadata": {},
     "output_type": "display_data"
    },
    {
     "data": {
      "text/plain": [
       "<IPython.core.display.HTML object>"
      ],
      "text/html": [
       "Synced <strong style=\"color:#cdcd00\">vague-resonance-485</strong>: <a href=\"https://wandb.ai/oliverweissl/NeuralStyleSearch/runs/3hae046i\" target=\"_blank\">https://wandb.ai/oliverweissl/NeuralStyleSearch/runs/3hae046i</a><br/>Synced 6 W&B file(s), 3 media file(s), 1 artifact file(s) and 0 other file(s)"
      ]
     },
     "metadata": {},
     "output_type": "display_data"
    },
    {
     "data": {
      "text/plain": [
       "<IPython.core.display.HTML object>"
      ],
      "text/html": [
       "Find logs at: <code>./wandb/run-20241107_150441-3hae046i/logs</code>"
      ]
     },
     "metadata": {},
     "output_type": "display_data"
    },
    {
     "data": {
      "text/plain": [
       "<IPython.core.display.HTML object>"
      ],
      "text/html": [
       "Successfully finished last run (ID:3hae046i). Initializing new run:<br/>"
      ]
     },
     "metadata": {},
     "output_type": "display_data"
    },
    {
     "data": {
      "text/plain": [
       "<IPython.core.display.HTML object>"
      ],
      "text/html": [
       "wandb version 0.18.6 is available!  To upgrade, please run:\n",
       " $ pip install wandb --upgrade"
      ]
     },
     "metadata": {},
     "output_type": "display_data"
    },
    {
     "data": {
      "text/plain": [
       "<IPython.core.display.HTML object>"
      ],
      "text/html": [
       "Tracking run with wandb version 0.13.5"
      ]
     },
     "metadata": {},
     "output_type": "display_data"
    },
    {
     "data": {
      "text/plain": [
       "<IPython.core.display.HTML object>"
      ],
      "text/html": [
       "Run data is saved locally in <code>/home/oliver/PycharmProjects/NeuralStyle/notebooks/wandb/run-20241107_150509-1m8dx0q5</code>"
      ]
     },
     "metadata": {},
     "output_type": "display_data"
    },
    {
     "data": {
      "text/plain": [
       "<IPython.core.display.HTML object>"
      ],
      "text/html": [
       "Syncing run <strong><a href=\"https://wandb.ai/oliverweissl/NeuralStyleSearch/runs/1m8dx0q5\" target=\"_blank\">eternal-disco-486</a></strong> to <a href=\"https://wandb.ai/oliverweissl/NeuralStyleSearch\" target=\"_blank\">Weights & Biases</a> (<a href=\"https://wandb.me/run\" target=\"_blank\">docs</a>)<br/>"
      ]
     },
     "metadata": {},
     "output_type": "display_data"
    },
    {
     "name": "stdout",
     "output_type": "stream",
     "text": [
      "[2024-11-07 15:05:19,496 - root - INFO] Generate seed(s) for class: 2.\n",
      "[2024-11-07 15:05:19,510 - root - INFO] \tFound 1 valid seed(s) after: 2 iterations.\n",
      "[2024-11-07 15:05:19,513 - root - INFO] Running Search-Algorithm for 50 generations.\n",
      "[2024-11-07 15:05:38,288 - root - INFO] \tBest candidate has a fitness of: 0.3301803115643793\n",
      "[2024-11-07 15:05:38,482 - root - INFO] \tReset learner!\n"
     ]
    },
    {
     "data": {
      "text/plain": [
       "<IPython.core.display.HTML object>"
      ],
      "text/html": [
       "Finishing last run (ID:1m8dx0q5) before initializing another..."
      ]
     },
     "metadata": {},
     "output_type": "display_data"
    },
    {
     "data": {
      "text/plain": [
       "<IPython.core.display.HTML object>"
      ],
      "text/html": [
       "Waiting for W&B process to finish... <strong style=\"color:green\">(success).</strong>"
      ]
     },
     "metadata": {},
     "output_type": "display_data"
    },
    {
     "data": {
      "text/plain": [
       "<IPython.core.display.HTML object>"
      ],
      "text/html": [
       "<style>\n",
       "    table.wandb td:nth-child(1) { padding: 0 10px; text-align: left ; width: auto;} td:nth-child(2) {text-align: left ; width: 100%}\n",
       "    .wandb-row { display: flex; flex-direction: row; flex-wrap: wrap; justify-content: flex-start; width: 100% }\n",
       "    .wandb-col { display: flex; flex-direction: column; flex-basis: 100%; flex: 1; padding: 10px; }\n",
       "    </style>\n",
       "<div class=\"wandb-row\"><div class=\"wandb-col\"><h3>Run history:</h3><br/><table class=\"wandb\"><tr><td>max_fitness</td><td>█▁▁▁▁▁▁▁▁▁▁▁▁▁▁▁▁▁▁▁▁▁▁▁▁▁▁▁▁▁▁▁▁▁▁▁▁▁▁▁</td></tr><tr><td>mean_fitness</td><td>█▁▁▁▁▁▁▁▁▁▁▂▂▂▂▁▁▁▁▁▁▁▁▁▁▁▁▁▁▁▁▁▁▁▁▂▂▂▂▂</td></tr><tr><td>min_fitness</td><td>▁▇███████▇▇█████████▇▇█████████▇█▇██████</td></tr><tr><td>std_fitness</td><td>█▁▁▁▁▁▁▁▁▁▁▁▁▁▁▁▁▁▁▁▁▁▁▁▁▁▁▁▁▁▁▁▁▁▁▁▁▁▁▁</td></tr></table><br/></div><div class=\"wandb-col\"><h3>Run summary:</h3><br/><table class=\"wandb\"><tr><td>best_fitness</td><td>0.33018</td></tr><tr><td>boundary_to</td><td>3</td></tr><tr><td>max_fitness</td><td>0.36306</td></tr><tr><td>mean_fitness</td><td>0.35932</td></tr><tr><td>min_fitness</td><td>0.35491</td></tr><tr><td>std_fitness</td><td>0.00157</td></tr><tr><td>w0_trials</td><td>2</td></tr></table><br/></div></div>"
      ]
     },
     "metadata": {},
     "output_type": "display_data"
    },
    {
     "data": {
      "text/plain": [
       "<IPython.core.display.HTML object>"
      ],
      "text/html": [
       "Synced <strong style=\"color:#cdcd00\">eternal-disco-486</strong>: <a href=\"https://wandb.ai/oliverweissl/NeuralStyleSearch/runs/1m8dx0q5\" target=\"_blank\">https://wandb.ai/oliverweissl/NeuralStyleSearch/runs/1m8dx0q5</a><br/>Synced 6 W&B file(s), 3 media file(s), 1 artifact file(s) and 0 other file(s)"
      ]
     },
     "metadata": {},
     "output_type": "display_data"
    },
    {
     "data": {
      "text/plain": [
       "<IPython.core.display.HTML object>"
      ],
      "text/html": [
       "Find logs at: <code>./wandb/run-20241107_150509-1m8dx0q5/logs</code>"
      ]
     },
     "metadata": {},
     "output_type": "display_data"
    },
    {
     "data": {
      "text/plain": [
       "<IPython.core.display.HTML object>"
      ],
      "text/html": [
       "Successfully finished last run (ID:1m8dx0q5). Initializing new run:<br/>"
      ]
     },
     "metadata": {},
     "output_type": "display_data"
    },
    {
     "data": {
      "text/plain": [
       "<IPython.core.display.HTML object>"
      ],
      "text/html": [
       "wandb version 0.18.6 is available!  To upgrade, please run:\n",
       " $ pip install wandb --upgrade"
      ]
     },
     "metadata": {},
     "output_type": "display_data"
    },
    {
     "data": {
      "text/plain": [
       "<IPython.core.display.HTML object>"
      ],
      "text/html": [
       "Tracking run with wandb version 0.13.5"
      ]
     },
     "metadata": {},
     "output_type": "display_data"
    },
    {
     "data": {
      "text/plain": [
       "<IPython.core.display.HTML object>"
      ],
      "text/html": [
       "Run data is saved locally in <code>/home/oliver/PycharmProjects/NeuralStyle/notebooks/wandb/run-20241107_150538-llvhi7ed</code>"
      ]
     },
     "metadata": {},
     "output_type": "display_data"
    },
    {
     "data": {
      "text/plain": [
       "<IPython.core.display.HTML object>"
      ],
      "text/html": [
       "Syncing run <strong><a href=\"https://wandb.ai/oliverweissl/NeuralStyleSearch/runs/llvhi7ed\" target=\"_blank\">trim-galaxy-487</a></strong> to <a href=\"https://wandb.ai/oliverweissl/NeuralStyleSearch\" target=\"_blank\">Weights & Biases</a> (<a href=\"https://wandb.me/run\" target=\"_blank\">docs</a>)<br/>"
      ]
     },
     "metadata": {},
     "output_type": "display_data"
    },
    {
     "name": "stdout",
     "output_type": "stream",
     "text": [
      "[2024-11-07 15:05:47,186 - root - INFO] Generate seed(s) for class: 2.\n",
      "[2024-11-07 15:05:47,194 - root - INFO] \tFound 1 valid seed(s) after: 1 iterations.\n",
      "[2024-11-07 15:05:47,196 - root - INFO] Running Search-Algorithm for 50 generations.\n",
      "[2024-11-07 15:06:05,964 - root - INFO] \tBest candidate has a fitness of: 0.3978696111478144\n",
      "[2024-11-07 15:06:06,157 - root - INFO] \tReset learner!\n"
     ]
    },
    {
     "data": {
      "text/plain": [
       "<IPython.core.display.HTML object>"
      ],
      "text/html": [
       "Finishing last run (ID:llvhi7ed) before initializing another..."
      ]
     },
     "metadata": {},
     "output_type": "display_data"
    },
    {
     "data": {
      "text/plain": [
       "<IPython.core.display.HTML object>"
      ],
      "text/html": [
       "Waiting for W&B process to finish... <strong style=\"color:green\">(success).</strong>"
      ]
     },
     "metadata": {},
     "output_type": "display_data"
    },
    {
     "data": {
      "text/plain": [
       "<IPython.core.display.HTML object>"
      ],
      "text/html": [
       "<style>\n",
       "    table.wandb td:nth-child(1) { padding: 0 10px; text-align: left ; width: auto;} td:nth-child(2) {text-align: left ; width: 100%}\n",
       "    .wandb-row { display: flex; flex-direction: row; flex-wrap: wrap; justify-content: flex-start; width: 100% }\n",
       "    .wandb-col { display: flex; flex-direction: column; flex-basis: 100%; flex: 1; padding: 10px; }\n",
       "    </style>\n",
       "<div class=\"wandb-row\"><div class=\"wandb-col\"><h3>Run history:</h3><br/><table class=\"wandb\"><tr><td>max_fitness</td><td>█▁▁▁▁▁▁▁▁▁▁▁▁▁▁▁▁▁▁▁▁▁▁▁▁▁▁▁▁▁▁▁▁▁▁▁▁▁▁▁</td></tr><tr><td>mean_fitness</td><td>█▁▁▁▁▁▁▁▁▁▁▁▁▁▁▁▁▁▁▁▁▁▂▂▂▁▁▁▁▁▁▁▁▁▁▁▁▁▁▁</td></tr><tr><td>min_fitness</td><td>▂▇▁▁▂█▂▁▄▁▁▁▁▁▇▁▁▁▁▂▁▁▇▁▂▁▁▁▁▁▂▇▁▁▁▁▁▁▁▁</td></tr><tr><td>std_fitness</td><td>█▁▁▁▁▁▁▁▁▁▁▁▁▁▁▁▁▁▁▁▁▁▁▁▁▁▁▁▁▁▁▁▁▁▁▁▁▁▁▁</td></tr></table><br/></div><div class=\"wandb-col\"><h3>Run summary:</h3><br/><table class=\"wandb\"><tr><td>best_fitness</td><td>0.39787</td></tr><tr><td>boundary_to</td><td>3</td></tr><tr><td>max_fitness</td><td>0.42834</td></tr><tr><td>mean_fitness</td><td>0.42145</td></tr><tr><td>min_fitness</td><td>0.3992</td></tr><tr><td>std_fitness</td><td>0.00413</td></tr><tr><td>w0_trials</td><td>1</td></tr></table><br/></div></div>"
      ]
     },
     "metadata": {},
     "output_type": "display_data"
    },
    {
     "data": {
      "text/plain": [
       "<IPython.core.display.HTML object>"
      ],
      "text/html": [
       "Synced <strong style=\"color:#cdcd00\">trim-galaxy-487</strong>: <a href=\"https://wandb.ai/oliverweissl/NeuralStyleSearch/runs/llvhi7ed\" target=\"_blank\">https://wandb.ai/oliverweissl/NeuralStyleSearch/runs/llvhi7ed</a><br/>Synced 6 W&B file(s), 3 media file(s), 1 artifact file(s) and 0 other file(s)"
      ]
     },
     "metadata": {},
     "output_type": "display_data"
    },
    {
     "data": {
      "text/plain": [
       "<IPython.core.display.HTML object>"
      ],
      "text/html": [
       "Find logs at: <code>./wandb/run-20241107_150538-llvhi7ed/logs</code>"
      ]
     },
     "metadata": {},
     "output_type": "display_data"
    },
    {
     "data": {
      "text/plain": [
       "<IPython.core.display.HTML object>"
      ],
      "text/html": [
       "Successfully finished last run (ID:llvhi7ed). Initializing new run:<br/>"
      ]
     },
     "metadata": {},
     "output_type": "display_data"
    },
    {
     "data": {
      "text/plain": [
       "<IPython.core.display.HTML object>"
      ],
      "text/html": [
       "wandb version 0.18.6 is available!  To upgrade, please run:\n",
       " $ pip install wandb --upgrade"
      ]
     },
     "metadata": {},
     "output_type": "display_data"
    },
    {
     "data": {
      "text/plain": [
       "<IPython.core.display.HTML object>"
      ],
      "text/html": [
       "Tracking run with wandb version 0.13.5"
      ]
     },
     "metadata": {},
     "output_type": "display_data"
    },
    {
     "data": {
      "text/plain": [
       "<IPython.core.display.HTML object>"
      ],
      "text/html": [
       "Run data is saved locally in <code>/home/oliver/PycharmProjects/NeuralStyle/notebooks/wandb/run-20241107_150606-meg3em4b</code>"
      ]
     },
     "metadata": {},
     "output_type": "display_data"
    },
    {
     "data": {
      "text/plain": [
       "<IPython.core.display.HTML object>"
      ],
      "text/html": [
       "Syncing run <strong><a href=\"https://wandb.ai/oliverweissl/NeuralStyleSearch/runs/meg3em4b\" target=\"_blank\">golden-totem-488</a></strong> to <a href=\"https://wandb.ai/oliverweissl/NeuralStyleSearch\" target=\"_blank\">Weights & Biases</a> (<a href=\"https://wandb.me/run\" target=\"_blank\">docs</a>)<br/>"
      ]
     },
     "metadata": {},
     "output_type": "display_data"
    },
    {
     "name": "stdout",
     "output_type": "stream",
     "text": [
      "[2024-11-07 15:06:14,722 - root - INFO] Generate seed(s) for class: 2.\n",
      "[2024-11-07 15:06:14,730 - root - INFO] \tFound 1 valid seed(s) after: 1 iterations.\n",
      "[2024-11-07 15:06:14,732 - root - INFO] Running Search-Algorithm for 50 generations.\n",
      "[2024-11-07 15:06:33,419 - root - INFO] \tBest candidate has a fitness of: 0.3867236617841059\n",
      "[2024-11-07 15:06:33,613 - root - INFO] \tReset learner!\n"
     ]
    },
    {
     "data": {
      "text/plain": [
       "<IPython.core.display.HTML object>"
      ],
      "text/html": [
       "Finishing last run (ID:meg3em4b) before initializing another..."
      ]
     },
     "metadata": {},
     "output_type": "display_data"
    },
    {
     "data": {
      "text/plain": [
       "<IPython.core.display.HTML object>"
      ],
      "text/html": [
       "Waiting for W&B process to finish... <strong style=\"color:green\">(success).</strong>"
      ]
     },
     "metadata": {},
     "output_type": "display_data"
    },
    {
     "data": {
      "text/plain": [
       "<IPython.core.display.HTML object>"
      ],
      "text/html": [
       "<style>\n",
       "    table.wandb td:nth-child(1) { padding: 0 10px; text-align: left ; width: auto;} td:nth-child(2) {text-align: left ; width: 100%}\n",
       "    .wandb-row { display: flex; flex-direction: row; flex-wrap: wrap; justify-content: flex-start; width: 100% }\n",
       "    .wandb-col { display: flex; flex-direction: column; flex-basis: 100%; flex: 1; padding: 10px; }\n",
       "    </style>\n",
       "<div class=\"wandb-row\"><div class=\"wandb-col\"><h3>Run history:</h3><br/><table class=\"wandb\"><tr><td>max_fitness</td><td>█▂▂▂▂▂▁▁▂▂▂▂▁▂▂▂▁▂▂▂▂▂▂▂▂▂▂▂▂▁▂▂▁▂▁▁▂▁▂▂</td></tr><tr><td>mean_fitness</td><td>█▁▁▁▁▁▁▁▂▂▁▁▁▁▁▁▁▁▁▁▁▁▂▁▁▁▁▁▁▁▁▁▁▁▁▁▁▁▁▁</td></tr><tr><td>min_fitness</td><td>▁▇▇████▇██▆▇▇▇█▇████▇▇███▇███▇▇▇▇▇████▇█</td></tr><tr><td>std_fitness</td><td>█▁▁▁▁▁▁▁▁▁▁▁▁▁▁▁▁▁▁▁▁▁▁▁▁▁▁▁▁▁▁▁▁▁▁▁▁▁▁▁</td></tr></table><br/></div><div class=\"wandb-col\"><h3>Run summary:</h3><br/><table class=\"wandb\"><tr><td>best_fitness</td><td>0.38672</td></tr><tr><td>boundary_to</td><td>3</td></tr><tr><td>max_fitness</td><td>0.44273</td></tr><tr><td>mean_fitness</td><td>0.42397</td></tr><tr><td>min_fitness</td><td>0.41585</td></tr><tr><td>std_fitness</td><td>0.00384</td></tr><tr><td>w0_trials</td><td>1</td></tr></table><br/></div></div>"
      ]
     },
     "metadata": {},
     "output_type": "display_data"
    },
    {
     "data": {
      "text/plain": [
       "<IPython.core.display.HTML object>"
      ],
      "text/html": [
       "Synced <strong style=\"color:#cdcd00\">golden-totem-488</strong>: <a href=\"https://wandb.ai/oliverweissl/NeuralStyleSearch/runs/meg3em4b\" target=\"_blank\">https://wandb.ai/oliverweissl/NeuralStyleSearch/runs/meg3em4b</a><br/>Synced 6 W&B file(s), 3 media file(s), 1 artifact file(s) and 0 other file(s)"
      ]
     },
     "metadata": {},
     "output_type": "display_data"
    },
    {
     "data": {
      "text/plain": [
       "<IPython.core.display.HTML object>"
      ],
      "text/html": [
       "Find logs at: <code>./wandb/run-20241107_150606-meg3em4b/logs</code>"
      ]
     },
     "metadata": {},
     "output_type": "display_data"
    },
    {
     "data": {
      "text/plain": [
       "<IPython.core.display.HTML object>"
      ],
      "text/html": [
       "Successfully finished last run (ID:meg3em4b). Initializing new run:<br/>"
      ]
     },
     "metadata": {},
     "output_type": "display_data"
    },
    {
     "data": {
      "text/plain": [
       "<IPython.core.display.HTML object>"
      ],
      "text/html": [
       "wandb version 0.18.6 is available!  To upgrade, please run:\n",
       " $ pip install wandb --upgrade"
      ]
     },
     "metadata": {},
     "output_type": "display_data"
    },
    {
     "data": {
      "text/plain": [
       "<IPython.core.display.HTML object>"
      ],
      "text/html": [
       "Tracking run with wandb version 0.13.5"
      ]
     },
     "metadata": {},
     "output_type": "display_data"
    },
    {
     "data": {
      "text/plain": [
       "<IPython.core.display.HTML object>"
      ],
      "text/html": [
       "Run data is saved locally in <code>/home/oliver/PycharmProjects/NeuralStyle/notebooks/wandb/run-20241107_150633-9at7179f</code>"
      ]
     },
     "metadata": {},
     "output_type": "display_data"
    },
    {
     "data": {
      "text/plain": [
       "<IPython.core.display.HTML object>"
      ],
      "text/html": [
       "Syncing run <strong><a href=\"https://wandb.ai/oliverweissl/NeuralStyleSearch/runs/9at7179f\" target=\"_blank\">easy-dragon-489</a></strong> to <a href=\"https://wandb.ai/oliverweissl/NeuralStyleSearch\" target=\"_blank\">Weights & Biases</a> (<a href=\"https://wandb.me/run\" target=\"_blank\">docs</a>)<br/>"
      ]
     },
     "metadata": {},
     "output_type": "display_data"
    },
    {
     "name": "stdout",
     "output_type": "stream",
     "text": [
      "[2024-11-07 15:06:42,256 - root - INFO] Generate seed(s) for class: 2.\n",
      "[2024-11-07 15:06:42,264 - root - INFO] \tFound 1 valid seed(s) after: 1 iterations.\n",
      "[2024-11-07 15:06:42,266 - root - INFO] Running Search-Algorithm for 50 generations.\n",
      "[2024-11-07 15:07:00,911 - root - INFO] \tBest candidate has a fitness of: 0.39106884038823186\n",
      "[2024-11-07 15:07:01,099 - root - INFO] \tReset learner!\n"
     ]
    },
    {
     "data": {
      "text/plain": [
       "<IPython.core.display.HTML object>"
      ],
      "text/html": [
       "Finishing last run (ID:9at7179f) before initializing another..."
      ]
     },
     "metadata": {},
     "output_type": "display_data"
    },
    {
     "data": {
      "text/plain": [
       "<IPython.core.display.HTML object>"
      ],
      "text/html": [
       "Waiting for W&B process to finish... <strong style=\"color:green\">(success).</strong>"
      ]
     },
     "metadata": {},
     "output_type": "display_data"
    },
    {
     "data": {
      "text/plain": [
       "<IPython.core.display.HTML object>"
      ],
      "text/html": [
       "<style>\n",
       "    table.wandb td:nth-child(1) { padding: 0 10px; text-align: left ; width: auto;} td:nth-child(2) {text-align: left ; width: 100%}\n",
       "    .wandb-row { display: flex; flex-direction: row; flex-wrap: wrap; justify-content: flex-start; width: 100% }\n",
       "    .wandb-col { display: flex; flex-direction: column; flex-basis: 100%; flex: 1; padding: 10px; }\n",
       "    </style>\n",
       "<div class=\"wandb-row\"><div class=\"wandb-col\"><h3>Run history:</h3><br/><table class=\"wandb\"><tr><td>max_fitness</td><td>▁▆▇▇▇▇▇▇▇█▆▆▆▆▆▇▇▆▇▆▇▇▇▇▇▇█▇██▇▇▆▇▇▇█▇▇▆</td></tr><tr><td>mean_fitness</td><td>▁███████████████████████████████████████</td></tr><tr><td>min_fitness</td><td>▁█▇▇█▇▇▇▇▇▇█▇▇▇▇▇█▇▇▇▇▇▇▇▇▇▇▇▇▇█▇███▇▇▇█</td></tr><tr><td>std_fitness</td><td>█▁▁▁▁▁▁▁▁▂▁▁▁▁▁▁▁▁▁▁▁▁▁▁▁▁▁▁▁▁▂▁▁▁▁▁▁▁▁▁</td></tr></table><br/></div><div class=\"wandb-col\"><h3>Run summary:</h3><br/><table class=\"wandb\"><tr><td>best_fitness</td><td>0.39107</td></tr><tr><td>boundary_to</td><td>3</td></tr><tr><td>max_fitness</td><td>0.45557</td></tr><tr><td>mean_fitness</td><td>0.44899</td></tr><tr><td>min_fitness</td><td>0.44301</td></tr><tr><td>std_fitness</td><td>0.00239</td></tr><tr><td>w0_trials</td><td>1</td></tr></table><br/></div></div>"
      ]
     },
     "metadata": {},
     "output_type": "display_data"
    },
    {
     "data": {
      "text/plain": [
       "<IPython.core.display.HTML object>"
      ],
      "text/html": [
       "Synced <strong style=\"color:#cdcd00\">easy-dragon-489</strong>: <a href=\"https://wandb.ai/oliverweissl/NeuralStyleSearch/runs/9at7179f\" target=\"_blank\">https://wandb.ai/oliverweissl/NeuralStyleSearch/runs/9at7179f</a><br/>Synced 6 W&B file(s), 3 media file(s), 1 artifact file(s) and 0 other file(s)"
      ]
     },
     "metadata": {},
     "output_type": "display_data"
    },
    {
     "data": {
      "text/plain": [
       "<IPython.core.display.HTML object>"
      ],
      "text/html": [
       "Find logs at: <code>./wandb/run-20241107_150633-9at7179f/logs</code>"
      ]
     },
     "metadata": {},
     "output_type": "display_data"
    },
    {
     "data": {
      "text/plain": [
       "<IPython.core.display.HTML object>"
      ],
      "text/html": [
       "Successfully finished last run (ID:9at7179f). Initializing new run:<br/>"
      ]
     },
     "metadata": {},
     "output_type": "display_data"
    },
    {
     "data": {
      "text/plain": [
       "<IPython.core.display.HTML object>"
      ],
      "text/html": [
       "wandb version 0.18.6 is available!  To upgrade, please run:\n",
       " $ pip install wandb --upgrade"
      ]
     },
     "metadata": {},
     "output_type": "display_data"
    },
    {
     "data": {
      "text/plain": [
       "<IPython.core.display.HTML object>"
      ],
      "text/html": [
       "Tracking run with wandb version 0.13.5"
      ]
     },
     "metadata": {},
     "output_type": "display_data"
    },
    {
     "data": {
      "text/plain": [
       "<IPython.core.display.HTML object>"
      ],
      "text/html": [
       "Run data is saved locally in <code>/home/oliver/PycharmProjects/NeuralStyle/notebooks/wandb/run-20241107_150701-p16951ra</code>"
      ]
     },
     "metadata": {},
     "output_type": "display_data"
    },
    {
     "data": {
      "text/plain": [
       "<IPython.core.display.HTML object>"
      ],
      "text/html": [
       "Syncing run <strong><a href=\"https://wandb.ai/oliverweissl/NeuralStyleSearch/runs/p16951ra\" target=\"_blank\">classic-pyramid-490</a></strong> to <a href=\"https://wandb.ai/oliverweissl/NeuralStyleSearch\" target=\"_blank\">Weights & Biases</a> (<a href=\"https://wandb.me/run\" target=\"_blank\">docs</a>)<br/>"
      ]
     },
     "metadata": {},
     "output_type": "display_data"
    },
    {
     "name": "stdout",
     "output_type": "stream",
     "text": [
      "[2024-11-07 15:07:09,794 - root - INFO] Generate seed(s) for class: 2.\n",
      "[2024-11-07 15:07:10,510 - root - INFO] \tFound 1 valid seed(s) after: 125 iterations.\n",
      "[2024-11-07 15:07:10,513 - root - INFO] Running Search-Algorithm for 50 generations.\n"
     ]
    },
    {
     "name": "stderr",
     "output_type": "stream",
     "text": [
      "\n",
      "KeyboardInterrupt\n",
      "\n"
     ]
    }
   ],
   "execution_count": 7
  },
  {
   "metadata": {},
   "cell_type": "code",
   "outputs": [],
   "execution_count": null,
   "source": "",
   "id": "da32ce3de01dd02c"
  }
 ],
 "metadata": {
  "kernelspec": {
   "display_name": "Python 3",
   "language": "python",
   "name": "python3"
  },
  "language_info": {
   "codemirror_mode": {
    "name": "ipython",
    "version": 2
   },
   "file_extension": ".py",
   "mimetype": "text/x-python",
   "name": "python",
   "nbconvert_exporter": "python",
   "pygments_lexer": "ipython2",
   "version": "2.7.6"
  }
 },
 "nbformat": 4,
 "nbformat_minor": 5
}
