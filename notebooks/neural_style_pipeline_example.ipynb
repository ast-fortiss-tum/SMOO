{
 "cells": [
  {
   "metadata": {
    "ExecuteTime": {
     "end_time": "2024-11-07T15:40:16.611176Z",
     "start_time": "2024-11-07T15:40:15.938653Z"
    }
   },
   "cell_type": "code",
   "source": [
    "from src import NeuralTester, ExperimentConfig\n",
    "import torch\n",
    "from src.learner import (\n",
    "    PymooLearner,\n",
    "    RevDELearner,\n",
    "    GeneticLearner,\n",
    "    PYMOO_DE_DEFAULT_PARAMS,\n",
    "    REV_DE_DEFAULT_PARAMS,\n",
    "    GENETIC_DEFAULT_PARAMS,\n",
    ")\n",
    "from src.objective_functions import get_penalized_distance, ms_ssim, ssim_d2, uqi\n",
    "from models import load_stylegan\n",
    "import numpy as np\n",
    "import logging\n",
    "import wandb\n",
    "import sys\n",
    "from functools import partial\n",
    "from pymoo.algorithms.soo.nonconvex.de import DE\n",
    "from pymoo.operators.sampling.lhs import LHS"
   ],
   "id": "2f6e14a38a8be66e",
   "outputs": [],
   "execution_count": 1
  },
  {
   "metadata": {},
   "cell_type": "markdown",
   "source": [
    "## Example usage of the Neural Tester\n",
    "We use wandb to log progress in various steps!"
   ],
   "id": "15c3218330717165"
  },
  {
   "metadata": {
    "ExecuteTime": {
     "end_time": "2024-11-07T15:40:17.498850Z",
     "start_time": "2024-11-07T15:40:16.613255Z"
    }
   },
   "cell_type": "code",
   "source": "wandb.login()",
   "id": "6cb9e87dc8cdfd4d",
   "outputs": [
    {
     "name": "stderr",
     "output_type": "stream",
     "text": [
      "\u001b[34m\u001b[1mwandb\u001b[0m: Currently logged in as: \u001b[33moliverweissl\u001b[0m. Use \u001b[1m`wandb login --relogin`\u001b[0m to force relogin\n"
     ]
    },
    {
     "data": {
      "text/plain": [
       "True"
      ]
     },
     "execution_count": 2,
     "metadata": {},
     "output_type": "execute_result"
    }
   ],
   "execution_count": 2
  },
  {
   "metadata": {
    "ExecuteTime": {
     "end_time": "2024-11-07T15:40:17.522582Z",
     "start_time": "2024-11-07T15:40:17.520867Z"
    }
   },
   "cell_type": "code",
   "source": [
    "# Setup logging to be able to view logging outputs in notebooks.\n",
    "logging.basicConfig(\n",
    "    level=logging.INFO, format=\"[%(asctime)s - %(name)s - %(levelname)s] %(message)s\"\n",
    ")\n",
    "logger = logging.getLogger()\n",
    "logger.handlers[0].stream = sys.stdout"
   ],
   "id": "2925fb7f72e45b68",
   "outputs": [],
   "execution_count": 3
  },
  {
   "metadata": {
    "ExecuteTime": {
     "end_time": "2024-11-07T15:40:17.563856Z",
     "start_time": "2024-11-07T15:40:17.562035Z"
    }
   },
   "cell_type": "code",
   "source": [
    "# Define the configurations for our experiments.\n",
    "conf = ExperimentConfig(\n",
    "    samples_per_class=10,\n",
    "    generations=50,\n",
    "    mix_dim_range=(0, 8),\n",
    "    predictor=\"../models/wrn_mnist.pkl\",\n",
    "    generator=\"../models/sg2_mnist.pkl\",\n",
    "    learner=PymooLearner,\n",
    "    metric=uqi,\n",
    ")\n",
    "learner_params = PYMOO_DE_DEFAULT_PARAMS\n",
    "\n",
    "learner_params[\"n_var\"] = conf.genome_size  # for pymoo\n",
    "learner_params[\"algo_params\"][\"pop_size\"] = 10 * conf.genome_size\n",
    "# learner_params[\"x0\"] = np.random.rand(learner_params[\"population_size\"] * 2, conf.genome_size)  # for own"
   ],
   "id": "29f9d41d3c4aff2b",
   "outputs": [],
   "execution_count": 4
  },
  {
   "metadata": {
    "ExecuteTime": {
     "end_time": "2024-11-07T15:40:18.539063Z",
     "start_time": "2024-11-07T15:40:17.608508Z"
    }
   },
   "cell_type": "code",
   "source": [
    "predictor = torch.load(conf.predictor)  # The System under test (SUT)\n",
    "generator = load_stylegan(conf.generator)  # The generator network (a stylegan in this case)\n",
    "learner = conf.learner(**learner_params)  # The learner for search based optimization of candidates.\n",
    "objective_function = partial(\n",
    "    get_penalized_distance, metric=conf.metric\n",
    ")  # The objective function to calculate fitness with.\n",
    "device = torch.device(\"cuda\")  # The target device for all operaitons."
   ],
   "id": "54f7d469be815d45",
   "outputs": [],
   "execution_count": 5
  },
  {
   "metadata": {
    "ExecuteTime": {
     "end_time": "2024-11-07T15:40:18.560556Z",
     "start_time": "2024-11-07T15:40:18.549886Z"
    }
   },
   "cell_type": "code",
   "source": [
    "tester = NeuralTester(\n",
    "    predictor=predictor,\n",
    "    generator=generator,\n",
    "    learner=learner,\n",
    "    objective_function=objective_function,\n",
    "    num_generations=conf.generations,\n",
    "    mix_dim_range=conf.mix_dim_range,\n",
    "    device=device,\n",
    ")  # Here we initialize the Tester object."
   ],
   "id": "27e62cf8a8025898",
   "outputs": [],
   "execution_count": 6
  },
  {
   "metadata": {
    "jupyter": {
     "is_executing": true
    },
    "ExecuteTime": {
     "start_time": "2024-11-07T15:40:18.592087Z"
    }
   },
   "cell_type": "code",
   "source": [
    "tester.test(\n",
    "    num_classes=10,\n",
    "    samples_per_class=conf.samples_per_class,\n",
    ")  # We start the testing procedure."
   ],
   "id": "e9c0a9b67791a366",
   "outputs": [
    {
     "name": "stdout",
     "output_type": "stream",
     "text": [
      "[2024-11-07 16:40:18,592 - root - INFO] Start testing. Number of classes: 10, iterations per class: 10, total iterations: 100\n",
      "\n"
     ]
    },
    {
     "data": {
      "text/plain": [
       "<IPython.core.display.HTML object>"
      ],
      "text/html": [
       "wandb version 0.18.6 is available!  To upgrade, please run:\n",
       " $ pip install wandb --upgrade"
      ]
     },
     "metadata": {},
     "output_type": "display_data"
    },
    {
     "data": {
      "text/plain": [
       "<IPython.core.display.HTML object>"
      ],
      "text/html": [
       "Tracking run with wandb version 0.13.5"
      ]
     },
     "metadata": {},
     "output_type": "display_data"
    },
    {
     "data": {
      "text/plain": [
       "<IPython.core.display.HTML object>"
      ],
      "text/html": [
       "Run data is saved locally in <code>/home/oliver/PycharmProjects/NeuralStyle/notebooks/wandb/run-20241107_164018-uq3atwy2</code>"
      ]
     },
     "metadata": {},
     "output_type": "display_data"
    },
    {
     "data": {
      "text/plain": [
       "<IPython.core.display.HTML object>"
      ],
      "text/html": [
       "Syncing run <strong><a href=\"https://wandb.ai/oliverweissl/NeuralStyleSearch/runs/uq3atwy2\" target=\"_blank\">driven-water-605</a></strong> to <a href=\"https://wandb.ai/oliverweissl/NeuralStyleSearch\" target=\"_blank\">Weights & Biases</a> (<a href=\"https://wandb.me/run\" target=\"_blank\">docs</a>)<br/>"
      ]
     },
     "metadata": {},
     "output_type": "display_data"
    },
    {
     "name": "stdout",
     "output_type": "stream",
     "text": [
      "[2024-11-07 16:40:20,042 - root - INFO] Generate seed(s) for class: 0.\n",
      "Setting up PyTorch plugin \"bias_act_plugin\"... Done.\n",
      "Setting up PyTorch plugin \"upfirdn2d_plugin\"... Done.\n",
      "[2024-11-07 16:40:20,619 - root - INFO] \tFound 1 valid seed(s) after: 1 iterations.\n",
      "[2024-11-07 16:40:20,943 - root - INFO] Running Search-Algorithm for 50 generations.\n"
     ]
    }
   ],
   "execution_count": null
  },
  {
   "metadata": {},
   "cell_type": "code",
   "outputs": [],
   "execution_count": null,
   "source": "",
   "id": "8c2c839cb277e1c"
  },
  {
   "metadata": {},
   "cell_type": "code",
   "outputs": [],
   "execution_count": null,
   "source": "",
   "id": "7175efa9cabced7a"
  }
 ],
 "metadata": {
  "kernelspec": {
   "display_name": "Python 3",
   "language": "python",
   "name": "python3"
  },
  "language_info": {
   "codemirror_mode": {
    "name": "ipython",
    "version": 2
   },
   "file_extension": ".py",
   "mimetype": "text/x-python",
   "name": "python",
   "nbconvert_exporter": "python",
   "pygments_lexer": "ipython2",
   "version": "2.7.6"
  }
 },
 "nbformat": 4,
 "nbformat_minor": 5
}
