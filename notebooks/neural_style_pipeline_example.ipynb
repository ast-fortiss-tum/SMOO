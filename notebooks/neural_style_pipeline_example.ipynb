{
 "cells": [
  {
   "metadata": {},
   "cell_type": "code",
   "outputs": [],
   "execution_count": null,
   "source": [
    "from src import NeuralTester, Config\n",
    "import torch\n",
    "from src.learner import RevDELearner\n",
    "from src.objective_functions import get_penalized_distance\n",
    "from models import load_stylegan\n",
    "import numpy as np\n",
    "import logging\n",
    "import wandb\n",
    "import sys"
   ],
   "id": "2f6e14a38a8be66e"
  },
  {
   "metadata": {},
   "cell_type": "markdown",
   "source": [
    "## Example usage of the Neural Tester\n",
    "We use wandb to log progress in various steps!"
   ],
   "id": "15c3218330717165"
  },
  {
   "metadata": {
    "ExecuteTime": {
     "end_time": "2024-11-06T14:15:46.700585Z",
     "start_time": "2024-11-06T14:15:45.850511Z"
    }
   },
   "cell_type": "code",
   "source": "wandb.login()",
   "id": "6cb9e87dc8cdfd4d",
   "outputs": [
    {
     "name": "stderr",
     "output_type": "stream",
     "text": [
      "\u001B[34m\u001B[1mwandb\u001B[0m: Currently logged in as: \u001B[33moliverweissl\u001B[0m. Use \u001B[1m`wandb login --relogin`\u001B[0m to force relogin\n"
     ]
    },
    {
     "data": {
      "text/plain": [
       "True"
      ]
     },
     "execution_count": 2,
     "metadata": {},
     "output_type": "execute_result"
    }
   ],
   "execution_count": 2
  },
  {
   "metadata": {
    "ExecuteTime": {
     "end_time": "2024-11-06T14:15:46.704425Z",
     "start_time": "2024-11-06T14:15:46.702454Z"
    }
   },
   "cell_type": "code",
   "source": [
    "# Setup logging to be able to view logging outputs in notebooks.\n",
    "logging.basicConfig(level=logging.INFO, format='[%(asctime)s - %(name)s - %(levelname)s] %(message)s')\n",
    "logger = logging.getLogger()\n",
    "logger.handlers[0].stream = sys.stdout"
   ],
   "id": "2925fb7f72e45b68",
   "outputs": [],
   "execution_count": 3
  },
  {
   "metadata": {
    "ExecuteTime": {
     "end_time": "2024-11-06T14:15:46.996102Z",
     "start_time": "2024-11-06T14:15:46.994304Z"
    }
   },
   "cell_type": "code",
   "source": [
    "# Define the configurations for our experiments.\n",
    "conf = Config(\n",
    "    samples_per_class=10,\n",
    "    generations=20,\n",
    "    population_size=30,\n",
    "    continuous_search=True,\n",
    "    mix_dim_range=(0,8),\n",
    "    predictor=\"models/wrn_mnist.pkl\",\n",
    "    generator=\"models/sg2_mnist.pkl\",\n",
    "    learner=RevDELearner,\n",
    ")"
   ],
   "id": "29f9d41d3c4aff2b",
   "outputs": [],
   "execution_count": 4
  },
  {
   "metadata": {
    "ExecuteTime": {
     "end_time": "2024-11-06T14:15:48.469581Z",
     "start_time": "2024-11-06T14:15:47.419761Z"
    }
   },
   "cell_type": "code",
   "source": [
    "predictor = torch.load(conf.predictor)  # The System under test (SUT)\n",
    "generator = load_stylegan(conf.generator)  # The generator network (a stylegan in this case)\n",
    "learner = conf.learner(\n",
    "    x0=np.random.rand(conf.population_size, conf.genome_size),\n",
    "    population_size=conf.population_size,\n",
    "    continuous=conf.continuous_search,\n",
    "    bounds=(0,2),\n",
    ")  # The learner for search based optimization of candidates.\n",
    "objective_function = get_penalized_distance  # The objective function to calculate fitness with.\n",
    "device = torch.device(\"cuda\")  # The target device for all operaitons."
   ],
   "id": "54f7d469be815d45",
   "outputs": [],
   "execution_count": 5
  },
  {
   "metadata": {
    "ExecuteTime": {
     "end_time": "2024-11-06T14:15:48.490809Z",
     "start_time": "2024-11-06T14:15:48.472822Z"
    }
   },
   "cell_type": "code",
   "source": [
    "tester = NeuralTester(\n",
    "    predictor=predictor,\n",
    "    generator=generator,\n",
    "    learner=learner,\n",
    "    objective_function=objective_function,\n",
    "    num_generations=conf.generations,\n",
    "    mix_dim_range=conf.mix_dim_range,\n",
    "    device=device,\n",
    ")  # Here we initialize the Tester object."
   ],
   "id": "27e62cf8a8025898",
   "outputs": [],
   "execution_count": 6
  },
  {
   "metadata": {
    "ExecuteTime": {
     "end_time": "2024-11-06T14:32:58.268592Z",
     "start_time": "2024-11-06T14:15:49.009091Z"
    }
   },
   "cell_type": "code",
   "source": "tester.test(num_classes=10, samples_per_class=conf.samples_per_class)  # We start the testing procedure.",
   "id": "e9c0a9b67791a366",
   "outputs": [
    {
     "name": "stdout",
     "output_type": "stream",
     "text": [
      "[2024-11-06 15:15:49,009 - root - INFO] Start testing. Number of classes: 10, iterations per class: 10, total iterations: 100\n",
      "\n"
     ]
    },
    {
     "data": {
      "text/plain": [
       "<IPython.core.display.HTML object>"
      ],
      "text/html": [
       "wandb version 0.18.5 is available!  To upgrade, please run:\n",
       " $ pip install wandb --upgrade"
      ]
     },
     "metadata": {},
     "output_type": "display_data"
    },
    {
     "data": {
      "text/plain": [
       "<IPython.core.display.HTML object>"
      ],
      "text/html": [
       "Tracking run with wandb version 0.13.5"
      ]
     },
     "metadata": {},
     "output_type": "display_data"
    },
    {
     "data": {
      "text/plain": [
       "<IPython.core.display.HTML object>"
      ],
      "text/html": [
       "Run data is saved locally in <code>/home/oliver/PycharmProjects/NeuralStyle/wandb/run-20241106_151549-zcvbit2d</code>"
      ]
     },
     "metadata": {},
     "output_type": "display_data"
    },
    {
     "data": {
      "text/plain": [
       "<IPython.core.display.HTML object>"
      ],
      "text/html": [
       "Syncing run <strong><a href=\"https://wandb.ai/oliverweissl/NeuralStyleSearch/runs/zcvbit2d\" target=\"_blank\">eager-capybara-64</a></strong> to <a href=\"https://wandb.ai/oliverweissl/NeuralStyleSearch\" target=\"_blank\">Weights & Biases</a> (<a href=\"https://wandb.me/run\" target=\"_blank\">docs</a>)<br/>"
      ]
     },
     "metadata": {},
     "output_type": "display_data"
    },
    {
     "name": "stdout",
     "output_type": "stream",
     "text": [
      "[2024-11-06 15:15:50,900 - root - INFO] Generate seed(s) for class: 0.\n",
      "Setting up PyTorch plugin \"bias_act_plugin\"... Done.\n",
      "Setting up PyTorch plugin \"upfirdn2d_plugin\"... Done.\n",
      "[2024-11-06 15:15:51,506 - root - INFO] \tFound 1 valid seed(s) after: 5 iterations.\n",
      "[2024-11-06 15:15:51,827 - root - INFO] Running Search-Algorithm for 20 generations.\n",
      "[2024-11-06 15:15:54,052 - root - INFO] \tBest candidate has a fitness of: 0.22658660447972356\n",
      "[2024-11-06 15:15:54,055 - root - INFO] \tReset learner!\n"
     ]
    },
    {
     "data": {
      "text/plain": [
       "<IPython.core.display.HTML object>"
      ],
      "text/html": [
       "Finishing last run (ID:zcvbit2d) before initializing another..."
      ]
     },
     "metadata": {},
     "output_type": "display_data"
    },
    {
     "data": {
      "text/plain": [
       "<IPython.core.display.HTML object>"
      ],
      "text/html": [
       "Waiting for W&B process to finish... <strong style=\"color:green\">(success).</strong>"
      ]
     },
     "metadata": {},
     "output_type": "display_data"
    },
    {
     "data": {
      "text/plain": [
       "<IPython.core.display.HTML object>"
      ],
      "text/html": [
       "<style>\n",
       "    table.wandb td:nth-child(1) { padding: 0 10px; text-align: left ; width: auto;} td:nth-child(2) {text-align: left ; width: 100%}\n",
       "    .wandb-row { display: flex; flex-direction: row; flex-wrap: wrap; justify-content: flex-start; width: 100% }\n",
       "    .wandb-col { display: flex; flex-direction: column; flex-basis: 100%; flex: 1; padding: 10px; }\n",
       "    </style>\n",
       "<div class=\"wandb-row\"><div class=\"wandb-col\"><h3>Run history:</h3><br/><table class=\"wandb\"><tr><td>max_fitness</td><td>▁▃▄▃▄▃▄▂▃▅█▆▄▆▇▇▇▆▅▆</td></tr><tr><td>mean_fitness</td><td>▁▁▃▆▆▅▄▃▃▅▄▅▆▆█▆█▅▇▄</td></tr><tr><td>min_fitness</td><td>█▆▅▆▇▆▁▆▅▅▄▅▇▄▄▄▂▃▅▂</td></tr><tr><td>std_fitness</td><td>▁▃▅▆▅▄▅▄▄█▆▄▄▅▆▇▇█▆█</td></tr></table><br/></div><div class=\"wandb-col\"><h3>Run summary:</h3><br/><table class=\"wandb\"><tr><td>best_fitness</td><td>0.22659</td></tr><tr><td>max_fitness</td><td>0.52852</td></tr><tr><td>mean_fitness</td><td>0.34986</td></tr><tr><td>min_fitness</td><td>0.23667</td></tr><tr><td>std_fitness</td><td>0.08067</td></tr></table><br/></div></div>"
      ]
     },
     "metadata": {},
     "output_type": "display_data"
    },
    {
     "data": {
      "text/plain": [
       "<IPython.core.display.HTML object>"
      ],
      "text/html": [
       "Synced <strong style=\"color:#cdcd00\">eager-capybara-64</strong>: <a href=\"https://wandb.ai/oliverweissl/NeuralStyleSearch/runs/zcvbit2d\" target=\"_blank\">https://wandb.ai/oliverweissl/NeuralStyleSearch/runs/zcvbit2d</a><br/>Synced 6 W&B file(s), 2 media file(s), 0 artifact file(s) and 0 other file(s)"
      ]
     },
     "metadata": {},
     "output_type": "display_data"
    },
    {
     "data": {
      "text/plain": [
       "<IPython.core.display.HTML object>"
      ],
      "text/html": [
       "Find logs at: <code>./wandb/run-20241106_151549-zcvbit2d/logs</code>"
      ]
     },
     "metadata": {},
     "output_type": "display_data"
    },
    {
     "data": {
      "text/plain": [
       "<IPython.core.display.HTML object>"
      ],
      "text/html": [
       "Successfully finished last run (ID:zcvbit2d). Initializing new run:<br/>"
      ]
     },
     "metadata": {},
     "output_type": "display_data"
    },
    {
     "data": {
      "text/plain": [
       "<IPython.core.display.HTML object>"
      ],
      "text/html": [
       "wandb version 0.18.5 is available!  To upgrade, please run:\n",
       " $ pip install wandb --upgrade"
      ]
     },
     "metadata": {},
     "output_type": "display_data"
    },
    {
     "data": {
      "text/plain": [
       "<IPython.core.display.HTML object>"
      ],
      "text/html": [
       "Tracking run with wandb version 0.13.5"
      ]
     },
     "metadata": {},
     "output_type": "display_data"
    },
    {
     "data": {
      "text/plain": [
       "<IPython.core.display.HTML object>"
      ],
      "text/html": [
       "Run data is saved locally in <code>/home/oliver/PycharmProjects/NeuralStyle/wandb/run-20241106_151554-t67h6dda</code>"
      ]
     },
     "metadata": {},
     "output_type": "display_data"
    },
    {
     "data": {
      "text/plain": [
       "<IPython.core.display.HTML object>"
      ],
      "text/html": [
       "Syncing run <strong><a href=\"https://wandb.ai/oliverweissl/NeuralStyleSearch/runs/t67h6dda\" target=\"_blank\">frosty-capybara-65</a></strong> to <a href=\"https://wandb.ai/oliverweissl/NeuralStyleSearch\" target=\"_blank\">Weights & Biases</a> (<a href=\"https://wandb.me/run\" target=\"_blank\">docs</a>)<br/>"
      ]
     },
     "metadata": {},
     "output_type": "display_data"
    },
    {
     "name": "stdout",
     "output_type": "stream",
     "text": [
      "[2024-11-06 15:16:00,700 - root - INFO] Generate seed(s) for class: 0.\n",
      "[2024-11-06 15:16:02,509 - root - INFO] \tFound 1 valid seed(s) after: 313 iterations.\n",
      "[2024-11-06 15:16:02,511 - root - INFO] Running Search-Algorithm for 20 generations.\n",
      "[2024-11-06 15:16:04,718 - root - INFO] \tBest candidate has a fitness of: 0.19725706613438665\n",
      "[2024-11-06 15:16:04,721 - root - INFO] \tReset learner!\n"
     ]
    },
    {
     "data": {
      "text/plain": [
       "<IPython.core.display.HTML object>"
      ],
      "text/html": [
       "Finishing last run (ID:t67h6dda) before initializing another..."
      ]
     },
     "metadata": {},
     "output_type": "display_data"
    },
    {
     "data": {
      "text/plain": [
       "<IPython.core.display.HTML object>"
      ],
      "text/html": [
       "Waiting for W&B process to finish... <strong style=\"color:green\">(success).</strong>"
      ]
     },
     "metadata": {},
     "output_type": "display_data"
    },
    {
     "data": {
      "text/plain": [
       "<IPython.core.display.HTML object>"
      ],
      "text/html": [
       "<style>\n",
       "    table.wandb td:nth-child(1) { padding: 0 10px; text-align: left ; width: auto;} td:nth-child(2) {text-align: left ; width: 100%}\n",
       "    .wandb-row { display: flex; flex-direction: row; flex-wrap: wrap; justify-content: flex-start; width: 100% }\n",
       "    .wandb-col { display: flex; flex-direction: column; flex-basis: 100%; flex: 1; padding: 10px; }\n",
       "    </style>\n",
       "<div class=\"wandb-row\"><div class=\"wandb-col\"><h3>Run history:</h3><br/><table class=\"wandb\"><tr><td>max_fitness</td><td>▃▁▄▅▄▄▄▄▇██▆▆▄▅▄▆▆▅▅</td></tr><tr><td>mean_fitness</td><td>▁▂▄▃▅▅▃▃▅▆▆▆█▇▇█▇▇▇▇</td></tr><tr><td>min_fitness</td><td>▆▆▅▂▂▂▂▁▁▁▄▄██▇▇▅▁▁▇</td></tr><tr><td>std_fitness</td><td>▁▁▂▅▅▄▅█▅▅▄▃▂▁▂▁▃▅▄▂</td></tr></table><br/></div><div class=\"wandb-col\"><h3>Run summary:</h3><br/><table class=\"wandb\"><tr><td>best_fitness</td><td>0.19726</td></tr><tr><td>max_fitness</td><td>0.38051</td></tr><tr><td>mean_fitness</td><td>0.33434</td></tr><tr><td>min_fitness</td><td>0.28267</td></tr><tr><td>std_fitness</td><td>0.02393</td></tr></table><br/></div></div>"
      ]
     },
     "metadata": {},
     "output_type": "display_data"
    },
    {
     "data": {
      "text/plain": [
       "<IPython.core.display.HTML object>"
      ],
      "text/html": [
       "Synced <strong style=\"color:#cdcd00\">frosty-capybara-65</strong>: <a href=\"https://wandb.ai/oliverweissl/NeuralStyleSearch/runs/t67h6dda\" target=\"_blank\">https://wandb.ai/oliverweissl/NeuralStyleSearch/runs/t67h6dda</a><br/>Synced 6 W&B file(s), 2 media file(s), 0 artifact file(s) and 0 other file(s)"
      ]
     },
     "metadata": {},
     "output_type": "display_data"
    },
    {
     "data": {
      "text/plain": [
       "<IPython.core.display.HTML object>"
      ],
      "text/html": [
       "Find logs at: <code>./wandb/run-20241106_151554-t67h6dda/logs</code>"
      ]
     },
     "metadata": {},
     "output_type": "display_data"
    },
    {
     "data": {
      "text/plain": [
       "<IPython.core.display.HTML object>"
      ],
      "text/html": [
       "Successfully finished last run (ID:t67h6dda). Initializing new run:<br/>"
      ]
     },
     "metadata": {},
     "output_type": "display_data"
    },
    {
     "data": {
      "text/plain": [
       "<IPython.core.display.HTML object>"
      ],
      "text/html": [
       "wandb version 0.18.5 is available!  To upgrade, please run:\n",
       " $ pip install wandb --upgrade"
      ]
     },
     "metadata": {},
     "output_type": "display_data"
    },
    {
     "data": {
      "text/plain": [
       "<IPython.core.display.HTML object>"
      ],
      "text/html": [
       "Tracking run with wandb version 0.13.5"
      ]
     },
     "metadata": {},
     "output_type": "display_data"
    },
    {
     "data": {
      "text/plain": [
       "<IPython.core.display.HTML object>"
      ],
      "text/html": [
       "Run data is saved locally in <code>/home/oliver/PycharmProjects/NeuralStyle/wandb/run-20241106_151604-s6283m5q</code>"
      ]
     },
     "metadata": {},
     "output_type": "display_data"
    },
    {
     "data": {
      "text/plain": [
       "<IPython.core.display.HTML object>"
      ],
      "text/html": [
       "Syncing run <strong><a href=\"https://wandb.ai/oliverweissl/NeuralStyleSearch/runs/s6283m5q\" target=\"_blank\">chocolate-night-66</a></strong> to <a href=\"https://wandb.ai/oliverweissl/NeuralStyleSearch\" target=\"_blank\">Weights & Biases</a> (<a href=\"https://wandb.me/run\" target=\"_blank\">docs</a>)<br/>"
      ]
     },
     "metadata": {},
     "output_type": "display_data"
    },
    {
     "name": "stdout",
     "output_type": "stream",
     "text": [
      "[2024-11-06 15:16:12,338 - root - INFO] Generate seed(s) for class: 0.\n",
      "[2024-11-06 15:16:12,353 - root - INFO] \tFound 1 valid seed(s) after: 1 iterations.\n",
      "[2024-11-06 15:16:12,358 - root - INFO] Running Search-Algorithm for 20 generations.\n",
      "[2024-11-06 15:16:14,538 - root - INFO] \tBest candidate has a fitness of: 0.14013710058110296\n",
      "[2024-11-06 15:16:14,540 - root - INFO] \tReset learner!\n"
     ]
    },
    {
     "data": {
      "text/plain": [
       "<IPython.core.display.HTML object>"
      ],
      "text/html": [
       "Finishing last run (ID:s6283m5q) before initializing another..."
      ]
     },
     "metadata": {},
     "output_type": "display_data"
    },
    {
     "data": {
      "text/plain": [
       "<IPython.core.display.HTML object>"
      ],
      "text/html": [
       "Waiting for W&B process to finish... <strong style=\"color:green\">(success).</strong>"
      ]
     },
     "metadata": {},
     "output_type": "display_data"
    },
    {
     "data": {
      "text/plain": [
       "<IPython.core.display.HTML object>"
      ],
      "text/html": [
       "<style>\n",
       "    table.wandb td:nth-child(1) { padding: 0 10px; text-align: left ; width: auto;} td:nth-child(2) {text-align: left ; width: 100%}\n",
       "    .wandb-row { display: flex; flex-direction: row; flex-wrap: wrap; justify-content: flex-start; width: 100% }\n",
       "    .wandb-col { display: flex; flex-direction: column; flex-basis: 100%; flex: 1; padding: 10px; }\n",
       "    </style>\n",
       "<div class=\"wandb-row\"><div class=\"wandb-col\"><h3>Run history:</h3><br/><table class=\"wandb\"><tr><td>max_fitness</td><td>▁▂▁▂▂▂█▂▂▂▁▂▂▂▂▁▁▂▁▁</td></tr><tr><td>mean_fitness</td><td>▇▅▆▅▆▆█▅▄▄▄▆▆▅▄▃▂▃▁▂</td></tr><tr><td>min_fitness</td><td>█▆▇▅▂▅▁▇▃▃▅▄▃▄▄▁▃▂▂▄</td></tr><tr><td>std_fitness</td><td>▁▁▁▂▂▂█▂▂▂▂▃▃▃▂▂▂▂▁▁</td></tr></table><br/></div><div class=\"wandb-col\"><h3>Run summary:</h3><br/><table class=\"wandb\"><tr><td>best_fitness</td><td>0.14014</td></tr><tr><td>max_fitness</td><td>0.33405</td></tr><tr><td>mean_fitness</td><td>0.2315</td></tr><tr><td>min_fitness</td><td>0.16481</td></tr><tr><td>std_fitness</td><td>0.04145</td></tr></table><br/></div></div>"
      ]
     },
     "metadata": {},
     "output_type": "display_data"
    },
    {
     "data": {
      "text/plain": [
       "<IPython.core.display.HTML object>"
      ],
      "text/html": [
       "Synced <strong style=\"color:#cdcd00\">chocolate-night-66</strong>: <a href=\"https://wandb.ai/oliverweissl/NeuralStyleSearch/runs/s6283m5q\" target=\"_blank\">https://wandb.ai/oliverweissl/NeuralStyleSearch/runs/s6283m5q</a><br/>Synced 6 W&B file(s), 2 media file(s), 0 artifact file(s) and 0 other file(s)"
      ]
     },
     "metadata": {},
     "output_type": "display_data"
    },
    {
     "data": {
      "text/plain": [
       "<IPython.core.display.HTML object>"
      ],
      "text/html": [
       "Find logs at: <code>./wandb/run-20241106_151604-s6283m5q/logs</code>"
      ]
     },
     "metadata": {},
     "output_type": "display_data"
    },
    {
     "data": {
      "text/plain": [
       "<IPython.core.display.HTML object>"
      ],
      "text/html": [
       "Successfully finished last run (ID:s6283m5q). Initializing new run:<br/>"
      ]
     },
     "metadata": {},
     "output_type": "display_data"
    },
    {
     "data": {
      "text/plain": [
       "<IPython.core.display.HTML object>"
      ],
      "text/html": [
       "wandb version 0.18.5 is available!  To upgrade, please run:\n",
       " $ pip install wandb --upgrade"
      ]
     },
     "metadata": {},
     "output_type": "display_data"
    },
    {
     "data": {
      "text/plain": [
       "<IPython.core.display.HTML object>"
      ],
      "text/html": [
       "Tracking run with wandb version 0.13.5"
      ]
     },
     "metadata": {},
     "output_type": "display_data"
    },
    {
     "data": {
      "text/plain": [
       "<IPython.core.display.HTML object>"
      ],
      "text/html": [
       "Run data is saved locally in <code>/home/oliver/PycharmProjects/NeuralStyle/wandb/run-20241106_151614-0mfpziqd</code>"
      ]
     },
     "metadata": {},
     "output_type": "display_data"
    },
    {
     "data": {
      "text/plain": [
       "<IPython.core.display.HTML object>"
      ],
      "text/html": [
       "Syncing run <strong><a href=\"https://wandb.ai/oliverweissl/NeuralStyleSearch/runs/0mfpziqd\" target=\"_blank\">solar-dawn-67</a></strong> to <a href=\"https://wandb.ai/oliverweissl/NeuralStyleSearch\" target=\"_blank\">Weights & Biases</a> (<a href=\"https://wandb.me/run\" target=\"_blank\">docs</a>)<br/>"
      ]
     },
     "metadata": {},
     "output_type": "display_data"
    },
    {
     "name": "stdout",
     "output_type": "stream",
     "text": [
      "[2024-11-06 15:16:22,309 - root - INFO] Generate seed(s) for class: 0.\n",
      "[2024-11-06 15:16:22,317 - root - INFO] \tFound 1 valid seed(s) after: 1 iterations.\n",
      "[2024-11-06 15:16:22,320 - root - INFO] Running Search-Algorithm for 20 generations.\n",
      "[2024-11-06 15:16:24,533 - root - INFO] \tBest candidate has a fitness of: 0.12638869321721136\n",
      "[2024-11-06 15:16:24,536 - root - INFO] \tReset learner!\n"
     ]
    },
    {
     "data": {
      "text/plain": [
       "<IPython.core.display.HTML object>"
      ],
      "text/html": [
       "Finishing last run (ID:0mfpziqd) before initializing another..."
      ]
     },
     "metadata": {},
     "output_type": "display_data"
    },
    {
     "data": {
      "text/plain": [
       "<IPython.core.display.HTML object>"
      ],
      "text/html": [
       "Waiting for W&B process to finish... <strong style=\"color:green\">(success).</strong>"
      ]
     },
     "metadata": {},
     "output_type": "display_data"
    },
    {
     "data": {
      "text/plain": [
       "<IPython.core.display.HTML object>"
      ],
      "text/html": [
       "<style>\n",
       "    table.wandb td:nth-child(1) { padding: 0 10px; text-align: left ; width: auto;} td:nth-child(2) {text-align: left ; width: 100%}\n",
       "    .wandb-row { display: flex; flex-direction: row; flex-wrap: wrap; justify-content: flex-start; width: 100% }\n",
       "    .wandb-col { display: flex; flex-direction: column; flex-basis: 100%; flex: 1; padding: 10px; }\n",
       "    </style>\n",
       "<div class=\"wandb-row\"><div class=\"wandb-col\"><h3>Run history:</h3><br/><table class=\"wandb\"><tr><td>max_fitness</td><td>▃▃▄██▇▄▆▆▁▃▇▅▆█▅▅▄▅▁</td></tr><tr><td>mean_fitness</td><td>▃▄▆▃▅▄▂▃▁▄▂▇▆██▇█▅▇▅</td></tr><tr><td>min_fitness</td><td>▅▅█▇▄▂▂▃▃▅▄▅▆▆▇▄▄▁▃▃</td></tr><tr><td>std_fitness</td><td>▁▃▁▅██▇▇▇▂▆▄▆▄▂▆▁▅▄▃</td></tr></table><br/></div><div class=\"wandb-col\"><h3>Run summary:</h3><br/><table class=\"wandb\"><tr><td>best_fitness</td><td>0.12639</td></tr><tr><td>max_fitness</td><td>0.18184</td></tr><tr><td>mean_fitness</td><td>0.16612</td></tr><tr><td>min_fitness</td><td>0.13179</td></tr><tr><td>std_fitness</td><td>0.01175</td></tr></table><br/></div></div>"
      ]
     },
     "metadata": {},
     "output_type": "display_data"
    },
    {
     "data": {
      "text/plain": [
       "<IPython.core.display.HTML object>"
      ],
      "text/html": [
       "Synced <strong style=\"color:#cdcd00\">solar-dawn-67</strong>: <a href=\"https://wandb.ai/oliverweissl/NeuralStyleSearch/runs/0mfpziqd\" target=\"_blank\">https://wandb.ai/oliverweissl/NeuralStyleSearch/runs/0mfpziqd</a><br/>Synced 6 W&B file(s), 2 media file(s), 0 artifact file(s) and 0 other file(s)"
      ]
     },
     "metadata": {},
     "output_type": "display_data"
    },
    {
     "data": {
      "text/plain": [
       "<IPython.core.display.HTML object>"
      ],
      "text/html": [
       "Find logs at: <code>./wandb/run-20241106_151614-0mfpziqd/logs</code>"
      ]
     },
     "metadata": {},
     "output_type": "display_data"
    },
    {
     "data": {
      "text/plain": [
       "<IPython.core.display.HTML object>"
      ],
      "text/html": [
       "Successfully finished last run (ID:0mfpziqd). Initializing new run:<br/>"
      ]
     },
     "metadata": {},
     "output_type": "display_data"
    },
    {
     "data": {
      "text/plain": [
       "<IPython.core.display.HTML object>"
      ],
      "text/html": [
       "wandb version 0.18.5 is available!  To upgrade, please run:\n",
       " $ pip install wandb --upgrade"
      ]
     },
     "metadata": {},
     "output_type": "display_data"
    },
    {
     "data": {
      "text/plain": [
       "<IPython.core.display.HTML object>"
      ],
      "text/html": [
       "Tracking run with wandb version 0.13.5"
      ]
     },
     "metadata": {},
     "output_type": "display_data"
    },
    {
     "data": {
      "text/plain": [
       "<IPython.core.display.HTML object>"
      ],
      "text/html": [
       "Run data is saved locally in <code>/home/oliver/PycharmProjects/NeuralStyle/wandb/run-20241106_151624-jw573uda</code>"
      ]
     },
     "metadata": {},
     "output_type": "display_data"
    },
    {
     "data": {
      "text/plain": [
       "<IPython.core.display.HTML object>"
      ],
      "text/html": [
       "Syncing run <strong><a href=\"https://wandb.ai/oliverweissl/NeuralStyleSearch/runs/jw573uda\" target=\"_blank\">upbeat-music-68</a></strong> to <a href=\"https://wandb.ai/oliverweissl/NeuralStyleSearch\" target=\"_blank\">Weights & Biases</a> (<a href=\"https://wandb.me/run\" target=\"_blank\">docs</a>)<br/>"
      ]
     },
     "metadata": {},
     "output_type": "display_data"
    },
    {
     "name": "stdout",
     "output_type": "stream",
     "text": [
      "[2024-11-06 15:16:32,329 - root - INFO] Generate seed(s) for class: 0.\n",
      "[2024-11-06 15:16:32,338 - root - INFO] \tFound 1 valid seed(s) after: 1 iterations.\n",
      "[2024-11-06 15:16:32,342 - root - INFO] Running Search-Algorithm for 20 generations.\n",
      "[2024-11-06 15:16:34,549 - root - INFO] \tBest candidate has a fitness of: 0.058012271288805595\n",
      "[2024-11-06 15:16:34,552 - root - INFO] \tReset learner!\n"
     ]
    },
    {
     "data": {
      "text/plain": [
       "<IPython.core.display.HTML object>"
      ],
      "text/html": [
       "Finishing last run (ID:jw573uda) before initializing another..."
      ]
     },
     "metadata": {},
     "output_type": "display_data"
    },
    {
     "data": {
      "text/plain": [
       "<IPython.core.display.HTML object>"
      ],
      "text/html": [
       "Waiting for W&B process to finish... <strong style=\"color:green\">(success).</strong>"
      ]
     },
     "metadata": {},
     "output_type": "display_data"
    },
    {
     "data": {
      "text/plain": [
       "<IPython.core.display.HTML object>"
      ],
      "text/html": [
       "<style>\n",
       "    table.wandb td:nth-child(1) { padding: 0 10px; text-align: left ; width: auto;} td:nth-child(2) {text-align: left ; width: 100%}\n",
       "    .wandb-row { display: flex; flex-direction: row; flex-wrap: wrap; justify-content: flex-start; width: 100% }\n",
       "    .wandb-col { display: flex; flex-direction: column; flex-basis: 100%; flex: 1; padding: 10px; }\n",
       "    </style>\n",
       "<div class=\"wandb-row\"><div class=\"wandb-col\"><h3>Run history:</h3><br/><table class=\"wandb\"><tr><td>max_fitness</td><td>▁▃▄▅▂▄▄▅▆▇▄▆▄█▇██▇▇█</td></tr><tr><td>mean_fitness</td><td>▁▁▁▂▁▁▂▂▃▄▃▃▄▅▆▆▆█▆▅</td></tr><tr><td>min_fitness</td><td>██▆▇▅▄▅▅█▇▄▁▂▄▆▇▇▆▆▄</td></tr><tr><td>std_fitness</td><td>▁▂▃▄▃▄▃▄▅▆▄▄▅▇▇▇█▇▆█</td></tr></table><br/></div><div class=\"wandb-col\"><h3>Run summary:</h3><br/><table class=\"wandb\"><tr><td>best_fitness</td><td>0.05801</td></tr><tr><td>max_fitness</td><td>0.25266</td></tr><tr><td>mean_fitness</td><td>0.14973</td></tr><tr><td>min_fitness</td><td>0.07725</td></tr><tr><td>std_fitness</td><td>0.0516</td></tr></table><br/></div></div>"
      ]
     },
     "metadata": {},
     "output_type": "display_data"
    },
    {
     "data": {
      "text/plain": [
       "<IPython.core.display.HTML object>"
      ],
      "text/html": [
       "Synced <strong style=\"color:#cdcd00\">upbeat-music-68</strong>: <a href=\"https://wandb.ai/oliverweissl/NeuralStyleSearch/runs/jw573uda\" target=\"_blank\">https://wandb.ai/oliverweissl/NeuralStyleSearch/runs/jw573uda</a><br/>Synced 6 W&B file(s), 2 media file(s), 0 artifact file(s) and 0 other file(s)"
      ]
     },
     "metadata": {},
     "output_type": "display_data"
    },
    {
     "data": {
      "text/plain": [
       "<IPython.core.display.HTML object>"
      ],
      "text/html": [
       "Find logs at: <code>./wandb/run-20241106_151624-jw573uda/logs</code>"
      ]
     },
     "metadata": {},
     "output_type": "display_data"
    },
    {
     "data": {
      "text/plain": [
       "<IPython.core.display.HTML object>"
      ],
      "text/html": [
       "Successfully finished last run (ID:jw573uda). Initializing new run:<br/>"
      ]
     },
     "metadata": {},
     "output_type": "display_data"
    },
    {
     "data": {
      "text/plain": [
       "<IPython.core.display.HTML object>"
      ],
      "text/html": [
       "wandb version 0.18.5 is available!  To upgrade, please run:\n",
       " $ pip install wandb --upgrade"
      ]
     },
     "metadata": {},
     "output_type": "display_data"
    },
    {
     "data": {
      "text/plain": [
       "<IPython.core.display.HTML object>"
      ],
      "text/html": [
       "Tracking run with wandb version 0.13.5"
      ]
     },
     "metadata": {},
     "output_type": "display_data"
    },
    {
     "data": {
      "text/plain": [
       "<IPython.core.display.HTML object>"
      ],
      "text/html": [
       "Run data is saved locally in <code>/home/oliver/PycharmProjects/NeuralStyle/wandb/run-20241106_151634-vc0ptzcu</code>"
      ]
     },
     "metadata": {},
     "output_type": "display_data"
    },
    {
     "data": {
      "text/plain": [
       "<IPython.core.display.HTML object>"
      ],
      "text/html": [
       "Syncing run <strong><a href=\"https://wandb.ai/oliverweissl/NeuralStyleSearch/runs/vc0ptzcu\" target=\"_blank\">legendary-wood-69</a></strong> to <a href=\"https://wandb.ai/oliverweissl/NeuralStyleSearch\" target=\"_blank\">Weights & Biases</a> (<a href=\"https://wandb.me/run\" target=\"_blank\">docs</a>)<br/>"
      ]
     },
     "metadata": {},
     "output_type": "display_data"
    },
    {
     "name": "stdout",
     "output_type": "stream",
     "text": [
      "[2024-11-06 15:16:42,272 - root - INFO] Generate seed(s) for class: 0.\n",
      "[2024-11-06 15:16:42,280 - root - INFO] \tFound 1 valid seed(s) after: 1 iterations.\n",
      "[2024-11-06 15:16:42,283 - root - INFO] Running Search-Algorithm for 20 generations.\n",
      "[2024-11-06 15:16:44,493 - root - INFO] \tBest candidate has a fitness of: 0.3671696428098017\n",
      "[2024-11-06 15:16:44,496 - root - INFO] \tReset learner!\n"
     ]
    },
    {
     "data": {
      "text/plain": [
       "<IPython.core.display.HTML object>"
      ],
      "text/html": [
       "Finishing last run (ID:vc0ptzcu) before initializing another..."
      ]
     },
     "metadata": {},
     "output_type": "display_data"
    },
    {
     "data": {
      "text/plain": [
       "<IPython.core.display.HTML object>"
      ],
      "text/html": [
       "Waiting for W&B process to finish... <strong style=\"color:green\">(success).</strong>"
      ]
     },
     "metadata": {},
     "output_type": "display_data"
    },
    {
     "data": {
      "text/plain": [
       "<IPython.core.display.HTML object>"
      ],
      "text/html": [
       "<style>\n",
       "    table.wandb td:nth-child(1) { padding: 0 10px; text-align: left ; width: auto;} td:nth-child(2) {text-align: left ; width: 100%}\n",
       "    .wandb-row { display: flex; flex-direction: row; flex-wrap: wrap; justify-content: flex-start; width: 100% }\n",
       "    .wandb-col { display: flex; flex-direction: column; flex-basis: 100%; flex: 1; padding: 10px; }\n",
       "    </style>\n",
       "<div class=\"wandb-row\"><div class=\"wandb-col\"><h3>Run history:</h3><br/><table class=\"wandb\"><tr><td>max_fitness</td><td>▁▄▄▆▇▆▇▆▆▆█▇▇██▇▆▇█▇</td></tr><tr><td>mean_fitness</td><td>▁▁▂▃▃▃▄▅▇▇██▇█▆▆▆▇▇▆</td></tr><tr><td>min_fitness</td><td>▆▅▂▃▂▁▂▂▅▂▃▄▇█▅▄▃▁▃▁</td></tr><tr><td>std_fitness</td><td>▁▃▄▅█▇▇▆▆▇▇██▆▆▆▇▇▇▇</td></tr></table><br/></div><div class=\"wandb-col\"><h3>Run summary:</h3><br/><table class=\"wandb\"><tr><td>best_fitness</td><td>0.36717</td></tr><tr><td>max_fitness</td><td>0.48557</td></tr><tr><td>mean_fitness</td><td>0.41904</td></tr><tr><td>min_fitness</td><td>0.36861</td></tr><tr><td>std_fitness</td><td>0.02685</td></tr></table><br/></div></div>"
      ]
     },
     "metadata": {},
     "output_type": "display_data"
    },
    {
     "data": {
      "text/plain": [
       "<IPython.core.display.HTML object>"
      ],
      "text/html": [
       "Synced <strong style=\"color:#cdcd00\">legendary-wood-69</strong>: <a href=\"https://wandb.ai/oliverweissl/NeuralStyleSearch/runs/vc0ptzcu\" target=\"_blank\">https://wandb.ai/oliverweissl/NeuralStyleSearch/runs/vc0ptzcu</a><br/>Synced 6 W&B file(s), 2 media file(s), 0 artifact file(s) and 0 other file(s)"
      ]
     },
     "metadata": {},
     "output_type": "display_data"
    },
    {
     "data": {
      "text/plain": [
       "<IPython.core.display.HTML object>"
      ],
      "text/html": [
       "Find logs at: <code>./wandb/run-20241106_151634-vc0ptzcu/logs</code>"
      ]
     },
     "metadata": {},
     "output_type": "display_data"
    },
    {
     "data": {
      "text/plain": [
       "<IPython.core.display.HTML object>"
      ],
      "text/html": [
       "Successfully finished last run (ID:vc0ptzcu). Initializing new run:<br/>"
      ]
     },
     "metadata": {},
     "output_type": "display_data"
    },
    {
     "data": {
      "text/plain": [
       "<IPython.core.display.HTML object>"
      ],
      "text/html": [
       "wandb version 0.18.5 is available!  To upgrade, please run:\n",
       " $ pip install wandb --upgrade"
      ]
     },
     "metadata": {},
     "output_type": "display_data"
    },
    {
     "data": {
      "text/plain": [
       "<IPython.core.display.HTML object>"
      ],
      "text/html": [
       "Tracking run with wandb version 0.13.5"
      ]
     },
     "metadata": {},
     "output_type": "display_data"
    },
    {
     "data": {
      "text/plain": [
       "<IPython.core.display.HTML object>"
      ],
      "text/html": [
       "Run data is saved locally in <code>/home/oliver/PycharmProjects/NeuralStyle/wandb/run-20241106_151644-zj9ahs2w</code>"
      ]
     },
     "metadata": {},
     "output_type": "display_data"
    },
    {
     "data": {
      "text/plain": [
       "<IPython.core.display.HTML object>"
      ],
      "text/html": [
       "Syncing run <strong><a href=\"https://wandb.ai/oliverweissl/NeuralStyleSearch/runs/zj9ahs2w\" target=\"_blank\">leafy-moon-70</a></strong> to <a href=\"https://wandb.ai/oliverweissl/NeuralStyleSearch\" target=\"_blank\">Weights & Biases</a> (<a href=\"https://wandb.me/run\" target=\"_blank\">docs</a>)<br/>"
      ]
     },
     "metadata": {},
     "output_type": "display_data"
    },
    {
     "name": "stdout",
     "output_type": "stream",
     "text": [
      "[2024-11-06 15:16:52,124 - root - INFO] Generate seed(s) for class: 0.\n",
      "[2024-11-06 15:16:52,505 - root - INFO] \tFound 1 valid seed(s) after: 67 iterations.\n",
      "[2024-11-06 15:16:52,508 - root - INFO] Running Search-Algorithm for 20 generations.\n",
      "[2024-11-06 15:16:54,713 - root - INFO] \tBest candidate has a fitness of: 0.24158551729100286\n",
      "[2024-11-06 15:16:54,715 - root - INFO] \tReset learner!\n"
     ]
    },
    {
     "data": {
      "text/plain": [
       "<IPython.core.display.HTML object>"
      ],
      "text/html": [
       "Finishing last run (ID:zj9ahs2w) before initializing another..."
      ]
     },
     "metadata": {},
     "output_type": "display_data"
    },
    {
     "data": {
      "text/plain": [
       "<IPython.core.display.HTML object>"
      ],
      "text/html": [
       "Waiting for W&B process to finish... <strong style=\"color:green\">(success).</strong>"
      ]
     },
     "metadata": {},
     "output_type": "display_data"
    },
    {
     "data": {
      "text/plain": [
       "<IPython.core.display.HTML object>"
      ],
      "text/html": [
       "<style>\n",
       "    table.wandb td:nth-child(1) { padding: 0 10px; text-align: left ; width: auto;} td:nth-child(2) {text-align: left ; width: 100%}\n",
       "    .wandb-row { display: flex; flex-direction: row; flex-wrap: wrap; justify-content: flex-start; width: 100% }\n",
       "    .wandb-col { display: flex; flex-direction: column; flex-basis: 100%; flex: 1; padding: 10px; }\n",
       "    </style>\n",
       "<div class=\"wandb-row\"><div class=\"wandb-col\"><h3>Run history:</h3><br/><table class=\"wandb\"><tr><td>max_fitness</td><td>▁▁▂▃▃▆▆▇▆▆▆▇█▇▇▆▅▆▅▇</td></tr><tr><td>mean_fitness</td><td>▁▁▁▁▃▃▃▅▆▆▇███▆▆▅▇▅▇</td></tr><tr><td>min_fitness</td><td>█▇▆▆▇▇▃▃▄▆▃▅▄▄▃▃▃▃▁▁</td></tr><tr><td>std_fitness</td><td>▁▂▂▃▄▄▅▇▆▆▆█▆▆▇▅▅▆▆█</td></tr></table><br/></div><div class=\"wandb-col\"><h3>Run summary:</h3><br/><table class=\"wandb\"><tr><td>best_fitness</td><td>0.24159</td></tr><tr><td>max_fitness</td><td>0.50375</td></tr><tr><td>mean_fitness</td><td>0.36684</td></tr><tr><td>min_fitness</td><td>0.24495</td></tr><tr><td>std_fitness</td><td>0.06265</td></tr></table><br/></div></div>"
      ]
     },
     "metadata": {},
     "output_type": "display_data"
    },
    {
     "data": {
      "text/plain": [
       "<IPython.core.display.HTML object>"
      ],
      "text/html": [
       "Synced <strong style=\"color:#cdcd00\">leafy-moon-70</strong>: <a href=\"https://wandb.ai/oliverweissl/NeuralStyleSearch/runs/zj9ahs2w\" target=\"_blank\">https://wandb.ai/oliverweissl/NeuralStyleSearch/runs/zj9ahs2w</a><br/>Synced 6 W&B file(s), 2 media file(s), 0 artifact file(s) and 0 other file(s)"
      ]
     },
     "metadata": {},
     "output_type": "display_data"
    },
    {
     "data": {
      "text/plain": [
       "<IPython.core.display.HTML object>"
      ],
      "text/html": [
       "Find logs at: <code>./wandb/run-20241106_151644-zj9ahs2w/logs</code>"
      ]
     },
     "metadata": {},
     "output_type": "display_data"
    },
    {
     "data": {
      "text/plain": [
       "<IPython.core.display.HTML object>"
      ],
      "text/html": [
       "Successfully finished last run (ID:zj9ahs2w). Initializing new run:<br/>"
      ]
     },
     "metadata": {},
     "output_type": "display_data"
    },
    {
     "data": {
      "text/plain": [
       "<IPython.core.display.HTML object>"
      ],
      "text/html": [
       "wandb version 0.18.5 is available!  To upgrade, please run:\n",
       " $ pip install wandb --upgrade"
      ]
     },
     "metadata": {},
     "output_type": "display_data"
    },
    {
     "data": {
      "text/plain": [
       "<IPython.core.display.HTML object>"
      ],
      "text/html": [
       "Tracking run with wandb version 0.13.5"
      ]
     },
     "metadata": {},
     "output_type": "display_data"
    },
    {
     "data": {
      "text/plain": [
       "<IPython.core.display.HTML object>"
      ],
      "text/html": [
       "Run data is saved locally in <code>/home/oliver/PycharmProjects/NeuralStyle/wandb/run-20241106_151654-ldlclirj</code>"
      ]
     },
     "metadata": {},
     "output_type": "display_data"
    },
    {
     "data": {
      "text/plain": [
       "<IPython.core.display.HTML object>"
      ],
      "text/html": [
       "Syncing run <strong><a href=\"https://wandb.ai/oliverweissl/NeuralStyleSearch/runs/ldlclirj\" target=\"_blank\">scarlet-cherry-71</a></strong> to <a href=\"https://wandb.ai/oliverweissl/NeuralStyleSearch\" target=\"_blank\">Weights & Biases</a> (<a href=\"https://wandb.me/run\" target=\"_blank\">docs</a>)<br/>"
      ]
     },
     "metadata": {},
     "output_type": "display_data"
    },
    {
     "name": "stdout",
     "output_type": "stream",
     "text": [
      "[2024-11-06 15:17:02,179 - root - INFO] Generate seed(s) for class: 0.\n",
      "[2024-11-06 15:17:02,195 - root - INFO] \tFound 1 valid seed(s) after: 1 iterations.\n",
      "[2024-11-06 15:17:02,197 - root - INFO] Running Search-Algorithm for 20 generations.\n",
      "[2024-11-06 15:17:04,414 - root - INFO] \tBest candidate has a fitness of: 0.16712775266545354\n",
      "[2024-11-06 15:17:04,416 - root - INFO] \tReset learner!\n"
     ]
    },
    {
     "data": {
      "text/plain": [
       "<IPython.core.display.HTML object>"
      ],
      "text/html": [
       "Finishing last run (ID:ldlclirj) before initializing another..."
      ]
     },
     "metadata": {},
     "output_type": "display_data"
    },
    {
     "data": {
      "text/plain": [
       "<IPython.core.display.HTML object>"
      ],
      "text/html": [
       "Waiting for W&B process to finish... <strong style=\"color:green\">(success).</strong>"
      ]
     },
     "metadata": {},
     "output_type": "display_data"
    },
    {
     "data": {
      "text/plain": [
       "<IPython.core.display.HTML object>"
      ],
      "text/html": [
       "<style>\n",
       "    table.wandb td:nth-child(1) { padding: 0 10px; text-align: left ; width: auto;} td:nth-child(2) {text-align: left ; width: 100%}\n",
       "    .wandb-row { display: flex; flex-direction: row; flex-wrap: wrap; justify-content: flex-start; width: 100% }\n",
       "    .wandb-col { display: flex; flex-direction: column; flex-basis: 100%; flex: 1; padding: 10px; }\n",
       "    </style>\n",
       "<div class=\"wandb-row\"><div class=\"wandb-col\"><h3>Run history:</h3><br/><table class=\"wandb\"><tr><td>max_fitness</td><td>▂▃█▆▇█▃▄▃▇▂▁▇▃▃▂█▃▄▁</td></tr><tr><td>mean_fitness</td><td>█▇█▇▆▄▅▃▃▅▂▁▃▃▁▃▃▅▄▂</td></tr><tr><td>min_fitness</td><td>█▆▃▅▃▃▃▁▂▂▁▁▂▂▁▂▂▃▃▃</td></tr><tr><td>std_fitness</td><td>▁▂▄▄▅▆▅█▇▇█▆▇▆▇█▇▅▄▆</td></tr></table><br/></div><div class=\"wandb-col\"><h3>Run summary:</h3><br/><table class=\"wandb\"><tr><td>best_fitness</td><td>0.16713</td></tr><tr><td>max_fitness</td><td>0.29222</td></tr><tr><td>mean_fitness</td><td>0.23942</td></tr><tr><td>min_fitness</td><td>0.18613</td></tr><tr><td>std_fitness</td><td>0.02851</td></tr></table><br/></div></div>"
      ]
     },
     "metadata": {},
     "output_type": "display_data"
    },
    {
     "data": {
      "text/plain": [
       "<IPython.core.display.HTML object>"
      ],
      "text/html": [
       "Synced <strong style=\"color:#cdcd00\">scarlet-cherry-71</strong>: <a href=\"https://wandb.ai/oliverweissl/NeuralStyleSearch/runs/ldlclirj\" target=\"_blank\">https://wandb.ai/oliverweissl/NeuralStyleSearch/runs/ldlclirj</a><br/>Synced 6 W&B file(s), 2 media file(s), 0 artifact file(s) and 0 other file(s)"
      ]
     },
     "metadata": {},
     "output_type": "display_data"
    },
    {
     "data": {
      "text/plain": [
       "<IPython.core.display.HTML object>"
      ],
      "text/html": [
       "Find logs at: <code>./wandb/run-20241106_151654-ldlclirj/logs</code>"
      ]
     },
     "metadata": {},
     "output_type": "display_data"
    },
    {
     "data": {
      "text/plain": [
       "<IPython.core.display.HTML object>"
      ],
      "text/html": [
       "Successfully finished last run (ID:ldlclirj). Initializing new run:<br/>"
      ]
     },
     "metadata": {},
     "output_type": "display_data"
    },
    {
     "data": {
      "text/plain": [
       "<IPython.core.display.HTML object>"
      ],
      "text/html": [
       "wandb version 0.18.5 is available!  To upgrade, please run:\n",
       " $ pip install wandb --upgrade"
      ]
     },
     "metadata": {},
     "output_type": "display_data"
    },
    {
     "data": {
      "text/plain": [
       "<IPython.core.display.HTML object>"
      ],
      "text/html": [
       "Tracking run with wandb version 0.13.5"
      ]
     },
     "metadata": {},
     "output_type": "display_data"
    },
    {
     "data": {
      "text/plain": [
       "<IPython.core.display.HTML object>"
      ],
      "text/html": [
       "Run data is saved locally in <code>/home/oliver/PycharmProjects/NeuralStyle/wandb/run-20241106_151704-gxu31bso</code>"
      ]
     },
     "metadata": {},
     "output_type": "display_data"
    },
    {
     "data": {
      "text/plain": [
       "<IPython.core.display.HTML object>"
      ],
      "text/html": [
       "Syncing run <strong><a href=\"https://wandb.ai/oliverweissl/NeuralStyleSearch/runs/gxu31bso\" target=\"_blank\">visionary-river-72</a></strong> to <a href=\"https://wandb.ai/oliverweissl/NeuralStyleSearch\" target=\"_blank\">Weights & Biases</a> (<a href=\"https://wandb.me/run\" target=\"_blank\">docs</a>)<br/>"
      ]
     },
     "metadata": {},
     "output_type": "display_data"
    },
    {
     "name": "stdout",
     "output_type": "stream",
     "text": [
      "[2024-11-06 15:17:12,308 - root - INFO] Generate seed(s) for class: 0.\n",
      "[2024-11-06 15:17:12,316 - root - INFO] \tFound 1 valid seed(s) after: 1 iterations.\n",
      "[2024-11-06 15:17:12,318 - root - INFO] Running Search-Algorithm for 20 generations.\n",
      "[2024-11-06 15:17:14,534 - root - INFO] \tBest candidate has a fitness of: 0.15163698232548772\n",
      "[2024-11-06 15:17:14,536 - root - INFO] \tReset learner!\n"
     ]
    },
    {
     "data": {
      "text/plain": [
       "<IPython.core.display.HTML object>"
      ],
      "text/html": [
       "Finishing last run (ID:gxu31bso) before initializing another..."
      ]
     },
     "metadata": {},
     "output_type": "display_data"
    },
    {
     "data": {
      "text/plain": [
       "<IPython.core.display.HTML object>"
      ],
      "text/html": [
       "Waiting for W&B process to finish... <strong style=\"color:green\">(success).</strong>"
      ]
     },
     "metadata": {},
     "output_type": "display_data"
    },
    {
     "data": {
      "text/plain": [
       "<IPython.core.display.HTML object>"
      ],
      "text/html": [
       "<style>\n",
       "    table.wandb td:nth-child(1) { padding: 0 10px; text-align: left ; width: auto;} td:nth-child(2) {text-align: left ; width: 100%}\n",
       "    .wandb-row { display: flex; flex-direction: row; flex-wrap: wrap; justify-content: flex-start; width: 100% }\n",
       "    .wandb-col { display: flex; flex-direction: column; flex-basis: 100%; flex: 1; padding: 10px; }\n",
       "    </style>\n",
       "<div class=\"wandb-row\"><div class=\"wandb-col\"><h3>Run history:</h3><br/><table class=\"wandb\"><tr><td>max_fitness</td><td>▁▁▂▃▄▃▄▅▆▅▅▅▆▅▄▃▆▄██</td></tr><tr><td>mean_fitness</td><td>▅▅▆▅▃▃▃▃▅▇▄▄▅▅▃▁▇▄▇█</td></tr><tr><td>min_fitness</td><td>█▇▆▇▄▄▁▄▂▃▃▃▅▄▄▄▃▄▄▇</td></tr><tr><td>std_fitness</td><td>▁▁▂▂▄▄▇██▇██▆▇▆▅▇▅▇▇</td></tr></table><br/></div><div class=\"wandb-col\"><h3>Run summary:</h3><br/><table class=\"wandb\"><tr><td>best_fitness</td><td>0.15164</td></tr><tr><td>max_fitness</td><td>0.28714</td></tr><tr><td>mean_fitness</td><td>0.22226</td></tr><tr><td>min_fitness</td><td>0.18356</td></tr><tr><td>std_fitness</td><td>0.02944</td></tr></table><br/></div></div>"
      ]
     },
     "metadata": {},
     "output_type": "display_data"
    },
    {
     "data": {
      "text/plain": [
       "<IPython.core.display.HTML object>"
      ],
      "text/html": [
       "Synced <strong style=\"color:#cdcd00\">visionary-river-72</strong>: <a href=\"https://wandb.ai/oliverweissl/NeuralStyleSearch/runs/gxu31bso\" target=\"_blank\">https://wandb.ai/oliverweissl/NeuralStyleSearch/runs/gxu31bso</a><br/>Synced 6 W&B file(s), 2 media file(s), 0 artifact file(s) and 0 other file(s)"
      ]
     },
     "metadata": {},
     "output_type": "display_data"
    },
    {
     "data": {
      "text/plain": [
       "<IPython.core.display.HTML object>"
      ],
      "text/html": [
       "Find logs at: <code>./wandb/run-20241106_151704-gxu31bso/logs</code>"
      ]
     },
     "metadata": {},
     "output_type": "display_data"
    },
    {
     "data": {
      "text/plain": [
       "<IPython.core.display.HTML object>"
      ],
      "text/html": [
       "Successfully finished last run (ID:gxu31bso). Initializing new run:<br/>"
      ]
     },
     "metadata": {},
     "output_type": "display_data"
    },
    {
     "data": {
      "text/plain": [
       "<IPython.core.display.HTML object>"
      ],
      "text/html": [
       "wandb version 0.18.5 is available!  To upgrade, please run:\n",
       " $ pip install wandb --upgrade"
      ]
     },
     "metadata": {},
     "output_type": "display_data"
    },
    {
     "data": {
      "text/plain": [
       "<IPython.core.display.HTML object>"
      ],
      "text/html": [
       "Tracking run with wandb version 0.13.5"
      ]
     },
     "metadata": {},
     "output_type": "display_data"
    },
    {
     "data": {
      "text/plain": [
       "<IPython.core.display.HTML object>"
      ],
      "text/html": [
       "Run data is saved locally in <code>/home/oliver/PycharmProjects/NeuralStyle/wandb/run-20241106_151714-woj7421w</code>"
      ]
     },
     "metadata": {},
     "output_type": "display_data"
    },
    {
     "data": {
      "text/plain": [
       "<IPython.core.display.HTML object>"
      ],
      "text/html": [
       "Syncing run <strong><a href=\"https://wandb.ai/oliverweissl/NeuralStyleSearch/runs/woj7421w\" target=\"_blank\">lilac-mountain-73</a></strong> to <a href=\"https://wandb.ai/oliverweissl/NeuralStyleSearch\" target=\"_blank\">Weights & Biases</a> (<a href=\"https://wandb.me/run\" target=\"_blank\">docs</a>)<br/>"
      ]
     },
     "metadata": {},
     "output_type": "display_data"
    },
    {
     "name": "stdout",
     "output_type": "stream",
     "text": [
      "[2024-11-06 15:17:22,393 - root - INFO] Generate seed(s) for class: 0.\n",
      "[2024-11-06 15:17:22,401 - root - INFO] \tFound 1 valid seed(s) after: 1 iterations.\n",
      "[2024-11-06 15:17:22,404 - root - INFO] Running Search-Algorithm for 20 generations.\n",
      "[2024-11-06 15:17:24,615 - root - INFO] \tBest candidate has a fitness of: 0.12344934976475774\n",
      "[2024-11-06 15:17:24,618 - root - INFO] \tReset learner!\n"
     ]
    },
    {
     "data": {
      "text/plain": [
       "<IPython.core.display.HTML object>"
      ],
      "text/html": [
       "Finishing last run (ID:woj7421w) before initializing another..."
      ]
     },
     "metadata": {},
     "output_type": "display_data"
    },
    {
     "data": {
      "text/plain": [
       "<IPython.core.display.HTML object>"
      ],
      "text/html": [
       "Waiting for W&B process to finish... <strong style=\"color:green\">(success).</strong>"
      ]
     },
     "metadata": {},
     "output_type": "display_data"
    },
    {
     "data": {
      "text/plain": [
       "<IPython.core.display.HTML object>"
      ],
      "text/html": [
       "<style>\n",
       "    table.wandb td:nth-child(1) { padding: 0 10px; text-align: left ; width: auto;} td:nth-child(2) {text-align: left ; width: 100%}\n",
       "    .wandb-row { display: flex; flex-direction: row; flex-wrap: wrap; justify-content: flex-start; width: 100% }\n",
       "    .wandb-col { display: flex; flex-direction: column; flex-basis: 100%; flex: 1; padding: 10px; }\n",
       "    </style>\n",
       "<div class=\"wandb-row\"><div class=\"wandb-col\"><h3>Run history:</h3><br/><table class=\"wandb\"><tr><td>max_fitness</td><td>▃▃▂▄▃▄▄▄▄▇▄▂▅▃▃▁█▃▃▅</td></tr><tr><td>mean_fitness</td><td>▁▂▃▂▄▅▅▄▆▆▆▆▆▆▅▅█▇▆▇</td></tr><tr><td>min_fitness</td><td>▅▇▃▁▂▅▃▂▄▅▃▅▄▄▆█▄▇▄▄</td></tr><tr><td>std_fitness</td><td>▂▃▄▆▅▆▅▇▄▅▇▄▆▄▃▁█▃▅▅</td></tr></table><br/></div><div class=\"wandb-col\"><h3>Run summary:</h3><br/><table class=\"wandb\"><tr><td>best_fitness</td><td>0.12345</td></tr><tr><td>max_fitness</td><td>0.1963</td></tr><tr><td>mean_fitness</td><td>0.16728</td></tr><tr><td>min_fitness</td><td>0.13284</td></tr><tr><td>std_fitness</td><td>0.01435</td></tr></table><br/></div></div>"
      ]
     },
     "metadata": {},
     "output_type": "display_data"
    },
    {
     "data": {
      "text/plain": [
       "<IPython.core.display.HTML object>"
      ],
      "text/html": [
       "Synced <strong style=\"color:#cdcd00\">lilac-mountain-73</strong>: <a href=\"https://wandb.ai/oliverweissl/NeuralStyleSearch/runs/woj7421w\" target=\"_blank\">https://wandb.ai/oliverweissl/NeuralStyleSearch/runs/woj7421w</a><br/>Synced 6 W&B file(s), 2 media file(s), 0 artifact file(s) and 0 other file(s)"
      ]
     },
     "metadata": {},
     "output_type": "display_data"
    },
    {
     "data": {
      "text/plain": [
       "<IPython.core.display.HTML object>"
      ],
      "text/html": [
       "Find logs at: <code>./wandb/run-20241106_151714-woj7421w/logs</code>"
      ]
     },
     "metadata": {},
     "output_type": "display_data"
    },
    {
     "data": {
      "text/plain": [
       "<IPython.core.display.HTML object>"
      ],
      "text/html": [
       "Successfully finished last run (ID:woj7421w). Initializing new run:<br/>"
      ]
     },
     "metadata": {},
     "output_type": "display_data"
    },
    {
     "data": {
      "text/plain": [
       "<IPython.core.display.HTML object>"
      ],
      "text/html": [
       "wandb version 0.18.5 is available!  To upgrade, please run:\n",
       " $ pip install wandb --upgrade"
      ]
     },
     "metadata": {},
     "output_type": "display_data"
    },
    {
     "data": {
      "text/plain": [
       "<IPython.core.display.HTML object>"
      ],
      "text/html": [
       "Tracking run with wandb version 0.13.5"
      ]
     },
     "metadata": {},
     "output_type": "display_data"
    },
    {
     "data": {
      "text/plain": [
       "<IPython.core.display.HTML object>"
      ],
      "text/html": [
       "Run data is saved locally in <code>/home/oliver/PycharmProjects/NeuralStyle/wandb/run-20241106_151724-ry9q6vuz</code>"
      ]
     },
     "metadata": {},
     "output_type": "display_data"
    },
    {
     "data": {
      "text/plain": [
       "<IPython.core.display.HTML object>"
      ],
      "text/html": [
       "Syncing run <strong><a href=\"https://wandb.ai/oliverweissl/NeuralStyleSearch/runs/ry9q6vuz\" target=\"_blank\">colorful-vortex-74</a></strong> to <a href=\"https://wandb.ai/oliverweissl/NeuralStyleSearch\" target=\"_blank\">Weights & Biases</a> (<a href=\"https://wandb.me/run\" target=\"_blank\">docs</a>)<br/>"
      ]
     },
     "metadata": {},
     "output_type": "display_data"
    },
    {
     "name": "stdout",
     "output_type": "stream",
     "text": [
      "[2024-11-06 15:17:32,553 - root - INFO] Generate seed(s) for class: 1.\n",
      "[2024-11-06 15:17:32,561 - root - INFO] \tFound 1 valid seed(s) after: 1 iterations.\n",
      "[2024-11-06 15:17:32,563 - root - INFO] Running Search-Algorithm for 20 generations.\n"
     ]
    },
    {
     "name": "stderr",
     "output_type": "stream",
     "text": [
      "/home/oliver/PycharmProjects/NeuralStyle/src/objective_functions/_ssim.py:40: RuntimeWarning: invalid value encountered in sqrt\n",
      "  d = np.sqrt(2-s1-s2)\n"
     ]
    },
    {
     "name": "stdout",
     "output_type": "stream",
     "text": [
      "[2024-11-06 15:17:34,793 - root - INFO] \tBest candidate has a fitness of: 0.29421772992985784\n",
      "[2024-11-06 15:17:34,796 - root - INFO] \tReset learner!\n"
     ]
    },
    {
     "data": {
      "text/plain": [
       "<IPython.core.display.HTML object>"
      ],
      "text/html": [
       "Finishing last run (ID:ry9q6vuz) before initializing another..."
      ]
     },
     "metadata": {},
     "output_type": "display_data"
    },
    {
     "data": {
      "text/plain": [
       "<IPython.core.display.HTML object>"
      ],
      "text/html": [
       "Waiting for W&B process to finish... <strong style=\"color:green\">(success).</strong>"
      ]
     },
     "metadata": {},
     "output_type": "display_data"
    },
    {
     "data": {
      "text/plain": [
       "<IPython.core.display.HTML object>"
      ],
      "text/html": [
       "<style>\n",
       "    table.wandb td:nth-child(1) { padding: 0 10px; text-align: left ; width: auto;} td:nth-child(2) {text-align: left ; width: 100%}\n",
       "    .wandb-row { display: flex; flex-direction: row; flex-wrap: wrap; justify-content: flex-start; width: 100% }\n",
       "    .wandb-col { display: flex; flex-direction: column; flex-basis: 100%; flex: 1; padding: 10px; }\n",
       "    </style>\n",
       "<div class=\"wandb-row\"><div class=\"wandb-col\"><h3>Run history:</h3><br/><table class=\"wandb\"><tr><td>max_fitness</td><td>▁▃▂▃▃▂▃▄▅▁▂▂▄▂▇▄▃█▇▅</td></tr><tr><td>mean_fitness</td><td>█▆▇▇▄▄▄▅▃▃▁▄▄▁▅▄▃▄▇█</td></tr><tr><td>min_fitness</td><td>█▆▆▄▄▅▅▄▂▄▃▄▃▃▂▂▃▁▃▂</td></tr><tr><td>std_fitness</td><td>▁▂▃▄▃▃▃▅▆▄▆▄▆▄█▇▇█▇▇</td></tr></table><br/></div><div class=\"wandb-col\"><h3>Run summary:</h3><br/><table class=\"wandb\"><tr><td>best_fitness</td><td>0.29422</td></tr><tr><td>max_fitness</td><td>0.75308</td></tr><tr><td>mean_fitness</td><td>0.56906</td></tr><tr><td>min_fitness</td><td>0.31883</td></tr><tr><td>std_fitness</td><td>0.11698</td></tr></table><br/></div></div>"
      ]
     },
     "metadata": {},
     "output_type": "display_data"
    },
    {
     "data": {
      "text/plain": [
       "<IPython.core.display.HTML object>"
      ],
      "text/html": [
       "Synced <strong style=\"color:#cdcd00\">colorful-vortex-74</strong>: <a href=\"https://wandb.ai/oliverweissl/NeuralStyleSearch/runs/ry9q6vuz\" target=\"_blank\">https://wandb.ai/oliverweissl/NeuralStyleSearch/runs/ry9q6vuz</a><br/>Synced 6 W&B file(s), 2 media file(s), 0 artifact file(s) and 0 other file(s)"
      ]
     },
     "metadata": {},
     "output_type": "display_data"
    },
    {
     "data": {
      "text/plain": [
       "<IPython.core.display.HTML object>"
      ],
      "text/html": [
       "Find logs at: <code>./wandb/run-20241106_151724-ry9q6vuz/logs</code>"
      ]
     },
     "metadata": {},
     "output_type": "display_data"
    },
    {
     "data": {
      "text/plain": [
       "<IPython.core.display.HTML object>"
      ],
      "text/html": [
       "Successfully finished last run (ID:ry9q6vuz). Initializing new run:<br/>"
      ]
     },
     "metadata": {},
     "output_type": "display_data"
    },
    {
     "data": {
      "text/plain": [
       "<IPython.core.display.HTML object>"
      ],
      "text/html": [
       "wandb version 0.18.5 is available!  To upgrade, please run:\n",
       " $ pip install wandb --upgrade"
      ]
     },
     "metadata": {},
     "output_type": "display_data"
    },
    {
     "data": {
      "text/plain": [
       "<IPython.core.display.HTML object>"
      ],
      "text/html": [
       "Tracking run with wandb version 0.13.5"
      ]
     },
     "metadata": {},
     "output_type": "display_data"
    },
    {
     "data": {
      "text/plain": [
       "<IPython.core.display.HTML object>"
      ],
      "text/html": [
       "Run data is saved locally in <code>/home/oliver/PycharmProjects/NeuralStyle/wandb/run-20241106_151734-hl7tvqq6</code>"
      ]
     },
     "metadata": {},
     "output_type": "display_data"
    },
    {
     "data": {
      "text/plain": [
       "<IPython.core.display.HTML object>"
      ],
      "text/html": [
       "Syncing run <strong><a href=\"https://wandb.ai/oliverweissl/NeuralStyleSearch/runs/hl7tvqq6\" target=\"_blank\">jolly-silence-75</a></strong> to <a href=\"https://wandb.ai/oliverweissl/NeuralStyleSearch\" target=\"_blank\">Weights & Biases</a> (<a href=\"https://wandb.me/run\" target=\"_blank\">docs</a>)<br/>"
      ]
     },
     "metadata": {},
     "output_type": "display_data"
    },
    {
     "name": "stdout",
     "output_type": "stream",
     "text": [
      "[2024-11-06 15:17:43,240 - root - INFO] Generate seed(s) for class: 1.\n",
      "[2024-11-06 15:17:43,508 - root - INFO] \tFound 1 valid seed(s) after: 46 iterations.\n",
      "[2024-11-06 15:17:43,511 - root - INFO] Running Search-Algorithm for 20 generations.\n"
     ]
    },
    {
     "name": "stderr",
     "output_type": "stream",
     "text": [
      "/home/oliver/PycharmProjects/NeuralStyle/src/objective_functions/_ssim.py:40: RuntimeWarning: invalid value encountered in sqrt\n",
      "  d = np.sqrt(2-s1-s2)\n"
     ]
    },
    {
     "name": "stdout",
     "output_type": "stream",
     "text": [
      "[2024-11-06 15:17:45,725 - root - INFO] \tBest candidate has a fitness of: 0.2640744689740473\n",
      "[2024-11-06 15:17:45,727 - root - INFO] \tReset learner!\n"
     ]
    },
    {
     "data": {
      "text/plain": [
       "<IPython.core.display.HTML object>"
      ],
      "text/html": [
       "Finishing last run (ID:hl7tvqq6) before initializing another..."
      ]
     },
     "metadata": {},
     "output_type": "display_data"
    },
    {
     "data": {
      "text/plain": [
       "<IPython.core.display.HTML object>"
      ],
      "text/html": [
       "Waiting for W&B process to finish... <strong style=\"color:green\">(success).</strong>"
      ]
     },
     "metadata": {},
     "output_type": "display_data"
    },
    {
     "data": {
      "text/plain": [
       "<IPython.core.display.HTML object>"
      ],
      "text/html": [
       "<style>\n",
       "    table.wandb td:nth-child(1) { padding: 0 10px; text-align: left ; width: auto;} td:nth-child(2) {text-align: left ; width: 100%}\n",
       "    .wandb-row { display: flex; flex-direction: row; flex-wrap: wrap; justify-content: flex-start; width: 100% }\n",
       "    .wandb-col { display: flex; flex-direction: column; flex-basis: 100%; flex: 1; padding: 10px; }\n",
       "    </style>\n",
       "<div class=\"wandb-row\"><div class=\"wandb-col\"><h3>Run history:</h3><br/><table class=\"wandb\"><tr><td>max_fitness</td><td>▁▂▅▆▃▅▆▆▅▆▅▆▅▅▄ ▄█▆▆</td></tr><tr><td>mean_fitness</td><td>▃▂▂▁▂▂▃▃▅▁▂▃▁▆▅ ██▅▄</td></tr><tr><td>min_fitness</td><td>▇▅▇▄▄▅▆▆█▄▃▂▁▆▃ ▇▅▄▆</td></tr><tr><td>std_fitness</td><td>▁▃▅▅▆▆▄▆▂▇▆██▆▅ ▃▇▆▅</td></tr></table><br/></div><div class=\"wandb-col\"><h3>Run summary:</h3><br/><table class=\"wandb\"><tr><td>best_fitness</td><td>0.26407</td></tr><tr><td>max_fitness</td><td>0.62626</td></tr><tr><td>mean_fitness</td><td>0.47439</td></tr><tr><td>min_fitness</td><td>0.33493</td></tr><tr><td>std_fitness</td><td>0.07393</td></tr></table><br/></div></div>"
      ]
     },
     "metadata": {},
     "output_type": "display_data"
    },
    {
     "data": {
      "text/plain": [
       "<IPython.core.display.HTML object>"
      ],
      "text/html": [
       "Synced <strong style=\"color:#cdcd00\">jolly-silence-75</strong>: <a href=\"https://wandb.ai/oliverweissl/NeuralStyleSearch/runs/hl7tvqq6\" target=\"_blank\">https://wandb.ai/oliverweissl/NeuralStyleSearch/runs/hl7tvqq6</a><br/>Synced 6 W&B file(s), 2 media file(s), 0 artifact file(s) and 0 other file(s)"
      ]
     },
     "metadata": {},
     "output_type": "display_data"
    },
    {
     "data": {
      "text/plain": [
       "<IPython.core.display.HTML object>"
      ],
      "text/html": [
       "Find logs at: <code>./wandb/run-20241106_151734-hl7tvqq6/logs</code>"
      ]
     },
     "metadata": {},
     "output_type": "display_data"
    },
    {
     "data": {
      "text/plain": [
       "<IPython.core.display.HTML object>"
      ],
      "text/html": [
       "Successfully finished last run (ID:hl7tvqq6). Initializing new run:<br/>"
      ]
     },
     "metadata": {},
     "output_type": "display_data"
    },
    {
     "data": {
      "text/plain": [
       "<IPython.core.display.HTML object>"
      ],
      "text/html": [
       "wandb version 0.18.5 is available!  To upgrade, please run:\n",
       " $ pip install wandb --upgrade"
      ]
     },
     "metadata": {},
     "output_type": "display_data"
    },
    {
     "data": {
      "text/plain": [
       "<IPython.core.display.HTML object>"
      ],
      "text/html": [
       "Tracking run with wandb version 0.13.5"
      ]
     },
     "metadata": {},
     "output_type": "display_data"
    },
    {
     "data": {
      "text/plain": [
       "<IPython.core.display.HTML object>"
      ],
      "text/html": [
       "Run data is saved locally in <code>/home/oliver/PycharmProjects/NeuralStyle/wandb/run-20241106_151745-1k1akq1m</code>"
      ]
     },
     "metadata": {},
     "output_type": "display_data"
    },
    {
     "data": {
      "text/plain": [
       "<IPython.core.display.HTML object>"
      ],
      "text/html": [
       "Syncing run <strong><a href=\"https://wandb.ai/oliverweissl/NeuralStyleSearch/runs/1k1akq1m\" target=\"_blank\">zany-cosmos-76</a></strong> to <a href=\"https://wandb.ai/oliverweissl/NeuralStyleSearch\" target=\"_blank\">Weights & Biases</a> (<a href=\"https://wandb.me/run\" target=\"_blank\">docs</a>)<br/>"
      ]
     },
     "metadata": {},
     "output_type": "display_data"
    },
    {
     "name": "stdout",
     "output_type": "stream",
     "text": [
      "[2024-11-06 15:17:54,175 - root - INFO] Generate seed(s) for class: 1.\n",
      "[2024-11-06 15:17:54,191 - root - INFO] \tFound 1 valid seed(s) after: 1 iterations.\n",
      "[2024-11-06 15:17:54,195 - root - INFO] Running Search-Algorithm for 20 generations.\n",
      "[2024-11-06 15:17:56,451 - root - INFO] \tBest candidate has a fitness of: 0.2543449643887812\n",
      "[2024-11-06 15:17:56,453 - root - INFO] \tReset learner!\n"
     ]
    },
    {
     "data": {
      "text/plain": [
       "<IPython.core.display.HTML object>"
      ],
      "text/html": [
       "Finishing last run (ID:1k1akq1m) before initializing another..."
      ]
     },
     "metadata": {},
     "output_type": "display_data"
    },
    {
     "data": {
      "text/plain": [
       "<IPython.core.display.HTML object>"
      ],
      "text/html": [
       "Waiting for W&B process to finish... <strong style=\"color:green\">(success).</strong>"
      ]
     },
     "metadata": {},
     "output_type": "display_data"
    },
    {
     "data": {
      "text/plain": [
       "<IPython.core.display.HTML object>"
      ],
      "text/html": [
       "<style>\n",
       "    table.wandb td:nth-child(1) { padding: 0 10px; text-align: left ; width: auto;} td:nth-child(2) {text-align: left ; width: 100%}\n",
       "    .wandb-row { display: flex; flex-direction: row; flex-wrap: wrap; justify-content: flex-start; width: 100% }\n",
       "    .wandb-col { display: flex; flex-direction: column; flex-basis: 100%; flex: 1; padding: 10px; }\n",
       "    </style>\n",
       "<div class=\"wandb-row\"><div class=\"wandb-col\"><h3>Run history:</h3><br/><table class=\"wandb\"><tr><td>max_fitness</td><td>██▁██████▄█▄████▃█▅▅</td></tr><tr><td>mean_fitness</td><td>▄▂▁▃▄▂▄▃▃▃▃▅▆▆▅█▅▇▆▇</td></tr><tr><td>min_fitness</td><td>▇▆▇▁▄▁▃▂▇▅▆▄▇▅▇▇▆▆█▇</td></tr><tr><td>std_fitness</td><td>▇▆▁█▅▅▅▇▅▅▅▅▆▆▅█▄▇▄▄</td></tr></table><br/></div><div class=\"wandb-col\"><h3>Run summary:</h3><br/><table class=\"wandb\"><tr><td>best_fitness</td><td>0.25434</td></tr><tr><td>max_fitness</td><td>0.8341</td></tr><tr><td>mean_fitness</td><td>0.59467</td></tr><tr><td>min_fitness</td><td>0.39632</td></tr><tr><td>std_fitness</td><td>0.10459</td></tr></table><br/></div></div>"
      ]
     },
     "metadata": {},
     "output_type": "display_data"
    },
    {
     "data": {
      "text/plain": [
       "<IPython.core.display.HTML object>"
      ],
      "text/html": [
       "Synced <strong style=\"color:#cdcd00\">zany-cosmos-76</strong>: <a href=\"https://wandb.ai/oliverweissl/NeuralStyleSearch/runs/1k1akq1m\" target=\"_blank\">https://wandb.ai/oliverweissl/NeuralStyleSearch/runs/1k1akq1m</a><br/>Synced 6 W&B file(s), 2 media file(s), 0 artifact file(s) and 0 other file(s)"
      ]
     },
     "metadata": {},
     "output_type": "display_data"
    },
    {
     "data": {
      "text/plain": [
       "<IPython.core.display.HTML object>"
      ],
      "text/html": [
       "Find logs at: <code>./wandb/run-20241106_151745-1k1akq1m/logs</code>"
      ]
     },
     "metadata": {},
     "output_type": "display_data"
    },
    {
     "data": {
      "text/plain": [
       "<IPython.core.display.HTML object>"
      ],
      "text/html": [
       "Successfully finished last run (ID:1k1akq1m). Initializing new run:<br/>"
      ]
     },
     "metadata": {},
     "output_type": "display_data"
    },
    {
     "data": {
      "text/plain": [
       "<IPython.core.display.HTML object>"
      ],
      "text/html": [
       "wandb version 0.18.5 is available!  To upgrade, please run:\n",
       " $ pip install wandb --upgrade"
      ]
     },
     "metadata": {},
     "output_type": "display_data"
    },
    {
     "data": {
      "text/plain": [
       "<IPython.core.display.HTML object>"
      ],
      "text/html": [
       "Tracking run with wandb version 0.13.5"
      ]
     },
     "metadata": {},
     "output_type": "display_data"
    },
    {
     "data": {
      "text/plain": [
       "<IPython.core.display.HTML object>"
      ],
      "text/html": [
       "Run data is saved locally in <code>/home/oliver/PycharmProjects/NeuralStyle/wandb/run-20241106_151756-jxpkwooc</code>"
      ]
     },
     "metadata": {},
     "output_type": "display_data"
    },
    {
     "data": {
      "text/plain": [
       "<IPython.core.display.HTML object>"
      ],
      "text/html": [
       "Syncing run <strong><a href=\"https://wandb.ai/oliverweissl/NeuralStyleSearch/runs/jxpkwooc\" target=\"_blank\">fresh-cloud-77</a></strong> to <a href=\"https://wandb.ai/oliverweissl/NeuralStyleSearch\" target=\"_blank\">Weights & Biases</a> (<a href=\"https://wandb.me/run\" target=\"_blank\">docs</a>)<br/>"
      ]
     },
     "metadata": {},
     "output_type": "display_data"
    },
    {
     "name": "stdout",
     "output_type": "stream",
     "text": [
      "[2024-11-06 15:18:04,103 - root - INFO] Generate seed(s) for class: 1.\n",
      "[2024-11-06 15:18:04,111 - root - INFO] \tFound 1 valid seed(s) after: 1 iterations.\n",
      "[2024-11-06 15:18:04,113 - root - INFO] Running Search-Algorithm for 20 generations.\n",
      "[2024-11-06 15:18:06,335 - root - INFO] \tBest candidate has a fitness of: 0.22042539155858099\n",
      "[2024-11-06 15:18:06,338 - root - INFO] \tReset learner!\n"
     ]
    },
    {
     "data": {
      "text/plain": [
       "<IPython.core.display.HTML object>"
      ],
      "text/html": [
       "Finishing last run (ID:jxpkwooc) before initializing another..."
      ]
     },
     "metadata": {},
     "output_type": "display_data"
    },
    {
     "data": {
      "text/plain": [
       "<IPython.core.display.HTML object>"
      ],
      "text/html": [
       "Waiting for W&B process to finish... <strong style=\"color:green\">(success).</strong>"
      ]
     },
     "metadata": {},
     "output_type": "display_data"
    },
    {
     "data": {
      "text/plain": [
       "<IPython.core.display.HTML object>"
      ],
      "text/html": [
       "<style>\n",
       "    table.wandb td:nth-child(1) { padding: 0 10px; text-align: left ; width: auto;} td:nth-child(2) {text-align: left ; width: 100%}\n",
       "    .wandb-row { display: flex; flex-direction: row; flex-wrap: wrap; justify-content: flex-start; width: 100% }\n",
       "    .wandb-col { display: flex; flex-direction: column; flex-basis: 100%; flex: 1; padding: 10px; }\n",
       "    </style>\n",
       "<div class=\"wandb-row\"><div class=\"wandb-col\"><h3>Run history:</h3><br/><table class=\"wandb\"><tr><td>max_fitness</td><td>▂▁▂▃▄▃▄▅▇▅▄▇▇▇▇▆▅▆█▆</td></tr><tr><td>mean_fitness</td><td>▁▁▁▃▂▂▃▂▇▅▇▆▅██▅▅▄▇▇</td></tr><tr><td>min_fitness</td><td>█▇▄▅▄▂▂▃█▃▅▂▆█▆▃▃▁▃▄</td></tr><tr><td>std_fitness</td><td>▁▁▂▅▅▅▅▅▅▄▅▇▆▆▆▆▇▇██</td></tr></table><br/></div><div class=\"wandb-col\"><h3>Run summary:</h3><br/><table class=\"wandb\"><tr><td>best_fitness</td><td>0.22043</td></tr><tr><td>max_fitness</td><td>0.58506</td></tr><tr><td>mean_fitness</td><td>0.4404</td></tr><tr><td>min_fitness</td><td>0.26734</td></tr><tr><td>std_fitness</td><td>0.08862</td></tr></table><br/></div></div>"
      ]
     },
     "metadata": {},
     "output_type": "display_data"
    },
    {
     "data": {
      "text/plain": [
       "<IPython.core.display.HTML object>"
      ],
      "text/html": [
       "Synced <strong style=\"color:#cdcd00\">fresh-cloud-77</strong>: <a href=\"https://wandb.ai/oliverweissl/NeuralStyleSearch/runs/jxpkwooc\" target=\"_blank\">https://wandb.ai/oliverweissl/NeuralStyleSearch/runs/jxpkwooc</a><br/>Synced 6 W&B file(s), 2 media file(s), 0 artifact file(s) and 0 other file(s)"
      ]
     },
     "metadata": {},
     "output_type": "display_data"
    },
    {
     "data": {
      "text/plain": [
       "<IPython.core.display.HTML object>"
      ],
      "text/html": [
       "Find logs at: <code>./wandb/run-20241106_151756-jxpkwooc/logs</code>"
      ]
     },
     "metadata": {},
     "output_type": "display_data"
    },
    {
     "data": {
      "text/plain": [
       "<IPython.core.display.HTML object>"
      ],
      "text/html": [
       "Successfully finished last run (ID:jxpkwooc). Initializing new run:<br/>"
      ]
     },
     "metadata": {},
     "output_type": "display_data"
    },
    {
     "data": {
      "text/plain": [
       "<IPython.core.display.HTML object>"
      ],
      "text/html": [
       "wandb version 0.18.5 is available!  To upgrade, please run:\n",
       " $ pip install wandb --upgrade"
      ]
     },
     "metadata": {},
     "output_type": "display_data"
    },
    {
     "data": {
      "text/plain": [
       "<IPython.core.display.HTML object>"
      ],
      "text/html": [
       "Tracking run with wandb version 0.13.5"
      ]
     },
     "metadata": {},
     "output_type": "display_data"
    },
    {
     "data": {
      "text/plain": [
       "<IPython.core.display.HTML object>"
      ],
      "text/html": [
       "Run data is saved locally in <code>/home/oliver/PycharmProjects/NeuralStyle/wandb/run-20241106_151806-lkddis3u</code>"
      ]
     },
     "metadata": {},
     "output_type": "display_data"
    },
    {
     "data": {
      "text/plain": [
       "<IPython.core.display.HTML object>"
      ],
      "text/html": [
       "Syncing run <strong><a href=\"https://wandb.ai/oliverweissl/NeuralStyleSearch/runs/lkddis3u\" target=\"_blank\">brisk-leaf-78</a></strong> to <a href=\"https://wandb.ai/oliverweissl/NeuralStyleSearch\" target=\"_blank\">Weights & Biases</a> (<a href=\"https://wandb.me/run\" target=\"_blank\">docs</a>)<br/>"
      ]
     },
     "metadata": {},
     "output_type": "display_data"
    },
    {
     "name": "stdout",
     "output_type": "stream",
     "text": [
      "[2024-11-06 15:18:13,922 - root - INFO] Generate seed(s) for class: 1.\n",
      "[2024-11-06 15:18:13,930 - root - INFO] \tFound 1 valid seed(s) after: 1 iterations.\n",
      "[2024-11-06 15:18:13,934 - root - INFO] Running Search-Algorithm for 20 generations.\n"
     ]
    },
    {
     "name": "stderr",
     "output_type": "stream",
     "text": [
      "/home/oliver/PycharmProjects/NeuralStyle/src/objective_functions/_ssim.py:40: RuntimeWarning: invalid value encountered in sqrt\n",
      "  d = np.sqrt(2-s1-s2)\n"
     ]
    },
    {
     "name": "stdout",
     "output_type": "stream",
     "text": [
      "[2024-11-06 15:18:16,220 - root - INFO] \tBest candidate has a fitness of: 0.23625412023442327\n",
      "[2024-11-06 15:18:16,222 - root - INFO] \tReset learner!\n"
     ]
    },
    {
     "data": {
      "text/plain": [
       "<IPython.core.display.HTML object>"
      ],
      "text/html": [
       "Finishing last run (ID:lkddis3u) before initializing another..."
      ]
     },
     "metadata": {},
     "output_type": "display_data"
    },
    {
     "data": {
      "text/plain": [
       "<IPython.core.display.HTML object>"
      ],
      "text/html": [
       "Waiting for W&B process to finish... <strong style=\"color:green\">(success).</strong>"
      ]
     },
     "metadata": {},
     "output_type": "display_data"
    },
    {
     "data": {
      "text/plain": [
       "<IPython.core.display.HTML object>"
      ],
      "text/html": [
       "<style>\n",
       "    table.wandb td:nth-child(1) { padding: 0 10px; text-align: left ; width: auto;} td:nth-child(2) {text-align: left ; width: 100%}\n",
       "    .wandb-row { display: flex; flex-direction: row; flex-wrap: wrap; justify-content: flex-start; width: 100% }\n",
       "    .wandb-col { display: flex; flex-direction: column; flex-basis: 100%; flex: 1; padding: 10px; }\n",
       "    </style>\n",
       "<div class=\"wandb-row\"><div class=\"wandb-col\"><h3>Run history:</h3><br/><table class=\"wandb\"><tr><td>max_fitness</td><td>▁▃▃▅▄▄▄▇▇▅▆▅▆▄▆█ ▆█▇</td></tr><tr><td>mean_fitness</td><td>▅▅▅▆▆▄▄▅▄▄▃▃▁▂▃▆ ▇██</td></tr><tr><td>min_fitness</td><td>█▇▄▅▃▅▃▃▅▃▄▂▁▃▂▃ ▅▅▄</td></tr><tr><td>std_fitness</td><td>▁▂▃▄▅▄▅▆▅▅▅▇▇▆██ ▆▇▇</td></tr></table><br/></div><div class=\"wandb-col\"><h3>Run summary:</h3><br/><table class=\"wandb\"><tr><td>best_fitness</td><td>0.23625</td></tr><tr><td>max_fitness</td><td>0.56551</td></tr><tr><td>mean_fitness</td><td>0.43299</td></tr><tr><td>min_fitness</td><td>0.28379</td></tr><tr><td>std_fitness</td><td>0.07101</td></tr></table><br/></div></div>"
      ]
     },
     "metadata": {},
     "output_type": "display_data"
    },
    {
     "data": {
      "text/plain": [
       "<IPython.core.display.HTML object>"
      ],
      "text/html": [
       "Synced <strong style=\"color:#cdcd00\">brisk-leaf-78</strong>: <a href=\"https://wandb.ai/oliverweissl/NeuralStyleSearch/runs/lkddis3u\" target=\"_blank\">https://wandb.ai/oliverweissl/NeuralStyleSearch/runs/lkddis3u</a><br/>Synced 6 W&B file(s), 2 media file(s), 0 artifact file(s) and 0 other file(s)"
      ]
     },
     "metadata": {},
     "output_type": "display_data"
    },
    {
     "data": {
      "text/plain": [
       "<IPython.core.display.HTML object>"
      ],
      "text/html": [
       "Find logs at: <code>./wandb/run-20241106_151806-lkddis3u/logs</code>"
      ]
     },
     "metadata": {},
     "output_type": "display_data"
    },
    {
     "data": {
      "text/plain": [
       "<IPython.core.display.HTML object>"
      ],
      "text/html": [
       "Successfully finished last run (ID:lkddis3u). Initializing new run:<br/>"
      ]
     },
     "metadata": {},
     "output_type": "display_data"
    },
    {
     "data": {
      "text/plain": [
       "<IPython.core.display.HTML object>"
      ],
      "text/html": [
       "wandb version 0.18.5 is available!  To upgrade, please run:\n",
       " $ pip install wandb --upgrade"
      ]
     },
     "metadata": {},
     "output_type": "display_data"
    },
    {
     "data": {
      "text/plain": [
       "<IPython.core.display.HTML object>"
      ],
      "text/html": [
       "Tracking run with wandb version 0.13.5"
      ]
     },
     "metadata": {},
     "output_type": "display_data"
    },
    {
     "data": {
      "text/plain": [
       "<IPython.core.display.HTML object>"
      ],
      "text/html": [
       "Run data is saved locally in <code>/home/oliver/PycharmProjects/NeuralStyle/wandb/run-20241106_151816-zqoo9pwz</code>"
      ]
     },
     "metadata": {},
     "output_type": "display_data"
    },
    {
     "data": {
      "text/plain": [
       "<IPython.core.display.HTML object>"
      ],
      "text/html": [
       "Syncing run <strong><a href=\"https://wandb.ai/oliverweissl/NeuralStyleSearch/runs/zqoo9pwz\" target=\"_blank\">iconic-tree-79</a></strong> to <a href=\"https://wandb.ai/oliverweissl/NeuralStyleSearch\" target=\"_blank\">Weights & Biases</a> (<a href=\"https://wandb.me/run\" target=\"_blank\">docs</a>)<br/>"
      ]
     },
     "metadata": {},
     "output_type": "display_data"
    },
    {
     "name": "stdout",
     "output_type": "stream",
     "text": [
      "[2024-11-06 15:18:24,932 - root - INFO] Generate seed(s) for class: 1.\n",
      "[2024-11-06 15:18:25,506 - root - INFO] \tFound 1 valid seed(s) after: 99 iterations.\n",
      "[2024-11-06 15:18:25,508 - root - INFO] Running Search-Algorithm for 20 generations.\n",
      "[2024-11-06 15:18:27,820 - root - INFO] \tBest candidate has a fitness of: 0.42079689538853704\n",
      "[2024-11-06 15:18:27,823 - root - INFO] \tReset learner!\n"
     ]
    },
    {
     "name": "stderr",
     "output_type": "stream",
     "text": [
      "/home/oliver/PycharmProjects/NeuralStyle/src/objective_functions/_ssim.py:40: RuntimeWarning: invalid value encountered in sqrt\n",
      "  d = np.sqrt(2-s1-s2)\n"
     ]
    },
    {
     "data": {
      "text/plain": [
       "<IPython.core.display.HTML object>"
      ],
      "text/html": [
       "Finishing last run (ID:zqoo9pwz) before initializing another..."
      ]
     },
     "metadata": {},
     "output_type": "display_data"
    },
    {
     "data": {
      "text/plain": [
       "<IPython.core.display.HTML object>"
      ],
      "text/html": [
       "Waiting for W&B process to finish... <strong style=\"color:green\">(success).</strong>"
      ]
     },
     "metadata": {},
     "output_type": "display_data"
    },
    {
     "data": {
      "text/plain": [
       "<IPython.core.display.HTML object>"
      ],
      "text/html": [
       "<style>\n",
       "    table.wandb td:nth-child(1) { padding: 0 10px; text-align: left ; width: auto;} td:nth-child(2) {text-align: left ; width: 100%}\n",
       "    .wandb-row { display: flex; flex-direction: row; flex-wrap: wrap; justify-content: flex-start; width: 100% }\n",
       "    .wandb-col { display: flex; flex-direction: column; flex-basis: 100%; flex: 1; padding: 10px; }\n",
       "    </style>\n",
       "<div class=\"wandb-row\"><div class=\"wandb-col\"><h3>Run history:</h3><br/><table class=\"wandb\"><tr><td>max_fitness</td><td>▁▂▃▄▃▇▂▅▆▃▃▆▄▇█▄█▄ ▅</td></tr><tr><td>mean_fitness</td><td>█▇▇▆▅▄▃▄▃▁▂▄▅▅▄▆▄▃ ▂</td></tr><tr><td>min_fitness</td><td>██▅▁▁▃▁▂▁▂▁▃▂▂▃▄▂▃ ▃</td></tr><tr><td>std_fitness</td><td>▁▂▃▄▆▇▅▆█▆▆▆▆▆▆▅▇▆ ▇</td></tr></table><br/></div><div class=\"wandb-col\"><h3>Run summary:</h3><br/><table class=\"wandb\"><tr><td>best_fitness</td><td>0.4208</td></tr><tr><td>max_fitness</td><td>0.77224</td></tr><tr><td>mean_fitness</td><td>0.60229</td></tr><tr><td>min_fitness</td><td>0.4592</td></tr><tr><td>std_fitness</td><td>0.0827</td></tr></table><br/></div></div>"
      ]
     },
     "metadata": {},
     "output_type": "display_data"
    },
    {
     "data": {
      "text/plain": [
       "<IPython.core.display.HTML object>"
      ],
      "text/html": [
       "Synced <strong style=\"color:#cdcd00\">iconic-tree-79</strong>: <a href=\"https://wandb.ai/oliverweissl/NeuralStyleSearch/runs/zqoo9pwz\" target=\"_blank\">https://wandb.ai/oliverweissl/NeuralStyleSearch/runs/zqoo9pwz</a><br/>Synced 6 W&B file(s), 2 media file(s), 0 artifact file(s) and 0 other file(s)"
      ]
     },
     "metadata": {},
     "output_type": "display_data"
    },
    {
     "data": {
      "text/plain": [
       "<IPython.core.display.HTML object>"
      ],
      "text/html": [
       "Find logs at: <code>./wandb/run-20241106_151816-zqoo9pwz/logs</code>"
      ]
     },
     "metadata": {},
     "output_type": "display_data"
    },
    {
     "data": {
      "text/plain": [
       "<IPython.core.display.HTML object>"
      ],
      "text/html": [
       "Successfully finished last run (ID:zqoo9pwz). Initializing new run:<br/>"
      ]
     },
     "metadata": {},
     "output_type": "display_data"
    },
    {
     "data": {
      "text/plain": [
       "<IPython.core.display.HTML object>"
      ],
      "text/html": [
       "wandb version 0.18.5 is available!  To upgrade, please run:\n",
       " $ pip install wandb --upgrade"
      ]
     },
     "metadata": {},
     "output_type": "display_data"
    },
    {
     "data": {
      "text/plain": [
       "<IPython.core.display.HTML object>"
      ],
      "text/html": [
       "Tracking run with wandb version 0.13.5"
      ]
     },
     "metadata": {},
     "output_type": "display_data"
    },
    {
     "data": {
      "text/plain": [
       "<IPython.core.display.HTML object>"
      ],
      "text/html": [
       "Run data is saved locally in <code>/home/oliver/PycharmProjects/NeuralStyle/wandb/run-20241106_151827-zrj8hnlb</code>"
      ]
     },
     "metadata": {},
     "output_type": "display_data"
    },
    {
     "data": {
      "text/plain": [
       "<IPython.core.display.HTML object>"
      ],
      "text/html": [
       "Syncing run <strong><a href=\"https://wandb.ai/oliverweissl/NeuralStyleSearch/runs/zrj8hnlb\" target=\"_blank\">cerulean-deluge-80</a></strong> to <a href=\"https://wandb.ai/oliverweissl/NeuralStyleSearch\" target=\"_blank\">Weights & Biases</a> (<a href=\"https://wandb.me/run\" target=\"_blank\">docs</a>)<br/>"
      ]
     },
     "metadata": {},
     "output_type": "display_data"
    },
    {
     "name": "stdout",
     "output_type": "stream",
     "text": [
      "[2024-11-06 15:18:36,113 - root - INFO] Generate seed(s) for class: 1.\n",
      "[2024-11-06 15:18:36,121 - root - INFO] \tFound 1 valid seed(s) after: 1 iterations.\n",
      "[2024-11-06 15:18:36,123 - root - INFO] Running Search-Algorithm for 20 generations.\n",
      "[2024-11-06 15:18:38,349 - root - INFO] \tBest candidate has a fitness of: 0.3016009572781855\n",
      "[2024-11-06 15:18:38,351 - root - INFO] \tReset learner!\n"
     ]
    },
    {
     "data": {
      "text/plain": [
       "<IPython.core.display.HTML object>"
      ],
      "text/html": [
       "Finishing last run (ID:zrj8hnlb) before initializing another..."
      ]
     },
     "metadata": {},
     "output_type": "display_data"
    },
    {
     "data": {
      "text/plain": [
       "<IPython.core.display.HTML object>"
      ],
      "text/html": [
       "Waiting for W&B process to finish... <strong style=\"color:green\">(success).</strong>"
      ]
     },
     "metadata": {},
     "output_type": "display_data"
    },
    {
     "data": {
      "text/plain": [
       "<IPython.core.display.HTML object>"
      ],
      "text/html": [
       "<style>\n",
       "    table.wandb td:nth-child(1) { padding: 0 10px; text-align: left ; width: auto;} td:nth-child(2) {text-align: left ; width: 100%}\n",
       "    .wandb-row { display: flex; flex-direction: row; flex-wrap: wrap; justify-content: flex-start; width: 100% }\n",
       "    .wandb-col { display: flex; flex-direction: column; flex-basis: 100%; flex: 1; padding: 10px; }\n",
       "    </style>\n",
       "<div class=\"wandb-row\"><div class=\"wandb-col\"><h3>Run history:</h3><br/><table class=\"wandb\"><tr><td>max_fitness</td><td>▁▄▃▂▃▃▅▄▇█▅█▄▆▇▅▆▄▅▅</td></tr><tr><td>mean_fitness</td><td>▇▆▆▆▆▆█▆▅▃▂▂▃▄▆▇▄▅▂▁</td></tr><tr><td>min_fitness</td><td>██▄▆▇▅▂▃▁▄▂▁▅▄▃▅▄▆▂▂</td></tr><tr><td>std_fitness</td><td>▁▂▃▃▂▄▅▅▇▇█▇▅▇▅▅▆▄▆▇</td></tr></table><br/></div><div class=\"wandb-col\"><h3>Run summary:</h3><br/><table class=\"wandb\"><tr><td>best_fitness</td><td>0.3016</td></tr><tr><td>max_fitness</td><td>0.67173</td></tr><tr><td>mean_fitness</td><td>0.49239</td></tr><tr><td>min_fitness</td><td>0.31886</td></tr><tr><td>std_fitness</td><td>0.08928</td></tr></table><br/></div></div>"
      ]
     },
     "metadata": {},
     "output_type": "display_data"
    },
    {
     "data": {
      "text/plain": [
       "<IPython.core.display.HTML object>"
      ],
      "text/html": [
       "Synced <strong style=\"color:#cdcd00\">cerulean-deluge-80</strong>: <a href=\"https://wandb.ai/oliverweissl/NeuralStyleSearch/runs/zrj8hnlb\" target=\"_blank\">https://wandb.ai/oliverweissl/NeuralStyleSearch/runs/zrj8hnlb</a><br/>Synced 6 W&B file(s), 2 media file(s), 0 artifact file(s) and 0 other file(s)"
      ]
     },
     "metadata": {},
     "output_type": "display_data"
    },
    {
     "data": {
      "text/plain": [
       "<IPython.core.display.HTML object>"
      ],
      "text/html": [
       "Find logs at: <code>./wandb/run-20241106_151827-zrj8hnlb/logs</code>"
      ]
     },
     "metadata": {},
     "output_type": "display_data"
    },
    {
     "data": {
      "text/plain": [
       "<IPython.core.display.HTML object>"
      ],
      "text/html": [
       "Successfully finished last run (ID:zrj8hnlb). Initializing new run:<br/>"
      ]
     },
     "metadata": {},
     "output_type": "display_data"
    },
    {
     "data": {
      "text/plain": [
       "<IPython.core.display.HTML object>"
      ],
      "text/html": [
       "wandb version 0.18.5 is available!  To upgrade, please run:\n",
       " $ pip install wandb --upgrade"
      ]
     },
     "metadata": {},
     "output_type": "display_data"
    },
    {
     "data": {
      "text/plain": [
       "<IPython.core.display.HTML object>"
      ],
      "text/html": [
       "Tracking run with wandb version 0.13.5"
      ]
     },
     "metadata": {},
     "output_type": "display_data"
    },
    {
     "data": {
      "text/plain": [
       "<IPython.core.display.HTML object>"
      ],
      "text/html": [
       "Run data is saved locally in <code>/home/oliver/PycharmProjects/NeuralStyle/wandb/run-20241106_151838-eydywkiu</code>"
      ]
     },
     "metadata": {},
     "output_type": "display_data"
    },
    {
     "data": {
      "text/plain": [
       "<IPython.core.display.HTML object>"
      ],
      "text/html": [
       "Syncing run <strong><a href=\"https://wandb.ai/oliverweissl/NeuralStyleSearch/runs/eydywkiu\" target=\"_blank\">young-fire-81</a></strong> to <a href=\"https://wandb.ai/oliverweissl/NeuralStyleSearch\" target=\"_blank\">Weights & Biases</a> (<a href=\"https://wandb.me/run\" target=\"_blank\">docs</a>)<br/>"
      ]
     },
     "metadata": {},
     "output_type": "display_data"
    },
    {
     "name": "stdout",
     "output_type": "stream",
     "text": [
      "[2024-11-06 15:18:46,162 - root - INFO] Generate seed(s) for class: 1.\n",
      "[2024-11-06 15:18:46,171 - root - INFO] \tFound 1 valid seed(s) after: 1 iterations.\n",
      "[2024-11-06 15:18:46,174 - root - INFO] Running Search-Algorithm for 20 generations.\n"
     ]
    },
    {
     "name": "stderr",
     "output_type": "stream",
     "text": [
      "/home/oliver/PycharmProjects/NeuralStyle/src/objective_functions/_ssim.py:40: RuntimeWarning: invalid value encountered in sqrt\n",
      "  d = np.sqrt(2-s1-s2)\n"
     ]
    },
    {
     "name": "stdout",
     "output_type": "stream",
     "text": [
      "[2024-11-06 15:18:48,429 - root - INFO] \tBest candidate has a fitness of: 0.33827104604619085\n",
      "[2024-11-06 15:18:48,431 - root - INFO] \tReset learner!\n"
     ]
    },
    {
     "data": {
      "text/plain": [
       "<IPython.core.display.HTML object>"
      ],
      "text/html": [
       "Finishing last run (ID:eydywkiu) before initializing another..."
      ]
     },
     "metadata": {},
     "output_type": "display_data"
    },
    {
     "data": {
      "text/plain": [
       "<IPython.core.display.HTML object>"
      ],
      "text/html": [
       "Waiting for W&B process to finish... <strong style=\"color:green\">(success).</strong>"
      ]
     },
     "metadata": {},
     "output_type": "display_data"
    },
    {
     "data": {
      "text/plain": [
       "<IPython.core.display.HTML object>"
      ],
      "text/html": [
       "<style>\n",
       "    table.wandb td:nth-child(1) { padding: 0 10px; text-align: left ; width: auto;} td:nth-child(2) {text-align: left ; width: 100%}\n",
       "    .wandb-row { display: flex; flex-direction: row; flex-wrap: wrap; justify-content: flex-start; width: 100% }\n",
       "    .wandb-col { display: flex; flex-direction: column; flex-basis: 100%; flex: 1; padding: 10px; }\n",
       "    </style>\n",
       "<div class=\"wandb-row\"><div class=\"wandb-col\"><h3>Run history:</h3><br/><table class=\"wandb\"><tr><td>max_fitness</td><td>███████████▂ ▁█▁███▁</td></tr><tr><td>mean_fitness</td><td>█▇▆█▄▅▇▅▇▅▆▄ ▄▅▄▅▄▂▁</td></tr><tr><td>min_fitness</td><td>█▇▆▆▄▄▅▆█▄▄▃ ▃▃▅▂▅▁▃</td></tr><tr><td>std_fitness</td><td>▅▅▅█▄▆▇▄▅▄▃▁ ▂▄▁▄▄▅▁</td></tr></table><br/></div><div class=\"wandb-col\"><h3>Run summary:</h3><br/><table class=\"wandb\"><tr><td>best_fitness</td><td>0.33827</td></tr><tr><td>max_fitness</td><td>0.59507</td></tr><tr><td>mean_fitness</td><td>0.4926</td></tr><tr><td>min_fitness</td><td>0.37671</td></tr><tr><td>std_fitness</td><td>0.05591</td></tr></table><br/></div></div>"
      ]
     },
     "metadata": {},
     "output_type": "display_data"
    },
    {
     "data": {
      "text/plain": [
       "<IPython.core.display.HTML object>"
      ],
      "text/html": [
       "Synced <strong style=\"color:#cdcd00\">young-fire-81</strong>: <a href=\"https://wandb.ai/oliverweissl/NeuralStyleSearch/runs/eydywkiu\" target=\"_blank\">https://wandb.ai/oliverweissl/NeuralStyleSearch/runs/eydywkiu</a><br/>Synced 6 W&B file(s), 2 media file(s), 0 artifact file(s) and 0 other file(s)"
      ]
     },
     "metadata": {},
     "output_type": "display_data"
    },
    {
     "data": {
      "text/plain": [
       "<IPython.core.display.HTML object>"
      ],
      "text/html": [
       "Find logs at: <code>./wandb/run-20241106_151838-eydywkiu/logs</code>"
      ]
     },
     "metadata": {},
     "output_type": "display_data"
    },
    {
     "data": {
      "text/plain": [
       "<IPython.core.display.HTML object>"
      ],
      "text/html": [
       "Successfully finished last run (ID:eydywkiu). Initializing new run:<br/>"
      ]
     },
     "metadata": {},
     "output_type": "display_data"
    },
    {
     "data": {
      "text/plain": [
       "<IPython.core.display.HTML object>"
      ],
      "text/html": [
       "wandb version 0.18.5 is available!  To upgrade, please run:\n",
       " $ pip install wandb --upgrade"
      ]
     },
     "metadata": {},
     "output_type": "display_data"
    },
    {
     "data": {
      "text/plain": [
       "<IPython.core.display.HTML object>"
      ],
      "text/html": [
       "Tracking run with wandb version 0.13.5"
      ]
     },
     "metadata": {},
     "output_type": "display_data"
    },
    {
     "data": {
      "text/plain": [
       "<IPython.core.display.HTML object>"
      ],
      "text/html": [
       "Run data is saved locally in <code>/home/oliver/PycharmProjects/NeuralStyle/wandb/run-20241106_151848-pwytuxt4</code>"
      ]
     },
     "metadata": {},
     "output_type": "display_data"
    },
    {
     "data": {
      "text/plain": [
       "<IPython.core.display.HTML object>"
      ],
      "text/html": [
       "Syncing run <strong><a href=\"https://wandb.ai/oliverweissl/NeuralStyleSearch/runs/pwytuxt4\" target=\"_blank\">firm-voice-82</a></strong> to <a href=\"https://wandb.ai/oliverweissl/NeuralStyleSearch\" target=\"_blank\">Weights & Biases</a> (<a href=\"https://wandb.me/run\" target=\"_blank\">docs</a>)<br/>"
      ]
     },
     "metadata": {},
     "output_type": "display_data"
    },
    {
     "name": "stdout",
     "output_type": "stream",
     "text": [
      "[2024-11-06 15:18:56,907 - root - INFO] Generate seed(s) for class: 1.\n",
      "[2024-11-06 15:18:56,915 - root - INFO] \tFound 1 valid seed(s) after: 1 iterations.\n",
      "[2024-11-06 15:18:56,917 - root - INFO] Running Search-Algorithm for 20 generations.\n"
     ]
    },
    {
     "name": "stderr",
     "output_type": "stream",
     "text": [
      "/home/oliver/PycharmProjects/NeuralStyle/src/objective_functions/_ssim.py:40: RuntimeWarning: invalid value encountered in sqrt\n",
      "  d = np.sqrt(2-s1-s2)\n"
     ]
    },
    {
     "name": "stdout",
     "output_type": "stream",
     "text": [
      "[2024-11-06 15:18:59,167 - root - INFO] \tBest candidate has a fitness of: 0.24144222772496282\n",
      "[2024-11-06 15:18:59,170 - root - INFO] \tReset learner!\n"
     ]
    },
    {
     "data": {
      "text/plain": [
       "<IPython.core.display.HTML object>"
      ],
      "text/html": [
       "Finishing last run (ID:pwytuxt4) before initializing another..."
      ]
     },
     "metadata": {},
     "output_type": "display_data"
    },
    {
     "data": {
      "text/plain": [
       "<IPython.core.display.HTML object>"
      ],
      "text/html": [
       "Waiting for W&B process to finish... <strong style=\"color:green\">(success).</strong>"
      ]
     },
     "metadata": {},
     "output_type": "display_data"
    },
    {
     "data": {
      "text/plain": [
       "<IPython.core.display.HTML object>"
      ],
      "text/html": [
       "<style>\n",
       "    table.wandb td:nth-child(1) { padding: 0 10px; text-align: left ; width: auto;} td:nth-child(2) {text-align: left ; width: 100%}\n",
       "    .wandb-row { display: flex; flex-direction: row; flex-wrap: wrap; justify-content: flex-start; width: 100% }\n",
       "    .wandb-col { display: flex; flex-direction: column; flex-basis: 100%; flex: 1; padding: 10px; }\n",
       "    </style>\n",
       "<div class=\"wandb-row\"><div class=\"wandb-col\"><h3>Run history:</h3><br/><table class=\"wandb\"><tr><td>max_fitness</td><td>▁▄▄▅▅▅▄▇▅ ▇ ▆█▅▅▆ ▅ </td></tr><tr><td>mean_fitness</td><td>▁▃▅▅▅▅▆█▇ ▇ ▇▇▆▅▆ ▇ </td></tr><tr><td>min_fitness</td><td>▄▂▃▅▅▃▂▃▃ ▁ ▅▅▄▄█ ▁ </td></tr><tr><td>std_fitness</td><td>▁▅▅▅▅▆▆▇▆ █ ▆█▇▇▅ ▇ </td></tr></table><br/></div><div class=\"wandb-col\"><h3>Run summary:</h3><br/><table class=\"wandb\"><tr><td>best_fitness</td><td>0.24144</td></tr><tr><td>max_fitness</td><td>nan</td></tr><tr><td>mean_fitness</td><td>nan</td></tr><tr><td>min_fitness</td><td>nan</td></tr><tr><td>std_fitness</td><td>nan</td></tr></table><br/></div></div>"
      ]
     },
     "metadata": {},
     "output_type": "display_data"
    },
    {
     "data": {
      "text/plain": [
       "<IPython.core.display.HTML object>"
      ],
      "text/html": [
       "Synced <strong style=\"color:#cdcd00\">firm-voice-82</strong>: <a href=\"https://wandb.ai/oliverweissl/NeuralStyleSearch/runs/pwytuxt4\" target=\"_blank\">https://wandb.ai/oliverweissl/NeuralStyleSearch/runs/pwytuxt4</a><br/>Synced 6 W&B file(s), 2 media file(s), 0 artifact file(s) and 0 other file(s)"
      ]
     },
     "metadata": {},
     "output_type": "display_data"
    },
    {
     "data": {
      "text/plain": [
       "<IPython.core.display.HTML object>"
      ],
      "text/html": [
       "Find logs at: <code>./wandb/run-20241106_151848-pwytuxt4/logs</code>"
      ]
     },
     "metadata": {},
     "output_type": "display_data"
    },
    {
     "data": {
      "text/plain": [
       "<IPython.core.display.HTML object>"
      ],
      "text/html": [
       "Successfully finished last run (ID:pwytuxt4). Initializing new run:<br/>"
      ]
     },
     "metadata": {},
     "output_type": "display_data"
    },
    {
     "data": {
      "text/plain": [
       "<IPython.core.display.HTML object>"
      ],
      "text/html": [
       "wandb version 0.18.5 is available!  To upgrade, please run:\n",
       " $ pip install wandb --upgrade"
      ]
     },
     "metadata": {},
     "output_type": "display_data"
    },
    {
     "data": {
      "text/plain": [
       "<IPython.core.display.HTML object>"
      ],
      "text/html": [
       "Tracking run with wandb version 0.13.5"
      ]
     },
     "metadata": {},
     "output_type": "display_data"
    },
    {
     "data": {
      "text/plain": [
       "<IPython.core.display.HTML object>"
      ],
      "text/html": [
       "Run data is saved locally in <code>/home/oliver/PycharmProjects/NeuralStyle/wandb/run-20241106_151859-yqwp4dp7</code>"
      ]
     },
     "metadata": {},
     "output_type": "display_data"
    },
    {
     "data": {
      "text/plain": [
       "<IPython.core.display.HTML object>"
      ],
      "text/html": [
       "Syncing run <strong><a href=\"https://wandb.ai/oliverweissl/NeuralStyleSearch/runs/yqwp4dp7\" target=\"_blank\">drawn-firebrand-83</a></strong> to <a href=\"https://wandb.ai/oliverweissl/NeuralStyleSearch\" target=\"_blank\">Weights & Biases</a> (<a href=\"https://wandb.me/run\" target=\"_blank\">docs</a>)<br/>"
      ]
     },
     "metadata": {},
     "output_type": "display_data"
    },
    {
     "name": "stdout",
     "output_type": "stream",
     "text": [
      "[2024-11-06 15:19:06,871 - root - INFO] Generate seed(s) for class: 1.\n",
      "[2024-11-06 15:19:06,879 - root - INFO] \tFound 1 valid seed(s) after: 1 iterations.\n",
      "[2024-11-06 15:19:06,881 - root - INFO] Running Search-Algorithm for 20 generations.\n"
     ]
    },
    {
     "name": "stderr",
     "output_type": "stream",
     "text": [
      "/home/oliver/PycharmProjects/NeuralStyle/src/objective_functions/_ssim.py:40: RuntimeWarning: invalid value encountered in sqrt\n",
      "  d = np.sqrt(2-s1-s2)\n"
     ]
    },
    {
     "name": "stdout",
     "output_type": "stream",
     "text": [
      "[2024-11-06 15:19:09,096 - root - INFO] \tBest candidate has a fitness of: 0.44432010686772405\n",
      "[2024-11-06 15:19:09,099 - root - INFO] \tReset learner!\n"
     ]
    },
    {
     "data": {
      "text/plain": [
       "<IPython.core.display.HTML object>"
      ],
      "text/html": [
       "Finishing last run (ID:yqwp4dp7) before initializing another..."
      ]
     },
     "metadata": {},
     "output_type": "display_data"
    },
    {
     "data": {
      "text/plain": [
       "<IPython.core.display.HTML object>"
      ],
      "text/html": [
       "Waiting for W&B process to finish... <strong style=\"color:green\">(success).</strong>"
      ]
     },
     "metadata": {},
     "output_type": "display_data"
    },
    {
     "data": {
      "text/plain": [
       "<IPython.core.display.HTML object>"
      ],
      "text/html": [
       "<style>\n",
       "    table.wandb td:nth-child(1) { padding: 0 10px; text-align: left ; width: auto;} td:nth-child(2) {text-align: left ; width: 100%}\n",
       "    .wandb-row { display: flex; flex-direction: row; flex-wrap: wrap; justify-content: flex-start; width: 100% }\n",
       "    .wandb-col { display: flex; flex-direction: column; flex-basis: 100%; flex: 1; padding: 10px; }\n",
       "    </style>\n",
       "<div class=\"wandb-row\"><div class=\"wandb-col\"><h3>Run history:</h3><br/><table class=\"wandb\"><tr><td>max_fitness</td><td>▂▁▂████▂▃▂▂█▂▁▁▁▁▂▂▁</td></tr><tr><td>mean_fitness</td><td>██▇▆▄▄▆▄▅▄▂▂▃▁▂▃▁▂▂▂</td></tr><tr><td>min_fitness</td><td>█▇█▄▃▃▃▄▅▃▃▃▃▁▃▄▂▃▃▃</td></tr><tr><td>std_fitness</td><td>▁▁▁█▇▆▆▄▅▅▅▆▅▄▄▄▆▅▅▅</td></tr></table><br/></div><div class=\"wandb-col\"><h3>Run summary:</h3><br/><table class=\"wandb\"><tr><td>best_fitness</td><td>0.44432</td></tr><tr><td>max_fitness</td><td>0.79424</td></tr><tr><td>mean_fitness</td><td>0.66171</td></tr><tr><td>min_fitness</td><td>0.49993</td></tr><tr><td>std_fitness</td><td>0.08653</td></tr></table><br/></div></div>"
      ]
     },
     "metadata": {},
     "output_type": "display_data"
    },
    {
     "data": {
      "text/plain": [
       "<IPython.core.display.HTML object>"
      ],
      "text/html": [
       "Synced <strong style=\"color:#cdcd00\">drawn-firebrand-83</strong>: <a href=\"https://wandb.ai/oliverweissl/NeuralStyleSearch/runs/yqwp4dp7\" target=\"_blank\">https://wandb.ai/oliverweissl/NeuralStyleSearch/runs/yqwp4dp7</a><br/>Synced 6 W&B file(s), 2 media file(s), 0 artifact file(s) and 0 other file(s)"
      ]
     },
     "metadata": {},
     "output_type": "display_data"
    },
    {
     "data": {
      "text/plain": [
       "<IPython.core.display.HTML object>"
      ],
      "text/html": [
       "Find logs at: <code>./wandb/run-20241106_151859-yqwp4dp7/logs</code>"
      ]
     },
     "metadata": {},
     "output_type": "display_data"
    },
    {
     "data": {
      "text/plain": [
       "<IPython.core.display.HTML object>"
      ],
      "text/html": [
       "Successfully finished last run (ID:yqwp4dp7). Initializing new run:<br/>"
      ]
     },
     "metadata": {},
     "output_type": "display_data"
    },
    {
     "data": {
      "text/plain": [
       "<IPython.core.display.HTML object>"
      ],
      "text/html": [
       "wandb version 0.18.5 is available!  To upgrade, please run:\n",
       " $ pip install wandb --upgrade"
      ]
     },
     "metadata": {},
     "output_type": "display_data"
    },
    {
     "data": {
      "text/plain": [
       "<IPython.core.display.HTML object>"
      ],
      "text/html": [
       "Tracking run with wandb version 0.13.5"
      ]
     },
     "metadata": {},
     "output_type": "display_data"
    },
    {
     "data": {
      "text/plain": [
       "<IPython.core.display.HTML object>"
      ],
      "text/html": [
       "Run data is saved locally in <code>/home/oliver/PycharmProjects/NeuralStyle/wandb/run-20241106_151909-gnm560zr</code>"
      ]
     },
     "metadata": {},
     "output_type": "display_data"
    },
    {
     "data": {
      "text/plain": [
       "<IPython.core.display.HTML object>"
      ],
      "text/html": [
       "Syncing run <strong><a href=\"https://wandb.ai/oliverweissl/NeuralStyleSearch/runs/gnm560zr\" target=\"_blank\">ethereal-valley-84</a></strong> to <a href=\"https://wandb.ai/oliverweissl/NeuralStyleSearch\" target=\"_blank\">Weights & Biases</a> (<a href=\"https://wandb.me/run\" target=\"_blank\">docs</a>)<br/>"
      ]
     },
     "metadata": {},
     "output_type": "display_data"
    },
    {
     "name": "stdout",
     "output_type": "stream",
     "text": [
      "[2024-11-06 15:19:17,525 - root - INFO] Generate seed(s) for class: 2.\n",
      "[2024-11-06 15:19:17,541 - root - INFO] \tFound 1 valid seed(s) after: 1 iterations.\n",
      "[2024-11-06 15:19:17,544 - root - INFO] Running Search-Algorithm for 20 generations.\n",
      "[2024-11-06 15:19:19,759 - root - INFO] \tBest candidate has a fitness of: 0.23686208761113225\n",
      "[2024-11-06 15:19:19,762 - root - INFO] \tReset learner!\n"
     ]
    },
    {
     "data": {
      "text/plain": [
       "<IPython.core.display.HTML object>"
      ],
      "text/html": [
       "Finishing last run (ID:gnm560zr) before initializing another..."
      ]
     },
     "metadata": {},
     "output_type": "display_data"
    },
    {
     "data": {
      "text/plain": [
       "<IPython.core.display.HTML object>"
      ],
      "text/html": [
       "Waiting for W&B process to finish... <strong style=\"color:green\">(success).</strong>"
      ]
     },
     "metadata": {},
     "output_type": "display_data"
    },
    {
     "data": {
      "text/plain": [
       "<IPython.core.display.HTML object>"
      ],
      "text/html": [
       "<style>\n",
       "    table.wandb td:nth-child(1) { padding: 0 10px; text-align: left ; width: auto;} td:nth-child(2) {text-align: left ; width: 100%}\n",
       "    .wandb-row { display: flex; flex-direction: row; flex-wrap: wrap; justify-content: flex-start; width: 100% }\n",
       "    .wandb-col { display: flex; flex-direction: column; flex-basis: 100%; flex: 1; padding: 10px; }\n",
       "    </style>\n",
       "<div class=\"wandb-row\"><div class=\"wandb-col\"><h3>Run history:</h3><br/><table class=\"wandb\"><tr><td>max_fitness</td><td>▁▃▂▄▅▅▄▂▆▅▇▆▅▇▆█▇▆▅▆</td></tr><tr><td>mean_fitness</td><td>▅▆▆▇▆▆▆▄▆▄▆▅▅▆█▅▅▅▁▃</td></tr><tr><td>min_fitness</td><td>███▇▆▆▁▂▅▄▃▄▄▄▃▄▃▄▃▅</td></tr><tr><td>std_fitness</td><td>▁▂▁▄▄▄▆▇▅▆█▇▆▆▆███▇▇</td></tr></table><br/></div><div class=\"wandb-col\"><h3>Run summary:</h3><br/><table class=\"wandb\"><tr><td>best_fitness</td><td>0.23686</td></tr><tr><td>max_fitness</td><td>0.35627</td></tr><tr><td>mean_fitness</td><td>0.3098</td></tr><tr><td>min_fitness</td><td>0.26806</td></tr><tr><td>std_fitness</td><td>0.02193</td></tr></table><br/></div></div>"
      ]
     },
     "metadata": {},
     "output_type": "display_data"
    },
    {
     "data": {
      "text/plain": [
       "<IPython.core.display.HTML object>"
      ],
      "text/html": [
       "Synced <strong style=\"color:#cdcd00\">ethereal-valley-84</strong>: <a href=\"https://wandb.ai/oliverweissl/NeuralStyleSearch/runs/gnm560zr\" target=\"_blank\">https://wandb.ai/oliverweissl/NeuralStyleSearch/runs/gnm560zr</a><br/>Synced 6 W&B file(s), 2 media file(s), 0 artifact file(s) and 0 other file(s)"
      ]
     },
     "metadata": {},
     "output_type": "display_data"
    },
    {
     "data": {
      "text/plain": [
       "<IPython.core.display.HTML object>"
      ],
      "text/html": [
       "Find logs at: <code>./wandb/run-20241106_151909-gnm560zr/logs</code>"
      ]
     },
     "metadata": {},
     "output_type": "display_data"
    },
    {
     "data": {
      "text/plain": [
       "<IPython.core.display.HTML object>"
      ],
      "text/html": [
       "Successfully finished last run (ID:gnm560zr). Initializing new run:<br/>"
      ]
     },
     "metadata": {},
     "output_type": "display_data"
    },
    {
     "data": {
      "text/plain": [
       "<IPython.core.display.HTML object>"
      ],
      "text/html": [
       "wandb version 0.18.5 is available!  To upgrade, please run:\n",
       " $ pip install wandb --upgrade"
      ]
     },
     "metadata": {},
     "output_type": "display_data"
    },
    {
     "data": {
      "text/plain": [
       "<IPython.core.display.HTML object>"
      ],
      "text/html": [
       "Tracking run with wandb version 0.13.5"
      ]
     },
     "metadata": {},
     "output_type": "display_data"
    },
    {
     "data": {
      "text/plain": [
       "<IPython.core.display.HTML object>"
      ],
      "text/html": [
       "Run data is saved locally in <code>/home/oliver/PycharmProjects/NeuralStyle/wandb/run-20241106_151919-4z2aidyx</code>"
      ]
     },
     "metadata": {},
     "output_type": "display_data"
    },
    {
     "data": {
      "text/plain": [
       "<IPython.core.display.HTML object>"
      ],
      "text/html": [
       "Syncing run <strong><a href=\"https://wandb.ai/oliverweissl/NeuralStyleSearch/runs/4z2aidyx\" target=\"_blank\">fresh-serenity-85</a></strong> to <a href=\"https://wandb.ai/oliverweissl/NeuralStyleSearch\" target=\"_blank\">Weights & Biases</a> (<a href=\"https://wandb.me/run\" target=\"_blank\">docs</a>)<br/>"
      ]
     },
     "metadata": {},
     "output_type": "display_data"
    },
    {
     "name": "stdout",
     "output_type": "stream",
     "text": [
      "[2024-11-06 15:19:27,475 - root - INFO] Generate seed(s) for class: 2.\n",
      "[2024-11-06 15:19:27,483 - root - INFO] \tFound 1 valid seed(s) after: 1 iterations.\n",
      "[2024-11-06 15:19:27,485 - root - INFO] Running Search-Algorithm for 20 generations.\n",
      "[2024-11-06 15:19:29,731 - root - INFO] \tBest candidate has a fitness of: 0.3813125137128168\n",
      "[2024-11-06 15:19:29,734 - root - INFO] \tReset learner!\n"
     ]
    },
    {
     "data": {
      "text/plain": [
       "<IPython.core.display.HTML object>"
      ],
      "text/html": [
       "Finishing last run (ID:4z2aidyx) before initializing another..."
      ]
     },
     "metadata": {},
     "output_type": "display_data"
    },
    {
     "data": {
      "text/plain": [
       "<IPython.core.display.HTML object>"
      ],
      "text/html": [
       "Waiting for W&B process to finish... <strong style=\"color:green\">(success).</strong>"
      ]
     },
     "metadata": {},
     "output_type": "display_data"
    },
    {
     "data": {
      "text/plain": [
       "<IPython.core.display.HTML object>"
      ],
      "text/html": [
       "<style>\n",
       "    table.wandb td:nth-child(1) { padding: 0 10px; text-align: left ; width: auto;} td:nth-child(2) {text-align: left ; width: 100%}\n",
       "    .wandb-row { display: flex; flex-direction: row; flex-wrap: wrap; justify-content: flex-start; width: 100% }\n",
       "    .wandb-col { display: flex; flex-direction: column; flex-basis: 100%; flex: 1; padding: 10px; }\n",
       "    </style>\n",
       "<div class=\"wandb-row\"><div class=\"wandb-col\"><h3>Run history:</h3><br/><table class=\"wandb\"><tr><td>max_fitness</td><td>▁▅▅▄▅▄▇▅▆█▆▆█▇▇▆▆▇▇▅</td></tr><tr><td>mean_fitness</td><td>▂▁▁▂▂▃▃▂▄▄▆▆█▆▇▇█▇▅▆</td></tr><tr><td>min_fitness</td><td>█▇▆▆▅▄█▄▃▆▅▅▇▆▆▅▅▁▃█</td></tr><tr><td>std_fitness</td><td>▁▃▃▃▄▄▅▆▇▅▆▇▇▇▇▇▆██▄</td></tr></table><br/></div><div class=\"wandb-col\"><h3>Run summary:</h3><br/><table class=\"wandb\"><tr><td>best_fitness</td><td>0.38131</td></tr><tr><td>max_fitness</td><td>0.58312</td></tr><tr><td>mean_fitness</td><td>0.5265</td></tr><tr><td>min_fitness</td><td>0.45819</td></tr><tr><td>std_fitness</td><td>0.03755</td></tr></table><br/></div></div>"
      ]
     },
     "metadata": {},
     "output_type": "display_data"
    },
    {
     "data": {
      "text/plain": [
       "<IPython.core.display.HTML object>"
      ],
      "text/html": [
       "Synced <strong style=\"color:#cdcd00\">fresh-serenity-85</strong>: <a href=\"https://wandb.ai/oliverweissl/NeuralStyleSearch/runs/4z2aidyx\" target=\"_blank\">https://wandb.ai/oliverweissl/NeuralStyleSearch/runs/4z2aidyx</a><br/>Synced 6 W&B file(s), 2 media file(s), 0 artifact file(s) and 0 other file(s)"
      ]
     },
     "metadata": {},
     "output_type": "display_data"
    },
    {
     "data": {
      "text/plain": [
       "<IPython.core.display.HTML object>"
      ],
      "text/html": [
       "Find logs at: <code>./wandb/run-20241106_151919-4z2aidyx/logs</code>"
      ]
     },
     "metadata": {},
     "output_type": "display_data"
    },
    {
     "data": {
      "text/plain": [
       "<IPython.core.display.HTML object>"
      ],
      "text/html": [
       "Successfully finished last run (ID:4z2aidyx). Initializing new run:<br/>"
      ]
     },
     "metadata": {},
     "output_type": "display_data"
    },
    {
     "data": {
      "text/plain": [
       "<IPython.core.display.HTML object>"
      ],
      "text/html": [
       "wandb version 0.18.5 is available!  To upgrade, please run:\n",
       " $ pip install wandb --upgrade"
      ]
     },
     "metadata": {},
     "output_type": "display_data"
    },
    {
     "data": {
      "text/plain": [
       "<IPython.core.display.HTML object>"
      ],
      "text/html": [
       "Tracking run with wandb version 0.13.5"
      ]
     },
     "metadata": {},
     "output_type": "display_data"
    },
    {
     "data": {
      "text/plain": [
       "<IPython.core.display.HTML object>"
      ],
      "text/html": [
       "Run data is saved locally in <code>/home/oliver/PycharmProjects/NeuralStyle/wandb/run-20241106_151929-0vuy76jy</code>"
      ]
     },
     "metadata": {},
     "output_type": "display_data"
    },
    {
     "data": {
      "text/plain": [
       "<IPython.core.display.HTML object>"
      ],
      "text/html": [
       "Syncing run <strong><a href=\"https://wandb.ai/oliverweissl/NeuralStyleSearch/runs/0vuy76jy\" target=\"_blank\">flowing-mountain-86</a></strong> to <a href=\"https://wandb.ai/oliverweissl/NeuralStyleSearch\" target=\"_blank\">Weights & Biases</a> (<a href=\"https://wandb.me/run\" target=\"_blank\">docs</a>)<br/>"
      ]
     },
     "metadata": {},
     "output_type": "display_data"
    },
    {
     "name": "stdout",
     "output_type": "stream",
     "text": [
      "[2024-11-06 15:19:37,262 - root - INFO] Generate seed(s) for class: 2.\n",
      "[2024-11-06 15:19:37,270 - root - INFO] \tFound 1 valid seed(s) after: 1 iterations.\n",
      "[2024-11-06 15:19:37,272 - root - INFO] Running Search-Algorithm for 20 generations.\n",
      "[2024-11-06 15:19:39,484 - root - INFO] \tBest candidate has a fitness of: 0.2290567401685053\n",
      "[2024-11-06 15:19:39,487 - root - INFO] \tReset learner!\n"
     ]
    },
    {
     "data": {
      "text/plain": [
       "<IPython.core.display.HTML object>"
      ],
      "text/html": [
       "Finishing last run (ID:0vuy76jy) before initializing another..."
      ]
     },
     "metadata": {},
     "output_type": "display_data"
    },
    {
     "data": {
      "text/plain": [
       "<IPython.core.display.HTML object>"
      ],
      "text/html": [
       "Waiting for W&B process to finish... <strong style=\"color:green\">(success).</strong>"
      ]
     },
     "metadata": {},
     "output_type": "display_data"
    },
    {
     "data": {
      "text/plain": [
       "<IPython.core.display.HTML object>"
      ],
      "text/html": [
       "<style>\n",
       "    table.wandb td:nth-child(1) { padding: 0 10px; text-align: left ; width: auto;} td:nth-child(2) {text-align: left ; width: 100%}\n",
       "    .wandb-row { display: flex; flex-direction: row; flex-wrap: wrap; justify-content: flex-start; width: 100% }\n",
       "    .wandb-col { display: flex; flex-direction: column; flex-basis: 100%; flex: 1; padding: 10px; }\n",
       "    </style>\n",
       "<div class=\"wandb-row\"><div class=\"wandb-col\"><h3>Run history:</h3><br/><table class=\"wandb\"><tr><td>max_fitness</td><td>▄▅▆▃▄▂▂▂▆█▃▃▇▄▁▄▂▁▄▄</td></tr><tr><td>mean_fitness</td><td>██▇▅▅▄▅▄▄▇▃▅▄▃▂▂▃▁▃▂</td></tr><tr><td>min_fitness</td><td>█▆█▅▅▄▆▁▃▅▂▃▃▃▃▃▄▁▂▂</td></tr><tr><td>std_fitness</td><td>▂▃▃▃▅▃▁▅▇▆▆▇█▆▅▇▆▇██</td></tr></table><br/></div><div class=\"wandb-col\"><h3>Run summary:</h3><br/><table class=\"wandb\"><tr><td>best_fitness</td><td>0.22906</td></tr><tr><td>max_fitness</td><td>0.35514</td></tr><tr><td>mean_fitness</td><td>0.29439</td></tr><tr><td>min_fitness</td><td>0.24115</td></tr><tr><td>std_fitness</td><td>0.02901</td></tr></table><br/></div></div>"
      ]
     },
     "metadata": {},
     "output_type": "display_data"
    },
    {
     "data": {
      "text/plain": [
       "<IPython.core.display.HTML object>"
      ],
      "text/html": [
       "Synced <strong style=\"color:#cdcd00\">flowing-mountain-86</strong>: <a href=\"https://wandb.ai/oliverweissl/NeuralStyleSearch/runs/0vuy76jy\" target=\"_blank\">https://wandb.ai/oliverweissl/NeuralStyleSearch/runs/0vuy76jy</a><br/>Synced 6 W&B file(s), 2 media file(s), 0 artifact file(s) and 0 other file(s)"
      ]
     },
     "metadata": {},
     "output_type": "display_data"
    },
    {
     "data": {
      "text/plain": [
       "<IPython.core.display.HTML object>"
      ],
      "text/html": [
       "Find logs at: <code>./wandb/run-20241106_151929-0vuy76jy/logs</code>"
      ]
     },
     "metadata": {},
     "output_type": "display_data"
    },
    {
     "data": {
      "text/plain": [
       "<IPython.core.display.HTML object>"
      ],
      "text/html": [
       "Successfully finished last run (ID:0vuy76jy). Initializing new run:<br/>"
      ]
     },
     "metadata": {},
     "output_type": "display_data"
    },
    {
     "data": {
      "text/plain": [
       "<IPython.core.display.HTML object>"
      ],
      "text/html": [
       "wandb version 0.18.5 is available!  To upgrade, please run:\n",
       " $ pip install wandb --upgrade"
      ]
     },
     "metadata": {},
     "output_type": "display_data"
    },
    {
     "data": {
      "text/plain": [
       "<IPython.core.display.HTML object>"
      ],
      "text/html": [
       "Tracking run with wandb version 0.13.5"
      ]
     },
     "metadata": {},
     "output_type": "display_data"
    },
    {
     "data": {
      "text/plain": [
       "<IPython.core.display.HTML object>"
      ],
      "text/html": [
       "Run data is saved locally in <code>/home/oliver/PycharmProjects/NeuralStyle/wandb/run-20241106_151939-6khk866l</code>"
      ]
     },
     "metadata": {},
     "output_type": "display_data"
    },
    {
     "data": {
      "text/plain": [
       "<IPython.core.display.HTML object>"
      ],
      "text/html": [
       "Syncing run <strong><a href=\"https://wandb.ai/oliverweissl/NeuralStyleSearch/runs/6khk866l\" target=\"_blank\">toasty-lion-87</a></strong> to <a href=\"https://wandb.ai/oliverweissl/NeuralStyleSearch\" target=\"_blank\">Weights & Biases</a> (<a href=\"https://wandb.me/run\" target=\"_blank\">docs</a>)<br/>"
      ]
     },
     "metadata": {},
     "output_type": "display_data"
    },
    {
     "name": "stdout",
     "output_type": "stream",
     "text": [
      "[2024-11-06 15:19:47,377 - root - INFO] Generate seed(s) for class: 2.\n",
      "[2024-11-06 15:19:47,386 - root - INFO] \tFound 1 valid seed(s) after: 1 iterations.\n",
      "[2024-11-06 15:19:47,389 - root - INFO] Running Search-Algorithm for 20 generations.\n"
     ]
    },
    {
     "name": "stderr",
     "output_type": "stream",
     "text": [
      "/home/oliver/PycharmProjects/NeuralStyle/src/objective_functions/_ssim.py:40: RuntimeWarning: invalid value encountered in sqrt\n",
      "  d = np.sqrt(2-s1-s2)\n"
     ]
    },
    {
     "name": "stdout",
     "output_type": "stream",
     "text": [
      "[2024-11-06 15:19:49,635 - root - INFO] \tBest candidate has a fitness of: 0.3183220866956049\n",
      "[2024-11-06 15:19:49,638 - root - INFO] \tReset learner!\n"
     ]
    },
    {
     "data": {
      "text/plain": [
       "<IPython.core.display.HTML object>"
      ],
      "text/html": [
       "Finishing last run (ID:6khk866l) before initializing another..."
      ]
     },
     "metadata": {},
     "output_type": "display_data"
    },
    {
     "data": {
      "text/plain": [
       "<IPython.core.display.HTML object>"
      ],
      "text/html": [
       "Waiting for W&B process to finish... <strong style=\"color:green\">(success).</strong>"
      ]
     },
     "metadata": {},
     "output_type": "display_data"
    },
    {
     "data": {
      "text/plain": [
       "<IPython.core.display.HTML object>"
      ],
      "text/html": [
       "<style>\n",
       "    table.wandb td:nth-child(1) { padding: 0 10px; text-align: left ; width: auto;} td:nth-child(2) {text-align: left ; width: 100%}\n",
       "    .wandb-row { display: flex; flex-direction: row; flex-wrap: wrap; justify-content: flex-start; width: 100% }\n",
       "    .wandb-col { display: flex; flex-direction: column; flex-basis: 100%; flex: 1; padding: 10px; }\n",
       "    </style>\n",
       "<div class=\"wandb-row\"><div class=\"wandb-col\"><h3>Run history:</h3><br/><table class=\"wandb\"><tr><td>max_fitness</td><td>▁▂▄▅▇▆▇▆▆▆▇▇▆█▇██▇▇█</td></tr><tr><td>mean_fitness</td><td>▁▁▁▂▃▅▅▅▅▆▇█▆▆▇██▇██</td></tr><tr><td>min_fitness</td><td>▅▂▁▂▄▄▂▁▃▄▅▄▃▄▆▄▃▄▅█</td></tr><tr><td>std_fitness</td><td>▁▂▄▅▆▅▇▇▇███▇█▇██▇▇▇</td></tr></table><br/></div><div class=\"wandb-col\"><h3>Run summary:</h3><br/><table class=\"wandb\"><tr><td>best_fitness</td><td>0.31832</td></tr><tr><td>max_fitness</td><td>0.553</td></tr><tr><td>mean_fitness</td><td>0.44938</td></tr><tr><td>min_fitness</td><td>0.37</td></tr><tr><td>std_fitness</td><td>0.05713</td></tr></table><br/></div></div>"
      ]
     },
     "metadata": {},
     "output_type": "display_data"
    },
    {
     "data": {
      "text/plain": [
       "<IPython.core.display.HTML object>"
      ],
      "text/html": [
       "Synced <strong style=\"color:#cdcd00\">toasty-lion-87</strong>: <a href=\"https://wandb.ai/oliverweissl/NeuralStyleSearch/runs/6khk866l\" target=\"_blank\">https://wandb.ai/oliverweissl/NeuralStyleSearch/runs/6khk866l</a><br/>Synced 6 W&B file(s), 2 media file(s), 0 artifact file(s) and 0 other file(s)"
      ]
     },
     "metadata": {},
     "output_type": "display_data"
    },
    {
     "data": {
      "text/plain": [
       "<IPython.core.display.HTML object>"
      ],
      "text/html": [
       "Find logs at: <code>./wandb/run-20241106_151939-6khk866l/logs</code>"
      ]
     },
     "metadata": {},
     "output_type": "display_data"
    },
    {
     "data": {
      "text/plain": [
       "<IPython.core.display.HTML object>"
      ],
      "text/html": [
       "Successfully finished last run (ID:6khk866l). Initializing new run:<br/>"
      ]
     },
     "metadata": {},
     "output_type": "display_data"
    },
    {
     "data": {
      "text/plain": [
       "<IPython.core.display.HTML object>"
      ],
      "text/html": [
       "wandb version 0.18.5 is available!  To upgrade, please run:\n",
       " $ pip install wandb --upgrade"
      ]
     },
     "metadata": {},
     "output_type": "display_data"
    },
    {
     "data": {
      "text/plain": [
       "<IPython.core.display.HTML object>"
      ],
      "text/html": [
       "Tracking run with wandb version 0.13.5"
      ]
     },
     "metadata": {},
     "output_type": "display_data"
    },
    {
     "data": {
      "text/plain": [
       "<IPython.core.display.HTML object>"
      ],
      "text/html": [
       "Run data is saved locally in <code>/home/oliver/PycharmProjects/NeuralStyle/wandb/run-20241106_151949-pxl4mis9</code>"
      ]
     },
     "metadata": {},
     "output_type": "display_data"
    },
    {
     "data": {
      "text/plain": [
       "<IPython.core.display.HTML object>"
      ],
      "text/html": [
       "Syncing run <strong><a href=\"https://wandb.ai/oliverweissl/NeuralStyleSearch/runs/pxl4mis9\" target=\"_blank\">fresh-haze-88</a></strong> to <a href=\"https://wandb.ai/oliverweissl/NeuralStyleSearch\" target=\"_blank\">Weights & Biases</a> (<a href=\"https://wandb.me/run\" target=\"_blank\">docs</a>)<br/>"
      ]
     },
     "metadata": {},
     "output_type": "display_data"
    },
    {
     "name": "stdout",
     "output_type": "stream",
     "text": [
      "[2024-11-06 15:19:58,362 - root - INFO] Generate seed(s) for class: 2.\n",
      "[2024-11-06 15:19:58,371 - root - INFO] \tFound 1 valid seed(s) after: 1 iterations.\n",
      "[2024-11-06 15:19:58,373 - root - INFO] Running Search-Algorithm for 20 generations.\n"
     ]
    },
    {
     "name": "stderr",
     "output_type": "stream",
     "text": [
      "/home/oliver/PycharmProjects/NeuralStyle/src/objective_functions/_ssim.py:40: RuntimeWarning: invalid value encountered in sqrt\n",
      "  d = np.sqrt(2-s1-s2)\n"
     ]
    },
    {
     "name": "stdout",
     "output_type": "stream",
     "text": [
      "[2024-11-06 15:20:00,651 - root - INFO] \tBest candidate has a fitness of: 0.26062872445958196\n",
      "[2024-11-06 15:20:00,654 - root - INFO] \tReset learner!\n"
     ]
    },
    {
     "data": {
      "text/plain": [
       "<IPython.core.display.HTML object>"
      ],
      "text/html": [
       "Finishing last run (ID:pxl4mis9) before initializing another..."
      ]
     },
     "metadata": {},
     "output_type": "display_data"
    },
    {
     "data": {
      "text/plain": [
       "<IPython.core.display.HTML object>"
      ],
      "text/html": [
       "Waiting for W&B process to finish... <strong style=\"color:green\">(success).</strong>"
      ]
     },
     "metadata": {},
     "output_type": "display_data"
    },
    {
     "data": {
      "text/plain": [
       "<IPython.core.display.HTML object>"
      ],
      "text/html": [
       "<style>\n",
       "    table.wandb td:nth-child(1) { padding: 0 10px; text-align: left ; width: auto;} td:nth-child(2) {text-align: left ; width: 100%}\n",
       "    .wandb-row { display: flex; flex-direction: row; flex-wrap: wrap; justify-content: flex-start; width: 100% }\n",
       "    .wandb-col { display: flex; flex-direction: column; flex-basis: 100%; flex: 1; padding: 10px; }\n",
       "    </style>\n",
       "<div class=\"wandb-row\"><div class=\"wandb-col\"><h3>Run history:</h3><br/><table class=\"wandb\"><tr><td>max_fitness</td><td>▆▁▂▄▃▄▃▆▅▄▆▇▆▇▆█▂▁▅▅</td></tr><tr><td>mean_fitness</td><td>▃▂▁▄▆▄▅▇▅▅▃█▇▅▅▆▅▂▄▅</td></tr><tr><td>min_fitness</td><td>▆▄▃▃▆▅▅▅▇▃▄█▄▅▇▅▇▅▁▃</td></tr><tr><td>std_fitness</td><td>▄▅▅▅▂▅▄▆▃▆▄▁▄▃▃▃▁▄█▇</td></tr></table><br/></div><div class=\"wandb-col\"><h3>Run summary:</h3><br/><table class=\"wandb\"><tr><td>best_fitness</td><td>0.26063</td></tr><tr><td>max_fitness</td><td>0.32903</td></tr><tr><td>mean_fitness</td><td>0.30592</td></tr><tr><td>min_fitness</td><td>0.26812</td></tr><tr><td>std_fitness</td><td>0.01477</td></tr></table><br/></div></div>"
      ]
     },
     "metadata": {},
     "output_type": "display_data"
    },
    {
     "data": {
      "text/plain": [
       "<IPython.core.display.HTML object>"
      ],
      "text/html": [
       "Synced <strong style=\"color:#cdcd00\">fresh-haze-88</strong>: <a href=\"https://wandb.ai/oliverweissl/NeuralStyleSearch/runs/pxl4mis9\" target=\"_blank\">https://wandb.ai/oliverweissl/NeuralStyleSearch/runs/pxl4mis9</a><br/>Synced 6 W&B file(s), 2 media file(s), 0 artifact file(s) and 0 other file(s)"
      ]
     },
     "metadata": {},
     "output_type": "display_data"
    },
    {
     "data": {
      "text/plain": [
       "<IPython.core.display.HTML object>"
      ],
      "text/html": [
       "Find logs at: <code>./wandb/run-20241106_151949-pxl4mis9/logs</code>"
      ]
     },
     "metadata": {},
     "output_type": "display_data"
    },
    {
     "data": {
      "text/plain": [
       "<IPython.core.display.HTML object>"
      ],
      "text/html": [
       "Successfully finished last run (ID:pxl4mis9). Initializing new run:<br/>"
      ]
     },
     "metadata": {},
     "output_type": "display_data"
    },
    {
     "data": {
      "text/plain": [
       "<IPython.core.display.HTML object>"
      ],
      "text/html": [
       "wandb version 0.18.5 is available!  To upgrade, please run:\n",
       " $ pip install wandb --upgrade"
      ]
     },
     "metadata": {},
     "output_type": "display_data"
    },
    {
     "data": {
      "text/plain": [
       "<IPython.core.display.HTML object>"
      ],
      "text/html": [
       "Tracking run with wandb version 0.13.5"
      ]
     },
     "metadata": {},
     "output_type": "display_data"
    },
    {
     "data": {
      "text/plain": [
       "<IPython.core.display.HTML object>"
      ],
      "text/html": [
       "Run data is saved locally in <code>/home/oliver/PycharmProjects/NeuralStyle/wandb/run-20241106_152000-eib2772i</code>"
      ]
     },
     "metadata": {},
     "output_type": "display_data"
    },
    {
     "data": {
      "text/plain": [
       "<IPython.core.display.HTML object>"
      ],
      "text/html": [
       "Syncing run <strong><a href=\"https://wandb.ai/oliverweissl/NeuralStyleSearch/runs/eib2772i\" target=\"_blank\">hardy-dragon-89</a></strong> to <a href=\"https://wandb.ai/oliverweissl/NeuralStyleSearch\" target=\"_blank\">Weights & Biases</a> (<a href=\"https://wandb.me/run\" target=\"_blank\">docs</a>)<br/>"
      ]
     },
     "metadata": {},
     "output_type": "display_data"
    },
    {
     "name": "stdout",
     "output_type": "stream",
     "text": [
      "[2024-11-06 15:20:09,194 - root - INFO] Generate seed(s) for class: 2.\n",
      "[2024-11-06 15:20:10,510 - root - INFO] \tFound 1 valid seed(s) after: 227 iterations.\n",
      "[2024-11-06 15:20:10,513 - root - INFO] Running Search-Algorithm for 20 generations.\n",
      "[2024-11-06 15:20:12,775 - root - INFO] \tBest candidate has a fitness of: 0.2379964832104975\n",
      "[2024-11-06 15:20:12,778 - root - INFO] \tReset learner!\n"
     ]
    },
    {
     "data": {
      "text/plain": [
       "<IPython.core.display.HTML object>"
      ],
      "text/html": [
       "Finishing last run (ID:eib2772i) before initializing another..."
      ]
     },
     "metadata": {},
     "output_type": "display_data"
    },
    {
     "data": {
      "text/plain": [
       "<IPython.core.display.HTML object>"
      ],
      "text/html": [
       "Waiting for W&B process to finish... <strong style=\"color:green\">(success).</strong>"
      ]
     },
     "metadata": {},
     "output_type": "display_data"
    },
    {
     "data": {
      "text/plain": [
       "<IPython.core.display.HTML object>"
      ],
      "text/html": [
       "<style>\n",
       "    table.wandb td:nth-child(1) { padding: 0 10px; text-align: left ; width: auto;} td:nth-child(2) {text-align: left ; width: 100%}\n",
       "    .wandb-row { display: flex; flex-direction: row; flex-wrap: wrap; justify-content: flex-start; width: 100% }\n",
       "    .wandb-col { display: flex; flex-direction: column; flex-basis: 100%; flex: 1; padding: 10px; }\n",
       "    </style>\n",
       "<div class=\"wandb-row\"><div class=\"wandb-col\"><h3>Run history:</h3><br/><table class=\"wandb\"><tr><td>max_fitness</td><td>▇▇▇▆▆▇█▆▇▆▆█▇▆▂▄▅▁▂▆</td></tr><tr><td>mean_fitness</td><td>▇█▆▆▅▅▄▅▅▅▅▄▄▂▂▁▁▁▁▁</td></tr><tr><td>min_fitness</td><td>▆█▂▆▇▃▄▁▃▂▁▅▄▄▅▃▃▄▂▃</td></tr><tr><td>std_fitness</td><td>▃▁▆▄▃▆▇▇▇██▅▆▄▂▃▄▂▃▃</td></tr></table><br/></div><div class=\"wandb-col\"><h3>Run summary:</h3><br/><table class=\"wandb\"><tr><td>best_fitness</td><td>0.238</td></tr><tr><td>max_fitness</td><td>0.35575</td></tr><tr><td>mean_fitness</td><td>0.28888</td></tr><tr><td>min_fitness</td><td>0.25755</td></tr><tr><td>std_fitness</td><td>0.01978</td></tr></table><br/></div></div>"
      ]
     },
     "metadata": {},
     "output_type": "display_data"
    },
    {
     "data": {
      "text/plain": [
       "<IPython.core.display.HTML object>"
      ],
      "text/html": [
       "Synced <strong style=\"color:#cdcd00\">hardy-dragon-89</strong>: <a href=\"https://wandb.ai/oliverweissl/NeuralStyleSearch/runs/eib2772i\" target=\"_blank\">https://wandb.ai/oliverweissl/NeuralStyleSearch/runs/eib2772i</a><br/>Synced 6 W&B file(s), 2 media file(s), 0 artifact file(s) and 0 other file(s)"
      ]
     },
     "metadata": {},
     "output_type": "display_data"
    },
    {
     "data": {
      "text/plain": [
       "<IPython.core.display.HTML object>"
      ],
      "text/html": [
       "Find logs at: <code>./wandb/run-20241106_152000-eib2772i/logs</code>"
      ]
     },
     "metadata": {},
     "output_type": "display_data"
    },
    {
     "data": {
      "text/plain": [
       "<IPython.core.display.HTML object>"
      ],
      "text/html": [
       "Successfully finished last run (ID:eib2772i). Initializing new run:<br/>"
      ]
     },
     "metadata": {},
     "output_type": "display_data"
    },
    {
     "data": {
      "text/plain": [
       "<IPython.core.display.HTML object>"
      ],
      "text/html": [
       "wandb version 0.18.5 is available!  To upgrade, please run:\n",
       " $ pip install wandb --upgrade"
      ]
     },
     "metadata": {},
     "output_type": "display_data"
    },
    {
     "data": {
      "text/plain": [
       "<IPython.core.display.HTML object>"
      ],
      "text/html": [
       "Tracking run with wandb version 0.13.5"
      ]
     },
     "metadata": {},
     "output_type": "display_data"
    },
    {
     "data": {
      "text/plain": [
       "<IPython.core.display.HTML object>"
      ],
      "text/html": [
       "Run data is saved locally in <code>/home/oliver/PycharmProjects/NeuralStyle/wandb/run-20241106_152012-5vszvjwa</code>"
      ]
     },
     "metadata": {},
     "output_type": "display_data"
    },
    {
     "data": {
      "text/plain": [
       "<IPython.core.display.HTML object>"
      ],
      "text/html": [
       "Syncing run <strong><a href=\"https://wandb.ai/oliverweissl/NeuralStyleSearch/runs/5vszvjwa\" target=\"_blank\">twilight-armadillo-90</a></strong> to <a href=\"https://wandb.ai/oliverweissl/NeuralStyleSearch\" target=\"_blank\">Weights & Biases</a> (<a href=\"https://wandb.me/run\" target=\"_blank\">docs</a>)<br/>"
      ]
     },
     "metadata": {},
     "output_type": "display_data"
    },
    {
     "name": "stdout",
     "output_type": "stream",
     "text": [
      "[2024-11-06 15:20:18,981 - root - INFO] Generate seed(s) for class: 2.\n",
      "[2024-11-06 15:20:19,508 - root - INFO] \tFound 1 valid seed(s) after: 82 iterations.\n",
      "[2024-11-06 15:20:19,511 - root - INFO] Running Search-Algorithm for 20 generations.\n",
      "[2024-11-06 15:20:21,645 - root - INFO] \tBest candidate has a fitness of: 0.2693455461301142\n",
      "[2024-11-06 15:20:21,647 - root - INFO] \tReset learner!\n"
     ]
    },
    {
     "data": {
      "text/plain": [
       "<IPython.core.display.HTML object>"
      ],
      "text/html": [
       "Finishing last run (ID:5vszvjwa) before initializing another..."
      ]
     },
     "metadata": {},
     "output_type": "display_data"
    },
    {
     "data": {
      "text/plain": [
       "<IPython.core.display.HTML object>"
      ],
      "text/html": [
       "Waiting for W&B process to finish... <strong style=\"color:green\">(success).</strong>"
      ]
     },
     "metadata": {},
     "output_type": "display_data"
    },
    {
     "data": {
      "text/plain": [
       "<IPython.core.display.HTML object>"
      ],
      "text/html": [
       "<style>\n",
       "    table.wandb td:nth-child(1) { padding: 0 10px; text-align: left ; width: auto;} td:nth-child(2) {text-align: left ; width: 100%}\n",
       "    .wandb-row { display: flex; flex-direction: row; flex-wrap: wrap; justify-content: flex-start; width: 100% }\n",
       "    .wandb-col { display: flex; flex-direction: column; flex-basis: 100%; flex: 1; padding: 10px; }\n",
       "    </style>\n",
       "<div class=\"wandb-row\"><div class=\"wandb-col\"><h3>Run history:</h3><br/><table class=\"wandb\"><tr><td>max_fitness</td><td>▁▁████▁▁▁▁▁▁▁▁▂▁▁▁▁▁</td></tr><tr><td>mean_fitness</td><td>▂▁█▅▅▅▂▁▂▂▁▃▃▄▄▄▃▃▂▃</td></tr><tr><td>min_fitness</td><td>▇▆▆▄▆▆▃▃▅▆▁▆▅▇█▅▁▄▃▆</td></tr><tr><td>std_fitness</td><td>▁▁█▆▆▆▂▂▂▂▁▂▂▂▂▂▂▂▂▂</td></tr></table><br/></div><div class=\"wandb-col\"><h3>Run summary:</h3><br/><table class=\"wandb\"><tr><td>best_fitness</td><td>0.26935</td></tr><tr><td>max_fitness</td><td>0.42754</td></tr><tr><td>mean_fitness</td><td>0.36693</td></tr><tr><td>min_fitness</td><td>0.32023</td></tr><tr><td>std_fitness</td><td>0.0306</td></tr></table><br/></div></div>"
      ]
     },
     "metadata": {},
     "output_type": "display_data"
    },
    {
     "data": {
      "text/plain": [
       "<IPython.core.display.HTML object>"
      ],
      "text/html": [
       "Synced <strong style=\"color:#cdcd00\">twilight-armadillo-90</strong>: <a href=\"https://wandb.ai/oliverweissl/NeuralStyleSearch/runs/5vszvjwa\" target=\"_blank\">https://wandb.ai/oliverweissl/NeuralStyleSearch/runs/5vszvjwa</a><br/>Synced 6 W&B file(s), 2 media file(s), 0 artifact file(s) and 0 other file(s)"
      ]
     },
     "metadata": {},
     "output_type": "display_data"
    },
    {
     "data": {
      "text/plain": [
       "<IPython.core.display.HTML object>"
      ],
      "text/html": [
       "Find logs at: <code>./wandb/run-20241106_152012-5vszvjwa/logs</code>"
      ]
     },
     "metadata": {},
     "output_type": "display_data"
    },
    {
     "data": {
      "text/plain": [
       "<IPython.core.display.HTML object>"
      ],
      "text/html": [
       "Successfully finished last run (ID:5vszvjwa). Initializing new run:<br/>"
      ]
     },
     "metadata": {},
     "output_type": "display_data"
    },
    {
     "data": {
      "text/plain": [
       "<IPython.core.display.HTML object>"
      ],
      "text/html": [
       "wandb version 0.18.5 is available!  To upgrade, please run:\n",
       " $ pip install wandb --upgrade"
      ]
     },
     "metadata": {},
     "output_type": "display_data"
    },
    {
     "data": {
      "text/plain": [
       "<IPython.core.display.HTML object>"
      ],
      "text/html": [
       "Tracking run with wandb version 0.13.5"
      ]
     },
     "metadata": {},
     "output_type": "display_data"
    },
    {
     "data": {
      "text/plain": [
       "<IPython.core.display.HTML object>"
      ],
      "text/html": [
       "Run data is saved locally in <code>/home/oliver/PycharmProjects/NeuralStyle/wandb/run-20241106_152021-c4i3jxpn</code>"
      ]
     },
     "metadata": {},
     "output_type": "display_data"
    },
    {
     "data": {
      "text/plain": [
       "<IPython.core.display.HTML object>"
      ],
      "text/html": [
       "Syncing run <strong><a href=\"https://wandb.ai/oliverweissl/NeuralStyleSearch/runs/c4i3jxpn\" target=\"_blank\">good-bee-91</a></strong> to <a href=\"https://wandb.ai/oliverweissl/NeuralStyleSearch\" target=\"_blank\">Weights & Biases</a> (<a href=\"https://wandb.me/run\" target=\"_blank\">docs</a>)<br/>"
      ]
     },
     "metadata": {},
     "output_type": "display_data"
    },
    {
     "name": "stdout",
     "output_type": "stream",
     "text": [
      "[2024-11-06 15:20:28,721 - root - INFO] Generate seed(s) for class: 2.\n",
      "[2024-11-06 15:20:28,729 - root - INFO] \tFound 1 valid seed(s) after: 1 iterations.\n",
      "[2024-11-06 15:20:28,731 - root - INFO] Running Search-Algorithm for 20 generations.\n",
      "[2024-11-06 15:20:30,968 - root - INFO] \tBest candidate has a fitness of: 0.21128811872380315\n",
      "[2024-11-06 15:20:30,970 - root - INFO] \tReset learner!\n"
     ]
    },
    {
     "data": {
      "text/plain": [
       "<IPython.core.display.HTML object>"
      ],
      "text/html": [
       "Finishing last run (ID:c4i3jxpn) before initializing another..."
      ]
     },
     "metadata": {},
     "output_type": "display_data"
    },
    {
     "data": {
      "text/plain": [
       "<IPython.core.display.HTML object>"
      ],
      "text/html": [
       "Waiting for W&B process to finish... <strong style=\"color:green\">(success).</strong>"
      ]
     },
     "metadata": {},
     "output_type": "display_data"
    },
    {
     "data": {
      "text/plain": [
       "<IPython.core.display.HTML object>"
      ],
      "text/html": [
       "<style>\n",
       "    table.wandb td:nth-child(1) { padding: 0 10px; text-align: left ; width: auto;} td:nth-child(2) {text-align: left ; width: 100%}\n",
       "    .wandb-row { display: flex; flex-direction: row; flex-wrap: wrap; justify-content: flex-start; width: 100% }\n",
       "    .wandb-col { display: flex; flex-direction: column; flex-basis: 100%; flex: 1; padding: 10px; }\n",
       "    </style>\n",
       "<div class=\"wandb-row\"><div class=\"wandb-col\"><h3>Run history:</h3><br/><table class=\"wandb\"><tr><td>max_fitness</td><td>▂▂▅▄▄▇▆▇▆▄▅▅▇▅▅▆▂█▄▁</td></tr><tr><td>mean_fitness</td><td>▃▃▂▂▂▃▆▆█▅▇▇▇▆▇▇▆▇▄▁</td></tr><tr><td>min_fitness</td><td>█▆▄▃▆▅▅▅█▄▄▅▅█▁▇▇▆▅▄</td></tr><tr><td>std_fitness</td><td>▁▂▅▅▄▅▇▇▆▆▆▇▇▃▇█▅█▆▃</td></tr></table><br/></div><div class=\"wandb-col\"><h3>Run summary:</h3><br/><table class=\"wandb\"><tr><td>best_fitness</td><td>0.21129</td></tr><tr><td>max_fitness</td><td>0.49472</td></tr><tr><td>mean_fitness</td><td>0.3703</td></tr><tr><td>min_fitness</td><td>0.25735</td></tr><tr><td>std_fitness</td><td>0.05781</td></tr></table><br/></div></div>"
      ]
     },
     "metadata": {},
     "output_type": "display_data"
    },
    {
     "data": {
      "text/plain": [
       "<IPython.core.display.HTML object>"
      ],
      "text/html": [
       "Synced <strong style=\"color:#cdcd00\">good-bee-91</strong>: <a href=\"https://wandb.ai/oliverweissl/NeuralStyleSearch/runs/c4i3jxpn\" target=\"_blank\">https://wandb.ai/oliverweissl/NeuralStyleSearch/runs/c4i3jxpn</a><br/>Synced 6 W&B file(s), 2 media file(s), 0 artifact file(s) and 0 other file(s)"
      ]
     },
     "metadata": {},
     "output_type": "display_data"
    },
    {
     "data": {
      "text/plain": [
       "<IPython.core.display.HTML object>"
      ],
      "text/html": [
       "Find logs at: <code>./wandb/run-20241106_152021-c4i3jxpn/logs</code>"
      ]
     },
     "metadata": {},
     "output_type": "display_data"
    },
    {
     "data": {
      "text/plain": [
       "<IPython.core.display.HTML object>"
      ],
      "text/html": [
       "Successfully finished last run (ID:c4i3jxpn). Initializing new run:<br/>"
      ]
     },
     "metadata": {},
     "output_type": "display_data"
    },
    {
     "data": {
      "text/plain": [
       "<IPython.core.display.HTML object>"
      ],
      "text/html": [
       "wandb version 0.18.5 is available!  To upgrade, please run:\n",
       " $ pip install wandb --upgrade"
      ]
     },
     "metadata": {},
     "output_type": "display_data"
    },
    {
     "data": {
      "text/plain": [
       "<IPython.core.display.HTML object>"
      ],
      "text/html": [
       "Tracking run with wandb version 0.13.5"
      ]
     },
     "metadata": {},
     "output_type": "display_data"
    },
    {
     "data": {
      "text/plain": [
       "<IPython.core.display.HTML object>"
      ],
      "text/html": [
       "Run data is saved locally in <code>/home/oliver/PycharmProjects/NeuralStyle/wandb/run-20241106_152030-1w6hew5g</code>"
      ]
     },
     "metadata": {},
     "output_type": "display_data"
    },
    {
     "data": {
      "text/plain": [
       "<IPython.core.display.HTML object>"
      ],
      "text/html": [
       "Syncing run <strong><a href=\"https://wandb.ai/oliverweissl/NeuralStyleSearch/runs/1w6hew5g\" target=\"_blank\">misty-butterfly-92</a></strong> to <a href=\"https://wandb.ai/oliverweissl/NeuralStyleSearch\" target=\"_blank\">Weights & Biases</a> (<a href=\"https://wandb.me/run\" target=\"_blank\">docs</a>)<br/>"
      ]
     },
     "metadata": {},
     "output_type": "display_data"
    },
    {
     "name": "stdout",
     "output_type": "stream",
     "text": [
      "[2024-11-06 15:20:38,514 - root - INFO] Generate seed(s) for class: 2.\n",
      "[2024-11-06 15:20:38,522 - root - INFO] \tFound 1 valid seed(s) after: 1 iterations.\n",
      "[2024-11-06 15:20:38,524 - root - INFO] Running Search-Algorithm for 20 generations.\n",
      "[2024-11-06 15:20:40,821 - root - INFO] \tBest candidate has a fitness of: 0.2476262096204096\n",
      "[2024-11-06 15:20:40,824 - root - INFO] \tReset learner!\n"
     ]
    },
    {
     "data": {
      "text/plain": [
       "<IPython.core.display.HTML object>"
      ],
      "text/html": [
       "Finishing last run (ID:1w6hew5g) before initializing another..."
      ]
     },
     "metadata": {},
     "output_type": "display_data"
    },
    {
     "data": {
      "text/plain": [
       "<IPython.core.display.HTML object>"
      ],
      "text/html": [
       "Waiting for W&B process to finish... <strong style=\"color:green\">(success).</strong>"
      ]
     },
     "metadata": {},
     "output_type": "display_data"
    },
    {
     "data": {
      "text/plain": [
       "<IPython.core.display.HTML object>"
      ],
      "text/html": [
       "<style>\n",
       "    table.wandb td:nth-child(1) { padding: 0 10px; text-align: left ; width: auto;} td:nth-child(2) {text-align: left ; width: 100%}\n",
       "    .wandb-row { display: flex; flex-direction: row; flex-wrap: wrap; justify-content: flex-start; width: 100% }\n",
       "    .wandb-col { display: flex; flex-direction: column; flex-basis: 100%; flex: 1; padding: 10px; }\n",
       "    </style>\n",
       "<div class=\"wandb-row\"><div class=\"wandb-col\"><h3>Run history:</h3><br/><table class=\"wandb\"><tr><td>max_fitness</td><td>▁▂▂▅▄▄▃▂▃▃▆▇▇▇▇█▇█▇█</td></tr><tr><td>mean_fitness</td><td>▃▃▃▃▂▂▁▁▂▂▃▅▅▅▅▆▇▇▇█</td></tr><tr><td>min_fitness</td><td>█▇▅▃▁▂▄▁▅▃▄▄▄▅▃▆▃▄▃▂</td></tr><tr><td>std_fitness</td><td>▁▂▃▅▅▅▄▅▄▄▆▆▆▇▆▆▇▇██</td></tr></table><br/></div><div class=\"wandb-col\"><h3>Run summary:</h3><br/><table class=\"wandb\"><tr><td>best_fitness</td><td>0.24763</td></tr><tr><td>max_fitness</td><td>0.33987</td></tr><tr><td>mean_fitness</td><td>0.30173</td></tr><tr><td>min_fitness</td><td>0.24943</td></tr><tr><td>std_fitness</td><td>0.01999</td></tr></table><br/></div></div>"
      ]
     },
     "metadata": {},
     "output_type": "display_data"
    },
    {
     "data": {
      "text/plain": [
       "<IPython.core.display.HTML object>"
      ],
      "text/html": [
       "Synced <strong style=\"color:#cdcd00\">misty-butterfly-92</strong>: <a href=\"https://wandb.ai/oliverweissl/NeuralStyleSearch/runs/1w6hew5g\" target=\"_blank\">https://wandb.ai/oliverweissl/NeuralStyleSearch/runs/1w6hew5g</a><br/>Synced 6 W&B file(s), 2 media file(s), 0 artifact file(s) and 0 other file(s)"
      ]
     },
     "metadata": {},
     "output_type": "display_data"
    },
    {
     "data": {
      "text/plain": [
       "<IPython.core.display.HTML object>"
      ],
      "text/html": [
       "Find logs at: <code>./wandb/run-20241106_152030-1w6hew5g/logs</code>"
      ]
     },
     "metadata": {},
     "output_type": "display_data"
    },
    {
     "data": {
      "text/plain": [
       "<IPython.core.display.HTML object>"
      ],
      "text/html": [
       "Successfully finished last run (ID:1w6hew5g). Initializing new run:<br/>"
      ]
     },
     "metadata": {},
     "output_type": "display_data"
    },
    {
     "data": {
      "text/plain": [
       "<IPython.core.display.HTML object>"
      ],
      "text/html": [
       "wandb version 0.18.5 is available!  To upgrade, please run:\n",
       " $ pip install wandb --upgrade"
      ]
     },
     "metadata": {},
     "output_type": "display_data"
    },
    {
     "data": {
      "text/plain": [
       "<IPython.core.display.HTML object>"
      ],
      "text/html": [
       "Tracking run with wandb version 0.13.5"
      ]
     },
     "metadata": {},
     "output_type": "display_data"
    },
    {
     "data": {
      "text/plain": [
       "<IPython.core.display.HTML object>"
      ],
      "text/html": [
       "Run data is saved locally in <code>/home/oliver/PycharmProjects/NeuralStyle/wandb/run-20241106_152040-a82ez1u3</code>"
      ]
     },
     "metadata": {},
     "output_type": "display_data"
    },
    {
     "data": {
      "text/plain": [
       "<IPython.core.display.HTML object>"
      ],
      "text/html": [
       "Syncing run <strong><a href=\"https://wandb.ai/oliverweissl/NeuralStyleSearch/runs/a82ez1u3\" target=\"_blank\">honest-bush-93</a></strong> to <a href=\"https://wandb.ai/oliverweissl/NeuralStyleSearch\" target=\"_blank\">Weights & Biases</a> (<a href=\"https://wandb.me/run\" target=\"_blank\">docs</a>)<br/>"
      ]
     },
     "metadata": {},
     "output_type": "display_data"
    },
    {
     "name": "stdout",
     "output_type": "stream",
     "text": [
      "[2024-11-06 15:20:48,732 - root - INFO] Generate seed(s) for class: 2.\n",
      "[2024-11-06 15:20:49,510 - root - INFO] \tFound 1 valid seed(s) after: 118 iterations.\n",
      "[2024-11-06 15:20:49,513 - root - INFO] Running Search-Algorithm for 20 generations.\n",
      "[2024-11-06 15:20:51,684 - root - INFO] \tBest candidate has a fitness of: 0.27490153348820745\n",
      "[2024-11-06 15:20:51,686 - root - INFO] \tReset learner!\n"
     ]
    },
    {
     "data": {
      "text/plain": [
       "<IPython.core.display.HTML object>"
      ],
      "text/html": [
       "Finishing last run (ID:a82ez1u3) before initializing another..."
      ]
     },
     "metadata": {},
     "output_type": "display_data"
    },
    {
     "data": {
      "text/plain": [
       "<IPython.core.display.HTML object>"
      ],
      "text/html": [
       "Waiting for W&B process to finish... <strong style=\"color:green\">(success).</strong>"
      ]
     },
     "metadata": {},
     "output_type": "display_data"
    },
    {
     "data": {
      "text/plain": [
       "<IPython.core.display.HTML object>"
      ],
      "text/html": [
       "<style>\n",
       "    table.wandb td:nth-child(1) { padding: 0 10px; text-align: left ; width: auto;} td:nth-child(2) {text-align: left ; width: 100%}\n",
       "    .wandb-row { display: flex; flex-direction: row; flex-wrap: wrap; justify-content: flex-start; width: 100% }\n",
       "    .wandb-col { display: flex; flex-direction: column; flex-basis: 100%; flex: 1; padding: 10px; }\n",
       "    </style>\n",
       "<div class=\"wandb-row\"><div class=\"wandb-col\"><h3>Run history:</h3><br/><table class=\"wandb\"><tr><td>max_fitness</td><td>▃▇▃▅▄▂▂▁▆▁▄▃▃▂▂▃▃▃█▃</td></tr><tr><td>mean_fitness</td><td>▂▆▆█▇▇▇▆▆▅▂▆▅▁▇▇▄▅█▇</td></tr><tr><td>min_fitness</td><td>█▅▇▃▃▇▄▄▇█▁▁▂▄▆▄▅▆▅▆</td></tr><tr><td>std_fitness</td><td>▃▆▃█▇▂▄▃▅▁▄▅▅▃▂▆▇▃▇▆</td></tr></table><br/></div><div class=\"wandb-col\"><h3>Run summary:</h3><br/><table class=\"wandb\"><tr><td>best_fitness</td><td>0.2749</td></tr><tr><td>max_fitness</td><td>0.41778</td></tr><tr><td>mean_fitness</td><td>0.36311</td></tr><tr><td>min_fitness</td><td>0.3029</td></tr><tr><td>std_fitness</td><td>0.0326</td></tr></table><br/></div></div>"
      ]
     },
     "metadata": {},
     "output_type": "display_data"
    },
    {
     "data": {
      "text/plain": [
       "<IPython.core.display.HTML object>"
      ],
      "text/html": [
       "Synced <strong style=\"color:#cdcd00\">honest-bush-93</strong>: <a href=\"https://wandb.ai/oliverweissl/NeuralStyleSearch/runs/a82ez1u3\" target=\"_blank\">https://wandb.ai/oliverweissl/NeuralStyleSearch/runs/a82ez1u3</a><br/>Synced 6 W&B file(s), 2 media file(s), 0 artifact file(s) and 0 other file(s)"
      ]
     },
     "metadata": {},
     "output_type": "display_data"
    },
    {
     "data": {
      "text/plain": [
       "<IPython.core.display.HTML object>"
      ],
      "text/html": [
       "Find logs at: <code>./wandb/run-20241106_152040-a82ez1u3/logs</code>"
      ]
     },
     "metadata": {},
     "output_type": "display_data"
    },
    {
     "data": {
      "text/plain": [
       "<IPython.core.display.HTML object>"
      ],
      "text/html": [
       "Successfully finished last run (ID:a82ez1u3). Initializing new run:<br/>"
      ]
     },
     "metadata": {},
     "output_type": "display_data"
    },
    {
     "data": {
      "text/plain": [
       "<IPython.core.display.HTML object>"
      ],
      "text/html": [
       "wandb version 0.18.5 is available!  To upgrade, please run:\n",
       " $ pip install wandb --upgrade"
      ]
     },
     "metadata": {},
     "output_type": "display_data"
    },
    {
     "data": {
      "text/plain": [
       "<IPython.core.display.HTML object>"
      ],
      "text/html": [
       "Tracking run with wandb version 0.13.5"
      ]
     },
     "metadata": {},
     "output_type": "display_data"
    },
    {
     "data": {
      "text/plain": [
       "<IPython.core.display.HTML object>"
      ],
      "text/html": [
       "Run data is saved locally in <code>/home/oliver/PycharmProjects/NeuralStyle/wandb/run-20241106_152051-wssp5moj</code>"
      ]
     },
     "metadata": {},
     "output_type": "display_data"
    },
    {
     "data": {
      "text/plain": [
       "<IPython.core.display.HTML object>"
      ],
      "text/html": [
       "Syncing run <strong><a href=\"https://wandb.ai/oliverweissl/NeuralStyleSearch/runs/wssp5moj\" target=\"_blank\">lilac-wave-94</a></strong> to <a href=\"https://wandb.ai/oliverweissl/NeuralStyleSearch\" target=\"_blank\">Weights & Biases</a> (<a href=\"https://wandb.me/run\" target=\"_blank\">docs</a>)<br/>"
      ]
     },
     "metadata": {},
     "output_type": "display_data"
    },
    {
     "name": "stdout",
     "output_type": "stream",
     "text": [
      "[2024-11-06 15:20:58,530 - root - INFO] Generate seed(s) for class: 3.\n",
      "[2024-11-06 15:20:58,538 - root - INFO] \tFound 1 valid seed(s) after: 1 iterations.\n",
      "[2024-11-06 15:20:58,540 - root - INFO] Running Search-Algorithm for 20 generations.\n",
      "[2024-11-06 15:21:00,782 - root - INFO] \tBest candidate has a fitness of: 0.060279751185351005\n",
      "[2024-11-06 15:21:00,785 - root - INFO] \tReset learner!\n"
     ]
    },
    {
     "data": {
      "text/plain": [
       "<IPython.core.display.HTML object>"
      ],
      "text/html": [
       "Finishing last run (ID:wssp5moj) before initializing another..."
      ]
     },
     "metadata": {},
     "output_type": "display_data"
    },
    {
     "data": {
      "text/plain": [
       "<IPython.core.display.HTML object>"
      ],
      "text/html": [
       "Waiting for W&B process to finish... <strong style=\"color:green\">(success).</strong>"
      ]
     },
     "metadata": {},
     "output_type": "display_data"
    },
    {
     "data": {
      "text/plain": [
       "<IPython.core.display.HTML object>"
      ],
      "text/html": [
       "<style>\n",
       "    table.wandb td:nth-child(1) { padding: 0 10px; text-align: left ; width: auto;} td:nth-child(2) {text-align: left ; width: 100%}\n",
       "    .wandb-row { display: flex; flex-direction: row; flex-wrap: wrap; justify-content: flex-start; width: 100% }\n",
       "    .wandb-col { display: flex; flex-direction: column; flex-basis: 100%; flex: 1; padding: 10px; }\n",
       "    </style>\n",
       "<div class=\"wandb-row\"><div class=\"wandb-col\"><h3>Run history:</h3><br/><table class=\"wandb\"><tr><td>max_fitness</td><td>▁▅▆▃▅▆▅▅▄▄▆▇▆▆▅▆▆█▆▃</td></tr><tr><td>mean_fitness</td><td>▂▂▁▂▃▄▄▆▃▂▅▆▆█▇██▇▇█</td></tr><tr><td>min_fitness</td><td>▄▃▃▄▆▂▁▃▁▁▂▇▃▁▆▇█▇██</td></tr><tr><td>std_fitness</td><td>▁▄▅▄▄██▆▇▇▆▄▅▇▅▆▄▄▃▂</td></tr></table><br/></div><div class=\"wandb-col\"><h3>Run summary:</h3><br/><table class=\"wandb\"><tr><td>best_fitness</td><td>0.06028</td></tr><tr><td>max_fitness</td><td>0.35163</td></tr><tr><td>mean_fitness</td><td>0.28836</td></tr><tr><td>min_fitness</td><td>0.21859</td></tr><tr><td>std_fitness</td><td>0.0391</td></tr></table><br/></div></div>"
      ]
     },
     "metadata": {},
     "output_type": "display_data"
    },
    {
     "data": {
      "text/plain": [
       "<IPython.core.display.HTML object>"
      ],
      "text/html": [
       "Synced <strong style=\"color:#cdcd00\">lilac-wave-94</strong>: <a href=\"https://wandb.ai/oliverweissl/NeuralStyleSearch/runs/wssp5moj\" target=\"_blank\">https://wandb.ai/oliverweissl/NeuralStyleSearch/runs/wssp5moj</a><br/>Synced 6 W&B file(s), 2 media file(s), 0 artifact file(s) and 0 other file(s)"
      ]
     },
     "metadata": {},
     "output_type": "display_data"
    },
    {
     "data": {
      "text/plain": [
       "<IPython.core.display.HTML object>"
      ],
      "text/html": [
       "Find logs at: <code>./wandb/run-20241106_152051-wssp5moj/logs</code>"
      ]
     },
     "metadata": {},
     "output_type": "display_data"
    },
    {
     "data": {
      "text/plain": [
       "<IPython.core.display.HTML object>"
      ],
      "text/html": [
       "Successfully finished last run (ID:wssp5moj). Initializing new run:<br/>"
      ]
     },
     "metadata": {},
     "output_type": "display_data"
    },
    {
     "data": {
      "text/plain": [
       "<IPython.core.display.HTML object>"
      ],
      "text/html": [
       "wandb version 0.18.5 is available!  To upgrade, please run:\n",
       " $ pip install wandb --upgrade"
      ]
     },
     "metadata": {},
     "output_type": "display_data"
    },
    {
     "data": {
      "text/plain": [
       "<IPython.core.display.HTML object>"
      ],
      "text/html": [
       "Tracking run with wandb version 0.13.5"
      ]
     },
     "metadata": {},
     "output_type": "display_data"
    },
    {
     "data": {
      "text/plain": [
       "<IPython.core.display.HTML object>"
      ],
      "text/html": [
       "Run data is saved locally in <code>/home/oliver/PycharmProjects/NeuralStyle/wandb/run-20241106_152100-db91rzyv</code>"
      ]
     },
     "metadata": {},
     "output_type": "display_data"
    },
    {
     "data": {
      "text/plain": [
       "<IPython.core.display.HTML object>"
      ],
      "text/html": [
       "Syncing run <strong><a href=\"https://wandb.ai/oliverweissl/NeuralStyleSearch/runs/db91rzyv\" target=\"_blank\">revived-silence-95</a></strong> to <a href=\"https://wandb.ai/oliverweissl/NeuralStyleSearch\" target=\"_blank\">Weights & Biases</a> (<a href=\"https://wandb.me/run\" target=\"_blank\">docs</a>)<br/>"
      ]
     },
     "metadata": {},
     "output_type": "display_data"
    },
    {
     "name": "stdout",
     "output_type": "stream",
     "text": [
      "[2024-11-06 15:21:09,206 - root - INFO] Generate seed(s) for class: 3.\n",
      "[2024-11-06 15:21:09,509 - root - INFO] \tFound 1 valid seed(s) after: 49 iterations.\n",
      "[2024-11-06 15:21:09,512 - root - INFO] Running Search-Algorithm for 20 generations.\n",
      "[2024-11-06 15:21:11,770 - root - INFO] \tBest candidate has a fitness of: 0.15758791005986272\n",
      "[2024-11-06 15:21:11,772 - root - INFO] \tReset learner!\n"
     ]
    },
    {
     "data": {
      "text/plain": [
       "<IPython.core.display.HTML object>"
      ],
      "text/html": [
       "Finishing last run (ID:db91rzyv) before initializing another..."
      ]
     },
     "metadata": {},
     "output_type": "display_data"
    },
    {
     "data": {
      "text/plain": [
       "<IPython.core.display.HTML object>"
      ],
      "text/html": [
       "Waiting for W&B process to finish... <strong style=\"color:green\">(success).</strong>"
      ]
     },
     "metadata": {},
     "output_type": "display_data"
    },
    {
     "data": {
      "text/plain": [
       "<IPython.core.display.HTML object>"
      ],
      "text/html": [
       "<style>\n",
       "    table.wandb td:nth-child(1) { padding: 0 10px; text-align: left ; width: auto;} td:nth-child(2) {text-align: left ; width: 100%}\n",
       "    .wandb-row { display: flex; flex-direction: row; flex-wrap: wrap; justify-content: flex-start; width: 100% }\n",
       "    .wandb-col { display: flex; flex-direction: column; flex-basis: 100%; flex: 1; padding: 10px; }\n",
       "    </style>\n",
       "<div class=\"wandb-row\"><div class=\"wandb-col\"><h3>Run history:</h3><br/><table class=\"wandb\"><tr><td>max_fitness</td><td>▁█████▃████▃█▂▄▃████</td></tr><tr><td>mean_fitness</td><td>▁▅▃▄▅█▂▅█▃▃▁▃▁▂▂▄▆█▇</td></tr><tr><td>min_fitness</td><td>█▅▃▅▃▁▄▂▃▁▁▃▁▁▂▂▅▁▅▆</td></tr><tr><td>std_fitness</td><td>▁▆▄▅▅▇▂▆█▄▄▂▅▂▂▂▄▆▇▇</td></tr></table><br/></div><div class=\"wandb-col\"><h3>Run summary:</h3><br/><table class=\"wandb\"><tr><td>best_fitness</td><td>0.15759</td></tr><tr><td>max_fitness</td><td>1.0</td></tr><tr><td>mean_fitness</td><td>0.40412</td></tr><tr><td>min_fitness</td><td>0.19011</td></tr><tr><td>std_fitness</td><td>0.24931</td></tr></table><br/></div></div>"
      ]
     },
     "metadata": {},
     "output_type": "display_data"
    },
    {
     "data": {
      "text/plain": [
       "<IPython.core.display.HTML object>"
      ],
      "text/html": [
       "Synced <strong style=\"color:#cdcd00\">revived-silence-95</strong>: <a href=\"https://wandb.ai/oliverweissl/NeuralStyleSearch/runs/db91rzyv\" target=\"_blank\">https://wandb.ai/oliverweissl/NeuralStyleSearch/runs/db91rzyv</a><br/>Synced 6 W&B file(s), 2 media file(s), 0 artifact file(s) and 0 other file(s)"
      ]
     },
     "metadata": {},
     "output_type": "display_data"
    },
    {
     "data": {
      "text/plain": [
       "<IPython.core.display.HTML object>"
      ],
      "text/html": [
       "Find logs at: <code>./wandb/run-20241106_152100-db91rzyv/logs</code>"
      ]
     },
     "metadata": {},
     "output_type": "display_data"
    },
    {
     "data": {
      "text/plain": [
       "<IPython.core.display.HTML object>"
      ],
      "text/html": [
       "Successfully finished last run (ID:db91rzyv). Initializing new run:<br/>"
      ]
     },
     "metadata": {},
     "output_type": "display_data"
    },
    {
     "data": {
      "text/plain": [
       "<IPython.core.display.HTML object>"
      ],
      "text/html": [
       "wandb version 0.18.5 is available!  To upgrade, please run:\n",
       " $ pip install wandb --upgrade"
      ]
     },
     "metadata": {},
     "output_type": "display_data"
    },
    {
     "data": {
      "text/plain": [
       "<IPython.core.display.HTML object>"
      ],
      "text/html": [
       "Tracking run with wandb version 0.13.5"
      ]
     },
     "metadata": {},
     "output_type": "display_data"
    },
    {
     "data": {
      "text/plain": [
       "<IPython.core.display.HTML object>"
      ],
      "text/html": [
       "Run data is saved locally in <code>/home/oliver/PycharmProjects/NeuralStyle/wandb/run-20241106_152111-c1rx3450</code>"
      ]
     },
     "metadata": {},
     "output_type": "display_data"
    },
    {
     "data": {
      "text/plain": [
       "<IPython.core.display.HTML object>"
      ],
      "text/html": [
       "Syncing run <strong><a href=\"https://wandb.ai/oliverweissl/NeuralStyleSearch/runs/c1rx3450\" target=\"_blank\">leafy-surf-96</a></strong> to <a href=\"https://wandb.ai/oliverweissl/NeuralStyleSearch\" target=\"_blank\">Weights & Biases</a> (<a href=\"https://wandb.me/run\" target=\"_blank\">docs</a>)<br/>"
      ]
     },
     "metadata": {},
     "output_type": "display_data"
    },
    {
     "name": "stdout",
     "output_type": "stream",
     "text": [
      "[2024-11-06 15:21:19,197 - root - INFO] Generate seed(s) for class: 3.\n",
      "[2024-11-06 15:21:19,207 - root - INFO] \tFound 1 valid seed(s) after: 1 iterations.\n",
      "[2024-11-06 15:21:19,209 - root - INFO] Running Search-Algorithm for 20 generations.\n",
      "[2024-11-06 15:21:21,478 - root - INFO] \tBest candidate has a fitness of: 0.15045812166112005\n",
      "[2024-11-06 15:21:21,481 - root - INFO] \tReset learner!\n"
     ]
    },
    {
     "data": {
      "text/plain": [
       "<IPython.core.display.HTML object>"
      ],
      "text/html": [
       "Finishing last run (ID:c1rx3450) before initializing another..."
      ]
     },
     "metadata": {},
     "output_type": "display_data"
    },
    {
     "data": {
      "text/plain": [
       "<IPython.core.display.HTML object>"
      ],
      "text/html": [
       "Waiting for W&B process to finish... <strong style=\"color:green\">(success).</strong>"
      ]
     },
     "metadata": {},
     "output_type": "display_data"
    },
    {
     "data": {
      "text/plain": [
       "<IPython.core.display.HTML object>"
      ],
      "text/html": [
       "<style>\n",
       "    table.wandb td:nth-child(1) { padding: 0 10px; text-align: left ; width: auto;} td:nth-child(2) {text-align: left ; width: 100%}\n",
       "    .wandb-row { display: flex; flex-direction: row; flex-wrap: wrap; justify-content: flex-start; width: 100% }\n",
       "    .wandb-col { display: flex; flex-direction: column; flex-basis: 100%; flex: 1; padding: 10px; }\n",
       "    </style>\n",
       "<div class=\"wandb-row\"><div class=\"wandb-col\"><h3>Run history:</h3><br/><table class=\"wandb\"><tr><td>max_fitness</td><td>▁▁▁▁▁▁▁▁▁▁▁▁▁▁▁▁▁▁▁▁</td></tr><tr><td>mean_fitness</td><td>█▇▇▆▅▆▄▃▃▃▂▂▁▂▃▂▁▂▁▁</td></tr><tr><td>min_fitness</td><td>▆█▆▃▄▂▃▂▃▁▂▂▂▂▂▁▁▁▁▂</td></tr><tr><td>std_fitness</td><td>▁▄▅▇█▇████▇▇▅▇█▇▆▇▆▆</td></tr></table><br/></div><div class=\"wandb-col\"><h3>Run summary:</h3><br/><table class=\"wandb\"><tr><td>best_fitness</td><td>0.15046</td></tr><tr><td>max_fitness</td><td>1.0</td></tr><tr><td>mean_fitness</td><td>0.36289</td></tr><tr><td>min_fitness</td><td>0.16026</td></tr><tr><td>std_fitness</td><td>0.32037</td></tr></table><br/></div></div>"
      ]
     },
     "metadata": {},
     "output_type": "display_data"
    },
    {
     "data": {
      "text/plain": [
       "<IPython.core.display.HTML object>"
      ],
      "text/html": [
       "Synced <strong style=\"color:#cdcd00\">leafy-surf-96</strong>: <a href=\"https://wandb.ai/oliverweissl/NeuralStyleSearch/runs/c1rx3450\" target=\"_blank\">https://wandb.ai/oliverweissl/NeuralStyleSearch/runs/c1rx3450</a><br/>Synced 6 W&B file(s), 2 media file(s), 0 artifact file(s) and 0 other file(s)"
      ]
     },
     "metadata": {},
     "output_type": "display_data"
    },
    {
     "data": {
      "text/plain": [
       "<IPython.core.display.HTML object>"
      ],
      "text/html": [
       "Find logs at: <code>./wandb/run-20241106_152111-c1rx3450/logs</code>"
      ]
     },
     "metadata": {},
     "output_type": "display_data"
    },
    {
     "data": {
      "text/plain": [
       "<IPython.core.display.HTML object>"
      ],
      "text/html": [
       "Successfully finished last run (ID:c1rx3450). Initializing new run:<br/>"
      ]
     },
     "metadata": {},
     "output_type": "display_data"
    },
    {
     "data": {
      "text/plain": [
       "<IPython.core.display.HTML object>"
      ],
      "text/html": [
       "wandb version 0.18.5 is available!  To upgrade, please run:\n",
       " $ pip install wandb --upgrade"
      ]
     },
     "metadata": {},
     "output_type": "display_data"
    },
    {
     "data": {
      "text/plain": [
       "<IPython.core.display.HTML object>"
      ],
      "text/html": [
       "Tracking run with wandb version 0.13.5"
      ]
     },
     "metadata": {},
     "output_type": "display_data"
    },
    {
     "data": {
      "text/plain": [
       "<IPython.core.display.HTML object>"
      ],
      "text/html": [
       "Run data is saved locally in <code>/home/oliver/PycharmProjects/NeuralStyle/wandb/run-20241106_152121-1zotjv84</code>"
      ]
     },
     "metadata": {},
     "output_type": "display_data"
    },
    {
     "data": {
      "text/plain": [
       "<IPython.core.display.HTML object>"
      ],
      "text/html": [
       "Syncing run <strong><a href=\"https://wandb.ai/oliverweissl/NeuralStyleSearch/runs/1zotjv84\" target=\"_blank\">playful-armadillo-97</a></strong> to <a href=\"https://wandb.ai/oliverweissl/NeuralStyleSearch\" target=\"_blank\">Weights & Biases</a> (<a href=\"https://wandb.me/run\" target=\"_blank\">docs</a>)<br/>"
      ]
     },
     "metadata": {},
     "output_type": "display_data"
    },
    {
     "name": "stdout",
     "output_type": "stream",
     "text": [
      "[2024-11-06 15:21:29,168 - root - INFO] Generate seed(s) for class: 3.\n",
      "[2024-11-06 15:21:29,176 - root - INFO] \tFound 1 valid seed(s) after: 1 iterations.\n",
      "[2024-11-06 15:21:29,178 - root - INFO] Running Search-Algorithm for 20 generations.\n",
      "[2024-11-06 15:21:31,503 - root - INFO] \tBest candidate has a fitness of: 0.3092789891995722\n",
      "[2024-11-06 15:21:31,506 - root - INFO] \tReset learner!\n"
     ]
    },
    {
     "data": {
      "text/plain": [
       "<IPython.core.display.HTML object>"
      ],
      "text/html": [
       "Finishing last run (ID:1zotjv84) before initializing another..."
      ]
     },
     "metadata": {},
     "output_type": "display_data"
    },
    {
     "data": {
      "text/plain": [
       "<IPython.core.display.HTML object>"
      ],
      "text/html": [
       "Waiting for W&B process to finish... <strong style=\"color:green\">(success).</strong>"
      ]
     },
     "metadata": {},
     "output_type": "display_data"
    },
    {
     "data": {
      "text/plain": [
       "<IPython.core.display.HTML object>"
      ],
      "text/html": [
       "<style>\n",
       "    table.wandb td:nth-child(1) { padding: 0 10px; text-align: left ; width: auto;} td:nth-child(2) {text-align: left ; width: 100%}\n",
       "    .wandb-row { display: flex; flex-direction: row; flex-wrap: wrap; justify-content: flex-start; width: 100% }\n",
       "    .wandb-col { display: flex; flex-direction: column; flex-basis: 100%; flex: 1; padding: 10px; }\n",
       "    </style>\n",
       "<div class=\"wandb-row\"><div class=\"wandb-col\"><h3>Run history:</h3><br/><table class=\"wandb\"><tr><td>max_fitness</td><td>▁▁█▁█▁▁▁▁▁█▁█▁▁▁▁▁██</td></tr><tr><td>mean_fitness</td><td>▅▅▆▄█▃▃▃▃▃▅▃▄▁▁▁▁▁▃▃</td></tr><tr><td>min_fitness</td><td>█▆▅▄▆▅▅▅▅▆▄▄▄▄▂▃▂▂▁▂</td></tr><tr><td>std_fitness</td><td>▁▁▆▂█▁▂▁▁▁▆▁▆▁▂▂▂▂▆▆</td></tr></table><br/></div><div class=\"wandb-col\"><h3>Run summary:</h3><br/><table class=\"wandb\"><tr><td>best_fitness</td><td>0.30928</td></tr><tr><td>max_fitness</td><td>1.0</td></tr><tr><td>mean_fitness</td><td>0.4047</td></tr><tr><td>min_fitness</td><td>0.3154</td></tr><tr><td>std_fitness</td><td>0.11467</td></tr></table><br/></div></div>"
      ]
     },
     "metadata": {},
     "output_type": "display_data"
    },
    {
     "data": {
      "text/plain": [
       "<IPython.core.display.HTML object>"
      ],
      "text/html": [
       "Synced <strong style=\"color:#cdcd00\">playful-armadillo-97</strong>: <a href=\"https://wandb.ai/oliverweissl/NeuralStyleSearch/runs/1zotjv84\" target=\"_blank\">https://wandb.ai/oliverweissl/NeuralStyleSearch/runs/1zotjv84</a><br/>Synced 6 W&B file(s), 2 media file(s), 0 artifact file(s) and 0 other file(s)"
      ]
     },
     "metadata": {},
     "output_type": "display_data"
    },
    {
     "data": {
      "text/plain": [
       "<IPython.core.display.HTML object>"
      ],
      "text/html": [
       "Find logs at: <code>./wandb/run-20241106_152121-1zotjv84/logs</code>"
      ]
     },
     "metadata": {},
     "output_type": "display_data"
    },
    {
     "data": {
      "text/plain": [
       "<IPython.core.display.HTML object>"
      ],
      "text/html": [
       "Successfully finished last run (ID:1zotjv84). Initializing new run:<br/>"
      ]
     },
     "metadata": {},
     "output_type": "display_data"
    },
    {
     "data": {
      "text/plain": [
       "<IPython.core.display.HTML object>"
      ],
      "text/html": [
       "wandb version 0.18.5 is available!  To upgrade, please run:\n",
       " $ pip install wandb --upgrade"
      ]
     },
     "metadata": {},
     "output_type": "display_data"
    },
    {
     "data": {
      "text/plain": [
       "<IPython.core.display.HTML object>"
      ],
      "text/html": [
       "Tracking run with wandb version 0.13.5"
      ]
     },
     "metadata": {},
     "output_type": "display_data"
    },
    {
     "data": {
      "text/plain": [
       "<IPython.core.display.HTML object>"
      ],
      "text/html": [
       "Run data is saved locally in <code>/home/oliver/PycharmProjects/NeuralStyle/wandb/run-20241106_152131-rjrd0lbk</code>"
      ]
     },
     "metadata": {},
     "output_type": "display_data"
    },
    {
     "data": {
      "text/plain": [
       "<IPython.core.display.HTML object>"
      ],
      "text/html": [
       "Syncing run <strong><a href=\"https://wandb.ai/oliverweissl/NeuralStyleSearch/runs/rjrd0lbk\" target=\"_blank\">northern-wind-98</a></strong> to <a href=\"https://wandb.ai/oliverweissl/NeuralStyleSearch\" target=\"_blank\">Weights & Biases</a> (<a href=\"https://wandb.me/run\" target=\"_blank\">docs</a>)<br/>"
      ]
     },
     "metadata": {},
     "output_type": "display_data"
    },
    {
     "name": "stdout",
     "output_type": "stream",
     "text": [
      "[2024-11-06 15:21:39,170 - root - INFO] Generate seed(s) for class: 3.\n",
      "[2024-11-06 15:21:39,177 - root - INFO] \tFound 1 valid seed(s) after: 1 iterations.\n",
      "[2024-11-06 15:21:39,180 - root - INFO] Running Search-Algorithm for 20 generations.\n",
      "[2024-11-06 15:21:41,514 - root - INFO] \tBest candidate has a fitness of: 0.2743792775906855\n",
      "[2024-11-06 15:21:41,517 - root - INFO] \tReset learner!\n"
     ]
    },
    {
     "data": {
      "text/plain": [
       "<IPython.core.display.HTML object>"
      ],
      "text/html": [
       "Finishing last run (ID:rjrd0lbk) before initializing another..."
      ]
     },
     "metadata": {},
     "output_type": "display_data"
    },
    {
     "data": {
      "text/plain": [
       "<IPython.core.display.HTML object>"
      ],
      "text/html": [
       "Waiting for W&B process to finish... <strong style=\"color:green\">(success).</strong>"
      ]
     },
     "metadata": {},
     "output_type": "display_data"
    },
    {
     "data": {
      "text/plain": [
       "<IPython.core.display.HTML object>"
      ],
      "text/html": [
       "<style>\n",
       "    table.wandb td:nth-child(1) { padding: 0 10px; text-align: left ; width: auto;} td:nth-child(2) {text-align: left ; width: 100%}\n",
       "    .wandb-row { display: flex; flex-direction: row; flex-wrap: wrap; justify-content: flex-start; width: 100% }\n",
       "    .wandb-col { display: flex; flex-direction: column; flex-basis: 100%; flex: 1; padding: 10px; }\n",
       "    </style>\n",
       "<div class=\"wandb-row\"><div class=\"wandb-col\"><h3>Run history:</h3><br/><table class=\"wandb\"><tr><td>max_fitness</td><td>▁▁▁▁▁▁▁▁▁▁▁▁▁▁▁▁▁▁▁▁</td></tr><tr><td>mean_fitness</td><td>▅▃▆▄▇▁▄▄▄▄▂▂▁▄█▄▄▄▄▂</td></tr><tr><td>min_fitness</td><td>█▆▆▄▄▃▃▄▃▄▄▂▃▂▃▂▂▅▃▁</td></tr><tr><td>std_fitness</td><td>▄▃▆▅▇▁▅▅▅▅▃▃▁▅█▅▅▅▆▃</td></tr></table><br/></div><div class=\"wandb-col\"><h3>Run summary:</h3><br/><table class=\"wandb\"><tr><td>best_fitness</td><td>0.27438</td></tr><tr><td>max_fitness</td><td>1.0</td></tr><tr><td>mean_fitness</td><td>0.47379</td></tr><tr><td>min_fitness</td><td>0.27438</td></tr><tr><td>std_fitness</td><td>0.18041</td></tr></table><br/></div></div>"
      ]
     },
     "metadata": {},
     "output_type": "display_data"
    },
    {
     "data": {
      "text/plain": [
       "<IPython.core.display.HTML object>"
      ],
      "text/html": [
       "Synced <strong style=\"color:#cdcd00\">northern-wind-98</strong>: <a href=\"https://wandb.ai/oliverweissl/NeuralStyleSearch/runs/rjrd0lbk\" target=\"_blank\">https://wandb.ai/oliverweissl/NeuralStyleSearch/runs/rjrd0lbk</a><br/>Synced 6 W&B file(s), 2 media file(s), 0 artifact file(s) and 0 other file(s)"
      ]
     },
     "metadata": {},
     "output_type": "display_data"
    },
    {
     "data": {
      "text/plain": [
       "<IPython.core.display.HTML object>"
      ],
      "text/html": [
       "Find logs at: <code>./wandb/run-20241106_152131-rjrd0lbk/logs</code>"
      ]
     },
     "metadata": {},
     "output_type": "display_data"
    },
    {
     "data": {
      "text/plain": [
       "<IPython.core.display.HTML object>"
      ],
      "text/html": [
       "Successfully finished last run (ID:rjrd0lbk). Initializing new run:<br/>"
      ]
     },
     "metadata": {},
     "output_type": "display_data"
    },
    {
     "data": {
      "text/plain": [
       "<IPython.core.display.HTML object>"
      ],
      "text/html": [
       "wandb version 0.18.5 is available!  To upgrade, please run:\n",
       " $ pip install wandb --upgrade"
      ]
     },
     "metadata": {},
     "output_type": "display_data"
    },
    {
     "data": {
      "text/plain": [
       "<IPython.core.display.HTML object>"
      ],
      "text/html": [
       "Tracking run with wandb version 0.13.5"
      ]
     },
     "metadata": {},
     "output_type": "display_data"
    },
    {
     "data": {
      "text/plain": [
       "<IPython.core.display.HTML object>"
      ],
      "text/html": [
       "Run data is saved locally in <code>/home/oliver/PycharmProjects/NeuralStyle/wandb/run-20241106_152141-f5xib3bz</code>"
      ]
     },
     "metadata": {},
     "output_type": "display_data"
    },
    {
     "data": {
      "text/plain": [
       "<IPython.core.display.HTML object>"
      ],
      "text/html": [
       "Syncing run <strong><a href=\"https://wandb.ai/oliverweissl/NeuralStyleSearch/runs/f5xib3bz\" target=\"_blank\">glorious-fire-99</a></strong> to <a href=\"https://wandb.ai/oliverweissl/NeuralStyleSearch\" target=\"_blank\">Weights & Biases</a> (<a href=\"https://wandb.me/run\" target=\"_blank\">docs</a>)<br/>"
      ]
     },
     "metadata": {},
     "output_type": "display_data"
    },
    {
     "name": "stdout",
     "output_type": "stream",
     "text": [
      "[2024-11-06 15:21:49,234 - root - INFO] Generate seed(s) for class: 3.\n",
      "[2024-11-06 15:21:49,248 - root - INFO] \tFound 1 valid seed(s) after: 1 iterations.\n",
      "[2024-11-06 15:21:49,251 - root - INFO] Running Search-Algorithm for 20 generations.\n",
      "[2024-11-06 15:21:51,519 - root - INFO] \tBest candidate has a fitness of: 0.11914327180760442\n",
      "[2024-11-06 15:21:51,521 - root - INFO] \tReset learner!\n"
     ]
    },
    {
     "data": {
      "text/plain": [
       "<IPython.core.display.HTML object>"
      ],
      "text/html": [
       "Finishing last run (ID:f5xib3bz) before initializing another..."
      ]
     },
     "metadata": {},
     "output_type": "display_data"
    },
    {
     "data": {
      "text/plain": [
       "<IPython.core.display.HTML object>"
      ],
      "text/html": [
       "Waiting for W&B process to finish... <strong style=\"color:green\">(success).</strong>"
      ]
     },
     "metadata": {},
     "output_type": "display_data"
    },
    {
     "data": {
      "text/plain": [
       "<IPython.core.display.HTML object>"
      ],
      "text/html": [
       "<style>\n",
       "    table.wandb td:nth-child(1) { padding: 0 10px; text-align: left ; width: auto;} td:nth-child(2) {text-align: left ; width: 100%}\n",
       "    .wandb-row { display: flex; flex-direction: row; flex-wrap: wrap; justify-content: flex-start; width: 100% }\n",
       "    .wandb-col { display: flex; flex-direction: column; flex-basis: 100%; flex: 1; padding: 10px; }\n",
       "    </style>\n",
       "<div class=\"wandb-row\"><div class=\"wandb-col\"><h3>Run history:</h3><br/><table class=\"wandb\"><tr><td>max_fitness</td><td>▁▁▁▁▁▁▁▁▁▁▁▁▁▁▁▁▁▁▁▁</td></tr><tr><td>mean_fitness</td><td>▆▁▆█▄▃▇▄▇▄▃▆▂▃▂▂▅▃▅▆</td></tr><tr><td>min_fitness</td><td>▇▅▄▄▂▄▇██▃▄▇█▂▄▄▂▃▁▆</td></tr><tr><td>std_fitness</td><td>▅▁▇▅▆▄▃▃▄▃▃▆▂▄▂▂█▄▆▅</td></tr></table><br/></div><div class=\"wandb-col\"><h3>Run summary:</h3><br/><table class=\"wandb\"><tr><td>best_fitness</td><td>0.11914</td></tr><tr><td>max_fitness</td><td>1.0</td></tr><tr><td>mean_fitness</td><td>0.60244</td></tr><tr><td>min_fitness</td><td>0.1589</td></tr><tr><td>std_fitness</td><td>0.39805</td></tr></table><br/></div></div>"
      ]
     },
     "metadata": {},
     "output_type": "display_data"
    },
    {
     "data": {
      "text/plain": [
       "<IPython.core.display.HTML object>"
      ],
      "text/html": [
       "Synced <strong style=\"color:#cdcd00\">glorious-fire-99</strong>: <a href=\"https://wandb.ai/oliverweissl/NeuralStyleSearch/runs/f5xib3bz\" target=\"_blank\">https://wandb.ai/oliverweissl/NeuralStyleSearch/runs/f5xib3bz</a><br/>Synced 6 W&B file(s), 2 media file(s), 0 artifact file(s) and 0 other file(s)"
      ]
     },
     "metadata": {},
     "output_type": "display_data"
    },
    {
     "data": {
      "text/plain": [
       "<IPython.core.display.HTML object>"
      ],
      "text/html": [
       "Find logs at: <code>./wandb/run-20241106_152141-f5xib3bz/logs</code>"
      ]
     },
     "metadata": {},
     "output_type": "display_data"
    },
    {
     "data": {
      "text/plain": [
       "<IPython.core.display.HTML object>"
      ],
      "text/html": [
       "Successfully finished last run (ID:f5xib3bz). Initializing new run:<br/>"
      ]
     },
     "metadata": {},
     "output_type": "display_data"
    },
    {
     "data": {
      "text/plain": [
       "<IPython.core.display.HTML object>"
      ],
      "text/html": [
       "wandb version 0.18.5 is available!  To upgrade, please run:\n",
       " $ pip install wandb --upgrade"
      ]
     },
     "metadata": {},
     "output_type": "display_data"
    },
    {
     "data": {
      "text/plain": [
       "<IPython.core.display.HTML object>"
      ],
      "text/html": [
       "Tracking run with wandb version 0.13.5"
      ]
     },
     "metadata": {},
     "output_type": "display_data"
    },
    {
     "data": {
      "text/plain": [
       "<IPython.core.display.HTML object>"
      ],
      "text/html": [
       "Run data is saved locally in <code>/home/oliver/PycharmProjects/NeuralStyle/wandb/run-20241106_152151-ib93ids1</code>"
      ]
     },
     "metadata": {},
     "output_type": "display_data"
    },
    {
     "data": {
      "text/plain": [
       "<IPython.core.display.HTML object>"
      ],
      "text/html": [
       "Syncing run <strong><a href=\"https://wandb.ai/oliverweissl/NeuralStyleSearch/runs/ib93ids1\" target=\"_blank\">expert-sound-100</a></strong> to <a href=\"https://wandb.ai/oliverweissl/NeuralStyleSearch\" target=\"_blank\">Weights & Biases</a> (<a href=\"https://wandb.me/run\" target=\"_blank\">docs</a>)<br/>"
      ]
     },
     "metadata": {},
     "output_type": "display_data"
    },
    {
     "name": "stdout",
     "output_type": "stream",
     "text": [
      "[2024-11-06 15:21:59,329 - root - INFO] Generate seed(s) for class: 3.\n",
      "[2024-11-06 15:21:59,337 - root - INFO] \tFound 1 valid seed(s) after: 1 iterations.\n",
      "[2024-11-06 15:21:59,339 - root - INFO] Running Search-Algorithm for 20 generations.\n",
      "[2024-11-06 15:22:01,681 - root - INFO] \tBest candidate has a fitness of: 0.054524326685839286\n",
      "[2024-11-06 15:22:01,684 - root - INFO] \tReset learner!\n"
     ]
    },
    {
     "data": {
      "text/plain": [
       "<IPython.core.display.HTML object>"
      ],
      "text/html": [
       "Finishing last run (ID:ib93ids1) before initializing another..."
      ]
     },
     "metadata": {},
     "output_type": "display_data"
    },
    {
     "data": {
      "text/plain": [
       "<IPython.core.display.HTML object>"
      ],
      "text/html": [
       "Waiting for W&B process to finish... <strong style=\"color:green\">(success).</strong>"
      ]
     },
     "metadata": {},
     "output_type": "display_data"
    },
    {
     "data": {
      "text/plain": [
       "<IPython.core.display.HTML object>"
      ],
      "text/html": [
       "<style>\n",
       "    table.wandb td:nth-child(1) { padding: 0 10px; text-align: left ; width: auto;} td:nth-child(2) {text-align: left ; width: 100%}\n",
       "    .wandb-row { display: flex; flex-direction: row; flex-wrap: wrap; justify-content: flex-start; width: 100% }\n",
       "    .wandb-col { display: flex; flex-direction: column; flex-basis: 100%; flex: 1; padding: 10px; }\n",
       "    </style>\n",
       "<div class=\"wandb-row\"><div class=\"wandb-col\"><h3>Run history:</h3><br/><table class=\"wandb\"><tr><td>max_fitness</td><td>▁█▁█▂█████▂█████████</td></tr><tr><td>mean_fitness</td><td>▁▂▁▃▃▅▅▄▇▅▄▇▇▆█▆▇▆▇▆</td></tr><tr><td>min_fitness</td><td>▂▂▁▁▂▃▂▂▃▁▂▃▅▃▂▇█▄▃▇</td></tr><tr><td>std_fitness</td><td>▁▄▂▄▂▇▆▆█▆▂▆▅▅▇▄▅▄▅▄</td></tr></table><br/></div><div class=\"wandb-col\"><h3>Run summary:</h3><br/><table class=\"wandb\"><tr><td>best_fitness</td><td>0.05452</td></tr><tr><td>max_fitness</td><td>1.0</td></tr><tr><td>mean_fitness</td><td>0.27056</td></tr><tr><td>min_fitness</td><td>0.13967</td></tr><tr><td>std_fitness</td><td>0.14635</td></tr></table><br/></div></div>"
      ]
     },
     "metadata": {},
     "output_type": "display_data"
    },
    {
     "data": {
      "text/plain": [
       "<IPython.core.display.HTML object>"
      ],
      "text/html": [
       "Synced <strong style=\"color:#cdcd00\">expert-sound-100</strong>: <a href=\"https://wandb.ai/oliverweissl/NeuralStyleSearch/runs/ib93ids1\" target=\"_blank\">https://wandb.ai/oliverweissl/NeuralStyleSearch/runs/ib93ids1</a><br/>Synced 6 W&B file(s), 2 media file(s), 0 artifact file(s) and 0 other file(s)"
      ]
     },
     "metadata": {},
     "output_type": "display_data"
    },
    {
     "data": {
      "text/plain": [
       "<IPython.core.display.HTML object>"
      ],
      "text/html": [
       "Find logs at: <code>./wandb/run-20241106_152151-ib93ids1/logs</code>"
      ]
     },
     "metadata": {},
     "output_type": "display_data"
    },
    {
     "data": {
      "text/plain": [
       "<IPython.core.display.HTML object>"
      ],
      "text/html": [
       "Successfully finished last run (ID:ib93ids1). Initializing new run:<br/>"
      ]
     },
     "metadata": {},
     "output_type": "display_data"
    },
    {
     "data": {
      "text/plain": [
       "<IPython.core.display.HTML object>"
      ],
      "text/html": [
       "wandb version 0.18.5 is available!  To upgrade, please run:\n",
       " $ pip install wandb --upgrade"
      ]
     },
     "metadata": {},
     "output_type": "display_data"
    },
    {
     "data": {
      "text/plain": [
       "<IPython.core.display.HTML object>"
      ],
      "text/html": [
       "Tracking run with wandb version 0.13.5"
      ]
     },
     "metadata": {},
     "output_type": "display_data"
    },
    {
     "data": {
      "text/plain": [
       "<IPython.core.display.HTML object>"
      ],
      "text/html": [
       "Run data is saved locally in <code>/home/oliver/PycharmProjects/NeuralStyle/wandb/run-20241106_152201-c26unbc8</code>"
      ]
     },
     "metadata": {},
     "output_type": "display_data"
    },
    {
     "data": {
      "text/plain": [
       "<IPython.core.display.HTML object>"
      ],
      "text/html": [
       "Syncing run <strong><a href=\"https://wandb.ai/oliverweissl/NeuralStyleSearch/runs/c26unbc8\" target=\"_blank\">frosty-sound-101</a></strong> to <a href=\"https://wandb.ai/oliverweissl/NeuralStyleSearch\" target=\"_blank\">Weights & Biases</a> (<a href=\"https://wandb.me/run\" target=\"_blank\">docs</a>)<br/>"
      ]
     },
     "metadata": {},
     "output_type": "display_data"
    },
    {
     "name": "stdout",
     "output_type": "stream",
     "text": [
      "[2024-11-06 15:22:09,293 - root - INFO] Generate seed(s) for class: 3.\n",
      "[2024-11-06 15:22:09,300 - root - INFO] \tFound 1 valid seed(s) after: 1 iterations.\n",
      "[2024-11-06 15:22:09,303 - root - INFO] Running Search-Algorithm for 20 generations.\n",
      "[2024-11-06 15:22:11,533 - root - INFO] \tBest candidate has a fitness of: 0.37864043748753606\n",
      "[2024-11-06 15:22:11,535 - root - INFO] \tReset learner!\n"
     ]
    },
    {
     "data": {
      "text/plain": [
       "<IPython.core.display.HTML object>"
      ],
      "text/html": [
       "Finishing last run (ID:c26unbc8) before initializing another..."
      ]
     },
     "metadata": {},
     "output_type": "display_data"
    },
    {
     "data": {
      "text/plain": [
       "<IPython.core.display.HTML object>"
      ],
      "text/html": [
       "Waiting for W&B process to finish... <strong style=\"color:green\">(success).</strong>"
      ]
     },
     "metadata": {},
     "output_type": "display_data"
    },
    {
     "data": {
      "text/plain": [
       "<IPython.core.display.HTML object>"
      ],
      "text/html": [
       "<style>\n",
       "    table.wandb td:nth-child(1) { padding: 0 10px; text-align: left ; width: auto;} td:nth-child(2) {text-align: left ; width: 100%}\n",
       "    .wandb-row { display: flex; flex-direction: row; flex-wrap: wrap; justify-content: flex-start; width: 100% }\n",
       "    .wandb-col { display: flex; flex-direction: column; flex-basis: 100%; flex: 1; padding: 10px; }\n",
       "    </style>\n",
       "<div class=\"wandb-row\"><div class=\"wandb-col\"><h3>Run history:</h3><br/><table class=\"wandb\"><tr><td>max_fitness</td><td>▁▁▁▁▁▁▁▁▁▁▁▁▁▁▁▁▁▁▁▁</td></tr><tr><td>mean_fitness</td><td>▆▇▄▅▇▆█▅▇▅▅▄▃▁▄▃▃▄▆▅</td></tr><tr><td>min_fitness</td><td>▆▅▆▄▇▁▃█▆▅▃▃▃▃▆▅▆▄█▆</td></tr><tr><td>std_fitness</td><td>██▇█▇██▆▆▆▆▅▄▁▆▅▄▆▆▆</td></tr></table><br/></div><div class=\"wandb-col\"><h3>Run summary:</h3><br/><table class=\"wandb\"><tr><td>best_fitness</td><td>0.37864</td></tr><tr><td>max_fitness</td><td>1.0</td></tr><tr><td>mean_fitness</td><td>0.70277</td></tr><tr><td>min_fitness</td><td>0.42061</td></tr><tr><td>std_fitness</td><td>0.24475</td></tr></table><br/></div></div>"
      ]
     },
     "metadata": {},
     "output_type": "display_data"
    },
    {
     "data": {
      "text/plain": [
       "<IPython.core.display.HTML object>"
      ],
      "text/html": [
       "Synced <strong style=\"color:#cdcd00\">frosty-sound-101</strong>: <a href=\"https://wandb.ai/oliverweissl/NeuralStyleSearch/runs/c26unbc8\" target=\"_blank\">https://wandb.ai/oliverweissl/NeuralStyleSearch/runs/c26unbc8</a><br/>Synced 6 W&B file(s), 2 media file(s), 0 artifact file(s) and 0 other file(s)"
      ]
     },
     "metadata": {},
     "output_type": "display_data"
    },
    {
     "data": {
      "text/plain": [
       "<IPython.core.display.HTML object>"
      ],
      "text/html": [
       "Find logs at: <code>./wandb/run-20241106_152201-c26unbc8/logs</code>"
      ]
     },
     "metadata": {},
     "output_type": "display_data"
    },
    {
     "data": {
      "text/plain": [
       "<IPython.core.display.HTML object>"
      ],
      "text/html": [
       "Successfully finished last run (ID:c26unbc8). Initializing new run:<br/>"
      ]
     },
     "metadata": {},
     "output_type": "display_data"
    },
    {
     "data": {
      "text/plain": [
       "<IPython.core.display.HTML object>"
      ],
      "text/html": [
       "wandb version 0.18.5 is available!  To upgrade, please run:\n",
       " $ pip install wandb --upgrade"
      ]
     },
     "metadata": {},
     "output_type": "display_data"
    },
    {
     "data": {
      "text/plain": [
       "<IPython.core.display.HTML object>"
      ],
      "text/html": [
       "Tracking run with wandb version 0.13.5"
      ]
     },
     "metadata": {},
     "output_type": "display_data"
    },
    {
     "data": {
      "text/plain": [
       "<IPython.core.display.HTML object>"
      ],
      "text/html": [
       "Run data is saved locally in <code>/home/oliver/PycharmProjects/NeuralStyle/wandb/run-20241106_152211-f981p09o</code>"
      ]
     },
     "metadata": {},
     "output_type": "display_data"
    },
    {
     "data": {
      "text/plain": [
       "<IPython.core.display.HTML object>"
      ],
      "text/html": [
       "Syncing run <strong><a href=\"https://wandb.ai/oliverweissl/NeuralStyleSearch/runs/f981p09o\" target=\"_blank\">splendid-grass-102</a></strong> to <a href=\"https://wandb.ai/oliverweissl/NeuralStyleSearch\" target=\"_blank\">Weights & Biases</a> (<a href=\"https://wandb.me/run\" target=\"_blank\">docs</a>)<br/>"
      ]
     },
     "metadata": {},
     "output_type": "display_data"
    },
    {
     "name": "stdout",
     "output_type": "stream",
     "text": [
      "[2024-11-06 15:22:19,084 - root - INFO] Generate seed(s) for class: 3.\n",
      "[2024-11-06 15:22:19,096 - root - INFO] \tFound 1 valid seed(s) after: 1 iterations.\n",
      "[2024-11-06 15:22:19,099 - root - INFO] Running Search-Algorithm for 20 generations.\n",
      "[2024-11-06 15:22:21,352 - root - INFO] \tBest candidate has a fitness of: 0.09814276731389104\n",
      "[2024-11-06 15:22:21,355 - root - INFO] \tReset learner!\n"
     ]
    },
    {
     "data": {
      "text/plain": [
       "<IPython.core.display.HTML object>"
      ],
      "text/html": [
       "Finishing last run (ID:f981p09o) before initializing another..."
      ]
     },
     "metadata": {},
     "output_type": "display_data"
    },
    {
     "data": {
      "text/plain": [
       "<IPython.core.display.HTML object>"
      ],
      "text/html": [
       "Waiting for W&B process to finish... <strong style=\"color:green\">(success).</strong>"
      ]
     },
     "metadata": {},
     "output_type": "display_data"
    },
    {
     "data": {
      "text/plain": [
       "<IPython.core.display.HTML object>"
      ],
      "text/html": [
       "<style>\n",
       "    table.wandb td:nth-child(1) { padding: 0 10px; text-align: left ; width: auto;} td:nth-child(2) {text-align: left ; width: 100%}\n",
       "    .wandb-row { display: flex; flex-direction: row; flex-wrap: wrap; justify-content: flex-start; width: 100% }\n",
       "    .wandb-col { display: flex; flex-direction: column; flex-basis: 100%; flex: 1; padding: 10px; }\n",
       "    </style>\n",
       "<div class=\"wandb-row\"><div class=\"wandb-col\"><h3>Run history:</h3><br/><table class=\"wandb\"><tr><td>max_fitness</td><td>▁▂▄▃▄▆▄▆▇▇▄▆█▆▄▅▅▅▅▇</td></tr><tr><td>mean_fitness</td><td>▁▃▄▅▄▆▆▇█▇▇▇█▆▇▆█▇▆▆</td></tr><tr><td>min_fitness</td><td>▆▅▄▆▂▄▆▄▆▇▅▄▆▅█▆▆▇▁▄</td></tr><tr><td>std_fitness</td><td>▁▃▄▅▅▆▅▆▆▇▆▇▇▇▅▆▅▆██</td></tr></table><br/></div><div class=\"wandb-col\"><h3>Run summary:</h3><br/><table class=\"wandb\"><tr><td>best_fitness</td><td>0.09814</td></tr><tr><td>max_fitness</td><td>0.21762</td></tr><tr><td>mean_fitness</td><td>0.14856</td></tr><tr><td>min_fitness</td><td>0.10988</td></tr><tr><td>std_fitness</td><td>0.02696</td></tr></table><br/></div></div>"
      ]
     },
     "metadata": {},
     "output_type": "display_data"
    },
    {
     "data": {
      "text/plain": [
       "<IPython.core.display.HTML object>"
      ],
      "text/html": [
       "Synced <strong style=\"color:#cdcd00\">splendid-grass-102</strong>: <a href=\"https://wandb.ai/oliverweissl/NeuralStyleSearch/runs/f981p09o\" target=\"_blank\">https://wandb.ai/oliverweissl/NeuralStyleSearch/runs/f981p09o</a><br/>Synced 6 W&B file(s), 2 media file(s), 0 artifact file(s) and 0 other file(s)"
      ]
     },
     "metadata": {},
     "output_type": "display_data"
    },
    {
     "data": {
      "text/plain": [
       "<IPython.core.display.HTML object>"
      ],
      "text/html": [
       "Find logs at: <code>./wandb/run-20241106_152211-f981p09o/logs</code>"
      ]
     },
     "metadata": {},
     "output_type": "display_data"
    },
    {
     "data": {
      "text/plain": [
       "<IPython.core.display.HTML object>"
      ],
      "text/html": [
       "Successfully finished last run (ID:f981p09o). Initializing new run:<br/>"
      ]
     },
     "metadata": {},
     "output_type": "display_data"
    },
    {
     "data": {
      "text/plain": [
       "<IPython.core.display.HTML object>"
      ],
      "text/html": [
       "wandb version 0.18.5 is available!  To upgrade, please run:\n",
       " $ pip install wandb --upgrade"
      ]
     },
     "metadata": {},
     "output_type": "display_data"
    },
    {
     "data": {
      "text/plain": [
       "<IPython.core.display.HTML object>"
      ],
      "text/html": [
       "Tracking run with wandb version 0.13.5"
      ]
     },
     "metadata": {},
     "output_type": "display_data"
    },
    {
     "data": {
      "text/plain": [
       "<IPython.core.display.HTML object>"
      ],
      "text/html": [
       "Run data is saved locally in <code>/home/oliver/PycharmProjects/NeuralStyle/wandb/run-20241106_152221-ky64rujb</code>"
      ]
     },
     "metadata": {},
     "output_type": "display_data"
    },
    {
     "data": {
      "text/plain": [
       "<IPython.core.display.HTML object>"
      ],
      "text/html": [
       "Syncing run <strong><a href=\"https://wandb.ai/oliverweissl/NeuralStyleSearch/runs/ky64rujb\" target=\"_blank\">earthy-butterfly-103</a></strong> to <a href=\"https://wandb.ai/oliverweissl/NeuralStyleSearch\" target=\"_blank\">Weights & Biases</a> (<a href=\"https://wandb.me/run\" target=\"_blank\">docs</a>)<br/>"
      ]
     },
     "metadata": {},
     "output_type": "display_data"
    },
    {
     "name": "stdout",
     "output_type": "stream",
     "text": [
      "[2024-11-06 15:22:29,424 - root - INFO] Generate seed(s) for class: 3.\n",
      "[2024-11-06 15:22:29,432 - root - INFO] \tFound 1 valid seed(s) after: 1 iterations.\n",
      "[2024-11-06 15:22:29,435 - root - INFO] Running Search-Algorithm for 20 generations.\n",
      "[2024-11-06 15:22:31,713 - root - INFO] \tBest candidate has a fitness of: 0.4051773790158564\n",
      "[2024-11-06 15:22:31,716 - root - INFO] \tReset learner!\n"
     ]
    },
    {
     "data": {
      "text/plain": [
       "<IPython.core.display.HTML object>"
      ],
      "text/html": [
       "Finishing last run (ID:ky64rujb) before initializing another..."
      ]
     },
     "metadata": {},
     "output_type": "display_data"
    },
    {
     "data": {
      "text/plain": [
       "<IPython.core.display.HTML object>"
      ],
      "text/html": [
       "Waiting for W&B process to finish... <strong style=\"color:green\">(success).</strong>"
      ]
     },
     "metadata": {},
     "output_type": "display_data"
    },
    {
     "data": {
      "text/plain": [
       "<IPython.core.display.HTML object>"
      ],
      "text/html": [
       "<style>\n",
       "    table.wandb td:nth-child(1) { padding: 0 10px; text-align: left ; width: auto;} td:nth-child(2) {text-align: left ; width: 100%}\n",
       "    .wandb-row { display: flex; flex-direction: row; flex-wrap: wrap; justify-content: flex-start; width: 100% }\n",
       "    .wandb-col { display: flex; flex-direction: column; flex-basis: 100%; flex: 1; padding: 10px; }\n",
       "    </style>\n",
       "<div class=\"wandb-row\"><div class=\"wandb-col\"><h3>Run history:</h3><br/><table class=\"wandb\"><tr><td>max_fitness</td><td>▁▃▄▆▅▄▃▆▆▆▆▆▇▇▆▇▇▆█▇</td></tr><tr><td>mean_fitness</td><td>▁▂▂▂▁▃▁▂▅▅▄▄▄▅▆▅▇▅▆█</td></tr><tr><td>min_fitness</td><td>▄▆▃▄▂▅▆▂▄▄▅▃▆▁▂▁█▁██</td></tr><tr><td>std_fitness</td><td>▁▂▄▄▄▃▂█▇▅▄▆▅▇▆▅▆▆▆▇</td></tr></table><br/></div><div class=\"wandb-col\"><h3>Run summary:</h3><br/><table class=\"wandb\"><tr><td>best_fitness</td><td>0.40518</td></tr><tr><td>max_fitness</td><td>0.60072</td></tr><tr><td>mean_fitness</td><td>0.51528</td></tr><tr><td>min_fitness</td><td>0.4414</td></tr><tr><td>std_fitness</td><td>0.04708</td></tr></table><br/></div></div>"
      ]
     },
     "metadata": {},
     "output_type": "display_data"
    },
    {
     "data": {
      "text/plain": [
       "<IPython.core.display.HTML object>"
      ],
      "text/html": [
       "Synced <strong style=\"color:#cdcd00\">earthy-butterfly-103</strong>: <a href=\"https://wandb.ai/oliverweissl/NeuralStyleSearch/runs/ky64rujb\" target=\"_blank\">https://wandb.ai/oliverweissl/NeuralStyleSearch/runs/ky64rujb</a><br/>Synced 6 W&B file(s), 2 media file(s), 0 artifact file(s) and 0 other file(s)"
      ]
     },
     "metadata": {},
     "output_type": "display_data"
    },
    {
     "data": {
      "text/plain": [
       "<IPython.core.display.HTML object>"
      ],
      "text/html": [
       "Find logs at: <code>./wandb/run-20241106_152221-ky64rujb/logs</code>"
      ]
     },
     "metadata": {},
     "output_type": "display_data"
    },
    {
     "data": {
      "text/plain": [
       "<IPython.core.display.HTML object>"
      ],
      "text/html": [
       "Successfully finished last run (ID:ky64rujb). Initializing new run:<br/>"
      ]
     },
     "metadata": {},
     "output_type": "display_data"
    },
    {
     "data": {
      "text/plain": [
       "<IPython.core.display.HTML object>"
      ],
      "text/html": [
       "wandb version 0.18.5 is available!  To upgrade, please run:\n",
       " $ pip install wandb --upgrade"
      ]
     },
     "metadata": {},
     "output_type": "display_data"
    },
    {
     "data": {
      "text/plain": [
       "<IPython.core.display.HTML object>"
      ],
      "text/html": [
       "Tracking run with wandb version 0.13.5"
      ]
     },
     "metadata": {},
     "output_type": "display_data"
    },
    {
     "data": {
      "text/plain": [
       "<IPython.core.display.HTML object>"
      ],
      "text/html": [
       "Run data is saved locally in <code>/home/oliver/PycharmProjects/NeuralStyle/wandb/run-20241106_152231-cdm431yv</code>"
      ]
     },
     "metadata": {},
     "output_type": "display_data"
    },
    {
     "data": {
      "text/plain": [
       "<IPython.core.display.HTML object>"
      ],
      "text/html": [
       "Syncing run <strong><a href=\"https://wandb.ai/oliverweissl/NeuralStyleSearch/runs/cdm431yv\" target=\"_blank\">clean-dream-104</a></strong> to <a href=\"https://wandb.ai/oliverweissl/NeuralStyleSearch\" target=\"_blank\">Weights & Biases</a> (<a href=\"https://wandb.me/run\" target=\"_blank\">docs</a>)<br/>"
      ]
     },
     "metadata": {},
     "output_type": "display_data"
    },
    {
     "name": "stdout",
     "output_type": "stream",
     "text": [
      "[2024-11-06 15:22:39,458 - root - INFO] Generate seed(s) for class: 4.\n",
      "[2024-11-06 15:22:39,466 - root - INFO] \tFound 1 valid seed(s) after: 1 iterations.\n",
      "[2024-11-06 15:22:39,468 - root - INFO] Running Search-Algorithm for 20 generations.\n",
      "[2024-11-06 15:22:41,705 - root - INFO] \tBest candidate has a fitness of: 0.334636235598498\n",
      "[2024-11-06 15:22:41,707 - root - INFO] \tReset learner!\n"
     ]
    },
    {
     "data": {
      "text/plain": [
       "<IPython.core.display.HTML object>"
      ],
      "text/html": [
       "Finishing last run (ID:cdm431yv) before initializing another..."
      ]
     },
     "metadata": {},
     "output_type": "display_data"
    },
    {
     "data": {
      "text/plain": [
       "<IPython.core.display.HTML object>"
      ],
      "text/html": [
       "Waiting for W&B process to finish... <strong style=\"color:green\">(success).</strong>"
      ]
     },
     "metadata": {},
     "output_type": "display_data"
    },
    {
     "data": {
      "text/plain": [
       "<IPython.core.display.HTML object>"
      ],
      "text/html": [
       "<style>\n",
       "    table.wandb td:nth-child(1) { padding: 0 10px; text-align: left ; width: auto;} td:nth-child(2) {text-align: left ; width: 100%}\n",
       "    .wandb-row { display: flex; flex-direction: row; flex-wrap: wrap; justify-content: flex-start; width: 100% }\n",
       "    .wandb-col { display: flex; flex-direction: column; flex-basis: 100%; flex: 1; padding: 10px; }\n",
       "    </style>\n",
       "<div class=\"wandb-row\"><div class=\"wandb-col\"><h3>Run history:</h3><br/><table class=\"wandb\"><tr><td>max_fitness</td><td>▁▃▂▃▅▅▅▃▄▄▆▅▆▇▅▅█▇██</td></tr><tr><td>mean_fitness</td><td>▁▁▁▁▂▁▂▂▄▄▄▄▄▄▃▃█▇▅▅</td></tr><tr><td>min_fitness</td><td>██▇▅▆▅▁▃▆▇▄▅▅▆▃▄▃▃▁▂</td></tr><tr><td>std_fitness</td><td>▁▂▂▃▄▄▆▅▅▄▆▆▆▆▆▆▇███</td></tr></table><br/></div><div class=\"wandb-col\"><h3>Run summary:</h3><br/><table class=\"wandb\"><tr><td>best_fitness</td><td>0.33464</td></tr><tr><td>max_fitness</td><td>0.56143</td></tr><tr><td>mean_fitness</td><td>0.45258</td></tr><tr><td>min_fitness</td><td>0.34595</td></tr><tr><td>std_fitness</td><td>0.05611</td></tr></table><br/></div></div>"
      ]
     },
     "metadata": {},
     "output_type": "display_data"
    },
    {
     "data": {
      "text/plain": [
       "<IPython.core.display.HTML object>"
      ],
      "text/html": [
       "Synced <strong style=\"color:#cdcd00\">clean-dream-104</strong>: <a href=\"https://wandb.ai/oliverweissl/NeuralStyleSearch/runs/cdm431yv\" target=\"_blank\">https://wandb.ai/oliverweissl/NeuralStyleSearch/runs/cdm431yv</a><br/>Synced 6 W&B file(s), 2 media file(s), 0 artifact file(s) and 0 other file(s)"
      ]
     },
     "metadata": {},
     "output_type": "display_data"
    },
    {
     "data": {
      "text/plain": [
       "<IPython.core.display.HTML object>"
      ],
      "text/html": [
       "Find logs at: <code>./wandb/run-20241106_152231-cdm431yv/logs</code>"
      ]
     },
     "metadata": {},
     "output_type": "display_data"
    },
    {
     "data": {
      "text/plain": [
       "<IPython.core.display.HTML object>"
      ],
      "text/html": [
       "Successfully finished last run (ID:cdm431yv). Initializing new run:<br/>"
      ]
     },
     "metadata": {},
     "output_type": "display_data"
    },
    {
     "data": {
      "text/plain": [
       "<IPython.core.display.HTML object>"
      ],
      "text/html": [
       "wandb version 0.18.5 is available!  To upgrade, please run:\n",
       " $ pip install wandb --upgrade"
      ]
     },
     "metadata": {},
     "output_type": "display_data"
    },
    {
     "data": {
      "text/plain": [
       "<IPython.core.display.HTML object>"
      ],
      "text/html": [
       "Tracking run with wandb version 0.13.5"
      ]
     },
     "metadata": {},
     "output_type": "display_data"
    },
    {
     "data": {
      "text/plain": [
       "<IPython.core.display.HTML object>"
      ],
      "text/html": [
       "Run data is saved locally in <code>/home/oliver/PycharmProjects/NeuralStyle/wandb/run-20241106_152241-zwfhtoc7</code>"
      ]
     },
     "metadata": {},
     "output_type": "display_data"
    },
    {
     "data": {
      "text/plain": [
       "<IPython.core.display.HTML object>"
      ],
      "text/html": [
       "Syncing run <strong><a href=\"https://wandb.ai/oliverweissl/NeuralStyleSearch/runs/zwfhtoc7\" target=\"_blank\">elated-moon-105</a></strong> to <a href=\"https://wandb.ai/oliverweissl/NeuralStyleSearch\" target=\"_blank\">Weights & Biases</a> (<a href=\"https://wandb.me/run\" target=\"_blank\">docs</a>)<br/>"
      ]
     },
     "metadata": {},
     "output_type": "display_data"
    },
    {
     "name": "stdout",
     "output_type": "stream",
     "text": [
      "[2024-11-06 15:22:49,378 - root - INFO] Generate seed(s) for class: 4.\n",
      "[2024-11-06 15:22:49,386 - root - INFO] \tFound 1 valid seed(s) after: 1 iterations.\n",
      "[2024-11-06 15:22:49,388 - root - INFO] Running Search-Algorithm for 20 generations.\n",
      "[2024-11-06 15:22:51,614 - root - INFO] \tBest candidate has a fitness of: 0.2121281865872675\n",
      "[2024-11-06 15:22:51,616 - root - INFO] \tReset learner!\n"
     ]
    },
    {
     "name": "stderr",
     "output_type": "stream",
     "text": [
      "/home/oliver/PycharmProjects/NeuralStyle/src/objective_functions/_ssim.py:40: RuntimeWarning: invalid value encountered in sqrt\n",
      "  d = np.sqrt(2-s1-s2)\n"
     ]
    },
    {
     "data": {
      "text/plain": [
       "<IPython.core.display.HTML object>"
      ],
      "text/html": [
       "Finishing last run (ID:zwfhtoc7) before initializing another..."
      ]
     },
     "metadata": {},
     "output_type": "display_data"
    },
    {
     "data": {
      "text/plain": [
       "<IPython.core.display.HTML object>"
      ],
      "text/html": [
       "Waiting for W&B process to finish... <strong style=\"color:green\">(success).</strong>"
      ]
     },
     "metadata": {},
     "output_type": "display_data"
    },
    {
     "data": {
      "text/plain": [
       "<IPython.core.display.HTML object>"
      ],
      "text/html": [
       "<style>\n",
       "    table.wandb td:nth-child(1) { padding: 0 10px; text-align: left ; width: auto;} td:nth-child(2) {text-align: left ; width: 100%}\n",
       "    .wandb-row { display: flex; flex-direction: row; flex-wrap: wrap; justify-content: flex-start; width: 100% }\n",
       "    .wandb-col { display: flex; flex-direction: column; flex-basis: 100%; flex: 1; padding: 10px; }\n",
       "    </style>\n",
       "<div class=\"wandb-row\"><div class=\"wandb-col\"><h3>Run history:</h3><br/><table class=\"wandb\"><tr><td>max_fitness</td><td>▁▄▃▅▂▆▇▅▃▄▄▅▄▄▅█▆▆▆█</td></tr><tr><td>mean_fitness</td><td>▄▄▄▄▄▁▃▄▂▅▄▄▅▇█▆▇██▇</td></tr><tr><td>min_fitness</td><td>█▆▅▃▆▁▃▄▂▄▄▂▄▆▇▄▆▄▄▅</td></tr><tr><td>std_fitness</td><td>▁▄▃▄▄▇█▆▅▆▇█▆▅▅▆▅▇█▆</td></tr></table><br/></div><div class=\"wandb-col\"><h3>Run summary:</h3><br/><table class=\"wandb\"><tr><td>best_fitness</td><td>0.21213</td></tr><tr><td>max_fitness</td><td>0.31853</td></tr><tr><td>mean_fitness</td><td>0.27307</td></tr><tr><td>min_fitness</td><td>0.23363</td></tr><tr><td>std_fitness</td><td>0.0186</td></tr></table><br/></div></div>"
      ]
     },
     "metadata": {},
     "output_type": "display_data"
    },
    {
     "data": {
      "text/plain": [
       "<IPython.core.display.HTML object>"
      ],
      "text/html": [
       "Synced <strong style=\"color:#cdcd00\">elated-moon-105</strong>: <a href=\"https://wandb.ai/oliverweissl/NeuralStyleSearch/runs/zwfhtoc7\" target=\"_blank\">https://wandb.ai/oliverweissl/NeuralStyleSearch/runs/zwfhtoc7</a><br/>Synced 6 W&B file(s), 2 media file(s), 0 artifact file(s) and 0 other file(s)"
      ]
     },
     "metadata": {},
     "output_type": "display_data"
    },
    {
     "data": {
      "text/plain": [
       "<IPython.core.display.HTML object>"
      ],
      "text/html": [
       "Find logs at: <code>./wandb/run-20241106_152241-zwfhtoc7/logs</code>"
      ]
     },
     "metadata": {},
     "output_type": "display_data"
    },
    {
     "data": {
      "text/plain": [
       "<IPython.core.display.HTML object>"
      ],
      "text/html": [
       "Successfully finished last run (ID:zwfhtoc7). Initializing new run:<br/>"
      ]
     },
     "metadata": {},
     "output_type": "display_data"
    },
    {
     "data": {
      "text/plain": [
       "<IPython.core.display.HTML object>"
      ],
      "text/html": [
       "wandb version 0.18.5 is available!  To upgrade, please run:\n",
       " $ pip install wandb --upgrade"
      ]
     },
     "metadata": {},
     "output_type": "display_data"
    },
    {
     "data": {
      "text/plain": [
       "<IPython.core.display.HTML object>"
      ],
      "text/html": [
       "Tracking run with wandb version 0.13.5"
      ]
     },
     "metadata": {},
     "output_type": "display_data"
    },
    {
     "data": {
      "text/plain": [
       "<IPython.core.display.HTML object>"
      ],
      "text/html": [
       "Run data is saved locally in <code>/home/oliver/PycharmProjects/NeuralStyle/wandb/run-20241106_152251-0azf5jkx</code>"
      ]
     },
     "metadata": {},
     "output_type": "display_data"
    },
    {
     "data": {
      "text/plain": [
       "<IPython.core.display.HTML object>"
      ],
      "text/html": [
       "Syncing run <strong><a href=\"https://wandb.ai/oliverweissl/NeuralStyleSearch/runs/0azf5jkx\" target=\"_blank\">solar-aardvark-106</a></strong> to <a href=\"https://wandb.ai/oliverweissl/NeuralStyleSearch\" target=\"_blank\">Weights & Biases</a> (<a href=\"https://wandb.me/run\" target=\"_blank\">docs</a>)<br/>"
      ]
     },
     "metadata": {},
     "output_type": "display_data"
    },
    {
     "name": "stdout",
     "output_type": "stream",
     "text": [
      "[2024-11-06 15:23:00,012 - root - INFO] Generate seed(s) for class: 4.\n",
      "[2024-11-06 15:23:00,020 - root - INFO] \tFound 1 valid seed(s) after: 1 iterations.\n",
      "[2024-11-06 15:23:00,023 - root - INFO] Running Search-Algorithm for 20 generations.\n",
      "[2024-11-06 15:23:02,461 - root - INFO] \tBest candidate has a fitness of: 0.1745276693143183\n",
      "[2024-11-06 15:23:02,464 - root - INFO] \tReset learner!\n"
     ]
    },
    {
     "data": {
      "text/plain": [
       "<IPython.core.display.HTML object>"
      ],
      "text/html": [
       "Finishing last run (ID:0azf5jkx) before initializing another..."
      ]
     },
     "metadata": {},
     "output_type": "display_data"
    },
    {
     "data": {
      "text/plain": [
       "<IPython.core.display.HTML object>"
      ],
      "text/html": [
       "Waiting for W&B process to finish... <strong style=\"color:green\">(success).</strong>"
      ]
     },
     "metadata": {},
     "output_type": "display_data"
    },
    {
     "data": {
      "text/plain": [
       "<IPython.core.display.HTML object>"
      ],
      "text/html": [
       "<style>\n",
       "    table.wandb td:nth-child(1) { padding: 0 10px; text-align: left ; width: auto;} td:nth-child(2) {text-align: left ; width: 100%}\n",
       "    .wandb-row { display: flex; flex-direction: row; flex-wrap: wrap; justify-content: flex-start; width: 100% }\n",
       "    .wandb-col { display: flex; flex-direction: column; flex-basis: 100%; flex: 1; padding: 10px; }\n",
       "    </style>\n",
       "<div class=\"wandb-row\"><div class=\"wandb-col\"><h3>Run history:</h3><br/><table class=\"wandb\"><tr><td>max_fitness</td><td>▂▆▅▅▆▆▁▄▅▄▅▆█▅▆█▇▅▅▄</td></tr><tr><td>mean_fitness</td><td>▃▂▁▃▄▃▂▄▄▆▆▇▅▅▇▆▇█▇▇</td></tr><tr><td>min_fitness</td><td>▄▄▂▂▄▁▂▂▂▃█▂▂▄▄▄▄▆▇▅</td></tr><tr><td>std_fitness</td><td>▄▆██▅█▅▅▇▅▁▆▇▅▅▅▄▂▂▂</td></tr></table><br/></div><div class=\"wandb-col\"><h3>Run summary:</h3><br/><table class=\"wandb\"><tr><td>best_fitness</td><td>0.17453</td></tr><tr><td>max_fitness</td><td>0.51949</td></tr><tr><td>mean_fitness</td><td>0.44618</td></tr><tr><td>min_fitness</td><td>0.28147</td></tr><tr><td>std_fitness</td><td>0.05422</td></tr></table><br/></div></div>"
      ]
     },
     "metadata": {},
     "output_type": "display_data"
    },
    {
     "data": {
      "text/plain": [
       "<IPython.core.display.HTML object>"
      ],
      "text/html": [
       "Synced <strong style=\"color:#cdcd00\">solar-aardvark-106</strong>: <a href=\"https://wandb.ai/oliverweissl/NeuralStyleSearch/runs/0azf5jkx\" target=\"_blank\">https://wandb.ai/oliverweissl/NeuralStyleSearch/runs/0azf5jkx</a><br/>Synced 6 W&B file(s), 2 media file(s), 0 artifact file(s) and 0 other file(s)"
      ]
     },
     "metadata": {},
     "output_type": "display_data"
    },
    {
     "data": {
      "text/plain": [
       "<IPython.core.display.HTML object>"
      ],
      "text/html": [
       "Find logs at: <code>./wandb/run-20241106_152251-0azf5jkx/logs</code>"
      ]
     },
     "metadata": {},
     "output_type": "display_data"
    },
    {
     "data": {
      "text/plain": [
       "<IPython.core.display.HTML object>"
      ],
      "text/html": [
       "Successfully finished last run (ID:0azf5jkx). Initializing new run:<br/>"
      ]
     },
     "metadata": {},
     "output_type": "display_data"
    },
    {
     "data": {
      "text/plain": [
       "<IPython.core.display.HTML object>"
      ],
      "text/html": [
       "wandb version 0.18.5 is available!  To upgrade, please run:\n",
       " $ pip install wandb --upgrade"
      ]
     },
     "metadata": {},
     "output_type": "display_data"
    },
    {
     "data": {
      "text/plain": [
       "<IPython.core.display.HTML object>"
      ],
      "text/html": [
       "Tracking run with wandb version 0.13.5"
      ]
     },
     "metadata": {},
     "output_type": "display_data"
    },
    {
     "data": {
      "text/plain": [
       "<IPython.core.display.HTML object>"
      ],
      "text/html": [
       "Run data is saved locally in <code>/home/oliver/PycharmProjects/NeuralStyle/wandb/run-20241106_152302-5aaeekfq</code>"
      ]
     },
     "metadata": {},
     "output_type": "display_data"
    },
    {
     "data": {
      "text/plain": [
       "<IPython.core.display.HTML object>"
      ],
      "text/html": [
       "Syncing run <strong><a href=\"https://wandb.ai/oliverweissl/NeuralStyleSearch/runs/5aaeekfq\" target=\"_blank\">snowy-donkey-107</a></strong> to <a href=\"https://wandb.ai/oliverweissl/NeuralStyleSearch\" target=\"_blank\">Weights & Biases</a> (<a href=\"https://wandb.me/run\" target=\"_blank\">docs</a>)<br/>"
      ]
     },
     "metadata": {},
     "output_type": "display_data"
    },
    {
     "name": "stdout",
     "output_type": "stream",
     "text": [
      "[2024-11-06 15:23:09,729 - root - INFO] Generate seed(s) for class: 4.\n",
      "[2024-11-06 15:23:09,736 - root - INFO] \tFound 1 valid seed(s) after: 1 iterations.\n",
      "[2024-11-06 15:23:09,739 - root - INFO] Running Search-Algorithm for 20 generations.\n",
      "[2024-11-06 15:23:12,033 - root - INFO] \tBest candidate has a fitness of: 0.1507570985593134\n",
      "[2024-11-06 15:23:12,036 - root - INFO] \tReset learner!\n"
     ]
    },
    {
     "data": {
      "text/plain": [
       "<IPython.core.display.HTML object>"
      ],
      "text/html": [
       "Finishing last run (ID:5aaeekfq) before initializing another..."
      ]
     },
     "metadata": {},
     "output_type": "display_data"
    },
    {
     "data": {
      "text/plain": [
       "<IPython.core.display.HTML object>"
      ],
      "text/html": [
       "Waiting for W&B process to finish... <strong style=\"color:green\">(success).</strong>"
      ]
     },
     "metadata": {},
     "output_type": "display_data"
    },
    {
     "data": {
      "text/plain": [
       "<IPython.core.display.HTML object>"
      ],
      "text/html": [
       "<style>\n",
       "    table.wandb td:nth-child(1) { padding: 0 10px; text-align: left ; width: auto;} td:nth-child(2) {text-align: left ; width: 100%}\n",
       "    .wandb-row { display: flex; flex-direction: row; flex-wrap: wrap; justify-content: flex-start; width: 100% }\n",
       "    .wandb-col { display: flex; flex-direction: column; flex-basis: 100%; flex: 1; padding: 10px; }\n",
       "    </style>\n",
       "<div class=\"wandb-row\"><div class=\"wandb-col\"><h3>Run history:</h3><br/><table class=\"wandb\"><tr><td>max_fitness</td><td>▃▄█▄▂▅▅▅▆▆█▃▃▁▆▇▅▃▃▁</td></tr><tr><td>mean_fitness</td><td>▇▇█▅▅▅▄▃▃▄▅▄▄▂▂▂▂▁▁▁</td></tr><tr><td>min_fitness</td><td>█▆▅▄▃▃▅▅▄▃▆▅▄▃▁▃▂▃▁▂</td></tr><tr><td>std_fitness</td><td>▁▃▆▃▅▆▄▆█▇▆▆▄▄███▆▇▆</td></tr></table><br/></div><div class=\"wandb-col\"><h3>Run summary:</h3><br/><table class=\"wandb\"><tr><td>best_fitness</td><td>0.15076</td></tr><tr><td>max_fitness</td><td>0.2441</td></tr><tr><td>mean_fitness</td><td>0.2042</td></tr><tr><td>min_fitness</td><td>0.16108</td></tr><tr><td>std_fitness</td><td>0.02241</td></tr></table><br/></div></div>"
      ]
     },
     "metadata": {},
     "output_type": "display_data"
    },
    {
     "data": {
      "text/plain": [
       "<IPython.core.display.HTML object>"
      ],
      "text/html": [
       "Synced <strong style=\"color:#cdcd00\">snowy-donkey-107</strong>: <a href=\"https://wandb.ai/oliverweissl/NeuralStyleSearch/runs/5aaeekfq\" target=\"_blank\">https://wandb.ai/oliverweissl/NeuralStyleSearch/runs/5aaeekfq</a><br/>Synced 6 W&B file(s), 2 media file(s), 0 artifact file(s) and 0 other file(s)"
      ]
     },
     "metadata": {},
     "output_type": "display_data"
    },
    {
     "data": {
      "text/plain": [
       "<IPython.core.display.HTML object>"
      ],
      "text/html": [
       "Find logs at: <code>./wandb/run-20241106_152302-5aaeekfq/logs</code>"
      ]
     },
     "metadata": {},
     "output_type": "display_data"
    },
    {
     "data": {
      "text/plain": [
       "<IPython.core.display.HTML object>"
      ],
      "text/html": [
       "Successfully finished last run (ID:5aaeekfq). Initializing new run:<br/>"
      ]
     },
     "metadata": {},
     "output_type": "display_data"
    },
    {
     "data": {
      "text/plain": [
       "<IPython.core.display.HTML object>"
      ],
      "text/html": [
       "wandb version 0.18.5 is available!  To upgrade, please run:\n",
       " $ pip install wandb --upgrade"
      ]
     },
     "metadata": {},
     "output_type": "display_data"
    },
    {
     "data": {
      "text/plain": [
       "<IPython.core.display.HTML object>"
      ],
      "text/html": [
       "Tracking run with wandb version 0.13.5"
      ]
     },
     "metadata": {},
     "output_type": "display_data"
    },
    {
     "data": {
      "text/plain": [
       "<IPython.core.display.HTML object>"
      ],
      "text/html": [
       "Run data is saved locally in <code>/home/oliver/PycharmProjects/NeuralStyle/wandb/run-20241106_152312-civu572k</code>"
      ]
     },
     "metadata": {},
     "output_type": "display_data"
    },
    {
     "data": {
      "text/plain": [
       "<IPython.core.display.HTML object>"
      ],
      "text/html": [
       "Syncing run <strong><a href=\"https://wandb.ai/oliverweissl/NeuralStyleSearch/runs/civu572k\" target=\"_blank\">denim-sunset-108</a></strong> to <a href=\"https://wandb.ai/oliverweissl/NeuralStyleSearch\" target=\"_blank\">Weights & Biases</a> (<a href=\"https://wandb.me/run\" target=\"_blank\">docs</a>)<br/>"
      ]
     },
     "metadata": {},
     "output_type": "display_data"
    },
    {
     "name": "stdout",
     "output_type": "stream",
     "text": [
      "[2024-11-06 15:23:21,118 - root - INFO] Generate seed(s) for class: 4.\n",
      "[2024-11-06 15:23:21,126 - root - INFO] \tFound 1 valid seed(s) after: 1 iterations.\n",
      "[2024-11-06 15:23:21,128 - root - INFO] Running Search-Algorithm for 20 generations.\n",
      "[2024-11-06 15:23:23,422 - root - INFO] \tBest candidate has a fitness of: 0.34017374551671087\n",
      "[2024-11-06 15:23:23,425 - root - INFO] \tReset learner!\n"
     ]
    },
    {
     "data": {
      "text/plain": [
       "<IPython.core.display.HTML object>"
      ],
      "text/html": [
       "Finishing last run (ID:civu572k) before initializing another..."
      ]
     },
     "metadata": {},
     "output_type": "display_data"
    },
    {
     "data": {
      "text/plain": [
       "<IPython.core.display.HTML object>"
      ],
      "text/html": [
       "Waiting for W&B process to finish... <strong style=\"color:green\">(success).</strong>"
      ]
     },
     "metadata": {},
     "output_type": "display_data"
    },
    {
     "data": {
      "text/plain": [
       "<IPython.core.display.HTML object>"
      ],
      "text/html": [
       "<style>\n",
       "    table.wandb td:nth-child(1) { padding: 0 10px; text-align: left ; width: auto;} td:nth-child(2) {text-align: left ; width: 100%}\n",
       "    .wandb-row { display: flex; flex-direction: row; flex-wrap: wrap; justify-content: flex-start; width: 100% }\n",
       "    .wandb-col { display: flex; flex-direction: column; flex-basis: 100%; flex: 1; padding: 10px; }\n",
       "    </style>\n",
       "<div class=\"wandb-row\"><div class=\"wandb-col\"><h3>Run history:</h3><br/><table class=\"wandb\"><tr><td>max_fitness</td><td>▁▃█▁▃▂▂▇▅▅▆▇▇▅▇▅▄▄█▅</td></tr><tr><td>mean_fitness</td><td>▃▃▃▃▃▁▂▃▃▄▇██▆█▆▆█▇▇</td></tr><tr><td>min_fitness</td><td>▂▁▃▄▃▁▁▄▄▂▄▂▅▅█▄▆▆▂▆</td></tr><tr><td>std_fitness</td><td>▁▄▆▃▃▃▄▄▃▆██▆▆▆▅▄▅▇▅</td></tr></table><br/></div><div class=\"wandb-col\"><h3>Run summary:</h3><br/><table class=\"wandb\"><tr><td>best_fitness</td><td>0.34017</td></tr><tr><td>max_fitness</td><td>0.46307</td></tr><tr><td>mean_fitness</td><td>0.40858</td></tr><tr><td>min_fitness</td><td>0.35853</td></tr><tr><td>std_fitness</td><td>0.02772</td></tr></table><br/></div></div>"
      ]
     },
     "metadata": {},
     "output_type": "display_data"
    },
    {
     "data": {
      "text/plain": [
       "<IPython.core.display.HTML object>"
      ],
      "text/html": [
       "Synced <strong style=\"color:#cdcd00\">denim-sunset-108</strong>: <a href=\"https://wandb.ai/oliverweissl/NeuralStyleSearch/runs/civu572k\" target=\"_blank\">https://wandb.ai/oliverweissl/NeuralStyleSearch/runs/civu572k</a><br/>Synced 6 W&B file(s), 2 media file(s), 0 artifact file(s) and 0 other file(s)"
      ]
     },
     "metadata": {},
     "output_type": "display_data"
    },
    {
     "data": {
      "text/plain": [
       "<IPython.core.display.HTML object>"
      ],
      "text/html": [
       "Find logs at: <code>./wandb/run-20241106_152312-civu572k/logs</code>"
      ]
     },
     "metadata": {},
     "output_type": "display_data"
    },
    {
     "data": {
      "text/plain": [
       "<IPython.core.display.HTML object>"
      ],
      "text/html": [
       "Successfully finished last run (ID:civu572k). Initializing new run:<br/>"
      ]
     },
     "metadata": {},
     "output_type": "display_data"
    },
    {
     "data": {
      "text/plain": [
       "<IPython.core.display.HTML object>"
      ],
      "text/html": [
       "wandb version 0.18.5 is available!  To upgrade, please run:\n",
       " $ pip install wandb --upgrade"
      ]
     },
     "metadata": {},
     "output_type": "display_data"
    },
    {
     "data": {
      "text/plain": [
       "<IPython.core.display.HTML object>"
      ],
      "text/html": [
       "Tracking run with wandb version 0.13.5"
      ]
     },
     "metadata": {},
     "output_type": "display_data"
    },
    {
     "data": {
      "text/plain": [
       "<IPython.core.display.HTML object>"
      ],
      "text/html": [
       "Run data is saved locally in <code>/home/oliver/PycharmProjects/NeuralStyle/wandb/run-20241106_152323-jb3dnls5</code>"
      ]
     },
     "metadata": {},
     "output_type": "display_data"
    },
    {
     "data": {
      "text/plain": [
       "<IPython.core.display.HTML object>"
      ],
      "text/html": [
       "Syncing run <strong><a href=\"https://wandb.ai/oliverweissl/NeuralStyleSearch/runs/jb3dnls5\" target=\"_blank\">earnest-cloud-109</a></strong> to <a href=\"https://wandb.ai/oliverweissl/NeuralStyleSearch\" target=\"_blank\">Weights & Biases</a> (<a href=\"https://wandb.me/run\" target=\"_blank\">docs</a>)<br/>"
      ]
     },
     "metadata": {},
     "output_type": "display_data"
    },
    {
     "name": "stdout",
     "output_type": "stream",
     "text": [
      "[2024-11-06 15:23:31,577 - root - INFO] Generate seed(s) for class: 4.\n",
      "[2024-11-06 15:23:32,509 - root - INFO] \tFound 1 valid seed(s) after: 149 iterations.\n",
      "[2024-11-06 15:23:32,512 - root - INFO] Running Search-Algorithm for 20 generations.\n",
      "[2024-11-06 15:23:34,728 - root - INFO] \tBest candidate has a fitness of: 0.15348198449986517\n",
      "[2024-11-06 15:23:34,731 - root - INFO] \tReset learner!\n"
     ]
    },
    {
     "data": {
      "text/plain": [
       "<IPython.core.display.HTML object>"
      ],
      "text/html": [
       "Finishing last run (ID:jb3dnls5) before initializing another..."
      ]
     },
     "metadata": {},
     "output_type": "display_data"
    },
    {
     "data": {
      "text/plain": [
       "<IPython.core.display.HTML object>"
      ],
      "text/html": [
       "Waiting for W&B process to finish... <strong style=\"color:green\">(success).</strong>"
      ]
     },
     "metadata": {},
     "output_type": "display_data"
    },
    {
     "data": {
      "text/plain": [
       "<IPython.core.display.HTML object>"
      ],
      "text/html": [
       "<style>\n",
       "    table.wandb td:nth-child(1) { padding: 0 10px; text-align: left ; width: auto;} td:nth-child(2) {text-align: left ; width: 100%}\n",
       "    .wandb-row { display: flex; flex-direction: row; flex-wrap: wrap; justify-content: flex-start; width: 100% }\n",
       "    .wandb-col { display: flex; flex-direction: column; flex-basis: 100%; flex: 1; padding: 10px; }\n",
       "    </style>\n",
       "<div class=\"wandb-row\"><div class=\"wandb-col\"><h3>Run history:</h3><br/><table class=\"wandb\"><tr><td>max_fitness</td><td>▁▁▃▃▄▄▄▅▇▆▅▇█▇▄▇▆▇▅█</td></tr><tr><td>mean_fitness</td><td>▁▁▁▂▃▄▆▅▆▆▆███▇█▇▇▇▇</td></tr><tr><td>min_fitness</td><td>▆▅▂▂▃▂▅▁▁▅▆▁▁▃█▄▄▇▇▁</td></tr><tr><td>std_fitness</td><td>▁▂▄▅▅▅▅█▇▅▅▆█▇▅▆▆▆▅█</td></tr></table><br/></div><div class=\"wandb-col\"><h3>Run summary:</h3><br/><table class=\"wandb\"><tr><td>best_fitness</td><td>0.15348</td></tr><tr><td>max_fitness</td><td>0.27929</td></tr><tr><td>mean_fitness</td><td>0.21224</td></tr><tr><td>min_fitness</td><td>0.15348</td></tr><tr><td>std_fitness</td><td>0.02663</td></tr></table><br/></div></div>"
      ]
     },
     "metadata": {},
     "output_type": "display_data"
    },
    {
     "data": {
      "text/plain": [
       "<IPython.core.display.HTML object>"
      ],
      "text/html": [
       "Synced <strong style=\"color:#cdcd00\">earnest-cloud-109</strong>: <a href=\"https://wandb.ai/oliverweissl/NeuralStyleSearch/runs/jb3dnls5\" target=\"_blank\">https://wandb.ai/oliverweissl/NeuralStyleSearch/runs/jb3dnls5</a><br/>Synced 6 W&B file(s), 2 media file(s), 0 artifact file(s) and 0 other file(s)"
      ]
     },
     "metadata": {},
     "output_type": "display_data"
    },
    {
     "data": {
      "text/plain": [
       "<IPython.core.display.HTML object>"
      ],
      "text/html": [
       "Find logs at: <code>./wandb/run-20241106_152323-jb3dnls5/logs</code>"
      ]
     },
     "metadata": {},
     "output_type": "display_data"
    },
    {
     "data": {
      "text/plain": [
       "<IPython.core.display.HTML object>"
      ],
      "text/html": [
       "Successfully finished last run (ID:jb3dnls5). Initializing new run:<br/>"
      ]
     },
     "metadata": {},
     "output_type": "display_data"
    },
    {
     "data": {
      "text/plain": [
       "<IPython.core.display.HTML object>"
      ],
      "text/html": [
       "wandb version 0.18.5 is available!  To upgrade, please run:\n",
       " $ pip install wandb --upgrade"
      ]
     },
     "metadata": {},
     "output_type": "display_data"
    },
    {
     "data": {
      "text/plain": [
       "<IPython.core.display.HTML object>"
      ],
      "text/html": [
       "Tracking run with wandb version 0.13.5"
      ]
     },
     "metadata": {},
     "output_type": "display_data"
    },
    {
     "data": {
      "text/plain": [
       "<IPython.core.display.HTML object>"
      ],
      "text/html": [
       "Run data is saved locally in <code>/home/oliver/PycharmProjects/NeuralStyle/wandb/run-20241106_152334-5wfcmvds</code>"
      ]
     },
     "metadata": {},
     "output_type": "display_data"
    },
    {
     "data": {
      "text/plain": [
       "<IPython.core.display.HTML object>"
      ],
      "text/html": [
       "Syncing run <strong><a href=\"https://wandb.ai/oliverweissl/NeuralStyleSearch/runs/5wfcmvds\" target=\"_blank\">cosmic-sunset-110</a></strong> to <a href=\"https://wandb.ai/oliverweissl/NeuralStyleSearch\" target=\"_blank\">Weights & Biases</a> (<a href=\"https://wandb.me/run\" target=\"_blank\">docs</a>)<br/>"
      ]
     },
     "metadata": {},
     "output_type": "display_data"
    },
    {
     "name": "stdout",
     "output_type": "stream",
     "text": [
      "[2024-11-06 15:23:41,415 - root - INFO] Generate seed(s) for class: 4.\n",
      "[2024-11-06 15:23:41,422 - root - INFO] \tFound 1 valid seed(s) after: 1 iterations.\n",
      "[2024-11-06 15:23:41,425 - root - INFO] Running Search-Algorithm for 20 generations.\n",
      "[2024-11-06 15:23:43,669 - root - INFO] \tBest candidate has a fitness of: 0.5168780330457026\n",
      "[2024-11-06 15:23:43,672 - root - INFO] \tReset learner!\n"
     ]
    },
    {
     "data": {
      "text/plain": [
       "<IPython.core.display.HTML object>"
      ],
      "text/html": [
       "Finishing last run (ID:5wfcmvds) before initializing another..."
      ]
     },
     "metadata": {},
     "output_type": "display_data"
    },
    {
     "data": {
      "text/plain": [
       "<IPython.core.display.HTML object>"
      ],
      "text/html": [
       "Waiting for W&B process to finish... <strong style=\"color:green\">(success).</strong>"
      ]
     },
     "metadata": {},
     "output_type": "display_data"
    },
    {
     "data": {
      "text/plain": [
       "<IPython.core.display.HTML object>"
      ],
      "text/html": [
       "<style>\n",
       "    table.wandb td:nth-child(1) { padding: 0 10px; text-align: left ; width: auto;} td:nth-child(2) {text-align: left ; width: 100%}\n",
       "    .wandb-row { display: flex; flex-direction: row; flex-wrap: wrap; justify-content: flex-start; width: 100% }\n",
       "    .wandb-col { display: flex; flex-direction: column; flex-basis: 100%; flex: 1; padding: 10px; }\n",
       "    </style>\n",
       "<div class=\"wandb-row\"><div class=\"wandb-col\"><h3>Run history:</h3><br/><table class=\"wandb\"><tr><td>max_fitness</td><td>▁▂▅█▆▇▆▄▇▇▅▃▅▆▅▄▅█▅▆</td></tr><tr><td>mean_fitness</td><td>▇█▇▇▅▄▅▆▇▅▁▁▂▂▅▆▇▇█▇</td></tr><tr><td>min_fitness</td><td>█▇▇▅▂▄▄▆▅▃▂▂▃▃▅▅▆▁▅▄</td></tr><tr><td>std_fitness</td><td>▁▃▃▅█▆▇▇█▆▇▆▇▅▆▆▆█▆▆</td></tr></table><br/></div><div class=\"wandb-col\"><h3>Run summary:</h3><br/><table class=\"wandb\"><tr><td>best_fitness</td><td>0.51688</td></tr><tr><td>max_fitness</td><td>0.77061</td></tr><tr><td>mean_fitness</td><td>0.66113</td></tr><tr><td>min_fitness</td><td>0.54609</td></tr><tr><td>std_fitness</td><td>0.05972</td></tr></table><br/></div></div>"
      ]
     },
     "metadata": {},
     "output_type": "display_data"
    },
    {
     "data": {
      "text/plain": [
       "<IPython.core.display.HTML object>"
      ],
      "text/html": [
       "Synced <strong style=\"color:#cdcd00\">cosmic-sunset-110</strong>: <a href=\"https://wandb.ai/oliverweissl/NeuralStyleSearch/runs/5wfcmvds\" target=\"_blank\">https://wandb.ai/oliverweissl/NeuralStyleSearch/runs/5wfcmvds</a><br/>Synced 6 W&B file(s), 2 media file(s), 0 artifact file(s) and 0 other file(s)"
      ]
     },
     "metadata": {},
     "output_type": "display_data"
    },
    {
     "data": {
      "text/plain": [
       "<IPython.core.display.HTML object>"
      ],
      "text/html": [
       "Find logs at: <code>./wandb/run-20241106_152334-5wfcmvds/logs</code>"
      ]
     },
     "metadata": {},
     "output_type": "display_data"
    },
    {
     "data": {
      "text/plain": [
       "<IPython.core.display.HTML object>"
      ],
      "text/html": [
       "Successfully finished last run (ID:5wfcmvds). Initializing new run:<br/>"
      ]
     },
     "metadata": {},
     "output_type": "display_data"
    },
    {
     "data": {
      "text/plain": [
       "<IPython.core.display.HTML object>"
      ],
      "text/html": [
       "wandb version 0.18.5 is available!  To upgrade, please run:\n",
       " $ pip install wandb --upgrade"
      ]
     },
     "metadata": {},
     "output_type": "display_data"
    },
    {
     "data": {
      "text/plain": [
       "<IPython.core.display.HTML object>"
      ],
      "text/html": [
       "Tracking run with wandb version 0.13.5"
      ]
     },
     "metadata": {},
     "output_type": "display_data"
    },
    {
     "data": {
      "text/plain": [
       "<IPython.core.display.HTML object>"
      ],
      "text/html": [
       "Run data is saved locally in <code>/home/oliver/PycharmProjects/NeuralStyle/wandb/run-20241106_152343-jsu87ko2</code>"
      ]
     },
     "metadata": {},
     "output_type": "display_data"
    },
    {
     "data": {
      "text/plain": [
       "<IPython.core.display.HTML object>"
      ],
      "text/html": [
       "Syncing run <strong><a href=\"https://wandb.ai/oliverweissl/NeuralStyleSearch/runs/jsu87ko2\" target=\"_blank\">leafy-sun-111</a></strong> to <a href=\"https://wandb.ai/oliverweissl/NeuralStyleSearch\" target=\"_blank\">Weights & Biases</a> (<a href=\"https://wandb.me/run\" target=\"_blank\">docs</a>)<br/>"
      ]
     },
     "metadata": {},
     "output_type": "display_data"
    },
    {
     "name": "stdout",
     "output_type": "stream",
     "text": [
      "[2024-11-06 15:23:51,753 - root - INFO] Generate seed(s) for class: 4.\n",
      "[2024-11-06 15:23:51,768 - root - INFO] \tFound 1 valid seed(s) after: 1 iterations.\n",
      "[2024-11-06 15:23:51,771 - root - INFO] Running Search-Algorithm for 20 generations.\n",
      "[2024-11-06 15:23:54,036 - root - INFO] \tBest candidate has a fitness of: 0.29611363447087347\n",
      "[2024-11-06 15:23:54,039 - root - INFO] \tReset learner!\n"
     ]
    },
    {
     "data": {
      "text/plain": [
       "<IPython.core.display.HTML object>"
      ],
      "text/html": [
       "Finishing last run (ID:jsu87ko2) before initializing another..."
      ]
     },
     "metadata": {},
     "output_type": "display_data"
    },
    {
     "data": {
      "text/plain": [
       "<IPython.core.display.HTML object>"
      ],
      "text/html": [
       "Waiting for W&B process to finish... <strong style=\"color:green\">(success).</strong>"
      ]
     },
     "metadata": {},
     "output_type": "display_data"
    },
    {
     "data": {
      "text/plain": [
       "<IPython.core.display.HTML object>"
      ],
      "text/html": [
       "<style>\n",
       "    table.wandb td:nth-child(1) { padding: 0 10px; text-align: left ; width: auto;} td:nth-child(2) {text-align: left ; width: 100%}\n",
       "    .wandb-row { display: flex; flex-direction: row; flex-wrap: wrap; justify-content: flex-start; width: 100% }\n",
       "    .wandb-col { display: flex; flex-direction: column; flex-basis: 100%; flex: 1; padding: 10px; }\n",
       "    </style>\n",
       "<div class=\"wandb-row\"><div class=\"wandb-col\"><h3>Run history:</h3><br/><table class=\"wandb\"><tr><td>max_fitness</td><td>▁▁▁▁████▂▁█▁▁▁▁▁▂▂▂▂</td></tr><tr><td>mean_fitness</td><td>▁▂▂▂█▅▆▆▄▃▆▄▃▅▅▅▅▅▅▄</td></tr><tr><td>min_fitness</td><td>▄▃▄▆▃▁▆▅▄▃▅▇▄█▇▃▅█▅▃</td></tr><tr><td>std_fitness</td><td>▁▁▁▁█▆▆▆▂▂▆▁▁▂▁▂▂▁▁▂</td></tr></table><br/></div><div class=\"wandb-col\"><h3>Run summary:</h3><br/><table class=\"wandb\"><tr><td>best_fitness</td><td>0.29611</td></tr><tr><td>max_fitness</td><td>0.47484</td></tr><tr><td>mean_fitness</td><td>0.38303</td></tr><tr><td>min_fitness</td><td>0.31243</td></tr><tr><td>std_fitness</td><td>0.03501</td></tr></table><br/></div></div>"
      ]
     },
     "metadata": {},
     "output_type": "display_data"
    },
    {
     "data": {
      "text/plain": [
       "<IPython.core.display.HTML object>"
      ],
      "text/html": [
       "Synced <strong style=\"color:#cdcd00\">leafy-sun-111</strong>: <a href=\"https://wandb.ai/oliverweissl/NeuralStyleSearch/runs/jsu87ko2\" target=\"_blank\">https://wandb.ai/oliverweissl/NeuralStyleSearch/runs/jsu87ko2</a><br/>Synced 6 W&B file(s), 2 media file(s), 0 artifact file(s) and 0 other file(s)"
      ]
     },
     "metadata": {},
     "output_type": "display_data"
    },
    {
     "data": {
      "text/plain": [
       "<IPython.core.display.HTML object>"
      ],
      "text/html": [
       "Find logs at: <code>./wandb/run-20241106_152343-jsu87ko2/logs</code>"
      ]
     },
     "metadata": {},
     "output_type": "display_data"
    },
    {
     "data": {
      "text/plain": [
       "<IPython.core.display.HTML object>"
      ],
      "text/html": [
       "Successfully finished last run (ID:jsu87ko2). Initializing new run:<br/>"
      ]
     },
     "metadata": {},
     "output_type": "display_data"
    },
    {
     "data": {
      "text/plain": [
       "<IPython.core.display.HTML object>"
      ],
      "text/html": [
       "wandb version 0.18.5 is available!  To upgrade, please run:\n",
       " $ pip install wandb --upgrade"
      ]
     },
     "metadata": {},
     "output_type": "display_data"
    },
    {
     "data": {
      "text/plain": [
       "<IPython.core.display.HTML object>"
      ],
      "text/html": [
       "Tracking run with wandb version 0.13.5"
      ]
     },
     "metadata": {},
     "output_type": "display_data"
    },
    {
     "data": {
      "text/plain": [
       "<IPython.core.display.HTML object>"
      ],
      "text/html": [
       "Run data is saved locally in <code>/home/oliver/PycharmProjects/NeuralStyle/wandb/run-20241106_152354-dxirxiit</code>"
      ]
     },
     "metadata": {},
     "output_type": "display_data"
    },
    {
     "data": {
      "text/plain": [
       "<IPython.core.display.HTML object>"
      ],
      "text/html": [
       "Syncing run <strong><a href=\"https://wandb.ai/oliverweissl/NeuralStyleSearch/runs/dxirxiit\" target=\"_blank\">jolly-pond-112</a></strong> to <a href=\"https://wandb.ai/oliverweissl/NeuralStyleSearch\" target=\"_blank\">Weights & Biases</a> (<a href=\"https://wandb.me/run\" target=\"_blank\">docs</a>)<br/>"
      ]
     },
     "metadata": {},
     "output_type": "display_data"
    },
    {
     "name": "stdout",
     "output_type": "stream",
     "text": [
      "[2024-11-06 15:24:01,806 - root - INFO] Generate seed(s) for class: 4.\n",
      "[2024-11-06 15:24:02,506 - root - INFO] \tFound 1 valid seed(s) after: 116 iterations.\n",
      "[2024-11-06 15:24:02,509 - root - INFO] Running Search-Algorithm for 20 generations.\n"
     ]
    },
    {
     "name": "stderr",
     "output_type": "stream",
     "text": [
      "/home/oliver/PycharmProjects/NeuralStyle/src/objective_functions/_ssim.py:40: RuntimeWarning: invalid value encountered in sqrt\n",
      "  d = np.sqrt(2-s1-s2)\n"
     ]
    },
    {
     "name": "stdout",
     "output_type": "stream",
     "text": [
      "[2024-11-06 15:24:04,764 - root - INFO] \tBest candidate has a fitness of: 0.2660033944882685\n",
      "[2024-11-06 15:24:04,767 - root - INFO] \tReset learner!\n"
     ]
    },
    {
     "data": {
      "text/plain": [
       "<IPython.core.display.HTML object>"
      ],
      "text/html": [
       "Finishing last run (ID:dxirxiit) before initializing another..."
      ]
     },
     "metadata": {},
     "output_type": "display_data"
    },
    {
     "data": {
      "text/plain": [
       "<IPython.core.display.HTML object>"
      ],
      "text/html": [
       "Waiting for W&B process to finish... <strong style=\"color:green\">(success).</strong>"
      ]
     },
     "metadata": {},
     "output_type": "display_data"
    },
    {
     "data": {
      "text/plain": [
       "<IPython.core.display.HTML object>"
      ],
      "text/html": [
       "<style>\n",
       "    table.wandb td:nth-child(1) { padding: 0 10px; text-align: left ; width: auto;} td:nth-child(2) {text-align: left ; width: 100%}\n",
       "    .wandb-row { display: flex; flex-direction: row; flex-wrap: wrap; justify-content: flex-start; width: 100% }\n",
       "    .wandb-col { display: flex; flex-direction: column; flex-basis: 100%; flex: 1; padding: 10px; }\n",
       "    </style>\n",
       "<div class=\"wandb-row\"><div class=\"wandb-col\"><h3>Run history:</h3><br/><table class=\"wandb\"><tr><td>max_fitness</td><td>▂▃▃▄▅▄▁▃▄▄▆▆█▅▅▁▅▄▄▄</td></tr><tr><td>mean_fitness</td><td>▄▃▃▃▁▁▁▄▄▄▅▃▃▅▃▂▆█▇█</td></tr><tr><td>min_fitness</td><td>▇▇▁▁▂▅▅▆▁▆▂▁▃▅▁▁▂▅▁█</td></tr><tr><td>std_fitness</td><td>▁▂▄▆▅▄▃▃▄▄▆▇█▇▅▄▄▄▆▄</td></tr></table><br/></div><div class=\"wandb-col\"><h3>Run summary:</h3><br/><table class=\"wandb\"><tr><td>best_fitness</td><td>0.266</td></tr><tr><td>max_fitness</td><td>0.37739</td></tr><tr><td>mean_fitness</td><td>0.32233</td></tr><tr><td>min_fitness</td><td>0.2853</td></tr><tr><td>std_fitness</td><td>0.02286</td></tr></table><br/></div></div>"
      ]
     },
     "metadata": {},
     "output_type": "display_data"
    },
    {
     "data": {
      "text/plain": [
       "<IPython.core.display.HTML object>"
      ],
      "text/html": [
       "Synced <strong style=\"color:#cdcd00\">jolly-pond-112</strong>: <a href=\"https://wandb.ai/oliverweissl/NeuralStyleSearch/runs/dxirxiit\" target=\"_blank\">https://wandb.ai/oliverweissl/NeuralStyleSearch/runs/dxirxiit</a><br/>Synced 6 W&B file(s), 2 media file(s), 0 artifact file(s) and 0 other file(s)"
      ]
     },
     "metadata": {},
     "output_type": "display_data"
    },
    {
     "data": {
      "text/plain": [
       "<IPython.core.display.HTML object>"
      ],
      "text/html": [
       "Find logs at: <code>./wandb/run-20241106_152354-dxirxiit/logs</code>"
      ]
     },
     "metadata": {},
     "output_type": "display_data"
    },
    {
     "data": {
      "text/plain": [
       "<IPython.core.display.HTML object>"
      ],
      "text/html": [
       "Successfully finished last run (ID:dxirxiit). Initializing new run:<br/>"
      ]
     },
     "metadata": {},
     "output_type": "display_data"
    },
    {
     "data": {
      "text/plain": [
       "<IPython.core.display.HTML object>"
      ],
      "text/html": [
       "wandb version 0.18.5 is available!  To upgrade, please run:\n",
       " $ pip install wandb --upgrade"
      ]
     },
     "metadata": {},
     "output_type": "display_data"
    },
    {
     "data": {
      "text/plain": [
       "<IPython.core.display.HTML object>"
      ],
      "text/html": [
       "Tracking run with wandb version 0.13.5"
      ]
     },
     "metadata": {},
     "output_type": "display_data"
    },
    {
     "data": {
      "text/plain": [
       "<IPython.core.display.HTML object>"
      ],
      "text/html": [
       "Run data is saved locally in <code>/home/oliver/PycharmProjects/NeuralStyle/wandb/run-20241106_152404-mdxb5ouo</code>"
      ]
     },
     "metadata": {},
     "output_type": "display_data"
    },
    {
     "data": {
      "text/plain": [
       "<IPython.core.display.HTML object>"
      ],
      "text/html": [
       "Syncing run <strong><a href=\"https://wandb.ai/oliverweissl/NeuralStyleSearch/runs/mdxb5ouo\" target=\"_blank\">twilight-smoke-113</a></strong> to <a href=\"https://wandb.ai/oliverweissl/NeuralStyleSearch\" target=\"_blank\">Weights & Biases</a> (<a href=\"https://wandb.me/run\" target=\"_blank\">docs</a>)<br/>"
      ]
     },
     "metadata": {},
     "output_type": "display_data"
    },
    {
     "name": "stdout",
     "output_type": "stream",
     "text": [
      "[2024-11-06 15:24:13,430 - root - INFO] Generate seed(s) for class: 4.\n",
      "[2024-11-06 15:24:13,443 - root - INFO] \tFound 1 valid seed(s) after: 1 iterations.\n",
      "[2024-11-06 15:24:13,446 - root - INFO] Running Search-Algorithm for 20 generations.\n",
      "[2024-11-06 15:24:15,717 - root - INFO] \tBest candidate has a fitness of: 0.23508634603398382\n",
      "[2024-11-06 15:24:15,719 - root - INFO] \tReset learner!\n"
     ]
    },
    {
     "name": "stderr",
     "output_type": "stream",
     "text": [
      "/home/oliver/PycharmProjects/NeuralStyle/src/objective_functions/_ssim.py:40: RuntimeWarning: invalid value encountered in sqrt\n",
      "  d = np.sqrt(2-s1-s2)\n"
     ]
    },
    {
     "data": {
      "text/plain": [
       "<IPython.core.display.HTML object>"
      ],
      "text/html": [
       "Finishing last run (ID:mdxb5ouo) before initializing another..."
      ]
     },
     "metadata": {},
     "output_type": "display_data"
    },
    {
     "data": {
      "text/plain": [
       "<IPython.core.display.HTML object>"
      ],
      "text/html": [
       "Waiting for W&B process to finish... <strong style=\"color:green\">(success).</strong>"
      ]
     },
     "metadata": {},
     "output_type": "display_data"
    },
    {
     "data": {
      "text/plain": [
       "<IPython.core.display.HTML object>"
      ],
      "text/html": [
       "<style>\n",
       "    table.wandb td:nth-child(1) { padding: 0 10px; text-align: left ; width: auto;} td:nth-child(2) {text-align: left ; width: 100%}\n",
       "    .wandb-row { display: flex; flex-direction: row; flex-wrap: wrap; justify-content: flex-start; width: 100% }\n",
       "    .wandb-col { display: flex; flex-direction: column; flex-basis: 100%; flex: 1; padding: 10px; }\n",
       "    </style>\n",
       "<div class=\"wandb-row\"><div class=\"wandb-col\"><h3>Run history:</h3><br/><table class=\"wandb\"><tr><td>max_fitness</td><td>▁▂▅▆▇█▆▄▃█▅▅▅▃▇▇▇▇▇▆</td></tr><tr><td>mean_fitness</td><td>▄▃▃▄▃▃▂▂▁▁▃▂▄▂▅▆▅█▇▇</td></tr><tr><td>min_fitness</td><td>█▇▇█▅▄▁▄▂▃▆▁▂▂▂▃▁▁▃▄</td></tr><tr><td>std_fitness</td><td>▁▂▂▃▅▅▄▄▅▅▃▆▆▅▆█▇▆▆▅</td></tr></table><br/></div><div class=\"wandb-col\"><h3>Run summary:</h3><br/><table class=\"wandb\"><tr><td>best_fitness</td><td>0.23509</td></tr><tr><td>max_fitness</td><td>0.51118</td></tr><tr><td>mean_fitness</td><td>0.4217</td></tr><tr><td>min_fitness</td><td>0.28141</td></tr><tr><td>std_fitness</td><td>0.05642</td></tr></table><br/></div></div>"
      ]
     },
     "metadata": {},
     "output_type": "display_data"
    },
    {
     "data": {
      "text/plain": [
       "<IPython.core.display.HTML object>"
      ],
      "text/html": [
       "Synced <strong style=\"color:#cdcd00\">twilight-smoke-113</strong>: <a href=\"https://wandb.ai/oliverweissl/NeuralStyleSearch/runs/mdxb5ouo\" target=\"_blank\">https://wandb.ai/oliverweissl/NeuralStyleSearch/runs/mdxb5ouo</a><br/>Synced 6 W&B file(s), 2 media file(s), 0 artifact file(s) and 0 other file(s)"
      ]
     },
     "metadata": {},
     "output_type": "display_data"
    },
    {
     "data": {
      "text/plain": [
       "<IPython.core.display.HTML object>"
      ],
      "text/html": [
       "Find logs at: <code>./wandb/run-20241106_152404-mdxb5ouo/logs</code>"
      ]
     },
     "metadata": {},
     "output_type": "display_data"
    },
    {
     "data": {
      "text/plain": [
       "<IPython.core.display.HTML object>"
      ],
      "text/html": [
       "Successfully finished last run (ID:mdxb5ouo). Initializing new run:<br/>"
      ]
     },
     "metadata": {},
     "output_type": "display_data"
    },
    {
     "data": {
      "text/plain": [
       "<IPython.core.display.HTML object>"
      ],
      "text/html": [
       "wandb version 0.18.5 is available!  To upgrade, please run:\n",
       " $ pip install wandb --upgrade"
      ]
     },
     "metadata": {},
     "output_type": "display_data"
    },
    {
     "data": {
      "text/plain": [
       "<IPython.core.display.HTML object>"
      ],
      "text/html": [
       "Tracking run with wandb version 0.13.5"
      ]
     },
     "metadata": {},
     "output_type": "display_data"
    },
    {
     "data": {
      "text/plain": [
       "<IPython.core.display.HTML object>"
      ],
      "text/html": [
       "Run data is saved locally in <code>/home/oliver/PycharmProjects/NeuralStyle/wandb/run-20241106_152415-lpqv3ork</code>"
      ]
     },
     "metadata": {},
     "output_type": "display_data"
    },
    {
     "data": {
      "text/plain": [
       "<IPython.core.display.HTML object>"
      ],
      "text/html": [
       "Syncing run <strong><a href=\"https://wandb.ai/oliverweissl/NeuralStyleSearch/runs/lpqv3ork\" target=\"_blank\">jumping-terrain-114</a></strong> to <a href=\"https://wandb.ai/oliverweissl/NeuralStyleSearch\" target=\"_blank\">Weights & Biases</a> (<a href=\"https://wandb.me/run\" target=\"_blank\">docs</a>)<br/>"
      ]
     },
     "metadata": {},
     "output_type": "display_data"
    },
    {
     "name": "stdout",
     "output_type": "stream",
     "text": [
      "[2024-11-06 15:24:23,363 - root - INFO] Generate seed(s) for class: 5.\n",
      "[2024-11-06 15:24:23,370 - root - INFO] \tFound 1 valid seed(s) after: 1 iterations.\n",
      "[2024-11-06 15:24:23,373 - root - INFO] Running Search-Algorithm for 20 generations.\n",
      "[2024-11-06 15:24:25,723 - root - INFO] \tBest candidate has a fitness of: 0.2879452947415644\n",
      "[2024-11-06 15:24:25,726 - root - INFO] \tReset learner!\n"
     ]
    },
    {
     "data": {
      "text/plain": [
       "<IPython.core.display.HTML object>"
      ],
      "text/html": [
       "Finishing last run (ID:lpqv3ork) before initializing another..."
      ]
     },
     "metadata": {},
     "output_type": "display_data"
    },
    {
     "data": {
      "text/plain": [
       "<IPython.core.display.HTML object>"
      ],
      "text/html": [
       "Waiting for W&B process to finish... <strong style=\"color:green\">(success).</strong>"
      ]
     },
     "metadata": {},
     "output_type": "display_data"
    },
    {
     "data": {
      "text/plain": [
       "<IPython.core.display.HTML object>"
      ],
      "text/html": [
       "<style>\n",
       "    table.wandb td:nth-child(1) { padding: 0 10px; text-align: left ; width: auto;} td:nth-child(2) {text-align: left ; width: 100%}\n",
       "    .wandb-row { display: flex; flex-direction: row; flex-wrap: wrap; justify-content: flex-start; width: 100% }\n",
       "    .wandb-col { display: flex; flex-direction: column; flex-basis: 100%; flex: 1; padding: 10px; }\n",
       "    </style>\n",
       "<div class=\"wandb-row\"><div class=\"wandb-col\"><h3>Run history:</h3><br/><table class=\"wandb\"><tr><td>max_fitness</td><td>▁▁▃▃▇▃▄▄▃▆▇██▄▅▃▇▆▇▅</td></tr><tr><td>mean_fitness</td><td>▂▁▁▂▄▃▃▅▆▅▅▇▇▇█▆███▇</td></tr><tr><td>min_fitness</td><td>▅▄▄▃▄▃▄▇▂▁▅▇▇▄▇▅▇█▆▃</td></tr><tr><td>std_fitness</td><td>▃▅▇▇▆▇▅▃▇█▇▃▄▅▂▆▄▁▄▆</td></tr></table><br/></div><div class=\"wandb-col\"><h3>Run summary:</h3><br/><table class=\"wandb\"><tr><td>best_fitness</td><td>0.28795</td></tr><tr><td>max_fitness</td><td>0.45614</td></tr><tr><td>mean_fitness</td><td>0.40928</td></tr><tr><td>min_fitness</td><td>0.30774</td></tr><tr><td>std_fitness</td><td>0.03046</td></tr></table><br/></div></div>"
      ]
     },
     "metadata": {},
     "output_type": "display_data"
    },
    {
     "data": {
      "text/plain": [
       "<IPython.core.display.HTML object>"
      ],
      "text/html": [
       "Synced <strong style=\"color:#cdcd00\">jumping-terrain-114</strong>: <a href=\"https://wandb.ai/oliverweissl/NeuralStyleSearch/runs/lpqv3ork\" target=\"_blank\">https://wandb.ai/oliverweissl/NeuralStyleSearch/runs/lpqv3ork</a><br/>Synced 6 W&B file(s), 2 media file(s), 0 artifact file(s) and 0 other file(s)"
      ]
     },
     "metadata": {},
     "output_type": "display_data"
    },
    {
     "data": {
      "text/plain": [
       "<IPython.core.display.HTML object>"
      ],
      "text/html": [
       "Find logs at: <code>./wandb/run-20241106_152415-lpqv3ork/logs</code>"
      ]
     },
     "metadata": {},
     "output_type": "display_data"
    },
    {
     "data": {
      "text/plain": [
       "<IPython.core.display.HTML object>"
      ],
      "text/html": [
       "Successfully finished last run (ID:lpqv3ork). Initializing new run:<br/>"
      ]
     },
     "metadata": {},
     "output_type": "display_data"
    },
    {
     "data": {
      "text/plain": [
       "<IPython.core.display.HTML object>"
      ],
      "text/html": [
       "wandb version 0.18.5 is available!  To upgrade, please run:\n",
       " $ pip install wandb --upgrade"
      ]
     },
     "metadata": {},
     "output_type": "display_data"
    },
    {
     "data": {
      "text/plain": [
       "<IPython.core.display.HTML object>"
      ],
      "text/html": [
       "Tracking run with wandb version 0.13.5"
      ]
     },
     "metadata": {},
     "output_type": "display_data"
    },
    {
     "data": {
      "text/plain": [
       "<IPython.core.display.HTML object>"
      ],
      "text/html": [
       "Run data is saved locally in <code>/home/oliver/PycharmProjects/NeuralStyle/wandb/run-20241106_152425-i45p7qek</code>"
      ]
     },
     "metadata": {},
     "output_type": "display_data"
    },
    {
     "data": {
      "text/plain": [
       "<IPython.core.display.HTML object>"
      ],
      "text/html": [
       "Syncing run <strong><a href=\"https://wandb.ai/oliverweissl/NeuralStyleSearch/runs/i45p7qek\" target=\"_blank\">sweet-cosmos-115</a></strong> to <a href=\"https://wandb.ai/oliverweissl/NeuralStyleSearch\" target=\"_blank\">Weights & Biases</a> (<a href=\"https://wandb.me/run\" target=\"_blank\">docs</a>)<br/>"
      ]
     },
     "metadata": {},
     "output_type": "display_data"
    },
    {
     "name": "stdout",
     "output_type": "stream",
     "text": [
      "[2024-11-06 15:24:33,345 - root - INFO] Generate seed(s) for class: 5.\n",
      "[2024-11-06 15:24:33,353 - root - INFO] \tFound 1 valid seed(s) after: 1 iterations.\n",
      "[2024-11-06 15:24:33,355 - root - INFO] Running Search-Algorithm for 20 generations.\n",
      "[2024-11-06 15:24:35,755 - root - INFO] \tBest candidate has a fitness of: 0.12387433088200628\n",
      "[2024-11-06 15:24:35,757 - root - INFO] \tReset learner!\n"
     ]
    },
    {
     "data": {
      "text/plain": [
       "<IPython.core.display.HTML object>"
      ],
      "text/html": [
       "Finishing last run (ID:i45p7qek) before initializing another..."
      ]
     },
     "metadata": {},
     "output_type": "display_data"
    },
    {
     "data": {
      "text/plain": [
       "<IPython.core.display.HTML object>"
      ],
      "text/html": [
       "Waiting for W&B process to finish... <strong style=\"color:green\">(success).</strong>"
      ]
     },
     "metadata": {},
     "output_type": "display_data"
    },
    {
     "data": {
      "text/plain": [
       "<IPython.core.display.HTML object>"
      ],
      "text/html": [
       "<style>\n",
       "    table.wandb td:nth-child(1) { padding: 0 10px; text-align: left ; width: auto;} td:nth-child(2) {text-align: left ; width: 100%}\n",
       "    .wandb-row { display: flex; flex-direction: row; flex-wrap: wrap; justify-content: flex-start; width: 100% }\n",
       "    .wandb-col { display: flex; flex-direction: column; flex-basis: 100%; flex: 1; padding: 10px; }\n",
       "    </style>\n",
       "<div class=\"wandb-row\"><div class=\"wandb-col\"><h3>Run history:</h3><br/><table class=\"wandb\"><tr><td>max_fitness</td><td>▁▂▆▅▆▇█▇███▇▆▇▇▇▆███</td></tr><tr><td>mean_fitness</td><td>▁▁▂▂▃▄▄▄▄▅▅▅▆▆██▆▇██</td></tr><tr><td>min_fitness</td><td>▄▄▃▁▄▄▁▂▂▆▃▃▃▂▆█▁▄▅▄</td></tr><tr><td>std_fitness</td><td>▁▂▄▄▅▆█▆▆▅▇▆▇▅▆▄▅▅▄▅</td></tr></table><br/></div><div class=\"wandb-col\"><h3>Run summary:</h3><br/><table class=\"wandb\"><tr><td>best_fitness</td><td>0.12387</td></tr><tr><td>max_fitness</td><td>0.22092</td></tr><tr><td>mean_fitness</td><td>0.18972</td></tr><tr><td>min_fitness</td><td>0.13423</td></tr><tr><td>std_fitness</td><td>0.0175</td></tr></table><br/></div></div>"
      ]
     },
     "metadata": {},
     "output_type": "display_data"
    },
    {
     "data": {
      "text/plain": [
       "<IPython.core.display.HTML object>"
      ],
      "text/html": [
       "Synced <strong style=\"color:#cdcd00\">sweet-cosmos-115</strong>: <a href=\"https://wandb.ai/oliverweissl/NeuralStyleSearch/runs/i45p7qek\" target=\"_blank\">https://wandb.ai/oliverweissl/NeuralStyleSearch/runs/i45p7qek</a><br/>Synced 6 W&B file(s), 2 media file(s), 0 artifact file(s) and 0 other file(s)"
      ]
     },
     "metadata": {},
     "output_type": "display_data"
    },
    {
     "data": {
      "text/plain": [
       "<IPython.core.display.HTML object>"
      ],
      "text/html": [
       "Find logs at: <code>./wandb/run-20241106_152425-i45p7qek/logs</code>"
      ]
     },
     "metadata": {},
     "output_type": "display_data"
    },
    {
     "data": {
      "text/plain": [
       "<IPython.core.display.HTML object>"
      ],
      "text/html": [
       "Successfully finished last run (ID:i45p7qek). Initializing new run:<br/>"
      ]
     },
     "metadata": {},
     "output_type": "display_data"
    },
    {
     "data": {
      "text/plain": [
       "<IPython.core.display.HTML object>"
      ],
      "text/html": [
       "wandb version 0.18.5 is available!  To upgrade, please run:\n",
       " $ pip install wandb --upgrade"
      ]
     },
     "metadata": {},
     "output_type": "display_data"
    },
    {
     "data": {
      "text/plain": [
       "<IPython.core.display.HTML object>"
      ],
      "text/html": [
       "Tracking run with wandb version 0.13.5"
      ]
     },
     "metadata": {},
     "output_type": "display_data"
    },
    {
     "data": {
      "text/plain": [
       "<IPython.core.display.HTML object>"
      ],
      "text/html": [
       "Run data is saved locally in <code>/home/oliver/PycharmProjects/NeuralStyle/wandb/run-20241106_152435-4qmxfcxi</code>"
      ]
     },
     "metadata": {},
     "output_type": "display_data"
    },
    {
     "data": {
      "text/plain": [
       "<IPython.core.display.HTML object>"
      ],
      "text/html": [
       "Syncing run <strong><a href=\"https://wandb.ai/oliverweissl/NeuralStyleSearch/runs/4qmxfcxi\" target=\"_blank\">brisk-waterfall-116</a></strong> to <a href=\"https://wandb.ai/oliverweissl/NeuralStyleSearch\" target=\"_blank\">Weights & Biases</a> (<a href=\"https://wandb.me/run\" target=\"_blank\">docs</a>)<br/>"
      ]
     },
     "metadata": {},
     "output_type": "display_data"
    },
    {
     "name": "stdout",
     "output_type": "stream",
     "text": [
      "[2024-11-06 15:24:43,407 - root - INFO] Generate seed(s) for class: 5.\n",
      "[2024-11-06 15:24:43,415 - root - INFO] \tFound 1 valid seed(s) after: 1 iterations.\n",
      "[2024-11-06 15:24:43,418 - root - INFO] Running Search-Algorithm for 20 generations.\n",
      "[2024-11-06 15:24:45,722 - root - INFO] \tBest candidate has a fitness of: 0.2869673017300898\n",
      "[2024-11-06 15:24:45,724 - root - INFO] \tReset learner!\n"
     ]
    },
    {
     "data": {
      "text/plain": [
       "<IPython.core.display.HTML object>"
      ],
      "text/html": [
       "Finishing last run (ID:4qmxfcxi) before initializing another..."
      ]
     },
     "metadata": {},
     "output_type": "display_data"
    },
    {
     "data": {
      "text/plain": [
       "<IPython.core.display.HTML object>"
      ],
      "text/html": [
       "Waiting for W&B process to finish... <strong style=\"color:green\">(success).</strong>"
      ]
     },
     "metadata": {},
     "output_type": "display_data"
    },
    {
     "data": {
      "text/plain": [
       "<IPython.core.display.HTML object>"
      ],
      "text/html": [
       "<style>\n",
       "    table.wandb td:nth-child(1) { padding: 0 10px; text-align: left ; width: auto;} td:nth-child(2) {text-align: left ; width: 100%}\n",
       "    .wandb-row { display: flex; flex-direction: row; flex-wrap: wrap; justify-content: flex-start; width: 100% }\n",
       "    .wandb-col { display: flex; flex-direction: column; flex-basis: 100%; flex: 1; padding: 10px; }\n",
       "    </style>\n",
       "<div class=\"wandb-row\"><div class=\"wandb-col\"><h3>Run history:</h3><br/><table class=\"wandb\"><tr><td>max_fitness</td><td>▂▃▃▄▅▇▇▆▃▂▅█▆▂▄▂▄▃▁▂</td></tr><tr><td>mean_fitness</td><td>██▆▅▆▅▅▄▄▃▄▂▃▂▃▃▃▂▁▂</td></tr><tr><td>min_fitness</td><td>█▄▁▂▂▃▂▃▄▃▃▃▂▂▄▃▄▃▄▄</td></tr><tr><td>std_fitness</td><td>▁▄▆▇▇▇▇█▆▆▆▇▆▅▃▆▆▅▃▅</td></tr></table><br/></div><div class=\"wandb-col\"><h3>Run summary:</h3><br/><table class=\"wandb\"><tr><td>best_fitness</td><td>0.28697</td></tr><tr><td>max_fitness</td><td>0.40597</td></tr><tr><td>mean_fitness</td><td>0.34561</td></tr><tr><td>min_fitness</td><td>0.31052</td></tr><tr><td>std_fitness</td><td>0.02689</td></tr></table><br/></div></div>"
      ]
     },
     "metadata": {},
     "output_type": "display_data"
    },
    {
     "data": {
      "text/plain": [
       "<IPython.core.display.HTML object>"
      ],
      "text/html": [
       "Synced <strong style=\"color:#cdcd00\">brisk-waterfall-116</strong>: <a href=\"https://wandb.ai/oliverweissl/NeuralStyleSearch/runs/4qmxfcxi\" target=\"_blank\">https://wandb.ai/oliverweissl/NeuralStyleSearch/runs/4qmxfcxi</a><br/>Synced 6 W&B file(s), 2 media file(s), 0 artifact file(s) and 0 other file(s)"
      ]
     },
     "metadata": {},
     "output_type": "display_data"
    },
    {
     "data": {
      "text/plain": [
       "<IPython.core.display.HTML object>"
      ],
      "text/html": [
       "Find logs at: <code>./wandb/run-20241106_152435-4qmxfcxi/logs</code>"
      ]
     },
     "metadata": {},
     "output_type": "display_data"
    },
    {
     "data": {
      "text/plain": [
       "<IPython.core.display.HTML object>"
      ],
      "text/html": [
       "Successfully finished last run (ID:4qmxfcxi). Initializing new run:<br/>"
      ]
     },
     "metadata": {},
     "output_type": "display_data"
    },
    {
     "data": {
      "text/plain": [
       "<IPython.core.display.HTML object>"
      ],
      "text/html": [
       "wandb version 0.18.5 is available!  To upgrade, please run:\n",
       " $ pip install wandb --upgrade"
      ]
     },
     "metadata": {},
     "output_type": "display_data"
    },
    {
     "data": {
      "text/plain": [
       "<IPython.core.display.HTML object>"
      ],
      "text/html": [
       "Tracking run with wandb version 0.13.5"
      ]
     },
     "metadata": {},
     "output_type": "display_data"
    },
    {
     "data": {
      "text/plain": [
       "<IPython.core.display.HTML object>"
      ],
      "text/html": [
       "Run data is saved locally in <code>/home/oliver/PycharmProjects/NeuralStyle/wandb/run-20241106_152445-s8irq3eo</code>"
      ]
     },
     "metadata": {},
     "output_type": "display_data"
    },
    {
     "data": {
      "text/plain": [
       "<IPython.core.display.HTML object>"
      ],
      "text/html": [
       "Syncing run <strong><a href=\"https://wandb.ai/oliverweissl/NeuralStyleSearch/runs/s8irq3eo\" target=\"_blank\">comic-breeze-117</a></strong> to <a href=\"https://wandb.ai/oliverweissl/NeuralStyleSearch\" target=\"_blank\">Weights & Biases</a> (<a href=\"https://wandb.me/run\" target=\"_blank\">docs</a>)<br/>"
      ]
     },
     "metadata": {},
     "output_type": "display_data"
    },
    {
     "name": "stdout",
     "output_type": "stream",
     "text": [
      "[2024-11-06 15:24:54,401 - root - INFO] Generate seed(s) for class: 5.\n",
      "[2024-11-06 15:24:54,510 - root - INFO] \tFound 1 valid seed(s) after: 18 iterations.\n",
      "[2024-11-06 15:24:54,514 - root - INFO] Running Search-Algorithm for 20 generations.\n",
      "[2024-11-06 15:24:56,960 - root - INFO] \tBest candidate has a fitness of: 0.17937805688756048\n",
      "[2024-11-06 15:24:56,963 - root - INFO] \tReset learner!\n"
     ]
    },
    {
     "data": {
      "text/plain": [
       "<IPython.core.display.HTML object>"
      ],
      "text/html": [
       "Finishing last run (ID:s8irq3eo) before initializing another..."
      ]
     },
     "metadata": {},
     "output_type": "display_data"
    },
    {
     "data": {
      "text/plain": [
       "<IPython.core.display.HTML object>"
      ],
      "text/html": [
       "Waiting for W&B process to finish... <strong style=\"color:green\">(success).</strong>"
      ]
     },
     "metadata": {},
     "output_type": "display_data"
    },
    {
     "data": {
      "text/plain": [
       "<IPython.core.display.HTML object>"
      ],
      "text/html": [
       "<style>\n",
       "    table.wandb td:nth-child(1) { padding: 0 10px; text-align: left ; width: auto;} td:nth-child(2) {text-align: left ; width: 100%}\n",
       "    .wandb-row { display: flex; flex-direction: row; flex-wrap: wrap; justify-content: flex-start; width: 100% }\n",
       "    .wandb-col { display: flex; flex-direction: column; flex-basis: 100%; flex: 1; padding: 10px; }\n",
       "    </style>\n",
       "<div class=\"wandb-row\"><div class=\"wandb-col\"><h3>Run history:</h3><br/><table class=\"wandb\"><tr><td>max_fitness</td><td>▁▂▁▃▃▄▃▅▃▃▂▅▃▆█▆▄▅▅█</td></tr><tr><td>mean_fitness</td><td>▅▆▄▅▃▄▃▂▂▁▁▄▄▆█▅▆▅▄▂</td></tr><tr><td>min_fitness</td><td>▇█▆▇▅▇▆▅▁▂▂▆▇▄▃▁▃▅▄▂</td></tr><tr><td>std_fitness</td><td>▁▁▁▃▃▄▄▅▅▅▄▃▃▅▅▇▆▇▇█</td></tr></table><br/></div><div class=\"wandb-col\"><h3>Run summary:</h3><br/><table class=\"wandb\"><tr><td>best_fitness</td><td>0.17938</td></tr><tr><td>max_fitness</td><td>0.34526</td></tr><tr><td>mean_fitness</td><td>0.26858</td></tr><tr><td>min_fitness</td><td>0.1892</td></tr><tr><td>std_fitness</td><td>0.03278</td></tr></table><br/></div></div>"
      ]
     },
     "metadata": {},
     "output_type": "display_data"
    },
    {
     "data": {
      "text/plain": [
       "<IPython.core.display.HTML object>"
      ],
      "text/html": [
       "Synced <strong style=\"color:#cdcd00\">comic-breeze-117</strong>: <a href=\"https://wandb.ai/oliverweissl/NeuralStyleSearch/runs/s8irq3eo\" target=\"_blank\">https://wandb.ai/oliverweissl/NeuralStyleSearch/runs/s8irq3eo</a><br/>Synced 6 W&B file(s), 2 media file(s), 0 artifact file(s) and 0 other file(s)"
      ]
     },
     "metadata": {},
     "output_type": "display_data"
    },
    {
     "data": {
      "text/plain": [
       "<IPython.core.display.HTML object>"
      ],
      "text/html": [
       "Find logs at: <code>./wandb/run-20241106_152445-s8irq3eo/logs</code>"
      ]
     },
     "metadata": {},
     "output_type": "display_data"
    },
    {
     "data": {
      "text/plain": [
       "<IPython.core.display.HTML object>"
      ],
      "text/html": [
       "Successfully finished last run (ID:s8irq3eo). Initializing new run:<br/>"
      ]
     },
     "metadata": {},
     "output_type": "display_data"
    },
    {
     "data": {
      "text/plain": [
       "<IPython.core.display.HTML object>"
      ],
      "text/html": [
       "wandb version 0.18.5 is available!  To upgrade, please run:\n",
       " $ pip install wandb --upgrade"
      ]
     },
     "metadata": {},
     "output_type": "display_data"
    },
    {
     "data": {
      "text/plain": [
       "<IPython.core.display.HTML object>"
      ],
      "text/html": [
       "Tracking run with wandb version 0.13.5"
      ]
     },
     "metadata": {},
     "output_type": "display_data"
    },
    {
     "data": {
      "text/plain": [
       "<IPython.core.display.HTML object>"
      ],
      "text/html": [
       "Run data is saved locally in <code>/home/oliver/PycharmProjects/NeuralStyle/wandb/run-20241106_152456-wipdah2n</code>"
      ]
     },
     "metadata": {},
     "output_type": "display_data"
    },
    {
     "data": {
      "text/plain": [
       "<IPython.core.display.HTML object>"
      ],
      "text/html": [
       "Syncing run <strong><a href=\"https://wandb.ai/oliverweissl/NeuralStyleSearch/runs/wipdah2n\" target=\"_blank\">helpful-serenity-118</a></strong> to <a href=\"https://wandb.ai/oliverweissl/NeuralStyleSearch\" target=\"_blank\">Weights & Biases</a> (<a href=\"https://wandb.me/run\" target=\"_blank\">docs</a>)<br/>"
      ]
     },
     "metadata": {},
     "output_type": "display_data"
    },
    {
     "name": "stdout",
     "output_type": "stream",
     "text": [
      "[2024-11-06 15:25:04,085 - root - INFO] Generate seed(s) for class: 5.\n",
      "[2024-11-06 15:25:04,092 - root - INFO] \tFound 1 valid seed(s) after: 1 iterations.\n",
      "[2024-11-06 15:25:04,095 - root - INFO] Running Search-Algorithm for 20 generations.\n",
      "[2024-11-06 15:25:06,338 - root - INFO] \tBest candidate has a fitness of: 0.16244938409703313\n",
      "[2024-11-06 15:25:06,341 - root - INFO] \tReset learner!\n"
     ]
    },
    {
     "data": {
      "text/plain": [
       "<IPython.core.display.HTML object>"
      ],
      "text/html": [
       "Finishing last run (ID:wipdah2n) before initializing another..."
      ]
     },
     "metadata": {},
     "output_type": "display_data"
    },
    {
     "data": {
      "text/plain": [
       "<IPython.core.display.HTML object>"
      ],
      "text/html": [
       "Waiting for W&B process to finish... <strong style=\"color:green\">(success).</strong>"
      ]
     },
     "metadata": {},
     "output_type": "display_data"
    },
    {
     "data": {
      "text/plain": [
       "<IPython.core.display.HTML object>"
      ],
      "text/html": [
       "<style>\n",
       "    table.wandb td:nth-child(1) { padding: 0 10px; text-align: left ; width: auto;} td:nth-child(2) {text-align: left ; width: 100%}\n",
       "    .wandb-row { display: flex; flex-direction: row; flex-wrap: wrap; justify-content: flex-start; width: 100% }\n",
       "    .wandb-col { display: flex; flex-direction: column; flex-basis: 100%; flex: 1; padding: 10px; }\n",
       "    </style>\n",
       "<div class=\"wandb-row\"><div class=\"wandb-col\"><h3>Run history:</h3><br/><table class=\"wandb\"><tr><td>max_fitness</td><td>▁▁███▁██████████████</td></tr><tr><td>mean_fitness</td><td>▁▂▃▆█▁▄▆▇▆▇█▂▇▆▆▆▃▆▅</td></tr><tr><td>min_fitness</td><td>▇█▇▇▃▂▁▃▄▄▅▃▂▁▃▃▂▂▁▂</td></tr><tr><td>std_fitness</td><td>▁▁▄▆▇▂▆▆▇▆▇█▄▇▆▆▆▆██</td></tr></table><br/></div><div class=\"wandb-col\"><h3>Run summary:</h3><br/><table class=\"wandb\"><tr><td>best_fitness</td><td>0.16245</td></tr><tr><td>max_fitness</td><td>1.0</td></tr><tr><td>mean_fitness</td><td>0.33287</td></tr><tr><td>min_fitness</td><td>0.17158</td></tr><tr><td>std_fitness</td><td>0.26468</td></tr></table><br/></div></div>"
      ]
     },
     "metadata": {},
     "output_type": "display_data"
    },
    {
     "data": {
      "text/plain": [
       "<IPython.core.display.HTML object>"
      ],
      "text/html": [
       "Synced <strong style=\"color:#cdcd00\">helpful-serenity-118</strong>: <a href=\"https://wandb.ai/oliverweissl/NeuralStyleSearch/runs/wipdah2n\" target=\"_blank\">https://wandb.ai/oliverweissl/NeuralStyleSearch/runs/wipdah2n</a><br/>Synced 6 W&B file(s), 2 media file(s), 0 artifact file(s) and 0 other file(s)"
      ]
     },
     "metadata": {},
     "output_type": "display_data"
    },
    {
     "data": {
      "text/plain": [
       "<IPython.core.display.HTML object>"
      ],
      "text/html": [
       "Find logs at: <code>./wandb/run-20241106_152456-wipdah2n/logs</code>"
      ]
     },
     "metadata": {},
     "output_type": "display_data"
    },
    {
     "data": {
      "text/plain": [
       "<IPython.core.display.HTML object>"
      ],
      "text/html": [
       "Successfully finished last run (ID:wipdah2n). Initializing new run:<br/>"
      ]
     },
     "metadata": {},
     "output_type": "display_data"
    },
    {
     "data": {
      "text/plain": [
       "<IPython.core.display.HTML object>"
      ],
      "text/html": [
       "wandb version 0.18.5 is available!  To upgrade, please run:\n",
       " $ pip install wandb --upgrade"
      ]
     },
     "metadata": {},
     "output_type": "display_data"
    },
    {
     "data": {
      "text/plain": [
       "<IPython.core.display.HTML object>"
      ],
      "text/html": [
       "Tracking run with wandb version 0.13.5"
      ]
     },
     "metadata": {},
     "output_type": "display_data"
    },
    {
     "data": {
      "text/plain": [
       "<IPython.core.display.HTML object>"
      ],
      "text/html": [
       "Run data is saved locally in <code>/home/oliver/PycharmProjects/NeuralStyle/wandb/run-20241106_152506-swq9k7ei</code>"
      ]
     },
     "metadata": {},
     "output_type": "display_data"
    },
    {
     "data": {
      "text/plain": [
       "<IPython.core.display.HTML object>"
      ],
      "text/html": [
       "Syncing run <strong><a href=\"https://wandb.ai/oliverweissl/NeuralStyleSearch/runs/swq9k7ei\" target=\"_blank\">visionary-planet-119</a></strong> to <a href=\"https://wandb.ai/oliverweissl/NeuralStyleSearch\" target=\"_blank\">Weights & Biases</a> (<a href=\"https://wandb.me/run\" target=\"_blank\">docs</a>)<br/>"
      ]
     },
     "metadata": {},
     "output_type": "display_data"
    },
    {
     "name": "stdout",
     "output_type": "stream",
     "text": [
      "[2024-11-06 15:25:14,138 - root - INFO] Generate seed(s) for class: 5.\n",
      "[2024-11-06 15:25:14,148 - root - INFO] \tFound 1 valid seed(s) after: 1 iterations.\n",
      "[2024-11-06 15:25:14,150 - root - INFO] Running Search-Algorithm for 20 generations.\n"
     ]
    },
    {
     "name": "stderr",
     "output_type": "stream",
     "text": [
      "/home/oliver/PycharmProjects/NeuralStyle/src/objective_functions/_ssim.py:40: RuntimeWarning: invalid value encountered in sqrt\n",
      "  d = np.sqrt(2-s1-s2)\n"
     ]
    },
    {
     "name": "stdout",
     "output_type": "stream",
     "text": [
      "[2024-11-06 15:25:16,616 - root - INFO] \tBest candidate has a fitness of: 0.19409575498478948\n",
      "[2024-11-06 15:25:16,619 - root - INFO] \tReset learner!\n"
     ]
    },
    {
     "data": {
      "text/plain": [
       "<IPython.core.display.HTML object>"
      ],
      "text/html": [
       "Finishing last run (ID:swq9k7ei) before initializing another..."
      ]
     },
     "metadata": {},
     "output_type": "display_data"
    },
    {
     "data": {
      "text/plain": [
       "<IPython.core.display.HTML object>"
      ],
      "text/html": [
       "Waiting for W&B process to finish... <strong style=\"color:green\">(success).</strong>"
      ]
     },
     "metadata": {},
     "output_type": "display_data"
    },
    {
     "data": {
      "text/plain": [
       "<IPython.core.display.HTML object>"
      ],
      "text/html": [
       "<style>\n",
       "    table.wandb td:nth-child(1) { padding: 0 10px; text-align: left ; width: auto;} td:nth-child(2) {text-align: left ; width: 100%}\n",
       "    .wandb-row { display: flex; flex-direction: row; flex-wrap: wrap; justify-content: flex-start; width: 100% }\n",
       "    .wandb-col { display: flex; flex-direction: column; flex-basis: 100%; flex: 1; padding: 10px; }\n",
       "    </style>\n",
       "<div class=\"wandb-row\"><div class=\"wandb-col\"><h3>Run history:</h3><br/><table class=\"wandb\"><tr><td>max_fitness</td><td>▁███▁█▁▁██▁▁███▁█▁▁█</td></tr><tr><td>mean_fitness</td><td>▁██▆▂▆▂▂▅▅▂▃▅▆▄▂▄▂▂▆</td></tr><tr><td>min_fitness</td><td>█▄▆██▄▄▄▆▇▄▆▁▃▄▅▃▃▂▂</td></tr><tr><td>std_fitness</td><td>▁██▇▁▇▁▁▅▅▁▁▅▇▅▁▅▁▁▇</td></tr></table><br/></div><div class=\"wandb-col\"><h3>Run summary:</h3><br/><table class=\"wandb\"><tr><td>best_fitness</td><td>0.1941</td></tr><tr><td>max_fitness</td><td>1.0</td></tr><tr><td>mean_fitness</td><td>0.27651</td></tr><tr><td>min_fitness</td><td>0.19497</td></tr><tr><td>std_fitness</td><td>0.19427</td></tr></table><br/></div></div>"
      ]
     },
     "metadata": {},
     "output_type": "display_data"
    },
    {
     "data": {
      "text/plain": [
       "<IPython.core.display.HTML object>"
      ],
      "text/html": [
       "Synced <strong style=\"color:#cdcd00\">visionary-planet-119</strong>: <a href=\"https://wandb.ai/oliverweissl/NeuralStyleSearch/runs/swq9k7ei\" target=\"_blank\">https://wandb.ai/oliverweissl/NeuralStyleSearch/runs/swq9k7ei</a><br/>Synced 6 W&B file(s), 2 media file(s), 0 artifact file(s) and 0 other file(s)"
      ]
     },
     "metadata": {},
     "output_type": "display_data"
    },
    {
     "data": {
      "text/plain": [
       "<IPython.core.display.HTML object>"
      ],
      "text/html": [
       "Find logs at: <code>./wandb/run-20241106_152506-swq9k7ei/logs</code>"
      ]
     },
     "metadata": {},
     "output_type": "display_data"
    },
    {
     "data": {
      "text/plain": [
       "<IPython.core.display.HTML object>"
      ],
      "text/html": [
       "Successfully finished last run (ID:swq9k7ei). Initializing new run:<br/>"
      ]
     },
     "metadata": {},
     "output_type": "display_data"
    },
    {
     "data": {
      "text/plain": [
       "<IPython.core.display.HTML object>"
      ],
      "text/html": [
       "wandb version 0.18.5 is available!  To upgrade, please run:\n",
       " $ pip install wandb --upgrade"
      ]
     },
     "metadata": {},
     "output_type": "display_data"
    },
    {
     "data": {
      "text/plain": [
       "<IPython.core.display.HTML object>"
      ],
      "text/html": [
       "Tracking run with wandb version 0.13.5"
      ]
     },
     "metadata": {},
     "output_type": "display_data"
    },
    {
     "data": {
      "text/plain": [
       "<IPython.core.display.HTML object>"
      ],
      "text/html": [
       "Run data is saved locally in <code>/home/oliver/PycharmProjects/NeuralStyle/wandb/run-20241106_152516-3lzftpy1</code>"
      ]
     },
     "metadata": {},
     "output_type": "display_data"
    },
    {
     "data": {
      "text/plain": [
       "<IPython.core.display.HTML object>"
      ],
      "text/html": [
       "Syncing run <strong><a href=\"https://wandb.ai/oliverweissl/NeuralStyleSearch/runs/3lzftpy1\" target=\"_blank\">woven-water-120</a></strong> to <a href=\"https://wandb.ai/oliverweissl/NeuralStyleSearch\" target=\"_blank\">Weights & Biases</a> (<a href=\"https://wandb.me/run\" target=\"_blank\">docs</a>)<br/>"
      ]
     },
     "metadata": {},
     "output_type": "display_data"
    },
    {
     "name": "stdout",
     "output_type": "stream",
     "text": [
      "[2024-11-06 15:25:24,808 - root - INFO] Generate seed(s) for class: 5.\n",
      "[2024-11-06 15:25:24,816 - root - INFO] \tFound 1 valid seed(s) after: 1 iterations.\n",
      "[2024-11-06 15:25:24,818 - root - INFO] Running Search-Algorithm for 20 generations.\n"
     ]
    },
    {
     "name": "stderr",
     "output_type": "stream",
     "text": [
      "/home/oliver/PycharmProjects/NeuralStyle/src/objective_functions/_ssim.py:40: RuntimeWarning: invalid value encountered in sqrt\n",
      "  d = np.sqrt(2-s1-s2)\n"
     ]
    },
    {
     "name": "stdout",
     "output_type": "stream",
     "text": [
      "[2024-11-06 15:25:27,170 - root - INFO] \tBest candidate has a fitness of: 0.2543940786160761\n",
      "[2024-11-06 15:25:27,173 - root - INFO] \tReset learner!\n"
     ]
    },
    {
     "data": {
      "text/plain": [
       "<IPython.core.display.HTML object>"
      ],
      "text/html": [
       "Finishing last run (ID:3lzftpy1) before initializing another..."
      ]
     },
     "metadata": {},
     "output_type": "display_data"
    },
    {
     "data": {
      "text/plain": [
       "<IPython.core.display.HTML object>"
      ],
      "text/html": [
       "Waiting for W&B process to finish... <strong style=\"color:green\">(success).</strong>"
      ]
     },
     "metadata": {},
     "output_type": "display_data"
    },
    {
     "data": {
      "text/plain": [
       "<IPython.core.display.HTML object>"
      ],
      "text/html": [
       "<style>\n",
       "    table.wandb td:nth-child(1) { padding: 0 10px; text-align: left ; width: auto;} td:nth-child(2) {text-align: left ; width: 100%}\n",
       "    .wandb-row { display: flex; flex-direction: row; flex-wrap: wrap; justify-content: flex-start; width: 100% }\n",
       "    .wandb-col { display: flex; flex-direction: column; flex-basis: 100%; flex: 1; padding: 10px; }\n",
       "    </style>\n",
       "<div class=\"wandb-row\"><div class=\"wandb-col\"><h3>Run history:</h3><br/><table class=\"wandb\"><tr><td>max_fitness</td><td>▁▁▂▂▁▂▂▂█████▂█▂ ▁▂▂</td></tr><tr><td>mean_fitness</td><td>▂▂▁▁▂▁▂▃▆█▄▅▆▄▆▄ ▅▅▅</td></tr><tr><td>min_fitness</td><td>▅▄▃▃▃▃▁▄▃▃▃▃▅▅▆▅ ▇▅█</td></tr><tr><td>std_fitness</td><td>▁▂▂▂▂▂▂▂▆█▅▅▆▂▄▁ ▁▁▁</td></tr></table><br/></div><div class=\"wandb-col\"><h3>Run summary:</h3><br/><table class=\"wandb\"><tr><td>best_fitness</td><td>0.25439</td></tr><tr><td>max_fitness</td><td>0.50709</td></tr><tr><td>mean_fitness</td><td>0.45087</td></tr><tr><td>min_fitness</td><td>0.40164</td></tr><tr><td>std_fitness</td><td>0.02986</td></tr></table><br/></div></div>"
      ]
     },
     "metadata": {},
     "output_type": "display_data"
    },
    {
     "data": {
      "text/plain": [
       "<IPython.core.display.HTML object>"
      ],
      "text/html": [
       "Synced <strong style=\"color:#cdcd00\">woven-water-120</strong>: <a href=\"https://wandb.ai/oliverweissl/NeuralStyleSearch/runs/3lzftpy1\" target=\"_blank\">https://wandb.ai/oliverweissl/NeuralStyleSearch/runs/3lzftpy1</a><br/>Synced 6 W&B file(s), 2 media file(s), 0 artifact file(s) and 0 other file(s)"
      ]
     },
     "metadata": {},
     "output_type": "display_data"
    },
    {
     "data": {
      "text/plain": [
       "<IPython.core.display.HTML object>"
      ],
      "text/html": [
       "Find logs at: <code>./wandb/run-20241106_152516-3lzftpy1/logs</code>"
      ]
     },
     "metadata": {},
     "output_type": "display_data"
    },
    {
     "data": {
      "text/plain": [
       "<IPython.core.display.HTML object>"
      ],
      "text/html": [
       "Successfully finished last run (ID:3lzftpy1). Initializing new run:<br/>"
      ]
     },
     "metadata": {},
     "output_type": "display_data"
    },
    {
     "data": {
      "text/plain": [
       "<IPython.core.display.HTML object>"
      ],
      "text/html": [
       "wandb version 0.18.5 is available!  To upgrade, please run:\n",
       " $ pip install wandb --upgrade"
      ]
     },
     "metadata": {},
     "output_type": "display_data"
    },
    {
     "data": {
      "text/plain": [
       "<IPython.core.display.HTML object>"
      ],
      "text/html": [
       "Tracking run with wandb version 0.13.5"
      ]
     },
     "metadata": {},
     "output_type": "display_data"
    },
    {
     "data": {
      "text/plain": [
       "<IPython.core.display.HTML object>"
      ],
      "text/html": [
       "Run data is saved locally in <code>/home/oliver/PycharmProjects/NeuralStyle/wandb/run-20241106_152527-zckdn40u</code>"
      ]
     },
     "metadata": {},
     "output_type": "display_data"
    },
    {
     "data": {
      "text/plain": [
       "<IPython.core.display.HTML object>"
      ],
      "text/html": [
       "Syncing run <strong><a href=\"https://wandb.ai/oliverweissl/NeuralStyleSearch/runs/zckdn40u\" target=\"_blank\">zesty-glade-121</a></strong> to <a href=\"https://wandb.ai/oliverweissl/NeuralStyleSearch\" target=\"_blank\">Weights & Biases</a> (<a href=\"https://wandb.me/run\" target=\"_blank\">docs</a>)<br/>"
      ]
     },
     "metadata": {},
     "output_type": "display_data"
    },
    {
     "name": "stdout",
     "output_type": "stream",
     "text": [
      "[2024-11-06 15:25:36,123 - root - INFO] Generate seed(s) for class: 5.\n",
      "[2024-11-06 15:25:36,524 - root - INFO] \tFound 1 valid seed(s) after: 53 iterations.\n",
      "[2024-11-06 15:25:36,527 - root - INFO] Running Search-Algorithm for 20 generations.\n",
      "[2024-11-06 15:25:38,793 - root - INFO] \tBest candidate has a fitness of: 0.18420066869633733\n",
      "[2024-11-06 15:25:38,796 - root - INFO] \tReset learner!\n"
     ]
    },
    {
     "data": {
      "text/plain": [
       "<IPython.core.display.HTML object>"
      ],
      "text/html": [
       "Finishing last run (ID:zckdn40u) before initializing another..."
      ]
     },
     "metadata": {},
     "output_type": "display_data"
    },
    {
     "data": {
      "text/plain": [
       "<IPython.core.display.HTML object>"
      ],
      "text/html": [
       "Waiting for W&B process to finish... <strong style=\"color:green\">(success).</strong>"
      ]
     },
     "metadata": {},
     "output_type": "display_data"
    },
    {
     "data": {
      "text/plain": [
       "<IPython.core.display.HTML object>"
      ],
      "text/html": [
       "<style>\n",
       "    table.wandb td:nth-child(1) { padding: 0 10px; text-align: left ; width: auto;} td:nth-child(2) {text-align: left ; width: 100%}\n",
       "    .wandb-row { display: flex; flex-direction: row; flex-wrap: wrap; justify-content: flex-start; width: 100% }\n",
       "    .wandb-col { display: flex; flex-direction: column; flex-basis: 100%; flex: 1; padding: 10px; }\n",
       "    </style>\n",
       "<div class=\"wandb-row\"><div class=\"wandb-col\"><h3>Run history:</h3><br/><table class=\"wandb\"><tr><td>max_fitness</td><td>██████████▁█████████</td></tr><tr><td>mean_fitness</td><td>▆█▃▅▄▄▃▃▃▂▁▃▃▄▃▂▃▂▃▄</td></tr><tr><td>min_fitness</td><td>▅▃▄▄▃▂▃▃▅▅▁▃█▅▇▂▂▁▃▆</td></tr><tr><td>std_fitness</td><td>▇█▅▆▅▅▄▄▄▃▁▃▄▅▃▃▄▃▄▅</td></tr></table><br/></div><div class=\"wandb-col\"><h3>Run summary:</h3><br/><table class=\"wandb\"><tr><td>best_fitness</td><td>0.1842</td></tr><tr><td>max_fitness</td><td>1.0</td></tr><tr><td>mean_fitness</td><td>0.38412</td></tr><tr><td>min_fitness</td><td>0.24809</td></tr><tr><td>std_fitness</td><td>0.20881</td></tr></table><br/></div></div>"
      ]
     },
     "metadata": {},
     "output_type": "display_data"
    },
    {
     "data": {
      "text/plain": [
       "<IPython.core.display.HTML object>"
      ],
      "text/html": [
       "Synced <strong style=\"color:#cdcd00\">zesty-glade-121</strong>: <a href=\"https://wandb.ai/oliverweissl/NeuralStyleSearch/runs/zckdn40u\" target=\"_blank\">https://wandb.ai/oliverweissl/NeuralStyleSearch/runs/zckdn40u</a><br/>Synced 6 W&B file(s), 2 media file(s), 0 artifact file(s) and 0 other file(s)"
      ]
     },
     "metadata": {},
     "output_type": "display_data"
    },
    {
     "data": {
      "text/plain": [
       "<IPython.core.display.HTML object>"
      ],
      "text/html": [
       "Find logs at: <code>./wandb/run-20241106_152527-zckdn40u/logs</code>"
      ]
     },
     "metadata": {},
     "output_type": "display_data"
    },
    {
     "data": {
      "text/plain": [
       "<IPython.core.display.HTML object>"
      ],
      "text/html": [
       "Successfully finished last run (ID:zckdn40u). Initializing new run:<br/>"
      ]
     },
     "metadata": {},
     "output_type": "display_data"
    },
    {
     "data": {
      "text/plain": [
       "<IPython.core.display.HTML object>"
      ],
      "text/html": [
       "wandb version 0.18.5 is available!  To upgrade, please run:\n",
       " $ pip install wandb --upgrade"
      ]
     },
     "metadata": {},
     "output_type": "display_data"
    },
    {
     "data": {
      "text/plain": [
       "<IPython.core.display.HTML object>"
      ],
      "text/html": [
       "Tracking run with wandb version 0.13.5"
      ]
     },
     "metadata": {},
     "output_type": "display_data"
    },
    {
     "data": {
      "text/plain": [
       "<IPython.core.display.HTML object>"
      ],
      "text/html": [
       "Run data is saved locally in <code>/home/oliver/PycharmProjects/NeuralStyle/wandb/run-20241106_152538-3v2503c6</code>"
      ]
     },
     "metadata": {},
     "output_type": "display_data"
    },
    {
     "data": {
      "text/plain": [
       "<IPython.core.display.HTML object>"
      ],
      "text/html": [
       "Syncing run <strong><a href=\"https://wandb.ai/oliverweissl/NeuralStyleSearch/runs/3v2503c6\" target=\"_blank\">easy-cosmos-122</a></strong> to <a href=\"https://wandb.ai/oliverweissl/NeuralStyleSearch\" target=\"_blank\">Weights & Biases</a> (<a href=\"https://wandb.me/run\" target=\"_blank\">docs</a>)<br/>"
      ]
     },
     "metadata": {},
     "output_type": "display_data"
    },
    {
     "name": "stdout",
     "output_type": "stream",
     "text": [
      "[2024-11-06 15:25:46,302 - root - INFO] Generate seed(s) for class: 5.\n",
      "[2024-11-06 15:25:46,310 - root - INFO] \tFound 1 valid seed(s) after: 1 iterations.\n",
      "[2024-11-06 15:25:46,312 - root - INFO] Running Search-Algorithm for 20 generations.\n",
      "[2024-11-06 15:25:48,745 - root - INFO] \tBest candidate has a fitness of: 0.2504045013226801\n",
      "[2024-11-06 15:25:48,748 - root - INFO] \tReset learner!\n"
     ]
    },
    {
     "name": "stderr",
     "output_type": "stream",
     "text": [
      "/home/oliver/PycharmProjects/NeuralStyle/src/objective_functions/_ssim.py:40: RuntimeWarning: invalid value encountered in sqrt\n",
      "  d = np.sqrt(2-s1-s2)\n"
     ]
    },
    {
     "data": {
      "text/plain": [
       "<IPython.core.display.HTML object>"
      ],
      "text/html": [
       "Finishing last run (ID:3v2503c6) before initializing another..."
      ]
     },
     "metadata": {},
     "output_type": "display_data"
    },
    {
     "data": {
      "text/plain": [
       "<IPython.core.display.HTML object>"
      ],
      "text/html": [
       "Waiting for W&B process to finish... <strong style=\"color:green\">(success).</strong>"
      ]
     },
     "metadata": {},
     "output_type": "display_data"
    },
    {
     "data": {
      "text/plain": [
       "<IPython.core.display.HTML object>"
      ],
      "text/html": [
       "<style>\n",
       "    table.wandb td:nth-child(1) { padding: 0 10px; text-align: left ; width: auto;} td:nth-child(2) {text-align: left ; width: 100%}\n",
       "    .wandb-row { display: flex; flex-direction: row; flex-wrap: wrap; justify-content: flex-start; width: 100% }\n",
       "    .wandb-col { display: flex; flex-direction: column; flex-basis: 100%; flex: 1; padding: 10px; }\n",
       "    </style>\n",
       "<div class=\"wandb-row\"><div class=\"wandb-col\"><h3>Run history:</h3><br/><table class=\"wandb\"><tr><td>max_fitness</td><td>▁▄▅▄▇▂▆▂▇▄▅▆▄▆▆▅█▆▂▅</td></tr><tr><td>mean_fitness</td><td>▃▅▄▅▅▃▅▅▅▅▆█▇▆▄▄▄▁▁▂</td></tr><tr><td>min_fitness</td><td>██▆▇▃▄▄▅▅▆▄▆▆▇▆▅▃▂▁▃</td></tr><tr><td>std_fitness</td><td>▁▃▄▄▇▆▇▄▇▄▆▆▅▅▅▅██▇▇</td></tr></table><br/></div><div class=\"wandb-col\"><h3>Run summary:</h3><br/><table class=\"wandb\"><tr><td>best_fitness</td><td>0.2504</td></tr><tr><td>max_fitness</td><td>0.3578</td></tr><tr><td>mean_fitness</td><td>0.30958</td></tr><tr><td>min_fitness</td><td>0.26182</td></tr><tr><td>std_fitness</td><td>0.02204</td></tr></table><br/></div></div>"
      ]
     },
     "metadata": {},
     "output_type": "display_data"
    },
    {
     "data": {
      "text/plain": [
       "<IPython.core.display.HTML object>"
      ],
      "text/html": [
       "Synced <strong style=\"color:#cdcd00\">easy-cosmos-122</strong>: <a href=\"https://wandb.ai/oliverweissl/NeuralStyleSearch/runs/3v2503c6\" target=\"_blank\">https://wandb.ai/oliverweissl/NeuralStyleSearch/runs/3v2503c6</a><br/>Synced 6 W&B file(s), 2 media file(s), 0 artifact file(s) and 0 other file(s)"
      ]
     },
     "metadata": {},
     "output_type": "display_data"
    },
    {
     "data": {
      "text/plain": [
       "<IPython.core.display.HTML object>"
      ],
      "text/html": [
       "Find logs at: <code>./wandb/run-20241106_152538-3v2503c6/logs</code>"
      ]
     },
     "metadata": {},
     "output_type": "display_data"
    },
    {
     "data": {
      "text/plain": [
       "<IPython.core.display.HTML object>"
      ],
      "text/html": [
       "Successfully finished last run (ID:3v2503c6). Initializing new run:<br/>"
      ]
     },
     "metadata": {},
     "output_type": "display_data"
    },
    {
     "data": {
      "text/plain": [
       "<IPython.core.display.HTML object>"
      ],
      "text/html": [
       "wandb version 0.18.5 is available!  To upgrade, please run:\n",
       " $ pip install wandb --upgrade"
      ]
     },
     "metadata": {},
     "output_type": "display_data"
    },
    {
     "data": {
      "text/plain": [
       "<IPython.core.display.HTML object>"
      ],
      "text/html": [
       "Tracking run with wandb version 0.13.5"
      ]
     },
     "metadata": {},
     "output_type": "display_data"
    },
    {
     "data": {
      "text/plain": [
       "<IPython.core.display.HTML object>"
      ],
      "text/html": [
       "Run data is saved locally in <code>/home/oliver/PycharmProjects/NeuralStyle/wandb/run-20241106_152548-cmatdncq</code>"
      ]
     },
     "metadata": {},
     "output_type": "display_data"
    },
    {
     "data": {
      "text/plain": [
       "<IPython.core.display.HTML object>"
      ],
      "text/html": [
       "Syncing run <strong><a href=\"https://wandb.ai/oliverweissl/NeuralStyleSearch/runs/cmatdncq\" target=\"_blank\">apricot-water-123</a></strong> to <a href=\"https://wandb.ai/oliverweissl/NeuralStyleSearch\" target=\"_blank\">Weights & Biases</a> (<a href=\"https://wandb.me/run\" target=\"_blank\">docs</a>)<br/>"
      ]
     },
     "metadata": {},
     "output_type": "display_data"
    },
    {
     "name": "stdout",
     "output_type": "stream",
     "text": [
      "[2024-11-06 15:25:56,527 - root - INFO] Generate seed(s) for class: 5.\n",
      "[2024-11-06 15:25:56,536 - root - INFO] \tFound 1 valid seed(s) after: 1 iterations.\n",
      "[2024-11-06 15:25:56,539 - root - INFO] Running Search-Algorithm for 20 generations.\n",
      "[2024-11-06 15:25:58,984 - root - INFO] \tBest candidate has a fitness of: 0.28753092325108587\n",
      "[2024-11-06 15:25:58,987 - root - INFO] \tReset learner!\n"
     ]
    },
    {
     "data": {
      "text/plain": [
       "<IPython.core.display.HTML object>"
      ],
      "text/html": [
       "Finishing last run (ID:cmatdncq) before initializing another..."
      ]
     },
     "metadata": {},
     "output_type": "display_data"
    },
    {
     "data": {
      "text/plain": [
       "<IPython.core.display.HTML object>"
      ],
      "text/html": [
       "Waiting for W&B process to finish... <strong style=\"color:green\">(success).</strong>"
      ]
     },
     "metadata": {},
     "output_type": "display_data"
    },
    {
     "data": {
      "text/plain": [
       "<IPython.core.display.HTML object>"
      ],
      "text/html": [
       "<style>\n",
       "    table.wandb td:nth-child(1) { padding: 0 10px; text-align: left ; width: auto;} td:nth-child(2) {text-align: left ; width: 100%}\n",
       "    .wandb-row { display: flex; flex-direction: row; flex-wrap: wrap; justify-content: flex-start; width: 100% }\n",
       "    .wandb-col { display: flex; flex-direction: column; flex-basis: 100%; flex: 1; padding: 10px; }\n",
       "    </style>\n",
       "<div class=\"wandb-row\"><div class=\"wandb-col\"><h3>Run history:</h3><br/><table class=\"wandb\"><tr><td>max_fitness</td><td>▁▁██▁▁▂██▁█▁▁▁▁▁▂▂▂▂</td></tr><tr><td>mean_fitness</td><td>▁▂▄▇▂▃▂▅▅▂█▄▃▃▃▄▅▅▅▇</td></tr><tr><td>min_fitness</td><td>▄▅▃▇▅▆▅▇▄▆▅▁▄▅▃▄▆█▇█</td></tr><tr><td>std_fitness</td><td>▁▁▆█▁▁▁▆▆▂█▂▂▁▂▁▂▁▂▂</td></tr></table><br/></div><div class=\"wandb-col\"><h3>Run summary:</h3><br/><table class=\"wandb\"><tr><td>best_fitness</td><td>0.28753</td></tr><tr><td>max_fitness</td><td>0.46938</td></tr><tr><td>mean_fitness</td><td>0.41084</td></tr><tr><td>min_fitness</td><td>0.34037</td></tr><tr><td>std_fitness</td><td>0.03454</td></tr></table><br/></div></div>"
      ]
     },
     "metadata": {},
     "output_type": "display_data"
    },
    {
     "data": {
      "text/plain": [
       "<IPython.core.display.HTML object>"
      ],
      "text/html": [
       "Synced <strong style=\"color:#cdcd00\">apricot-water-123</strong>: <a href=\"https://wandb.ai/oliverweissl/NeuralStyleSearch/runs/cmatdncq\" target=\"_blank\">https://wandb.ai/oliverweissl/NeuralStyleSearch/runs/cmatdncq</a><br/>Synced 6 W&B file(s), 2 media file(s), 0 artifact file(s) and 0 other file(s)"
      ]
     },
     "metadata": {},
     "output_type": "display_data"
    },
    {
     "data": {
      "text/plain": [
       "<IPython.core.display.HTML object>"
      ],
      "text/html": [
       "Find logs at: <code>./wandb/run-20241106_152548-cmatdncq/logs</code>"
      ]
     },
     "metadata": {},
     "output_type": "display_data"
    },
    {
     "data": {
      "text/plain": [
       "<IPython.core.display.HTML object>"
      ],
      "text/html": [
       "Successfully finished last run (ID:cmatdncq). Initializing new run:<br/>"
      ]
     },
     "metadata": {},
     "output_type": "display_data"
    },
    {
     "data": {
      "text/plain": [
       "<IPython.core.display.HTML object>"
      ],
      "text/html": [
       "wandb version 0.18.5 is available!  To upgrade, please run:\n",
       " $ pip install wandb --upgrade"
      ]
     },
     "metadata": {},
     "output_type": "display_data"
    },
    {
     "data": {
      "text/plain": [
       "<IPython.core.display.HTML object>"
      ],
      "text/html": [
       "Tracking run with wandb version 0.13.5"
      ]
     },
     "metadata": {},
     "output_type": "display_data"
    },
    {
     "data": {
      "text/plain": [
       "<IPython.core.display.HTML object>"
      ],
      "text/html": [
       "Run data is saved locally in <code>/home/oliver/PycharmProjects/NeuralStyle/wandb/run-20241106_152558-iiwx74x6</code>"
      ]
     },
     "metadata": {},
     "output_type": "display_data"
    },
    {
     "data": {
      "text/plain": [
       "<IPython.core.display.HTML object>"
      ],
      "text/html": [
       "Syncing run <strong><a href=\"https://wandb.ai/oliverweissl/NeuralStyleSearch/runs/iiwx74x6\" target=\"_blank\">glamorous-snowball-124</a></strong> to <a href=\"https://wandb.ai/oliverweissl/NeuralStyleSearch\" target=\"_blank\">Weights & Biases</a> (<a href=\"https://wandb.me/run\" target=\"_blank\">docs</a>)<br/>"
      ]
     },
     "metadata": {},
     "output_type": "display_data"
    },
    {
     "name": "stdout",
     "output_type": "stream",
     "text": [
      "[2024-11-06 15:26:06,324 - root - INFO] Generate seed(s) for class: 6.\n",
      "[2024-11-06 15:26:07,506 - root - INFO] \tFound 1 valid seed(s) after: 205 iterations.\n",
      "[2024-11-06 15:26:07,509 - root - INFO] Running Search-Algorithm for 20 generations.\n"
     ]
    },
    {
     "name": "stderr",
     "output_type": "stream",
     "text": [
      "/home/oliver/PycharmProjects/NeuralStyle/src/objective_functions/_ssim.py:40: RuntimeWarning: invalid value encountered in sqrt\n",
      "  d = np.sqrt(2-s1-s2)\n"
     ]
    },
    {
     "name": "stdout",
     "output_type": "stream",
     "text": [
      "[2024-11-06 15:26:09,731 - root - INFO] \tBest candidate has a fitness of: 0.16573658025639593\n",
      "[2024-11-06 15:26:09,733 - root - INFO] \tReset learner!\n"
     ]
    },
    {
     "data": {
      "text/plain": [
       "<IPython.core.display.HTML object>"
      ],
      "text/html": [
       "Finishing last run (ID:iiwx74x6) before initializing another..."
      ]
     },
     "metadata": {},
     "output_type": "display_data"
    },
    {
     "data": {
      "text/plain": [
       "<IPython.core.display.HTML object>"
      ],
      "text/html": [
       "Waiting for W&B process to finish... <strong style=\"color:green\">(success).</strong>"
      ]
     },
     "metadata": {},
     "output_type": "display_data"
    },
    {
     "data": {
      "text/plain": [
       "<IPython.core.display.HTML object>"
      ],
      "text/html": [
       "<style>\n",
       "    table.wandb td:nth-child(1) { padding: 0 10px; text-align: left ; width: auto;} td:nth-child(2) {text-align: left ; width: 100%}\n",
       "    .wandb-row { display: flex; flex-direction: row; flex-wrap: wrap; justify-content: flex-start; width: 100% }\n",
       "    .wandb-col { display: flex; flex-direction: column; flex-basis: 100%; flex: 1; padding: 10px; }\n",
       "    </style>\n",
       "<div class=\"wandb-row\"><div class=\"wandb-col\"><h3>Run history:</h3><br/><table class=\"wandb\"><tr><td>max_fitness</td><td>▄▁▂▂█▆▂▅▆▆█▄▆▇▆▆▇█▆▆</td></tr><tr><td>mean_fitness</td><td>▃▂▁▃▅▅▄▆▅▅▅▆▅▅▆▇█▆▇▇</td></tr><tr><td>min_fitness</td><td>█▇▆▆▆▅▆▂▁█▅█▆▅▄▅▄█▇▆</td></tr><tr><td>std_fitness</td><td>▂▂▂▁▆▅▃▄█▇▆▃▅▇▅▅▆▄▅▄</td></tr></table><br/></div><div class=\"wandb-col\"><h3>Run summary:</h3><br/><table class=\"wandb\"><tr><td>best_fitness</td><td>0.16574</td></tr><tr><td>max_fitness</td><td>0.34396</td></tr><tr><td>mean_fitness</td><td>0.28333</td></tr><tr><td>min_fitness</td><td>0.19814</td></tr><tr><td>std_fitness</td><td>0.03778</td></tr></table><br/></div></div>"
      ]
     },
     "metadata": {},
     "output_type": "display_data"
    },
    {
     "data": {
      "text/plain": [
       "<IPython.core.display.HTML object>"
      ],
      "text/html": [
       "Synced <strong style=\"color:#cdcd00\">glamorous-snowball-124</strong>: <a href=\"https://wandb.ai/oliverweissl/NeuralStyleSearch/runs/iiwx74x6\" target=\"_blank\">https://wandb.ai/oliverweissl/NeuralStyleSearch/runs/iiwx74x6</a><br/>Synced 6 W&B file(s), 2 media file(s), 0 artifact file(s) and 0 other file(s)"
      ]
     },
     "metadata": {},
     "output_type": "display_data"
    },
    {
     "data": {
      "text/plain": [
       "<IPython.core.display.HTML object>"
      ],
      "text/html": [
       "Find logs at: <code>./wandb/run-20241106_152558-iiwx74x6/logs</code>"
      ]
     },
     "metadata": {},
     "output_type": "display_data"
    },
    {
     "data": {
      "text/plain": [
       "<IPython.core.display.HTML object>"
      ],
      "text/html": [
       "Successfully finished last run (ID:iiwx74x6). Initializing new run:<br/>"
      ]
     },
     "metadata": {},
     "output_type": "display_data"
    },
    {
     "data": {
      "text/plain": [
       "<IPython.core.display.HTML object>"
      ],
      "text/html": [
       "wandb version 0.18.5 is available!  To upgrade, please run:\n",
       " $ pip install wandb --upgrade"
      ]
     },
     "metadata": {},
     "output_type": "display_data"
    },
    {
     "data": {
      "text/plain": [
       "<IPython.core.display.HTML object>"
      ],
      "text/html": [
       "Tracking run with wandb version 0.13.5"
      ]
     },
     "metadata": {},
     "output_type": "display_data"
    },
    {
     "data": {
      "text/plain": [
       "<IPython.core.display.HTML object>"
      ],
      "text/html": [
       "Run data is saved locally in <code>/home/oliver/PycharmProjects/NeuralStyle/wandb/run-20241106_152609-z69nmzbo</code>"
      ]
     },
     "metadata": {},
     "output_type": "display_data"
    },
    {
     "data": {
      "text/plain": [
       "<IPython.core.display.HTML object>"
      ],
      "text/html": [
       "Syncing run <strong><a href=\"https://wandb.ai/oliverweissl/NeuralStyleSearch/runs/z69nmzbo\" target=\"_blank\">bright-violet-125</a></strong> to <a href=\"https://wandb.ai/oliverweissl/NeuralStyleSearch\" target=\"_blank\">Weights & Biases</a> (<a href=\"https://wandb.me/run\" target=\"_blank\">docs</a>)<br/>"
      ]
     },
     "metadata": {},
     "output_type": "display_data"
    },
    {
     "name": "stdout",
     "output_type": "stream",
     "text": [
      "[2024-11-06 15:26:16,077 - root - INFO] Generate seed(s) for class: 6.\n",
      "[2024-11-06 15:26:16,084 - root - INFO] \tFound 1 valid seed(s) after: 1 iterations.\n",
      "[2024-11-06 15:26:16,087 - root - INFO] Running Search-Algorithm for 20 generations.\n",
      "[2024-11-06 15:26:18,591 - root - INFO] \tBest candidate has a fitness of: 0.2823658231534296\n",
      "[2024-11-06 15:26:18,594 - root - INFO] \tReset learner!\n"
     ]
    },
    {
     "data": {
      "text/plain": [
       "<IPython.core.display.HTML object>"
      ],
      "text/html": [
       "Finishing last run (ID:z69nmzbo) before initializing another..."
      ]
     },
     "metadata": {},
     "output_type": "display_data"
    },
    {
     "data": {
      "text/plain": [
       "<IPython.core.display.HTML object>"
      ],
      "text/html": [
       "Waiting for W&B process to finish... <strong style=\"color:green\">(success).</strong>"
      ]
     },
     "metadata": {},
     "output_type": "display_data"
    },
    {
     "data": {
      "text/plain": [
       "<IPython.core.display.HTML object>"
      ],
      "text/html": [
       "<style>\n",
       "    table.wandb td:nth-child(1) { padding: 0 10px; text-align: left ; width: auto;} td:nth-child(2) {text-align: left ; width: 100%}\n",
       "    .wandb-row { display: flex; flex-direction: row; flex-wrap: wrap; justify-content: flex-start; width: 100% }\n",
       "    .wandb-col { display: flex; flex-direction: column; flex-basis: 100%; flex: 1; padding: 10px; }\n",
       "    </style>\n",
       "<div class=\"wandb-row\"><div class=\"wandb-col\"><h3>Run history:</h3><br/><table class=\"wandb\"><tr><td>max_fitness</td><td>▁▄▃▃▆▇▇▆▇▇██▇▇▇▆▇▇▇▇</td></tr><tr><td>mean_fitness</td><td>▁▂▂▂▃▄▄▅▆▅▆▆▆▆▅▅▆▇█▇</td></tr><tr><td>min_fitness</td><td>▄▂▁▁▁▂▂▁▄█▁▃▁▄▅▁▂▆█▆</td></tr><tr><td>std_fitness</td><td>▁▃▃▃▅▆▇▆█▆▆▇▇▇▆▇█▇▇█</td></tr></table><br/></div><div class=\"wandb-col\"><h3>Run summary:</h3><br/><table class=\"wandb\"><tr><td>best_fitness</td><td>0.28237</td></tr><tr><td>max_fitness</td><td>0.50088</td></tr><tr><td>mean_fitness</td><td>0.39794</td></tr><tr><td>min_fitness</td><td>0.30772</td></tr><tr><td>std_fitness</td><td>0.05956</td></tr></table><br/></div></div>"
      ]
     },
     "metadata": {},
     "output_type": "display_data"
    },
    {
     "data": {
      "text/plain": [
       "<IPython.core.display.HTML object>"
      ],
      "text/html": [
       "Synced <strong style=\"color:#cdcd00\">bright-violet-125</strong>: <a href=\"https://wandb.ai/oliverweissl/NeuralStyleSearch/runs/z69nmzbo\" target=\"_blank\">https://wandb.ai/oliverweissl/NeuralStyleSearch/runs/z69nmzbo</a><br/>Synced 6 W&B file(s), 2 media file(s), 0 artifact file(s) and 0 other file(s)"
      ]
     },
     "metadata": {},
     "output_type": "display_data"
    },
    {
     "data": {
      "text/plain": [
       "<IPython.core.display.HTML object>"
      ],
      "text/html": [
       "Find logs at: <code>./wandb/run-20241106_152609-z69nmzbo/logs</code>"
      ]
     },
     "metadata": {},
     "output_type": "display_data"
    },
    {
     "data": {
      "text/plain": [
       "<IPython.core.display.HTML object>"
      ],
      "text/html": [
       "Successfully finished last run (ID:z69nmzbo). Initializing new run:<br/>"
      ]
     },
     "metadata": {},
     "output_type": "display_data"
    },
    {
     "data": {
      "text/plain": [
       "<IPython.core.display.HTML object>"
      ],
      "text/html": [
       "wandb version 0.18.5 is available!  To upgrade, please run:\n",
       " $ pip install wandb --upgrade"
      ]
     },
     "metadata": {},
     "output_type": "display_data"
    },
    {
     "data": {
      "text/plain": [
       "<IPython.core.display.HTML object>"
      ],
      "text/html": [
       "Tracking run with wandb version 0.13.5"
      ]
     },
     "metadata": {},
     "output_type": "display_data"
    },
    {
     "data": {
      "text/plain": [
       "<IPython.core.display.HTML object>"
      ],
      "text/html": [
       "Run data is saved locally in <code>/home/oliver/PycharmProjects/NeuralStyle/wandb/run-20241106_152618-uoxshgi2</code>"
      ]
     },
     "metadata": {},
     "output_type": "display_data"
    },
    {
     "data": {
      "text/plain": [
       "<IPython.core.display.HTML object>"
      ],
      "text/html": [
       "Syncing run <strong><a href=\"https://wandb.ai/oliverweissl/NeuralStyleSearch/runs/uoxshgi2\" target=\"_blank\">fallen-breeze-126</a></strong> to <a href=\"https://wandb.ai/oliverweissl/NeuralStyleSearch\" target=\"_blank\">Weights & Biases</a> (<a href=\"https://wandb.me/run\" target=\"_blank\">docs</a>)<br/>"
      ]
     },
     "metadata": {},
     "output_type": "display_data"
    },
    {
     "name": "stdout",
     "output_type": "stream",
     "text": [
      "[2024-11-06 15:26:26,241 - root - INFO] Generate seed(s) for class: 6.\n",
      "[2024-11-06 15:26:26,248 - root - INFO] \tFound 1 valid seed(s) after: 1 iterations.\n",
      "[2024-11-06 15:26:26,250 - root - INFO] Running Search-Algorithm for 20 generations.\n",
      "[2024-11-06 15:26:28,635 - root - INFO] \tBest candidate has a fitness of: 0.005038047198229423\n",
      "[2024-11-06 15:26:28,638 - root - INFO] \tReset learner!\n"
     ]
    },
    {
     "data": {
      "text/plain": [
       "<IPython.core.display.HTML object>"
      ],
      "text/html": [
       "Finishing last run (ID:uoxshgi2) before initializing another..."
      ]
     },
     "metadata": {},
     "output_type": "display_data"
    },
    {
     "data": {
      "text/plain": [
       "<IPython.core.display.HTML object>"
      ],
      "text/html": [
       "Waiting for W&B process to finish... <strong style=\"color:green\">(success).</strong>"
      ]
     },
     "metadata": {},
     "output_type": "display_data"
    },
    {
     "data": {
      "text/plain": [
       "<IPython.core.display.HTML object>"
      ],
      "text/html": [
       "<style>\n",
       "    table.wandb td:nth-child(1) { padding: 0 10px; text-align: left ; width: auto;} td:nth-child(2) {text-align: left ; width: 100%}\n",
       "    .wandb-row { display: flex; flex-direction: row; flex-wrap: wrap; justify-content: flex-start; width: 100% }\n",
       "    .wandb-col { display: flex; flex-direction: column; flex-basis: 100%; flex: 1; padding: 10px; }\n",
       "    </style>\n",
       "<div class=\"wandb-row\"><div class=\"wandb-col\"><h3>Run history:</h3><br/><table class=\"wandb\"><tr><td>max_fitness</td><td>▅▆▆▇▆▅▅▇▄▅▆▅▁▅▅█▃▄█▅</td></tr><tr><td>mean_fitness</td><td>▇▆▆▅▄▄▄▄▂▃▃▃▂▁▃▃▅▅██</td></tr><tr><td>min_fitness</td><td>█▇▆▃▄▄▁▃▂▂▂▃▃▁▄▄▄▄▂▄</td></tr><tr><td>std_fitness</td><td>▁▄▆▇▆▇██▅▆▇▆▄▅▄█▄▄▇▆</td></tr></table><br/></div><div class=\"wandb-col\"><h3>Run summary:</h3><br/><table class=\"wandb\"><tr><td>best_fitness</td><td>0.00504</td></tr><tr><td>max_fitness</td><td>0.0867</td></tr><tr><td>mean_fitness</td><td>0.05453</td></tr><tr><td>min_fitness</td><td>0.01686</td></tr><tr><td>std_fitness</td><td>0.0166</td></tr></table><br/></div></div>"
      ]
     },
     "metadata": {},
     "output_type": "display_data"
    },
    {
     "data": {
      "text/plain": [
       "<IPython.core.display.HTML object>"
      ],
      "text/html": [
       "Synced <strong style=\"color:#cdcd00\">fallen-breeze-126</strong>: <a href=\"https://wandb.ai/oliverweissl/NeuralStyleSearch/runs/uoxshgi2\" target=\"_blank\">https://wandb.ai/oliverweissl/NeuralStyleSearch/runs/uoxshgi2</a><br/>Synced 6 W&B file(s), 2 media file(s), 0 artifact file(s) and 0 other file(s)"
      ]
     },
     "metadata": {},
     "output_type": "display_data"
    },
    {
     "data": {
      "text/plain": [
       "<IPython.core.display.HTML object>"
      ],
      "text/html": [
       "Find logs at: <code>./wandb/run-20241106_152618-uoxshgi2/logs</code>"
      ]
     },
     "metadata": {},
     "output_type": "display_data"
    },
    {
     "data": {
      "text/plain": [
       "<IPython.core.display.HTML object>"
      ],
      "text/html": [
       "Successfully finished last run (ID:uoxshgi2). Initializing new run:<br/>"
      ]
     },
     "metadata": {},
     "output_type": "display_data"
    },
    {
     "data": {
      "text/plain": [
       "<IPython.core.display.HTML object>"
      ],
      "text/html": [
       "wandb version 0.18.5 is available!  To upgrade, please run:\n",
       " $ pip install wandb --upgrade"
      ]
     },
     "metadata": {},
     "output_type": "display_data"
    },
    {
     "data": {
      "text/plain": [
       "<IPython.core.display.HTML object>"
      ],
      "text/html": [
       "Tracking run with wandb version 0.13.5"
      ]
     },
     "metadata": {},
     "output_type": "display_data"
    },
    {
     "data": {
      "text/plain": [
       "<IPython.core.display.HTML object>"
      ],
      "text/html": [
       "Run data is saved locally in <code>/home/oliver/PycharmProjects/NeuralStyle/wandb/run-20241106_152628-1od3jedq</code>"
      ]
     },
     "metadata": {},
     "output_type": "display_data"
    },
    {
     "data": {
      "text/plain": [
       "<IPython.core.display.HTML object>"
      ],
      "text/html": [
       "Syncing run <strong><a href=\"https://wandb.ai/oliverweissl/NeuralStyleSearch/runs/1od3jedq\" target=\"_blank\">scarlet-violet-127</a></strong> to <a href=\"https://wandb.ai/oliverweissl/NeuralStyleSearch\" target=\"_blank\">Weights & Biases</a> (<a href=\"https://wandb.me/run\" target=\"_blank\">docs</a>)<br/>"
      ]
     },
     "metadata": {},
     "output_type": "display_data"
    },
    {
     "name": "stdout",
     "output_type": "stream",
     "text": [
      "[2024-11-06 15:26:36,609 - root - INFO] Generate seed(s) for class: 6.\n",
      "[2024-11-06 15:26:36,625 - root - INFO] \tFound 1 valid seed(s) after: 1 iterations.\n",
      "[2024-11-06 15:26:36,630 - root - INFO] Running Search-Algorithm for 20 generations.\n",
      "[2024-11-06 15:26:38,970 - root - INFO] \tBest candidate has a fitness of: 0.20635738408940374\n",
      "[2024-11-06 15:26:38,972 - root - INFO] \tReset learner!\n"
     ]
    },
    {
     "name": "stderr",
     "output_type": "stream",
     "text": [
      "/home/oliver/PycharmProjects/NeuralStyle/src/objective_functions/_ssim.py:40: RuntimeWarning: invalid value encountered in sqrt\n",
      "  d = np.sqrt(2-s1-s2)\n"
     ]
    },
    {
     "data": {
      "text/plain": [
       "<IPython.core.display.HTML object>"
      ],
      "text/html": [
       "Finishing last run (ID:1od3jedq) before initializing another..."
      ]
     },
     "metadata": {},
     "output_type": "display_data"
    },
    {
     "data": {
      "text/plain": [
       "<IPython.core.display.HTML object>"
      ],
      "text/html": [
       "Waiting for W&B process to finish... <strong style=\"color:green\">(success).</strong>"
      ]
     },
     "metadata": {},
     "output_type": "display_data"
    },
    {
     "data": {
      "text/plain": [
       "<IPython.core.display.HTML object>"
      ],
      "text/html": [
       "<style>\n",
       "    table.wandb td:nth-child(1) { padding: 0 10px; text-align: left ; width: auto;} td:nth-child(2) {text-align: left ; width: 100%}\n",
       "    .wandb-row { display: flex; flex-direction: row; flex-wrap: wrap; justify-content: flex-start; width: 100% }\n",
       "    .wandb-col { display: flex; flex-direction: column; flex-basis: 100%; flex: 1; padding: 10px; }\n",
       "    </style>\n",
       "<div class=\"wandb-row\"><div class=\"wandb-col\"><h3>Run history:</h3><br/><table class=\"wandb\"><tr><td>max_fitness</td><td>▄▅▃▄▇▅▃▆▄█▆▅▅▆▆▅▅▁▁ </td></tr><tr><td>mean_fitness</td><td>██▆▇▆▅▅▅▄▅▅▄▄▄▃▃▂▁▁ </td></tr><tr><td>min_fitness</td><td>█▇▃▆▂▃▃▃▁▃▂▃▂▂▃▂▂▂▃ </td></tr><tr><td>std_fitness</td><td>▁▃▆▃▆▆▅▆▆▇██▆▇▆▅▅▄▄ </td></tr></table><br/></div><div class=\"wandb-col\"><h3>Run summary:</h3><br/><table class=\"wandb\"><tr><td>best_fitness</td><td>0.20636</td></tr><tr><td>max_fitness</td><td>nan</td></tr><tr><td>mean_fitness</td><td>nan</td></tr><tr><td>min_fitness</td><td>nan</td></tr><tr><td>std_fitness</td><td>nan</td></tr></table><br/></div></div>"
      ]
     },
     "metadata": {},
     "output_type": "display_data"
    },
    {
     "data": {
      "text/plain": [
       "<IPython.core.display.HTML object>"
      ],
      "text/html": [
       "Synced <strong style=\"color:#cdcd00\">scarlet-violet-127</strong>: <a href=\"https://wandb.ai/oliverweissl/NeuralStyleSearch/runs/1od3jedq\" target=\"_blank\">https://wandb.ai/oliverweissl/NeuralStyleSearch/runs/1od3jedq</a><br/>Synced 6 W&B file(s), 2 media file(s), 0 artifact file(s) and 0 other file(s)"
      ]
     },
     "metadata": {},
     "output_type": "display_data"
    },
    {
     "data": {
      "text/plain": [
       "<IPython.core.display.HTML object>"
      ],
      "text/html": [
       "Find logs at: <code>./wandb/run-20241106_152628-1od3jedq/logs</code>"
      ]
     },
     "metadata": {},
     "output_type": "display_data"
    },
    {
     "data": {
      "text/plain": [
       "<IPython.core.display.HTML object>"
      ],
      "text/html": [
       "Successfully finished last run (ID:1od3jedq). Initializing new run:<br/>"
      ]
     },
     "metadata": {},
     "output_type": "display_data"
    },
    {
     "data": {
      "text/plain": [
       "<IPython.core.display.HTML object>"
      ],
      "text/html": [
       "wandb version 0.18.5 is available!  To upgrade, please run:\n",
       " $ pip install wandb --upgrade"
      ]
     },
     "metadata": {},
     "output_type": "display_data"
    },
    {
     "data": {
      "text/plain": [
       "<IPython.core.display.HTML object>"
      ],
      "text/html": [
       "Tracking run with wandb version 0.13.5"
      ]
     },
     "metadata": {},
     "output_type": "display_data"
    },
    {
     "data": {
      "text/plain": [
       "<IPython.core.display.HTML object>"
      ],
      "text/html": [
       "Run data is saved locally in <code>/home/oliver/PycharmProjects/NeuralStyle/wandb/run-20241106_152638-odq3x45n</code>"
      ]
     },
     "metadata": {},
     "output_type": "display_data"
    },
    {
     "data": {
      "text/plain": [
       "<IPython.core.display.HTML object>"
      ],
      "text/html": [
       "Syncing run <strong><a href=\"https://wandb.ai/oliverweissl/NeuralStyleSearch/runs/odq3x45n\" target=\"_blank\">hardy-darkness-128</a></strong> to <a href=\"https://wandb.ai/oliverweissl/NeuralStyleSearch\" target=\"_blank\">Weights & Biases</a> (<a href=\"https://wandb.me/run\" target=\"_blank\">docs</a>)<br/>"
      ]
     },
     "metadata": {},
     "output_type": "display_data"
    },
    {
     "name": "stdout",
     "output_type": "stream",
     "text": [
      "[2024-11-06 15:26:46,492 - root - INFO] Generate seed(s) for class: 6.\n",
      "[2024-11-06 15:26:46,503 - root - INFO] \tFound 1 valid seed(s) after: 1 iterations.\n",
      "[2024-11-06 15:26:46,507 - root - INFO] Running Search-Algorithm for 20 generations.\n",
      "[2024-11-06 15:26:48,928 - root - INFO] \tBest candidate has a fitness of: 0.10565593278782903\n",
      "[2024-11-06 15:26:48,931 - root - INFO] \tReset learner!\n"
     ]
    },
    {
     "data": {
      "text/plain": [
       "<IPython.core.display.HTML object>"
      ],
      "text/html": [
       "Finishing last run (ID:odq3x45n) before initializing another..."
      ]
     },
     "metadata": {},
     "output_type": "display_data"
    },
    {
     "data": {
      "text/plain": [
       "<IPython.core.display.HTML object>"
      ],
      "text/html": [
       "Waiting for W&B process to finish... <strong style=\"color:green\">(success).</strong>"
      ]
     },
     "metadata": {},
     "output_type": "display_data"
    },
    {
     "data": {
      "text/plain": [
       "<IPython.core.display.HTML object>"
      ],
      "text/html": [
       "<style>\n",
       "    table.wandb td:nth-child(1) { padding: 0 10px; text-align: left ; width: auto;} td:nth-child(2) {text-align: left ; width: 100%}\n",
       "    .wandb-row { display: flex; flex-direction: row; flex-wrap: wrap; justify-content: flex-start; width: 100% }\n",
       "    .wandb-col { display: flex; flex-direction: column; flex-basis: 100%; flex: 1; padding: 10px; }\n",
       "    </style>\n",
       "<div class=\"wandb-row\"><div class=\"wandb-col\"><h3>Run history:</h3><br/><table class=\"wandb\"><tr><td>max_fitness</td><td>█████████▁█▁▁▁█▁▁███</td></tr><tr><td>mean_fitness</td><td>▇▇█▅▅▃▃▃▄▁▂▁▁▁▂▁▁▂▂▂</td></tr><tr><td>min_fitness</td><td>█▇▅▆▁▅▂▆▅▆▆▅▄▃▄▅▅▄▆▂</td></tr><tr><td>std_fitness</td><td>▇██▇▆▄▅▅▆▁▃▁▁▁▃▁▁▅▃▃</td></tr></table><br/></div><div class=\"wandb-col\"><h3>Run summary:</h3><br/><table class=\"wandb\"><tr><td>best_fitness</td><td>0.10566</td></tr><tr><td>max_fitness</td><td>1.0</td></tr><tr><td>mean_fitness</td><td>0.25695</td></tr><tr><td>min_fitness</td><td>0.1214</td></tr><tr><td>std_fitness</td><td>0.14576</td></tr></table><br/></div></div>"
      ]
     },
     "metadata": {},
     "output_type": "display_data"
    },
    {
     "data": {
      "text/plain": [
       "<IPython.core.display.HTML object>"
      ],
      "text/html": [
       "Synced <strong style=\"color:#cdcd00\">hardy-darkness-128</strong>: <a href=\"https://wandb.ai/oliverweissl/NeuralStyleSearch/runs/odq3x45n\" target=\"_blank\">https://wandb.ai/oliverweissl/NeuralStyleSearch/runs/odq3x45n</a><br/>Synced 6 W&B file(s), 2 media file(s), 0 artifact file(s) and 0 other file(s)"
      ]
     },
     "metadata": {},
     "output_type": "display_data"
    },
    {
     "data": {
      "text/plain": [
       "<IPython.core.display.HTML object>"
      ],
      "text/html": [
       "Find logs at: <code>./wandb/run-20241106_152638-odq3x45n/logs</code>"
      ]
     },
     "metadata": {},
     "output_type": "display_data"
    },
    {
     "data": {
      "text/plain": [
       "<IPython.core.display.HTML object>"
      ],
      "text/html": [
       "Successfully finished last run (ID:odq3x45n). Initializing new run:<br/>"
      ]
     },
     "metadata": {},
     "output_type": "display_data"
    },
    {
     "data": {
      "text/plain": [
       "<IPython.core.display.HTML object>"
      ],
      "text/html": [
       "wandb version 0.18.5 is available!  To upgrade, please run:\n",
       " $ pip install wandb --upgrade"
      ]
     },
     "metadata": {},
     "output_type": "display_data"
    },
    {
     "data": {
      "text/plain": [
       "<IPython.core.display.HTML object>"
      ],
      "text/html": [
       "Tracking run with wandb version 0.13.5"
      ]
     },
     "metadata": {},
     "output_type": "display_data"
    },
    {
     "data": {
      "text/plain": [
       "<IPython.core.display.HTML object>"
      ],
      "text/html": [
       "Run data is saved locally in <code>/home/oliver/PycharmProjects/NeuralStyle/wandb/run-20241106_152648-2jp4ngnn</code>"
      ]
     },
     "metadata": {},
     "output_type": "display_data"
    },
    {
     "data": {
      "text/plain": [
       "<IPython.core.display.HTML object>"
      ],
      "text/html": [
       "Syncing run <strong><a href=\"https://wandb.ai/oliverweissl/NeuralStyleSearch/runs/2jp4ngnn\" target=\"_blank\">still-cherry-129</a></strong> to <a href=\"https://wandb.ai/oliverweissl/NeuralStyleSearch\" target=\"_blank\">Weights & Biases</a> (<a href=\"https://wandb.me/run\" target=\"_blank\">docs</a>)<br/>"
      ]
     },
     "metadata": {},
     "output_type": "display_data"
    },
    {
     "name": "stdout",
     "output_type": "stream",
     "text": [
      "[2024-11-06 15:26:56,397 - root - INFO] Generate seed(s) for class: 6.\n",
      "[2024-11-06 15:26:56,405 - root - INFO] \tFound 1 valid seed(s) after: 1 iterations.\n",
      "[2024-11-06 15:26:56,407 - root - INFO] Running Search-Algorithm for 20 generations.\n"
     ]
    },
    {
     "name": "stderr",
     "output_type": "stream",
     "text": [
      "/home/oliver/PycharmProjects/NeuralStyle/src/objective_functions/_ssim.py:40: RuntimeWarning: invalid value encountered in sqrt\n",
      "  d = np.sqrt(2-s1-s2)\n"
     ]
    },
    {
     "name": "stdout",
     "output_type": "stream",
     "text": [
      "[2024-11-06 15:26:58,797 - root - INFO] \tBest candidate has a fitness of: 0.30006375348942815\n",
      "[2024-11-06 15:26:58,800 - root - INFO] \tReset learner!\n"
     ]
    },
    {
     "data": {
      "text/plain": [
       "<IPython.core.display.HTML object>"
      ],
      "text/html": [
       "Finishing last run (ID:2jp4ngnn) before initializing another..."
      ]
     },
     "metadata": {},
     "output_type": "display_data"
    },
    {
     "data": {
      "text/plain": [
       "<IPython.core.display.HTML object>"
      ],
      "text/html": [
       "Waiting for W&B process to finish... <strong style=\"color:green\">(success).</strong>"
      ]
     },
     "metadata": {},
     "output_type": "display_data"
    },
    {
     "data": {
      "text/plain": [
       "<IPython.core.display.HTML object>"
      ],
      "text/html": [
       "<style>\n",
       "    table.wandb td:nth-child(1) { padding: 0 10px; text-align: left ; width: auto;} td:nth-child(2) {text-align: left ; width: 100%}\n",
       "    .wandb-row { display: flex; flex-direction: row; flex-wrap: wrap; justify-content: flex-start; width: 100% }\n",
       "    .wandb-col { display: flex; flex-direction: column; flex-basis: 100%; flex: 1; padding: 10px; }\n",
       "    </style>\n",
       "<div class=\"wandb-row\"><div class=\"wandb-col\"><h3>Run history:</h3><br/><table class=\"wandb\"><tr><td>max_fitness</td><td>▁▅▃▄▇▇█▅▅▅▅▅▅▆▅▅▅▇ ▅</td></tr><tr><td>mean_fitness</td><td>▅▄▄▃▄▄▆▆▆▆▅▅█▆▄▃▁▅ ▄</td></tr><tr><td>min_fitness</td><td>█▇▇▆▅▄▇▆▅▅▅▃▃▃▁▂▁▅ ▂</td></tr><tr><td>std_fitness</td><td>▁▃▂▂▄▆▅▅▄▅▆▇▆▇█▇▇▆ █</td></tr></table><br/></div><div class=\"wandb-col\"><h3>Run summary:</h3><br/><table class=\"wandb\"><tr><td>best_fitness</td><td>0.30006</td></tr><tr><td>max_fitness</td><td>0.49603</td></tr><tr><td>mean_fitness</td><td>0.42597</td></tr><tr><td>min_fitness</td><td>0.30928</td></tr><tr><td>std_fitness</td><td>0.04695</td></tr></table><br/></div></div>"
      ]
     },
     "metadata": {},
     "output_type": "display_data"
    },
    {
     "data": {
      "text/plain": [
       "<IPython.core.display.HTML object>"
      ],
      "text/html": [
       "Synced <strong style=\"color:#cdcd00\">still-cherry-129</strong>: <a href=\"https://wandb.ai/oliverweissl/NeuralStyleSearch/runs/2jp4ngnn\" target=\"_blank\">https://wandb.ai/oliverweissl/NeuralStyleSearch/runs/2jp4ngnn</a><br/>Synced 6 W&B file(s), 2 media file(s), 0 artifact file(s) and 0 other file(s)"
      ]
     },
     "metadata": {},
     "output_type": "display_data"
    },
    {
     "data": {
      "text/plain": [
       "<IPython.core.display.HTML object>"
      ],
      "text/html": [
       "Find logs at: <code>./wandb/run-20241106_152648-2jp4ngnn/logs</code>"
      ]
     },
     "metadata": {},
     "output_type": "display_data"
    },
    {
     "data": {
      "text/plain": [
       "<IPython.core.display.HTML object>"
      ],
      "text/html": [
       "Successfully finished last run (ID:2jp4ngnn). Initializing new run:<br/>"
      ]
     },
     "metadata": {},
     "output_type": "display_data"
    },
    {
     "data": {
      "text/plain": [
       "<IPython.core.display.HTML object>"
      ],
      "text/html": [
       "wandb version 0.18.5 is available!  To upgrade, please run:\n",
       " $ pip install wandb --upgrade"
      ]
     },
     "metadata": {},
     "output_type": "display_data"
    },
    {
     "data": {
      "text/plain": [
       "<IPython.core.display.HTML object>"
      ],
      "text/html": [
       "Tracking run with wandb version 0.13.5"
      ]
     },
     "metadata": {},
     "output_type": "display_data"
    },
    {
     "data": {
      "text/plain": [
       "<IPython.core.display.HTML object>"
      ],
      "text/html": [
       "Run data is saved locally in <code>/home/oliver/PycharmProjects/NeuralStyle/wandb/run-20241106_152658-jzyg2gvu</code>"
      ]
     },
     "metadata": {},
     "output_type": "display_data"
    },
    {
     "data": {
      "text/plain": [
       "<IPython.core.display.HTML object>"
      ],
      "text/html": [
       "Syncing run <strong><a href=\"https://wandb.ai/oliverweissl/NeuralStyleSearch/runs/jzyg2gvu\" target=\"_blank\">generous-morning-130</a></strong> to <a href=\"https://wandb.ai/oliverweissl/NeuralStyleSearch\" target=\"_blank\">Weights & Biases</a> (<a href=\"https://wandb.me/run\" target=\"_blank\">docs</a>)<br/>"
      ]
     },
     "metadata": {},
     "output_type": "display_data"
    },
    {
     "name": "stdout",
     "output_type": "stream",
     "text": [
      "[2024-11-06 15:27:07,076 - root - INFO] Generate seed(s) for class: 6.\n",
      "[2024-11-06 15:27:07,084 - root - INFO] \tFound 1 valid seed(s) after: 1 iterations.\n",
      "[2024-11-06 15:27:07,086 - root - INFO] Running Search-Algorithm for 20 generations.\n",
      "[2024-11-06 15:27:09,417 - root - INFO] \tBest candidate has a fitness of: 0.34069600141423284\n",
      "[2024-11-06 15:27:09,420 - root - INFO] \tReset learner!\n"
     ]
    },
    {
     "data": {
      "text/plain": [
       "<IPython.core.display.HTML object>"
      ],
      "text/html": [
       "Finishing last run (ID:jzyg2gvu) before initializing another..."
      ]
     },
     "metadata": {},
     "output_type": "display_data"
    },
    {
     "data": {
      "text/plain": [
       "<IPython.core.display.HTML object>"
      ],
      "text/html": [
       "Waiting for W&B process to finish... <strong style=\"color:green\">(success).</strong>"
      ]
     },
     "metadata": {},
     "output_type": "display_data"
    },
    {
     "data": {
      "text/plain": [
       "<IPython.core.display.HTML object>"
      ],
      "text/html": [
       "<style>\n",
       "    table.wandb td:nth-child(1) { padding: 0 10px; text-align: left ; width: auto;} td:nth-child(2) {text-align: left ; width: 100%}\n",
       "    .wandb-row { display: flex; flex-direction: row; flex-wrap: wrap; justify-content: flex-start; width: 100% }\n",
       "    .wandb-col { display: flex; flex-direction: column; flex-basis: 100%; flex: 1; padding: 10px; }\n",
       "    </style>\n",
       "<div class=\"wandb-row\"><div class=\"wandb-col\"><h3>Run history:</h3><br/><table class=\"wandb\"><tr><td>max_fitness</td><td>▃▃▆▆▇▆▄▅▆▁█▄▄▂▅▂▃▇▇▂</td></tr><tr><td>mean_fitness</td><td>█▄▄▃▃▃▃▃▃▅▆▄▂▃▁▂▄▆▅▅</td></tr><tr><td>min_fitness</td><td>█▁▁▄▂▁▅▃▆▂▅▅▇▆▄▆▄█▅█</td></tr><tr><td>std_fitness</td><td>▂▇▇▆▆█▆▇▅▃▅▄▂▁▅▃▃▃▄▁</td></tr></table><br/></div><div class=\"wandb-col\"><h3>Run summary:</h3><br/><table class=\"wandb\"><tr><td>best_fitness</td><td>0.3407</td></tr><tr><td>max_fitness</td><td>0.50254</td></tr><tr><td>mean_fitness</td><td>0.44905</td></tr><tr><td>min_fitness</td><td>0.40622</td></tr><tr><td>std_fitness</td><td>0.02498</td></tr></table><br/></div></div>"
      ]
     },
     "metadata": {},
     "output_type": "display_data"
    },
    {
     "data": {
      "text/plain": [
       "<IPython.core.display.HTML object>"
      ],
      "text/html": [
       "Synced <strong style=\"color:#cdcd00\">generous-morning-130</strong>: <a href=\"https://wandb.ai/oliverweissl/NeuralStyleSearch/runs/jzyg2gvu\" target=\"_blank\">https://wandb.ai/oliverweissl/NeuralStyleSearch/runs/jzyg2gvu</a><br/>Synced 6 W&B file(s), 2 media file(s), 0 artifact file(s) and 0 other file(s)"
      ]
     },
     "metadata": {},
     "output_type": "display_data"
    },
    {
     "data": {
      "text/plain": [
       "<IPython.core.display.HTML object>"
      ],
      "text/html": [
       "Find logs at: <code>./wandb/run-20241106_152658-jzyg2gvu/logs</code>"
      ]
     },
     "metadata": {},
     "output_type": "display_data"
    },
    {
     "data": {
      "text/plain": [
       "<IPython.core.display.HTML object>"
      ],
      "text/html": [
       "Successfully finished last run (ID:jzyg2gvu). Initializing new run:<br/>"
      ]
     },
     "metadata": {},
     "output_type": "display_data"
    },
    {
     "data": {
      "text/plain": [
       "<IPython.core.display.HTML object>"
      ],
      "text/html": [
       "wandb version 0.18.5 is available!  To upgrade, please run:\n",
       " $ pip install wandb --upgrade"
      ]
     },
     "metadata": {},
     "output_type": "display_data"
    },
    {
     "data": {
      "text/plain": [
       "<IPython.core.display.HTML object>"
      ],
      "text/html": [
       "Tracking run with wandb version 0.13.5"
      ]
     },
     "metadata": {},
     "output_type": "display_data"
    },
    {
     "data": {
      "text/plain": [
       "<IPython.core.display.HTML object>"
      ],
      "text/html": [
       "Run data is saved locally in <code>/home/oliver/PycharmProjects/NeuralStyle/wandb/run-20241106_152709-5mb59loq</code>"
      ]
     },
     "metadata": {},
     "output_type": "display_data"
    },
    {
     "data": {
      "text/plain": [
       "<IPython.core.display.HTML object>"
      ],
      "text/html": [
       "Syncing run <strong><a href=\"https://wandb.ai/oliverweissl/NeuralStyleSearch/runs/5mb59loq\" target=\"_blank\">pretty-bush-131</a></strong> to <a href=\"https://wandb.ai/oliverweissl/NeuralStyleSearch\" target=\"_blank\">Weights & Biases</a> (<a href=\"https://wandb.me/run\" target=\"_blank\">docs</a>)<br/>"
      ]
     },
     "metadata": {},
     "output_type": "display_data"
    },
    {
     "name": "stdout",
     "output_type": "stream",
     "text": [
      "[2024-11-06 15:27:17,157 - root - INFO] Generate seed(s) for class: 6.\n",
      "[2024-11-06 15:27:17,164 - root - INFO] \tFound 1 valid seed(s) after: 1 iterations.\n",
      "[2024-11-06 15:27:17,167 - root - INFO] Running Search-Algorithm for 20 generations.\n",
      "[2024-11-06 15:27:19,560 - root - INFO] \tBest candidate has a fitness of: 0.23324229753392278\n",
      "[2024-11-06 15:27:19,563 - root - INFO] \tReset learner!\n"
     ]
    },
    {
     "data": {
      "text/plain": [
       "<IPython.core.display.HTML object>"
      ],
      "text/html": [
       "Finishing last run (ID:5mb59loq) before initializing another..."
      ]
     },
     "metadata": {},
     "output_type": "display_data"
    },
    {
     "data": {
      "text/plain": [
       "<IPython.core.display.HTML object>"
      ],
      "text/html": [
       "Waiting for W&B process to finish... <strong style=\"color:green\">(success).</strong>"
      ]
     },
     "metadata": {},
     "output_type": "display_data"
    },
    {
     "data": {
      "text/plain": [
       "<IPython.core.display.HTML object>"
      ],
      "text/html": [
       "<style>\n",
       "    table.wandb td:nth-child(1) { padding: 0 10px; text-align: left ; width: auto;} td:nth-child(2) {text-align: left ; width: 100%}\n",
       "    .wandb-row { display: flex; flex-direction: row; flex-wrap: wrap; justify-content: flex-start; width: 100% }\n",
       "    .wandb-col { display: flex; flex-direction: column; flex-basis: 100%; flex: 1; padding: 10px; }\n",
       "    </style>\n",
       "<div class=\"wandb-row\"><div class=\"wandb-col\"><h3>Run history:</h3><br/><table class=\"wandb\"><tr><td>max_fitness</td><td>▁▃▅▃▂▃▃▅▅▆▆▅█▅▆███▇▅</td></tr><tr><td>mean_fitness</td><td>▂▂▃▃▁▁▃▂▂▄▆▆▆▅▇█▇██▆</td></tr><tr><td>min_fitness</td><td>▆▄▃▄▁▁▃▂▃▄▃▃▄▆▄█▆▂▅▂</td></tr><tr><td>std_fitness</td><td>▁▄▅▅▃▅▇▇▇▇█▇▅▅█▆▆█▇▇</td></tr></table><br/></div><div class=\"wandb-col\"><h3>Run summary:</h3><br/><table class=\"wandb\"><tr><td>best_fitness</td><td>0.23324</td></tr><tr><td>max_fitness</td><td>0.36528</td></tr><tr><td>mean_fitness</td><td>0.32098</td></tr><tr><td>min_fitness</td><td>0.23742</td></tr><tr><td>std_fitness</td><td>0.03267</td></tr></table><br/></div></div>"
      ]
     },
     "metadata": {},
     "output_type": "display_data"
    },
    {
     "data": {
      "text/plain": [
       "<IPython.core.display.HTML object>"
      ],
      "text/html": [
       "Synced <strong style=\"color:#cdcd00\">pretty-bush-131</strong>: <a href=\"https://wandb.ai/oliverweissl/NeuralStyleSearch/runs/5mb59loq\" target=\"_blank\">https://wandb.ai/oliverweissl/NeuralStyleSearch/runs/5mb59loq</a><br/>Synced 6 W&B file(s), 2 media file(s), 0 artifact file(s) and 0 other file(s)"
      ]
     },
     "metadata": {},
     "output_type": "display_data"
    },
    {
     "data": {
      "text/plain": [
       "<IPython.core.display.HTML object>"
      ],
      "text/html": [
       "Find logs at: <code>./wandb/run-20241106_152709-5mb59loq/logs</code>"
      ]
     },
     "metadata": {},
     "output_type": "display_data"
    },
    {
     "data": {
      "text/plain": [
       "<IPython.core.display.HTML object>"
      ],
      "text/html": [
       "Successfully finished last run (ID:5mb59loq). Initializing new run:<br/>"
      ]
     },
     "metadata": {},
     "output_type": "display_data"
    },
    {
     "data": {
      "text/plain": [
       "<IPython.core.display.HTML object>"
      ],
      "text/html": [
       "wandb version 0.18.5 is available!  To upgrade, please run:\n",
       " $ pip install wandb --upgrade"
      ]
     },
     "metadata": {},
     "output_type": "display_data"
    },
    {
     "data": {
      "text/plain": [
       "<IPython.core.display.HTML object>"
      ],
      "text/html": [
       "Tracking run with wandb version 0.13.5"
      ]
     },
     "metadata": {},
     "output_type": "display_data"
    },
    {
     "data": {
      "text/plain": [
       "<IPython.core.display.HTML object>"
      ],
      "text/html": [
       "Run data is saved locally in <code>/home/oliver/PycharmProjects/NeuralStyle/wandb/run-20241106_152719-jtmiv8ob</code>"
      ]
     },
     "metadata": {},
     "output_type": "display_data"
    },
    {
     "data": {
      "text/plain": [
       "<IPython.core.display.HTML object>"
      ],
      "text/html": [
       "Syncing run <strong><a href=\"https://wandb.ai/oliverweissl/NeuralStyleSearch/runs/jtmiv8ob\" target=\"_blank\">stilted-sun-132</a></strong> to <a href=\"https://wandb.ai/oliverweissl/NeuralStyleSearch\" target=\"_blank\">Weights & Biases</a> (<a href=\"https://wandb.me/run\" target=\"_blank\">docs</a>)<br/>"
      ]
     },
     "metadata": {},
     "output_type": "display_data"
    },
    {
     "name": "stdout",
     "output_type": "stream",
     "text": [
      "[2024-11-06 15:27:27,223 - root - INFO] Generate seed(s) for class: 6.\n",
      "[2024-11-06 15:27:27,520 - root - INFO] \tFound 1 valid seed(s) after: 47 iterations.\n",
      "[2024-11-06 15:27:27,523 - root - INFO] Running Search-Algorithm for 20 generations.\n",
      "[2024-11-06 15:27:29,813 - root - INFO] \tBest candidate has a fitness of: 0.24093058145421087\n",
      "[2024-11-06 15:27:29,815 - root - INFO] \tReset learner!\n"
     ]
    },
    {
     "data": {
      "text/plain": [
       "<IPython.core.display.HTML object>"
      ],
      "text/html": [
       "Finishing last run (ID:jtmiv8ob) before initializing another..."
      ]
     },
     "metadata": {},
     "output_type": "display_data"
    },
    {
     "data": {
      "text/plain": [
       "<IPython.core.display.HTML object>"
      ],
      "text/html": [
       "Waiting for W&B process to finish... <strong style=\"color:green\">(success).</strong>"
      ]
     },
     "metadata": {},
     "output_type": "display_data"
    },
    {
     "data": {
      "text/plain": [
       "<IPython.core.display.HTML object>"
      ],
      "text/html": [
       "<style>\n",
       "    table.wandb td:nth-child(1) { padding: 0 10px; text-align: left ; width: auto;} td:nth-child(2) {text-align: left ; width: 100%}\n",
       "    .wandb-row { display: flex; flex-direction: row; flex-wrap: wrap; justify-content: flex-start; width: 100% }\n",
       "    .wandb-col { display: flex; flex-direction: column; flex-basis: 100%; flex: 1; padding: 10px; }\n",
       "    </style>\n",
       "<div class=\"wandb-row\"><div class=\"wandb-col\"><h3>Run history:</h3><br/><table class=\"wandb\"><tr><td>max_fitness</td><td>▃▄▄▄▆▇▇▁▃▁▆▇███▃█▆▇▅</td></tr><tr><td>mean_fitness</td><td>██▇█▆▄▅▃▅▆▅▄▃▃▁▂▁▁▄▃</td></tr><tr><td>min_fitness</td><td>█▆▆▅▄▂▃▃▄▄▅▁▁▂▃▁▂▃▂▁</td></tr><tr><td>std_fitness</td><td>▁▃▄▅▆█▇▅▅▂▅▇▇█▇▇▇▅▇▇</td></tr></table><br/></div><div class=\"wandb-col\"><h3>Run summary:</h3><br/><table class=\"wandb\"><tr><td>best_fitness</td><td>0.24093</td></tr><tr><td>max_fitness</td><td>0.48025</td></tr><tr><td>mean_fitness</td><td>0.36331</td></tr><tr><td>min_fitness</td><td>0.24532</td></tr><tr><td>std_fitness</td><td>0.05968</td></tr></table><br/></div></div>"
      ]
     },
     "metadata": {},
     "output_type": "display_data"
    },
    {
     "data": {
      "text/plain": [
       "<IPython.core.display.HTML object>"
      ],
      "text/html": [
       "Synced <strong style=\"color:#cdcd00\">stilted-sun-132</strong>: <a href=\"https://wandb.ai/oliverweissl/NeuralStyleSearch/runs/jtmiv8ob\" target=\"_blank\">https://wandb.ai/oliverweissl/NeuralStyleSearch/runs/jtmiv8ob</a><br/>Synced 6 W&B file(s), 2 media file(s), 0 artifact file(s) and 0 other file(s)"
      ]
     },
     "metadata": {},
     "output_type": "display_data"
    },
    {
     "data": {
      "text/plain": [
       "<IPython.core.display.HTML object>"
      ],
      "text/html": [
       "Find logs at: <code>./wandb/run-20241106_152719-jtmiv8ob/logs</code>"
      ]
     },
     "metadata": {},
     "output_type": "display_data"
    },
    {
     "data": {
      "text/plain": [
       "<IPython.core.display.HTML object>"
      ],
      "text/html": [
       "Successfully finished last run (ID:jtmiv8ob). Initializing new run:<br/>"
      ]
     },
     "metadata": {},
     "output_type": "display_data"
    },
    {
     "data": {
      "text/plain": [
       "<IPython.core.display.HTML object>"
      ],
      "text/html": [
       "wandb version 0.18.5 is available!  To upgrade, please run:\n",
       " $ pip install wandb --upgrade"
      ]
     },
     "metadata": {},
     "output_type": "display_data"
    },
    {
     "data": {
      "text/plain": [
       "<IPython.core.display.HTML object>"
      ],
      "text/html": [
       "Tracking run with wandb version 0.13.5"
      ]
     },
     "metadata": {},
     "output_type": "display_data"
    },
    {
     "data": {
      "text/plain": [
       "<IPython.core.display.HTML object>"
      ],
      "text/html": [
       "Run data is saved locally in <code>/home/oliver/PycharmProjects/NeuralStyle/wandb/run-20241106_152729-yar02vcw</code>"
      ]
     },
     "metadata": {},
     "output_type": "display_data"
    },
    {
     "data": {
      "text/plain": [
       "<IPython.core.display.HTML object>"
      ],
      "text/html": [
       "Syncing run <strong><a href=\"https://wandb.ai/oliverweissl/NeuralStyleSearch/runs/yar02vcw\" target=\"_blank\">lyric-feather-133</a></strong> to <a href=\"https://wandb.ai/oliverweissl/NeuralStyleSearch\" target=\"_blank\">Weights & Biases</a> (<a href=\"https://wandb.me/run\" target=\"_blank\">docs</a>)<br/>"
      ]
     },
     "metadata": {},
     "output_type": "display_data"
    },
    {
     "name": "stdout",
     "output_type": "stream",
     "text": [
      "[2024-11-06 15:27:37,237 - root - INFO] Generate seed(s) for class: 6.\n",
      "[2024-11-06 15:27:37,245 - root - INFO] \tFound 1 valid seed(s) after: 1 iterations.\n",
      "[2024-11-06 15:27:37,247 - root - INFO] Running Search-Algorithm for 20 generations.\n",
      "[2024-11-06 15:27:39,723 - root - INFO] \tBest candidate has a fitness of: 0.2308047059811884\n",
      "[2024-11-06 15:27:39,726 - root - INFO] \tReset learner!\n"
     ]
    },
    {
     "data": {
      "text/plain": [
       "<IPython.core.display.HTML object>"
      ],
      "text/html": [
       "Finishing last run (ID:yar02vcw) before initializing another..."
      ]
     },
     "metadata": {},
     "output_type": "display_data"
    },
    {
     "data": {
      "text/plain": [
       "<IPython.core.display.HTML object>"
      ],
      "text/html": [
       "Waiting for W&B process to finish... <strong style=\"color:green\">(success).</strong>"
      ]
     },
     "metadata": {},
     "output_type": "display_data"
    },
    {
     "data": {
      "text/plain": [
       "<IPython.core.display.HTML object>"
      ],
      "text/html": [
       "<style>\n",
       "    table.wandb td:nth-child(1) { padding: 0 10px; text-align: left ; width: auto;} td:nth-child(2) {text-align: left ; width: 100%}\n",
       "    .wandb-row { display: flex; flex-direction: row; flex-wrap: wrap; justify-content: flex-start; width: 100% }\n",
       "    .wandb-col { display: flex; flex-direction: column; flex-basis: 100%; flex: 1; padding: 10px; }\n",
       "    </style>\n",
       "<div class=\"wandb-row\"><div class=\"wandb-col\"><h3>Run history:</h3><br/><table class=\"wandb\"><tr><td>max_fitness</td><td>▁▃▄▆▅▇▅▄▄▄▇▇▆▄▄▅▆▅▆█</td></tr><tr><td>mean_fitness</td><td>▁▃▂▃▂▄▃▃▂▁▃▅▃▃▃▅▇█▇█</td></tr><tr><td>min_fitness</td><td>▆▇▃▅▄▂▁▂▂▄▃▅▁▄▄▄▆▇▄█</td></tr><tr><td>std_fitness</td><td>▁▂▆▄▇▇██▇▅█▅▆▄▄▅▅▃▆▄</td></tr></table><br/></div><div class=\"wandb-col\"><h3>Run summary:</h3><br/><table class=\"wandb\"><tr><td>best_fitness</td><td>0.2308</td></tr><tr><td>max_fitness</td><td>0.47822</td></tr><tr><td>mean_fitness</td><td>0.39746</td></tr><tr><td>min_fitness</td><td>0.35792</td></tr><tr><td>std_fitness</td><td>0.02799</td></tr></table><br/></div></div>"
      ]
     },
     "metadata": {},
     "output_type": "display_data"
    },
    {
     "data": {
      "text/plain": [
       "<IPython.core.display.HTML object>"
      ],
      "text/html": [
       "Synced <strong style=\"color:#cdcd00\">lyric-feather-133</strong>: <a href=\"https://wandb.ai/oliverweissl/NeuralStyleSearch/runs/yar02vcw\" target=\"_blank\">https://wandb.ai/oliverweissl/NeuralStyleSearch/runs/yar02vcw</a><br/>Synced 6 W&B file(s), 2 media file(s), 0 artifact file(s) and 0 other file(s)"
      ]
     },
     "metadata": {},
     "output_type": "display_data"
    },
    {
     "data": {
      "text/plain": [
       "<IPython.core.display.HTML object>"
      ],
      "text/html": [
       "Find logs at: <code>./wandb/run-20241106_152729-yar02vcw/logs</code>"
      ]
     },
     "metadata": {},
     "output_type": "display_data"
    },
    {
     "data": {
      "text/plain": [
       "<IPython.core.display.HTML object>"
      ],
      "text/html": [
       "Successfully finished last run (ID:yar02vcw). Initializing new run:<br/>"
      ]
     },
     "metadata": {},
     "output_type": "display_data"
    },
    {
     "data": {
      "text/plain": [
       "<IPython.core.display.HTML object>"
      ],
      "text/html": [
       "wandb version 0.18.5 is available!  To upgrade, please run:\n",
       " $ pip install wandb --upgrade"
      ]
     },
     "metadata": {},
     "output_type": "display_data"
    },
    {
     "data": {
      "text/plain": [
       "<IPython.core.display.HTML object>"
      ],
      "text/html": [
       "Tracking run with wandb version 0.13.5"
      ]
     },
     "metadata": {},
     "output_type": "display_data"
    },
    {
     "data": {
      "text/plain": [
       "<IPython.core.display.HTML object>"
      ],
      "text/html": [
       "Run data is saved locally in <code>/home/oliver/PycharmProjects/NeuralStyle/wandb/run-20241106_152739-1l9ap4jv</code>"
      ]
     },
     "metadata": {},
     "output_type": "display_data"
    },
    {
     "data": {
      "text/plain": [
       "<IPython.core.display.HTML object>"
      ],
      "text/html": [
       "Syncing run <strong><a href=\"https://wandb.ai/oliverweissl/NeuralStyleSearch/runs/1l9ap4jv\" target=\"_blank\">jolly-butterfly-134</a></strong> to <a href=\"https://wandb.ai/oliverweissl/NeuralStyleSearch\" target=\"_blank\">Weights & Biases</a> (<a href=\"https://wandb.me/run\" target=\"_blank\">docs</a>)<br/>"
      ]
     },
     "metadata": {},
     "output_type": "display_data"
    },
    {
     "name": "stdout",
     "output_type": "stream",
     "text": [
      "[2024-11-06 15:27:47,128 - root - INFO] Generate seed(s) for class: 7.\n",
      "[2024-11-06 15:27:47,138 - root - INFO] \tFound 1 valid seed(s) after: 1 iterations.\n",
      "[2024-11-06 15:27:47,141 - root - INFO] Running Search-Algorithm for 20 generations.\n",
      "[2024-11-06 15:27:49,439 - root - INFO] \tBest candidate has a fitness of: 0.33066465890782415\n",
      "[2024-11-06 15:27:49,442 - root - INFO] \tReset learner!\n"
     ]
    },
    {
     "data": {
      "text/plain": [
       "<IPython.core.display.HTML object>"
      ],
      "text/html": [
       "Finishing last run (ID:1l9ap4jv) before initializing another..."
      ]
     },
     "metadata": {},
     "output_type": "display_data"
    },
    {
     "data": {
      "text/plain": [
       "<IPython.core.display.HTML object>"
      ],
      "text/html": [
       "Waiting for W&B process to finish... <strong style=\"color:green\">(success).</strong>"
      ]
     },
     "metadata": {},
     "output_type": "display_data"
    },
    {
     "data": {
      "text/plain": [
       "<IPython.core.display.HTML object>"
      ],
      "text/html": [
       "<style>\n",
       "    table.wandb td:nth-child(1) { padding: 0 10px; text-align: left ; width: auto;} td:nth-child(2) {text-align: left ; width: 100%}\n",
       "    .wandb-row { display: flex; flex-direction: row; flex-wrap: wrap; justify-content: flex-start; width: 100% }\n",
       "    .wandb-col { display: flex; flex-direction: column; flex-basis: 100%; flex: 1; padding: 10px; }\n",
       "    </style>\n",
       "<div class=\"wandb-row\"><div class=\"wandb-col\"><h3>Run history:</h3><br/><table class=\"wandb\"><tr><td>max_fitness</td><td>▄▆▅▇█▃▃▁▃▃▂▂▂▃▃▃▂█▆▆</td></tr><tr><td>mean_fitness</td><td>▇█▇▆▆▄▄▃▃▂▁▁▂▂▃▃▃▃▃▄</td></tr><tr><td>min_fitness</td><td>███▅▅▃▄▃▁▂▁▃▂▁▁▃▃▁▂▁</td></tr><tr><td>std_fitness</td><td>▁▃▂▃▅▅▅▄▅▆▇▅▅▇█▆▅██▇</td></tr></table><br/></div><div class=\"wandb-col\"><h3>Run summary:</h3><br/><table class=\"wandb\"><tr><td>best_fitness</td><td>0.33066</td></tr><tr><td>max_fitness</td><td>0.54894</td></tr><tr><td>mean_fitness</td><td>0.45477</td></tr><tr><td>min_fitness</td><td>0.33329</td></tr><tr><td>std_fitness</td><td>0.05176</td></tr></table><br/></div></div>"
      ]
     },
     "metadata": {},
     "output_type": "display_data"
    },
    {
     "data": {
      "text/plain": [
       "<IPython.core.display.HTML object>"
      ],
      "text/html": [
       "Synced <strong style=\"color:#cdcd00\">jolly-butterfly-134</strong>: <a href=\"https://wandb.ai/oliverweissl/NeuralStyleSearch/runs/1l9ap4jv\" target=\"_blank\">https://wandb.ai/oliverweissl/NeuralStyleSearch/runs/1l9ap4jv</a><br/>Synced 6 W&B file(s), 2 media file(s), 0 artifact file(s) and 0 other file(s)"
      ]
     },
     "metadata": {},
     "output_type": "display_data"
    },
    {
     "data": {
      "text/plain": [
       "<IPython.core.display.HTML object>"
      ],
      "text/html": [
       "Find logs at: <code>./wandb/run-20241106_152739-1l9ap4jv/logs</code>"
      ]
     },
     "metadata": {},
     "output_type": "display_data"
    },
    {
     "data": {
      "text/plain": [
       "<IPython.core.display.HTML object>"
      ],
      "text/html": [
       "Successfully finished last run (ID:1l9ap4jv). Initializing new run:<br/>"
      ]
     },
     "metadata": {},
     "output_type": "display_data"
    },
    {
     "data": {
      "text/plain": [
       "<IPython.core.display.HTML object>"
      ],
      "text/html": [
       "wandb version 0.18.5 is available!  To upgrade, please run:\n",
       " $ pip install wandb --upgrade"
      ]
     },
     "metadata": {},
     "output_type": "display_data"
    },
    {
     "data": {
      "text/plain": [
       "<IPython.core.display.HTML object>"
      ],
      "text/html": [
       "Tracking run with wandb version 0.13.5"
      ]
     },
     "metadata": {},
     "output_type": "display_data"
    },
    {
     "data": {
      "text/plain": [
       "<IPython.core.display.HTML object>"
      ],
      "text/html": [
       "Run data is saved locally in <code>/home/oliver/PycharmProjects/NeuralStyle/wandb/run-20241106_152749-j1lcqzx1</code>"
      ]
     },
     "metadata": {},
     "output_type": "display_data"
    },
    {
     "data": {
      "text/plain": [
       "<IPython.core.display.HTML object>"
      ],
      "text/html": [
       "Syncing run <strong><a href=\"https://wandb.ai/oliverweissl/NeuralStyleSearch/runs/j1lcqzx1\" target=\"_blank\">tough-silence-135</a></strong> to <a href=\"https://wandb.ai/oliverweissl/NeuralStyleSearch\" target=\"_blank\">Weights & Biases</a> (<a href=\"https://wandb.me/run\" target=\"_blank\">docs</a>)<br/>"
      ]
     },
     "metadata": {},
     "output_type": "display_data"
    },
    {
     "name": "stdout",
     "output_type": "stream",
     "text": [
      "[2024-11-06 15:27:56,985 - root - INFO] Generate seed(s) for class: 7.\n",
      "[2024-11-06 15:27:56,993 - root - INFO] \tFound 1 valid seed(s) after: 1 iterations.\n",
      "[2024-11-06 15:27:56,997 - root - INFO] Running Search-Algorithm for 20 generations.\n"
     ]
    },
    {
     "name": "stderr",
     "output_type": "stream",
     "text": [
      "/home/oliver/PycharmProjects/NeuralStyle/src/objective_functions/_ssim.py:40: RuntimeWarning: invalid value encountered in sqrt\n",
      "  d = np.sqrt(2-s1-s2)\n"
     ]
    },
    {
     "name": "stdout",
     "output_type": "stream",
     "text": [
      "[2024-11-06 15:27:59,406 - root - INFO] \tBest candidate has a fitness of: 0.2661013845242792\n",
      "[2024-11-06 15:27:59,409 - root - INFO] \tReset learner!\n"
     ]
    },
    {
     "data": {
      "text/plain": [
       "<IPython.core.display.HTML object>"
      ],
      "text/html": [
       "Finishing last run (ID:j1lcqzx1) before initializing another..."
      ]
     },
     "metadata": {},
     "output_type": "display_data"
    },
    {
     "data": {
      "text/plain": [
       "<IPython.core.display.HTML object>"
      ],
      "text/html": [
       "Waiting for W&B process to finish... <strong style=\"color:green\">(success).</strong>"
      ]
     },
     "metadata": {},
     "output_type": "display_data"
    },
    {
     "data": {
      "text/plain": [
       "<IPython.core.display.HTML object>"
      ],
      "text/html": [
       "<style>\n",
       "    table.wandb td:nth-child(1) { padding: 0 10px; text-align: left ; width: auto;} td:nth-child(2) {text-align: left ; width: 100%}\n",
       "    .wandb-row { display: flex; flex-direction: row; flex-wrap: wrap; justify-content: flex-start; width: 100% }\n",
       "    .wandb-col { display: flex; flex-direction: column; flex-basis: 100%; flex: 1; padding: 10px; }\n",
       "    </style>\n",
       "<div class=\"wandb-row\"><div class=\"wandb-col\"><h3>Run history:</h3><br/><table class=\"wandb\"><tr><td>max_fitness</td><td>▁▂▃▄▄▄▄▇█▆▆▆▅▇▅▅▆▆▆▆</td></tr><tr><td>mean_fitness</td><td>▁▂▁▃▅▃▄▅██▇▆▆█▅▆▄▅▅▅</td></tr><tr><td>min_fitness</td><td>▃▅▃▅▅▄▂▆▃▅▅▇▇█▄▅▁▂▅▇</td></tr><tr><td>std_fitness</td><td>▁▂▃▄▄▅▅▆█▆▄▄▅▇▇▅▆▅▆▃</td></tr></table><br/></div><div class=\"wandb-col\"><h3>Run summary:</h3><br/><table class=\"wandb\"><tr><td>best_fitness</td><td>0.2661</td></tr><tr><td>max_fitness</td><td>0.48099</td></tr><tr><td>mean_fitness</td><td>0.37514</td></tr><tr><td>min_fitness</td><td>0.30681</td></tr><tr><td>std_fitness</td><td>0.03789</td></tr></table><br/></div></div>"
      ]
     },
     "metadata": {},
     "output_type": "display_data"
    },
    {
     "data": {
      "text/plain": [
       "<IPython.core.display.HTML object>"
      ],
      "text/html": [
       "Synced <strong style=\"color:#cdcd00\">tough-silence-135</strong>: <a href=\"https://wandb.ai/oliverweissl/NeuralStyleSearch/runs/j1lcqzx1\" target=\"_blank\">https://wandb.ai/oliverweissl/NeuralStyleSearch/runs/j1lcqzx1</a><br/>Synced 6 W&B file(s), 2 media file(s), 0 artifact file(s) and 0 other file(s)"
      ]
     },
     "metadata": {},
     "output_type": "display_data"
    },
    {
     "data": {
      "text/plain": [
       "<IPython.core.display.HTML object>"
      ],
      "text/html": [
       "Find logs at: <code>./wandb/run-20241106_152749-j1lcqzx1/logs</code>"
      ]
     },
     "metadata": {},
     "output_type": "display_data"
    },
    {
     "data": {
      "text/plain": [
       "<IPython.core.display.HTML object>"
      ],
      "text/html": [
       "Successfully finished last run (ID:j1lcqzx1). Initializing new run:<br/>"
      ]
     },
     "metadata": {},
     "output_type": "display_data"
    },
    {
     "data": {
      "text/plain": [
       "<IPython.core.display.HTML object>"
      ],
      "text/html": [
       "wandb version 0.18.5 is available!  To upgrade, please run:\n",
       " $ pip install wandb --upgrade"
      ]
     },
     "metadata": {},
     "output_type": "display_data"
    },
    {
     "data": {
      "text/plain": [
       "<IPython.core.display.HTML object>"
      ],
      "text/html": [
       "Tracking run with wandb version 0.13.5"
      ]
     },
     "metadata": {},
     "output_type": "display_data"
    },
    {
     "data": {
      "text/plain": [
       "<IPython.core.display.HTML object>"
      ],
      "text/html": [
       "Run data is saved locally in <code>/home/oliver/PycharmProjects/NeuralStyle/wandb/run-20241106_152759-bt8wy7r5</code>"
      ]
     },
     "metadata": {},
     "output_type": "display_data"
    },
    {
     "data": {
      "text/plain": [
       "<IPython.core.display.HTML object>"
      ],
      "text/html": [
       "Syncing run <strong><a href=\"https://wandb.ai/oliverweissl/NeuralStyleSearch/runs/bt8wy7r5\" target=\"_blank\">solar-dew-136</a></strong> to <a href=\"https://wandb.ai/oliverweissl/NeuralStyleSearch\" target=\"_blank\">Weights & Biases</a> (<a href=\"https://wandb.me/run\" target=\"_blank\">docs</a>)<br/>"
      ]
     },
     "metadata": {},
     "output_type": "display_data"
    },
    {
     "name": "stdout",
     "output_type": "stream",
     "text": [
      "[2024-11-06 15:28:09,034 - root - INFO] Generate seed(s) for class: 7.\n",
      "[2024-11-06 15:28:09,044 - root - INFO] \tFound 1 valid seed(s) after: 1 iterations.\n",
      "[2024-11-06 15:28:09,047 - root - INFO] Running Search-Algorithm for 20 generations.\n",
      "[2024-11-06 15:28:11,334 - root - INFO] \tBest candidate has a fitness of: 0.2982663158215815\n",
      "[2024-11-06 15:28:11,337 - root - INFO] \tReset learner!\n"
     ]
    },
    {
     "data": {
      "text/plain": [
       "<IPython.core.display.HTML object>"
      ],
      "text/html": [
       "Finishing last run (ID:bt8wy7r5) before initializing another..."
      ]
     },
     "metadata": {},
     "output_type": "display_data"
    },
    {
     "data": {
      "text/plain": [
       "<IPython.core.display.HTML object>"
      ],
      "text/html": [
       "Waiting for W&B process to finish... <strong style=\"color:green\">(success).</strong>"
      ]
     },
     "metadata": {},
     "output_type": "display_data"
    },
    {
     "data": {
      "text/plain": [
       "<IPython.core.display.HTML object>"
      ],
      "text/html": [
       "<style>\n",
       "    table.wandb td:nth-child(1) { padding: 0 10px; text-align: left ; width: auto;} td:nth-child(2) {text-align: left ; width: 100%}\n",
       "    .wandb-row { display: flex; flex-direction: row; flex-wrap: wrap; justify-content: flex-start; width: 100% }\n",
       "    .wandb-col { display: flex; flex-direction: column; flex-basis: 100%; flex: 1; padding: 10px; }\n",
       "    </style>\n",
       "<div class=\"wandb-row\"><div class=\"wandb-col\"><h3>Run history:</h3><br/><table class=\"wandb\"><tr><td>max_fitness</td><td>▁▄▃▄▅▅▇█▅▃▅▅▅▇█▇▇▇█▆</td></tr><tr><td>mean_fitness</td><td>▂▂▂▂▂▁▄▃▃▃▅▆▄██▇███▇</td></tr><tr><td>min_fitness</td><td>▇█▆▅▁▄▄▄▃▁▃▄▃▂▂▆▅█▃▄</td></tr><tr><td>std_fitness</td><td>▁▃▂▄▆▅▇█▆▅▆▆▆▇▇▇▆▆█▆</td></tr></table><br/></div><div class=\"wandb-col\"><h3>Run summary:</h3><br/><table class=\"wandb\"><tr><td>best_fitness</td><td>0.29827</td></tr><tr><td>max_fitness</td><td>0.6553</td></tr><tr><td>mean_fitness</td><td>0.51247</td></tr><tr><td>min_fitness</td><td>0.3415</td></tr><tr><td>std_fitness</td><td>0.07742</td></tr></table><br/></div></div>"
      ]
     },
     "metadata": {},
     "output_type": "display_data"
    },
    {
     "data": {
      "text/plain": [
       "<IPython.core.display.HTML object>"
      ],
      "text/html": [
       "Synced <strong style=\"color:#cdcd00\">solar-dew-136</strong>: <a href=\"https://wandb.ai/oliverweissl/NeuralStyleSearch/runs/bt8wy7r5\" target=\"_blank\">https://wandb.ai/oliverweissl/NeuralStyleSearch/runs/bt8wy7r5</a><br/>Synced 6 W&B file(s), 2 media file(s), 0 artifact file(s) and 0 other file(s)"
      ]
     },
     "metadata": {},
     "output_type": "display_data"
    },
    {
     "data": {
      "text/plain": [
       "<IPython.core.display.HTML object>"
      ],
      "text/html": [
       "Find logs at: <code>./wandb/run-20241106_152759-bt8wy7r5/logs</code>"
      ]
     },
     "metadata": {},
     "output_type": "display_data"
    },
    {
     "data": {
      "text/plain": [
       "<IPython.core.display.HTML object>"
      ],
      "text/html": [
       "Successfully finished last run (ID:bt8wy7r5). Initializing new run:<br/>"
      ]
     },
     "metadata": {},
     "output_type": "display_data"
    },
    {
     "data": {
      "text/plain": [
       "<IPython.core.display.HTML object>"
      ],
      "text/html": [
       "wandb version 0.18.5 is available!  To upgrade, please run:\n",
       " $ pip install wandb --upgrade"
      ]
     },
     "metadata": {},
     "output_type": "display_data"
    },
    {
     "data": {
      "text/plain": [
       "<IPython.core.display.HTML object>"
      ],
      "text/html": [
       "Tracking run with wandb version 0.13.5"
      ]
     },
     "metadata": {},
     "output_type": "display_data"
    },
    {
     "data": {
      "text/plain": [
       "<IPython.core.display.HTML object>"
      ],
      "text/html": [
       "Run data is saved locally in <code>/home/oliver/PycharmProjects/NeuralStyle/wandb/run-20241106_152811-6rs71ty5</code>"
      ]
     },
     "metadata": {},
     "output_type": "display_data"
    },
    {
     "data": {
      "text/plain": [
       "<IPython.core.display.HTML object>"
      ],
      "text/html": [
       "Syncing run <strong><a href=\"https://wandb.ai/oliverweissl/NeuralStyleSearch/runs/6rs71ty5\" target=\"_blank\">good-brook-137</a></strong> to <a href=\"https://wandb.ai/oliverweissl/NeuralStyleSearch\" target=\"_blank\">Weights & Biases</a> (<a href=\"https://wandb.me/run\" target=\"_blank\">docs</a>)<br/>"
      ]
     },
     "metadata": {},
     "output_type": "display_data"
    },
    {
     "name": "stdout",
     "output_type": "stream",
     "text": [
      "[2024-11-06 15:28:18,791 - root - INFO] Generate seed(s) for class: 7.\n",
      "[2024-11-06 15:28:18,799 - root - INFO] \tFound 1 valid seed(s) after: 1 iterations.\n",
      "[2024-11-06 15:28:18,801 - root - INFO] Running Search-Algorithm for 20 generations.\n",
      "[2024-11-06 15:28:21,112 - root - INFO] \tBest candidate has a fitness of: 0.37815215623753606\n",
      "[2024-11-06 15:28:21,115 - root - INFO] \tReset learner!\n"
     ]
    },
    {
     "name": "stderr",
     "output_type": "stream",
     "text": [
      "/home/oliver/PycharmProjects/NeuralStyle/src/objective_functions/_ssim.py:40: RuntimeWarning: invalid value encountered in sqrt\n",
      "  d = np.sqrt(2-s1-s2)\n"
     ]
    },
    {
     "data": {
      "text/plain": [
       "<IPython.core.display.HTML object>"
      ],
      "text/html": [
       "Finishing last run (ID:6rs71ty5) before initializing another..."
      ]
     },
     "metadata": {},
     "output_type": "display_data"
    },
    {
     "data": {
      "text/plain": [
       "<IPython.core.display.HTML object>"
      ],
      "text/html": [
       "Waiting for W&B process to finish... <strong style=\"color:green\">(success).</strong>"
      ]
     },
     "metadata": {},
     "output_type": "display_data"
    },
    {
     "data": {
      "text/plain": [
       "<IPython.core.display.HTML object>"
      ],
      "text/html": [
       "<style>\n",
       "    table.wandb td:nth-child(1) { padding: 0 10px; text-align: left ; width: auto;} td:nth-child(2) {text-align: left ; width: 100%}\n",
       "    .wandb-row { display: flex; flex-direction: row; flex-wrap: wrap; justify-content: flex-start; width: 100% }\n",
       "    .wandb-col { display: flex; flex-direction: column; flex-basis: 100%; flex: 1; padding: 10px; }\n",
       "    </style>\n",
       "<div class=\"wandb-row\"><div class=\"wandb-col\"><h3>Run history:</h3><br/><table class=\"wandb\"><tr><td>max_fitness</td><td>▁▁▃▆▆▆▅▄▅▅▆▅▆▇▇▇█▇▇▇</td></tr><tr><td>mean_fitness</td><td>▁▁▂▃▄▆▄▄▅▄▅▄▆▆▇▇▇███</td></tr><tr><td>min_fitness</td><td>▇▅▅▅▅▃▃▄▇▂▁▅▄▅▆▄█▇█▅</td></tr><tr><td>std_fitness</td><td>▁▂▃▅▇▆▆▅▆▆█▇▇██▇▇▇▇▆</td></tr></table><br/></div><div class=\"wandb-col\"><h3>Run summary:</h3><br/><table class=\"wandb\"><tr><td>best_fitness</td><td>0.37815</td></tr><tr><td>max_fitness</td><td>0.55427</td></tr><tr><td>mean_fitness</td><td>0.48821</td></tr><tr><td>min_fitness</td><td>0.39674</td></tr><tr><td>std_fitness</td><td>0.04076</td></tr></table><br/></div></div>"
      ]
     },
     "metadata": {},
     "output_type": "display_data"
    },
    {
     "data": {
      "text/plain": [
       "<IPython.core.display.HTML object>"
      ],
      "text/html": [
       "Synced <strong style=\"color:#cdcd00\">good-brook-137</strong>: <a href=\"https://wandb.ai/oliverweissl/NeuralStyleSearch/runs/6rs71ty5\" target=\"_blank\">https://wandb.ai/oliverweissl/NeuralStyleSearch/runs/6rs71ty5</a><br/>Synced 6 W&B file(s), 2 media file(s), 0 artifact file(s) and 0 other file(s)"
      ]
     },
     "metadata": {},
     "output_type": "display_data"
    },
    {
     "data": {
      "text/plain": [
       "<IPython.core.display.HTML object>"
      ],
      "text/html": [
       "Find logs at: <code>./wandb/run-20241106_152811-6rs71ty5/logs</code>"
      ]
     },
     "metadata": {},
     "output_type": "display_data"
    },
    {
     "data": {
      "text/plain": [
       "<IPython.core.display.HTML object>"
      ],
      "text/html": [
       "Successfully finished last run (ID:6rs71ty5). Initializing new run:<br/>"
      ]
     },
     "metadata": {},
     "output_type": "display_data"
    },
    {
     "data": {
      "text/plain": [
       "<IPython.core.display.HTML object>"
      ],
      "text/html": [
       "wandb version 0.18.5 is available!  To upgrade, please run:\n",
       " $ pip install wandb --upgrade"
      ]
     },
     "metadata": {},
     "output_type": "display_data"
    },
    {
     "data": {
      "text/plain": [
       "<IPython.core.display.HTML object>"
      ],
      "text/html": [
       "Tracking run with wandb version 0.13.5"
      ]
     },
     "metadata": {},
     "output_type": "display_data"
    },
    {
     "data": {
      "text/plain": [
       "<IPython.core.display.HTML object>"
      ],
      "text/html": [
       "Run data is saved locally in <code>/home/oliver/PycharmProjects/NeuralStyle/wandb/run-20241106_152821-iffw1fjm</code>"
      ]
     },
     "metadata": {},
     "output_type": "display_data"
    },
    {
     "data": {
      "text/plain": [
       "<IPython.core.display.HTML object>"
      ],
      "text/html": [
       "Syncing run <strong><a href=\"https://wandb.ai/oliverweissl/NeuralStyleSearch/runs/iffw1fjm\" target=\"_blank\">youthful-pine-138</a></strong> to <a href=\"https://wandb.ai/oliverweissl/NeuralStyleSearch\" target=\"_blank\">Weights & Biases</a> (<a href=\"https://wandb.me/run\" target=\"_blank\">docs</a>)<br/>"
      ]
     },
     "metadata": {},
     "output_type": "display_data"
    },
    {
     "name": "stdout",
     "output_type": "stream",
     "text": [
      "[2024-11-06 15:28:28,713 - root - INFO] Generate seed(s) for class: 7.\n",
      "[2024-11-06 15:28:28,721 - root - INFO] \tFound 1 valid seed(s) after: 1 iterations.\n",
      "[2024-11-06 15:28:28,723 - root - INFO] Running Search-Algorithm for 20 generations.\n",
      "[2024-11-06 15:28:31,016 - root - INFO] \tBest candidate has a fitness of: 0.285355115298205\n",
      "[2024-11-06 15:28:31,019 - root - INFO] \tReset learner!\n"
     ]
    },
    {
     "data": {
      "text/plain": [
       "<IPython.core.display.HTML object>"
      ],
      "text/html": [
       "Finishing last run (ID:iffw1fjm) before initializing another..."
      ]
     },
     "metadata": {},
     "output_type": "display_data"
    },
    {
     "data": {
      "text/plain": [
       "<IPython.core.display.HTML object>"
      ],
      "text/html": [
       "Waiting for W&B process to finish... <strong style=\"color:green\">(success).</strong>"
      ]
     },
     "metadata": {},
     "output_type": "display_data"
    },
    {
     "data": {
      "text/plain": [
       "<IPython.core.display.HTML object>"
      ],
      "text/html": [
       "<style>\n",
       "    table.wandb td:nth-child(1) { padding: 0 10px; text-align: left ; width: auto;} td:nth-child(2) {text-align: left ; width: 100%}\n",
       "    .wandb-row { display: flex; flex-direction: row; flex-wrap: wrap; justify-content: flex-start; width: 100% }\n",
       "    .wandb-col { display: flex; flex-direction: column; flex-basis: 100%; flex: 1; padding: 10px; }\n",
       "    </style>\n",
       "<div class=\"wandb-row\"><div class=\"wandb-col\"><h3>Run history:</h3><br/><table class=\"wandb\"><tr><td>max_fitness</td><td>▁▂▅▃▅▆▇▅▅▃█▄▃▄▆▃▇█▇▇</td></tr><tr><td>mean_fitness</td><td>▁▂▃▃▃▄▃▅▅▃▃▂▂▃▄▃▆██▇</td></tr><tr><td>min_fitness</td><td>▇▅▅▂▇▄▂█▄▃▁▅▃▁▆▇▄▇▇▆</td></tr><tr><td>std_fitness</td><td>▁▂▃▃▆▆▆▆▄▄▆▄▄▅▄▃▆█▇▆</td></tr></table><br/></div><div class=\"wandb-col\"><h3>Run summary:</h3><br/><table class=\"wandb\"><tr><td>best_fitness</td><td>0.28536</td></tr><tr><td>max_fitness</td><td>0.45173</td></tr><tr><td>mean_fitness</td><td>0.35386</td></tr><tr><td>min_fitness</td><td>0.30279</td></tr><tr><td>std_fitness</td><td>0.03421</td></tr></table><br/></div></div>"
      ]
     },
     "metadata": {},
     "output_type": "display_data"
    },
    {
     "data": {
      "text/plain": [
       "<IPython.core.display.HTML object>"
      ],
      "text/html": [
       "Synced <strong style=\"color:#cdcd00\">youthful-pine-138</strong>: <a href=\"https://wandb.ai/oliverweissl/NeuralStyleSearch/runs/iffw1fjm\" target=\"_blank\">https://wandb.ai/oliverweissl/NeuralStyleSearch/runs/iffw1fjm</a><br/>Synced 6 W&B file(s), 2 media file(s), 0 artifact file(s) and 0 other file(s)"
      ]
     },
     "metadata": {},
     "output_type": "display_data"
    },
    {
     "data": {
      "text/plain": [
       "<IPython.core.display.HTML object>"
      ],
      "text/html": [
       "Find logs at: <code>./wandb/run-20241106_152821-iffw1fjm/logs</code>"
      ]
     },
     "metadata": {},
     "output_type": "display_data"
    },
    {
     "data": {
      "text/plain": [
       "<IPython.core.display.HTML object>"
      ],
      "text/html": [
       "Successfully finished last run (ID:iffw1fjm). Initializing new run:<br/>"
      ]
     },
     "metadata": {},
     "output_type": "display_data"
    },
    {
     "data": {
      "text/plain": [
       "<IPython.core.display.HTML object>"
      ],
      "text/html": [
       "wandb version 0.18.5 is available!  To upgrade, please run:\n",
       " $ pip install wandb --upgrade"
      ]
     },
     "metadata": {},
     "output_type": "display_data"
    },
    {
     "data": {
      "text/plain": [
       "<IPython.core.display.HTML object>"
      ],
      "text/html": [
       "Tracking run with wandb version 0.13.5"
      ]
     },
     "metadata": {},
     "output_type": "display_data"
    },
    {
     "data": {
      "text/plain": [
       "<IPython.core.display.HTML object>"
      ],
      "text/html": [
       "Run data is saved locally in <code>/home/oliver/PycharmProjects/NeuralStyle/wandb/run-20241106_152831-o3aholsh</code>"
      ]
     },
     "metadata": {},
     "output_type": "display_data"
    },
    {
     "data": {
      "text/plain": [
       "<IPython.core.display.HTML object>"
      ],
      "text/html": [
       "Syncing run <strong><a href=\"https://wandb.ai/oliverweissl/NeuralStyleSearch/runs/o3aholsh\" target=\"_blank\">chocolate-breeze-139</a></strong> to <a href=\"https://wandb.ai/oliverweissl/NeuralStyleSearch\" target=\"_blank\">Weights & Biases</a> (<a href=\"https://wandb.me/run\" target=\"_blank\">docs</a>)<br/>"
      ]
     },
     "metadata": {},
     "output_type": "display_data"
    },
    {
     "name": "stdout",
     "output_type": "stream",
     "text": [
      "[2024-11-06 15:28:40,952 - root - INFO] Generate seed(s) for class: 7.\n",
      "[2024-11-06 15:28:40,959 - root - INFO] \tFound 1 valid seed(s) after: 1 iterations.\n",
      "[2024-11-06 15:28:40,962 - root - INFO] Running Search-Algorithm for 20 generations.\n",
      "[2024-11-06 15:28:43,287 - root - INFO] \tBest candidate has a fitness of: 0.3931793216504389\n",
      "[2024-11-06 15:28:43,380 - root - INFO] \tReset learner!\n"
     ]
    },
    {
     "data": {
      "text/plain": [
       "<IPython.core.display.HTML object>"
      ],
      "text/html": [
       "Finishing last run (ID:o3aholsh) before initializing another..."
      ]
     },
     "metadata": {},
     "output_type": "display_data"
    },
    {
     "data": {
      "text/plain": [
       "<IPython.core.display.HTML object>"
      ],
      "text/html": [
       "Waiting for W&B process to finish... <strong style=\"color:green\">(success).</strong>"
      ]
     },
     "metadata": {},
     "output_type": "display_data"
    },
    {
     "data": {
      "text/plain": [
       "<IPython.core.display.HTML object>"
      ],
      "text/html": [
       "<style>\n",
       "    table.wandb td:nth-child(1) { padding: 0 10px; text-align: left ; width: auto;} td:nth-child(2) {text-align: left ; width: 100%}\n",
       "    .wandb-row { display: flex; flex-direction: row; flex-wrap: wrap; justify-content: flex-start; width: 100% }\n",
       "    .wandb-col { display: flex; flex-direction: column; flex-basis: 100%; flex: 1; padding: 10px; }\n",
       "    </style>\n",
       "<div class=\"wandb-row\"><div class=\"wandb-col\"><h3>Run history:</h3><br/><table class=\"wandb\"><tr><td>max_fitness</td><td>▁▂▃▅▄▄▅▄▆▆▆▅▅▅▅▆█▄█▆</td></tr><tr><td>mean_fitness</td><td>▁▁▁▁▃▁▂▄▄▂▅▄▆▆▇█▇▅▇▆</td></tr><tr><td>min_fitness</td><td>▅▄▄▄▅▄▅▇▄▃▆▁▅▃█▆▇▄▄▄</td></tr><tr><td>std_fitness</td><td>▁▂▄▅▄▆▄▂▇█▅▅▃▅▃▅▅▅█▇</td></tr></table><br/></div><div class=\"wandb-col\"><h3>Run summary:</h3><br/><table class=\"wandb\"><tr><td>best_fitness</td><td>0.39318</td></tr><tr><td>max_fitness</td><td>0.64657</td></tr><tr><td>mean_fitness</td><td>0.5473</td></tr><tr><td>min_fitness</td><td>0.429</td></tr><tr><td>std_fitness</td><td>0.05544</td></tr></table><br/></div></div>"
      ]
     },
     "metadata": {},
     "output_type": "display_data"
    },
    {
     "data": {
      "text/plain": [
       "<IPython.core.display.HTML object>"
      ],
      "text/html": [
       "Synced <strong style=\"color:#cdcd00\">chocolate-breeze-139</strong>: <a href=\"https://wandb.ai/oliverweissl/NeuralStyleSearch/runs/o3aholsh\" target=\"_blank\">https://wandb.ai/oliverweissl/NeuralStyleSearch/runs/o3aholsh</a><br/>Synced 6 W&B file(s), 2 media file(s), 0 artifact file(s) and 0 other file(s)"
      ]
     },
     "metadata": {},
     "output_type": "display_data"
    },
    {
     "data": {
      "text/plain": [
       "<IPython.core.display.HTML object>"
      ],
      "text/html": [
       "Find logs at: <code>./wandb/run-20241106_152831-o3aholsh/logs</code>"
      ]
     },
     "metadata": {},
     "output_type": "display_data"
    },
    {
     "data": {
      "text/plain": [
       "<IPython.core.display.HTML object>"
      ],
      "text/html": [
       "Successfully finished last run (ID:o3aholsh). Initializing new run:<br/>"
      ]
     },
     "metadata": {},
     "output_type": "display_data"
    },
    {
     "data": {
      "text/plain": [
       "<IPython.core.display.HTML object>"
      ],
      "text/html": [
       "wandb version 0.18.5 is available!  To upgrade, please run:\n",
       " $ pip install wandb --upgrade"
      ]
     },
     "metadata": {},
     "output_type": "display_data"
    },
    {
     "data": {
      "text/plain": [
       "<IPython.core.display.HTML object>"
      ],
      "text/html": [
       "Tracking run with wandb version 0.13.5"
      ]
     },
     "metadata": {},
     "output_type": "display_data"
    },
    {
     "data": {
      "text/plain": [
       "<IPython.core.display.HTML object>"
      ],
      "text/html": [
       "Run data is saved locally in <code>/home/oliver/PycharmProjects/NeuralStyle/wandb/run-20241106_152843-tqcilwtm</code>"
      ]
     },
     "metadata": {},
     "output_type": "display_data"
    },
    {
     "data": {
      "text/plain": [
       "<IPython.core.display.HTML object>"
      ],
      "text/html": [
       "Syncing run <strong><a href=\"https://wandb.ai/oliverweissl/NeuralStyleSearch/runs/tqcilwtm\" target=\"_blank\">legendary-plasma-140</a></strong> to <a href=\"https://wandb.ai/oliverweissl/NeuralStyleSearch\" target=\"_blank\">Weights & Biases</a> (<a href=\"https://wandb.me/run\" target=\"_blank\">docs</a>)<br/>"
      ]
     },
     "metadata": {},
     "output_type": "display_data"
    },
    {
     "name": "stdout",
     "output_type": "stream",
     "text": [
      "[2024-11-06 15:28:55,482 - root - INFO] Generate seed(s) for class: 7.\n",
      "[2024-11-06 15:28:55,490 - root - INFO] \tFound 1 valid seed(s) after: 1 iterations.\n",
      "[2024-11-06 15:28:55,492 - root - INFO] Running Search-Algorithm for 20 generations.\n"
     ]
    },
    {
     "name": "stderr",
     "output_type": "stream",
     "text": [
      "/home/oliver/PycharmProjects/NeuralStyle/src/objective_functions/_ssim.py:40: RuntimeWarning: invalid value encountered in sqrt\n",
      "  d = np.sqrt(2-s1-s2)\n"
     ]
    },
    {
     "name": "stdout",
     "output_type": "stream",
     "text": [
      "[2024-11-06 15:28:57,863 - root - INFO] \tBest candidate has a fitness of: 0.29968955552952825\n",
      "[2024-11-06 15:28:57,865 - root - INFO] \tReset learner!\n"
     ]
    },
    {
     "data": {
      "text/plain": [
       "<IPython.core.display.HTML object>"
      ],
      "text/html": [
       "Finishing last run (ID:tqcilwtm) before initializing another..."
      ]
     },
     "metadata": {},
     "output_type": "display_data"
    },
    {
     "data": {
      "text/plain": [
       "<IPython.core.display.HTML object>"
      ],
      "text/html": [
       "Waiting for W&B process to finish... <strong style=\"color:green\">(success).</strong>"
      ]
     },
     "metadata": {},
     "output_type": "display_data"
    },
    {
     "data": {
      "text/plain": [
       "<IPython.core.display.HTML object>"
      ],
      "text/html": [
       "<style>\n",
       "    table.wandb td:nth-child(1) { padding: 0 10px; text-align: left ; width: auto;} td:nth-child(2) {text-align: left ; width: 100%}\n",
       "    .wandb-row { display: flex; flex-direction: row; flex-wrap: wrap; justify-content: flex-start; width: 100% }\n",
       "    .wandb-col { display: flex; flex-direction: column; flex-basis: 100%; flex: 1; padding: 10px; }\n",
       "    </style>\n",
       "<div class=\"wandb-row\"><div class=\"wandb-col\"><h3>Run history:</h3><br/><table class=\"wandb\"><tr><td>max_fitness</td><td>▁▂▄▄▂▅▄▅▆█▆▅▆▆▆▇▇▇█▇</td></tr><tr><td>mean_fitness</td><td>▁▁▂▃▃▄▄▄▅▅▄▆▆▆▆█▇█▇█</td></tr><tr><td>min_fitness</td><td>▅▃▂▄▂█▂▂▃▂▁▂▂▂▆▆▆█▂▂</td></tr><tr><td>std_fitness</td><td>▁▂▃▄▃▃▃▄▅▆▅▄▅▆▄▄▄▅█▅</td></tr></table><br/></div><div class=\"wandb-col\"><h3>Run summary:</h3><br/><table class=\"wandb\"><tr><td>best_fitness</td><td>0.29969</td></tr><tr><td>max_fitness</td><td>0.63553</td></tr><tr><td>mean_fitness</td><td>0.51313</td></tr><tr><td>min_fitness</td><td>0.3205</td></tr><tr><td>std_fitness</td><td>0.06508</td></tr></table><br/></div></div>"
      ]
     },
     "metadata": {},
     "output_type": "display_data"
    },
    {
     "data": {
      "text/plain": [
       "<IPython.core.display.HTML object>"
      ],
      "text/html": [
       "Synced <strong style=\"color:#cdcd00\">legendary-plasma-140</strong>: <a href=\"https://wandb.ai/oliverweissl/NeuralStyleSearch/runs/tqcilwtm\" target=\"_blank\">https://wandb.ai/oliverweissl/NeuralStyleSearch/runs/tqcilwtm</a><br/>Synced 6 W&B file(s), 2 media file(s), 0 artifact file(s) and 0 other file(s)"
      ]
     },
     "metadata": {},
     "output_type": "display_data"
    },
    {
     "data": {
      "text/plain": [
       "<IPython.core.display.HTML object>"
      ],
      "text/html": [
       "Find logs at: <code>./wandb/run-20241106_152843-tqcilwtm/logs</code>"
      ]
     },
     "metadata": {},
     "output_type": "display_data"
    },
    {
     "data": {
      "text/plain": [
       "<IPython.core.display.HTML object>"
      ],
      "text/html": [
       "Successfully finished last run (ID:tqcilwtm). Initializing new run:<br/>"
      ]
     },
     "metadata": {},
     "output_type": "display_data"
    },
    {
     "data": {
      "text/plain": [
       "<IPython.core.display.HTML object>"
      ],
      "text/html": [
       "wandb version 0.18.5 is available!  To upgrade, please run:\n",
       " $ pip install wandb --upgrade"
      ]
     },
     "metadata": {},
     "output_type": "display_data"
    },
    {
     "data": {
      "text/plain": [
       "<IPython.core.display.HTML object>"
      ],
      "text/html": [
       "Tracking run with wandb version 0.13.5"
      ]
     },
     "metadata": {},
     "output_type": "display_data"
    },
    {
     "data": {
      "text/plain": [
       "<IPython.core.display.HTML object>"
      ],
      "text/html": [
       "Run data is saved locally in <code>/home/oliver/PycharmProjects/NeuralStyle/wandb/run-20241106_152857-ueud1ygl</code>"
      ]
     },
     "metadata": {},
     "output_type": "display_data"
    },
    {
     "data": {
      "text/plain": [
       "<IPython.core.display.HTML object>"
      ],
      "text/html": [
       "Syncing run <strong><a href=\"https://wandb.ai/oliverweissl/NeuralStyleSearch/runs/ueud1ygl\" target=\"_blank\">rural-monkey-141</a></strong> to <a href=\"https://wandb.ai/oliverweissl/NeuralStyleSearch\" target=\"_blank\">Weights & Biases</a> (<a href=\"https://wandb.me/run\" target=\"_blank\">docs</a>)<br/>"
      ]
     },
     "metadata": {},
     "output_type": "display_data"
    },
    {
     "name": "stdout",
     "output_type": "stream",
     "text": [
      "[2024-11-06 15:29:07,147 - root - INFO] Generate seed(s) for class: 7.\n",
      "[2024-11-06 15:29:07,155 - root - INFO] \tFound 1 valid seed(s) after: 1 iterations.\n",
      "[2024-11-06 15:29:07,158 - root - INFO] Running Search-Algorithm for 20 generations.\n",
      "[2024-11-06 15:29:09,668 - root - INFO] \tBest candidate has a fitness of: 0.276649380091601\n",
      "[2024-11-06 15:29:09,670 - root - INFO] \tReset learner!\n"
     ]
    },
    {
     "name": "stderr",
     "output_type": "stream",
     "text": [
      "/home/oliver/PycharmProjects/NeuralStyle/src/objective_functions/_ssim.py:40: RuntimeWarning: invalid value encountered in sqrt\n",
      "  d = np.sqrt(2-s1-s2)\n"
     ]
    },
    {
     "data": {
      "text/plain": [
       "<IPython.core.display.HTML object>"
      ],
      "text/html": [
       "Finishing last run (ID:ueud1ygl) before initializing another..."
      ]
     },
     "metadata": {},
     "output_type": "display_data"
    },
    {
     "data": {
      "text/plain": [
       "<IPython.core.display.HTML object>"
      ],
      "text/html": [
       "Waiting for W&B process to finish... <strong style=\"color:green\">(success).</strong>"
      ]
     },
     "metadata": {},
     "output_type": "display_data"
    },
    {
     "data": {
      "text/plain": [
       "<IPython.core.display.HTML object>"
      ],
      "text/html": [
       "<style>\n",
       "    table.wandb td:nth-child(1) { padding: 0 10px; text-align: left ; width: auto;} td:nth-child(2) {text-align: left ; width: 100%}\n",
       "    .wandb-row { display: flex; flex-direction: row; flex-wrap: wrap; justify-content: flex-start; width: 100% }\n",
       "    .wandb-col { display: flex; flex-direction: column; flex-basis: 100%; flex: 1; padding: 10px; }\n",
       "    </style>\n",
       "<div class=\"wandb-row\"><div class=\"wandb-col\"><h3>Run history:</h3><br/><table class=\"wandb\"><tr><td>max_fitness</td><td>▁▅▅▅▆▅█▆▆▆▆▆▄▆▇▇▆▅▃▆</td></tr><tr><td>mean_fitness</td><td>▄▁▁▃▄▃▄▆▄▅▃▄▅▃▅▇▇█▆▆</td></tr><tr><td>min_fitness</td><td>▄▂▃▄▂▄▂▁▃▂▂▃▃▁▁▂▇█▅▄</td></tr><tr><td>std_fitness</td><td>▂▅▆▅▅▆▅▆▆█▇▆▆▆▆▄▂▁▁▅</td></tr></table><br/></div><div class=\"wandb-col\"><h3>Run summary:</h3><br/><table class=\"wandb\"><tr><td>best_fitness</td><td>0.27665</td></tr><tr><td>max_fitness</td><td>0.59877</td></tr><tr><td>mean_fitness</td><td>0.47841</td></tr><tr><td>min_fitness</td><td>0.33878</td></tr><tr><td>std_fitness</td><td>0.07248</td></tr></table><br/></div></div>"
      ]
     },
     "metadata": {},
     "output_type": "display_data"
    },
    {
     "data": {
      "text/plain": [
       "<IPython.core.display.HTML object>"
      ],
      "text/html": [
       "Synced <strong style=\"color:#cdcd00\">rural-monkey-141</strong>: <a href=\"https://wandb.ai/oliverweissl/NeuralStyleSearch/runs/ueud1ygl\" target=\"_blank\">https://wandb.ai/oliverweissl/NeuralStyleSearch/runs/ueud1ygl</a><br/>Synced 6 W&B file(s), 2 media file(s), 0 artifact file(s) and 0 other file(s)"
      ]
     },
     "metadata": {},
     "output_type": "display_data"
    },
    {
     "data": {
      "text/plain": [
       "<IPython.core.display.HTML object>"
      ],
      "text/html": [
       "Find logs at: <code>./wandb/run-20241106_152857-ueud1ygl/logs</code>"
      ]
     },
     "metadata": {},
     "output_type": "display_data"
    },
    {
     "data": {
      "text/plain": [
       "<IPython.core.display.HTML object>"
      ],
      "text/html": [
       "Successfully finished last run (ID:ueud1ygl). Initializing new run:<br/>"
      ]
     },
     "metadata": {},
     "output_type": "display_data"
    },
    {
     "data": {
      "text/plain": [
       "<IPython.core.display.HTML object>"
      ],
      "text/html": [
       "wandb version 0.18.5 is available!  To upgrade, please run:\n",
       " $ pip install wandb --upgrade"
      ]
     },
     "metadata": {},
     "output_type": "display_data"
    },
    {
     "data": {
      "text/plain": [
       "<IPython.core.display.HTML object>"
      ],
      "text/html": [
       "Tracking run with wandb version 0.13.5"
      ]
     },
     "metadata": {},
     "output_type": "display_data"
    },
    {
     "data": {
      "text/plain": [
       "<IPython.core.display.HTML object>"
      ],
      "text/html": [
       "Run data is saved locally in <code>/home/oliver/PycharmProjects/NeuralStyle/wandb/run-20241106_152909-dwcs5ls1</code>"
      ]
     },
     "metadata": {},
     "output_type": "display_data"
    },
    {
     "data": {
      "text/plain": [
       "<IPython.core.display.HTML object>"
      ],
      "text/html": [
       "Syncing run <strong><a href=\"https://wandb.ai/oliverweissl/NeuralStyleSearch/runs/dwcs5ls1\" target=\"_blank\">worthy-glitter-142</a></strong> to <a href=\"https://wandb.ai/oliverweissl/NeuralStyleSearch\" target=\"_blank\">Weights & Biases</a> (<a href=\"https://wandb.me/run\" target=\"_blank\">docs</a>)<br/>"
      ]
     },
     "metadata": {},
     "output_type": "display_data"
    },
    {
     "name": "stdout",
     "output_type": "stream",
     "text": [
      "[2024-11-06 15:29:17,353 - root - INFO] Generate seed(s) for class: 7.\n",
      "[2024-11-06 15:29:17,361 - root - INFO] \tFound 1 valid seed(s) after: 1 iterations.\n",
      "[2024-11-06 15:29:17,363 - root - INFO] Running Search-Algorithm for 20 generations.\n",
      "[2024-11-06 15:29:19,681 - root - INFO] \tBest candidate has a fitness of: 0.2385719064511591\n",
      "[2024-11-06 15:29:19,684 - root - INFO] \tReset learner!\n"
     ]
    },
    {
     "data": {
      "text/plain": [
       "<IPython.core.display.HTML object>"
      ],
      "text/html": [
       "Finishing last run (ID:dwcs5ls1) before initializing another..."
      ]
     },
     "metadata": {},
     "output_type": "display_data"
    },
    {
     "data": {
      "text/plain": [
       "<IPython.core.display.HTML object>"
      ],
      "text/html": [
       "Waiting for W&B process to finish... <strong style=\"color:green\">(success).</strong>"
      ]
     },
     "metadata": {},
     "output_type": "display_data"
    },
    {
     "data": {
      "text/plain": [
       "<IPython.core.display.HTML object>"
      ],
      "text/html": [
       "<style>\n",
       "    table.wandb td:nth-child(1) { padding: 0 10px; text-align: left ; width: auto;} td:nth-child(2) {text-align: left ; width: 100%}\n",
       "    .wandb-row { display: flex; flex-direction: row; flex-wrap: wrap; justify-content: flex-start; width: 100% }\n",
       "    .wandb-col { display: flex; flex-direction: column; flex-basis: 100%; flex: 1; padding: 10px; }\n",
       "    </style>\n",
       "<div class=\"wandb-row\"><div class=\"wandb-col\"><h3>Run history:</h3><br/><table class=\"wandb\"><tr><td>max_fitness</td><td>▁▃▃▆▄▃▅▅▆▄▅▅▆▅██▆▅▇▇</td></tr><tr><td>mean_fitness</td><td>▁▁▁▃▂▂▄▄▄▄▃▃▅▆▆██▇▇█</td></tr><tr><td>min_fitness</td><td>▇█▆▆▆▁▄▅▃▆▆▄▄▆▅▄▄▃█▆</td></tr><tr><td>std_fitness</td><td>▁▂▂▅▅▅▆▆█▄▄▆▆▅▆▇█▅▄▅</td></tr></table><br/></div><div class=\"wandb-col\"><h3>Run summary:</h3><br/><table class=\"wandb\"><tr><td>best_fitness</td><td>0.23857</td></tr><tr><td>max_fitness</td><td>0.59728</td></tr><tr><td>mean_fitness</td><td>0.44515</td></tr><tr><td>min_fitness</td><td>0.28606</td></tr><tr><td>std_fitness</td><td>0.07113</td></tr></table><br/></div></div>"
      ]
     },
     "metadata": {},
     "output_type": "display_data"
    },
    {
     "data": {
      "text/plain": [
       "<IPython.core.display.HTML object>"
      ],
      "text/html": [
       "Synced <strong style=\"color:#cdcd00\">worthy-glitter-142</strong>: <a href=\"https://wandb.ai/oliverweissl/NeuralStyleSearch/runs/dwcs5ls1\" target=\"_blank\">https://wandb.ai/oliverweissl/NeuralStyleSearch/runs/dwcs5ls1</a><br/>Synced 6 W&B file(s), 2 media file(s), 0 artifact file(s) and 0 other file(s)"
      ]
     },
     "metadata": {},
     "output_type": "display_data"
    },
    {
     "data": {
      "text/plain": [
       "<IPython.core.display.HTML object>"
      ],
      "text/html": [
       "Find logs at: <code>./wandb/run-20241106_152909-dwcs5ls1/logs</code>"
      ]
     },
     "metadata": {},
     "output_type": "display_data"
    },
    {
     "data": {
      "text/plain": [
       "<IPython.core.display.HTML object>"
      ],
      "text/html": [
       "Successfully finished last run (ID:dwcs5ls1). Initializing new run:<br/>"
      ]
     },
     "metadata": {},
     "output_type": "display_data"
    },
    {
     "data": {
      "text/plain": [
       "<IPython.core.display.HTML object>"
      ],
      "text/html": [
       "wandb version 0.18.5 is available!  To upgrade, please run:\n",
       " $ pip install wandb --upgrade"
      ]
     },
     "metadata": {},
     "output_type": "display_data"
    },
    {
     "data": {
      "text/plain": [
       "<IPython.core.display.HTML object>"
      ],
      "text/html": [
       "Tracking run with wandb version 0.13.5"
      ]
     },
     "metadata": {},
     "output_type": "display_data"
    },
    {
     "data": {
      "text/plain": [
       "<IPython.core.display.HTML object>"
      ],
      "text/html": [
       "Run data is saved locally in <code>/home/oliver/PycharmProjects/NeuralStyle/wandb/run-20241106_152919-e1tdl7ad</code>"
      ]
     },
     "metadata": {},
     "output_type": "display_data"
    },
    {
     "data": {
      "text/plain": [
       "<IPython.core.display.HTML object>"
      ],
      "text/html": [
       "Syncing run <strong><a href=\"https://wandb.ai/oliverweissl/NeuralStyleSearch/runs/e1tdl7ad\" target=\"_blank\">noble-durian-143</a></strong> to <a href=\"https://wandb.ai/oliverweissl/NeuralStyleSearch\" target=\"_blank\">Weights & Biases</a> (<a href=\"https://wandb.me/run\" target=\"_blank\">docs</a>)<br/>"
      ]
     },
     "metadata": {},
     "output_type": "display_data"
    },
    {
     "name": "stdout",
     "output_type": "stream",
     "text": [
      "[2024-11-06 15:29:27,248 - root - INFO] Generate seed(s) for class: 7.\n",
      "[2024-11-06 15:29:27,255 - root - INFO] \tFound 1 valid seed(s) after: 1 iterations.\n",
      "[2024-11-06 15:29:27,259 - root - INFO] Running Search-Algorithm for 20 generations.\n",
      "[2024-11-06 15:29:29,523 - root - INFO] \tBest candidate has a fitness of: 0.35740067994969427\n",
      "[2024-11-06 15:29:29,526 - root - INFO] \tReset learner!\n"
     ]
    },
    {
     "data": {
      "text/plain": [
       "<IPython.core.display.HTML object>"
      ],
      "text/html": [
       "Finishing last run (ID:e1tdl7ad) before initializing another..."
      ]
     },
     "metadata": {},
     "output_type": "display_data"
    },
    {
     "data": {
      "text/plain": [
       "<IPython.core.display.HTML object>"
      ],
      "text/html": [
       "Waiting for W&B process to finish... <strong style=\"color:green\">(success).</strong>"
      ]
     },
     "metadata": {},
     "output_type": "display_data"
    },
    {
     "data": {
      "text/plain": [
       "<IPython.core.display.HTML object>"
      ],
      "text/html": [
       "<style>\n",
       "    table.wandb td:nth-child(1) { padding: 0 10px; text-align: left ; width: auto;} td:nth-child(2) {text-align: left ; width: 100%}\n",
       "    .wandb-row { display: flex; flex-direction: row; flex-wrap: wrap; justify-content: flex-start; width: 100% }\n",
       "    .wandb-col { display: flex; flex-direction: column; flex-basis: 100%; flex: 1; padding: 10px; }\n",
       "    </style>\n",
       "<div class=\"wandb-row\"><div class=\"wandb-col\"><h3>Run history:</h3><br/><table class=\"wandb\"><tr><td>max_fitness</td><td>▁▄▃▃▅▇▆█▆▇▅▃▄██▆▆▁▅▅</td></tr><tr><td>mean_fitness</td><td>▇█▇▇▇▇▅▆▂▁▃▁▅▅▆▂▄▂▄▃</td></tr><tr><td>min_fitness</td><td>▇█▇▄▃▅▃▅▄▁▁▃▃▂▂▁▂▃▃▂</td></tr><tr><td>std_fitness</td><td>▁▁▂▄▄▄▆▅▆▇█▆▅▆█▇▇▅▄▇</td></tr></table><br/></div><div class=\"wandb-col\"><h3>Run summary:</h3><br/><table class=\"wandb\"><tr><td>best_fitness</td><td>0.3574</td></tr><tr><td>max_fitness</td><td>0.46502</td></tr><tr><td>mean_fitness</td><td>0.41892</td></tr><tr><td>min_fitness</td><td>0.36818</td></tr><tr><td>std_fitness</td><td>0.02453</td></tr></table><br/></div></div>"
      ]
     },
     "metadata": {},
     "output_type": "display_data"
    },
    {
     "data": {
      "text/plain": [
       "<IPython.core.display.HTML object>"
      ],
      "text/html": [
       "Synced <strong style=\"color:#cdcd00\">noble-durian-143</strong>: <a href=\"https://wandb.ai/oliverweissl/NeuralStyleSearch/runs/e1tdl7ad\" target=\"_blank\">https://wandb.ai/oliverweissl/NeuralStyleSearch/runs/e1tdl7ad</a><br/>Synced 6 W&B file(s), 2 media file(s), 0 artifact file(s) and 0 other file(s)"
      ]
     },
     "metadata": {},
     "output_type": "display_data"
    },
    {
     "data": {
      "text/plain": [
       "<IPython.core.display.HTML object>"
      ],
      "text/html": [
       "Find logs at: <code>./wandb/run-20241106_152919-e1tdl7ad/logs</code>"
      ]
     },
     "metadata": {},
     "output_type": "display_data"
    },
    {
     "data": {
      "text/plain": [
       "<IPython.core.display.HTML object>"
      ],
      "text/html": [
       "Successfully finished last run (ID:e1tdl7ad). Initializing new run:<br/>"
      ]
     },
     "metadata": {},
     "output_type": "display_data"
    },
    {
     "data": {
      "text/plain": [
       "<IPython.core.display.HTML object>"
      ],
      "text/html": [
       "wandb version 0.18.5 is available!  To upgrade, please run:\n",
       " $ pip install wandb --upgrade"
      ]
     },
     "metadata": {},
     "output_type": "display_data"
    },
    {
     "data": {
      "text/plain": [
       "<IPython.core.display.HTML object>"
      ],
      "text/html": [
       "Tracking run with wandb version 0.13.5"
      ]
     },
     "metadata": {},
     "output_type": "display_data"
    },
    {
     "data": {
      "text/plain": [
       "<IPython.core.display.HTML object>"
      ],
      "text/html": [
       "Run data is saved locally in <code>/home/oliver/PycharmProjects/NeuralStyle/wandb/run-20241106_152929-lmy8ylme</code>"
      ]
     },
     "metadata": {},
     "output_type": "display_data"
    },
    {
     "data": {
      "text/plain": [
       "<IPython.core.display.HTML object>"
      ],
      "text/html": [
       "Syncing run <strong><a href=\"https://wandb.ai/oliverweissl/NeuralStyleSearch/runs/lmy8ylme\" target=\"_blank\">floral-bee-144</a></strong> to <a href=\"https://wandb.ai/oliverweissl/NeuralStyleSearch\" target=\"_blank\">Weights & Biases</a> (<a href=\"https://wandb.me/run\" target=\"_blank\">docs</a>)<br/>"
      ]
     },
     "metadata": {},
     "output_type": "display_data"
    },
    {
     "name": "stdout",
     "output_type": "stream",
     "text": [
      "[2024-11-06 15:29:37,267 - root - INFO] Generate seed(s) for class: 8.\n",
      "[2024-11-06 15:29:37,510 - root - INFO] \tFound 1 valid seed(s) after: 41 iterations.\n",
      "[2024-11-06 15:29:37,513 - root - INFO] Running Search-Algorithm for 20 generations.\n",
      "[2024-11-06 15:29:39,866 - root - INFO] \tBest candidate has a fitness of: 0.18889322317021429\n",
      "[2024-11-06 15:29:39,868 - root - INFO] \tReset learner!\n"
     ]
    },
    {
     "data": {
      "text/plain": [
       "<IPython.core.display.HTML object>"
      ],
      "text/html": [
       "Finishing last run (ID:lmy8ylme) before initializing another..."
      ]
     },
     "metadata": {},
     "output_type": "display_data"
    },
    {
     "data": {
      "text/plain": [
       "<IPython.core.display.HTML object>"
      ],
      "text/html": [
       "Waiting for W&B process to finish... <strong style=\"color:green\">(success).</strong>"
      ]
     },
     "metadata": {},
     "output_type": "display_data"
    },
    {
     "data": {
      "text/plain": [
       "<IPython.core.display.HTML object>"
      ],
      "text/html": [
       "<style>\n",
       "    table.wandb td:nth-child(1) { padding: 0 10px; text-align: left ; width: auto;} td:nth-child(2) {text-align: left ; width: 100%}\n",
       "    .wandb-row { display: flex; flex-direction: row; flex-wrap: wrap; justify-content: flex-start; width: 100% }\n",
       "    .wandb-col { display: flex; flex-direction: column; flex-basis: 100%; flex: 1; padding: 10px; }\n",
       "    </style>\n",
       "<div class=\"wandb-row\"><div class=\"wandb-col\"><h3>Run history:</h3><br/><table class=\"wandb\"><tr><td>max_fitness</td><td>▁▁▁▁▁▁▁▁▁▁▁▁▁▁▁▁▁▁▁▁</td></tr><tr><td>mean_fitness</td><td>█▆▆▅▃▃▄▄▃▂▂▂▂▂▂▁▂▃▂▃</td></tr><tr><td>min_fitness</td><td>██▆▃▅▃▄▇▃▄▄▅▄▁▅▅▃▃▄▆</td></tr><tr><td>std_fitness</td><td>▁▆▇█▇▆█▇▆▄▅▄▄▄▄▁▄▆▃▆</td></tr></table><br/></div><div class=\"wandb-col\"><h3>Run summary:</h3><br/><table class=\"wandb\"><tr><td>best_fitness</td><td>0.18889</td></tr><tr><td>max_fitness</td><td>1.0</td></tr><tr><td>mean_fitness</td><td>0.54633</td></tr><tr><td>min_fitness</td><td>0.25287</td></tr><tr><td>std_fitness</td><td>0.32234</td></tr></table><br/></div></div>"
      ]
     },
     "metadata": {},
     "output_type": "display_data"
    },
    {
     "data": {
      "text/plain": [
       "<IPython.core.display.HTML object>"
      ],
      "text/html": [
       "Synced <strong style=\"color:#cdcd00\">floral-bee-144</strong>: <a href=\"https://wandb.ai/oliverweissl/NeuralStyleSearch/runs/lmy8ylme\" target=\"_blank\">https://wandb.ai/oliverweissl/NeuralStyleSearch/runs/lmy8ylme</a><br/>Synced 6 W&B file(s), 2 media file(s), 0 artifact file(s) and 0 other file(s)"
      ]
     },
     "metadata": {},
     "output_type": "display_data"
    },
    {
     "data": {
      "text/plain": [
       "<IPython.core.display.HTML object>"
      ],
      "text/html": [
       "Find logs at: <code>./wandb/run-20241106_152929-lmy8ylme/logs</code>"
      ]
     },
     "metadata": {},
     "output_type": "display_data"
    },
    {
     "data": {
      "text/plain": [
       "<IPython.core.display.HTML object>"
      ],
      "text/html": [
       "Successfully finished last run (ID:lmy8ylme). Initializing new run:<br/>"
      ]
     },
     "metadata": {},
     "output_type": "display_data"
    },
    {
     "data": {
      "text/plain": [
       "<IPython.core.display.HTML object>"
      ],
      "text/html": [
       "wandb version 0.18.5 is available!  To upgrade, please run:\n",
       " $ pip install wandb --upgrade"
      ]
     },
     "metadata": {},
     "output_type": "display_data"
    },
    {
     "data": {
      "text/plain": [
       "<IPython.core.display.HTML object>"
      ],
      "text/html": [
       "Tracking run with wandb version 0.13.5"
      ]
     },
     "metadata": {},
     "output_type": "display_data"
    },
    {
     "data": {
      "text/plain": [
       "<IPython.core.display.HTML object>"
      ],
      "text/html": [
       "Run data is saved locally in <code>/home/oliver/PycharmProjects/NeuralStyle/wandb/run-20241106_152939-3ittup05</code>"
      ]
     },
     "metadata": {},
     "output_type": "display_data"
    },
    {
     "data": {
      "text/plain": [
       "<IPython.core.display.HTML object>"
      ],
      "text/html": [
       "Syncing run <strong><a href=\"https://wandb.ai/oliverweissl/NeuralStyleSearch/runs/3ittup05\" target=\"_blank\">bumbling-plasma-145</a></strong> to <a href=\"https://wandb.ai/oliverweissl/NeuralStyleSearch\" target=\"_blank\">Weights & Biases</a> (<a href=\"https://wandb.me/run\" target=\"_blank\">docs</a>)<br/>"
      ]
     },
     "metadata": {},
     "output_type": "display_data"
    },
    {
     "name": "stdout",
     "output_type": "stream",
     "text": [
      "[2024-11-06 15:29:47,254 - root - INFO] Generate seed(s) for class: 8.\n",
      "[2024-11-06 15:29:47,508 - root - INFO] \tFound 1 valid seed(s) after: 36 iterations.\n",
      "[2024-11-06 15:29:47,511 - root - INFO] Running Search-Algorithm for 20 generations.\n",
      "[2024-11-06 15:29:49,873 - root - INFO] \tBest candidate has a fitness of: 0.26073100603001653\n",
      "[2024-11-06 15:29:49,876 - root - INFO] \tReset learner!\n"
     ]
    },
    {
     "data": {
      "text/plain": [
       "<IPython.core.display.HTML object>"
      ],
      "text/html": [
       "Finishing last run (ID:3ittup05) before initializing another..."
      ]
     },
     "metadata": {},
     "output_type": "display_data"
    },
    {
     "data": {
      "text/plain": [
       "<IPython.core.display.HTML object>"
      ],
      "text/html": [
       "Waiting for W&B process to finish... <strong style=\"color:green\">(success).</strong>"
      ]
     },
     "metadata": {},
     "output_type": "display_data"
    },
    {
     "data": {
      "text/plain": [
       "<IPython.core.display.HTML object>"
      ],
      "text/html": [
       "<style>\n",
       "    table.wandb td:nth-child(1) { padding: 0 10px; text-align: left ; width: auto;} td:nth-child(2) {text-align: left ; width: 100%}\n",
       "    .wandb-row { display: flex; flex-direction: row; flex-wrap: wrap; justify-content: flex-start; width: 100% }\n",
       "    .wandb-col { display: flex; flex-direction: column; flex-basis: 100%; flex: 1; padding: 10px; }\n",
       "    </style>\n",
       "<div class=\"wandb-row\"><div class=\"wandb-col\"><h3>Run history:</h3><br/><table class=\"wandb\"><tr><td>max_fitness</td><td>▁▂▂▆█▆▇▆▆▇▇▆▆▇▇▆▆▇▆▅</td></tr><tr><td>mean_fitness</td><td>▁▁▂▂▂▃▄▅▆▇▆▆▆▇▇█▇▄▃▄</td></tr><tr><td>min_fitness</td><td>▇█▆▆▅▃▆▅▅▄▃▄▆█▇█▆▁▁▁</td></tr><tr><td>std_fitness</td><td>▁▂▂▄▆▅▅▅▆▆▆▆▆▅▅▅▆▇█▇</td></tr></table><br/></div><div class=\"wandb-col\"><h3>Run summary:</h3><br/><table class=\"wandb\"><tr><td>best_fitness</td><td>0.26073</td></tr><tr><td>max_fitness</td><td>0.38964</td></tr><tr><td>mean_fitness</td><td>0.34089</td></tr><tr><td>min_fitness</td><td>0.26341</td></tr><tr><td>std_fitness</td><td>0.03777</td></tr></table><br/></div></div>"
      ]
     },
     "metadata": {},
     "output_type": "display_data"
    },
    {
     "data": {
      "text/plain": [
       "<IPython.core.display.HTML object>"
      ],
      "text/html": [
       "Synced <strong style=\"color:#cdcd00\">bumbling-plasma-145</strong>: <a href=\"https://wandb.ai/oliverweissl/NeuralStyleSearch/runs/3ittup05\" target=\"_blank\">https://wandb.ai/oliverweissl/NeuralStyleSearch/runs/3ittup05</a><br/>Synced 6 W&B file(s), 2 media file(s), 0 artifact file(s) and 0 other file(s)"
      ]
     },
     "metadata": {},
     "output_type": "display_data"
    },
    {
     "data": {
      "text/plain": [
       "<IPython.core.display.HTML object>"
      ],
      "text/html": [
       "Find logs at: <code>./wandb/run-20241106_152939-3ittup05/logs</code>"
      ]
     },
     "metadata": {},
     "output_type": "display_data"
    },
    {
     "data": {
      "text/plain": [
       "<IPython.core.display.HTML object>"
      ],
      "text/html": [
       "Successfully finished last run (ID:3ittup05). Initializing new run:<br/>"
      ]
     },
     "metadata": {},
     "output_type": "display_data"
    },
    {
     "data": {
      "text/plain": [
       "<IPython.core.display.HTML object>"
      ],
      "text/html": [
       "wandb version 0.18.5 is available!  To upgrade, please run:\n",
       " $ pip install wandb --upgrade"
      ]
     },
     "metadata": {},
     "output_type": "display_data"
    },
    {
     "data": {
      "text/plain": [
       "<IPython.core.display.HTML object>"
      ],
      "text/html": [
       "Tracking run with wandb version 0.13.5"
      ]
     },
     "metadata": {},
     "output_type": "display_data"
    },
    {
     "data": {
      "text/plain": [
       "<IPython.core.display.HTML object>"
      ],
      "text/html": [
       "Run data is saved locally in <code>/home/oliver/PycharmProjects/NeuralStyle/wandb/run-20241106_152949-tzgr5u0t</code>"
      ]
     },
     "metadata": {},
     "output_type": "display_data"
    },
    {
     "data": {
      "text/plain": [
       "<IPython.core.display.HTML object>"
      ],
      "text/html": [
       "Syncing run <strong><a href=\"https://wandb.ai/oliverweissl/NeuralStyleSearch/runs/tzgr5u0t\" target=\"_blank\">effortless-frost-146</a></strong> to <a href=\"https://wandb.ai/oliverweissl/NeuralStyleSearch\" target=\"_blank\">Weights & Biases</a> (<a href=\"https://wandb.me/run\" target=\"_blank\">docs</a>)<br/>"
      ]
     },
     "metadata": {},
     "output_type": "display_data"
    },
    {
     "name": "stdout",
     "output_type": "stream",
     "text": [
      "[2024-11-06 15:29:57,013 - root - INFO] Generate seed(s) for class: 8.\n",
      "[2024-11-06 15:29:58,507 - root - INFO] \tFound 1 valid seed(s) after: 253 iterations.\n",
      "[2024-11-06 15:29:58,509 - root - INFO] Running Search-Algorithm for 20 generations.\n",
      "[2024-11-06 15:30:00,749 - root - INFO] \tBest candidate has a fitness of: 0.28727057016270696\n",
      "[2024-11-06 15:30:00,752 - root - INFO] \tReset learner!\n"
     ]
    },
    {
     "data": {
      "text/plain": [
       "<IPython.core.display.HTML object>"
      ],
      "text/html": [
       "Finishing last run (ID:tzgr5u0t) before initializing another..."
      ]
     },
     "metadata": {},
     "output_type": "display_data"
    },
    {
     "data": {
      "text/plain": [
       "<IPython.core.display.HTML object>"
      ],
      "text/html": [
       "Waiting for W&B process to finish... <strong style=\"color:green\">(success).</strong>"
      ]
     },
     "metadata": {},
     "output_type": "display_data"
    },
    {
     "data": {
      "text/plain": [
       "<IPython.core.display.HTML object>"
      ],
      "text/html": [
       "<style>\n",
       "    table.wandb td:nth-child(1) { padding: 0 10px; text-align: left ; width: auto;} td:nth-child(2) {text-align: left ; width: 100%}\n",
       "    .wandb-row { display: flex; flex-direction: row; flex-wrap: wrap; justify-content: flex-start; width: 100% }\n",
       "    .wandb-col { display: flex; flex-direction: column; flex-basis: 100%; flex: 1; padding: 10px; }\n",
       "    </style>\n",
       "<div class=\"wandb-row\"><div class=\"wandb-col\"><h3>Run history:</h3><br/><table class=\"wandb\"><tr><td>max_fitness</td><td>███████████████████▁</td></tr><tr><td>mean_fitness</td><td>█▃▄▄▄▄▁▃▃▄▃▃▁▂▄▂▂▂▂▁</td></tr><tr><td>min_fitness</td><td>▇▆▆▇▇█▅█▄▇▄▃▄▄█▁▁▃▆▇</td></tr><tr><td>std_fitness</td><td>█▆▆▆▇▇▃▆▆▆▆▅▃▃▅▅▄▃▄▁</td></tr></table><br/></div><div class=\"wandb-col\"><h3>Run summary:</h3><br/><table class=\"wandb\"><tr><td>best_fitness</td><td>0.28727</td></tr><tr><td>max_fitness</td><td>0.51026</td></tr><tr><td>mean_fitness</td><td>0.43649</td></tr><tr><td>min_fitness</td><td>0.36758</td></tr><tr><td>std_fitness</td><td>0.04486</td></tr></table><br/></div></div>"
      ]
     },
     "metadata": {},
     "output_type": "display_data"
    },
    {
     "data": {
      "text/plain": [
       "<IPython.core.display.HTML object>"
      ],
      "text/html": [
       "Synced <strong style=\"color:#cdcd00\">effortless-frost-146</strong>: <a href=\"https://wandb.ai/oliverweissl/NeuralStyleSearch/runs/tzgr5u0t\" target=\"_blank\">https://wandb.ai/oliverweissl/NeuralStyleSearch/runs/tzgr5u0t</a><br/>Synced 6 W&B file(s), 2 media file(s), 0 artifact file(s) and 0 other file(s)"
      ]
     },
     "metadata": {},
     "output_type": "display_data"
    },
    {
     "data": {
      "text/plain": [
       "<IPython.core.display.HTML object>"
      ],
      "text/html": [
       "Find logs at: <code>./wandb/run-20241106_152949-tzgr5u0t/logs</code>"
      ]
     },
     "metadata": {},
     "output_type": "display_data"
    },
    {
     "data": {
      "text/plain": [
       "<IPython.core.display.HTML object>"
      ],
      "text/html": [
       "Successfully finished last run (ID:tzgr5u0t). Initializing new run:<br/>"
      ]
     },
     "metadata": {},
     "output_type": "display_data"
    },
    {
     "data": {
      "text/plain": [
       "<IPython.core.display.HTML object>"
      ],
      "text/html": [
       "wandb version 0.18.5 is available!  To upgrade, please run:\n",
       " $ pip install wandb --upgrade"
      ]
     },
     "metadata": {},
     "output_type": "display_data"
    },
    {
     "data": {
      "text/plain": [
       "<IPython.core.display.HTML object>"
      ],
      "text/html": [
       "Tracking run with wandb version 0.13.5"
      ]
     },
     "metadata": {},
     "output_type": "display_data"
    },
    {
     "data": {
      "text/plain": [
       "<IPython.core.display.HTML object>"
      ],
      "text/html": [
       "Run data is saved locally in <code>/home/oliver/PycharmProjects/NeuralStyle/wandb/run-20241106_153000-16ccjj7o</code>"
      ]
     },
     "metadata": {},
     "output_type": "display_data"
    },
    {
     "data": {
      "text/plain": [
       "<IPython.core.display.HTML object>"
      ],
      "text/html": [
       "Syncing run <strong><a href=\"https://wandb.ai/oliverweissl/NeuralStyleSearch/runs/16ccjj7o\" target=\"_blank\">sleek-oath-147</a></strong> to <a href=\"https://wandb.ai/oliverweissl/NeuralStyleSearch\" target=\"_blank\">Weights & Biases</a> (<a href=\"https://wandb.me/run\" target=\"_blank\">docs</a>)<br/>"
      ]
     },
     "metadata": {},
     "output_type": "display_data"
    },
    {
     "name": "stdout",
     "output_type": "stream",
     "text": [
      "[2024-11-06 15:30:06,892 - root - INFO] Generate seed(s) for class: 8.\n",
      "[2024-11-06 15:30:06,899 - root - INFO] \tFound 1 valid seed(s) after: 1 iterations.\n",
      "[2024-11-06 15:30:06,902 - root - INFO] Running Search-Algorithm for 20 generations.\n"
     ]
    },
    {
     "name": "stderr",
     "output_type": "stream",
     "text": [
      "/home/oliver/PycharmProjects/NeuralStyle/src/objective_functions/_ssim.py:40: RuntimeWarning: invalid value encountered in sqrt\n",
      "  d = np.sqrt(2-s1-s2)\n"
     ]
    },
    {
     "name": "stdout",
     "output_type": "stream",
     "text": [
      "[2024-11-06 15:30:09,305 - root - INFO] \tBest candidate has a fitness of: 0.41056647336857854\n",
      "[2024-11-06 15:30:09,307 - root - INFO] \tReset learner!\n"
     ]
    },
    {
     "data": {
      "text/plain": [
       "<IPython.core.display.HTML object>"
      ],
      "text/html": [
       "Finishing last run (ID:16ccjj7o) before initializing another..."
      ]
     },
     "metadata": {},
     "output_type": "display_data"
    },
    {
     "data": {
      "text/plain": [
       "<IPython.core.display.HTML object>"
      ],
      "text/html": [
       "Waiting for W&B process to finish... <strong style=\"color:green\">(success).</strong>"
      ]
     },
     "metadata": {},
     "output_type": "display_data"
    },
    {
     "data": {
      "text/plain": [
       "<IPython.core.display.HTML object>"
      ],
      "text/html": [
       "<style>\n",
       "    table.wandb td:nth-child(1) { padding: 0 10px; text-align: left ; width: auto;} td:nth-child(2) {text-align: left ; width: 100%}\n",
       "    .wandb-row { display: flex; flex-direction: row; flex-wrap: wrap; justify-content: flex-start; width: 100% }\n",
       "    .wandb-col { display: flex; flex-direction: column; flex-basis: 100%; flex: 1; padding: 10px; }\n",
       "    </style>\n",
       "<div class=\"wandb-row\"><div class=\"wandb-col\"><h3>Run history:</h3><br/><table class=\"wandb\"><tr><td>max_fitness</td><td>▁███▂█▂▃▃█ █▃▂▃ █▃▂▂</td></tr><tr><td>mean_fitness</td><td>▃▅▄▇▃▅▆▅▆█ ▇▆▆▆ ▅▄▁▄</td></tr><tr><td>min_fitness</td><td>█▅▄▃▅▄▇▆▅▆ ▂▁▇▅ ▃▅▁▄</td></tr><tr><td>std_fitness</td><td>▁▇▇▇▃█▄▅▅▇ ▇▅▅▅ █▅▅▄</td></tr></table><br/></div><div class=\"wandb-col\"><h3>Run summary:</h3><br/><table class=\"wandb\"><tr><td>best_fitness</td><td>0.41057</td></tr><tr><td>max_fitness</td><td>0.7067</td></tr><tr><td>mean_fitness</td><td>0.58922</td></tr><tr><td>min_fitness</td><td>0.44739</td></tr><tr><td>std_fitness</td><td>0.06736</td></tr></table><br/></div></div>"
      ]
     },
     "metadata": {},
     "output_type": "display_data"
    },
    {
     "data": {
      "text/plain": [
       "<IPython.core.display.HTML object>"
      ],
      "text/html": [
       "Synced <strong style=\"color:#cdcd00\">sleek-oath-147</strong>: <a href=\"https://wandb.ai/oliverweissl/NeuralStyleSearch/runs/16ccjj7o\" target=\"_blank\">https://wandb.ai/oliverweissl/NeuralStyleSearch/runs/16ccjj7o</a><br/>Synced 6 W&B file(s), 2 media file(s), 0 artifact file(s) and 0 other file(s)"
      ]
     },
     "metadata": {},
     "output_type": "display_data"
    },
    {
     "data": {
      "text/plain": [
       "<IPython.core.display.HTML object>"
      ],
      "text/html": [
       "Find logs at: <code>./wandb/run-20241106_153000-16ccjj7o/logs</code>"
      ]
     },
     "metadata": {},
     "output_type": "display_data"
    },
    {
     "data": {
      "text/plain": [
       "<IPython.core.display.HTML object>"
      ],
      "text/html": [
       "Successfully finished last run (ID:16ccjj7o). Initializing new run:<br/>"
      ]
     },
     "metadata": {},
     "output_type": "display_data"
    },
    {
     "data": {
      "text/plain": [
       "<IPython.core.display.HTML object>"
      ],
      "text/html": [
       "wandb version 0.18.5 is available!  To upgrade, please run:\n",
       " $ pip install wandb --upgrade"
      ]
     },
     "metadata": {},
     "output_type": "display_data"
    },
    {
     "data": {
      "text/plain": [
       "<IPython.core.display.HTML object>"
      ],
      "text/html": [
       "Tracking run with wandb version 0.13.5"
      ]
     },
     "metadata": {},
     "output_type": "display_data"
    },
    {
     "data": {
      "text/plain": [
       "<IPython.core.display.HTML object>"
      ],
      "text/html": [
       "Run data is saved locally in <code>/home/oliver/PycharmProjects/NeuralStyle/wandb/run-20241106_153009-v2eh5fml</code>"
      ]
     },
     "metadata": {},
     "output_type": "display_data"
    },
    {
     "data": {
      "text/plain": [
       "<IPython.core.display.HTML object>"
      ],
      "text/html": [
       "Syncing run <strong><a href=\"https://wandb.ai/oliverweissl/NeuralStyleSearch/runs/v2eh5fml\" target=\"_blank\">neat-dream-148</a></strong> to <a href=\"https://wandb.ai/oliverweissl/NeuralStyleSearch\" target=\"_blank\">Weights & Biases</a> (<a href=\"https://wandb.me/run\" target=\"_blank\">docs</a>)<br/>"
      ]
     },
     "metadata": {},
     "output_type": "display_data"
    },
    {
     "name": "stdout",
     "output_type": "stream",
     "text": [
      "[2024-11-06 15:30:17,715 - root - INFO] Generate seed(s) for class: 8.\n",
      "[2024-11-06 15:30:21,506 - root - INFO] \tFound 1 valid seed(s) after: 666 iterations.\n",
      "[2024-11-06 15:30:21,509 - root - INFO] Running Search-Algorithm for 20 generations.\n",
      "[2024-11-06 15:30:23,725 - root - INFO] \tBest candidate has a fitness of: 0.38299312627690374\n",
      "[2024-11-06 15:30:23,727 - root - INFO] \tReset learner!\n"
     ]
    },
    {
     "data": {
      "text/plain": [
       "<IPython.core.display.HTML object>"
      ],
      "text/html": [
       "Finishing last run (ID:v2eh5fml) before initializing another..."
      ]
     },
     "metadata": {},
     "output_type": "display_data"
    },
    {
     "data": {
      "text/plain": [
       "<IPython.core.display.HTML object>"
      ],
      "text/html": [
       "Waiting for W&B process to finish... <strong style=\"color:green\">(success).</strong>"
      ]
     },
     "metadata": {},
     "output_type": "display_data"
    },
    {
     "data": {
      "text/plain": [
       "<IPython.core.display.HTML object>"
      ],
      "text/html": [
       "<style>\n",
       "    table.wandb td:nth-child(1) { padding: 0 10px; text-align: left ; width: auto;} td:nth-child(2) {text-align: left ; width: 100%}\n",
       "    .wandb-row { display: flex; flex-direction: row; flex-wrap: wrap; justify-content: flex-start; width: 100% }\n",
       "    .wandb-col { display: flex; flex-direction: column; flex-basis: 100%; flex: 1; padding: 10px; }\n",
       "    </style>\n",
       "<div class=\"wandb-row\"><div class=\"wandb-col\"><h3>Run history:</h3><br/><table class=\"wandb\"><tr><td>max_fitness</td><td>▂▃▁▂▄▄█▅▅▆▆▃▄▄█▇▇▄▅▆</td></tr><tr><td>mean_fitness</td><td>▁▁▂▄▄▄▆▅▇▄▅▆▅▆▇▆▇█▇█</td></tr><tr><td>min_fitness</td><td>█▇▃▇▂▅▃▆▅▂▁▆▄▆▃▃▆█▂▅</td></tr><tr><td>std_fitness</td><td>▁▂▅▅▅▅▄▅▆▇█▅▇▄▇▆▄▃▅▄</td></tr></table><br/></div><div class=\"wandb-col\"><h3>Run summary:</h3><br/><table class=\"wandb\"><tr><td>best_fitness</td><td>0.38299</td></tr><tr><td>max_fitness</td><td>0.59699</td></tr><tr><td>mean_fitness</td><td>0.5254</td></tr><tr><td>min_fitness</td><td>0.40721</td></tr><tr><td>std_fitness</td><td>0.0487</td></tr></table><br/></div></div>"
      ]
     },
     "metadata": {},
     "output_type": "display_data"
    },
    {
     "data": {
      "text/plain": [
       "<IPython.core.display.HTML object>"
      ],
      "text/html": [
       "Synced <strong style=\"color:#cdcd00\">neat-dream-148</strong>: <a href=\"https://wandb.ai/oliverweissl/NeuralStyleSearch/runs/v2eh5fml\" target=\"_blank\">https://wandb.ai/oliverweissl/NeuralStyleSearch/runs/v2eh5fml</a><br/>Synced 6 W&B file(s), 2 media file(s), 0 artifact file(s) and 0 other file(s)"
      ]
     },
     "metadata": {},
     "output_type": "display_data"
    },
    {
     "data": {
      "text/plain": [
       "<IPython.core.display.HTML object>"
      ],
      "text/html": [
       "Find logs at: <code>./wandb/run-20241106_153009-v2eh5fml/logs</code>"
      ]
     },
     "metadata": {},
     "output_type": "display_data"
    },
    {
     "data": {
      "text/plain": [
       "<IPython.core.display.HTML object>"
      ],
      "text/html": [
       "Successfully finished last run (ID:v2eh5fml). Initializing new run:<br/>"
      ]
     },
     "metadata": {},
     "output_type": "display_data"
    },
    {
     "data": {
      "text/plain": [
       "<IPython.core.display.HTML object>"
      ],
      "text/html": [
       "wandb version 0.18.5 is available!  To upgrade, please run:\n",
       " $ pip install wandb --upgrade"
      ]
     },
     "metadata": {},
     "output_type": "display_data"
    },
    {
     "data": {
      "text/plain": [
       "<IPython.core.display.HTML object>"
      ],
      "text/html": [
       "Tracking run with wandb version 0.13.5"
      ]
     },
     "metadata": {},
     "output_type": "display_data"
    },
    {
     "data": {
      "text/plain": [
       "<IPython.core.display.HTML object>"
      ],
      "text/html": [
       "Run data is saved locally in <code>/home/oliver/PycharmProjects/NeuralStyle/wandb/run-20241106_153023-po82vr6j</code>"
      ]
     },
     "metadata": {},
     "output_type": "display_data"
    },
    {
     "data": {
      "text/plain": [
       "<IPython.core.display.HTML object>"
      ],
      "text/html": [
       "Syncing run <strong><a href=\"https://wandb.ai/oliverweissl/NeuralStyleSearch/runs/po82vr6j\" target=\"_blank\">rich-monkey-149</a></strong> to <a href=\"https://wandb.ai/oliverweissl/NeuralStyleSearch\" target=\"_blank\">Weights & Biases</a> (<a href=\"https://wandb.me/run\" target=\"_blank\">docs</a>)<br/>"
      ]
     },
     "metadata": {},
     "output_type": "display_data"
    },
    {
     "name": "stdout",
     "output_type": "stream",
     "text": [
      "[2024-11-06 15:30:31,506 - root - INFO] Generate seed(s) for class: 8.\n",
      "[2024-11-06 15:30:31,522 - root - INFO] \tFound 1 valid seed(s) after: 1 iterations.\n",
      "[2024-11-06 15:30:31,532 - root - INFO] Running Search-Algorithm for 20 generations.\n",
      "[2024-11-06 15:30:34,014 - root - INFO] \tBest candidate has a fitness of: 0.39709320104497015\n",
      "[2024-11-06 15:30:34,016 - root - INFO] \tReset learner!\n"
     ]
    },
    {
     "data": {
      "text/plain": [
       "<IPython.core.display.HTML object>"
      ],
      "text/html": [
       "Finishing last run (ID:po82vr6j) before initializing another..."
      ]
     },
     "metadata": {},
     "output_type": "display_data"
    },
    {
     "data": {
      "text/plain": [
       "<IPython.core.display.HTML object>"
      ],
      "text/html": [
       "Waiting for W&B process to finish... <strong style=\"color:green\">(success).</strong>"
      ]
     },
     "metadata": {},
     "output_type": "display_data"
    },
    {
     "data": {
      "text/plain": [
       "<IPython.core.display.HTML object>"
      ],
      "text/html": [
       "<style>\n",
       "    table.wandb td:nth-child(1) { padding: 0 10px; text-align: left ; width: auto;} td:nth-child(2) {text-align: left ; width: 100%}\n",
       "    .wandb-row { display: flex; flex-direction: row; flex-wrap: wrap; justify-content: flex-start; width: 100% }\n",
       "    .wandb-col { display: flex; flex-direction: column; flex-basis: 100%; flex: 1; padding: 10px; }\n",
       "    </style>\n",
       "<div class=\"wandb-row\"><div class=\"wandb-col\"><h3>Run history:</h3><br/><table class=\"wandb\"><tr><td>max_fitness</td><td>▃▂▆▃▅▅▇█▇▇▆▅▆▇▃▇▆▁▄▃</td></tr><tr><td>mean_fitness</td><td>▄▄▆▁▆▇▇█▆▅▆▅▇▆▁▂▇▂▁▅</td></tr><tr><td>min_fitness</td><td>█▇█▁█▂▇▆▇▃▄▇▂▅▅▂▃▃▄▅</td></tr><tr><td>std_fitness</td><td>▁▃▄▃▄▅▅▆▅█▅▅█▅▃▆▅▃▄▄</td></tr></table><br/></div><div class=\"wandb-col\"><h3>Run summary:</h3><br/><table class=\"wandb\"><tr><td>best_fitness</td><td>0.39709</td></tr><tr><td>max_fitness</td><td>0.61095</td></tr><tr><td>mean_fitness</td><td>0.53927</td></tr><tr><td>min_fitness</td><td>0.43727</td></tr><tr><td>std_fitness</td><td>0.04471</td></tr></table><br/></div></div>"
      ]
     },
     "metadata": {},
     "output_type": "display_data"
    },
    {
     "data": {
      "text/plain": [
       "<IPython.core.display.HTML object>"
      ],
      "text/html": [
       "Synced <strong style=\"color:#cdcd00\">rich-monkey-149</strong>: <a href=\"https://wandb.ai/oliverweissl/NeuralStyleSearch/runs/po82vr6j\" target=\"_blank\">https://wandb.ai/oliverweissl/NeuralStyleSearch/runs/po82vr6j</a><br/>Synced 6 W&B file(s), 2 media file(s), 0 artifact file(s) and 0 other file(s)"
      ]
     },
     "metadata": {},
     "output_type": "display_data"
    },
    {
     "data": {
      "text/plain": [
       "<IPython.core.display.HTML object>"
      ],
      "text/html": [
       "Find logs at: <code>./wandb/run-20241106_153023-po82vr6j/logs</code>"
      ]
     },
     "metadata": {},
     "output_type": "display_data"
    },
    {
     "data": {
      "text/plain": [
       "<IPython.core.display.HTML object>"
      ],
      "text/html": [
       "Successfully finished last run (ID:po82vr6j). Initializing new run:<br/>"
      ]
     },
     "metadata": {},
     "output_type": "display_data"
    },
    {
     "data": {
      "text/plain": [
       "<IPython.core.display.HTML object>"
      ],
      "text/html": [
       "wandb version 0.18.5 is available!  To upgrade, please run:\n",
       " $ pip install wandb --upgrade"
      ]
     },
     "metadata": {},
     "output_type": "display_data"
    },
    {
     "data": {
      "text/plain": [
       "<IPython.core.display.HTML object>"
      ],
      "text/html": [
       "Tracking run with wandb version 0.13.5"
      ]
     },
     "metadata": {},
     "output_type": "display_data"
    },
    {
     "data": {
      "text/plain": [
       "<IPython.core.display.HTML object>"
      ],
      "text/html": [
       "Run data is saved locally in <code>/home/oliver/PycharmProjects/NeuralStyle/wandb/run-20241106_153034-xm479rhw</code>"
      ]
     },
     "metadata": {},
     "output_type": "display_data"
    },
    {
     "data": {
      "text/plain": [
       "<IPython.core.display.HTML object>"
      ],
      "text/html": [
       "Syncing run <strong><a href=\"https://wandb.ai/oliverweissl/NeuralStyleSearch/runs/xm479rhw\" target=\"_blank\">radiant-breeze-150</a></strong> to <a href=\"https://wandb.ai/oliverweissl/NeuralStyleSearch\" target=\"_blank\">Weights & Biases</a> (<a href=\"https://wandb.me/run\" target=\"_blank\">docs</a>)<br/>"
      ]
     },
     "metadata": {},
     "output_type": "display_data"
    },
    {
     "name": "stdout",
     "output_type": "stream",
     "text": [
      "[2024-11-06 15:30:41,379 - root - INFO] Generate seed(s) for class: 8.\n",
      "[2024-11-06 15:30:42,508 - root - INFO] \tFound 1 valid seed(s) after: 189 iterations.\n",
      "[2024-11-06 15:30:42,510 - root - INFO] Running Search-Algorithm for 20 generations.\n"
     ]
    },
    {
     "name": "stderr",
     "output_type": "stream",
     "text": [
      "/home/oliver/PycharmProjects/NeuralStyle/src/objective_functions/_ssim.py:40: RuntimeWarning: invalid value encountered in sqrt\n",
      "  d = np.sqrt(2-s1-s2)\n"
     ]
    },
    {
     "name": "stdout",
     "output_type": "stream",
     "text": [
      "[2024-11-06 15:30:44,759 - root - INFO] \tBest candidate has a fitness of: 0.24966158903019964\n",
      "[2024-11-06 15:30:44,762 - root - INFO] \tReset learner!\n"
     ]
    },
    {
     "data": {
      "text/plain": [
       "<IPython.core.display.HTML object>"
      ],
      "text/html": [
       "Finishing last run (ID:xm479rhw) before initializing another..."
      ]
     },
     "metadata": {},
     "output_type": "display_data"
    },
    {
     "data": {
      "text/plain": [
       "<IPython.core.display.HTML object>"
      ],
      "text/html": [
       "Waiting for W&B process to finish... <strong style=\"color:green\">(success).</strong>"
      ]
     },
     "metadata": {},
     "output_type": "display_data"
    },
    {
     "data": {
      "text/plain": [
       "<IPython.core.display.HTML object>"
      ],
      "text/html": [
       "<style>\n",
       "    table.wandb td:nth-child(1) { padding: 0 10px; text-align: left ; width: auto;} td:nth-child(2) {text-align: left ; width: 100%}\n",
       "    .wandb-row { display: flex; flex-direction: row; flex-wrap: wrap; justify-content: flex-start; width: 100% }\n",
       "    .wandb-col { display: flex; flex-direction: column; flex-basis: 100%; flex: 1; padding: 10px; }\n",
       "    </style>\n",
       "<div class=\"wandb-row\"><div class=\"wandb-col\"><h3>Run history:</h3><br/><table class=\"wandb\"><tr><td>max_fitness</td><td>▁▆█▇▆▂▆▅▄▆▅▅▅▆▆▅▄▇▇▄</td></tr><tr><td>mean_fitness</td><td>▁▁▂▃▃▂▄▃▃▄▅█▆▇▇▅▅▄▆▃</td></tr><tr><td>min_fitness</td><td>▇▆█▅▇▅▆▆▆▇▇▆▅▇█▁▂▅▂▅</td></tr><tr><td>std_fitness</td><td>▁▆▇▆▆▅▆▆▅▅▆▆▆▅▅▆▅██▆</td></tr></table><br/></div><div class=\"wandb-col\"><h3>Run summary:</h3><br/><table class=\"wandb\"><tr><td>best_fitness</td><td>0.24966</td></tr><tr><td>max_fitness</td><td>0.43784</td></tr><tr><td>mean_fitness</td><td>0.35753</td></tr><tr><td>min_fitness</td><td>0.27931</td></tr><tr><td>std_fitness</td><td>0.0417</td></tr></table><br/></div></div>"
      ]
     },
     "metadata": {},
     "output_type": "display_data"
    },
    {
     "data": {
      "text/plain": [
       "<IPython.core.display.HTML object>"
      ],
      "text/html": [
       "Synced <strong style=\"color:#cdcd00\">radiant-breeze-150</strong>: <a href=\"https://wandb.ai/oliverweissl/NeuralStyleSearch/runs/xm479rhw\" target=\"_blank\">https://wandb.ai/oliverweissl/NeuralStyleSearch/runs/xm479rhw</a><br/>Synced 6 W&B file(s), 2 media file(s), 0 artifact file(s) and 0 other file(s)"
      ]
     },
     "metadata": {},
     "output_type": "display_data"
    },
    {
     "data": {
      "text/plain": [
       "<IPython.core.display.HTML object>"
      ],
      "text/html": [
       "Find logs at: <code>./wandb/run-20241106_153034-xm479rhw/logs</code>"
      ]
     },
     "metadata": {},
     "output_type": "display_data"
    },
    {
     "data": {
      "text/plain": [
       "<IPython.core.display.HTML object>"
      ],
      "text/html": [
       "Successfully finished last run (ID:xm479rhw). Initializing new run:<br/>"
      ]
     },
     "metadata": {},
     "output_type": "display_data"
    },
    {
     "data": {
      "text/plain": [
       "<IPython.core.display.HTML object>"
      ],
      "text/html": [
       "wandb version 0.18.5 is available!  To upgrade, please run:\n",
       " $ pip install wandb --upgrade"
      ]
     },
     "metadata": {},
     "output_type": "display_data"
    },
    {
     "data": {
      "text/plain": [
       "<IPython.core.display.HTML object>"
      ],
      "text/html": [
       "Tracking run with wandb version 0.13.5"
      ]
     },
     "metadata": {},
     "output_type": "display_data"
    },
    {
     "data": {
      "text/plain": [
       "<IPython.core.display.HTML object>"
      ],
      "text/html": [
       "Run data is saved locally in <code>/home/oliver/PycharmProjects/NeuralStyle/wandb/run-20241106_153044-ixthiggl</code>"
      ]
     },
     "metadata": {},
     "output_type": "display_data"
    },
    {
     "data": {
      "text/plain": [
       "<IPython.core.display.HTML object>"
      ],
      "text/html": [
       "Syncing run <strong><a href=\"https://wandb.ai/oliverweissl/NeuralStyleSearch/runs/ixthiggl\" target=\"_blank\">vital-field-151</a></strong> to <a href=\"https://wandb.ai/oliverweissl/NeuralStyleSearch\" target=\"_blank\">Weights & Biases</a> (<a href=\"https://wandb.me/run\" target=\"_blank\">docs</a>)<br/>"
      ]
     },
     "metadata": {},
     "output_type": "display_data"
    },
    {
     "name": "stdout",
     "output_type": "stream",
     "text": [
      "[2024-11-06 15:30:51,109 - root - INFO] Generate seed(s) for class: 8.\n",
      "[2024-11-06 15:30:51,509 - root - INFO] \tFound 1 valid seed(s) after: 63 iterations.\n",
      "[2024-11-06 15:30:51,512 - root - INFO] Running Search-Algorithm for 20 generations.\n"
     ]
    },
    {
     "name": "stderr",
     "output_type": "stream",
     "text": [
      "/home/oliver/PycharmProjects/NeuralStyle/src/objective_functions/_ssim.py:40: RuntimeWarning: invalid value encountered in sqrt\n",
      "  d = np.sqrt(2-s1-s2)\n"
     ]
    },
    {
     "name": "stdout",
     "output_type": "stream",
     "text": [
      "[2024-11-06 15:30:53,843 - root - INFO] \tBest candidate has a fitness of: 0.2806910518445307\n",
      "[2024-11-06 15:30:53,846 - root - INFO] \tReset learner!\n"
     ]
    },
    {
     "data": {
      "text/plain": [
       "<IPython.core.display.HTML object>"
      ],
      "text/html": [
       "Finishing last run (ID:ixthiggl) before initializing another..."
      ]
     },
     "metadata": {},
     "output_type": "display_data"
    },
    {
     "data": {
      "text/plain": [
       "<IPython.core.display.HTML object>"
      ],
      "text/html": [
       "Waiting for W&B process to finish... <strong style=\"color:green\">(success).</strong>"
      ]
     },
     "metadata": {},
     "output_type": "display_data"
    },
    {
     "data": {
      "text/plain": [
       "<IPython.core.display.HTML object>"
      ],
      "text/html": [
       "<style>\n",
       "    table.wandb td:nth-child(1) { padding: 0 10px; text-align: left ; width: auto;} td:nth-child(2) {text-align: left ; width: 100%}\n",
       "    .wandb-row { display: flex; flex-direction: row; flex-wrap: wrap; justify-content: flex-start; width: 100% }\n",
       "    .wandb-col { display: flex; flex-direction: column; flex-basis: 100%; flex: 1; padding: 10px; }\n",
       "    </style>\n",
       "<div class=\"wandb-row\"><div class=\"wandb-col\"><h3>Run history:</h3><br/><table class=\"wandb\"><tr><td>max_fitness</td><td>▂▃▁▃▅▄▅▆▆▇▇▆▇▇▆▆▆█▇▇</td></tr><tr><td>mean_fitness</td><td>▁▂▂▂▃▄▄▄▄▅▆▆▆▇▆▆▆▇██</td></tr><tr><td>min_fitness</td><td>▄▃▂▂▅▂▄▃▁▅▅▄▇▇▄█▄▆█▅</td></tr><tr><td>std_fitness</td><td>▁▂▂▃▃▄▅▆▆▆▆▅▆▅▅▅▅▅▅█</td></tr></table><br/></div><div class=\"wandb-col\"><h3>Run summary:</h3><br/><table class=\"wandb\"><tr><td>best_fitness</td><td>0.28069</td></tr><tr><td>max_fitness</td><td>0.40253</td></tr><tr><td>mean_fitness</td><td>0.36187</td></tr><tr><td>min_fitness</td><td>0.30323</td></tr><tr><td>std_fitness</td><td>0.02854</td></tr></table><br/></div></div>"
      ]
     },
     "metadata": {},
     "output_type": "display_data"
    },
    {
     "data": {
      "text/plain": [
       "<IPython.core.display.HTML object>"
      ],
      "text/html": [
       "Synced <strong style=\"color:#cdcd00\">vital-field-151</strong>: <a href=\"https://wandb.ai/oliverweissl/NeuralStyleSearch/runs/ixthiggl\" target=\"_blank\">https://wandb.ai/oliverweissl/NeuralStyleSearch/runs/ixthiggl</a><br/>Synced 6 W&B file(s), 2 media file(s), 0 artifact file(s) and 0 other file(s)"
      ]
     },
     "metadata": {},
     "output_type": "display_data"
    },
    {
     "data": {
      "text/plain": [
       "<IPython.core.display.HTML object>"
      ],
      "text/html": [
       "Find logs at: <code>./wandb/run-20241106_153044-ixthiggl/logs</code>"
      ]
     },
     "metadata": {},
     "output_type": "display_data"
    },
    {
     "data": {
      "text/plain": [
       "<IPython.core.display.HTML object>"
      ],
      "text/html": [
       "Successfully finished last run (ID:ixthiggl). Initializing new run:<br/>"
      ]
     },
     "metadata": {},
     "output_type": "display_data"
    },
    {
     "data": {
      "text/plain": [
       "<IPython.core.display.HTML object>"
      ],
      "text/html": [
       "wandb version 0.18.5 is available!  To upgrade, please run:\n",
       " $ pip install wandb --upgrade"
      ]
     },
     "metadata": {},
     "output_type": "display_data"
    },
    {
     "data": {
      "text/plain": [
       "<IPython.core.display.HTML object>"
      ],
      "text/html": [
       "Tracking run with wandb version 0.13.5"
      ]
     },
     "metadata": {},
     "output_type": "display_data"
    },
    {
     "data": {
      "text/plain": [
       "<IPython.core.display.HTML object>"
      ],
      "text/html": [
       "Run data is saved locally in <code>/home/oliver/PycharmProjects/NeuralStyle/wandb/run-20241106_153053-qe3i8kdn</code>"
      ]
     },
     "metadata": {},
     "output_type": "display_data"
    },
    {
     "data": {
      "text/plain": [
       "<IPython.core.display.HTML object>"
      ],
      "text/html": [
       "Syncing run <strong><a href=\"https://wandb.ai/oliverweissl/NeuralStyleSearch/runs/qe3i8kdn\" target=\"_blank\">lunar-field-152</a></strong> to <a href=\"https://wandb.ai/oliverweissl/NeuralStyleSearch\" target=\"_blank\">Weights & Biases</a> (<a href=\"https://wandb.me/run\" target=\"_blank\">docs</a>)<br/>"
      ]
     },
     "metadata": {},
     "output_type": "display_data"
    },
    {
     "name": "stdout",
     "output_type": "stream",
     "text": [
      "[2024-11-06 15:31:02,160 - root - INFO] Generate seed(s) for class: 8.\n",
      "[2024-11-06 15:31:02,168 - root - INFO] \tFound 1 valid seed(s) after: 1 iterations.\n",
      "[2024-11-06 15:31:02,170 - root - INFO] Running Search-Algorithm for 20 generations.\n",
      "[2024-11-06 15:31:04,480 - root - INFO] \tBest candidate has a fitness of: 0.19682040250676214\n",
      "[2024-11-06 15:31:04,483 - root - INFO] \tReset learner!\n"
     ]
    },
    {
     "data": {
      "text/plain": [
       "<IPython.core.display.HTML object>"
      ],
      "text/html": [
       "Finishing last run (ID:qe3i8kdn) before initializing another..."
      ]
     },
     "metadata": {},
     "output_type": "display_data"
    },
    {
     "data": {
      "text/plain": [
       "<IPython.core.display.HTML object>"
      ],
      "text/html": [
       "Waiting for W&B process to finish... <strong style=\"color:green\">(success).</strong>"
      ]
     },
     "metadata": {},
     "output_type": "display_data"
    },
    {
     "data": {
      "text/plain": [
       "<IPython.core.display.HTML object>"
      ],
      "text/html": [
       "<style>\n",
       "    table.wandb td:nth-child(1) { padding: 0 10px; text-align: left ; width: auto;} td:nth-child(2) {text-align: left ; width: 100%}\n",
       "    .wandb-row { display: flex; flex-direction: row; flex-wrap: wrap; justify-content: flex-start; width: 100% }\n",
       "    .wandb-col { display: flex; flex-direction: column; flex-basis: 100%; flex: 1; padding: 10px; }\n",
       "    </style>\n",
       "<div class=\"wandb-row\"><div class=\"wandb-col\"><h3>Run history:</h3><br/><table class=\"wandb\"><tr><td>max_fitness</td><td>█▁▂██▁▁▁▁▁▁▁▁▁▁▁▁▁▁▁</td></tr><tr><td>mean_fitness</td><td>█▆▄▆▅▃▂▂▂▁▁▂▂▂▃▂▂▁▂▃</td></tr><tr><td>min_fitness</td><td>█▆▃▃▃▃▃▂▃▂▂▂▁▃▂▃▂▃▁▃</td></tr><tr><td>std_fitness</td><td>▇▁▂██▂▂▃▂▂▂▃▂▂▃▂▂▂▃▂</td></tr></table><br/></div><div class=\"wandb-col\"><h3>Run summary:</h3><br/><table class=\"wandb\"><tr><td>best_fitness</td><td>0.19682</td></tr><tr><td>max_fitness</td><td>0.41683</td></tr><tr><td>mean_fitness</td><td>0.33314</td></tr><tr><td>min_fitness</td><td>0.23782</td></tr><tr><td>std_fitness</td><td>0.04359</td></tr></table><br/></div></div>"
      ]
     },
     "metadata": {},
     "output_type": "display_data"
    },
    {
     "data": {
      "text/plain": [
       "<IPython.core.display.HTML object>"
      ],
      "text/html": [
       "Synced <strong style=\"color:#cdcd00\">lunar-field-152</strong>: <a href=\"https://wandb.ai/oliverweissl/NeuralStyleSearch/runs/qe3i8kdn\" target=\"_blank\">https://wandb.ai/oliverweissl/NeuralStyleSearch/runs/qe3i8kdn</a><br/>Synced 6 W&B file(s), 2 media file(s), 0 artifact file(s) and 0 other file(s)"
      ]
     },
     "metadata": {},
     "output_type": "display_data"
    },
    {
     "data": {
      "text/plain": [
       "<IPython.core.display.HTML object>"
      ],
      "text/html": [
       "Find logs at: <code>./wandb/run-20241106_153053-qe3i8kdn/logs</code>"
      ]
     },
     "metadata": {},
     "output_type": "display_data"
    },
    {
     "data": {
      "text/plain": [
       "<IPython.core.display.HTML object>"
      ],
      "text/html": [
       "Successfully finished last run (ID:qe3i8kdn). Initializing new run:<br/>"
      ]
     },
     "metadata": {},
     "output_type": "display_data"
    },
    {
     "data": {
      "text/plain": [
       "<IPython.core.display.HTML object>"
      ],
      "text/html": [
       "wandb version 0.18.5 is available!  To upgrade, please run:\n",
       " $ pip install wandb --upgrade"
      ]
     },
     "metadata": {},
     "output_type": "display_data"
    },
    {
     "data": {
      "text/plain": [
       "<IPython.core.display.HTML object>"
      ],
      "text/html": [
       "Tracking run with wandb version 0.13.5"
      ]
     },
     "metadata": {},
     "output_type": "display_data"
    },
    {
     "data": {
      "text/plain": [
       "<IPython.core.display.HTML object>"
      ],
      "text/html": [
       "Run data is saved locally in <code>/home/oliver/PycharmProjects/NeuralStyle/wandb/run-20241106_153104-4li5pkcp</code>"
      ]
     },
     "metadata": {},
     "output_type": "display_data"
    },
    {
     "data": {
      "text/plain": [
       "<IPython.core.display.HTML object>"
      ],
      "text/html": [
       "Syncing run <strong><a href=\"https://wandb.ai/oliverweissl/NeuralStyleSearch/runs/4li5pkcp\" target=\"_blank\">whole-river-153</a></strong> to <a href=\"https://wandb.ai/oliverweissl/NeuralStyleSearch\" target=\"_blank\">Weights & Biases</a> (<a href=\"https://wandb.me/run\" target=\"_blank\">docs</a>)<br/>"
      ]
     },
     "metadata": {},
     "output_type": "display_data"
    },
    {
     "name": "stdout",
     "output_type": "stream",
     "text": [
      "[2024-11-06 15:31:11,942 - root - INFO] Generate seed(s) for class: 8.\n",
      "[2024-11-06 15:31:12,506 - root - INFO] \tFound 1 valid seed(s) after: 87 iterations.\n",
      "[2024-11-06 15:31:12,509 - root - INFO] Running Search-Algorithm for 20 generations.\n",
      "[2024-11-06 15:31:14,766 - root - INFO] \tBest candidate has a fitness of: 0.43510022199528753\n",
      "[2024-11-06 15:31:14,769 - root - INFO] \tReset learner!\n"
     ]
    },
    {
     "data": {
      "text/plain": [
       "<IPython.core.display.HTML object>"
      ],
      "text/html": [
       "Finishing last run (ID:4li5pkcp) before initializing another..."
      ]
     },
     "metadata": {},
     "output_type": "display_data"
    },
    {
     "data": {
      "text/plain": [
       "<IPython.core.display.HTML object>"
      ],
      "text/html": [
       "Waiting for W&B process to finish... <strong style=\"color:green\">(success).</strong>"
      ]
     },
     "metadata": {},
     "output_type": "display_data"
    },
    {
     "data": {
      "text/plain": [
       "<IPython.core.display.HTML object>"
      ],
      "text/html": [
       "<style>\n",
       "    table.wandb td:nth-child(1) { padding: 0 10px; text-align: left ; width: auto;} td:nth-child(2) {text-align: left ; width: 100%}\n",
       "    .wandb-row { display: flex; flex-direction: row; flex-wrap: wrap; justify-content: flex-start; width: 100% }\n",
       "    .wandb-col { display: flex; flex-direction: column; flex-basis: 100%; flex: 1; padding: 10px; }\n",
       "    </style>\n",
       "<div class=\"wandb-row\"><div class=\"wandb-col\"><h3>Run history:</h3><br/><table class=\"wandb\"><tr><td>max_fitness</td><td>▄▂▄▃▄█▅▂▄▄▄▃▃▃▁▆▃▅▅▅</td></tr><tr><td>mean_fitness</td><td>█▆▆▆▅▅▃▄▅▅▅▄▃▃▃▃▂▁▁▂</td></tr><tr><td>min_fitness</td><td>█▆▄▄▃▃▃▄▅▄▁▃▂▃▁▂▃▂▂▃</td></tr><tr><td>std_fitness</td><td>▁▃▅▆▇▇▇▆▄▇▇▅█▆▇█▆▆▇▇</td></tr></table><br/></div><div class=\"wandb-col\"><h3>Run summary:</h3><br/><table class=\"wandb\"><tr><td>best_fitness</td><td>0.4351</td></tr><tr><td>max_fitness</td><td>0.59856</td></tr><tr><td>mean_fitness</td><td>0.50985</td></tr><tr><td>min_fitness</td><td>0.45863</td></tr><tr><td>std_fitness</td><td>0.03469</td></tr></table><br/></div></div>"
      ]
     },
     "metadata": {},
     "output_type": "display_data"
    },
    {
     "data": {
      "text/plain": [
       "<IPython.core.display.HTML object>"
      ],
      "text/html": [
       "Synced <strong style=\"color:#cdcd00\">whole-river-153</strong>: <a href=\"https://wandb.ai/oliverweissl/NeuralStyleSearch/runs/4li5pkcp\" target=\"_blank\">https://wandb.ai/oliverweissl/NeuralStyleSearch/runs/4li5pkcp</a><br/>Synced 6 W&B file(s), 2 media file(s), 0 artifact file(s) and 0 other file(s)"
      ]
     },
     "metadata": {},
     "output_type": "display_data"
    },
    {
     "data": {
      "text/plain": [
       "<IPython.core.display.HTML object>"
      ],
      "text/html": [
       "Find logs at: <code>./wandb/run-20241106_153104-4li5pkcp/logs</code>"
      ]
     },
     "metadata": {},
     "output_type": "display_data"
    },
    {
     "data": {
      "text/plain": [
       "<IPython.core.display.HTML object>"
      ],
      "text/html": [
       "Successfully finished last run (ID:4li5pkcp). Initializing new run:<br/>"
      ]
     },
     "metadata": {},
     "output_type": "display_data"
    },
    {
     "data": {
      "text/plain": [
       "<IPython.core.display.HTML object>"
      ],
      "text/html": [
       "wandb version 0.18.5 is available!  To upgrade, please run:\n",
       " $ pip install wandb --upgrade"
      ]
     },
     "metadata": {},
     "output_type": "display_data"
    },
    {
     "data": {
      "text/plain": [
       "<IPython.core.display.HTML object>"
      ],
      "text/html": [
       "Tracking run with wandb version 0.13.5"
      ]
     },
     "metadata": {},
     "output_type": "display_data"
    },
    {
     "data": {
      "text/plain": [
       "<IPython.core.display.HTML object>"
      ],
      "text/html": [
       "Run data is saved locally in <code>/home/oliver/PycharmProjects/NeuralStyle/wandb/run-20241106_153114-gtfk5i5a</code>"
      ]
     },
     "metadata": {},
     "output_type": "display_data"
    },
    {
     "data": {
      "text/plain": [
       "<IPython.core.display.HTML object>"
      ],
      "text/html": [
       "Syncing run <strong><a href=\"https://wandb.ai/oliverweissl/NeuralStyleSearch/runs/gtfk5i5a\" target=\"_blank\">warm-cloud-154</a></strong> to <a href=\"https://wandb.ai/oliverweissl/NeuralStyleSearch\" target=\"_blank\">Weights & Biases</a> (<a href=\"https://wandb.me/run\" target=\"_blank\">docs</a>)<br/>"
      ]
     },
     "metadata": {},
     "output_type": "display_data"
    },
    {
     "name": "stdout",
     "output_type": "stream",
     "text": [
      "[2024-11-06 15:31:21,669 - root - INFO] Generate seed(s) for class: 9.\n",
      "[2024-11-06 15:31:21,678 - root - INFO] \tFound 1 valid seed(s) after: 1 iterations.\n",
      "[2024-11-06 15:31:21,681 - root - INFO] Running Search-Algorithm for 20 generations.\n"
     ]
    },
    {
     "name": "stderr",
     "output_type": "stream",
     "text": [
      "/home/oliver/PycharmProjects/NeuralStyle/src/objective_functions/_ssim.py:40: RuntimeWarning: invalid value encountered in sqrt\n",
      "  d = np.sqrt(2-s1-s2)\n"
     ]
    },
    {
     "name": "stdout",
     "output_type": "stream",
     "text": [
      "[2024-11-06 15:31:24,079 - root - INFO] \tBest candidate has a fitness of: 0.28424503839390813\n",
      "[2024-11-06 15:31:24,081 - root - INFO] \tReset learner!\n"
     ]
    },
    {
     "data": {
      "text/plain": [
       "<IPython.core.display.HTML object>"
      ],
      "text/html": [
       "Finishing last run (ID:gtfk5i5a) before initializing another..."
      ]
     },
     "metadata": {},
     "output_type": "display_data"
    },
    {
     "data": {
      "text/plain": [
       "<IPython.core.display.HTML object>"
      ],
      "text/html": [
       "Waiting for W&B process to finish... <strong style=\"color:green\">(success).</strong>"
      ]
     },
     "metadata": {},
     "output_type": "display_data"
    },
    {
     "data": {
      "text/plain": [
       "<IPython.core.display.HTML object>"
      ],
      "text/html": [
       "<style>\n",
       "    table.wandb td:nth-child(1) { padding: 0 10px; text-align: left ; width: auto;} td:nth-child(2) {text-align: left ; width: 100%}\n",
       "    .wandb-row { display: flex; flex-direction: row; flex-wrap: wrap; justify-content: flex-start; width: 100% }\n",
       "    .wandb-col { display: flex; flex-direction: column; flex-basis: 100%; flex: 1; padding: 10px; }\n",
       "    </style>\n",
       "<div class=\"wandb-row\"><div class=\"wandb-col\"><h3>Run history:</h3><br/><table class=\"wandb\"><tr><td>max_fitness</td><td>▂▁▁▁▂▄▃▃▄▇▄█▄▅▆▃▃▄▅▇</td></tr><tr><td>mean_fitness</td><td>▇▆█▇▆▇▃▂▆▇▇▅▅▆▅▅▁▆▅█</td></tr><tr><td>min_fitness</td><td>██▃▆▂▅▄▂▅▅▅▄▅▇▇▃▁▅▅▆</td></tr><tr><td>std_fitness</td><td>▁▂▃▄▃▅▅▇▅▆▆█▅▄▅▅▆▆▇▇</td></tr></table><br/></div><div class=\"wandb-col\"><h3>Run summary:</h3><br/><table class=\"wandb\"><tr><td>best_fitness</td><td>0.28425</td></tr><tr><td>max_fitness</td><td>0.39305</td></tr><tr><td>mean_fitness</td><td>0.34542</td></tr><tr><td>min_fitness</td><td>0.31193</td></tr><tr><td>std_fitness</td><td>0.02078</td></tr></table><br/></div></div>"
      ]
     },
     "metadata": {},
     "output_type": "display_data"
    },
    {
     "data": {
      "text/plain": [
       "<IPython.core.display.HTML object>"
      ],
      "text/html": [
       "Synced <strong style=\"color:#cdcd00\">warm-cloud-154</strong>: <a href=\"https://wandb.ai/oliverweissl/NeuralStyleSearch/runs/gtfk5i5a\" target=\"_blank\">https://wandb.ai/oliverweissl/NeuralStyleSearch/runs/gtfk5i5a</a><br/>Synced 6 W&B file(s), 2 media file(s), 0 artifact file(s) and 0 other file(s)"
      ]
     },
     "metadata": {},
     "output_type": "display_data"
    },
    {
     "data": {
      "text/plain": [
       "<IPython.core.display.HTML object>"
      ],
      "text/html": [
       "Find logs at: <code>./wandb/run-20241106_153114-gtfk5i5a/logs</code>"
      ]
     },
     "metadata": {},
     "output_type": "display_data"
    },
    {
     "data": {
      "text/plain": [
       "<IPython.core.display.HTML object>"
      ],
      "text/html": [
       "Successfully finished last run (ID:gtfk5i5a). Initializing new run:<br/>"
      ]
     },
     "metadata": {},
     "output_type": "display_data"
    },
    {
     "data": {
      "text/plain": [
       "<IPython.core.display.HTML object>"
      ],
      "text/html": [
       "wandb version 0.18.5 is available!  To upgrade, please run:\n",
       " $ pip install wandb --upgrade"
      ]
     },
     "metadata": {},
     "output_type": "display_data"
    },
    {
     "data": {
      "text/plain": [
       "<IPython.core.display.HTML object>"
      ],
      "text/html": [
       "Tracking run with wandb version 0.13.5"
      ]
     },
     "metadata": {},
     "output_type": "display_data"
    },
    {
     "data": {
      "text/plain": [
       "<IPython.core.display.HTML object>"
      ],
      "text/html": [
       "Run data is saved locally in <code>/home/oliver/PycharmProjects/NeuralStyle/wandb/run-20241106_153124-bvr5rh74</code>"
      ]
     },
     "metadata": {},
     "output_type": "display_data"
    },
    {
     "data": {
      "text/plain": [
       "<IPython.core.display.HTML object>"
      ],
      "text/html": [
       "Syncing run <strong><a href=\"https://wandb.ai/oliverweissl/NeuralStyleSearch/runs/bvr5rh74\" target=\"_blank\">wobbly-night-155</a></strong> to <a href=\"https://wandb.ai/oliverweissl/NeuralStyleSearch\" target=\"_blank\">Weights & Biases</a> (<a href=\"https://wandb.me/run\" target=\"_blank\">docs</a>)<br/>"
      ]
     },
     "metadata": {},
     "output_type": "display_data"
    },
    {
     "name": "stdout",
     "output_type": "stream",
     "text": [
      "[2024-11-06 15:31:32,444 - root - INFO] Generate seed(s) for class: 9.\n",
      "[2024-11-06 15:31:32,452 - root - INFO] \tFound 1 valid seed(s) after: 1 iterations.\n",
      "[2024-11-06 15:31:32,454 - root - INFO] Running Search-Algorithm for 20 generations.\n",
      "[2024-11-06 15:31:34,923 - root - INFO] \tBest candidate has a fitness of: 0.40026917493718206\n",
      "[2024-11-06 15:31:34,926 - root - INFO] \tReset learner!\n"
     ]
    },
    {
     "data": {
      "text/plain": [
       "<IPython.core.display.HTML object>"
      ],
      "text/html": [
       "Finishing last run (ID:bvr5rh74) before initializing another..."
      ]
     },
     "metadata": {},
     "output_type": "display_data"
    },
    {
     "data": {
      "text/plain": [
       "<IPython.core.display.HTML object>"
      ],
      "text/html": [
       "Waiting for W&B process to finish... <strong style=\"color:green\">(success).</strong>"
      ]
     },
     "metadata": {},
     "output_type": "display_data"
    },
    {
     "data": {
      "text/plain": [
       "<IPython.core.display.HTML object>"
      ],
      "text/html": [
       "<style>\n",
       "    table.wandb td:nth-child(1) { padding: 0 10px; text-align: left ; width: auto;} td:nth-child(2) {text-align: left ; width: 100%}\n",
       "    .wandb-row { display: flex; flex-direction: row; flex-wrap: wrap; justify-content: flex-start; width: 100% }\n",
       "    .wandb-col { display: flex; flex-direction: column; flex-basis: 100%; flex: 1; padding: 10px; }\n",
       "    </style>\n",
       "<div class=\"wandb-row\"><div class=\"wandb-col\"><h3>Run history:</h3><br/><table class=\"wandb\"><tr><td>max_fitness</td><td>▁▁▁▁▁▁▁▁▁▁▁▁▁▁▁▁▁▁▁▁</td></tr><tr><td>mean_fitness</td><td>█▇▇▆▆▆▄▅▅▃▃▃▂▂▂▂▂▂▁▃</td></tr><tr><td>min_fitness</td><td>█▁▁▁▁▂▁▂▁▂▁▁▂▁▂▂▂▂▁▁</td></tr><tr><td>std_fitness</td><td>▁▆▆▆▇▇██▇█████▇███▇█</td></tr></table><br/></div><div class=\"wandb-col\"><h3>Run summary:</h3><br/><table class=\"wandb\"><tr><td>best_fitness</td><td>0.40027</td></tr><tr><td>max_fitness</td><td>1.0</td></tr><tr><td>mean_fitness</td><td>0.72799</td></tr><tr><td>min_fitness</td><td>0.43937</td></tr><tr><td>std_fitness</td><td>0.25497</td></tr></table><br/></div></div>"
      ]
     },
     "metadata": {},
     "output_type": "display_data"
    },
    {
     "data": {
      "text/plain": [
       "<IPython.core.display.HTML object>"
      ],
      "text/html": [
       "Synced <strong style=\"color:#cdcd00\">wobbly-night-155</strong>: <a href=\"https://wandb.ai/oliverweissl/NeuralStyleSearch/runs/bvr5rh74\" target=\"_blank\">https://wandb.ai/oliverweissl/NeuralStyleSearch/runs/bvr5rh74</a><br/>Synced 6 W&B file(s), 2 media file(s), 0 artifact file(s) and 0 other file(s)"
      ]
     },
     "metadata": {},
     "output_type": "display_data"
    },
    {
     "data": {
      "text/plain": [
       "<IPython.core.display.HTML object>"
      ],
      "text/html": [
       "Find logs at: <code>./wandb/run-20241106_153124-bvr5rh74/logs</code>"
      ]
     },
     "metadata": {},
     "output_type": "display_data"
    },
    {
     "data": {
      "text/plain": [
       "<IPython.core.display.HTML object>"
      ],
      "text/html": [
       "Successfully finished last run (ID:bvr5rh74). Initializing new run:<br/>"
      ]
     },
     "metadata": {},
     "output_type": "display_data"
    },
    {
     "data": {
      "text/plain": [
       "<IPython.core.display.HTML object>"
      ],
      "text/html": [
       "wandb version 0.18.5 is available!  To upgrade, please run:\n",
       " $ pip install wandb --upgrade"
      ]
     },
     "metadata": {},
     "output_type": "display_data"
    },
    {
     "data": {
      "text/plain": [
       "<IPython.core.display.HTML object>"
      ],
      "text/html": [
       "Tracking run with wandb version 0.13.5"
      ]
     },
     "metadata": {},
     "output_type": "display_data"
    },
    {
     "data": {
      "text/plain": [
       "<IPython.core.display.HTML object>"
      ],
      "text/html": [
       "Run data is saved locally in <code>/home/oliver/PycharmProjects/NeuralStyle/wandb/run-20241106_153134-ltkioooz</code>"
      ]
     },
     "metadata": {},
     "output_type": "display_data"
    },
    {
     "data": {
      "text/plain": [
       "<IPython.core.display.HTML object>"
      ],
      "text/html": [
       "Syncing run <strong><a href=\"https://wandb.ai/oliverweissl/NeuralStyleSearch/runs/ltkioooz\" target=\"_blank\">revived-cherry-156</a></strong> to <a href=\"https://wandb.ai/oliverweissl/NeuralStyleSearch\" target=\"_blank\">Weights & Biases</a> (<a href=\"https://wandb.me/run\" target=\"_blank\">docs</a>)<br/>"
      ]
     },
     "metadata": {},
     "output_type": "display_data"
    },
    {
     "name": "stdout",
     "output_type": "stream",
     "text": [
      "[2024-11-06 15:31:42,434 - root - INFO] Generate seed(s) for class: 9.\n",
      "[2024-11-06 15:31:42,448 - root - INFO] \tFound 1 valid seed(s) after: 1 iterations.\n",
      "[2024-11-06 15:31:42,451 - root - INFO] Running Search-Algorithm for 20 generations.\n"
     ]
    },
    {
     "name": "stderr",
     "output_type": "stream",
     "text": [
      "/home/oliver/PycharmProjects/NeuralStyle/src/objective_functions/_ssim.py:40: RuntimeWarning: invalid value encountered in sqrt\n",
      "  d = np.sqrt(2-s1-s2)\n"
     ]
    },
    {
     "name": "stdout",
     "output_type": "stream",
     "text": [
      "[2024-11-06 15:31:44,800 - root - INFO] \tBest candidate has a fitness of: 0.3614373449124628\n",
      "[2024-11-06 15:31:44,802 - root - INFO] \tReset learner!\n"
     ]
    },
    {
     "data": {
      "text/plain": [
       "<IPython.core.display.HTML object>"
      ],
      "text/html": [
       "Finishing last run (ID:ltkioooz) before initializing another..."
      ]
     },
     "metadata": {},
     "output_type": "display_data"
    },
    {
     "data": {
      "text/plain": [
       "<IPython.core.display.HTML object>"
      ],
      "text/html": [
       "Waiting for W&B process to finish... <strong style=\"color:green\">(success).</strong>"
      ]
     },
     "metadata": {},
     "output_type": "display_data"
    },
    {
     "data": {
      "text/plain": [
       "<IPython.core.display.HTML object>"
      ],
      "text/html": [
       "<style>\n",
       "    table.wandb td:nth-child(1) { padding: 0 10px; text-align: left ; width: auto;} td:nth-child(2) {text-align: left ; width: 100%}\n",
       "    .wandb-row { display: flex; flex-direction: row; flex-wrap: wrap; justify-content: flex-start; width: 100% }\n",
       "    .wandb-col { display: flex; flex-direction: column; flex-basis: 100%; flex: 1; padding: 10px; }\n",
       "    </style>\n",
       "<div class=\"wandb-row\"><div class=\"wandb-col\"><h3>Run history:</h3><br/><table class=\"wandb\"><tr><td>max_fitness</td><td>▁▁▁▂▂▂▂███████████▂█</td></tr><tr><td>mean_fitness</td><td>▁▁▁▂▂▃▂▃▄▄▂▄▄▇██▅▅▂▃</td></tr><tr><td>min_fitness</td><td>▆▅▆▆▆█▆▇▆▇▇▅▃█▆▇▅▅▁▆</td></tr><tr><td>std_fitness</td><td>▁▂▂▂▂▂▃▅▇▇▇▇▇█▆█▅▅▃▅</td></tr></table><br/></div><div class=\"wandb-col\"><h3>Run summary:</h3><br/><table class=\"wandb\"><tr><td>best_fitness</td><td>0.36144</td></tr><tr><td>max_fitness</td><td>1.0</td></tr><tr><td>mean_fitness</td><td>0.54419</td></tr><tr><td>min_fitness</td><td>0.42766</td></tr><tr><td>std_fitness</td><td>0.10321</td></tr></table><br/></div></div>"
      ]
     },
     "metadata": {},
     "output_type": "display_data"
    },
    {
     "data": {
      "text/plain": [
       "<IPython.core.display.HTML object>"
      ],
      "text/html": [
       "Synced <strong style=\"color:#cdcd00\">revived-cherry-156</strong>: <a href=\"https://wandb.ai/oliverweissl/NeuralStyleSearch/runs/ltkioooz\" target=\"_blank\">https://wandb.ai/oliverweissl/NeuralStyleSearch/runs/ltkioooz</a><br/>Synced 6 W&B file(s), 2 media file(s), 0 artifact file(s) and 0 other file(s)"
      ]
     },
     "metadata": {},
     "output_type": "display_data"
    },
    {
     "data": {
      "text/plain": [
       "<IPython.core.display.HTML object>"
      ],
      "text/html": [
       "Find logs at: <code>./wandb/run-20241106_153134-ltkioooz/logs</code>"
      ]
     },
     "metadata": {},
     "output_type": "display_data"
    },
    {
     "data": {
      "text/plain": [
       "<IPython.core.display.HTML object>"
      ],
      "text/html": [
       "Successfully finished last run (ID:ltkioooz). Initializing new run:<br/>"
      ]
     },
     "metadata": {},
     "output_type": "display_data"
    },
    {
     "data": {
      "text/plain": [
       "<IPython.core.display.HTML object>"
      ],
      "text/html": [
       "wandb version 0.18.5 is available!  To upgrade, please run:\n",
       " $ pip install wandb --upgrade"
      ]
     },
     "metadata": {},
     "output_type": "display_data"
    },
    {
     "data": {
      "text/plain": [
       "<IPython.core.display.HTML object>"
      ],
      "text/html": [
       "Tracking run with wandb version 0.13.5"
      ]
     },
     "metadata": {},
     "output_type": "display_data"
    },
    {
     "data": {
      "text/plain": [
       "<IPython.core.display.HTML object>"
      ],
      "text/html": [
       "Run data is saved locally in <code>/home/oliver/PycharmProjects/NeuralStyle/wandb/run-20241106_153144-3178jw50</code>"
      ]
     },
     "metadata": {},
     "output_type": "display_data"
    },
    {
     "data": {
      "text/plain": [
       "<IPython.core.display.HTML object>"
      ],
      "text/html": [
       "Syncing run <strong><a href=\"https://wandb.ai/oliverweissl/NeuralStyleSearch/runs/3178jw50\" target=\"_blank\">hardy-frog-157</a></strong> to <a href=\"https://wandb.ai/oliverweissl/NeuralStyleSearch\" target=\"_blank\">Weights & Biases</a> (<a href=\"https://wandb.me/run\" target=\"_blank\">docs</a>)<br/>"
      ]
     },
     "metadata": {},
     "output_type": "display_data"
    },
    {
     "name": "stdout",
     "output_type": "stream",
     "text": [
      "[2024-11-06 15:31:53,750 - root - INFO] Generate seed(s) for class: 9.\n",
      "[2024-11-06 15:31:54,509 - root - INFO] \tFound 1 valid seed(s) after: 106 iterations.\n",
      "[2024-11-06 15:31:54,512 - root - INFO] Running Search-Algorithm for 20 generations.\n",
      "[2024-11-06 15:31:56,877 - root - INFO] \tBest candidate has a fitness of: 0.15908541715519964\n",
      "[2024-11-06 15:31:56,880 - root - INFO] \tReset learner!\n"
     ]
    },
    {
     "data": {
      "text/plain": [
       "<IPython.core.display.HTML object>"
      ],
      "text/html": [
       "Finishing last run (ID:3178jw50) before initializing another..."
      ]
     },
     "metadata": {},
     "output_type": "display_data"
    },
    {
     "data": {
      "text/plain": [
       "<IPython.core.display.HTML object>"
      ],
      "text/html": [
       "Waiting for W&B process to finish... <strong style=\"color:green\">(success).</strong>"
      ]
     },
     "metadata": {},
     "output_type": "display_data"
    },
    {
     "data": {
      "text/plain": [
       "<IPython.core.display.HTML object>"
      ],
      "text/html": [
       "<style>\n",
       "    table.wandb td:nth-child(1) { padding: 0 10px; text-align: left ; width: auto;} td:nth-child(2) {text-align: left ; width: 100%}\n",
       "    .wandb-row { display: flex; flex-direction: row; flex-wrap: wrap; justify-content: flex-start; width: 100% }\n",
       "    .wandb-col { display: flex; flex-direction: column; flex-basis: 100%; flex: 1; padding: 10px; }\n",
       "    </style>\n",
       "<div class=\"wandb-row\"><div class=\"wandb-col\"><h3>Run history:</h3><br/><table class=\"wandb\"><tr><td>max_fitness</td><td>▁███████████████████</td></tr><tr><td>mean_fitness</td><td>▁▂▂▃▅▄▅▅▆▇▅▅▃▃▄█▆▆▇█</td></tr><tr><td>min_fitness</td><td>▇▆█▆█▅▇▅▁█▄▂▅▅▅▃▃▆▄▄</td></tr><tr><td>std_fitness</td><td>▁▅▃▅▇▆▇▇▇▇▇█▅▅▆█▆▆▆█</td></tr></table><br/></div><div class=\"wandb-col\"><h3>Run summary:</h3><br/><table class=\"wandb\"><tr><td>best_fitness</td><td>0.15909</td></tr><tr><td>max_fitness</td><td>1.0</td></tr><tr><td>mean_fitness</td><td>0.59815</td></tr><tr><td>min_fitness</td><td>0.2241</td></tr><tr><td>std_fitness</td><td>0.25362</td></tr></table><br/></div></div>"
      ]
     },
     "metadata": {},
     "output_type": "display_data"
    },
    {
     "data": {
      "text/plain": [
       "<IPython.core.display.HTML object>"
      ],
      "text/html": [
       "Synced <strong style=\"color:#cdcd00\">hardy-frog-157</strong>: <a href=\"https://wandb.ai/oliverweissl/NeuralStyleSearch/runs/3178jw50\" target=\"_blank\">https://wandb.ai/oliverweissl/NeuralStyleSearch/runs/3178jw50</a><br/>Synced 6 W&B file(s), 2 media file(s), 0 artifact file(s) and 0 other file(s)"
      ]
     },
     "metadata": {},
     "output_type": "display_data"
    },
    {
     "data": {
      "text/plain": [
       "<IPython.core.display.HTML object>"
      ],
      "text/html": [
       "Find logs at: <code>./wandb/run-20241106_153144-3178jw50/logs</code>"
      ]
     },
     "metadata": {},
     "output_type": "display_data"
    },
    {
     "data": {
      "text/plain": [
       "<IPython.core.display.HTML object>"
      ],
      "text/html": [
       "Successfully finished last run (ID:3178jw50). Initializing new run:<br/>"
      ]
     },
     "metadata": {},
     "output_type": "display_data"
    },
    {
     "data": {
      "text/plain": [
       "<IPython.core.display.HTML object>"
      ],
      "text/html": [
       "wandb version 0.18.5 is available!  To upgrade, please run:\n",
       " $ pip install wandb --upgrade"
      ]
     },
     "metadata": {},
     "output_type": "display_data"
    },
    {
     "data": {
      "text/plain": [
       "<IPython.core.display.HTML object>"
      ],
      "text/html": [
       "Tracking run with wandb version 0.13.5"
      ]
     },
     "metadata": {},
     "output_type": "display_data"
    },
    {
     "data": {
      "text/plain": [
       "<IPython.core.display.HTML object>"
      ],
      "text/html": [
       "Run data is saved locally in <code>/home/oliver/PycharmProjects/NeuralStyle/wandb/run-20241106_153156-uc3qdr8w</code>"
      ]
     },
     "metadata": {},
     "output_type": "display_data"
    },
    {
     "data": {
      "text/plain": [
       "<IPython.core.display.HTML object>"
      ],
      "text/html": [
       "Syncing run <strong><a href=\"https://wandb.ai/oliverweissl/NeuralStyleSearch/runs/uc3qdr8w\" target=\"_blank\">classic-wave-158</a></strong> to <a href=\"https://wandb.ai/oliverweissl/NeuralStyleSearch\" target=\"_blank\">Weights & Biases</a> (<a href=\"https://wandb.me/run\" target=\"_blank\">docs</a>)<br/>"
      ]
     },
     "metadata": {},
     "output_type": "display_data"
    },
    {
     "name": "stdout",
     "output_type": "stream",
     "text": [
      "[2024-11-06 15:32:03,577 - root - INFO] Generate seed(s) for class: 9.\n",
      "[2024-11-06 15:32:03,585 - root - INFO] \tFound 1 valid seed(s) after: 1 iterations.\n",
      "[2024-11-06 15:32:03,588 - root - INFO] Running Search-Algorithm for 20 generations.\n",
      "[2024-11-06 15:32:06,099 - root - INFO] \tBest candidate has a fitness of: 0.2154219392575556\n",
      "[2024-11-06 15:32:06,102 - root - INFO] \tReset learner!\n"
     ]
    },
    {
     "name": "stderr",
     "output_type": "stream",
     "text": [
      "/home/oliver/PycharmProjects/NeuralStyle/src/objective_functions/_ssim.py:40: RuntimeWarning: invalid value encountered in sqrt\n",
      "  d = np.sqrt(2-s1-s2)\n"
     ]
    },
    {
     "data": {
      "text/plain": [
       "<IPython.core.display.HTML object>"
      ],
      "text/html": [
       "Finishing last run (ID:uc3qdr8w) before initializing another..."
      ]
     },
     "metadata": {},
     "output_type": "display_data"
    },
    {
     "data": {
      "text/plain": [
       "<IPython.core.display.HTML object>"
      ],
      "text/html": [
       "Waiting for W&B process to finish... <strong style=\"color:green\">(success).</strong>"
      ]
     },
     "metadata": {},
     "output_type": "display_data"
    },
    {
     "data": {
      "text/plain": [
       "<IPython.core.display.HTML object>"
      ],
      "text/html": [
       "<style>\n",
       "    table.wandb td:nth-child(1) { padding: 0 10px; text-align: left ; width: auto;} td:nth-child(2) {text-align: left ; width: 100%}\n",
       "    .wandb-row { display: flex; flex-direction: row; flex-wrap: wrap; justify-content: flex-start; width: 100% }\n",
       "    .wandb-col { display: flex; flex-direction: column; flex-basis: 100%; flex: 1; padding: 10px; }\n",
       "    </style>\n",
       "<div class=\"wandb-row\"><div class=\"wandb-col\"><h3>Run history:</h3><br/><table class=\"wandb\"><tr><td>max_fitness</td><td>▁▁██▁▁▁█▁▁▁▁▁█▁▁▁▁▁▁</td></tr><tr><td>mean_fitness</td><td>▄▃▅█▂▂▃▅▃▃▄▂▁▅▁▁▄▃▃▃</td></tr><tr><td>min_fitness</td><td>█▇▅▆▇▃▄▆▁▂▇▃▄▃▄▁▇▇▆▅</td></tr><tr><td>std_fitness</td><td>▁▁▆█▁▂▂▆▂▂▁▂▂▆▂▂▂▁▂▁</td></tr></table><br/></div><div class=\"wandb-col\"><h3>Run summary:</h3><br/><table class=\"wandb\"><tr><td>best_fitness</td><td>0.21542</td></tr><tr><td>max_fitness</td><td>0.41398</td></tr><tr><td>mean_fitness</td><td>0.35509</td></tr><tr><td>min_fitness</td><td>0.26668</td></tr><tr><td>std_fitness</td><td>0.03387</td></tr></table><br/></div></div>"
      ]
     },
     "metadata": {},
     "output_type": "display_data"
    },
    {
     "data": {
      "text/plain": [
       "<IPython.core.display.HTML object>"
      ],
      "text/html": [
       "Synced <strong style=\"color:#cdcd00\">classic-wave-158</strong>: <a href=\"https://wandb.ai/oliverweissl/NeuralStyleSearch/runs/uc3qdr8w\" target=\"_blank\">https://wandb.ai/oliverweissl/NeuralStyleSearch/runs/uc3qdr8w</a><br/>Synced 6 W&B file(s), 2 media file(s), 0 artifact file(s) and 0 other file(s)"
      ]
     },
     "metadata": {},
     "output_type": "display_data"
    },
    {
     "data": {
      "text/plain": [
       "<IPython.core.display.HTML object>"
      ],
      "text/html": [
       "Find logs at: <code>./wandb/run-20241106_153156-uc3qdr8w/logs</code>"
      ]
     },
     "metadata": {},
     "output_type": "display_data"
    },
    {
     "data": {
      "text/plain": [
       "<IPython.core.display.HTML object>"
      ],
      "text/html": [
       "Successfully finished last run (ID:uc3qdr8w). Initializing new run:<br/>"
      ]
     },
     "metadata": {},
     "output_type": "display_data"
    },
    {
     "data": {
      "text/plain": [
       "<IPython.core.display.HTML object>"
      ],
      "text/html": [
       "wandb version 0.18.5 is available!  To upgrade, please run:\n",
       " $ pip install wandb --upgrade"
      ]
     },
     "metadata": {},
     "output_type": "display_data"
    },
    {
     "data": {
      "text/plain": [
       "<IPython.core.display.HTML object>"
      ],
      "text/html": [
       "Tracking run with wandb version 0.13.5"
      ]
     },
     "metadata": {},
     "output_type": "display_data"
    },
    {
     "data": {
      "text/plain": [
       "<IPython.core.display.HTML object>"
      ],
      "text/html": [
       "Run data is saved locally in <code>/home/oliver/PycharmProjects/NeuralStyle/wandb/run-20241106_153206-zhwf3bsq</code>"
      ]
     },
     "metadata": {},
     "output_type": "display_data"
    },
    {
     "data": {
      "text/plain": [
       "<IPython.core.display.HTML object>"
      ],
      "text/html": [
       "Syncing run <strong><a href=\"https://wandb.ai/oliverweissl/NeuralStyleSearch/runs/zhwf3bsq\" target=\"_blank\">solar-frog-159</a></strong> to <a href=\"https://wandb.ai/oliverweissl/NeuralStyleSearch\" target=\"_blank\">Weights & Biases</a> (<a href=\"https://wandb.me/run\" target=\"_blank\">docs</a>)<br/>"
      ]
     },
     "metadata": {},
     "output_type": "display_data"
    },
    {
     "name": "stdout",
     "output_type": "stream",
     "text": [
      "[2024-11-06 15:32:13,549 - root - INFO] Generate seed(s) for class: 9.\n",
      "[2024-11-06 15:32:13,559 - root - INFO] \tFound 1 valid seed(s) after: 1 iterations.\n",
      "[2024-11-06 15:32:13,561 - root - INFO] Running Search-Algorithm for 20 generations.\n",
      "[2024-11-06 15:32:15,971 - root - INFO] \tBest candidate has a fitness of: 0.19198753869908392\n",
      "[2024-11-06 15:32:15,973 - root - INFO] \tReset learner!\n"
     ]
    },
    {
     "data": {
      "text/plain": [
       "<IPython.core.display.HTML object>"
      ],
      "text/html": [
       "Finishing last run (ID:zhwf3bsq) before initializing another..."
      ]
     },
     "metadata": {},
     "output_type": "display_data"
    },
    {
     "data": {
      "text/plain": [
       "<IPython.core.display.HTML object>"
      ],
      "text/html": [
       "Waiting for W&B process to finish... <strong style=\"color:green\">(success).</strong>"
      ]
     },
     "metadata": {},
     "output_type": "display_data"
    },
    {
     "data": {
      "text/plain": [
       "<IPython.core.display.HTML object>"
      ],
      "text/html": [
       "<style>\n",
       "    table.wandb td:nth-child(1) { padding: 0 10px; text-align: left ; width: auto;} td:nth-child(2) {text-align: left ; width: 100%}\n",
       "    .wandb-row { display: flex; flex-direction: row; flex-wrap: wrap; justify-content: flex-start; width: 100% }\n",
       "    .wandb-col { display: flex; flex-direction: column; flex-basis: 100%; flex: 1; padding: 10px; }\n",
       "    </style>\n",
       "<div class=\"wandb-row\"><div class=\"wandb-col\"><h3>Run history:</h3><br/><table class=\"wandb\"><tr><td>max_fitness</td><td>▁▁▁▁▁▁▁▁▁▁▁▁▁▁▁▁▁▁▁▁</td></tr><tr><td>mean_fitness</td><td>▁▂▂▅▄▅▆▆▆▅▆▆▆▄▇▇▇█▆▅</td></tr><tr><td>min_fitness</td><td>▄▄▄▄▁▃▆▇▃▆▇▄▃▁▃█▄▇▃▇</td></tr><tr><td>std_fitness</td><td>▁▄▅█▇▇▇▆█▅▇██▆▇▆▇▇▆▆</td></tr></table><br/></div><div class=\"wandb-col\"><h3>Run summary:</h3><br/><table class=\"wandb\"><tr><td>best_fitness</td><td>0.19199</td></tr><tr><td>max_fitness</td><td>1.0</td></tr><tr><td>mean_fitness</td><td>0.57693</td></tr><tr><td>min_fitness</td><td>0.26021</td></tr><tr><td>std_fitness</td><td>0.30457</td></tr></table><br/></div></div>"
      ]
     },
     "metadata": {},
     "output_type": "display_data"
    },
    {
     "data": {
      "text/plain": [
       "<IPython.core.display.HTML object>"
      ],
      "text/html": [
       "Synced <strong style=\"color:#cdcd00\">solar-frog-159</strong>: <a href=\"https://wandb.ai/oliverweissl/NeuralStyleSearch/runs/zhwf3bsq\" target=\"_blank\">https://wandb.ai/oliverweissl/NeuralStyleSearch/runs/zhwf3bsq</a><br/>Synced 6 W&B file(s), 2 media file(s), 0 artifact file(s) and 0 other file(s)"
      ]
     },
     "metadata": {},
     "output_type": "display_data"
    },
    {
     "data": {
      "text/plain": [
       "<IPython.core.display.HTML object>"
      ],
      "text/html": [
       "Find logs at: <code>./wandb/run-20241106_153206-zhwf3bsq/logs</code>"
      ]
     },
     "metadata": {},
     "output_type": "display_data"
    },
    {
     "data": {
      "text/plain": [
       "<IPython.core.display.HTML object>"
      ],
      "text/html": [
       "Successfully finished last run (ID:zhwf3bsq). Initializing new run:<br/>"
      ]
     },
     "metadata": {},
     "output_type": "display_data"
    },
    {
     "data": {
      "text/plain": [
       "<IPython.core.display.HTML object>"
      ],
      "text/html": [
       "wandb version 0.18.5 is available!  To upgrade, please run:\n",
       " $ pip install wandb --upgrade"
      ]
     },
     "metadata": {},
     "output_type": "display_data"
    },
    {
     "data": {
      "text/plain": [
       "<IPython.core.display.HTML object>"
      ],
      "text/html": [
       "Tracking run with wandb version 0.13.5"
      ]
     },
     "metadata": {},
     "output_type": "display_data"
    },
    {
     "data": {
      "text/plain": [
       "<IPython.core.display.HTML object>"
      ],
      "text/html": [
       "Run data is saved locally in <code>/home/oliver/PycharmProjects/NeuralStyle/wandb/run-20241106_153215-2bzqrctd</code>"
      ]
     },
     "metadata": {},
     "output_type": "display_data"
    },
    {
     "data": {
      "text/plain": [
       "<IPython.core.display.HTML object>"
      ],
      "text/html": [
       "Syncing run <strong><a href=\"https://wandb.ai/oliverweissl/NeuralStyleSearch/runs/2bzqrctd\" target=\"_blank\">hopeful-energy-160</a></strong> to <a href=\"https://wandb.ai/oliverweissl/NeuralStyleSearch\" target=\"_blank\">Weights & Biases</a> (<a href=\"https://wandb.me/run\" target=\"_blank\">docs</a>)<br/>"
      ]
     },
     "metadata": {},
     "output_type": "display_data"
    },
    {
     "name": "stdout",
     "output_type": "stream",
     "text": [
      "[2024-11-06 15:32:24,345 - root - INFO] Generate seed(s) for class: 9.\n",
      "[2024-11-06 15:32:24,359 - root - INFO] \tFound 1 valid seed(s) after: 1 iterations.\n",
      "[2024-11-06 15:32:24,364 - root - INFO] Running Search-Algorithm for 20 generations.\n"
     ]
    },
    {
     "name": "stderr",
     "output_type": "stream",
     "text": [
      "/home/oliver/PycharmProjects/NeuralStyle/src/objective_functions/_ssim.py:40: RuntimeWarning: invalid value encountered in sqrt\n",
      "  d = np.sqrt(2-s1-s2)\n"
     ]
    },
    {
     "name": "stdout",
     "output_type": "stream",
     "text": [
      "[2024-11-06 15:32:26,733 - root - INFO] \tBest candidate has a fitness of: 0.33242716825383245\n",
      "[2024-11-06 15:32:26,736 - root - INFO] \tReset learner!\n"
     ]
    },
    {
     "data": {
      "text/plain": [
       "<IPython.core.display.HTML object>"
      ],
      "text/html": [
       "Finishing last run (ID:2bzqrctd) before initializing another..."
      ]
     },
     "metadata": {},
     "output_type": "display_data"
    },
    {
     "data": {
      "text/plain": [
       "<IPython.core.display.HTML object>"
      ],
      "text/html": [
       "Waiting for W&B process to finish... <strong style=\"color:green\">(success).</strong>"
      ]
     },
     "metadata": {},
     "output_type": "display_data"
    },
    {
     "data": {
      "text/plain": [
       "<IPython.core.display.HTML object>"
      ],
      "text/html": [
       "<style>\n",
       "    table.wandb td:nth-child(1) { padding: 0 10px; text-align: left ; width: auto;} td:nth-child(2) {text-align: left ; width: 100%}\n",
       "    .wandb-row { display: flex; flex-direction: row; flex-wrap: wrap; justify-content: flex-start; width: 100% }\n",
       "    .wandb-col { display: flex; flex-direction: column; flex-basis: 100%; flex: 1; padding: 10px; }\n",
       "    </style>\n",
       "<div class=\"wandb-row\"><div class=\"wandb-col\"><h3>Run history:</h3><br/><table class=\"wandb\"><tr><td>max_fitness</td><td>▁██▂██▂██████ ██████</td></tr><tr><td>mean_fitness</td><td>▁▂▂▁▃▆▁▅▃▄▄▆█ ▅▄▇▃▃▅</td></tr><tr><td>min_fitness</td><td>█▇▇▅▆▇▅▄▄▃▃▂▃ ▄▅▄▁▁▁</td></tr><tr><td>std_fitness</td><td>▁▄▄▂▄▇▂▇▅▅▅▇█ ▆▅▇▄▄▆</td></tr></table><br/></div><div class=\"wandb-col\"><h3>Run summary:</h3><br/><table class=\"wandb\"><tr><td>best_fitness</td><td>0.33243</td></tr><tr><td>max_fitness</td><td>1.0</td></tr><tr><td>mean_fitness</td><td>0.47149</td></tr><tr><td>min_fitness</td><td>0.33243</td></tr><tr><td>std_fitness</td><td>0.18258</td></tr></table><br/></div></div>"
      ]
     },
     "metadata": {},
     "output_type": "display_data"
    },
    {
     "data": {
      "text/plain": [
       "<IPython.core.display.HTML object>"
      ],
      "text/html": [
       "Synced <strong style=\"color:#cdcd00\">hopeful-energy-160</strong>: <a href=\"https://wandb.ai/oliverweissl/NeuralStyleSearch/runs/2bzqrctd\" target=\"_blank\">https://wandb.ai/oliverweissl/NeuralStyleSearch/runs/2bzqrctd</a><br/>Synced 6 W&B file(s), 2 media file(s), 0 artifact file(s) and 0 other file(s)"
      ]
     },
     "metadata": {},
     "output_type": "display_data"
    },
    {
     "data": {
      "text/plain": [
       "<IPython.core.display.HTML object>"
      ],
      "text/html": [
       "Find logs at: <code>./wandb/run-20241106_153215-2bzqrctd/logs</code>"
      ]
     },
     "metadata": {},
     "output_type": "display_data"
    },
    {
     "data": {
      "text/plain": [
       "<IPython.core.display.HTML object>"
      ],
      "text/html": [
       "Successfully finished last run (ID:2bzqrctd). Initializing new run:<br/>"
      ]
     },
     "metadata": {},
     "output_type": "display_data"
    },
    {
     "data": {
      "text/plain": [
       "<IPython.core.display.HTML object>"
      ],
      "text/html": [
       "wandb version 0.18.5 is available!  To upgrade, please run:\n",
       " $ pip install wandb --upgrade"
      ]
     },
     "metadata": {},
     "output_type": "display_data"
    },
    {
     "data": {
      "text/plain": [
       "<IPython.core.display.HTML object>"
      ],
      "text/html": [
       "Tracking run with wandb version 0.13.5"
      ]
     },
     "metadata": {},
     "output_type": "display_data"
    },
    {
     "data": {
      "text/plain": [
       "<IPython.core.display.HTML object>"
      ],
      "text/html": [
       "Run data is saved locally in <code>/home/oliver/PycharmProjects/NeuralStyle/wandb/run-20241106_153226-zkhxs720</code>"
      ]
     },
     "metadata": {},
     "output_type": "display_data"
    },
    {
     "data": {
      "text/plain": [
       "<IPython.core.display.HTML object>"
      ],
      "text/html": [
       "Syncing run <strong><a href=\"https://wandb.ai/oliverweissl/NeuralStyleSearch/runs/zkhxs720\" target=\"_blank\">rare-violet-161</a></strong> to <a href=\"https://wandb.ai/oliverweissl/NeuralStyleSearch\" target=\"_blank\">Weights & Biases</a> (<a href=\"https://wandb.me/run\" target=\"_blank\">docs</a>)<br/>"
      ]
     },
     "metadata": {},
     "output_type": "display_data"
    },
    {
     "name": "stdout",
     "output_type": "stream",
     "text": [
      "[2024-11-06 15:32:34,982 - root - INFO] Generate seed(s) for class: 9.\n",
      "[2024-11-06 15:32:34,995 - root - INFO] \tFound 1 valid seed(s) after: 1 iterations.\n",
      "[2024-11-06 15:32:34,997 - root - INFO] Running Search-Algorithm for 20 generations.\n",
      "[2024-11-06 15:32:37,276 - root - INFO] \tBest candidate has a fitness of: 0.22918155229466497\n",
      "[2024-11-06 15:32:37,279 - root - INFO] \tReset learner!\n"
     ]
    },
    {
     "data": {
      "text/plain": [
       "<IPython.core.display.HTML object>"
      ],
      "text/html": [
       "Finishing last run (ID:zkhxs720) before initializing another..."
      ]
     },
     "metadata": {},
     "output_type": "display_data"
    },
    {
     "data": {
      "text/plain": [
       "<IPython.core.display.HTML object>"
      ],
      "text/html": [
       "Waiting for W&B process to finish... <strong style=\"color:green\">(success).</strong>"
      ]
     },
     "metadata": {},
     "output_type": "display_data"
    },
    {
     "data": {
      "text/plain": [
       "<IPython.core.display.HTML object>"
      ],
      "text/html": [
       "<style>\n",
       "    table.wandb td:nth-child(1) { padding: 0 10px; text-align: left ; width: auto;} td:nth-child(2) {text-align: left ; width: 100%}\n",
       "    .wandb-row { display: flex; flex-direction: row; flex-wrap: wrap; justify-content: flex-start; width: 100% }\n",
       "    .wandb-col { display: flex; flex-direction: column; flex-basis: 100%; flex: 1; padding: 10px; }\n",
       "    </style>\n",
       "<div class=\"wandb-row\"><div class=\"wandb-col\"><h3>Run history:</h3><br/><table class=\"wandb\"><tr><td>max_fitness</td><td>▂▃▁▁▃▅▆▄▂▁█▂▇▁▂▆▆▇▁▂</td></tr><tr><td>mean_fitness</td><td>█▇▆▅▇▆▅▆▆▅▆▅▅▄▃▄▂▃▁▁</td></tr><tr><td>min_fitness</td><td>█▇▃▃▅▃▃▃▃▃▂▂▂▁▁▁▃▃▂▂</td></tr><tr><td>std_fitness</td><td>▁▂▄▆▄▆▆▅▅▅▆▇█▆▇█▇▆▆▇</td></tr></table><br/></div><div class=\"wandb-col\"><h3>Run summary:</h3><br/><table class=\"wandb\"><tr><td>best_fitness</td><td>0.22918</td></tr><tr><td>max_fitness</td><td>0.33365</td></tr><tr><td>mean_fitness</td><td>0.27573</td></tr><tr><td>min_fitness</td><td>0.23532</td></tr><tr><td>std_fitness</td><td>0.02967</td></tr></table><br/></div></div>"
      ]
     },
     "metadata": {},
     "output_type": "display_data"
    },
    {
     "data": {
      "text/plain": [
       "<IPython.core.display.HTML object>"
      ],
      "text/html": [
       "Synced <strong style=\"color:#cdcd00\">rare-violet-161</strong>: <a href=\"https://wandb.ai/oliverweissl/NeuralStyleSearch/runs/zkhxs720\" target=\"_blank\">https://wandb.ai/oliverweissl/NeuralStyleSearch/runs/zkhxs720</a><br/>Synced 6 W&B file(s), 2 media file(s), 0 artifact file(s) and 0 other file(s)"
      ]
     },
     "metadata": {},
     "output_type": "display_data"
    },
    {
     "data": {
      "text/plain": [
       "<IPython.core.display.HTML object>"
      ],
      "text/html": [
       "Find logs at: <code>./wandb/run-20241106_153226-zkhxs720/logs</code>"
      ]
     },
     "metadata": {},
     "output_type": "display_data"
    },
    {
     "data": {
      "text/plain": [
       "<IPython.core.display.HTML object>"
      ],
      "text/html": [
       "Successfully finished last run (ID:zkhxs720). Initializing new run:<br/>"
      ]
     },
     "metadata": {},
     "output_type": "display_data"
    },
    {
     "data": {
      "text/plain": [
       "<IPython.core.display.HTML object>"
      ],
      "text/html": [
       "wandb version 0.18.5 is available!  To upgrade, please run:\n",
       " $ pip install wandb --upgrade"
      ]
     },
     "metadata": {},
     "output_type": "display_data"
    },
    {
     "data": {
      "text/plain": [
       "<IPython.core.display.HTML object>"
      ],
      "text/html": [
       "Tracking run with wandb version 0.13.5"
      ]
     },
     "metadata": {},
     "output_type": "display_data"
    },
    {
     "data": {
      "text/plain": [
       "<IPython.core.display.HTML object>"
      ],
      "text/html": [
       "Run data is saved locally in <code>/home/oliver/PycharmProjects/NeuralStyle/wandb/run-20241106_153237-nimjtpep</code>"
      ]
     },
     "metadata": {},
     "output_type": "display_data"
    },
    {
     "data": {
      "text/plain": [
       "<IPython.core.display.HTML object>"
      ],
      "text/html": [
       "Syncing run <strong><a href=\"https://wandb.ai/oliverweissl/NeuralStyleSearch/runs/nimjtpep\" target=\"_blank\">fluent-dragon-162</a></strong> to <a href=\"https://wandb.ai/oliverweissl/NeuralStyleSearch\" target=\"_blank\">Weights & Biases</a> (<a href=\"https://wandb.me/run\" target=\"_blank\">docs</a>)<br/>"
      ]
     },
     "metadata": {},
     "output_type": "display_data"
    },
    {
     "name": "stdout",
     "output_type": "stream",
     "text": [
      "[2024-11-06 15:32:45,239 - root - INFO] Generate seed(s) for class: 9.\n",
      "[2024-11-06 15:32:45,254 - root - INFO] \tFound 1 valid seed(s) after: 1 iterations.\n",
      "[2024-11-06 15:32:45,258 - root - INFO] Running Search-Algorithm for 20 generations.\n"
     ]
    },
    {
     "name": "stderr",
     "output_type": "stream",
     "text": [
      "/home/oliver/PycharmProjects/NeuralStyle/src/objective_functions/_ssim.py:40: RuntimeWarning: invalid value encountered in sqrt\n",
      "  d = np.sqrt(2-s1-s2)\n"
     ]
    },
    {
     "name": "stdout",
     "output_type": "stream",
     "text": [
      "[2024-11-06 15:32:47,650 - root - INFO] \tBest candidate has a fitness of: 0.2747509721555048\n",
      "[2024-11-06 15:32:47,652 - root - INFO] \tReset learner!\n"
     ]
    },
    {
     "data": {
      "text/plain": [
       "<IPython.core.display.HTML object>"
      ],
      "text/html": [
       "Finishing last run (ID:nimjtpep) before initializing another..."
      ]
     },
     "metadata": {},
     "output_type": "display_data"
    },
    {
     "data": {
      "text/plain": [
       "<IPython.core.display.HTML object>"
      ],
      "text/html": [
       "Waiting for W&B process to finish... <strong style=\"color:green\">(success).</strong>"
      ]
     },
     "metadata": {},
     "output_type": "display_data"
    },
    {
     "data": {
      "text/plain": [
       "<IPython.core.display.HTML object>"
      ],
      "text/html": [
       "<style>\n",
       "    table.wandb td:nth-child(1) { padding: 0 10px; text-align: left ; width: auto;} td:nth-child(2) {text-align: left ; width: 100%}\n",
       "    .wandb-row { display: flex; flex-direction: row; flex-wrap: wrap; justify-content: flex-start; width: 100% }\n",
       "    .wandb-col { display: flex; flex-direction: column; flex-basis: 100%; flex: 1; padding: 10px; }\n",
       "    </style>\n",
       "<div class=\"wandb-row\"><div class=\"wandb-col\"><h3>Run history:</h3><br/><table class=\"wandb\"><tr><td>max_fitness</td><td>▂▄▃▁▃▂▂▄▃▄▅▄█▆▇▆▇▆▆▆</td></tr><tr><td>mean_fitness</td><td>▄▂▂▁▁▂▂▁▁▂▃▄▆▆▇▇██▇▆</td></tr><tr><td>min_fitness</td><td>▅▄▄▃▁▂▃▁▁▂▃▅▄▅█▆▅▄▅▇</td></tr><tr><td>std_fitness</td><td>▁▂▃▃▂▂▂▄▅▅▆▅█▅▆▆█▄▄▄</td></tr></table><br/></div><div class=\"wandb-col\"><h3>Run summary:</h3><br/><table class=\"wandb\"><tr><td>best_fitness</td><td>0.27475</td></tr><tr><td>max_fitness</td><td>0.42986</td></tr><tr><td>mean_fitness</td><td>0.36602</td></tr><tr><td>min_fitness</td><td>0.30781</td></tr><tr><td>std_fitness</td><td>0.03301</td></tr></table><br/></div></div>"
      ]
     },
     "metadata": {},
     "output_type": "display_data"
    },
    {
     "data": {
      "text/plain": [
       "<IPython.core.display.HTML object>"
      ],
      "text/html": [
       "Synced <strong style=\"color:#cdcd00\">fluent-dragon-162</strong>: <a href=\"https://wandb.ai/oliverweissl/NeuralStyleSearch/runs/nimjtpep\" target=\"_blank\">https://wandb.ai/oliverweissl/NeuralStyleSearch/runs/nimjtpep</a><br/>Synced 6 W&B file(s), 2 media file(s), 0 artifact file(s) and 0 other file(s)"
      ]
     },
     "metadata": {},
     "output_type": "display_data"
    },
    {
     "data": {
      "text/plain": [
       "<IPython.core.display.HTML object>"
      ],
      "text/html": [
       "Find logs at: <code>./wandb/run-20241106_153237-nimjtpep/logs</code>"
      ]
     },
     "metadata": {},
     "output_type": "display_data"
    },
    {
     "data": {
      "text/plain": [
       "<IPython.core.display.HTML object>"
      ],
      "text/html": [
       "Successfully finished last run (ID:nimjtpep). Initializing new run:<br/>"
      ]
     },
     "metadata": {},
     "output_type": "display_data"
    },
    {
     "data": {
      "text/plain": [
       "<IPython.core.display.HTML object>"
      ],
      "text/html": [
       "wandb version 0.18.5 is available!  To upgrade, please run:\n",
       " $ pip install wandb --upgrade"
      ]
     },
     "metadata": {},
     "output_type": "display_data"
    },
    {
     "data": {
      "text/plain": [
       "<IPython.core.display.HTML object>"
      ],
      "text/html": [
       "Tracking run with wandb version 0.13.5"
      ]
     },
     "metadata": {},
     "output_type": "display_data"
    },
    {
     "data": {
      "text/plain": [
       "<IPython.core.display.HTML object>"
      ],
      "text/html": [
       "Run data is saved locally in <code>/home/oliver/PycharmProjects/NeuralStyle/wandb/run-20241106_153247-w3yn5shc</code>"
      ]
     },
     "metadata": {},
     "output_type": "display_data"
    },
    {
     "data": {
      "text/plain": [
       "<IPython.core.display.HTML object>"
      ],
      "text/html": [
       "Syncing run <strong><a href=\"https://wandb.ai/oliverweissl/NeuralStyleSearch/runs/w3yn5shc\" target=\"_blank\">playful-dragon-163</a></strong> to <a href=\"https://wandb.ai/oliverweissl/NeuralStyleSearch\" target=\"_blank\">Weights & Biases</a> (<a href=\"https://wandb.me/run\" target=\"_blank\">docs</a>)<br/>"
      ]
     },
     "metadata": {},
     "output_type": "display_data"
    },
    {
     "name": "stdout",
     "output_type": "stream",
     "text": [
      "[2024-11-06 15:32:55,879 - root - INFO] Generate seed(s) for class: 9.\n",
      "[2024-11-06 15:32:55,896 - root - INFO] \tFound 1 valid seed(s) after: 1 iterations.\n",
      "[2024-11-06 15:32:55,899 - root - INFO] Running Search-Algorithm for 20 generations.\n"
     ]
    },
    {
     "name": "stderr",
     "output_type": "stream",
     "text": [
      "/home/oliver/PycharmProjects/NeuralStyle/src/objective_functions/_ssim.py:40: RuntimeWarning: invalid value encountered in sqrt\n",
      "  d = np.sqrt(2-s1-s2)\n"
     ]
    },
    {
     "name": "stdout",
     "output_type": "stream",
     "text": [
      "[2024-11-06 15:32:58,256 - root - INFO] \tBest candidate has a fitness of: 0.358408356074267\n",
      "[2024-11-06 15:32:58,267 - root - INFO] \tReset learner!\n"
     ]
    }
   ],
   "execution_count": 7
  },
  {
   "metadata": {
    "ExecuteTime": {
     "end_time": "2024-11-06T14:15:32.997976050Z",
     "start_time": "2024-11-06T11:53:27.443229Z"
    }
   },
   "cell_type": "code",
   "source": "",
   "id": "4e07f7c358071ab1",
   "outputs": [],
   "execution_count": null
  }
 ],
 "metadata": {
  "kernelspec": {
   "display_name": "Python 3",
   "language": "python",
   "name": "python3"
  },
  "language_info": {
   "codemirror_mode": {
    "name": "ipython",
    "version": 2
   },
   "file_extension": ".py",
   "mimetype": "text/x-python",
   "name": "python",
   "nbconvert_exporter": "python",
   "pygments_lexer": "ipython2",
   "version": "2.7.6"
  }
 },
 "nbformat": 4,
 "nbformat_minor": 5
}
