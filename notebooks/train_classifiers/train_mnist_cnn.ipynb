{
 "cells": [
  {
   "metadata": {
    "ExecuteTime": {
     "end_time": "2024-11-20T12:30:26.537796Z",
     "start_time": "2024-11-20T12:30:25.703990Z"
    }
   },
   "cell_type": "code",
   "source": [
    "import torch\n",
    "from torchvision import models as md, datasets, transforms\n",
    "from models import TrainConfig, ClTrainer\n",
    "import wandb"
   ],
   "id": "4506ebe587ab6978",
   "outputs": [],
   "execution_count": 1
  },
  {
   "metadata": {},
   "cell_type": "markdown",
   "source": [
    "## A Training Pipeline\n",
    "This notebook contains a simple training pipeline.<br/>\n",
    "We use wandb to log progress."
   ],
   "id": "62ff1b9620981e64"
  },
  {
   "metadata": {
    "ExecuteTime": {
     "end_time": "2024-11-05T15:21:56.585099Z",
     "start_time": "2024-11-05T15:21:55.702714Z"
    }
   },
   "cell_type": "code",
   "source": "wandb.login()",
   "id": "3e9e1a858a31370a",
   "outputs": [
    {
     "name": "stderr",
     "output_type": "stream",
     "text": [
      "\u001B[34m\u001B[1mwandb\u001B[0m: Currently logged in as: \u001B[33moliverweissl\u001B[0m. Use \u001B[1m`wandb login --relogin`\u001B[0m to force relogin\n"
     ]
    },
    {
     "data": {
      "text/plain": [
       "True"
      ]
     },
     "execution_count": 2,
     "metadata": {},
     "output_type": "execute_result"
    }
   ],
   "execution_count": 2
  },
  {
   "metadata": {},
   "cell_type": "markdown",
   "source": [
    "###  Create Datasets\n",
    "Please note that most models work on RGB images!\n",
    "\n",
    "THIS IS WIP"
   ],
   "id": "3ad974ab415ef1df"
  },
  {
   "metadata": {},
   "cell_type": "code",
   "outputs": [],
   "execution_count": null,
   "source": "",
   "id": "52beb186a5c3175"
  }
 ],
 "metadata": {
  "kernelspec": {
   "display_name": "Python 3",
   "language": "python",
   "name": "python3"
  },
  "language_info": {
   "codemirror_mode": {
    "name": "ipython",
    "version": 2
   },
   "file_extension": ".py",
   "mimetype": "text/x-python",
   "name": "python",
   "nbconvert_exporter": "python",
   "pygments_lexer": "ipython2",
   "version": "2.7.6"
  }
 },
 "nbformat": 4,
 "nbformat_minor": 5
}
