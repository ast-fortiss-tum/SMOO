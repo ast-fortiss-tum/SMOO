{
 "cells": [
  {
   "cell_type": "code",
   "id": "initial_id",
   "metadata": {
    "collapsed": true,
    "ExecuteTime": {
     "end_time": "2024-11-05T12:09:19.310946Z",
     "start_time": "2024-11-05T12:09:19.308928Z"
    }
   },
   "source": [
    "from src.style_mixing import StyleMixer, MixCandidate, CandidateList\n",
    "from models import load_stylegan\n",
    "import torch\n",
    "import matplotlib.pyplot as plt"
   ],
   "outputs": [],
   "execution_count": 65
  },
  {
   "metadata": {
    "ExecuteTime": {
     "end_time": "2024-11-05T12:09:20.045454Z",
     "start_time": "2024-11-05T12:09:19.827212Z"
    }
   },
   "cell_type": "code",
   "source": [
    "model_pkl = \"models/sg3_mnist.pkl\"\n",
    "device = torch.device(\"cuda\")\n",
    "model = load_stylegan(model_pkl).to(device)"
   ],
   "id": "7e22cc8d4a30a3da",
   "outputs": [],
   "execution_count": 66
  },
  {
   "metadata": {
    "ExecuteTime": {
     "end_time": "2024-11-05T12:09:21.418427Z",
     "start_time": "2024-11-05T12:09:21.416592Z"
    }
   },
   "cell_type": "code",
   "source": [
    "mixer = StyleMixer(\n",
    "    generator=model,\n",
    "    mix_dims=(1,15),\n",
    "    device=device\n",
    ")"
   ],
   "id": "87d6280b398701c5",
   "outputs": [],
   "execution_count": 67
  },
  {
   "metadata": {
    "ExecuteTime": {
     "end_time": "2024-11-05T12:13:22.708028Z",
     "start_time": "2024-11-05T12:13:22.706080Z"
    }
   },
   "cell_type": "code",
   "source": [
    "c1, c2 = MixCandidate(label=1, is_w0=True), MixCandidate(label=9)\n",
    "candidates = CandidateList(c1, c2)\n",
    "\n",
    "cond = [0]*14\n",
    "smx = [1.6]*14"
   ],
   "id": "713c9c87ffe4554a",
   "outputs": [],
   "execution_count": 74
  },
  {
   "metadata": {
    "ExecuteTime": {
     "end_time": "2024-11-05T12:13:23.330373Z",
     "start_time": "2024-11-05T12:13:23.323416Z"
    }
   },
   "cell_type": "code",
   "source": "img = mixer.mix(candidates, cond, smx)",
   "id": "d062e321aa0df34d",
   "outputs": [],
   "execution_count": 75
  },
  {
   "metadata": {
    "ExecuteTime": {
     "end_time": "2024-11-05T12:13:24.135481Z",
     "start_time": "2024-11-05T12:13:24.097776Z"
    }
   },
   "cell_type": "code",
   "source": "plt.imshow(img.cpu().numpy().transpose(1,2,0))",
   "id": "8361beec70ee8580",
   "outputs": [
    {
     "data": {
      "text/plain": [
       "<matplotlib.image.AxesImage at 0x74c885f07d00>"
      ]
     },
     "execution_count": 76,
     "metadata": {},
     "output_type": "execute_result"
    },
    {
     "data": {
      "text/plain": [
       "<Figure size 640x480 with 1 Axes>"
      ],
      "image/png": "[encoded data removed]"
     },
     "metadata": {},
     "output_type": "display_data"
    }
   ],
   "execution_count": 76
  },
  {
   "metadata": {},
   "cell_type": "code",
   "outputs": [],
   "execution_count": null,
   "source": "",
   "id": "83f6f40a85643eb1"
  }
 ],
 "metadata": {
  "kernelspec": {
   "display_name": "Python 3",
   "language": "python",
   "name": "python3"
  },
  "language_info": {
   "codemirror_mode": {
    "name": "ipython",
    "version": 2
   },
   "file_extension": ".py",
   "mimetype": "text/x-python",
   "name": "python",
   "nbconvert_exporter": "python",
   "pygments_lexer": "ipython2",
   "version": "2.7.6"
  }
 },
 "nbformat": 4,
 "nbformat_minor": 5
}
