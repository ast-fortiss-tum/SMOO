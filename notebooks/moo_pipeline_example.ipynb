{
 "cells": [
  {
   "metadata": {
    "ExecuteTime": {
     "end_time": "2024-11-20T15:53:26.626489Z",
     "start_time": "2024-11-20T15:53:25.456747Z"
    }
   },
   "cell_type": "code",
   "source": [
    "from src import NeuralTester, ExperimentConfig\n",
    "import torch\n",
    "from src.learner import PymooLearner\n",
    "from src.learner.auxiliary_components import PYMOO_AGE_MOEA_DEFAULT_PARAMS\n",
    "from src.criteria.image_comparison import CFrobeniusDistance\n",
    "from src.criteria.objective_functions import NaiveConfidenceBalance\n",
    "from models import load_stylegan\n",
    "import wandb\n",
    "from _enable_logging import enable_logging"
   ],
   "id": "2f6e14a38a8be66e",
   "outputs": [],
   "execution_count": 1
  },
  {
   "metadata": {},
   "cell_type": "markdown",
   "source": [
    "## Example usage of the Neural Tester using a MOO\n",
    "We use wandb to log progress in various steps!"
   ],
   "id": "15c3218330717165"
  },
  {
   "metadata": {
    "ExecuteTime": {
     "end_time": "2024-11-20T15:53:31.201278Z",
     "start_time": "2024-11-20T15:53:30.300299Z"
    }
   },
   "cell_type": "code",
   "source": [
    "wandb.login()\n",
    "enable_logging()  # Setup logging to be able to view logging outputs in notebooks."
   ],
   "id": "6cb9e87dc8cdfd4d",
   "outputs": [
    {
     "name": "stderr",
     "output_type": "stream",
     "text": [
      "\u001b[34m\u001b[1mwandb\u001b[0m: Currently logged in as: \u001b[33moliverweissl\u001b[0m. Use \u001b[1m`wandb login --relogin`\u001b[0m to force relogin\n"
     ]
    }
   ],
   "execution_count": 2
  },
  {
   "metadata": {
    "ExecuteTime": {
     "end_time": "2024-11-20T15:53:32.266168Z",
     "start_time": "2024-11-20T15:53:31.205565Z"
    }
   },
   "cell_type": "code",
   "source": [
    "# Define the configurations for our experiments.\n",
    "conf = ExperimentConfig(\n",
    "    samples_per_class=2,\n",
    "    generations=150,\n",
    "    mix_dim_range=(0, 8),\n",
    "    predictor=torch.load(\"../models/wrn_mnist.pkl\"),  # The System under test (SUT).\n",
    "    generator=load_stylegan(\"../models/sg2_mnist.pkl\"),  # The generator network.\n",
    "    metrics=[CFrobeniusDistance(), NaiveConfidenceBalance()],\n",
    "    classes=10,\n",
    ")"
   ],
   "id": "29f9d41d3c4aff2b",
   "outputs": [],
   "execution_count": 3
  },
  {
   "metadata": {
    "ExecuteTime": {
     "end_time": "2024-11-20T15:53:32.274899Z",
     "start_time": "2024-11-20T15:53:32.270425Z"
    }
   },
   "cell_type": "code",
   "source": [
    "learner_params = PYMOO_AGE_MOEA_DEFAULT_PARAMS\n",
    "learner_params[\"n_var\"] = conf.genome_size\n",
    "learner = PymooLearner(**learner_params)  # The learner for search based optimization of candidates."
   ],
   "id": "54f7d469be815d45",
   "outputs": [],
   "execution_count": 4
  },
  {
   "metadata": {
    "ExecuteTime": {
     "end_time": "2024-11-20T15:53:32.324022Z",
     "start_time": "2024-11-20T15:53:32.312802Z"
    }
   },
   "cell_type": "code",
   "source": [
    "# Here we initialize the Tester object.\n",
    "tester = NeuralTester(\n",
    "    config=conf,\n",
    "    learner=learner,\n",
    "    device=torch.device(\"cuda\"),\n",
    ")"
   ],
   "id": "27e62cf8a8025898",
   "outputs": [],
   "execution_count": 5
  },
  {
   "metadata": {
    "jupyter": {
     "is_executing": true
    },
    "ExecuteTime": {
     "start_time": "2024-11-20T15:53:32.356577Z"
    }
   },
   "cell_type": "code",
   "source": [
    "# We start the testing procedure.\n",
    "tester.test()"
   ],
   "id": "e9c0a9b67791a366",
   "outputs": [
    {
     "name": "stdout",
     "output_type": "stream",
     "text": [
      "[2024-11-20 16:53:32,357 - root - INFO] Start testing. Number of classes: 10, iterations per class: 2, total iterations: 20\n",
      "\n"
     ]
    },
    {
     "data": {
      "text/plain": [
       "<IPython.core.display.HTML object>"
      ],
      "text/html": [
       "wandb version 0.18.7 is available!  To upgrade, please run:\n",
       " $ pip install wandb --upgrade"
      ]
     },
     "metadata": {},
     "output_type": "display_data"
    },
    {
     "data": {
      "text/plain": [
       "<IPython.core.display.HTML object>"
      ],
      "text/html": [
       "Tracking run with wandb version 0.13.5"
      ]
     },
     "metadata": {},
     "output_type": "display_data"
    },
    {
     "data": {
      "text/plain": [
       "<IPython.core.display.HTML object>"
      ],
      "text/html": [
       "Run data is saved locally in <code>/home/oliver/PycharmProjects/NeuralStyle/notebooks/wandb/run-20241120_165332-7l5u145d</code>"
      ]
     },
     "metadata": {},
     "output_type": "display_data"
    },
    {
     "data": {
      "text/plain": [
       "<IPython.core.display.HTML object>"
      ],
      "text/html": [
       "Syncing run <strong><a href=\"https://wandb.ai/oliverweissl/NeuralStyleSearch/runs/7l5u145d\" target=\"_blank\">true-cloud-927</a></strong> to <a href=\"https://wandb.ai/oliverweissl/NeuralStyleSearch\" target=\"_blank\">Weights & Biases</a> (<a href=\"https://wandb.me/run\" target=\"_blank\">docs</a>)<br/>"
      ]
     },
     "metadata": {},
     "output_type": "display_data"
    },
    {
     "name": "stdout",
     "output_type": "stream",
     "text": [
      "[2024-11-20 16:53:33,832 - root - INFO] Generate seed(s) for class: 0.\n",
      "Setting up PyTorch plugin \"bias_act_plugin\"... Done.\n",
      "Setting up PyTorch plugin \"upfirdn2d_plugin\"... "
     ]
    }
   ],
   "execution_count": null
  },
  {
   "metadata": {},
   "cell_type": "code",
   "source": "",
   "id": "aca1f912a6100128",
   "outputs": [],
   "execution_count": null
  }
 ],
 "metadata": {
  "kernelspec": {
   "display_name": "Python 3",
   "language": "python",
   "name": "python3"
  },
  "language_info": {
   "codemirror_mode": {
    "name": "ipython",
    "version": 2
   },
   "file_extension": ".py",
   "mimetype": "text/x-python",
   "name": "python",
   "nbconvert_exporter": "python",
   "pygments_lexer": "ipython2",
   "version": "2.7.6"
  }
 },
 "nbformat": 4,
 "nbformat_minor": 5
}
