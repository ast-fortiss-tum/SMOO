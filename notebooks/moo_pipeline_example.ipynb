{
 "cells": [
  {
   "metadata": {
    "ExecuteTime": {
     "end_time": "2024-11-21T15:33:04.693444Z",
     "start_time": "2024-11-21T15:33:03.813802Z"
    }
   },
   "cell_type": "code",
   "source": [
    "from src import NeuralTester, ExperimentConfig\n",
    "import torch\n",
    "from src.learner import PymooLearner\n",
    "from src.learner.auxiliary_components import PYMOO_AGE_MOEA_DEFAULT_PARAMS\n",
    "from src.criteria.image_comparison import CFrobeniusDistance\n",
    "from src.criteria.objective_functions import NaiveConfidenceBalance, DynamicConfidenceBalance\n",
    "from models import load_stylegan\n",
    "import wandb\n",
    "from _enable_logging import enable_logging"
   ],
   "id": "2f6e14a38a8be66e",
   "outputs": [],
   "execution_count": 1
  },
  {
   "metadata": {},
   "cell_type": "markdown",
   "source": [
    "## Example usage of the Neural Tester using a MOO\n",
    "We use wandb to log progress in various steps!"
   ],
   "id": "15c3218330717165"
  },
  {
   "metadata": {
    "ExecuteTime": {
     "end_time": "2024-11-21T15:33:05.708536Z",
     "start_time": "2024-11-21T15:33:04.695670Z"
    }
   },
   "cell_type": "code",
   "source": [
    "wandb.login()\n",
    "enable_logging()  # Setup logging to be able to view logging outputs in notebooks."
   ],
   "id": "6cb9e87dc8cdfd4d",
   "outputs": [
    {
     "name": "stderr",
     "output_type": "stream",
     "text": [
      "\u001b[34m\u001b[1mwandb\u001b[0m: Currently logged in as: \u001b[33moliverweissl\u001b[0m. Use \u001b[1m`wandb login --relogin`\u001b[0m to force relogin\n"
     ]
    }
   ],
   "execution_count": 2
  },
  {
   "metadata": {
    "ExecuteTime": {
     "end_time": "2024-11-21T15:33:06.879430Z",
     "start_time": "2024-11-21T15:33:05.737192Z"
    }
   },
   "cell_type": "code",
   "source": [
    "# Define the configurations for our experiments.\n",
    "conf = ExperimentConfig(\n",
    "    samples_per_class=2,\n",
    "    generations=150,\n",
    "    mix_dim_range=(0, 8),\n",
    "    predictor=torch.load(\"../models/wrn_mnist.pkl\"),  # The System under test (SUT).\n",
    "    generator=load_stylegan(\"../models/sg2_mnist.pkl\"),  # The generator network.\n",
    "    metrics=[CFrobeniusDistance(), DynamicConfidenceBalance()],\n",
    "    classes=10,\n",
    ")"
   ],
   "id": "29f9d41d3c4aff2b",
   "outputs": [],
   "execution_count": 3
  },
  {
   "metadata": {
    "ExecuteTime": {
     "end_time": "2024-11-21T15:33:06.891797Z",
     "start_time": "2024-11-21T15:33:06.885280Z"
    }
   },
   "cell_type": "code",
   "source": [
    "learner_params = PYMOO_AGE_MOEA_DEFAULT_PARAMS\n",
    "learner_params[\"n_var\"] = conf.genome_size\n",
    "learner = PymooLearner(**learner_params)  # The learner for search based optimization of candidates."
   ],
   "id": "54f7d469be815d45",
   "outputs": [],
   "execution_count": 4
  },
  {
   "metadata": {
    "ExecuteTime": {
     "end_time": "2024-11-21T15:33:06.949252Z",
     "start_time": "2024-11-21T15:33:06.927252Z"
    }
   },
   "cell_type": "code",
   "source": [
    "# Here we initialize the Tester object.\n",
    "tester = NeuralTester(\n",
    "    config=conf,\n",
    "    learner=learner,\n",
    "    device=torch.device(\"cuda\"),\n",
    ")"
   ],
   "id": "27e62cf8a8025898",
   "outputs": [],
   "execution_count": 5
  },
  {
   "metadata": {
    "jupyter": {
     "is_executing": true
    },
    "ExecuteTime": {
     "start_time": "2024-11-21T15:33:06.971866Z"
    }
   },
   "cell_type": "code",
   "source": [
    "# We start the testing procedure.\n",
    "tester.test()"
   ],
   "id": "e9c0a9b67791a366",
   "outputs": [
    {
     "name": "stdout",
     "output_type": "stream",
     "text": [
      "[2024-11-21 16:33:06,972 - root - INFO] Start testing. Number of classes: 10, iterations per class: 2, total iterations: 20\n",
      "\n"
     ]
    },
    {
     "data": {
      "text/plain": [
       "<IPython.core.display.HTML object>"
      ],
      "text/html": [
       "wandb version 0.18.7 is available!  To upgrade, please run:\n",
       " $ pip install wandb --upgrade"
      ]
     },
     "metadata": {},
     "output_type": "display_data"
    },
    {
     "data": {
      "text/plain": [
       "<IPython.core.display.HTML object>"
      ],
      "text/html": [
       "Tracking run with wandb version 0.13.5"
      ]
     },
     "metadata": {},
     "output_type": "display_data"
    },
    {
     "data": {
      "text/plain": [
       "<IPython.core.display.HTML object>"
      ],
      "text/html": [
       "Run data is saved locally in <code>/home/oliver/PycharmProjects/NeuralStyle/notebooks/wandb/run-20241121_163306-ozn971ve</code>"
      ]
     },
     "metadata": {},
     "output_type": "display_data"
    },
    {
     "data": {
      "text/plain": [
       "<IPython.core.display.HTML object>"
      ],
      "text/html": [
       "Syncing run <strong><a href=\"https://wandb.ai/oliverweissl/NeuralStyleSearch/runs/ozn971ve\" target=\"_blank\">volcanic-brook-971</a></strong> to <a href=\"https://wandb.ai/oliverweissl/NeuralStyleSearch\" target=\"_blank\">Weights & Biases</a> (<a href=\"https://wandb.me/run\" target=\"_blank\">docs</a>)<br/>"
      ]
     },
     "metadata": {},
     "output_type": "display_data"
    },
    {
     "name": "stdout",
     "output_type": "stream",
     "text": [
      "[2024-11-21 16:33:08,521 - root - INFO] Generate seed(s) for class: 0.\n",
      "Setting up PyTorch plugin \"bias_act_plugin\"... Done.\n",
      "Setting up PyTorch plugin \"upfirdn2d_plugin\"... Done.\n",
      "[2024-11-21 16:33:09,271 - root - INFO] \tFound 1 valid seed(s) after: 1 iterations.\n",
      "[2024-11-21 16:33:09,272 - root - INFO] Generate seed(s) for class: 6.\n",
      "[2024-11-21 16:33:09,280 - root - INFO] \tFound 1 valid seed(s) after: 1 iterations.\n",
      "[2024-11-21 16:33:09,664 - root - INFO] Running Search-Algorithm for 150 generations.\n"
     ]
    }
   ],
   "execution_count": null
  }
 ],
 "metadata": {
  "kernelspec": {
   "display_name": "Python 3",
   "language": "python",
   "name": "python3"
  },
  "language_info": {
   "codemirror_mode": {
    "name": "ipython",
    "version": 2
   },
   "file_extension": ".py",
   "mimetype": "text/x-python",
   "name": "python",
   "nbconvert_exporter": "python",
   "pygments_lexer": "ipython2",
   "version": "2.7.6"
  }
 },
 "nbformat": 4,
 "nbformat_minor": 5
}
