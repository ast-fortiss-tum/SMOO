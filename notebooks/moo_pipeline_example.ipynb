{
 "cells": [
  {
   "metadata": {},
   "cell_type": "code",
   "source": [
    "from src import NeuralTester, ExperimentConfig\n",
    "import torch\n",
    "from src.learner import PymooLearner\n",
    "from src.learner.auxiliary_components import PYMOO_NSGA2_DEFAULT_PARAMS\n",
    "from src.objective_functions import uqi, confidence_balance\n",
    "from models import load_stylegan\n",
    "import wandb\n",
    "from _enable_logging import enable_logging"
   ],
   "id": "2f6e14a38a8be66e",
   "outputs": [],
   "execution_count": null
  },
  {
   "metadata": {},
   "cell_type": "markdown",
   "source": [
    "## Example usage of the Neural Tester using a MOO\n",
    "We use wandb to log progress in various steps!"
   ],
   "id": "15c3218330717165"
  },
  {
   "metadata": {},
   "cell_type": "code",
   "source": [
    "wandb.login()\n",
    "enable_logging() # Setup logging to be able to view logging outputs in notebooks."
   ],
   "id": "6cb9e87dc8cdfd4d",
   "outputs": [],
   "execution_count": null
  },
  {
   "metadata": {},
   "cell_type": "code",
   "source": [
    "# Define the configurations for our experiments.\n",
    "conf = ExperimentConfig(\n",
    "    samples_per_class=10,\n",
    "    generations=50,\n",
    "    mix_dim_range=(0, 8),\n",
    "    predictor=torch.load(\"../models/wrn_mnist.pkl\"),  # The System under test (SUT)\n",
    "    generator=load_stylegan(\"../models/sg2_mnist.pkl\"),  # The generator network (a stylegan in this case)\n",
    "    metrics=[uqi, confidence_balance],\n",
    "    classes=10,\n",
    ")"
   ],
   "id": "29f9d41d3c4aff2b",
   "outputs": [],
   "execution_count": null
  },
  {
   "metadata": {},
   "cell_type": "code",
   "source": [
    "learner_params = PYMOO_NSGA2_DEFAULT_PARAMS\n",
    "learner_params[\"n_var\"] = conf.genome_size\n",
    "learner = PymooLearner(**learner_params)  # The learner for search based optimization of candidates."
   ],
   "id": "54f7d469be815d45",
   "outputs": [],
   "execution_count": null
  },
  {
   "metadata": {},
   "cell_type": "code",
   "source": [
    "# Here we initialize the Tester object.\n",
    "tester = NeuralTester(\n",
    "    config=conf,\n",
    "    learner=learner,\n",
    "    device=torch.device(\"cuda\"),\n",
    ")"
   ],
   "id": "27e62cf8a8025898",
   "outputs": [],
   "execution_count": null
  },
  {
   "metadata": {},
   "cell_type": "code",
   "source": [
    "# We start the testing procedure.\n",
    "tester.test()"
   ],
   "id": "e9c0a9b67791a366",
   "outputs": [],
   "execution_count": null
  }
 ],
 "metadata": {
  "kernelspec": {
   "display_name": "Python 3",
   "language": "python",
   "name": "python3"
  },
  "language_info": {
   "codemirror_mode": {
    "name": "ipython",
    "version": 2
   },
   "file_extension": ".py",
   "mimetype": "text/x-python",
   "name": "python",
   "nbconvert_exporter": "python",
   "pygments_lexer": "ipython2",
   "version": "2.7.6"
  }
 },
 "nbformat": 4,
 "nbformat_minor": 5
}
